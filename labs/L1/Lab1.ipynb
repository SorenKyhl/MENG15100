{
  "nbformat": 4,
  "nbformat_minor": 0,
  "metadata": {
    "colab": {
      "provenance": [],
      "toc_visible": true
    },
    "kernelspec": {
      "name": "python3",
      "display_name": "Python 3"
    },
    "language_info": {
      "name": "python"
    }
  },
  "cells": [
    {
      "cell_type": "markdown",
      "source": [
        "# **MENG 15100** Lab 1\n",
        "\n",
        "Welcome to the first lab of MENG 15100: Machine Learning and Artificial Intelligence for Molecular Discovery and Engineering\n",
        "\n",
        "In this lab, you will learn the basics of coding in a **Jupyter Notebook** using **Google Colab** and get an introduction to **Python programming**, one of the most widely used languages in AI development.\n",
        "\n",
        "This lab starts from first principles—**no prior coding experience is required.** For every exercise, you will be provided with baseline Python code, and you will only be asked to make minor edits or adaptations (e.g., change a variable’s value, adjust the number of iterations, or modify a plot’s formatting).\n"
      ],
      "metadata": {
        "id": "PFFF7ciKsJGe"
      }
    },
    {
      "cell_type": "markdown",
      "source": [
        "## Lab Structure and Grading\n",
        "The lab is organized as follows:\n",
        "- **Topics** – Broad units (e.g., *1. Jupyter Notebooks, 2. Introductory Python*).\n",
        "- **Sections** – Subdivisions within each Topic (e.g., *1.2 Editing and Executing Cells*).\n",
        "- **Problems** – Each Section ends with a Problem to be completed in the Jupyter Notebook. Problems are indicated with the ✅ character along with a listing of the number of points available that is indicative of the level of effort required for the solution. Problems may involve:\n",
        "  - Short-answer questions\n",
        "  - Modifications to existing Python code\n",
        "  - Note: Many Problems contain multiple tasks.\n"
      ],
      "metadata": {
        "id": "Oc9LzwhsM1V4"
      }
    },
    {
      "cell_type": "markdown",
      "source": [
        "## Table of Contents\n",
        "### 1. Jupyter Notebook Crash Course\n",
        "\n",
        "&emsp; 1.1 Types of Cells in a Jupyter Notebook <br>\n",
        "&emsp; 1.2 Editing and Executing Cells <br>\n",
        "&emsp; 1.3 Execution order matters! <br>\n",
        "&emsp; 1.4 The Jupyter Kernel <br>\n",
        "\n",
        "### 2. Introduction to Python Programming for AI\n",
        "&emsp; 2.1 Mathematical Operations <br>\n",
        "&emsp; 2.2 Modules; the `math` Module <br>\n",
        "&emsp; 2.3 Variables <br>\n",
        "&emsp; 2.4 Lists <br>\n",
        "&emsp; 2.5 *For* loops. <br>\n",
        "&emsp; 2.6 The `numpy` Module <br>\n",
        "&emsp; 2.7 Logical Comparisons <br>\n",
        "&emsp; 2.8 *If/else* Statements <br>\n",
        "&emsp; 2.9 *While* Loops <br>\n",
        "&emsp; 2.10 Functions <br>\n",
        "&emsp; 2.11 Plotting; the `matplotlib` module <br>\n",
        "&emsp; 2.12 Applications in the Molecular Sciences <br>\n",
        "\n",
        "**TIP:**\n",
        "You can access the interactive Table of Contents from the panel on the far left. Use the 'bullet list' icon to expand it, and click on any section to jump straight there.\n",
        "\n",
        "**Make sure to activate the TOC in the left panel now as it will make navigating this workbook much easier.**\n",
        "\n",
        "<img src=\"https://github.com/andrewlferguson/MENG15100/blob/main/labs/L1/table_of_contents.png?raw=true\" width=\"600\">\n"
      ],
      "metadata": {
        "id": "Re_RyzTpM3qB"
      }
    },
    {
      "cell_type": "markdown",
      "source": [
        "# 1 Jupyter Notebook Crash Course"
      ],
      "metadata": {
        "id": "DBRavPhEswXT"
      }
    },
    {
      "cell_type": "markdown",
      "source": [
        "## 1.1 Types of Cells in a Jupyter Notebook"
      ],
      "metadata": {
        "id": "9HRgmqxpCk2v"
      }
    },
    {
      "cell_type": "markdown",
      "source": [
        "In this course, we’ll work in **Jupyter Notebooks**, an interactive coding environment that combines code, explanations, and results in a single place.\n",
        "\n",
        "A notebook is organized into cells, which come in two main types:\n",
        "\n",
        "- **Text cells** – for explanations, instructions, or documentation (like this one).\n",
        "\n",
        "- **Code cells** – for writing and executing Python code (like the one below).\n",
        "\n",
        "You’ll alternate between reading text cells to understand concepts and using code cells to experiment, test ideas, and solve problems."
      ],
      "metadata": {
        "id": "WfDMuxIBCl_C"
      }
    },
    {
      "cell_type": "code",
      "execution_count": null,
      "metadata": {
        "id": "SaTYLN6XsCFV"
      },
      "outputs": [],
      "source": [
        "# This is a code cell, which contains Python code.\n",
        "\n",
        "# The lines in this cell are all *comments*.\n",
        "# Comments do not run when the cell is executed.\n",
        "# Instead, they are here to help explain the code\n",
        "# or share important notes with the reader.\n",
        "#\n",
        "# In Python, any line starting with the '#' symbol\n",
        "# is treated as a comment and ignored by the computer."
      ]
    },
    {
      "cell_type": "markdown",
      "source": [
        "**Text cells** can be formatted in many ways, including:  \n",
        "\n",
        "- **Bold text**  \n",
        "- *Italic text*  \n",
        "- Bullet point lists  \n",
        "- [Links](https://www.youtube.com/watch?v=dQw4w9WgXcQ)  \n",
        "- …and much more!  \n",
        "\n",
        "The rules for formatting text are called [Markdown](https://www.markdownguide.org/basic-syntax/).  \n",
        "You don’t need to master Markdown for this course, but it’s here for reference.  \n",
        "\n",
        "<br>\n",
        "\n",
        "**Tip:** You can collapse a section by clicking the small **chevron** icon next to any text cell containing a section header. Consider collapsing each sub-section (e.g. *1.1 Types of Cells in a Jupyter Notebook*) after you complete it to track your progress and make navigation easier!\n",
        "\n",
        "<img src=\"https://github.com/andrewlferguson/MENG15100/blob/main/labs/L1/chevron.png?raw=true\" width=\"600\">\n",
        "\n",
        "**Heads up:** Line breaks in Markdown can be tricky at first. Pressing *Enter* in the text editor will **not** create a visible line break when the cell is rendered.\n",
        "To add a visible break, type the characters `<br>`. See [Line break best practices](https://www.markdownguide.org/basic-syntax/#line-break-best-practices) for more details.  \n"
      ],
      "metadata": {
        "id": "Dj-QzIKA0KeO"
      }
    },
    {
      "cell_type": "markdown",
      "source": [
        "## 1.2 Editing and Executing Cells\n",
        "\n"
      ],
      "metadata": {
        "id": "wZlSACkZuQ_H"
      }
    },
    {
      "cell_type": "markdown",
      "source": [
        "To edit the contents of a **text cell**:  \n",
        "- **Double-click** the cell to open the text editor.  \n",
        "- Press **Shift and Return** simultaneously to exit the text editor and render the formatted text.  \n",
        "\n",
        "To edit the contents of a **code cell**:  \n",
        "- **Click** inside the cell to open the code editor.  \n",
        "- Press **Shift and Return** simultaneously to run the code in the cell.  \n"
      ],
      "metadata": {
        "id": "7WM2nULeCh7i"
      }
    },
    {
      "cell_type": "markdown",
      "source": [
        "### ✅ Problem 1: Editing Your First Text Cell [2 points]\n",
        "<a name='problem1'></a>\n",
        "\n",
        "\n",
        "**Task:** What is your name? Edit the text cell below by replacing the placeholder text with your answer.  \n",
        "\n",
        "**Tip:** Double-click the text cell to enter edit mode, type your name, and press **Shift and Return** simultaneously to save your changes and render the formatted text.  "
      ],
      "metadata": {
        "id": "weUSkF_sxSf4"
      }
    },
    {
      "cell_type": "markdown",
      "source": [
        "YOUR ANSWER HERE"
      ],
      "metadata": {
        "id": "QJAPvGH6VF_O"
      }
    },
    {
      "cell_type": "markdown",
      "source": [
        "### ✅ Problem 2: Editing Your First Code Cell [2 points]\n",
        "<a name='problem1'></a>\n",
        "\n",
        "\n",
        "**Task:** Modify the python code below to print out \"Hello World!\".\n",
        "\n",
        "**Tip:** To print text, we use the **`print()`** function:  \n",
        "- A **function** performs a specific task (for example, printing text to the output)  \n",
        "- Functions receive inputs between parentheses:  \n",
        "  `function(input)`  \n",
        "- function inputs are also referred to as **arguments**\n",
        "- For the function `print`, the input/argument is a string of text:  \n",
        "  `print(\"string of text to print out\")`\n",
        "- Strings of text must be enclosed in quotation marks\n",
        "- Later, in section 2.10 we will learn how to write our own functions.\n",
        "- Python includes many **[built-in functions](https://docs.python.org/3/library/functions.html)**, and `print()` is one of the most commonly used.  \n",
        "\n",
        "The `print` function will take a string of text as input and print it to the **output section** of the code cell. When you run a code cell, the output appears **directly below** the cell after execution.\n",
        "\n",
        "**To run the code cell:** click to select the cell, then press **Shift + Return** (or click the “Run” ▶ button in the toolbar).  "
      ],
      "metadata": {
        "id": "CtELfW6Xx8g6"
      }
    },
    {
      "cell_type": "code",
      "source": [
        "# Problem 2: modify the python code below to print \"Hello, World\"\n",
        "print(\"string of text to print out, enclosed by quotation marks\")"
      ],
      "metadata": {
        "id": "zLN0IMHBxjVD"
      },
      "execution_count": null,
      "outputs": []
    },
    {
      "cell_type": "markdown",
      "source": [
        "## 1.3 Execution Order Matters!\n",
        "  "
      ],
      "metadata": {
        "id": "nqphmiEq8iVS"
      }
    },
    {
      "cell_type": "markdown",
      "source": [
        "In Jupyter Notebooks, code cells are usually run from **top to bottom** — but not always!  \n",
        "You can execute cells in **any order**, and this can affect your results.  \n",
        "\n",
        "Key points to remember:  \n",
        "- The output of a cell depends on the **order** in which you run cells, **not** their position in the notebook.  \n",
        "- Unexpected results can happen if you forget the execution order.  \n",
        "- You can keep track of the execution order by looking at the **execution counter** in square brackets to the left of the cell. (e.g. `[1]`)\n",
        "- If you have not yet executed a code cell, the execution counter will be empty (e.g. `[ ]`)\n",
        "\n",
        "<br>\n",
        "\n",
        "**Example:** Let’s create our first **variable** in Python:  \n",
        "- Variables can be **named** (in this case, named `x`).  \n",
        "- Variables are **assigned** a value using the equals sign (`=`).\n",
        "\n",
        "**Tip:** Run the code cell below to create the variable `x`, assign it a value, and see the output of the `print(x)` function.  "
      ],
      "metadata": {
        "id": "9r3lX1jhJWcy"
      }
    },
    {
      "cell_type": "code",
      "source": [
        "# Example code to create a variable named x,\n",
        "# and assign it the value 15100\n",
        "x = 15100\n",
        "\n",
        "# Print the value stored in the variable x\n",
        "print(x)"
      ],
      "metadata": {
        "id": "Yh9YrDEMkmiH"
      },
      "execution_count": null,
      "outputs": []
    },
    {
      "cell_type": "markdown",
      "source": [
        "### ✅ Problem 3: Execution Order [2 points]\n",
        "\n",
        "**Context:** The three code cells below are labeled **A**, **B**, and **C**. Cells A and B assign different values to the variable x, and cell C prints the value stored in x.\n",
        "\n",
        "**Task:** Determine the order in which you need to run the cells so that cell **C** prints the number `42`. Type your answer in the text cell below.\n",
        "\n",
        "For example, if you ran the cells from top to bottom, your answer would be: \"A, B, C\"\n",
        "\n",
        "**Tip:** run the cells below in various orders and look at the output to determine the behavior of the code.\n",
        "\n",
        "**Hint:** In Python, variables can be **overwritten** — if you assign a new value to the same variable name, the old value is replaced.  \n"
      ],
      "metadata": {
        "id": "9kBhoYzAM5f5"
      }
    },
    {
      "cell_type": "markdown",
      "source": [
        "YOUR ANSWER HERE"
      ],
      "metadata": {
        "id": "5QQdjabEH1mL"
      }
    },
    {
      "cell_type": "code",
      "source": [
        "# Cell 'A'\n",
        "\n",
        "# Assign a number to a variable\n",
        "x = 42"
      ],
      "metadata": {
        "id": "xX4M2jda90Fn"
      },
      "execution_count": null,
      "outputs": []
    },
    {
      "cell_type": "code",
      "source": [
        "# Cell 'B'\n",
        "\n",
        "# Assign a string (text) to a variable\n",
        "x = \"the answer to the ultimate question of life, the universe, and everything\""
      ],
      "metadata": {
        "id": "ypo_7cg3-i8M"
      },
      "execution_count": null,
      "outputs": []
    },
    {
      "cell_type": "code",
      "source": [
        "# Cell 'C'\n",
        "\n",
        "# Print the value stored in a variable\n",
        "print(x)"
      ],
      "metadata": {
        "id": "3pB9j4va-l-Z"
      },
      "execution_count": null,
      "outputs": []
    },
    {
      "cell_type": "markdown",
      "source": [
        "**Tip:** When programmers are unsure about what their code is doing, they often start by **printing variables** to check their values. This technique is called **print debugging**, and it’s a powerful way to understand your program’s internal state. Don’t hesitate to use it!  \n",
        "\n",
        "**Heads up:** In Jupyter Notebooks, the value of the **last expression** in a code cell is automatically displayed, even without using `print()`. This means the two examples below are equivalent.  \n"
      ],
      "metadata": {
        "id": "HN6q6M1jH4cM"
      }
    },
    {
      "cell_type": "code",
      "source": [
        "# Explicitly call the print function to display the value of x\n",
        "x = \"MENG 15100\"\n",
        "print(x)"
      ],
      "metadata": {
        "id": "tEX3ANgpIJw-"
      },
      "execution_count": null,
      "outputs": []
    },
    {
      "cell_type": "code",
      "source": [
        "# Or simply place the variable name on the last line of the cell\n",
        "# Jupyter will automatically display its value\n",
        "x = \"MENG 15100\"\n",
        "x"
      ],
      "metadata": {
        "id": "V74Iv853IJuy"
      },
      "execution_count": null,
      "outputs": []
    },
    {
      "cell_type": "markdown",
      "source": [
        "## 1.4 The Jupyter Kernel\n",
        "\n"
      ],
      "metadata": {
        "id": "y7zXxSV1J7A7"
      }
    },
    {
      "cell_type": "markdown",
      "source": [
        "The **kernel** is the “engine” that runs your code.  \n",
        "It keeps track of two important things:  \n",
        "- The **order of execution** (which cells were run, and in what order)  \n",
        "- The **internal state** of all variables in your notebook  \n",
        "\n",
        "### Restarting the Kernel  \n",
        "Restarting the kernel will:  \n",
        "- Clear all variables from memory  \n",
        "- Reset the execution counter to **0**  \n",
        "\n",
        "You should **restart the kernel** when:  \n",
        "- Your variables or notebook are in a confused state (often due to running cells out of order)  \n",
        "- You want a completely fresh start  \n",
        "\n",
        "**How to restart the kernel:**  \n",
        "<img src=\"https://github.com/andrewlferguson/MENG15100/blob/main/labs/L1/restart.png?raw=true\" width=\"400\">\n",
        "\n",
        "<br>\n",
        "\n",
        "### Interrupting the Kernel  \n",
        "Interrupting the kernel will:  \n",
        "- Immediately stop execution of the current code cell  \n",
        "- Keep all variable values and execution history intact  \n",
        "\n",
        "You should **interrupt the kernel** when:  \n",
        "- Your code is stuck in an **infinite loop** or a very long computation  \n",
        "- You want to stop a cell without losing your current variable states  \n",
        "\n",
        "**How to interrupt the kernel:**  \n",
        "\n",
        "\n",
        "<img src=\"https://github.com/andrewlferguson/MENG15100/blob/main/labs/L1/interrupt.png?raw=true\" width=\"400\">\n",
        "\n",
        "<br>\n",
        "\n",
        "**Tip:** A restart is like turning your computer off and back on — everything is cleared.  \n",
        "An interrupt is like pressing the **pause/stop** button — your work stays, but the current task stops."
      ],
      "metadata": {
        "id": "E020P8QkJanY"
      }
    },
    {
      "cell_type": "markdown",
      "source": [
        "### ✅ Problem 4: Interrupt Kernel [2 points]\n",
        "\n",
        "**Task:** The code cell below contains an **infinite loop** that will never stop on its own.  \n",
        "Run the cell to start the loop, then **interrupt** the kernel to stop it.  \n",
        "\n",
        "While the loop is running:  \n",
        "- The kernel will be busy, and no other cells can run.  \n",
        "- You’ll need to manually stop execution.  \n",
        "\n",
        "We’ll learn more about `while` loops in **Section 2: Python Programming**.  \n",
        "\n",
        "**Tip:** In Google Colab, you can click the **Stop** ⏹ button on the left of the code cell .\n"
      ],
      "metadata": {
        "id": "eERXAuM1OoI5"
      }
    },
    {
      "cell_type": "code",
      "source": [
        "# Infinite loop example — will run forever unless interrupted\n",
        "while True:\n",
        "  pass"
      ],
      "metadata": {
        "id": "trnILA3iL6_Y"
      },
      "execution_count": null,
      "outputs": []
    },
    {
      "cell_type": "markdown",
      "source": [
        "Congratulations, you have completed Section 1.\n",
        "\n",
        "**Tip:** Consider collapsing the entire section by clicking the chevron next to the section header titled *1 Jupyter Notebook Crash Course*\n",
        "\n",
        "\n"
      ],
      "metadata": {
        "id": "1Mn9z50kMRpZ"
      }
    },
    {
      "cell_type": "markdown",
      "source": [
        "# 2 Introduction to Python Programming for AI\n",
        "\n",
        "Python is one of the most popular programming languages in the world — and a favorite in the fields of **Artificial Intelligence (AI)** and **Machine Learning (ML)**.  \n",
        "\n",
        "In this section, we'll build your Python skills from the ground up, starting with basic math operations and gradually moving toward concepts and tools that are widely used in AI development.  \n",
        "\n",
        "Our goal is to make you comfortable writing small pieces of Python code, experimenting with them, and understanding how they work — skills that will carry over into more advanced AI and ML topics later in the course.\n",
        "\n",
        "For a high level overview, let's start by watching this 100 second introduction to Python by executing the cell then clicking the Play button. Don't worry if a lot of this is foreign to you! We will gently walk you through the pieces you need to know as we progress through this notebook."
      ],
      "metadata": {
        "id": "20txAbNAMP-o"
      }
    },
    {
      "cell_type": "code",
      "source": [
        "from IPython.display import YouTubeVideo\n",
        "YouTubeVideo('x7X9w_GIm1s')"
      ],
      "metadata": {
        "id": "kV9yfVQKgiN6"
      },
      "execution_count": null,
      "outputs": []
    },
    {
      "cell_type": "markdown",
      "source": [
        "## 2.1 Mathematical Operations\n"
      ],
      "metadata": {
        "id": "l21NVA2FPaOM"
      }
    },
    {
      "cell_type": "markdown",
      "source": [
        "Python can be used to perform a wide variety of arithmetic calculations.  \n",
        "\n",
        "Here are some of the most common operations:  \n",
        "\n",
        "| Operation       | Description                                           |\n",
        "|-----------------|-------------------------------------------------------|\n",
        "| `a + b`         | Addition                                               |\n",
        "| `a - b`         | Subtraction                                            |\n",
        "| `a * b`         | Multiplication                                         |\n",
        "| `a / b`         | Division                                               |\n",
        "| `a ** b`        | Exponentiation (raise a base to a power)               |\n",
        "| `a // b`        | Integer division (divide and round **down**)           |\n",
        "| `a % b`         | Modulo operation (divide and return the remainder)     |\n",
        "| `abs(a)`        | Absolute value function                                |\n",
        "\n",
        "<br>\n",
        "\n",
        "**TIP!** Use parenthesis `()` to control the order of arithmetic operations.  \n",
        "For example, the expression $\\frac{10}{3+2}$ is written in python as `10 / (3+2)`\n",
        "\n",
        "\n",
        "**Heads Up!** The exponentiation operator is **not** the caret symbol (`^`), as is used in many online calculators.\n",
        "\n",
        "<br>\n",
        "\n",
        "**Below are some examples of arithmetic calculations in Python using the operators introduced above.**\n",
        "\n",
        "**Run each code cell to observe the output.**"
      ],
      "metadata": {
        "id": "n7S43BVgWJpA"
      }
    },
    {
      "cell_type": "code",
      "source": [
        "# addition\n",
        "2 + 3"
      ],
      "metadata": {
        "id": "ijlEiYWlWYyG"
      },
      "execution_count": null,
      "outputs": []
    },
    {
      "cell_type": "code",
      "source": [
        "# subtraction\n",
        "2 - 3"
      ],
      "metadata": {
        "id": "3-ABilOQWbxQ"
      },
      "execution_count": null,
      "outputs": []
    },
    {
      "cell_type": "code",
      "source": [
        "# multiplication\n",
        "2 * 3"
      ],
      "metadata": {
        "id": "7wX38JO7Whlh"
      },
      "execution_count": null,
      "outputs": []
    },
    {
      "cell_type": "code",
      "source": [
        "# division\n",
        "2 / 3"
      ],
      "metadata": {
        "id": "3M86VwvkWl9E"
      },
      "execution_count": null,
      "outputs": []
    },
    {
      "cell_type": "code",
      "source": [
        "# exponentiation (i.e. taking a base to a power)\n",
        "2 ** 3"
      ],
      "metadata": {
        "id": "RMCdawJCWn1o"
      },
      "execution_count": null,
      "outputs": []
    },
    {
      "cell_type": "code",
      "source": [
        "# Integer division\n",
        "10 // 3"
      ],
      "metadata": {
        "id": "V2nz_t7rXTwa"
      },
      "execution_count": null,
      "outputs": []
    },
    {
      "cell_type": "code",
      "source": [
        "# Modulo\n",
        "10 % 3"
      ],
      "metadata": {
        "id": "S6Kq0xW5XXbC"
      },
      "execution_count": null,
      "outputs": []
    },
    {
      "cell_type": "code",
      "source": [
        "# Absolute value\n",
        "abs(-5)"
      ],
      "metadata": {
        "id": "LRMwQqHF60F4"
      },
      "execution_count": null,
      "outputs": []
    },
    {
      "cell_type": "markdown",
      "source": [
        "### ✅ Problem 5: Arithmetic Calculations [5 points]\n",
        "\n",
        "**Task:** Write Python code that evaluates the following expressions. [Each task is worth 1 point]\n",
        "\n",
        "1. $5 \\times 3 + 20$\n",
        "\n",
        "2. $\\frac{2 + 5 }{ 8 - 6}$\n",
        "\n",
        "3. $\\left| 1 - (4-2)^{10-8} \\right|$  (don't miss the absolute value)\n",
        "\n",
        "4. Print the **quotient** (whole number restult) of $100 \\div 7$\n",
        "\n",
        "5. Print the **remainder** of $100 \\div 7$\n"
      ],
      "metadata": {
        "id": "upEZvIxiYHi5"
      }
    },
    {
      "cell_type": "code",
      "source": [
        "# Expression 1\n",
        "NotImplemented ### YOUR SOLUTION HERE"
      ],
      "metadata": {
        "id": "LNRNaBtRY8BS"
      },
      "execution_count": null,
      "outputs": []
    },
    {
      "cell_type": "code",
      "source": [
        "# Expression 2\n",
        "NotImplemented ### YOUR SOLUTION HERE"
      ],
      "metadata": {
        "id": "UA-VVVB1Y8MO"
      },
      "execution_count": null,
      "outputs": []
    },
    {
      "cell_type": "code",
      "source": [
        "# Expression 3\n",
        "NotImplemented ### YOUR SOLUTION HERE"
      ],
      "metadata": {
        "id": "mI8wqlO9Y8Ta"
      },
      "execution_count": null,
      "outputs": []
    },
    {
      "cell_type": "code",
      "source": [
        "# Expression 4\n",
        "NotImplemented ### YOUR SOLUTION HERE"
      ],
      "metadata": {
        "id": "uQg-L21mY8Z5"
      },
      "execution_count": null,
      "outputs": []
    },
    {
      "cell_type": "code",
      "source": [
        "# Expression 5\n",
        "NotImplemented ### YOUR SOLUTION HERE"
      ],
      "metadata": {
        "id": "x5sR7mxlbu1R"
      },
      "execution_count": null,
      "outputs": []
    },
    {
      "cell_type": "markdown",
      "source": [
        "## 2.2 Modules; the `math` module\n"
      ],
      "metadata": {
        "id": "J546wUSSchfB"
      }
    },
    {
      "cell_type": "markdown",
      "source": [
        "What if you want to do more complicated mathematical operations, like $\\sqrt{2}$?\n",
        "\n",
        "These **functions** are part of a **module** named math.\n",
        "- A module is a collection of related functions and tools bundled together.\n",
        "- We will use many modules throughout this course, so it’s important to get familiar with how to use them early on.\n",
        "\n",
        "Before you can use these functions, you need to **import** the module:  \n",
        "- `import math`\n",
        "- this line of code only needs to be executed **once** in the jupyter notebook to make the `math` module available in all code cells\n",
        "\n",
        "Here are a few commonly used functions from the `math` module. For a full list, check the [official math module documentation](https://docs.python.org/3/library/math.html).\n",
        "\n",
        "| Math Function Call                | Algebraic Expression             | Description                                         |\n",
        "|---------------------------------|---------------------------------|-----------------------------------------------------|\n",
        "| `math.sqrt(x)`                  | $$\\sqrt{x}$$                    | Square root of \\(x\\)                                |\n",
        "| `math.cos(x)`, `math.sin(x)`, `math.tan(x)` | $$\\cos(x), \\sin(x), \\tan(x)$$ | Trigonometric functions (input in radians)         |\n",
        "| `math.pi`                      | $$\\pi = 3.14159 \\ldots$$        | The mathematical constant pi                        |\n",
        "| `math.e`                       | $$e = 2.718 \\ldots$$             | Euler’s number (base of natural logarithms)     |\n",
        "| `math.exp(x)`                  | $$e^{x}$$                       | Exponential function, returns \\(e^x\\)              |\n",
        "| `math.log(x, base)`            | $$\\log_{b}(x)$$                 | Logarithm of \\(x\\) to the base \\(b\\) (default is natural log) |\n",
        "\n",
        "<br>\n",
        "\n",
        "**Below are some examples of arithmetic calculations in Python using the `math` module functions introduced above:**\n",
        "\n",
        "**Run each code cell to observe the output.**"
      ],
      "metadata": {
        "id": "J_yAk5hDO6qY"
      }
    },
    {
      "cell_type": "code",
      "source": [
        "# import the math module (only needs to be executed once)\n",
        "import math"
      ],
      "metadata": {
        "id": "-TJ9pbzqpNYQ"
      },
      "execution_count": null,
      "outputs": []
    },
    {
      "cell_type": "code",
      "source": [
        "# square root of 2\n",
        "math.sqrt(2)"
      ],
      "metadata": {
        "id": "ZBRoQMdspQoS"
      },
      "execution_count": null,
      "outputs": []
    },
    {
      "cell_type": "code",
      "source": [
        "# cosine of -180 degrees (pi radians)\n",
        "math.cos(math.pi)"
      ],
      "metadata": {
        "id": "xix8RcS5pQXW"
      },
      "execution_count": null,
      "outputs": []
    },
    {
      "cell_type": "code",
      "source": [
        "# euler's constant to the power of 2\n",
        "math.exp(2)"
      ],
      "metadata": {
        "id": "sS9-ZUborU9Y"
      },
      "execution_count": null,
      "outputs": []
    },
    {
      "cell_type": "code",
      "source": [
        "# log base 2 of 8\n",
        "math.log(8, 2)"
      ],
      "metadata": {
        "id": "nElPafzHGLfa"
      },
      "execution_count": null,
      "outputs": []
    },
    {
      "cell_type": "markdown",
      "source": [
        "### ✅ Problem 6: Arithmetic Calculations with the Math Module [4 points]\n",
        "\n",
        "**Task:** Write Python code that evaluates the following expressions using functions from the `math` module. [Each task is worth 1 point]\n",
        "\n",
        "1. Calculate the **area** of a circle with radius $r = 3$.\n",
        "\n",
        "$$ A = \\pi r^2 $$\n",
        "\n",
        "2. Calculate the **distance** between two values, $y_1 = 2, y_2 = 5$  \n",
        "\n",
        "  (We will frequently encounter the distance function later in this class, as it is used in AI models to compute the model error or 'loss'.)\n",
        "\n",
        "$$ d(y_1, y_2) = \\sqrt{(y_1 - y_2)^2} $$\n",
        "\n",
        "3. Calculate the value of the **sigmoid function** for $x=0.5$\n",
        "\n",
        " (We will frequently encounter the sigmoid function later in this class, as it is used as an activation function in artificial neural networks.)\n",
        "\n",
        "$$ \\sigma(x) = \\frac{1}{1 + e^{-x}} $$\n",
        "\n",
        "4. Calculate the cosine of 60 degrees.\n",
        "\n",
        "  (**Hint:** `math.cos(x)` takes input $x$ in **radians**. Use `math.radians()` to convert degrees to radians.)\n",
        "\n",
        "\n",
        "$$ \\cos(60 ^{\\circ}) $$\n",
        "\n"
      ],
      "metadata": {
        "id": "O-rStFNNlMT_"
      }
    },
    {
      "cell_type": "code",
      "source": [
        "# import the math module (only needs to be executed once)\n",
        "import math"
      ],
      "metadata": {
        "id": "MiJSJqNVlhhR"
      },
      "execution_count": null,
      "outputs": []
    },
    {
      "cell_type": "code",
      "source": [
        "# Equation 1\n",
        "NotImplemented ### YOUR SOLUTION HERE"
      ],
      "metadata": {
        "id": "1a_hgoLBllEy"
      },
      "execution_count": null,
      "outputs": []
    },
    {
      "cell_type": "code",
      "source": [
        "# Equation 2\n",
        "NotImplemented ### YOUR SOLUTION HERE"
      ],
      "metadata": {
        "id": "kGaB9uwYllLd"
      },
      "execution_count": null,
      "outputs": []
    },
    {
      "cell_type": "code",
      "source": [
        "# Equation 3\n",
        "NotImplemented ### YOUR SOLUTION HERE"
      ],
      "metadata": {
        "id": "NLUYpC_IllQ2"
      },
      "execution_count": null,
      "outputs": []
    },
    {
      "cell_type": "code",
      "source": [
        "# Equation 4\n",
        "NotImplemented ### YOUR SOLUTION HERE"
      ],
      "metadata": {
        "id": "tZEIdz5yqn8X"
      },
      "execution_count": null,
      "outputs": []
    },
    {
      "cell_type": "markdown",
      "source": [
        "### Other useful module information\n",
        "\n",
        "**Tip:** Python provides several different ways to import modules. You’ll encounter all of them in this course, so here’s a quick reference list of common import styles and their typical uses.\n",
        "\n",
        "| Import Style | Description | Example Usage |\n",
        "|--------------|-------------|---------------|\n",
        "| `import math` | Imports the entire module. Access functions using the module name. | `math.sqrt(4)` |\n",
        "| `import math as my_alias` | Imports a module and assigns it a short alias of your choice. Access functions using the alias. | `my_alias.sqrt(4)` |\n",
        "| `from math import sqrt` | Imports only a specific function from a module. Access the function directly without reference to the module name| `sqrt(4)` |\n",
        "| `from math import *` | Imports all module functions. Access functions without reference to the module name. (**not recommended** — can cause conflicts). | `sqrt(4)` |"
      ],
      "metadata": {
        "id": "HXmgcxtZkyZB"
      }
    },
    {
      "cell_type": "markdown",
      "source": [
        "## 2.3 Variables"
      ],
      "metadata": {
        "id": "r-M1MSTmPy0h"
      }
    },
    {
      "cell_type": "markdown",
      "source": [
        "As we saw in section 1.3, **variables** are used to store and manage data in Python. They allow us to label pieces of data so we can use them later in our programs.\n",
        "\n",
        "### Key Points About Variables\n",
        "\n",
        "- **Naming:** Variable names should be descriptive and follow [Python’s naming rules](https://www.w3schools.com/python/python_variables_names.asp) (e.g., must start with a letter, cannot contain spaces, and are case-sensitive).\n",
        "\n",
        "- **Assigning:** You assign a value to a variable using the equals sign `=`.\n",
        "\n",
        "- **Data types:** Variables can store different kinds of data, such as:\n",
        "  - `x = 5` → integer  \n",
        "  - `x = 3.14159` → float (decimal number)  \n",
        "  - `x = \"Hello World!\"` → string (text)  \n",
        "\n",
        "**Tip:** Choose variable names that clearly describe the data they hold — it makes your code much easier to read and debug.\n",
        "\n",
        "**Examples of the use of variables are shown below**\n",
        "\n",
        "**Run the code to see the output**"
      ],
      "metadata": {
        "id": "F9ZIb2FAPGHY"
      }
    },
    {
      "cell_type": "code",
      "source": [
        "# Example 1: Variables make calculations easier to read and understand\n",
        "length = 2\n",
        "width = 5\n",
        "area = length * width  # multiply length by width\n",
        "\n",
        "# print out results\n",
        "# note: the print() function can take multiple inputs, separated by commas!\n",
        "# e.g. print(first, second, third)\n",
        "print(\"The area of a rectangle with length\", length, \"and width\", width, \"is:\", area)"
      ],
      "metadata": {
        "id": "S0q1FcdCua1K"
      },
      "execution_count": null,
      "outputs": []
    },
    {
      "cell_type": "code",
      "source": [
        "# Example 2: Variables can store different data types\n",
        "name = \"John Doe\"  # string data type\n",
        "age = 19           # integer data type\n",
        "gpa = 3.51         # floating point data type\n",
        "\n",
        "print(\"My name is\", name)\n",
        "print(\"My age is\", age)\n",
        "print(\"My GPA is\", gpa)"
      ],
      "metadata": {
        "id": "SSlB4vvOutmk"
      },
      "execution_count": null,
      "outputs": []
    },
    {
      "cell_type": "markdown",
      "source": [
        "### ✅ Problem 7: Using Variables [4 points total]\n",
        "\n",
        "**Task:** Use Python variables to evaluate two equations commonly used in AI/ML.\n",
        "\n",
        "#### 1) Equation 1: Linear Regression [2 points]\n",
        "\n",
        "One of the first machine learning models we will encounter is **linear regression**, which models a linear relationship between inputs $x$ and outputs $y$ with slope $m$ and intercept $b$:\n",
        "\n",
        "$$ y = m \\times x + b $$\n",
        "\n",
        "Use variables to calculate the value of the linear regression model for:\n",
        "\n",
        "$$ x = 1, \\quad m = 2, \\quad b = -1 $$\n",
        "\n",
        "<div align=\"center\">\n",
        "<img src=\"https://github.com/andrewlferguson/MENG15100/blob/main/labs/L1/linear_regression.png?raw=true\" width=\"600\">\n",
        "</div>\n",
        "\n",
        "\n",
        "#### 2) Equation 2: Gaussian Probability Distribution [2 points]\n",
        "\n",
        "The Gaussian function is widely used in machine learning to model a bell-shaped probability distribution for the variable $x$. Its equation is:\n",
        "\n",
        "$$\n",
        "f(x) = \\frac{1}{\\sigma \\sqrt{(2 \\pi)} } e^{-\\frac{(x - \\mu)^2}{2\\sigma^2}}\n",
        "$$\n",
        "\n",
        "\n",
        "\n",
        "where $\\mu$ is the mean (center) and $\\sigma$ is the standard deviation (width).\n",
        "\n",
        "**Heads up**: both the $2$ and $\\pi$ are underneath the square root; sometimes the overbar is not correctly rendered.\n",
        "\n",
        "<div align=\"center\">\n",
        "<img src=\"https://github.com/andrewlferguson/MENG15100/blob/main/labs/L1/gaussian.png?raw=true\" width=\"600\">\n",
        "</div>\n",
        "\n",
        "\n",
        "This expression is long, so it’s a good idea to use **intermediate variables** to break the calculation into multiple lines. In addition to $x$, $\\mu$, and $\\sigma$, introduce the `coefficient`, and the `exponent` as shown below:\n",
        "\n",
        "$$ \\text{gaussian} = \\text{coefficient} * e^{\\text{exponent}} $$\n",
        "\n",
        "Using these variables, calculate the value of the gaussian function function with the following inputs:\n",
        "$$x = 1.5, \\quad \\mu = 2, \\quad \\sigma = 1$$"
      ],
      "metadata": {
        "id": "QAi5yeB2wFw0"
      }
    },
    {
      "cell_type": "code",
      "source": [
        "# Equation 1\n",
        "# Replace NotImplemented with your values or expressions\n",
        "x = NotImplemented    # input value\n",
        "m = NotImplemented    # slope\n",
        "b = NotImplemented    # intercept\n",
        "y = NotImplemented    # result of the equation; use the variables defined above to calculate y\n",
        "print(y)"
      ],
      "metadata": {
        "id": "FSDKXmoXDE1W"
      },
      "execution_count": null,
      "outputs": []
    },
    {
      "cell_type": "code",
      "source": [
        "# Equation 2\n",
        "# Replace NotImplemented with your values or expressions\n",
        "x = NotImplemented            # input value\n",
        "mu = NotImplemented           # mean (center)\n",
        "sigma = NotImplemented        # standard deviation (width)\n",
        "coefficient = NotImplemented  # use the variables defined above to calculate coefficient\n",
        "exponent = NotImplemented     # use the variables defined above to calculate exponent\n",
        "gaussian = NotImplemented     # use the variables defined above to calculate gaussian\n",
        "print(gaussian)"
      ],
      "metadata": {
        "id": "evZ6hLehvMmc"
      },
      "execution_count": null,
      "outputs": []
    },
    {
      "cell_type": "markdown",
      "source": [
        "## 2.4 Lists\n"
      ],
      "metadata": {
        "id": "liXxjVarivpn"
      }
    },
    {
      "cell_type": "markdown",
      "source": [
        "Suppose we are working with an AI model that uses the **molecular weight** of different compounds as training data. Each **training data point** is the weight (in grams per mole, g/mol) for one molecule.\n",
        "\n",
        "We **could** store these values in separate variables, for example:\n",
        "\n",
        "```python\n",
        "water_weight = 18.02           # g/mol\n",
        "carbon_dioxide_weight = 44.01   # g/mol\n",
        "oxygen_weight = 32.0            # g/mol\n",
        "```\n",
        "\n",
        "However, this quickly becomes unwieldy as the number of variables increases.\n",
        "\n",
        "#### Storing data in a list\n",
        "\n",
        "Instead, we can use **lists** — Python’s built-in way to store multiple items in a single variable:"
      ],
      "metadata": {
        "id": "J2Z_96sUPLAs"
      }
    },
    {
      "cell_type": "code",
      "source": [
        "# store multiple data points in a list\n",
        "molecule_weights = [18.02, 44.01, 32.0]\n",
        "print(molecule_weights)"
      ],
      "metadata": {
        "id": "s2zltl4-K8V6"
      },
      "execution_count": null,
      "outputs": []
    },
    {
      "cell_type": "markdown",
      "source": [
        "Lists are **ordered collections** of items, separated by commas and enclosed in square brackets `[]`. A single list can hold:\n",
        "- Numbers (integers or floats)\n",
        "- Strings\n",
        "- Even other lists (lists of lists)\n",
        "\n",
        "#### Accessing items in a list\n",
        "You can get individual list elements using **indexing**.\n",
        "\n",
        "In Python, **indexing starts at 0**, so the element in the beginning of the list has index = 0. Let's say that again with emphasis:\n",
        "\n",
        "🚨 **In Python, indexing starts at 0**! 🚨\n",
        "\n",
        "This is a common point of confusion for new Python programmers. It might not seem like it right now, but this is actually a very logical convention that makes your Python programming life so much better in so many ways. Trust us!"
      ],
      "metadata": {
        "id": "07t8quMZLBKC"
      }
    },
    {
      "cell_type": "code",
      "source": [
        "# use indexes to access each element individually\n",
        "print(molecule_weights[0])  # First item → 18.02\n",
        "print(molecule_weights[1])  # Second item → 42\n",
        "print(molecule_weights[2])  # Third item → 32"
      ],
      "metadata": {
        "id": "taD29jfsLC9G"
      },
      "execution_count": null,
      "outputs": []
    },
    {
      "cell_type": "markdown",
      "source": [
        "#### Changing items in a list\n",
        "\n",
        "Lists are **mutable**, meaning you can change their contents:"
      ],
      "metadata": {
        "id": "Q0uC0SHpLWxX"
      }
    },
    {
      "cell_type": "code",
      "source": [
        "molecule_weights[1] = 42  # Update the second molecule’s weight\n",
        "print(molecule_weights)"
      ],
      "metadata": {
        "id": "xEmhS7Q3Lmuv"
      },
      "execution_count": null,
      "outputs": []
    },
    {
      "cell_type": "markdown",
      "source": [
        "#### Useful list functions\n",
        "Python has many **built-in functions** to work with lists:\n",
        "\n",
        "| Function | Description |\n",
        "|----------|-------------|\n",
        "| `len(list)` | Returns the number of items in the list |\n",
        "| `max(list)` | Returns the largest value in the list |\n",
        "| `min(list)` | Returns the smallest value in the list |\n",
        "| `sum(list)` | Returns the sum of all values in the list (works only for numeric lists) |\n",
        "| `sorted(list)` | Returns a new list with items sorted in ascending order |"
      ],
      "metadata": {
        "id": "7Zs9gHdGMHWa"
      }
    },
    {
      "cell_type": "markdown",
      "source": [
        "### ✅ Problem 8: Working with Molecular Weight Lists [5 points]\n",
        "\n",
        "In this problem, you will practice creating and manipulating Python lists using molecular weight data.\n",
        "\n",
        "---\n",
        "\n",
        "**Context:**  We have measured the **molecular weight** (in grams per mole, g/mol) for a number of molecules.\n",
        "\n",
        "| **Molecule**      | **Formula**  | **Molecular Weight (g/mol)** |\n",
        "|-------------------|--------------|------------------------------|\n",
        "| Water             | H₂O          | 18.02                      |\n",
        "| Carbon Dioxide    | CO₂          | 44.01                        |\n",
        "| Oxygen            | O₂           | 32.00                        |\n",
        "| Nitrogen          | N₂           | 28.02                        |\n",
        "| Methane           | CH₄          | 16.04                        |\n",
        "| Glucose           | C₆H₁₂O₆      | 180.16                       |\n",
        "| Ethanol           | C₂H₅OH       | 46.07                        |\n",
        "| Sodium Chloride   | NaCl         | 58.44                        |\n",
        "| Ammonia           | NH₃          | 17.03                        |\n",
        "| Sulfur Dioxide    | SO₂          | 64.06                        |\n",
        "| Acetone           | C₃H₆O        | 58.08                        |\n",
        "| Hydrogen Peroxide | H₂O₂         | 34.02                        |\n",
        "| Methanol          | CH₃OH        | 32.04                        |\n",
        "| Acetic Acid       | C₂H₄O₂       | 60.05                        |\n",
        "\n",
        "A list of the molecuar weights is provided in the python variable ```molecular_weights``` in the code cell below.\n",
        "\n",
        "---\n",
        "\n",
        "**Tasks:** [Each task is worth 1 point]\n",
        "\n",
        "1. **Access** the molecular weight of oxygen using list indexing and print the value. (remember: list indexes start at 0)\n",
        "3. **Print** the number of molecules in the list.\n",
        "4. **Print** the heaviest molecule’s weight.\n",
        "5. **Print** the lightest molecule’s weight.  \n",
        "6. **Calculate and print** the **average** molecular weight.\n",
        "\n",
        "**Hint:** Are there built-in functions that can accomplish these tasks?"
      ],
      "metadata": {
        "id": "5sCgIJvnMTCa"
      }
    },
    {
      "cell_type": "code",
      "source": [
        "# Variables (provided)\n",
        "# Run this cell to initialize the variables\n",
        "weights = [18.02, 44.01, 32.00, 28.02, 16.04, 180.16, 46.07, 58.44, 17.03, 64.06, 58.08, 34.02, 32.04, 60.05]\n",
        "print(weights)"
      ],
      "metadata": {
        "id": "wGqKpLfKqxTK"
      },
      "execution_count": null,
      "outputs": []
    },
    {
      "cell_type": "code",
      "source": [
        "# Task 1: Access the molecular weight of oxygen and print the value\n",
        "NotImplemented ### YOUR SOLUTION HERE"
      ],
      "metadata": {
        "id": "BLS2aXqZnhE3"
      },
      "execution_count": null,
      "outputs": []
    },
    {
      "cell_type": "code",
      "source": [
        "# Task 2: Print the number of molecules in the list\n",
        "NotImplemented ### YOUR SOLUTION HERE"
      ],
      "metadata": {
        "id": "t4ZPOmooq5v5"
      },
      "execution_count": null,
      "outputs": []
    },
    {
      "cell_type": "code",
      "source": [
        "# Task 3: Print the heaviest molecule's weight\n",
        "NotImplemented ### YOUR SOLUTION HERE"
      ],
      "metadata": {
        "id": "CLyL6fmEq51N"
      },
      "execution_count": null,
      "outputs": []
    },
    {
      "cell_type": "code",
      "source": [
        "# Task 4: Print the lightest molecule's weight\n",
        "NotImplemented ### YOUR SOLUTION HERE"
      ],
      "metadata": {
        "id": "ObiMQUAZq55e"
      },
      "execution_count": null,
      "outputs": []
    },
    {
      "cell_type": "code",
      "source": [
        "# Task 5: Calculate and print the average molecular weight\n",
        "NotImplemented ### YOUR SOLUTION HERE"
      ],
      "metadata": {
        "id": "VfGP6fryq59J"
      },
      "execution_count": null,
      "outputs": []
    },
    {
      "cell_type": "markdown",
      "source": [
        "## 2.5 'For' Loops\n",
        "\n"
      ],
      "metadata": {
        "id": "T5EuuEDlylim"
      }
    },
    {
      "cell_type": "markdown",
      "source": [
        "When working with lists in Python, you often want to perform the same action for each element in the list.  \n",
        "Instead of repeating the same line of code many times, we can use a **for loop**.\n",
        "\n",
        "A `for` loop lets you **iterate** (loop through) each item in a sequence (such as a list) and execute a block of code for each element.\n",
        "\n",
        "The general structure is:\n",
        "\n",
        "    for variable in list:\n",
        "        # code to execute for each item\n",
        "\n",
        "- `variable` is a name you choose to represent the current item in the sequence.\n",
        "- `list` is a list variable or other iterable data type."
      ],
      "metadata": {
        "id": "mgeNjM4ifFhN"
      }
    },
    {
      "cell_type": "code",
      "source": [
        "molecule_weights = [18.02, 28.01, 44.01]  # H2O, N2, CO2\n",
        "\n",
        "for weight in molecule_weights:\n",
        "    print(\"Molecular weight:\", weight)"
      ],
      "metadata": {
        "id": "kLf54UTgRnzH"
      },
      "execution_count": null,
      "outputs": []
    },
    {
      "cell_type": "markdown",
      "source": [
        "In the example above:\n",
        "- The loop goes through the list `molecule_weights`.\n",
        "- On each iteration, the variable `weight` takes the value of the next element in the list.\n",
        "- The `print` statement runs once for each element.\n",
        "\n",
        "**Tip:**  **Indentation is critical in Python!**\n",
        "All the code that is part of the loop must be indented. When the indentation stops, the body of the loop ends. Here is an example of the indentation structure for blocks of python code inside `for` loops:\n",
        "\n",
        "```python\n",
        "for item in list:\n",
        "  # inside the for loop (indented)\n",
        "  # also part of the foor loop (indented)\n",
        "\n",
        "# outside the for loop (not indented)\n",
        "```\n",
        "\n",
        "Either tabs or spaces can be used for indentation, but you can't mix both!\n",
        "\n",
        "Python's official style guide, PEP 8, strongly recommends using spaces for indentation, specifically four spaces per indentation level."
      ],
      "metadata": {
        "id": "wxHYUI-uRutc"
      }
    },
    {
      "cell_type": "markdown",
      "source": [
        "There are several common ways to use a `for` loop in Python:\n",
        "\n",
        "### 1. Looping over items in a list\n",
        "If you want to access each element in a sequence directly, you can loop using the `for item in list:` syntax.\n",
        "- Here, the loop variable `molecule` takes the value of each element in the list in turn."
      ],
      "metadata": {
        "id": "7Dpnah9XZkAA"
      }
    },
    {
      "cell_type": "code",
      "source": [
        "molecules = [\"Water\", \"Ethanol\", \"Ammonia\"]\n",
        "for molecule in molecules:\n",
        "    print(molecule)"
      ],
      "metadata": {
        "id": "GUW0ATJxXdRT"
      },
      "execution_count": null,
      "outputs": []
    },
    {
      "cell_type": "markdown",
      "source": [
        "\n",
        "### 2. Looping over a range of numbers\n",
        "The built-in `range()` function generates a sequence of numbers, which is often used for looping a specific number of times.\n",
        "- By default, `range(n)` starts at 0 and ends at `n-1`. Remember, Python indexing starts at zero!\n",
        "- You can also specify a start, end, and step size: `range(start, stop, step)`.\n"
      ],
      "metadata": {
        "id": "QexXRJKNXl4O"
      }
    },
    {
      "cell_type": "code",
      "source": [
        "# loop 5 times\n",
        "for i in range(5):\n",
        "    print(\"Iteration:\", i)"
      ],
      "metadata": {
        "id": "fNLbJbaOYA1p"
      },
      "execution_count": null,
      "outputs": []
    },
    {
      "cell_type": "markdown",
      "source": [
        "The range-based `for` loop can be used to access elements in a list by *index*:"
      ],
      "metadata": {
        "id": "GYuTUKkVYMhl"
      }
    },
    {
      "cell_type": "code",
      "source": [
        "molecules = [\"Water\", \"Ethanol\", \"Ammonia\"]\n",
        "number_of_molecules = len(molecules)\n",
        "\n",
        "for i in range(number_of_molecules):\n",
        "    print(\"index:\", i, \"molecule:\", molecules[i])"
      ],
      "metadata": {
        "id": "0_U3-3edYTXA"
      },
      "execution_count": null,
      "outputs": []
    },
    {
      "cell_type": "markdown",
      "source": [
        "\n",
        "### 3. Looping over multiple lists in parallel using `zip()`\n",
        "The `zip()` function combines two or more lists, allowing you to loop over them together.\n",
        "- On each iteration, `molecule` and `bp` take values from the same index in their respective lists."
      ],
      "metadata": {
        "id": "zgj1kM0IXrxG"
      }
    },
    {
      "cell_type": "code",
      "source": [
        "molecules = [\"Water\", \"Ethanol\", \"Ammonia\"]\n",
        "boiling_points = [100.0, 78.4, -33.3]\n",
        "\n",
        "for molecule, bp in zip(molecules, boiling_points):\n",
        "    print(molecule, \"boils at\", bp, \"°C\")"
      ],
      "metadata": {
        "id": "FhsTLwOfYxbI"
      },
      "execution_count": null,
      "outputs": []
    },
    {
      "cell_type": "markdown",
      "source": [
        "### 4. Looping with index and value using `enumerate()`\n",
        "If you need both the index and the value from a sequence, use `enumerate()`.\n"
      ],
      "metadata": {
        "id": "StQtHSheZDsz"
      }
    },
    {
      "cell_type": "code",
      "source": [
        "molecules = [\"Water\", \"Ethanol\", \"Ammonia\"]\n",
        "\n",
        "for index, molecule in enumerate(molecules):\n",
        "    print(\"Molecule #\", index, \"is\", molecule)"
      ],
      "metadata": {
        "id": "T1cYxv4IZFzz"
      },
      "execution_count": null,
      "outputs": []
    },
    {
      "cell_type": "markdown",
      "source": [
        "\n",
        "\n",
        "**Summary Table of `for` Loop Variants:**\n",
        "\n",
        "| Syntax                               | Use Case                                 |\n",
        "|--------------------------------------|------------------------------------------|\n",
        "| `for item in list:`                  | Loop over items directly                  |\n",
        "| `for i in range(n):`                 | Loop a fixed number of times              |\n",
        "| `for a, b in zip(list1, list2):`    | Loop over multiple sequences in parallel  |\n",
        "| `for i, item in enumerate(list):`   | Loop with both index and value            |\n"
      ],
      "metadata": {
        "id": "pedf3CvaXtd9"
      }
    },
    {
      "cell_type": "markdown",
      "source": [
        "### ✅ Problem 9: Boiling Point AI Model Error [5 points]\n",
        "\n",
        "**Context:**  \n",
        "A research group has trained a new AI model to predict the **boiling point** of various compounds based on their chemical structure (e.g. molecular weight).\n",
        "You are tasked with evaluating how well this model is performing by comparing its predictions to known experimental molecular boiling points.\n",
        "\n",
        "Below is a table of molecules, their true boiling points (**targets**), and the model’s predicted values (**predictions**):\n",
        "\n",
        "| Molecule      | True Boiling Point (°C) | Predicted Boiling Point (°C) |\n",
        "|---------------|------------------------|------------------------------|\n",
        "| Water         | 100.0                  | 98.0                         |\n",
        "| Ethanol       | 78.4                   | 79.5                         |\n",
        "| Ammonia       | -33.3                  | -30.0                        |\n",
        "| Acetone       | 56.1                   | 60.0                         |\n",
        "| Benzene       | 80.1                   | 78.0                         |\n",
        "\n",
        "---\n",
        "\n",
        "In order to evaluate how well the model is performing, we will calculate two common error metrics:  \n",
        "- **Mean Absolute Error (MAE)**  \n",
        "- **Mean Squared Error (MSE)**  \n",
        "\n",
        "The formulas are:  \n",
        "\n",
        "$$ \\text{MAE} = \\frac{1}{n} \\sum_{i=1}^{n} \\left| y_i - \\hat{y}_i \\right| $$  \n",
        "\n",
        "$$ \\text{MSE} = \\frac{1}{n} \\sum_{i=1}^{n} \\left( y_i - \\hat{y}_i \\right)^2 $$  \n",
        "\n",
        "Where:  \n",
        "- $ y_i $ = true boiling point  \n",
        "- $ \\hat{y}_i $ = predicted boiling point  \n",
        "- $ n $ = number of data points (i.e. number of molecules in the dataset).  \n",
        "\n",
        "And:\n",
        "- $ \\left| y_i - \\hat{y}_i \\right| $ is the absolute error for molecule $i$\n",
        "- $\\left( y_i - \\hat{y}_i \\right)^2 $ is the squared error for molecule $i$\n",
        "---\n",
        "\n",
        "**Task:**  \n",
        "Modify the code below to calculate the **MAE** and **MSE** of the AI model. The calculation of **MAE** and **MSE** involves a summation, which we will accomplish using a `for` loop. Inside the for loop, we will calculate the absolute error and squared error for each molecule. The `for` loop will iterate through all the molecules and sum their errors together. Finally, we will need to divide by $n$, the number of molecules, to obtain an average (mean) error.\n",
        "\n",
        "The code provided below uses a `for` loop to iterate through the list of true boiling points and the list of predicted boiling points for each molecule. Modify the code below so it accomplishes the following objectives:\n",
        "\n",
        "1. In the `for` loop, calculate the `absolute_error` for each molecule (each pair of true and predicted boiling points). This value will be accumulated (added) into a running total, `total_absolute_error`.\n",
        "2. In the `for` loop, calculate the `squared_error` for each molecule (each pair of true and predicted boiling points). This value will be accumulated (added) into a running total, `total_squared_error`.\n",
        "3. After the `for` loop, divide the `total_absolute_error` and `total_squared_error` by $n$, the number of molecules, to obtain the mean absolute error (MAE) and mean squared error (MSE).\n",
        "\n",
        "**Tip:** In the code below we introduce a super userful new operator, `+=` which adds the value on the right hand side of the operator to the variable on the left. `x += y` is exactly equivalent to `x = x + y` but is simpler, more readable, and saves some typing.\n",
        "\n",
        "**Tip:** The number of data points $n$ is equal to the length of the true boiling point list. Can you use the `len` function to calculate this?"
      ],
      "metadata": {
        "id": "tTfhMY64TMbx"
      }
    },
    {
      "cell_type": "code",
      "source": [
        "# Variables (provided)\n",
        "# Run this cell to initialize the variables\n",
        "true_boiling_points = [100.0, 78.4, -33.3, 56.1, 80.1]   # °C\n",
        "predicted_boiling_points = [98.0, 79.5, -30.0, 60.0, 78.0] # °C"
      ],
      "metadata": {
        "id": "VAYrGLGETtyt"
      },
      "execution_count": null,
      "outputs": []
    },
    {
      "cell_type": "code",
      "source": [
        "total_absolute_error = 0\n",
        "total_squared_error = 0\n",
        "\n",
        "for true_value, predicted_value in zip(true_boiling_points, predicted_boiling_points):\n",
        "  # Task 1: calculate and accumulate the absolute error for each boiling point prediction\n",
        "  absolute_error = NotImplemented ### YOUR SOLUTION HERE\n",
        "  total_absolute_error += absolute_error\n",
        "\n",
        "  # Task 2: calculate and accumulate the squared error for each boiling point prediction\n",
        "  squared_error = NotImplemented ### YOUR SOLUTION HERE\n",
        "  total_squared_error += squared_error\n",
        "\n",
        "# Task 3: divide the total absolute and total squared error by n\n",
        "# Tip: can you use a built-in list function to calculate n?\n",
        "MAE = NotImplemented ### YOUR SOLUTION HERE\n",
        "MSE = NotImplemented ### YOUR SOLUTION HERE\n",
        "\n",
        "print(\"the MAE is:\", MAE)\n",
        "print(\"the MSE is\", MSE)"
      ],
      "metadata": {
        "id": "0y9cSnkwTxCp"
      },
      "execution_count": null,
      "outputs": []
    },
    {
      "cell_type": "markdown",
      "source": [
        "## 2.6 Introduction to `numpy`\n"
      ],
      "metadata": {
        "id": "SPQDyqG1gGFF"
      }
    },
    {
      "cell_type": "markdown",
      "source": [
        "**NumPy** (short for *Numerical Python*, pronounced *Num-pie*) is a collection of powerful Python modules for numerical computing.  \n",
        "Before we see why it’s so useful, let’s look at a limitation of **basic Python lists**."
      ],
      "metadata": {
        "id": "V9Yxo13pgLZu"
      }
    },
    {
      "cell_type": "markdown",
      "source": [
        "### Motivation: Python Lists Are Not Mathematical Vectors\n",
        "In mathematics, adding two vectors means adding their elements component-wise,  \n",
        "\n",
        "$$\\mathbf{a} = [1, 2, 3]$$  \n",
        "$$\\mathbf{b} = [4, 5, 6]$$   \n",
        "$$\\mathbf{a} + \\mathbf{b} = [1+4, \\; 2+ 5, \\; 3 + 6] = [5, \\; 7, \\; 9]$$\n",
        "\n",
        "\n",
        "and multiplying a vector by a scalar means scaling each element.\n",
        "\n",
        "$$c = 10 $$  \n",
        "$$\\mathbf{a} = [1, 2, 3]$$  \n",
        "$$c \\cdot \\mathbf{a} = [10 \\cdot 1, \\; 10 \\cdot 2, \\; 10 \\cdot 3] = [10, 20, 30]$$\n",
        "\n",
        "However, Python lists don’t behave this way:\n"
      ],
      "metadata": {
        "id": "h-XhHGjJgPYK"
      }
    },
    {
      "cell_type": "code",
      "source": [
        "# initialize a, b, c\n",
        "a = [1, 2, 3]\n",
        "b = [4, 5, 6]\n",
        "c = 10"
      ],
      "metadata": {
        "id": "JhxYXb8dilF8"
      },
      "execution_count": null,
      "outputs": []
    },
    {
      "cell_type": "code",
      "source": [
        "# Adding lists in Python concatenates them\n",
        "print(a + b)"
      ],
      "metadata": {
        "id": "jhY16htnifd9"
      },
      "execution_count": null,
      "outputs": []
    },
    {
      "cell_type": "code",
      "source": [
        "# Multiplying a list by a number repeats it 'c' times\n",
        "print(c * a)"
      ],
      "metadata": {
        "id": "_M7rbhqJiong"
      },
      "execution_count": null,
      "outputs": []
    },
    {
      "cell_type": "code",
      "source": [
        "# Division throws an error!\n",
        "print(weights_list / 3)"
      ],
      "metadata": {
        "id": "lt4vNZ4siwjS"
      },
      "execution_count": null,
      "outputs": []
    },
    {
      "cell_type": "markdown",
      "source": [
        "This is **not** how mathematical vectors behave, which can be frustrating when doing scientific or AI computations.\n",
        "\n",
        "---\n",
        "\n",
        "### NumPy to the Rescue\n",
        "**NumPy** provides the **numpy array** object, which behaves like a true mathematical vector or matrix.\n",
        "- with NumPy arrays, operations like `+` and `*` work element-wise:"
      ],
      "metadata": {
        "id": "JsKdohIniggZ"
      }
    },
    {
      "cell_type": "code",
      "source": [
        "# import numpy module\n",
        "# typically the alias 'np' is used for convenience\n",
        "import numpy as np"
      ],
      "metadata": {
        "id": "oQSd5OpPkbCm"
      },
      "execution_count": null,
      "outputs": []
    },
    {
      "cell_type": "code",
      "source": [
        "# then, create a numpy array\n",
        "# np.array(input_list) takes a python list and returns a numpy array\n",
        "a_array = np.array(a)\n",
        "b_array = np.array(b)\n",
        "\n",
        "print(a_array)\n",
        "print(b_array)"
      ],
      "metadata": {
        "id": "ayKTIIcbk3Ql"
      },
      "execution_count": null,
      "outputs": []
    },
    {
      "cell_type": "code",
      "source": [
        "# Element-wise addition\n",
        "print(a_array + b_array)"
      ],
      "metadata": {
        "id": "UfQ-F0i5k95A"
      },
      "execution_count": null,
      "outputs": []
    },
    {
      "cell_type": "code",
      "source": [
        "# Scalar multiplication\n",
        "print(c * a_array)"
      ],
      "metadata": {
        "id": "d_01_cUuk2aL"
      },
      "execution_count": null,
      "outputs": []
    },
    {
      "cell_type": "code",
      "source": [
        "# Scalar Division\n",
        "print(a_array / 2)"
      ],
      "metadata": {
        "id": "NhHJt6IAlBNX"
      },
      "execution_count": null,
      "outputs": []
    },
    {
      "cell_type": "markdown",
      "source": [
        "### Creating NumPy Arrays\n",
        "\n",
        "Numpy arrays can be created directly from a basic python list using the `np.array(python_list)` function\n",
        "- `np.array(python_list)` returns a numpy array with the same elements as the input `python_list`"
      ],
      "metadata": {
        "id": "Rm70oEAAl4mu"
      }
    },
    {
      "cell_type": "code",
      "source": [
        "# From a Python list\n",
        "molecular_weights = [18.015, 46.07, 17.031]\n",
        "weights_array = np.array(molecular_weights)\n",
        "\n",
        "print(weights_array)"
      ],
      "metadata": {
        "id": "y2ZAHbXql6gV"
      },
      "execution_count": null,
      "outputs": []
    },
    {
      "cell_type": "markdown",
      "source": [
        "Numpy arrays can also be created using several **built-in** functions:\n",
        "\n",
        "| Function | Description |\n",
        "|----------|-------------|\n",
        "| `np.zeros(shape)` | Create an array filled with zeros. |\n",
        "| `np.ones(shape)` | Create an array filled with ones. |\n",
        "| `np.linspace(start, stop, num)` | Create an array with a specified number of evenly spaced values between two points. |\n",
        "| `np.array(data)` | Create an array from a Python list or tuple. |\n"
      ],
      "metadata": {
        "id": "G9cGmLttmZIH"
      }
    },
    {
      "cell_type": "code",
      "source": [
        "# list of zeros\n",
        "zeros_array = np.zeros(5)\n",
        "print(zeros_array)"
      ],
      "metadata": {
        "id": "TJ46f-h4l9fA"
      },
      "execution_count": null,
      "outputs": []
    },
    {
      "cell_type": "code",
      "source": [
        "# list of ones\n",
        "ones_array = np.ones(5)\n",
        "print(ones_array)"
      ],
      "metadata": {
        "id": "A6e4jaeRnPNL"
      },
      "execution_count": null,
      "outputs": []
    },
    {
      "cell_type": "code",
      "source": [
        "# list of evenly spaced\n",
        "linspace_array = np.linspace(0, 1, 5)  # from 0 to 1, 5 points\n",
        "print(linspace_array)"
      ],
      "metadata": {
        "id": "axF0ackjnRK-"
      },
      "execution_count": null,
      "outputs": []
    },
    {
      "cell_type": "markdown",
      "source": [
        "### NumPy Mathematical Functions (and how they differ from `math`)\n",
        "\n",
        "Both Python’s built-in `math` module and NumPy offer mathematical functions, but they serve **different purposes**:\n",
        "\n",
        "- **`math`** works on **single numbers (scalars)**.\n",
        "- **NumPy** works on **arrays (vectors, matrices)** and applies operations **element-wise** (vectorized), which is faster and more convenient for scientific computing.\n",
        "\n",
        "\n",
        "### Element-wise operations vs. scalar operations\n"
      ],
      "metadata": {
        "id": "0g7plAsipzWt"
      }
    },
    {
      "cell_type": "code",
      "source": [
        "import math\n",
        "import numpy as np\n",
        "\n",
        "x_scalar = 2.0\n",
        "x_array  = np.array([1.0, 4.0, 9.0, 16.0])"
      ],
      "metadata": {
        "id": "p5cZbrMrqz3P"
      },
      "execution_count": null,
      "outputs": []
    },
    {
      "cell_type": "code",
      "source": [
        "# math → scalar\n",
        "math.sqrt(x_scalar)      # ✅ works"
      ],
      "metadata": {
        "id": "pZpGNfcqq18Z"
      },
      "execution_count": null,
      "outputs": []
    },
    {
      "cell_type": "code",
      "source": [
        "# math → array\n",
        "math.sqrt(x_array)       # ❌ TypeError (math expects a number, not an array)"
      ],
      "metadata": {
        "id": "_roRj9Mvq6p1"
      },
      "execution_count": null,
      "outputs": []
    },
    {
      "cell_type": "code",
      "source": [
        "# NumPy → scalar\n",
        "np.sqrt(x_scalar)         # ✅ works"
      ],
      "metadata": {
        "id": "tX0AnBcZrCRR"
      },
      "execution_count": null,
      "outputs": []
    },
    {
      "cell_type": "code",
      "source": [
        "# NumPy → array\n",
        "np.sqrt(x_array)          # ✅ works"
      ],
      "metadata": {
        "id": "bUTrR3F2q3n0"
      },
      "execution_count": null,
      "outputs": []
    },
    {
      "cell_type": "markdown",
      "source": [
        "Here are a list of common mathematical functions in numpy.\n",
        "- notice that they are very similar to the functions in the `math` module, except that they can operate on `numpy` arrays\n",
        "\n",
        "| NumPy Function      | Mathematical Expression | Description |\n",
        "|---------------------|-------------------------|-------------|\n",
        "| `np.sqrt(x)`        | $\\sqrt{x}$              | Square root of each element in `x`. |\n",
        "| `np.square(x)`        | $\\sqrt{x}$              | Square  of each element in `x`. |\n",
        "| `np.abs(x)`         | $|x|$                   | Absolute value of each element in `x`. |\n",
        "| `np.exp(x)`         | $e^{x}$                 | Exponential function applied element-wise. |\n",
        "| `np.log(x)`         | $\\ln(x)$                | Natural logarithm applied element-wise. |\n",
        "| `np.log10(x)`       | $\\log_{10}(x)$          | Base-10 logarithm applied element-wise. |\n",
        "| `np.sin(x)`         | $\\sin(x)$               | Sine of each element in radians. |\n",
        "| `np.cos(x)`         | $\\cos(x)$               | Cosine of each element in radians. |\n",
        "| `np.tan(x)`         | $\\tan(x)$               | Tangent of each element in radians. |\n",
        "| `np.power(x, y)`    | $x^y$                   | Element-wise exponentiation. |\n",
        "| `np.mean(x)`        | $\\frac{1}{n} \\sum_{i=1}^{n} x_i$ | Mean (average) of elements in `x`. |\n",
        "| `np.sum(x)`         | $\\sum_{i=1}^{n} x_i$    | Sum of all elements in `x`. |\n",
        "| `np.min(x)`         | $\\min(x)$               | Minimum value in `x`. |\n",
        "| `np.max(x)`         | $\\max(x)$               | Maximum value in `x`. |"
      ],
      "metadata": {
        "id": "xOdp_mRS2J5M"
      }
    },
    {
      "cell_type": "markdown",
      "source": [
        "### ✅ Problem 10: Boiling Point AI model revisited with numpy [7 points]\n",
        "\n",
        "In this problem, we will return to our boiling point AI model and use NumPy arrays along with built-in NumPy functions to re-calculate the MAE and MSE. This will demonstrate both the efficiency and simplicity of NumPy compared to raw Python list processing.\n",
        "\n",
        "---\n",
        "\n",
        "We will re-use the same **target** and AI model **prediction** data from Problem 9:\n",
        "\n",
        "| Molecule      | True Boiling Point (°C) | Predicted Boiling Point (°C) |\n",
        "|---------------|------------------------|------------------------------|\n",
        "| Water         | 100.0                  | 98.0                         |\n",
        "| Ethanol       | 78.4                   | 79.5                         |\n",
        "| Ammonia       | -33.3                  | -30.0                        |\n",
        "| Acetone       | 56.1                   | 60.0                         |\n",
        "| Benzene       | 80.1                   | 78.0              \n",
        "\n",
        "We will also re-calculate the same **MAE** and **MSE** error metrics with the equations reproduced below:\n",
        "\n",
        "$$ \\text{MAE} = \\frac{1}{n} \\sum_{i=1}^{n} \\left| y_i - \\hat{y}_i \\right| $$  \n",
        "\n",
        "$$ \\text{MSE} = \\frac{1}{n} \\sum_{i=1}^{n} \\left( y_i - \\hat{y}_i \\right)^2 $$  \n",
        "\n",
        "Where:  \n",
        "- $ y_i $ = true boiling point  \n",
        "- $ \\hat{y}_i $ = predicted boiling point  \n",
        "- $ n $ = number of data points (i.e. number of molecules in the dataset).  \n",
        "\n",
        "And:\n",
        "- $ y_i - \\hat{y}_i $ is the **error** for molecule $i$\n",
        "- $ \\left| y_i - \\hat{y}_i \\right| $ is the **absolute error** for molecule $i$\n",
        "- $\\left( y_i - \\hat{y}_i \\right)^2 $ is the **squared error** for molecule $i$\n",
        "\n",
        "**Task:**  \n",
        "\n",
        "1.Convert the python lists `true_boiling_points` and `predicted_boiling_points` to numpy arrays\n",
        "\n",
        "2.Use NumPy to compute an `errors` array, where each element is the **error** between the predicted boiling point and the corresponding true boiling point. (not the absolute error or squared error, just the **error**).\n",
        "\n",
        "**Tip:**  \n",
        "- You can subtract NumPy arrays directly to get an array of errors in one line of code, without using a `for` loop.\n",
        "\n",
        "3.From the `errors` array, calculate the **mean absolute error** (**MAE**) and **mean squared error** (**MSE** ). Use **NumPy array operations** instead of a `for` loop.  \n",
        "\n",
        "**Tips:**  \n",
        "- Use `np.abs()` to take the absolute value of every element in a numpy array\n",
        "- Use `np.square()` to take the square of every element in a numpy array\n",
        "- Use `np.mean()` to compute the average of a numpy array."
      ],
      "metadata": {
        "id": "MVS-hoHqxDCb"
      }
    },
    {
      "cell_type": "code",
      "source": [
        "# Variables (provided)\n",
        "# Run this cell to initialize the variables\n",
        "true_boiling_points = [100.0, 78.4, -33.3, 56.1, 80.1]   # °C\n",
        "predicted_boiling_points = [98.0, 79.5, -30.0, 60.0, 78.0] # °C"
      ],
      "metadata": {
        "id": "WYow8V6Ux-nJ"
      },
      "execution_count": null,
      "outputs": []
    },
    {
      "cell_type": "code",
      "source": [
        "# Task 1\n",
        "true_boiling_points_array = NotImplemented ### YOUR SOLUTION HERE\n",
        "predicted_boiling_points_array = NotImplemented ### YOUR SOLUTION HERE\n",
        "print(true_boiling_points_array)\n",
        "print(predicted_boiling_points_array)"
      ],
      "metadata": {
        "id": "Tldw0qYoz417"
      },
      "execution_count": null,
      "outputs": []
    },
    {
      "cell_type": "code",
      "source": [
        "# Task 2\n",
        "errors = NotImplemented ### YOUR SOLUTION HERE\n",
        "print(errors)\n"
      ],
      "metadata": {
        "id": "4hsYy5Imz_a4"
      },
      "execution_count": null,
      "outputs": []
    },
    {
      "cell_type": "code",
      "source": [
        "# Task 3\n",
        "MAE = NotImplemented ### YOUR SOLUTION HERE\n",
        "MSE = NotImplemented ### YOUR SOLUTION HERE\n",
        "\n",
        "print(\"the MAE is:\", MAE)\n",
        "print(\"the MSE is\", MSE)"
      ],
      "metadata": {
        "id": "tTTeLq3S0DdQ"
      },
      "execution_count": null,
      "outputs": []
    },
    {
      "cell_type": "markdown",
      "source": [
        "## 2.7 Logical Comparisons\n"
      ],
      "metadata": {
        "id": "6krcbJZ0Pch4"
      }
    },
    {
      "cell_type": "markdown",
      "source": [
        "Up to this point, we’ve mostly been using Python like a calculator.  \n",
        "However, the real power of programming comes from **controlling the flow of a program** based on conditions.\n",
        "\n",
        "With **logic flow**, we can:\n",
        "- Evaluate whether a statement is `True` or `False`\n",
        "- Change what the program does depending on the result\n",
        "\n",
        "### Boolean Variables\n",
        "To make this possible, we use **boolean variables** — a special data type that can only hold two values:  \n",
        "- `True`  \n",
        "- `False`\n",
        "\n",
        "Often, boolean values are created by performing a **logical comparison** between two values.\n",
        "\n",
        "---\n",
        "\n",
        "### Logical Comparison Operators\n",
        "\n",
        "| Operator | Example      | Description                  |\n",
        "|----------|--------------|------------------------------|\n",
        "| `==`     | `a == b`     | Equal to                     |\n",
        "| `!=`     | `a != b`     | Not equal to                 |\n",
        "| `<`      | `a < b`      | Less than                    |\n",
        "| `>`      | `a > b`      | Greater than                 |\n",
        "| `<=`     | `a <= b`     | Less than or equal to        |\n",
        "| `>=`     | `a >= b`     | Greater than or equal to     |\n",
        "| `and`    | `a and b`    | Logical AND                  |\n",
        "| `or`     | `a or b`     | Logical OR                   |\n",
        "| `not`    | `not a`      | Logical NOT (negation)       |\n",
        "\n",
        "---\n",
        "\n",
        "**TIP:**  \n",
        "- The **assignment operator** (`=`) sets a value to a variable.  \n",
        "- The **equality operator** (`==`) compares two values and returns `True` or `False`.  \n",
        "\n",
        "\n",
        "**Below are examples of boolean variables and comparisons**"
      ],
      "metadata": {
        "id": "gOHj4KzAnu-y"
      }
    },
    {
      "cell_type": "code",
      "source": [
        "# a boolean variable assigned to be True\n",
        "I_am_a_student = True\n",
        "print(I_am_a_student)"
      ],
      "metadata": {
        "id": "Kzvh_f6xImoe"
      },
      "execution_count": null,
      "outputs": []
    },
    {
      "cell_type": "code",
      "source": [
        "# a boolean variable assigned to be False\n",
        "I_am_a_nobel_prize_winner = False\n",
        "print(I_am_a_nobel_prize_winner)"
      ],
      "metadata": {
        "id": "hfQgC0WLJAjF"
      },
      "execution_count": null,
      "outputs": []
    },
    {
      "cell_type": "code",
      "source": [
        "a = 10\n",
        "b = 20"
      ],
      "metadata": {
        "id": "s6I3OyDqKmWz"
      },
      "execution_count": null,
      "outputs": []
    },
    {
      "cell_type": "code",
      "source": [
        "# a is equal to b\n",
        "print(a == b)"
      ],
      "metadata": {
        "id": "pvXH1-QlK_A3"
      },
      "execution_count": null,
      "outputs": []
    },
    {
      "cell_type": "code",
      "source": [
        "# a is not equal to b\n",
        "print(a != b)"
      ],
      "metadata": {
        "id": "_Xa39hhOK1c7"
      },
      "execution_count": null,
      "outputs": []
    },
    {
      "cell_type": "code",
      "source": [
        "# a is less than b\n",
        "print(a < b)"
      ],
      "metadata": {
        "id": "Xv0ZTi1gK1hV"
      },
      "execution_count": null,
      "outputs": []
    },
    {
      "cell_type": "code",
      "source": [
        "# a is greater than or equal to b\n",
        "print(a >= b)"
      ],
      "metadata": {
        "id": "O6RSL9cmK1kz"
      },
      "execution_count": null,
      "outputs": []
    },
    {
      "cell_type": "markdown",
      "source": [
        "### ✅ Problem 11: Conditional operations [4 points]\n",
        "\n",
        "Logical comparisons are widely used in AI and Machine Learning — for example, when checking whether a model’s accuracy is high enough to be acceptable.\n",
        "\n",
        "---\n",
        "**Context**.\n",
        "In this problem, you’ll work with two AI models that have been trained to classify molecular structures.  \n",
        "Their classification accuracies are shown below:\n",
        "\n",
        "| Model Name | Accuracy |\n",
        "|------------|----------|\n",
        "| Model A    | 87 %   |\n",
        "| Model B    | 92 %    |\n",
        "\n",
        "---\n",
        "\n",
        "**Task:**  \n",
        "Using the variables provided, write logical comparisons to answer the following questions:\n",
        "\n",
        "1. Check if **Model A’s accuracy** is greater than **Model B’s accuracy**.\n",
        "2. Check if **Model B’s accuracy** is greater than or equal to `0.90`.\n",
        "3. Check if **both models** have accuracy above `0.85`.\n",
        "4. Check if **at least one** of the models has accuracy above `0.90`.\n",
        "\n",
        "**Tip:** Wrap your logical comparisons inside a `print` statement so that once they evaluate they will print out either `True` or `False`. For example, `print(a >= b)`\n",
        "\n",
        "\n",
        "\n"
      ],
      "metadata": {
        "id": "aXaHbEMdKNPQ"
      }
    },
    {
      "cell_type": "code",
      "source": [
        "# Variables (provided)\n",
        "# Run this cell to initialize the variables\n",
        "model_a_accuracy = 0.87\n",
        "model_b_accuracy = 0.92"
      ],
      "metadata": {
        "id": "-QANXH5wN6_I"
      },
      "execution_count": null,
      "outputs": []
    },
    {
      "cell_type": "code",
      "source": [
        "# Task 1\n",
        "print(NotImplemented) ### YOUR SOLUTION HERE"
      ],
      "metadata": {
        "id": "LpQjUTeHLO1u"
      },
      "execution_count": null,
      "outputs": []
    },
    {
      "cell_type": "code",
      "source": [
        "# Expression 2\n",
        "print(NotImplemented) ### YOUR SOLUTION HERE"
      ],
      "metadata": {
        "id": "bt40nfZVLd2q"
      },
      "execution_count": null,
      "outputs": []
    },
    {
      "cell_type": "code",
      "source": [
        "# Expression 3\n",
        "print(NotImplemented) ### YOUR SOLUTION HERE"
      ],
      "metadata": {
        "id": "9WSfjRiFL-3K"
      },
      "execution_count": null,
      "outputs": []
    },
    {
      "cell_type": "code",
      "source": [
        "# Expression 4\n",
        "print(NotImplemented) ### YOUR SOLUTION HERE"
      ],
      "metadata": {
        "id": "dGyasqMFM4Ke"
      },
      "execution_count": null,
      "outputs": []
    },
    {
      "cell_type": "markdown",
      "source": [
        "## 2.8 If/Else Statements"
      ],
      "metadata": {
        "id": "_MFGI8tgANUq"
      }
    },
    {
      "cell_type": "markdown",
      "source": [
        "Now that we understand boolean variables, we can introduce our first **logical flow control structure**: the **if/else** statement.\n",
        "\n",
        "An **if/else** statement lets your program make decisions and run different blocks of code depending on whether a **boolean variable** is `True` or `False`.\n",
        "\n",
        "### Python Syntax Example\n",
        "\n",
        "    if boolean_condition:\n",
        "        # Code to run if the condition is True\n",
        "    else:\n",
        "        # Code to run if the condition is False\n",
        "\n",
        "### In Plain English:\n",
        "- The `if` keyword checks the value of a **boolean condition**.  \n",
        "- If the condition is `True`, the indented block under `if` executes.  \n",
        "- If the condition is `False`, the indented block under `else` executes instead.  \n",
        "\n",
        "**TIP:**  \n",
        "The following `if` statements are equivalent in Python:  \n",
        "\n",
        "    if condition == True:\n",
        "        # Execute this code\n",
        "\n",
        "    if (condition == True):\n",
        "        # Execute this code\n",
        "\n",
        "    if condition:\n",
        "        # Execute this code\n",
        "\n",
        "---\n",
        "\n",
        "**Next:** Let’s look at some practical examples of if/else statements in action."
      ],
      "metadata": {
        "id": "RHXfG4xvNWon"
      }
    },
    {
      "cell_type": "code",
      "source": [
        "# A standard if/else statement\n",
        "\n",
        "I_understand = False # what happens if you change this to True?\n",
        "\n",
        "if I_understand == True:\n",
        "  print(\"Let's move on!\")\n",
        "else:\n",
        "  print(\"More practice necessary\")"
      ],
      "metadata": {
        "id": "o86r_2iARqtD"
      },
      "execution_count": null,
      "outputs": []
    },
    {
      "cell_type": "code",
      "source": [
        "# The 'else' part of the condition is optional!\n",
        "my_AI_model_is_sentient = False\n",
        "\n",
        "if my_AI_model_is_sentient:\n",
        "  print(\"Terminate program immediately!\")"
      ],
      "metadata": {
        "id": "ta1Jet48S1kZ"
      },
      "execution_count": null,
      "outputs": []
    },
    {
      "cell_type": "markdown",
      "source": [
        "### ✅ Problem 12: Model Evaluation with If/Else [4 points total]\n",
        "\n",
        "#### **Context**   \n",
        "In this problem, you’ll work with a model trained to predict molecular solubility.  \n",
        "You will decide whether the model's predictions are \"good\" based on its accuracy.\n",
        "\n",
        "| Model Name   | Accuracy |\n",
        "|--------------|----------|\n",
        "| SolubNet-1   | 0.78     |\n",
        "\n",
        "<br>\n",
        "  \n",
        "**Task 1 [2 points]:** Modify the code below so the **if/else** statement.\n",
        "- Prints `\"Good model!\"` if the accuracy is **greater than or equal to 0.8**.  \n",
        "- Prints `\"Model needs improvement.\"` otherwise.\n",
        "\n"
      ],
      "metadata": {
        "id": "C8CR3muXXtBT"
      }
    },
    {
      "cell_type": "code",
      "source": [
        "# Variables (provided)\n",
        "# Run this cell to initialize the variables\n",
        "accuracy = 0.78"
      ],
      "metadata": {
        "id": "tc6BWV_E0aT8"
      },
      "execution_count": null,
      "outputs": []
    },
    {
      "cell_type": "code",
      "source": [
        "# Task 1:\n",
        "\n",
        "if NotImplemented: ### YOUR SOLUTION HERE\n",
        "  print(\"Good model!\")\n",
        "else:\n",
        "  print(\"Model needs improvement.\")"
      ],
      "metadata": {
        "id": "t-UF_TkiBESt"
      },
      "execution_count": null,
      "outputs": []
    },
    {
      "cell_type": "markdown",
      "source": [
        "**Task 2 [2 points]:** We would like to be more descriptive of our model's performance. In the code cell below, update the **if/else** statments to print out the correct performance rating for a model with a given accuracy (between 0 and 1). The ratings follow a traditional grading scheme, adapted for model evaluation.\n",
        "\n",
        "$$ A: [90 \\% -100 \\%] $$\n",
        "$$ B: [80 \\% -90 \\%) $$\n",
        "$$ C: [70 \\% -80 \\%) $$\n",
        "$$ D: [60 \\% -70 \\%) $$\n",
        "$$ F: [0 \\% -60 \\%) $$\n",
        "\n",
        "Here, square brackets $[,]$ indicate the boundary value is included in the range, and round parentheses $)$ indicate the boundary value is not included. For example, a model with accuracy exactly 0.90 earns an **A**, not a **B**.\n",
        "\n",
        "**Tip** - If statements can be chained using the `elif` keyword, which is shorthand for `else if`\n",
        "\n",
        "```\n",
        "if condition1:\n",
        "  # code that executes if condition1 is true\n",
        "elif condition2:\n",
        "  # code that executes if condition2 is true\n",
        "else:\n",
        "  # code that executes if neither condition1 or condition2 were true\n",
        "```"
      ],
      "metadata": {
        "id": "htQ3RhCSV1vc"
      }
    },
    {
      "cell_type": "code",
      "source": [
        "# Variables (provided)\n",
        "accuracy = 0.78"
      ],
      "metadata": {
        "id": "h-hPPeIT3D3K"
      },
      "execution_count": null,
      "outputs": []
    },
    {
      "cell_type": "code",
      "source": [
        "# Task 2\n",
        "\n",
        "if NotImplemented: ### YOUR SOLUTION HERE\n",
        "    grade = \"A\"\n",
        "elif NotImplemented: ### YOUR SOLUTION HERE\n",
        "    grade = \"B\"\n",
        "elif NotImplemented: ### YOUR SOLUTION HERE\n",
        "    grade = \"C\"\n",
        "elif NotImplemented: ### YOUR SOLUTION HERE\n",
        "    grade = \"D\"\n",
        "else:\n",
        "    grade = \"F\"\n",
        "\n",
        "print(grade)"
      ],
      "metadata": {
        "id": "5Z35ZYMYWLsl"
      },
      "execution_count": null,
      "outputs": []
    },
    {
      "cell_type": "markdown",
      "source": [
        "## 2.9 While Loops (Logical Flow)"
      ],
      "metadata": {
        "id": "IYQaSCvWAgSY"
      }
    },
    {
      "cell_type": "markdown",
      "source": [
        "\n",
        "A **while loop** is another way to control the flow of a program.  \n",
        "It repeatedly executes a block of code **as long as** a specified boolean condition remains `True`.\n",
        "\n",
        "The general syntax is:\n",
        "\n",
        "    while loop_condition == True:\n",
        "        # This code loops repeatedly\n",
        "\n",
        "### How to exit a while loop\n",
        "\n",
        "There are two common ways to break out of a `while` loop:\n",
        "\n",
        "#### 1. Update the loop condition inside the loop\n",
        "By changing the value of the condition variable to `False`, the while loop will exit after completing that loop.\n",
        "\n",
        "    while loop_condition == True:\n",
        "        # some code\n",
        "\n",
        "        if exit_condition:\n",
        "            loop_condition = False  # stop the loop after this iteration\n",
        "\n",
        "        # more code (this code **will** be executed on the last iteration)\n",
        "\n",
        "#### 2. Use the `break` keyword\n",
        "The `break` statement immediately stops the loop, regardless of the condition.\n",
        "\n",
        "    while loop_condition == True:\n",
        "        # some code\n",
        "\n",
        "        if exit_condition:\n",
        "            break  # stop the loop immediately\n",
        "\n",
        "        # more code (this code **will not** be executed on the last iteration)\n",
        "\n",
        "  \n",
        "\n"
      ],
      "metadata": {
        "id": "qv_uyreUVMc0"
      }
    },
    {
      "cell_type": "markdown",
      "source": [
        "### ✅ Problem 13: Model training with while loops [2 points]\n",
        "\n",
        "**Context:**  \n",
        "In real AI training scenarios, models are often iteratively improved over many training cycles until they reach a desired accuracy.  \n",
        "Here, we simulate that process using a `while` loop. Each loop iteration increases the model’s accuracy by 10%, mimicking gradual improvements over time.\n",
        "\n",
        "**Tip:** Remember, the operator `+=` adds the value on the right-hand side to the variable on the left.  \n",
        "For example:\n",
        "\n",
        "    model_accuracy += 10\n",
        "\n",
        "is equivalent to:\n",
        "\n",
        "    model_accuracy = model_accuracy + 10\n",
        "\n",
        "---\n",
        "\n",
        "**Task:** Update the `while` statement so that the training process stops when the model accuracy is **exactly 80%**.\n",
        "\n",
        "**Tip:** If your loop keeps running and doesn't stop as expected, you can interrupt the kernel (see Section 1.4) to halt execution.\n",
        "If the output is especially long, you can also use \"Clear output\" from the code cell's output dropdown menu accessible from ⋮ to tidy things up.\n"
      ],
      "metadata": {
        "id": "c0WStaDX7EGP"
      }
    },
    {
      "cell_type": "code",
      "source": [
        "# Task\n",
        "model_accuracy = 0\n",
        "\n",
        "while NotImplemented: ### YOUR SOLUTION HERE\n",
        "  model_accuracy += 10     # the model improves with training!\n",
        "  print(\"Model accuracy is: \", model_accuracy, \"%.\")"
      ],
      "metadata": {
        "collapsed": true,
        "id": "HonxJqqGjE2k"
      },
      "execution_count": null,
      "outputs": []
    },
    {
      "cell_type": "markdown",
      "source": [
        "## 2.10 Functions\n"
      ],
      "metadata": {
        "id": "jP4iQXxVA-1L"
      }
    },
    {
      "cell_type": "markdown",
      "source": [
        "\n",
        "\n",
        "Functions let us package a sequence of steps into a reusable block of code.  \n",
        "They help make programs **clearer**, **shorter**, and **easier to test**.\n",
        "\n",
        "A function can:\n",
        "- take **inputs** (called *parameters* or *arguments*),\n",
        "- do some computation,\n",
        "- and optionally **return** a result.\n",
        "\n",
        "```\n",
        "def function_name(input):\n",
        "    output = # do some computation with the input.\n",
        "    return output\n",
        "```\n",
        "\n",
        "For example, the simple function below calculates the area of a circle with radius $r$:\n",
        "```\n",
        "def area_of_circle(r):\n",
        "    area =  math.pi * (r ** 2)\n",
        "    return area\n",
        "```\n",
        "\n",
        "\n",
        "### When is the code inside a function executed?\n",
        "A **function definition** tells Python *what* the function should do when it is used,  \n",
        "but **does not run that code immediately**.  \n",
        "The function’s code only runs when you **call** the function by its name followed by parentheses, e.g.:"
      ],
      "metadata": {
        "id": "AmWRKy-QQfwW"
      }
    },
    {
      "cell_type": "code",
      "source": [
        "import math # load math module to make math.pi available\n",
        "\n",
        "def area_of_circle(r):          # r is a parameter\n",
        "  area =  math.pi * (r ** 2)\n",
        "  print(\"hello, from inside the function!\")\n",
        "  return area                   # value sent back to the caller\n",
        "\n",
        "# Nothing is executed yet — we have only defined the function.\n",
        "# Notice how the print statement inside the function definition was not executed.\n",
        "# Thus, there is no \"hello, from inside the function!\" output from this cell."
      ],
      "metadata": {
        "id": "mfQRV3IO-2Vw"
      },
      "execution_count": null,
      "outputs": []
    },
    {
      "cell_type": "code",
      "source": [
        "# Now we call the function and store it in a variable.\n",
        "area_result = area_of_circle(2)\n",
        "\n",
        "# Notice how the print statement inside the function was executed\n",
        "# Thus, there is \"hello, from inside the function!\" visible in the cell output."
      ],
      "metadata": {
        "id": "Hxnl0aBvCTxC"
      },
      "execution_count": null,
      "outputs": []
    },
    {
      "cell_type": "code",
      "source": [
        "# we can also print out the result returned by the function:\n",
        "print(area_result)"
      ],
      "metadata": {
        "id": "KeNXDLsFCqri"
      },
      "execution_count": null,
      "outputs": []
    },
    {
      "cell_type": "markdown",
      "source": [
        "The number of inputs and outputs can also be varied, see the examples below:"
      ],
      "metadata": {
        "id": "dvAt2rfQA35o"
      }
    },
    {
      "cell_type": "code",
      "source": [
        "# Multiple inputs:\n",
        "def add(a, b):             # a and b are two parameters, separated by a comma\n",
        "  result = a + b\n",
        "  return result            # value sent back to the caller\n",
        "\n",
        "print(add(5, 20))          # call the 'add' function with arguments 5 and 20"
      ],
      "metadata": {
        "id": "A5FLhgWV-Waq"
      },
      "execution_count": null,
      "outputs": []
    },
    {
      "cell_type": "code",
      "source": [
        "# We've already seen an example of multiple inputs:\n",
        "# The print statement will accept any number of input strings, separated by commas.\n",
        "print(\"this is an example\", \"of calling print with two inputs!\")"
      ],
      "metadata": {
        "id": "pK28hCNPjfPe"
      },
      "execution_count": null,
      "outputs": []
    },
    {
      "cell_type": "code",
      "source": [
        "# No inputs or outputs\n",
        "def greet():\n",
        "  print(\"Hello!\")\n",
        "\n",
        "# notice how even with zero inputs,\n",
        "# parenthesis are still needed to call the function!\n",
        "greet()"
      ],
      "metadata": {
        "id": "HCstseP1Bvnl"
      },
      "execution_count": null,
      "outputs": []
    },
    {
      "cell_type": "code",
      "source": [
        "# Multiple outputs\n",
        "def area_and_perimeter(r):\n",
        "  # calculates area and perimeter of circle with radius r\n",
        "  area = math.pi * (r ** 2)\n",
        "  perimeter = 2 * math.pi * r\n",
        "  return area, perimeter\n",
        "\n",
        "\n",
        "# Notice how multiple outputs are returned as a **list**\n",
        "returned_list = area_and_perimeter(1)\n",
        "print(returned_list)\n",
        "\n",
        "# outputs can be individually accessed from the returned list\n",
        "area_returned = returned_list[0]\n",
        "perimeter_returned = returned_list[1]"
      ],
      "metadata": {
        "id": "TWQ3wXqADrLD"
      },
      "execution_count": null,
      "outputs": []
    },
    {
      "cell_type": "markdown",
      "source": [
        "### ✅ Problem 14: Implement Linear and Logistic models [4 points total]\n",
        "**Context:**  \n",
        "In machine learning, a **model** takes an input (or inputs), applies some learned parameters, and produces an output — called a **prediction**.  \n",
        "For example, a very simple model could predict a molecular property (such as solubility) based on one or more molecular descriptors.  \n",
        "\n",
        "Below are two common simple models:  \n",
        "\n",
        "1. **Linear Regression (1D)** [2 points]\n",
        "$$  y = m \\times x + b $$\n",
        "\n",
        "where $m$ is the slope, $b$ is the intercept, and $x$ is your input descriptor value.  \n",
        "\n",
        "2. **Logistic Regression (1D)**  [2 points]\n",
        "$$ y = \\frac{1}{1 + e^{-(m \\times x + b)}} $$  \n",
        "where the output $y$ is between 0 and 1, representing a probability.  \n",
        "\n",
        "---\n",
        "\n",
        "**Task:**  \n",
        "Write two Python functions:  \n",
        "1. `linear_model(x, m, b)` — computes the output of the linear regression model for a single $x$.  \n",
        "2. `logistic_model(x, m, b)` — computes the output of the logistic regression model for a single $x$.  \n",
        "\n",
        "evaluate both models for:  \n",
        "- $x = 2.5$  \n",
        "- $m = 1.2$  \n",
        "- $b = -0.5$  \n",
        "\n",
        "**Tip:** Might it be helpful to call the linear model **within** the logistic function?\n"
      ],
      "metadata": {
        "id": "oDzqq-wjFylt"
      }
    },
    {
      "cell_type": "code",
      "source": [
        "# Function 1: Linear model\n",
        "def linear_model(x, m, b):\n",
        "  NotImplemented ### YOUR SOLUTION HERE\n",
        "\n",
        "print(linear_model(2.5, 1.2, -0.5))"
      ],
      "metadata": {
        "id": "qEXuL2DrGXI6"
      },
      "execution_count": null,
      "outputs": []
    },
    {
      "cell_type": "code",
      "source": [
        "# Function 2: Logistic model\n",
        "def logistic_model(x, m, b):\n",
        "  NotImplemented ### YOUR SOLUTION HERE\n",
        "\n",
        "print(logistic_model(2.5, 1.2, -0.5))"
      ],
      "metadata": {
        "id": "Sef7wuAfGXer"
      },
      "execution_count": null,
      "outputs": []
    },
    {
      "cell_type": "markdown",
      "source": [
        "## 2.11 Plotting with the `matplotlib` module"
      ],
      "metadata": {
        "id": "IDsyOSNuBC5c"
      }
    },
    {
      "cell_type": "markdown",
      "source": [
        "\n",
        "So far, we’ve worked with numbers, variables, and functions — but data becomes far more useful when we can **visualize** it.  \n",
        "In Python, one of the most widely used libraries for creating plots and charts is **[Matplotlib](https://matplotlib.org/)**.\n",
        "\n",
        "We’ll use Matplotlib’s `pyplot` module (often imported as `plt`) to create figures, plot data, and display the results.\n",
        "\n",
        "To import: `import matplotlib.pyplot as plt`\n",
        "\n",
        "### Why visualize data?\n",
        "- Helps identify **patterns** and **relationships** in the data.\n",
        "- Makes results **easier to interpret** and explain.\n",
        "- Is a **critical step** in machine learning, where we often visualize training progress, model predictions, or statistical distributions.\n",
        "\n",
        "### Example:\n",
        "The code below displays a simple plot of $ y = x^2 $ between -5 and 5"
      ],
      "metadata": {
        "id": "UPXqFX5L6mKi"
      }
    },
    {
      "cell_type": "code",
      "source": [
        "import matplotlib.pyplot as plt\n",
        "import numpy as np\n",
        "\n",
        "\n",
        "x_values = np.linspace(-5, 5, 100)     # x is a list of 100 evenly spaced values from -5 to 5\n",
        "y_values = x_values ** 2               # y is a list of those 100 x values, squared\n",
        "\n",
        "plt.plot(x_values, y_values)           # plot a line passing through the 100 (x,y) values\n",
        "plt.xlabel(\"x\")                        # Label x-axis\n",
        "plt.ylabel(\"y\")                        # Label y-axis\n",
        "plt.title(\"Example Plot: y = x^2\")\n",
        "plt.grid(True)                         # Show a grid\n",
        "plt.show()                             # Display the plot"
      ],
      "metadata": {
        "id": "0wDUp85vIfLU"
      },
      "execution_count": null,
      "outputs": []
    },
    {
      "cell_type": "markdown",
      "source": [
        "Matplotlib’s `pyplot` module works like a **state machine** — it keeps track of the \"current\" figure and plot settings until you change them or start a new figure.\n",
        "- Think of it like a painter’s canvas: once you create it, you can keep adding strokes (plots, labels, legends) until you decide to clear it or start a fresh canvas.\n",
        "- Each call to functions like `plt.plot()` or `plt.title()` adds elements to the current figure.\n",
        "---\n",
        "\n",
        "Here is a table of common matplotlib commands:\n",
        "\n",
        "| Command | Description |\n",
        "|---------|-------------|\n",
        "| `import matplotlib.pyplot as plt` | Imports the Matplotlib `pyplot` interface. |\n",
        "| `plt.figure()` | Creates a new figure (canvas) for plotting. |\n",
        "| `plt.plot(x, y)` | Plots a line graph of `y` versus `x`. |\n",
        "| `plt.scatter(x, y)` | Creates a scatter plot of `y` versus `x` |\n",
        "| `plt.xlabel(\"Label\")` | Adds a label to the x-axis. |\n",
        "| `plt.ylabel(\"Label\")` | Adds a label to the y-axis. |\n",
        "| `plt.title(\"Title\")` | Adds a title to the plot. |\n",
        "| `plt.legend()` | Displays a legend for labeled plot elements. |\n",
        "| `plt.grid(True)` | Adds a grid to the plot. |\n",
        "| `plt.xlim(min, max)` | Sets the range of the x-axis. |\n",
        "| `plt.ylim(min, max)` | Sets the range of the y-axis. |\n",
        "\n",
        "\n",
        "#### Styling plots\n",
        "\n",
        "The `plt.plot` command can take in many additional, optional arguments that control the style of the plot, for example:"
      ],
      "metadata": {
        "id": "Wb3BAq_OJTHv"
      }
    },
    {
      "cell_type": "code",
      "source": [
        "# change the line color\n",
        "plt.plot(x_values, y_values, color=\"red\")\n",
        "plt.title(\"Change the line color\")"
      ],
      "metadata": {
        "id": "EQ0O_xYnKWek"
      },
      "execution_count": null,
      "outputs": []
    },
    {
      "cell_type": "code",
      "source": [
        "# Change the line graph style (dashed line)\n",
        "plt.plot(x_values, y_values, linestyle='--')\n",
        "plt.title(\"Change the line graph style (dashed line)\")"
      ],
      "metadata": {
        "id": "1_u6nypMOhaB"
      },
      "execution_count": null,
      "outputs": []
    },
    {
      "cell_type": "code",
      "source": [
        "# Mark individual data points\n",
        "plt.plot(x_values, y_values, marker='o')\n",
        "plt.title(\"Mark individual data points\")"
      ],
      "metadata": {
        "id": "0ddMUEEYKccb"
      },
      "execution_count": null,
      "outputs": []
    },
    {
      "cell_type": "code",
      "source": [
        "# Multiple style settings at once:\n",
        "# 1. change line color\n",
        "# 2. change line graph style (dashed line)\n",
        "# 3. mark individual data points\n",
        "plt.plot(x_values, y_values, color=\"red\", linestyle='--', marker='o')\n",
        "plt.title(\"Multiple style settings at once\")"
      ],
      "metadata": {
        "id": "ZtfuzUn2j-NB"
      },
      "execution_count": null,
      "outputs": []
    },
    {
      "cell_type": "code",
      "source": [
        "# Add a legend\n",
        "plt.plot(x_values, y_values, label='y = x^2')    # label this data for the legend\n",
        "plt.legend()                                     # display the legend\n",
        "plt.title(\"Add a legend\")"
      ],
      "metadata": {
        "id": "1V9eaBGnLcHf"
      },
      "execution_count": null,
      "outputs": []
    },
    {
      "cell_type": "markdown",
      "source": [
        "### ✅ Problem 15: Visualizing Model Predictions [9 points]\n",
        "\n",
        "**Context:**  \n",
        "In the previous section, you implemented two simple machine learning “models”:\n",
        "1. A **linear regression** model:  \n",
        "   $ y = m \\times x + b $\n",
        "2. A **logistic (sigmoid) model**:  \n",
        "   $ \\sigma(x) = \\frac{1}{1 + e^{-x}} $\n",
        "\n",
        "**Task:**  \n",
        "Using your previously defined functions, use matplotlib code to:\n",
        "\n",
        "1. Compute predictions for both models across all `x` values using the following parameters:\n",
        "$$ m = 1.2 \\quad b = -0.5 $$\n",
        "\n",
        "2. Plot both functions **on the same figure**, with:\n",
        "   - A **solid blue line** for the linear regression model.\n",
        "   - A **dashed red line** for the logistic function.\n",
        "3. Add axis labels, a title, a legend, and a grid.\n",
        "\n",
        "**Hint:**  \n",
        "- Reuse the equations from your previous problems.  \n",
        "- Use `plt.plot()` to draw each curve and `plt.legend()` to distinguish them.  \n"
      ],
      "metadata": {
        "id": "C1Gwz9rvMfog"
      }
    },
    {
      "cell_type": "code",
      "source": [
        "# Variables (provided)\n",
        "# Run this cell to initialize the variables\n",
        "m = 1.2\n",
        "b = -0.5\n",
        "x_values = np.linspace(-2, 2, 100)"
      ],
      "metadata": {
        "id": "HZXu6W5cMfPH"
      },
      "execution_count": null,
      "outputs": []
    },
    {
      "cell_type": "code",
      "source": [
        "\n",
        "# Task 1: compute predictions for both models across all x values\n",
        "y_values_linear = NotImplemented ### YOUR SOLUTION HERE\n",
        "y_values_logistic = NotImplemented ### YOUR SOLUTION HERE\n",
        "\n",
        "# Task 2: plot both functions on the same figure,\n",
        "# with a solid blue line for the linear model\n",
        "# and a dashed red line for the logistic model\n",
        "NotImplemented ### YOUR SOLUTION HERE\n",
        "NotImplemented ### YOUR SOLUTION HERE\n",
        "\n",
        "# Task 3: add features:\n",
        "# axis labels\n",
        "NotImplemented ### YOUR SOLUTION HERE\n",
        "NotImplemented ### YOUR SOLUTION HERE\n",
        "\n",
        "# title\n",
        "NotImplemented ### YOUR SOLUTION HERE\n",
        "\n",
        "# legend\n",
        "NotImplemented ### YOUR SOLUTION HERE\n",
        "\n",
        "# grid\n",
        "NotImplemented ### YOUR SOLUTION HERE"
      ],
      "metadata": {
        "id": "mo6kOGT4OEjV"
      },
      "execution_count": null,
      "outputs": []
    },
    {
      "cell_type": "markdown",
      "source": [
        "## 2.12 Applications in the Molecular Sciences\n",
        "\n",
        "Python has a rich ecosystem for AI and data analysis in the molecular sciences. In this course, we’ll often need to inspect molecules in 3D—examining their geometry—and retrieve key properties.\n",
        "\n",
        "We’ll primarily use two libraries:\n",
        "- **RDKit** — load/create molecules, compute descriptors, and query chemical information.\n",
        "- **py3Dmol** — interactively visualize molecular structures in 3D within a notebook.\n",
        "\n",
        "Together, these tools let us load compounds, compute properties, and render structures interactively.\n",
        "\n",
        "**Run the code cell below to install some of these libraries:**\n"
      ],
      "metadata": {
        "id": "lERijfcsPiQ0"
      }
    },
    {
      "cell_type": "code",
      "source": [
        "# Install RDKit and py3Dmol in Colab\n",
        "!pip install rdkit py3Dmol requests\n",
        "\n",
        "from rdkit import Chem\n",
        "from rdkit.Chem import AllChem, Descriptors\n",
        "import py3Dmol\n",
        "import requests\n"
      ],
      "metadata": {
        "id": "_4oqX0FoCkll"
      },
      "execution_count": null,
      "outputs": []
    },
    {
      "cell_type": "markdown",
      "source": [
        "### ✅ Problem 16: Visualizing Molecules with Python [4 points total]\n",
        "\n",
        "**Tasks**: Modify and execute the code blocks in each task to visualize molecules in different styles.\n",
        "\n",
        "**Task 1 [1 point].** Execute the code below, which visualizes the 'water' molecule. Using the table below, change the PubChem CID number in the code cell in order to visualize 'Dopamine'.\n",
        "\n",
        "| Molecule | Formula | PubChem CID |\n",
        "|---|---|---|\n",
        "| Water | H₂O | 962 |\n",
        "| Ethanol | C₂H₆O | 702 |\n",
        "| Glucose | C₆H₁₂O₆ | 5793 |\n",
        "| Caffeine | C₈H₁₀N₄O₂ | 2519 |\n",
        "| Aspirin (acetylsalicylic acid) | C₉H₈O₄ | 2244 |\n",
        "| Ibuprofen | C₁₃H₁₈O₂ | 3672 |\n",
        "| Carbon dioxide | CO₂ | 280 |\n",
        "| Dopamine | C₈H₁₁NO₂ | 681 |\n",
        "| Penicillin | C₁₆H₁₈N₂O₄S | 2349"
      ],
      "metadata": {
        "id": "pEWvCm20mnXw"
      }
    },
    {
      "cell_type": "code",
      "source": [
        "cid = 962 ### YOUR SOLUTION HERE\n",
        "\n",
        "url = f\"https://pubchem.ncbi.nlm.nih.gov/rest/pug/compound/cid/{cid}/SDF\"\n",
        "sdf_data = requests.get(url).text\n",
        "\n",
        "# Load into an RDKit molecule object\n",
        "mol = Chem.MolFromMolBlock(sdf_data, removeHs=False)\n",
        "\n",
        "# Generate 3D coordinates if missing\n",
        "AllChem.EmbedMolecule(mol, AllChem.ETKDG())\n",
        "\n",
        "# Convert molecule to 3D coordinates for py3Dmol\n",
        "mol_block = Chem.MolToMolBlock(mol)\n",
        "\n",
        "# Inspect some properties\n",
        "print(\"Formula:\", Chem.rdMolDescriptors.CalcMolFormula(mol))\n",
        "print(\"Molecular Weight:\", Descriptors.MolWt(mol))\n",
        "\n",
        "# Display in 3D\n",
        "view = py3Dmol.view(width=500, height=400)\n",
        "view.addModel(mol_block, \"sdf\")\n",
        "view.setStyle('sphere')\n",
        "view.zoomTo()\n",
        "view.show()"
      ],
      "metadata": {
        "id": "MbyuiEBqRggh"
      },
      "execution_count": null,
      "outputs": []
    },
    {
      "cell_type": "markdown",
      "source": [
        "**Task 2 [1 point].** Let's change the visualization style. Previously, we were using the 'sphere' style, which renders each atom as a ball, colored by element type (red=oxygen, grey=carbon, blue=nitrogen). This is good for seeing the shape of the molecule, but it is hard to see how they are connected!\n",
        "\n",
        "Using the table below, visualize **caffiene** using the 'stick' style, which shows individual chemical bonds as sticks. Don't forget to look up the CID of caffiene, available above. You can change the visualization style in the line of python containing `view.setStyle('sphere')`\n",
        "\n",
        "| Style | What it represents | Typical use |\n",
        "|---|---|---|\n",
        "| line| Thin lines for bonds; minimalist atoms | Fast overview; small molecules |\n",
        "| cross | Crosshairs at atom positions (no bonds) | Emphasize atom positions without bonds |\n",
        "| stick | Cylinders for bonds; small atom spheres (ball-and-stick feel via radius/scale) | General small-molecule work |\n",
        "| sphere | Atoms as spheres (vdW radii) | Packing/contacts; quick shape |\n",
        "| cartoon | Protein/nucleic secondary structure (ribbons/tubes, helices, sheets) | Biomacromolecules |\n"
      ],
      "metadata": {
        "id": "KMvNg8jXsSFA"
      }
    },
    {
      "cell_type": "code",
      "source": [
        "cid = 962 ### YOUR SOLUTION HERE\n",
        "url = f\"https://pubchem.ncbi.nlm.nih.gov/rest/pug/compound/cid/{cid}/SDF\"\n",
        "sdf_data = requests.get(url).text\n",
        "\n",
        "# Load into an RDKit molecule object\n",
        "mol = Chem.MolFromMolBlock(sdf_data, removeHs=False)\n",
        "\n",
        "# Generate 3D coordinates if missing\n",
        "AllChem.EmbedMolecule(mol, AllChem.ETKDG())\n",
        "\n",
        "# Convert molecule to 3D coordinates for py3Dmol\n",
        "mol_block = Chem.MolToMolBlock(mol)\n",
        "\n",
        "# Inspect some properties\n",
        "print(\"Formula:\", Chem.rdMolDescriptors.CalcMolFormula(mol))\n",
        "print(\"Molecular Weight:\", Descriptors.MolWt(mol))\n",
        "\n",
        "# Display in 3D\n",
        "view = py3Dmol.view(width=500, height=400)\n",
        "view.addModel(mol_block, \"sdf\")\n",
        "view.setStyle('sphere') ### YOUR SOLUTION HERE\n",
        "view.zoomTo()\n",
        "view.show()"
      ],
      "metadata": {
        "id": "mm5FT8-WsECD"
      },
      "execution_count": null,
      "outputs": []
    },
    {
      "cell_type": "markdown",
      "source": [
        "**Task 3 [1 point]:** Now let's visualize some **proteins** which are larger molecules used by living organisms to accomplish biological functions.\n",
        "\n",
        "Modify the code below by changing the pdb_id to visualize the SARS-CoV-2 spike.\n",
        "\n",
        "| Protein | Function | Example PDB ID |\n",
        "|---|---|---|\n",
        "| Hemoglobin | Oxygen transport in blood | 4HHB |\n",
        "| Insulin | Hormone that regulates blood glucose | 3I40 |\n",
        "| SARS-CoV-2 spike (S) | Viral surface glycoprotein mediating ACE2-dependent entry | 6VSB |\n",
        "| DNA polymerase I (Klenow fragment) | DNA synthesis/repair | 1KLN |"
      ],
      "metadata": {
        "id": "OrJdPUhJt-oX"
      }
    },
    {
      "cell_type": "code",
      "source": [
        "# Choose a PDB ID from the Protein Data Bank\n",
        "pdb_id = \"3I40\"  ### YOUR SOLUTION HERE\n",
        "\n",
        "# Fetch the PDB file text from RCSB\n",
        "pdb_url = f\"https://files.rcsb.org/download/{pdb_id}.pdb\"\n",
        "protein = requests.get(pdb_url).text\n",
        "\n",
        "# Create the viewer\n",
        "view = py3Dmol.view(width=600, height=400)\n",
        "view.addModel(protein, \"pdb\")                      # load the protein\n",
        "view.setStyle('stick')\n",
        "view.zoomTo()\n",
        "view.show()"
      ],
      "metadata": {
        "id": "OAaHo1U9uU6q"
      },
      "execution_count": null,
      "outputs": []
    },
    {
      "cell_type": "markdown",
      "source": [
        "**Task 4 [1 point]**: Change the visualization style for the SARS-CoV-spike protein to the 'cartoon style'. For large molecules like this, the 'cartoon' visualization style is useful to see the overall structure of the protein without seeing each individual bond.\n"
      ],
      "metadata": {
        "id": "LrjYypIdvTGC"
      }
    },
    {
      "cell_type": "code",
      "source": [
        "# Choose a PDB ID from the Protein Data Bank\n",
        "pdb_id = \"3I40\"  ### YOUR SOLUTION HERE\n",
        "\n",
        "# Fetch the PDB file text from RCSB\n",
        "pdb_url = f\"https://files.rcsb.org/download/{pdb_id}.pdb\"\n",
        "protein = requests.get(pdb_url).text\n",
        "\n",
        "# Create the viewer\n",
        "view = py3Dmol.view(width=600, height=400)\n",
        "view.addModel(protein, \"pdb\")                      # load the protein\n",
        "view.setStyle('stick')  ### YOUR SOLUTION HERE\n",
        "view.zoomTo()\n",
        "view.show()"
      ],
      "metadata": {
        "id": "PG6ZStNavtBJ"
      },
      "execution_count": null,
      "outputs": []
    },
    {
      "cell_type": "markdown",
      "source": [
        "# Congratulations!\n",
        "\n",
        "You have completed Lab 1, and should now be aquainted with Introductory Python for AI in the Molecular Sciences."
      ],
      "metadata": {
        "id": "jnWdZor_wL_8"
      }
    },
    {
      "cell_type": "code",
      "source": [],
      "metadata": {
        "id": "EXh9mCmWwYRw"
      },
      "execution_count": null,
      "outputs": []
    }
  ]
}