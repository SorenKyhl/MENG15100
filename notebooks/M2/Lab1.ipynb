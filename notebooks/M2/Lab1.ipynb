{
  "nbformat": 4,
  "nbformat_minor": 0,
  "metadata": {
    "colab": {
      "provenance": [],
      "toc_visible": true
    },
    "kernelspec": {
      "name": "python3",
      "display_name": "Python 3"
    },
    "language_info": {
      "name": "python"
    }
  },
  "cells": [
    {
      "cell_type": "markdown",
      "source": [
        "# **MENG 15100** Lab 1\n",
        "\n",
        "Welcome to the first lab of MENG 15100: Machine Learning and Artificial Intelligence for Molecular Discovery and Engineering\n",
        "\n",
        "In this lab, you will learn the basics of coding in a **Jupyter Notebook** using **Google Colab** and get an introduction to **Python programming**, one of the most widely used languages in AI development.\n",
        "\n",
        "This lab starts from first principles—**no prior coding experience is required.** For every exercise, you will be provided with baseline Python code, and you will only be asked to make minor edits or adaptations (e.g., change a variable’s value, adjust the number of iterations, or modify a plot’s formatting).\n"
      ],
      "metadata": {
        "id": "PFFF7ciKsJGe"
      }
    },
    {
      "cell_type": "markdown",
      "source": [
        "## Lab Structure and Grading\n",
        "The lab is organized as follows:\n",
        "- **Topics** – Broad units (e.g., *1. Jupyter Notebooks, 2. Introductory Python*).\n",
        "- **Sections** – Subdivisions within each Topic (e.g., *1.2 Editing and Executing Cells*).\n",
        "- **Problems** – Each Section ends with a Problem to be completed in the Jupyter Notebook. Problems may involve:\n",
        "  - Short-answer questions\n",
        "  - Modifications to existing Python code\n",
        "  - Note: Many Problems contain multiple tasks.\n"
      ],
      "metadata": {
        "id": "Oc9LzwhsM1V4"
      }
    },
    {
      "cell_type": "markdown",
      "source": [
        "## Table of Contents\n",
        "### 1. Jupyter Notebook Crash Course\n",
        "\n",
        "&emsp; 1.1 Types of Cells in a Jupyter Notebook <br>\n",
        "&emsp; 1.2 Editing and Executing Cells <br>\n",
        "&emsp; 1.3 Execution order matters! <br>\n",
        "&emsp; 1.4 The Jupyter Kernel <br>\n",
        "\n",
        "### 2. Introduction to Python Programming for AI\n",
        "&emsp; 2.1 Mathematical Operations <br>\n",
        "&emsp; 2.2 Modules; the `math` Module <br>\n",
        "&emsp; 2.3 Variables <br>\n",
        "&emsp; 2.4 Lists <br>\n",
        "&emsp; 2.5 *For* loops. <br>\n",
        "&emsp; 2.6 The `Numpy` Module <br>\n",
        "&emsp; 2.7 Logical Comparisons <br>\n",
        "&emsp; 2.8 *If/else* Statements <br>\n",
        "&emsp; 2.9 *While* Loops <br>\n",
        "&emsp; 2.10 Functions <br>\n",
        "&emsp; 2.11 Plotting; the `matplotlib` module <br>\n",
        "&emsp; 2.12 Applications in the Molecular Sciences <br>\n",
        "\n",
        "**TIP:**\n",
        "You can access the interactive Table of Contents from the panel on the far left. Use the 'bullet list' icon to expand it, and click on any section to jump straight there:\n",
        "\n",
        "<img src=\"https://github.com/SorenKyhl/MENG15100/blob/lab1/images/table_of_contents.png?raw=true\" width=\"600\">\n"
      ],
      "metadata": {
        "id": "Re_RyzTpM3qB"
      }
    },
    {
      "cell_type": "markdown",
      "source": [
        "# 1 Jupyter Notebook Crash Course"
      ],
      "metadata": {
        "id": "DBRavPhEswXT"
      }
    },
    {
      "cell_type": "markdown",
      "source": [
        "## 1.1 Types of Cells in a Jupyter Notebook"
      ],
      "metadata": {
        "id": "9HRgmqxpCk2v"
      }
    },
    {
      "cell_type": "markdown",
      "source": [
        "In this course, we’ll work in **Jupyter Notebooks**, an interactive coding environment that combines code, explanations, and results in a single place.\n",
        "\n",
        "A notebook is organized into cells, which come in two main types:\n",
        "\n",
        "- **Text cells** – for explanations, instructions, or documentation (like this one).\n",
        "\n",
        "- **Code cells** – for writing and executing Python code (like the one below).\n",
        "\n",
        "You’ll alternate between reading text cells to understand concepts and using code cells to experiment, test ideas, and solve problems."
      ],
      "metadata": {
        "id": "WfDMuxIBCl_C"
      }
    },
    {
      "cell_type": "code",
      "execution_count": null,
      "metadata": {
        "id": "SaTYLN6XsCFV"
      },
      "outputs": [],
      "source": [
        "# This is a code cell, which contains Python code.\n",
        "\n",
        "# The lines in this cell are all *comments*.\n",
        "# Comments do not run when the cell is executed.\n",
        "# Instead, they are here to help explain the code\n",
        "# or share important notes with the reader.\n",
        "#\n",
        "# In Python, any line starting with the '#' symbol\n",
        "# is treated as a comment and ignored by the computer."
      ]
    },
    {
      "cell_type": "markdown",
      "source": [
        "**Text cells** can be formatted in many ways, including:  \n",
        "\n",
        "- **Bold text**  \n",
        "- *Italic text*  \n",
        "- Bullet point lists  \n",
        "- [Links](https://www.youtube.com/watch?v=dQw4w9WgXcQ)  \n",
        "- …and much more!  \n",
        "\n",
        "The rules for formatting text are called [Markdown](https://www.markdownguide.org/basic-syntax/).  \n",
        "You don’t need to master Markdown for this course, but it’s here for reference.  \n",
        "\n",
        "<br>\n",
        "\n",
        "**Tip:** You can collapse a section by clicking the small **chevron** icon next to any text cell containing a section header. Consider collapsing each sub-section (e.g. *1.1 Types of Cells in a Jupyter Notebook*) after you complete it to track your progress and make navigation easier!\n",
        "\n",
        "<img src=\"https://github.com/SorenKyhl/MENG15100/blob/lab1/images/chevron.png?raw=true\" width=\"600\">\n",
        "\n",
        "**Heads up:** Line breaks in Markdown can be tricky at first. Pressing *Enter* in the text editor will **not** create a visible line break when the cell is rendered.\n",
        "To add a visible break, type the characters `<br>`. See [Line break best practices](https://www.markdownguide.org/basic-syntax/#line-break-best-practices) for more details.  \n"
      ],
      "metadata": {
        "id": "Dj-QzIKA0KeO"
      }
    },
    {
      "cell_type": "markdown",
      "source": [
        "## 1.2 Editing and Executing Cells\n",
        "\n"
      ],
      "metadata": {
        "id": "wZlSACkZuQ_H"
      }
    },
    {
      "cell_type": "markdown",
      "source": [
        "To edit the contents of a **text cell**:  \n",
        "- **Double-click** the cell to open the text editor.  \n",
        "- Press **Shift and Return** simultaneously to exit the text editor and render the formatted text.  \n",
        "\n",
        "To edit the contents of a **code cell**:  \n",
        "- **Click** inside the cell to open the code editor.  \n",
        "- Press **Shift and Return** simultaneously to run the code in the cell.  \n"
      ],
      "metadata": {
        "id": "7WM2nULeCh7i"
      }
    },
    {
      "cell_type": "markdown",
      "source": [
        "### ✅ Problem 1: Editing Your First Text Cell [2 points]\n",
        "<a name='problem1'></a>\n",
        "\n",
        "\n",
        "**Task:** What is your name? Edit the text cell below by replacing the placeholder text with your answer.  \n",
        "\n",
        "**Tip:** Double-click the text cell to enter edit mode, type your name, and press **Shift and Return** simultaneously to save your changes and render the formatted text.  "
      ],
      "metadata": {
        "id": "weUSkF_sxSf4"
      }
    },
    {
      "cell_type": "markdown",
      "source": [
        "YOUR ANSWER HERE"
      ],
      "metadata": {
        "id": "QJAPvGH6VF_O"
      }
    },
    {
      "cell_type": "markdown",
      "source": [
        "### ✅ Problem 2: Editing Your First Code Cell [2 points]\n",
        "<a name='problem1'></a>\n",
        "\n",
        "\n",
        "**Task:** Modify the python code below to print out \"Hello World!\".\n",
        "\n",
        "**Tip:** To print text, we use the **`print()`** function:  \n",
        "- A **function** performs a specific task (for example, printing text to the output)  \n",
        "- Functions receive inputs between parentheses:  \n",
        "  `function(input)`  \n",
        "- function inputs are also referred to as **arguments**\n",
        "- For the function `print`, the input/argument is a string of text:  \n",
        "  `print(\"string of text to print out\")`\n",
        "- Strings of text must be enclosed in quotation marks\n",
        "- Later, in section 2.10 we will learn how to write our own functions.\n",
        "- Python includes many **[built-in functions](https://docs.python.org/3/library/functions.html)**, and `print()` is one of the most commonly used.  \n",
        "\n",
        "The `print` function will take a string of text as input and print it to the **output section** of the code cell. When you run a code cell, the output appears **directly below** the cell after execution.\n",
        "\n",
        "**To run the code cell:** click to select the cell, then press **Shift + Return** (or click the “Run” ▶ button in the toolbar).  "
      ],
      "metadata": {
        "id": "CtELfW6Xx8g6"
      }
    },
    {
      "cell_type": "code",
      "source": [
        "# Problem 2: modify the python code below to print \"Hello, World\"\n",
        "print(\"string of text to print out, enclosed by quotation marks\")"
      ],
      "metadata": {
        "colab": {
          "base_uri": "https://localhost:8080/"
        },
        "id": "zLN0IMHBxjVD",
        "outputId": "93093798-e054-4e1e-83fb-a570aafa0650"
      },
      "execution_count": null,
      "outputs": [
        {
          "output_type": "stream",
          "name": "stdout",
          "text": [
            "string of text to print out, enclosed by quotation marks\n"
          ]
        }
      ]
    },
    {
      "cell_type": "markdown",
      "source": [
        "## 1.3 Execution Order Matters!\n",
        "  "
      ],
      "metadata": {
        "id": "nqphmiEq8iVS"
      }
    },
    {
      "cell_type": "markdown",
      "source": [
        "In Jupyter Notebooks, code cells are usually run from **top to bottom** — but not always!  \n",
        "You can execute cells in **any order**, and this can affect your results.  \n",
        "\n",
        "Key points to remember:  \n",
        "- The output of a cell depends on the **order** in which you run cells, **not** their position in the notebook.  \n",
        "- Unexpected results can happen if you forget the execution order.  \n",
        "- You can keep track of the execution order by looking at the **execution counter** in square brackets to the left of the cell. (e.g. `[1]`)\n",
        "- If you have not yet executed a code cell, the execution counter will be empty (e.g. `[ ]`)\n",
        "\n",
        "<br>\n",
        "\n",
        "**Example:** Let’s create our first **variable** in Python:  \n",
        "- Variables can be **named** (in this case, named `x`).  \n",
        "- Variables are **assigned** a value using the equals sign (`=`).\n",
        "\n",
        "**Tip:** Run the code cell below to create the variable `x`, assign it a value, and see the output of the `print(x)` function.  "
      ],
      "metadata": {
        "id": "9r3lX1jhJWcy"
      }
    },
    {
      "cell_type": "code",
      "source": [
        "# Example code to create a variable named x,\n",
        "# and assign it the value 15100\n",
        "x = 15100\n",
        "\n",
        "# Print the value stored in the variable x\n",
        "print(x)"
      ],
      "metadata": {
        "id": "Yh9YrDEMkmiH",
        "colab": {
          "base_uri": "https://localhost:8080/"
        },
        "outputId": "1bab5b2a-7647-436e-b03a-79461027d4cc"
      },
      "execution_count": null,
      "outputs": [
        {
          "output_type": "stream",
          "name": "stdout",
          "text": [
            "15100\n"
          ]
        }
      ]
    },
    {
      "cell_type": "markdown",
      "source": [
        "### ✅ Problem 3: Execution Order [2 points]\n",
        "\n",
        "**Context:** The three code cells below are labeled **A**, **B**, and **C**. Cells A and B assign different values to the variable x, and cell C prints the value stored in x.\n",
        "\n",
        "**Task:** Determine the order in which you need to run the cells so that cell **C** prints the number `42`. Type your answer in the text cell below.\n",
        "\n",
        "For example, if you ran the cells from top to bottom, your answer would be: \"A, B, C\"\n",
        "\n",
        "**Tip:** run the cells below in various orders and look at the output to determine the behavior of the code.\n",
        "\n",
        "**Hint:** In Python, variables can be **overwritten** — if you assign a new value to the same variable name, the old value is replaced.  \n"
      ],
      "metadata": {
        "id": "9kBhoYzAM5f5"
      }
    },
    {
      "cell_type": "markdown",
      "source": [
        "YOUR ANSWER HERE"
      ],
      "metadata": {
        "id": "5QQdjabEH1mL"
      }
    },
    {
      "cell_type": "code",
      "source": [
        "# Cell 'A'\n",
        "\n",
        "# Assign a number to a variable\n",
        "x = 42"
      ],
      "metadata": {
        "id": "xX4M2jda90Fn"
      },
      "execution_count": null,
      "outputs": []
    },
    {
      "cell_type": "code",
      "source": [
        "# Cell 'B'\n",
        "\n",
        "# Assign a string (text) to a variable\n",
        "x = \"the answer to the ultimate question of life, the universe, and everything\""
      ],
      "metadata": {
        "id": "ypo_7cg3-i8M"
      },
      "execution_count": null,
      "outputs": []
    },
    {
      "cell_type": "code",
      "source": [
        "# Cell 'C'\n",
        "\n",
        "# Print the value stored in a variable\n",
        "print(x)"
      ],
      "metadata": {
        "colab": {
          "base_uri": "https://localhost:8080/"
        },
        "id": "3pB9j4va-l-Z",
        "outputId": "66f300d4-8415-4130-fdbb-2bb6872b0765"
      },
      "execution_count": null,
      "outputs": [
        {
          "output_type": "stream",
          "name": "stdout",
          "text": [
            "the answer to the ultimate question of life, the universe, and everything\n"
          ]
        }
      ]
    },
    {
      "cell_type": "markdown",
      "source": [
        "**Tip:** When programmers are unsure about what their code is doing, they often start by **printing variables** to check their values. This technique is called **print debugging**, and it’s a powerful way to understand your program’s internal state. Don’t hesitate to use it!  \n",
        "\n",
        "**Heads up:** In Jupyter Notebooks, the value of the **last expression** in a code cell is automatically displayed, even without using `print()`. This means the two examples below are equivalent.  \n"
      ],
      "metadata": {
        "id": "HN6q6M1jH4cM"
      }
    },
    {
      "cell_type": "code",
      "source": [
        "# Explicitly call the print function to display the value of x\n",
        "x = \"MENG 15100\"\n",
        "print(x)"
      ],
      "metadata": {
        "colab": {
          "base_uri": "https://localhost:8080/"
        },
        "id": "tEX3ANgpIJw-",
        "outputId": "3a1abd21-5959-4fca-ee58-44c5d13c33e8"
      },
      "execution_count": null,
      "outputs": [
        {
          "output_type": "stream",
          "name": "stdout",
          "text": [
            "MENG 15100\n"
          ]
        }
      ]
    },
    {
      "cell_type": "code",
      "source": [
        "# Or simply place the variable name on the last line of the cell\n",
        "# Jupyter will automatically display its value\n",
        "x = \"MENG 15100\"\n",
        "x"
      ],
      "metadata": {
        "colab": {
          "base_uri": "https://localhost:8080/",
          "height": 35
        },
        "id": "V74Iv853IJuy",
        "outputId": "5f999ec8-79c6-4177-8374-2bd1d46ff82a"
      },
      "execution_count": null,
      "outputs": [
        {
          "output_type": "execute_result",
          "data": {
            "text/plain": [
              "'MENG 15100'"
            ],
            "application/vnd.google.colaboratory.intrinsic+json": {
              "type": "string"
            }
          },
          "metadata": {},
          "execution_count": 5
        }
      ]
    },
    {
      "cell_type": "markdown",
      "source": [
        "## 1.4 The Jupyter Kernel\n",
        "\n"
      ],
      "metadata": {
        "id": "y7zXxSV1J7A7"
      }
    },
    {
      "cell_type": "markdown",
      "source": [
        "The **kernel** is the “engine” that runs your code.  \n",
        "It keeps track of two important things:  \n",
        "- The **order of execution** (which cells were run, and in what order)  \n",
        "- The **internal state** of all variables in your notebook  \n",
        "\n",
        "### Restarting the Kernel  \n",
        "Restarting the kernel will:  \n",
        "- Clear all variables from memory  \n",
        "- Reset the execution counter to **0**  \n",
        "\n",
        "You should **restart the kernel** when:  \n",
        "- Your variables or notebook are in a confused state (often due to running cells out of order)  \n",
        "- You want a completely fresh start  \n",
        "\n",
        "**How to restart the kernel:**  \n",
        "<img src=\"https://github.com/SorenKyhl/MENG15100/blob/lab1/images/restart.png?raw=true\" width=\"400\">\n",
        "\n",
        "<br>\n",
        "\n",
        "### Interrupting the Kernel  \n",
        "Interrupting the kernel will:  \n",
        "- Immediately stop execution of the current code cell  \n",
        "- Keep all variable values and execution history intact  \n",
        "\n",
        "You should **interrupt the kernel** when:  \n",
        "- Your code is stuck in an **infinite loop** or a very long computation  \n",
        "- You want to stop a cell without losing your current variable states  \n",
        "\n",
        "**How to interrupt the kernel:**  \n",
        "\n",
        "\n",
        "<img src=\"https://github.com/SorenKyhl/MENG15100/blob/lab1/images/interrupt.png?raw=true\" width=\"400\">\n",
        "\n",
        "<br>\n",
        "\n",
        "**Tip:** A restart is like turning your computer off and back on — everything is cleared.  \n",
        "An interrupt is like pressing the **pause/stop** button — your work stays, but the current task stops."
      ],
      "metadata": {
        "id": "E020P8QkJanY"
      }
    },
    {
      "cell_type": "markdown",
      "source": [
        "### ✅ Problem 4: Interrupt Kernel [2 points]\n",
        "\n",
        "**Task:** The code cell below contains an **infinite loop** that will never stop on its own.  \n",
        "Run the cell to start the loop, then **interrupt** the kernel to stop it.  \n",
        "\n",
        "While the loop is running:  \n",
        "- The kernel will be busy, and no other cells can run.  \n",
        "- You’ll need to manually stop execution.  \n",
        "\n",
        "We’ll learn more about `while` loops in **Section 2: Python Programming**.  \n",
        "\n",
        "**Tip:** In Google Colab, you can click the **Stop** ⏹ button on the left of the code cell .\n"
      ],
      "metadata": {
        "id": "eERXAuM1OoI5"
      }
    },
    {
      "cell_type": "code",
      "source": [
        "# Infinite loop example — will run forever unless interrupted\n",
        "while True:\n",
        "  pass"
      ],
      "metadata": {
        "colab": {
          "base_uri": "https://localhost:8080/",
          "height": 180
        },
        "id": "trnILA3iL6_Y",
        "outputId": "ba1e0908-8288-4db4-afc0-1a6ed7b08dee"
      },
      "execution_count": null,
      "outputs": [
        {
          "output_type": "error",
          "ename": "KeyboardInterrupt",
          "evalue": "",
          "traceback": [
            "\u001b[0;31m---------------------------------------------------------------------------\u001b[0m",
            "\u001b[0;31mKeyboardInterrupt\u001b[0m                         Traceback (most recent call last)",
            "\u001b[0;32m/tmp/ipython-input-7849629.py\u001b[0m in \u001b[0;36m<cell line: 0>\u001b[0;34m()\u001b[0m\n\u001b[1;32m      1\u001b[0m \u001b[0;31m# Infinite loop example — will run forever unless interrupted\u001b[0m\u001b[0;34m\u001b[0m\u001b[0;34m\u001b[0m\u001b[0m\n\u001b[0;32m----> 2\u001b[0;31m \u001b[0;32mwhile\u001b[0m \u001b[0;32mTrue\u001b[0m\u001b[0;34m:\u001b[0m\u001b[0;34m\u001b[0m\u001b[0;34m\u001b[0m\u001b[0m\n\u001b[0m\u001b[1;32m      3\u001b[0m   \u001b[0;32mpass\u001b[0m\u001b[0;34m\u001b[0m\u001b[0;34m\u001b[0m\u001b[0m\n",
            "\u001b[0;31mKeyboardInterrupt\u001b[0m: "
          ]
        }
      ]
    },
    {
      "cell_type": "markdown",
      "source": [
        "Congratulations, you have completed Section 1.\n",
        "\n",
        "**Tip:** Consider collapsing the entire section by clicking the chevron next to the section header titled *1 Jupyter Notebook Crash Course*\n",
        "\n",
        "\n"
      ],
      "metadata": {
        "id": "1Mn9z50kMRpZ"
      }
    },
    {
      "cell_type": "markdown",
      "source": [
        "# 2 Introduction to Python Programming for AI\n",
        "\n",
        "Python is one of the most popular programming languages in the world — and a favorite in the fields of **Artificial Intelligence (AI)** and **Machine Learning (ML)**.  \n",
        "\n",
        "In this section, we’ll build your Python skills from the ground up, starting with basic math operations and gradually moving toward concepts and tools that are widely used in AI development.  \n",
        "\n",
        "Our goal is to make you comfortable writing small pieces of Python code, experimenting with them, and understanding how they work — skills that will carry over into more advanced AI and ML topics later in the course.  "
      ],
      "metadata": {
        "id": "20txAbNAMP-o"
      }
    },
    {
      "cell_type": "code",
      "source": [
        "from IPython.display import YouTubeVideo\n",
        "YouTubeVideo('x7X9w_GIm1s')"
      ],
      "metadata": {
        "colab": {
          "base_uri": "https://localhost:8080/",
          "height": 321
        },
        "id": "kV9yfVQKgiN6",
        "outputId": "3553cc13-ff01-4b44-d7e5-1475a182fcd6"
      },
      "execution_count": null,
      "outputs": [
        {
          "output_type": "execute_result",
          "data": {
            "text/plain": [
              "<IPython.lib.display.YouTubeVideo at 0x79b1d6a48440>"
            ],
            "text/html": [
              "\n",
              "        <iframe\n",
              "            width=\"400\"\n",
              "            height=\"300\"\n",
              "            src=\"https://www.youtube.com/embed/x7X9w_GIm1s\"\n",
              "            frameborder=\"0\"\n",
              "            allowfullscreen\n",
              "            \n",
              "        ></iframe>\n",
              "        "
            ],
            "image/jpeg": "[encoded data removed]"
          },
          "metadata": {},
          "execution_count": 10
        }
      ]
    },
    {
      "cell_type": "markdown",
      "source": [
        "## 2.1 Mathematical Operations\n"
      ],
      "metadata": {
        "id": "l21NVA2FPaOM"
      }
    },
    {
      "cell_type": "markdown",
      "source": [
        "Python can be used to perform a wide variety of arithmetic calculations.  \n",
        "\n",
        "Here are some of the most common operations:  \n",
        "\n",
        "| Operation       | Description                                           |\n",
        "|-----------------|-------------------------------------------------------|\n",
        "| `a + b`         | Addition                                               |\n",
        "| `a - b`         | Subtraction                                            |\n",
        "| `a * b`         | Multiplication                                         |\n",
        "| `a / b`         | Division                                               |\n",
        "| `a ** b`        | Exponentiation (raise a base to a power)               |\n",
        "| `a // b`        | Integer division (divide and round **down**)           |\n",
        "| `a % b`         | Modulo operation (divide and return the remainder)     |\n",
        "| `abs(a)`        | Absolute value function                                |\n",
        "\n",
        "<br>\n",
        "\n",
        "**TIP!** Use parenthesis `()` to control the order of arithmetic operations.  \n",
        "For example, the expression $\\frac{10}{3+2}$ is written in python as `10 / (3+2)`\n",
        "\n",
        "\n",
        "**Heads Up!** The exponentiation operator is **not** the caret symbol (`^`), as is used in many online calculators.\n",
        "\n",
        "<br>\n",
        "\n",
        "**Below are some examples of arithmetic calculations in Python using the operators introduced above.**\n",
        "\n",
        "**Run each code cell to observe the output.**"
      ],
      "metadata": {
        "id": "n7S43BVgWJpA"
      }
    },
    {
      "cell_type": "code",
      "source": [
        "# addition\n",
        "2 + 3"
      ],
      "metadata": {
        "id": "ijlEiYWlWYyG",
        "colab": {
          "base_uri": "https://localhost:8080/"
        },
        "outputId": "58c59ad8-3aa7-4554-bc0c-a06eff3af348"
      },
      "execution_count": null,
      "outputs": [
        {
          "output_type": "execute_result",
          "data": {
            "text/plain": [
              "5"
            ]
          },
          "metadata": {},
          "execution_count": 6
        }
      ]
    },
    {
      "cell_type": "code",
      "source": [
        "# subtraction\n",
        "2 - 3"
      ],
      "metadata": {
        "id": "3-ABilOQWbxQ",
        "colab": {
          "base_uri": "https://localhost:8080/"
        },
        "outputId": "d86883ff-ea94-4f30-ae06-16d9d4f05000"
      },
      "execution_count": null,
      "outputs": [
        {
          "output_type": "execute_result",
          "data": {
            "text/plain": [
              "-1"
            ]
          },
          "metadata": {},
          "execution_count": 7
        }
      ]
    },
    {
      "cell_type": "code",
      "source": [
        "# multiplication\n",
        "2 * 3"
      ],
      "metadata": {
        "id": "7wX38JO7Whlh",
        "colab": {
          "base_uri": "https://localhost:8080/"
        },
        "outputId": "4d7d9222-6a9f-4a27-d337-b7497655aa87"
      },
      "execution_count": null,
      "outputs": [
        {
          "output_type": "execute_result",
          "data": {
            "text/plain": [
              "6"
            ]
          },
          "metadata": {},
          "execution_count": 8
        }
      ]
    },
    {
      "cell_type": "code",
      "source": [
        "# division\n",
        "2 / 3"
      ],
      "metadata": {
        "id": "3M86VwvkWl9E",
        "colab": {
          "base_uri": "https://localhost:8080/"
        },
        "outputId": "6102f275-9ffd-4549-81fc-5e87e916b105"
      },
      "execution_count": null,
      "outputs": [
        {
          "output_type": "execute_result",
          "data": {
            "text/plain": [
              "0.6666666666666666"
            ]
          },
          "metadata": {},
          "execution_count": 9
        }
      ]
    },
    {
      "cell_type": "code",
      "source": [
        "# exponentiation (i.e. taking a base to a power)\n",
        "2 ** 3"
      ],
      "metadata": {
        "id": "RMCdawJCWn1o",
        "colab": {
          "base_uri": "https://localhost:8080/"
        },
        "outputId": "ab13ace7-3f1e-4225-9131-8ceba8546495"
      },
      "execution_count": null,
      "outputs": [
        {
          "output_type": "execute_result",
          "data": {
            "text/plain": [
              "8"
            ]
          },
          "metadata": {},
          "execution_count": 10
        }
      ]
    },
    {
      "cell_type": "code",
      "source": [
        "# Integer division\n",
        "10 // 3"
      ],
      "metadata": {
        "id": "V2nz_t7rXTwa",
        "colab": {
          "base_uri": "https://localhost:8080/"
        },
        "outputId": "6bbb81be-39ca-402c-d25a-7d393346c006"
      },
      "execution_count": null,
      "outputs": [
        {
          "output_type": "execute_result",
          "data": {
            "text/plain": [
              "3"
            ]
          },
          "metadata": {},
          "execution_count": 11
        }
      ]
    },
    {
      "cell_type": "code",
      "source": [
        "# Modulo\n",
        "10 % 3"
      ],
      "metadata": {
        "id": "S6Kq0xW5XXbC",
        "colab": {
          "base_uri": "https://localhost:8080/"
        },
        "outputId": "af0d5659-e768-41f2-9881-4d4f42d24a5c"
      },
      "execution_count": null,
      "outputs": [
        {
          "output_type": "execute_result",
          "data": {
            "text/plain": [
              "1"
            ]
          },
          "metadata": {},
          "execution_count": 12
        }
      ]
    },
    {
      "cell_type": "code",
      "source": [
        "# Absolute value\n",
        "abs(-5)"
      ],
      "metadata": {
        "id": "LRMwQqHF60F4",
        "colab": {
          "base_uri": "https://localhost:8080/"
        },
        "outputId": "f14ec8fa-212e-47ec-90e7-162e7f2f8ee0"
      },
      "execution_count": null,
      "outputs": [
        {
          "output_type": "execute_result",
          "data": {
            "text/plain": [
              "5"
            ]
          },
          "metadata": {},
          "execution_count": 13
        }
      ]
    },
    {
      "cell_type": "markdown",
      "source": [
        "### ✅ Problem 5: Arithmetic Calculations [5 points]\n",
        "\n",
        "**Task:** Write Python code that evaluates the following expressions. [Each task is worth 1 point]\n",
        "\n",
        "1. $5 \\times 3 + 20$\n",
        "\n",
        "2. $\\frac{2 + 5 }{ 8 - 6}$\n",
        "\n",
        "3. $\\left| 1 - (4-2)^{10-8} \\right|$  (don't miss the absolute value)\n",
        "\n",
        "4. Print the **quotient** (whole number restult) of $100 \\div 7$\n",
        "\n",
        "5. Print the **remainder** of $100 \\div 7$\n"
      ],
      "metadata": {
        "id": "upEZvIxiYHi5"
      }
    },
    {
      "cell_type": "code",
      "source": [
        "# Expression 1\n",
        "NotImplemented ### YOUR SOLUTION HERE"
      ],
      "metadata": {
        "id": "LNRNaBtRY8BS",
        "colab": {
          "base_uri": "https://localhost:8080/"
        },
        "outputId": "9c04fcba-725d-4cb3-b0e1-861a7dae67ed"
      },
      "execution_count": null,
      "outputs": [
        {
          "output_type": "execute_result",
          "data": {
            "text/plain": [
              "NotImplemented"
            ]
          },
          "metadata": {},
          "execution_count": 16
        }
      ]
    },
    {
      "cell_type": "code",
      "source": [
        "# Expression 2\n",
        "NotImplemented ### YOUR SOLUTION HERE"
      ],
      "metadata": {
        "id": "UA-VVVB1Y8MO",
        "colab": {
          "base_uri": "https://localhost:8080/"
        },
        "outputId": "847b278e-1b4a-442e-b198-d34f72779dbc"
      },
      "execution_count": null,
      "outputs": [
        {
          "output_type": "execute_result",
          "data": {
            "text/plain": [
              "NotImplemented"
            ]
          },
          "metadata": {},
          "execution_count": 18
        }
      ]
    },
    {
      "cell_type": "code",
      "source": [
        "# Expression 3\n",
        "NotImplemented ### YOUR SOLUTION HERE"
      ],
      "metadata": {
        "id": "mI8wqlO9Y8Ta",
        "colab": {
          "base_uri": "https://localhost:8080/"
        },
        "outputId": "6bd070b4-c67d-4536-ab78-63a2c25260d3"
      },
      "execution_count": null,
      "outputs": [
        {
          "output_type": "execute_result",
          "data": {
            "text/plain": [
              "NotImplemented"
            ]
          },
          "metadata": {},
          "execution_count": 20
        }
      ]
    },
    {
      "cell_type": "code",
      "source": [
        "# Expression 4\n",
        "NotImplemented ### YOUR SOLUTION HERE"
      ],
      "metadata": {
        "id": "uQg-L21mY8Z5",
        "colab": {
          "base_uri": "https://localhost:8080/"
        },
        "outputId": "62769081-c56c-4bda-bc45-863d3b693edf"
      },
      "execution_count": null,
      "outputs": [
        {
          "output_type": "execute_result",
          "data": {
            "text/plain": [
              "NotImplemented"
            ]
          },
          "metadata": {},
          "execution_count": 22
        }
      ]
    },
    {
      "cell_type": "code",
      "source": [
        "# Expression 5\n",
        "NotImplemented ### YOUR SOLUTION HERE"
      ],
      "metadata": {
        "id": "x5sR7mxlbu1R",
        "colab": {
          "base_uri": "https://localhost:8080/"
        },
        "outputId": "faae795f-dc7b-489a-df19-40d52de8e5c1"
      },
      "execution_count": null,
      "outputs": [
        {
          "output_type": "execute_result",
          "data": {
            "text/plain": [
              "NotImplemented"
            ]
          },
          "metadata": {},
          "execution_count": 24
        }
      ]
    },
    {
      "cell_type": "markdown",
      "source": [
        "## 2.2 Modules; the `math` module\n"
      ],
      "metadata": {
        "id": "J546wUSSchfB"
      }
    },
    {
      "cell_type": "markdown",
      "source": [
        "What if you want to do more complicated mathematical operations, like $\\sqrt{2}$?\n",
        "\n",
        "These **functions** are part of a **module** named math.\n",
        "- A module is a collection of related functions and tools bundled together.\n",
        "- We will use many modules throughout this course, so it’s important to get familiar with how to use them early on.\n",
        "\n",
        "Before you can use these functions, you need to **import** the module:  \n",
        "- `import math`\n",
        "- this line of code only needs to be executed **once** in the jupyter notebook to make the `math` module available in all code cells\n",
        "\n",
        "Here are a few commonly used functions from the `math` module. For a full list, check the [official math module documentation](https://docs.python.org/3/library/math.html).\n",
        "\n",
        "| Math Function Call                | Algebraic Expression             | Description                                         |\n",
        "|---------------------------------|---------------------------------|-----------------------------------------------------|\n",
        "| `math.sqrt(x)`                  | $$\\sqrt{x}$$                    | Square root of \\(x\\)                                |\n",
        "| `math.cos(x)`, `math.sin(x)`, `math.tan(x)` | $$\\cos(x), \\sin(x), \\tan(x)$$ | Trigonometric functions (input in radians)         |\n",
        "| `math.pi`                      | $$\\pi = 3.14159 \\ldots$$        | The mathematical constant pi                        |\n",
        "| `math.e`                       | $$e = 2.718 \\ldots$$             | Euler’s number (base of natural logarithms)     |\n",
        "| `math.exp(x)`                  | $$e^{x}$$                       | Exponential function, returns \\(e^x\\)              |\n",
        "| `math.log(x, base)`            | $$\\log_{b}(x)$$                 | Logarithm of \\(x\\) to the base \\(b\\) (default is natural log) |\n",
        "\n",
        "<br>\n",
        "\n",
        "**Below are some examples of arithmetic calculations in Python using the `math` module functions introduced above:**\n",
        "\n",
        "**Run each code cell to observe the output.**"
      ],
      "metadata": {
        "id": "J_yAk5hDO6qY"
      }
    },
    {
      "cell_type": "code",
      "source": [
        "# import the math module (only needs to be executed once)\n",
        "import math"
      ],
      "metadata": {
        "id": "-TJ9pbzqpNYQ"
      },
      "execution_count": null,
      "outputs": []
    },
    {
      "cell_type": "code",
      "source": [
        "# square root of 2\n",
        "math.sqrt(2)"
      ],
      "metadata": {
        "id": "ZBRoQMdspQoS",
        "colab": {
          "base_uri": "https://localhost:8080/"
        },
        "outputId": "f2239e61-fe74-4021-95c3-329e4b2bb49d"
      },
      "execution_count": null,
      "outputs": [
        {
          "output_type": "execute_result",
          "data": {
            "text/plain": [
              "1.4142135623730951"
            ]
          },
          "metadata": {},
          "execution_count": 27
        }
      ]
    },
    {
      "cell_type": "code",
      "source": [
        "# cosine of -180 degrees (pi radians)\n",
        "math.cos(math.pi)"
      ],
      "metadata": {
        "id": "xix8RcS5pQXW",
        "colab": {
          "base_uri": "https://localhost:8080/"
        },
        "outputId": "1da99b6c-8491-47bf-a257-2dceff4d2d4a"
      },
      "execution_count": null,
      "outputs": [
        {
          "output_type": "execute_result",
          "data": {
            "text/plain": [
              "-1.0"
            ]
          },
          "metadata": {},
          "execution_count": 28
        }
      ]
    },
    {
      "cell_type": "code",
      "source": [
        "# euler's constant to the power of 2\n",
        "math.exp(2)"
      ],
      "metadata": {
        "id": "sS9-ZUborU9Y",
        "colab": {
          "base_uri": "https://localhost:8080/"
        },
        "outputId": "6276359d-8f48-4a9f-9b94-59253731fd25"
      },
      "execution_count": null,
      "outputs": [
        {
          "output_type": "execute_result",
          "data": {
            "text/plain": [
              "7.38905609893065"
            ]
          },
          "metadata": {},
          "execution_count": 29
        }
      ]
    },
    {
      "cell_type": "code",
      "source": [
        "# log base 2 of 8\n",
        "math.log(8, 2)"
      ],
      "metadata": {
        "id": "nElPafzHGLfa",
        "colab": {
          "base_uri": "https://localhost:8080/"
        },
        "outputId": "030b584e-b108-4c5a-e93f-af3d83983064"
      },
      "execution_count": null,
      "outputs": [
        {
          "output_type": "execute_result",
          "data": {
            "text/plain": [
              "3.0"
            ]
          },
          "metadata": {},
          "execution_count": 30
        }
      ]
    },
    {
      "cell_type": "markdown",
      "source": [
        "### ✅ Problem 6: Arithmetic Calculations with the Math Module [4 points]\n",
        "\n",
        "**Task:** Write Python code that evaluates the following expressions using functions from the `math` module. [Each task is worth 1 point]\n",
        "\n",
        "1. Calculate the **area** of a circle with radius $r = 3$.\n",
        "\n",
        "$$ A = \\pi r^2 $$\n",
        "\n",
        "2. Calculate the **distance** between two values, $y_1 = 2, y_2 = 5$  \n",
        "\n",
        "  (We will frequently encounter the distance function later in this class, as it is used in AI models to compute the model error or 'loss'.)\n",
        "\n",
        "$$ d(y_1, y_2) = \\sqrt{(y_1 - y_2)^2} $$\n",
        "\n",
        "3. Calculate the value of the **sigmoid function** for $x=0.5$\n",
        "\n",
        " (We will frequently encounter the sigmoid function later in this class, as it is used as an activation function in artificial neural networks.)\n",
        "\n",
        "$$ \\sigma(x) = \\frac{1}{1 + e^{-x}} $$\n",
        "\n",
        "4. Calculate the cosine of 60 degrees.\n",
        "\n",
        "  (**Hint:** `math.cos(x)` takes input $x$ in **radians**. Use `math.radians()` to convert degrees to radians.)\n",
        "\n",
        "\n",
        "$$ \\cos(60 ^{\\circ}) $$\n",
        "\n"
      ],
      "metadata": {
        "id": "O-rStFNNlMT_"
      }
    },
    {
      "cell_type": "code",
      "source": [
        "# import the math module (only needs to be executed once)\n",
        "import math"
      ],
      "metadata": {
        "id": "MiJSJqNVlhhR"
      },
      "execution_count": null,
      "outputs": []
    },
    {
      "cell_type": "code",
      "source": [
        "# Equation 1\n",
        "NotImplemented ### YOUR SOLUTION HERE"
      ],
      "metadata": {
        "id": "1a_hgoLBllEy",
        "colab": {
          "base_uri": "https://localhost:8080/"
        },
        "outputId": "20d610a9-89de-47cf-e6d1-0a2f6af33a2f"
      },
      "execution_count": null,
      "outputs": [
        {
          "output_type": "execute_result",
          "data": {
            "text/plain": [
              "NotImplemented"
            ]
          },
          "metadata": {},
          "execution_count": 32
        }
      ]
    },
    {
      "cell_type": "code",
      "source": [
        "# Equation 2\n",
        "NotImplemented ### YOUR SOLUTION HERE"
      ],
      "metadata": {
        "id": "kGaB9uwYllLd",
        "colab": {
          "base_uri": "https://localhost:8080/"
        },
        "outputId": "4f3a0a3a-59bb-40ff-91a0-127ba69ee53d"
      },
      "execution_count": null,
      "outputs": [
        {
          "output_type": "execute_result",
          "data": {
            "text/plain": [
              "NotImplemented"
            ]
          },
          "metadata": {},
          "execution_count": 34
        }
      ]
    },
    {
      "cell_type": "code",
      "source": [
        "# Equation 3\n",
        "NotImplemented ### YOUR SOLUTION HERE"
      ],
      "metadata": {
        "id": "NLUYpC_IllQ2",
        "colab": {
          "base_uri": "https://localhost:8080/"
        },
        "outputId": "ae8eac42-5f90-4bdf-910d-3b68c7a562eb"
      },
      "execution_count": null,
      "outputs": [
        {
          "output_type": "execute_result",
          "data": {
            "text/plain": [
              "NotImplemented"
            ]
          },
          "metadata": {},
          "execution_count": 36
        }
      ]
    },
    {
      "cell_type": "code",
      "source": [
        "# Equation 4\n",
        "NotImplemented ### YOUR SOLUTION HERE"
      ],
      "metadata": {
        "id": "tZEIdz5yqn8X",
        "colab": {
          "base_uri": "https://localhost:8080/"
        },
        "outputId": "c6ac2092-0033-4819-a584-682feb468674"
      },
      "execution_count": null,
      "outputs": [
        {
          "output_type": "execute_result",
          "data": {
            "text/plain": [
              "NotImplemented"
            ]
          },
          "metadata": {},
          "execution_count": 38
        }
      ]
    },
    {
      "cell_type": "markdown",
      "source": [
        "### Other useful module information\n",
        "\n",
        "**Tip:** Python provides several different ways to import modules. You’ll encounter all of them in this course, so here’s a quick reference list of common import styles and their typical uses.\n",
        "\n",
        "| Import Style | Description | Example Usage |\n",
        "|--------------|-------------|---------------|\n",
        "| `import math` | Imports the entire module. Access functions using the module name. | `math.sqrt(4)` |\n",
        "| `import math as my_alias` | Imports a module and assigns it a short alias of your choice. Access functions using the alias. | `my_alias.sqrt(4)` |\n",
        "| `from math import sqrt` | Imports only a specific function from a module. Access the function directly without reference to the module name| `sqrt(4)` |\n",
        "| `from math import *` | Imports all module functions. Access functions without reference to the module name. (**not recommended** — can cause conflicts). | `sqrt(4)` |"
      ],
      "metadata": {
        "id": "HXmgcxtZkyZB"
      }
    },
    {
      "cell_type": "markdown",
      "source": [
        "## 2.3 Variables"
      ],
      "metadata": {
        "id": "r-M1MSTmPy0h"
      }
    },
    {
      "cell_type": "markdown",
      "source": [
        "As we saw in section 1.3, **variables** are used to store and manage data in Python. They allow us to label pieces of data so we can use them later in our programs.\n",
        "\n",
        "### Key Points About Variables\n",
        "\n",
        "- **Naming:** Variable names should be descriptive and follow [Python’s naming rules](https://www.w3schools.com/python/python_variables_names.asp) (e.g., must start with a letter, cannot contain spaces, and are case-sensitive).\n",
        "\n",
        "- **Assigning:** You assign a value to a variable using the equals sign `=`.\n",
        "\n",
        "- **Data types:** Variables can store different kinds of data, such as:\n",
        "  - `x = 5` → integer  \n",
        "  - `x = 3.14159` → float (decimal number)  \n",
        "  - `x = \"Hello World!\"` → string (text)  \n",
        "\n",
        "**Tip:** Choose variable names that clearly describe the data they hold — it makes your code much easier to read and debug.\n",
        "\n",
        "**Examples of the use of variables are shown below**\n",
        "\n",
        "**Run the code to see the output**"
      ],
      "metadata": {
        "id": "F9ZIb2FAPGHY"
      }
    },
    {
      "cell_type": "code",
      "source": [
        "# Example 1: Variables make calculations easier to read and understand\n",
        "length = 2\n",
        "width = 5\n",
        "area = length * width  # multiply length by width\n",
        "\n",
        "# print out results\n",
        "# note: the print() function can take multiple inputs, separated by commas!\n",
        "# e.g. print(first, second, third)\n",
        "print(\"The area of a rectangle with length\", length, \"and width\", width, \"is:\", area)"
      ],
      "metadata": {
        "id": "S0q1FcdCua1K",
        "colab": {
          "base_uri": "https://localhost:8080/"
        },
        "outputId": "280d8023-c182-4f03-e28f-2a36efa41e77"
      },
      "execution_count": null,
      "outputs": [
        {
          "output_type": "stream",
          "name": "stdout",
          "text": [
            "The area of a rectangle with length 2 and width 5 is: 10\n"
          ]
        }
      ]
    },
    {
      "cell_type": "code",
      "source": [
        "# Example 2: Variables can store different data types\n",
        "name = \"John Doe\"  # string data type\n",
        "age = 19           # integer data type\n",
        "gpa = 3.51         # floating point data type\n",
        "\n",
        "print(\"My name is\", name)\n",
        "print(\"My age is\", age)\n",
        "print(\"My GPA is\", gpa)"
      ],
      "metadata": {
        "id": "SSlB4vvOutmk",
        "colab": {
          "base_uri": "https://localhost:8080/"
        },
        "outputId": "485f4145-95f9-4714-da43-efca357f4af9"
      },
      "execution_count": null,
      "outputs": [
        {
          "output_type": "stream",
          "name": "stdout",
          "text": [
            "My name is John Doe\n",
            "My age is 19\n",
            "My GPA is 3.51\n"
          ]
        }
      ]
    },
    {
      "cell_type": "markdown",
      "source": [
        "### ✅ Problem 7: Using Variables [4 points total]\n",
        "\n",
        "**Task:** Use Python variables to evaluate two equations commonly used in AI/ML.\n",
        "\n",
        "#### 1) Equation 1: Linear Regression [2 points]\n",
        "\n",
        "One of the first machine learning models we will encounter is **linear regression**, which models a linear relationship between inputs $x$ and outputs $y$ with slope $m$ and intercept $b$:\n",
        "\n",
        "$$ y = m \\times x + b $$\n",
        "\n",
        "Use variables to calculate the value of the linear regression model for:\n",
        "\n",
        "$$ x = 1, \\quad m = 2, \\quad b = -1 $$\n",
        "\n",
        "<div align=\"center\">\n",
        "<img src=\"https://github.com/SorenKyhl/MENG15100/blob/lab1/images/linear_regression.png?raw=true\" width=\"600\">\n",
        "</div>\n",
        "\n",
        "\n",
        "#### 2) Equation 2: Gaussian Probability Distribution [2 points]\n",
        "\n",
        "The Gaussian function is widely used in machine learning to model a bell-shaped probability distribution for the variable $x$. Its equation is:\n",
        "\n",
        "$$\n",
        "f(x) = \\frac{1}{\\sigma \\sqrt{(2 \\pi)} } e^{-\\frac{(x - \\mu)^2}{2\\sigma^2}}\n",
        "$$\n",
        "\n",
        "\n",
        "\n",
        "where $\\mu$ is the mean (center) and $\\sigma$ is the standard deviation (width). **Heads up**: both the $2$ and $\\pi$ are underneath the square root; sometimes the overbar is not correctly rendered.\n",
        "\n",
        "<div align=\"center\">\n",
        "<img src=\"https://github.com/SorenKyhl/MENG15100/blob/lab1/images/gaussian.png?raw=true\" width=\"600\">\n",
        "</div>\n",
        "\n",
        "\n",
        "This expression is long, so it’s a good idea to use **intermediate variables** to break the calculation into multiple lines. In addition to $x$, $\\mu$, and $\\sigma$, introduce the `coefficient`, and the `exponent` as shown below:\n",
        "\n",
        "$$ \\text{gaussian} = \\text{coefficient} * e^{\\text{exponent}} $$\n",
        "\n",
        "Using these variables, calculate the value of the gaussian function function with the following inputs:\n",
        "$$x = 1.5, \\quad \\mu = 2, \\quad \\sigma = 1$$"
      ],
      "metadata": {
        "id": "QAi5yeB2wFw0"
      }
    },
    {
      "cell_type": "code",
      "source": [
        "# Equation 1\n",
        "# Replace NotImplemented with your values or expressions\n",
        "x = NotImplemented    # input value\n",
        "m = NotImplemented    # slope\n",
        "b = NotImplemented    # intercept\n",
        "y = NotImplemented    # result of the equation; use the variables defined above to calculate y\n",
        "print(y)"
      ],
      "metadata": {
        "id": "FSDKXmoXDE1W"
      },
      "execution_count": null,
      "outputs": []
    },
    {
      "cell_type": "code",
      "source": [
        "# Equation 2\n",
        "# Replace NotImplemented with your values or expressions\n",
        "x = NotImplemented            # input value\n",
        "mu = NotImplemented           # mean (center)\n",
        "sigma = NotImplemented        # standard deviation (width)\n",
        "coefficient = NotImplemented  # use the variables defined above to calculate coefficient\n",
        "exponent = NotImplemented     # use the variables defined above to calculate exponent\n",
        "gaussian = NotImplemented     # use the variables defined above to calculate gaussian\n",
        "print(gaussian)"
      ],
      "metadata": {
        "id": "evZ6hLehvMmc"
      },
      "execution_count": null,
      "outputs": []
    },
    {
      "cell_type": "markdown",
      "source": [
        "## 2.4 Lists\n"
      ],
      "metadata": {
        "id": "liXxjVarivpn"
      }
    },
    {
      "cell_type": "markdown",
      "source": [
        "Suppose we are working with an AI model that uses the **molecular weight** of different compounds as training data. Each **training data point** is the weight (in grams per mole, g/mol) for one molecule.\n",
        "\n",
        "We **could** store these values in separate variables, for example:\n",
        "\n",
        "```python\n",
        "water_weight = 18.02           # g/mol\n",
        "carbon_dioxide_weight = 44.01   # g/mol\n",
        "oxygen_weight = 32.0            # g/mol\n",
        "```\n",
        "\n",
        "However, this quickly becomes unwieldy as the number of variables increases.\n",
        "\n",
        "#### Storing data in a list\n",
        "\n",
        "Instead, we can use **lists** — Python’s built-in way to store multiple items in a single variable:"
      ],
      "metadata": {
        "id": "J2Z_96sUPLAs"
      }
    },
    {
      "cell_type": "code",
      "source": [
        "# store multiple data points in a list\n",
        "molecule_weights = [18.02, 44.01, 32.0]\n",
        "print(molecule_weights)"
      ],
      "metadata": {
        "id": "s2zltl4-K8V6"
      },
      "execution_count": null,
      "outputs": []
    },
    {
      "cell_type": "markdown",
      "source": [
        "Lists are **ordered collections** of items, separated by commas and enclosed in square brackets `[]`. A single list can hold:\n",
        "- Numbers (integers or floats)\n",
        "- Strings\n",
        "- Even other lists (lists of lists)\n",
        "\n",
        "#### Accessing items in a list\n",
        "You can get individual list elements using **indexing**. In Python, **indexes start at 0**:\n",
        "- this is a common point of confusion for new programmers"
      ],
      "metadata": {
        "id": "07t8quMZLBKC"
      }
    },
    {
      "cell_type": "code",
      "source": [
        "# use indexes to access each element individually\n",
        "print(molecule_weights[0])  # First item → 18.02\n",
        "print(molecule_weights[1])  # Second item → 42\n",
        "print(molecule_weights[2])  # Third item → 32"
      ],
      "metadata": {
        "id": "taD29jfsLC9G"
      },
      "execution_count": null,
      "outputs": []
    },
    {
      "cell_type": "markdown",
      "source": [
        "#### Changing items in a list\n",
        "\n",
        "Lists are **mutable**, meaning you can change their contents:"
      ],
      "metadata": {
        "id": "Q0uC0SHpLWxX"
      }
    },
    {
      "cell_type": "code",
      "source": [
        "molecule_weights[1] = 42  # Update the second molecule’s weight\n",
        "print(molecule_weights)"
      ],
      "metadata": {
        "id": "xEmhS7Q3Lmuv"
      },
      "execution_count": null,
      "outputs": []
    },
    {
      "cell_type": "markdown",
      "source": [
        "#### Useful list functions\n",
        "Python has many **built-in functions** to work with lists:\n",
        "\n",
        "| Function | Description |\n",
        "|----------|-------------|\n",
        "| `len(list)` | Returns the number of items in the list |\n",
        "| `max(list)` | Returns the largest value in the list |\n",
        "| `min(list)` | Returns the smallest value in the list |\n",
        "| `sum(list)` | Returns the sum of all values in the list (works only for numeric lists) |\n",
        "| `sorted(list)` | Returns a new list with items sorted in ascending order |"
      ],
      "metadata": {
        "id": "7Zs9gHdGMHWa"
      }
    },
    {
      "cell_type": "markdown",
      "source": [
        "### ✅ Problem 8: Working with Molecular Weight Lists [5 points]\n",
        "\n",
        "In this problem, you will practice creating and manipulating Python lists using molecular weight data.\n",
        "\n",
        "---\n",
        "\n",
        "**Context:**  We have measured the **molecular weight** (in grams per mole, g/mol) for a number of molecules.\n",
        "\n",
        "| **Molecule**      | **Formula**  | **Molecular Weight (g/mol)** |\n",
        "|-------------------|--------------|------------------------------|\n",
        "| Water             | H₂O          | 18.02                      |\n",
        "| Carbon Dioxide    | CO₂          | 44.01                        |\n",
        "| Oxygen            | O₂           | 32.00                        |\n",
        "| Nitrogen          | N₂           | 28.02                        |\n",
        "| Methane           | CH₄          | 16.04                        |\n",
        "| Glucose           | C₆H₁₂O₆      | 180.16                       |\n",
        "| Ethanol           | C₂H₅OH       | 46.07                        |\n",
        "| Sodium Chloride   | NaCl         | 58.44                        |\n",
        "| Ammonia           | NH₃          | 17.03                        |\n",
        "| Sulfur Dioxide    | SO₂          | 64.06                        |\n",
        "| Acetone           | C₃H₆O        | 58.08                        |\n",
        "| Hydrogen Peroxide | H₂O₂         | 34.02                        |\n",
        "| Methanol          | CH₃OH        | 32.04                        |\n",
        "| Acetic Acid       | C₂H₄O₂       | 60.05                        |\n",
        "\n",
        "A list of the molecuar weights is provided in the python variable ```molecular_weights``` in the code cell below.\n",
        "\n",
        "---\n",
        "\n",
        "**Tasks:** [Each task is worth 1 point]\n",
        "\n",
        "1. **Access** the molecular weight of oxygen using list indexing and print the value. (remember: list indexes start at 0)\n",
        "3. **Print** the number of molecules in the list.\n",
        "4. **Print** the heaviest molecule’s weight.\n",
        "5. **Print** the lightest molecule’s weight.  \n",
        "6. **Calculate and print** the **average** molecular weight.\n",
        "\n",
        "**Hint:** are there built-in functions that can accomplish these tasks?"
      ],
      "metadata": {
        "id": "5sCgIJvnMTCa"
      }
    },
    {
      "cell_type": "code",
      "source": [
        "# Variables (provided)\n",
        "# Run this cell to initialize the variables\n",
        "weights = [18.02, 44.01, 32.00, 28.02, 16.04, 180.16, 46.07, 58.44, 17.03, 64.06, 58.08, 34.02, 32.04, 60.05]\n",
        "print(weights)"
      ],
      "metadata": {
        "id": "wGqKpLfKqxTK",
        "colab": {
          "base_uri": "https://localhost:8080/"
        },
        "outputId": "8fface1a-4414-46af-91d4-67227c724127"
      },
      "execution_count": null,
      "outputs": [
        {
          "output_type": "stream",
          "name": "stdout",
          "text": [
            "[18.02, 44.01, 32.0, 28.02, 16.04, 180.16, 46.07, 58.44, 17.03, 64.06, 58.08, 34.02, 32.04, 60.05]\n"
          ]
        }
      ]
    },
    {
      "cell_type": "code",
      "source": [
        "# Task 1: Access the molecular weight of oxygen and print the value\n",
        "NotImplemented ### YOUR SOLUTION HERE"
      ],
      "metadata": {
        "id": "BLS2aXqZnhE3",
        "colab": {
          "base_uri": "https://localhost:8080/"
        },
        "outputId": "c63bd50d-eca8-4ec6-d63e-f54afd799cc8"
      },
      "execution_count": null,
      "outputs": [
        {
          "output_type": "execute_result",
          "data": {
            "text/plain": [
              "NotImplemented"
            ]
          },
          "metadata": {},
          "execution_count": 46
        }
      ]
    },
    {
      "cell_type": "code",
      "source": [
        "# Task 2: Print the number of molecules in the list\n",
        "NotImplemented ### YOUR SOLUTION HERE"
      ],
      "metadata": {
        "id": "t4ZPOmooq5v5",
        "colab": {
          "base_uri": "https://localhost:8080/"
        },
        "outputId": "3bc4cb24-fb68-4ece-9d27-a65de558e1fd"
      },
      "execution_count": null,
      "outputs": [
        {
          "output_type": "execute_result",
          "data": {
            "text/plain": [
              "NotImplemented"
            ]
          },
          "metadata": {},
          "execution_count": 48
        }
      ]
    },
    {
      "cell_type": "code",
      "source": [
        "# Task 3: Print the heaviest molecule's weight\n",
        "NotImplemented ### YOUR SOLUTION HERE"
      ],
      "metadata": {
        "id": "CLyL6fmEq51N",
        "colab": {
          "base_uri": "https://localhost:8080/"
        },
        "outputId": "17dabcd2-4f13-4320-f6f7-ce9fdbb00c4a"
      },
      "execution_count": null,
      "outputs": [
        {
          "output_type": "execute_result",
          "data": {
            "text/plain": [
              "NotImplemented"
            ]
          },
          "metadata": {},
          "execution_count": 50
        }
      ]
    },
    {
      "cell_type": "code",
      "source": [
        "# Task 4: Print the lightest molecule's weight\n",
        "NotImplemented ### YOUR SOLUTION HERE"
      ],
      "metadata": {
        "id": "ObiMQUAZq55e",
        "colab": {
          "base_uri": "https://localhost:8080/"
        },
        "outputId": "370e7d8d-e80c-4035-ca3e-d8cd4c118471"
      },
      "execution_count": null,
      "outputs": [
        {
          "output_type": "execute_result",
          "data": {
            "text/plain": [
              "NotImplemented"
            ]
          },
          "metadata": {},
          "execution_count": 52
        }
      ]
    },
    {
      "cell_type": "code",
      "source": [
        "# Task 5: Calculate and print the average molecular weight\n",
        "NotImplemented ### YOUR SOLUTION HERE"
      ],
      "metadata": {
        "id": "VfGP6fryq59J",
        "colab": {
          "base_uri": "https://localhost:8080/"
        },
        "outputId": "1c17c2df-1fa1-4a8d-d1d4-2e12b32d5c4d"
      },
      "execution_count": null,
      "outputs": [
        {
          "output_type": "execute_result",
          "data": {
            "text/plain": [
              "NotImplemented"
            ]
          },
          "metadata": {},
          "execution_count": 54
        }
      ]
    },
    {
      "cell_type": "markdown",
      "source": [
        "## 2.5 'For' Loops\n",
        "\n"
      ],
      "metadata": {
        "id": "T5EuuEDlylim"
      }
    },
    {
      "cell_type": "markdown",
      "source": [
        "When working with lists in Python, you often want to perform the same action for each element in the list.  \n",
        "Instead of repeating the same line of code many times, we can use a **for loop**.\n",
        "\n",
        "A `for` loop lets you **iterate** (loop through) each item in a sequence (such as a list) and execute a block of code for each element.\n",
        "\n",
        "The general structure is:\n",
        "\n",
        "    for variable in list:\n",
        "        # code to execute for each item\n",
        "\n",
        "- `variable` is a name you choose to represent the current item in the sequence.\n",
        "- `list` is a list variable or other iterable data type."
      ],
      "metadata": {
        "id": "mgeNjM4ifFhN"
      }
    },
    {
      "cell_type": "code",
      "source": [
        "molecule_weights = [18.02, 28.01, 44.01]  # H2O, N2, CO2\n",
        "\n",
        "for weight in molecule_weights:\n",
        "    print(\"Molecular weight:\", weight)"
      ],
      "metadata": {
        "id": "kLf54UTgRnzH",
        "colab": {
          "base_uri": "https://localhost:8080/"
        },
        "outputId": "da1ee457-6c18-4ddc-f126-1c79e378b674"
      },
      "execution_count": null,
      "outputs": [
        {
          "output_type": "stream",
          "name": "stdout",
          "text": [
            "Molecular weight: 18.02\n",
            "Molecular weight: 28.01\n",
            "Molecular weight: 44.01\n"
          ]
        }
      ]
    },
    {
      "cell_type": "markdown",
      "source": [
        "In the example above:\n",
        "- The loop goes through the list `molecule_weights`.\n",
        "- On each iteration, the variable `weight` takes the value of the next element in the list.\n",
        "- The `print` statement runs once for each element.\n",
        "\n",
        "**Tip:**  **Indentation is critical in Python!**\n",
        "All the code that is part of the loop must be indented. When the indentation stops, the body of the loop ends. Here is an example of the indentation structure for blocks of python code inside `for` loops:\n",
        "\n",
        "```python\n",
        "for item in list:\n",
        "  # inside the for loop (indented)\n",
        "  # also part of the foor loop (indented)\n",
        "\n",
        "# outside the for loop (not indented)\n",
        "```"
      ],
      "metadata": {
        "id": "wxHYUI-uRutc"
      }
    },
    {
      "cell_type": "markdown",
      "source": [
        "There are several common ways to use a `for` loop in Python:\n",
        "\n",
        "### 1. Looping over items in a list\n",
        "If you want to access each element in a sequence directly, you can loop using the `for item in list:` syntax.\n",
        "- Here, the loop variable `molecule` takes the value of each element in the list in turn."
      ],
      "metadata": {
        "id": "7Dpnah9XZkAA"
      }
    },
    {
      "cell_type": "code",
      "source": [
        "molecules = [\"Water\", \"Ethanol\", \"Ammonia\"]\n",
        "for molecule in molecules:\n",
        "    print(molecule)"
      ],
      "metadata": {
        "id": "GUW0ATJxXdRT",
        "colab": {
          "base_uri": "https://localhost:8080/"
        },
        "outputId": "61ffeda1-23a0-4744-f6b5-88c97526859e"
      },
      "execution_count": null,
      "outputs": [
        {
          "output_type": "stream",
          "name": "stdout",
          "text": [
            "Water\n",
            "Ethanol\n",
            "Ammonia\n"
          ]
        }
      ]
    },
    {
      "cell_type": "markdown",
      "source": [
        "\n",
        "### 2. Looping over a range of numbers\n",
        "The built-in `range()` function generates a sequence of numbers, which is often used for looping a specific number of times.\n",
        "- By default, `range(n)` starts at 0 and ends at `n-1`.\n",
        "- You can also specify a start, end, and step size: `range(start, stop, step)`.\n"
      ],
      "metadata": {
        "id": "QexXRJKNXl4O"
      }
    },
    {
      "cell_type": "code",
      "source": [
        "# loop 5 times\n",
        "for i in range(5):\n",
        "    print(\"Iteration:\", i)"
      ],
      "metadata": {
        "id": "fNLbJbaOYA1p",
        "colab": {
          "base_uri": "https://localhost:8080/"
        },
        "outputId": "d888e89a-ebd0-43f5-e479-02f76044d613"
      },
      "execution_count": null,
      "outputs": [
        {
          "output_type": "stream",
          "name": "stdout",
          "text": [
            "Iteration: 0\n",
            "Iteration: 1\n",
            "Iteration: 2\n",
            "Iteration: 3\n",
            "Iteration: 4\n"
          ]
        }
      ]
    },
    {
      "cell_type": "markdown",
      "source": [
        "The range-based `for` loop can be used to access elements in a list by *index*:"
      ],
      "metadata": {
        "id": "GYuTUKkVYMhl"
      }
    },
    {
      "cell_type": "code",
      "source": [
        "molecules = [\"Water\", \"Ethanol\", \"Ammonia\"]\n",
        "number_of_molecules = len(molecules)\n",
        "\n",
        "for i in range(number_of_molecules):\n",
        "    print(\"index:\", i, \"molecule:\", molecules[i])"
      ],
      "metadata": {
        "id": "0_U3-3edYTXA",
        "colab": {
          "base_uri": "https://localhost:8080/"
        },
        "outputId": "c85fa762-ccb3-45dd-fca5-d6f2ae5ca9fd"
      },
      "execution_count": null,
      "outputs": [
        {
          "output_type": "stream",
          "name": "stdout",
          "text": [
            "index: 0 molecule: Water\n",
            "index: 1 molecule: Ethanol\n",
            "index: 2 molecule: Ammonia\n"
          ]
        }
      ]
    },
    {
      "cell_type": "markdown",
      "source": [
        "\n",
        "### 3. Looping over multiple lists in parallel using `zip()`\n",
        "The `zip()` function combines two or more lists, allowing you to loop over them together.\n",
        "- On each iteration, `molecule` and `bp` take values from the same index in their respective lists."
      ],
      "metadata": {
        "id": "zgj1kM0IXrxG"
      }
    },
    {
      "cell_type": "code",
      "source": [
        "molecules = [\"Water\", \"Ethanol\", \"Ammonia\"]\n",
        "boiling_points = [100.0, 78.4, -33.3]\n",
        "\n",
        "for molecule, bp in zip(molecules, boiling_points):\n",
        "    print(molecule, \"boils at\", bp, \"°C\")"
      ],
      "metadata": {
        "id": "FhsTLwOfYxbI",
        "colab": {
          "base_uri": "https://localhost:8080/"
        },
        "outputId": "0212038a-a8dd-4efd-93a5-1a9a460886be"
      },
      "execution_count": null,
      "outputs": [
        {
          "output_type": "stream",
          "name": "stdout",
          "text": [
            "Water boils at 100.0 °C\n",
            "Ethanol boils at 78.4 °C\n",
            "Ammonia boils at -33.3 °C\n"
          ]
        }
      ]
    },
    {
      "cell_type": "markdown",
      "source": [
        "### 4. Looping with index and value using `enumerate()`\n",
        "If you need both the index and the value from a sequence, use `enumerate()`.\n"
      ],
      "metadata": {
        "id": "StQtHSheZDsz"
      }
    },
    {
      "cell_type": "code",
      "source": [
        "molecules = [\"Water\", \"Ethanol\", \"Ammonia\"]\n",
        "\n",
        "for index, molecule in enumerate(molecules):\n",
        "    print(\"Molecule #\", index, \"is\", molecule)"
      ],
      "metadata": {
        "id": "T1cYxv4IZFzz"
      },
      "execution_count": null,
      "outputs": []
    },
    {
      "cell_type": "markdown",
      "source": [
        "\n",
        "\n",
        "**Summary Table of `for` Loop Variants:**\n",
        "\n",
        "| Syntax                               | Use Case                                 |\n",
        "|--------------------------------------|------------------------------------------|\n",
        "| `for item in list:`                  | Loop over items directly                  |\n",
        "| `for i in range(n):`                 | Loop a fixed number of times              |\n",
        "| `for a, b in zip(list1, list2):`    | Loop over multiple sequences in parallel  |\n",
        "| `for i, item in enumerate(list):`   | Loop with both index and value            |\n"
      ],
      "metadata": {
        "id": "pedf3CvaXtd9"
      }
    },
    {
      "cell_type": "markdown",
      "source": [
        "### ✅ Problem 9: Boiling Point AI Model Error [3 points]\n",
        "\n",
        "**Context:**  \n",
        "A research group has trained a new AI model to predict the **boiling point** of various compounds based on their chemical structure (e.g. molecular weight).\n",
        "You are tasked with evaluating how well this model is performing by comparing its predictions to known experimental molecular boiling points.\n",
        "\n",
        "Below is a table of molecules, their true boiling points (**targets**), and the model’s predicted values (**predictions**):\n",
        "\n",
        "| Molecule      | True Boiling Point (°C) | Predicted Boiling Point (°C) |\n",
        "|---------------|------------------------|------------------------------|\n",
        "| Water         | 100.0                  | 98.0                         |\n",
        "| Ethanol       | 78.4                   | 79.5                         |\n",
        "| Ammonia       | -33.3                  | -30.0                        |\n",
        "| Acetone       | 56.1                   | 60.0                         |\n",
        "| Benzene       | 80.1                   | 78.0                         |\n",
        "\n",
        "---\n",
        "\n",
        "In order to evaluate how well the model is performing, we will calculate two common error metrics:  \n",
        "- **Mean Absolute Error (MAE)**  \n",
        "- **Mean Squared Error (MSE)**  \n",
        "\n",
        "The formulas are:  \n",
        "\n",
        "$$ \\text{MAE} = \\frac{1}{n} \\sum_{i=1}^{n} \\left| y_i - \\hat{y}_i \\right| $$  \n",
        "\n",
        "$$ \\text{MSE} = \\frac{1}{n} \\sum_{i=1}^{n} \\left( y_i - \\hat{y}_i \\right)^2 $$  \n",
        "\n",
        "Where:  \n",
        "- $ y_i $ = true boiling point  \n",
        "- $ \\hat{y}_i $ = predicted boiling point  \n",
        "- $ n $ = number of data points (i.e. number of molecules in the dataset).  \n",
        "\n",
        "And:\n",
        "- $ \\left| y_i - \\hat{y}_i \\right| $ is the absolute error for molecule $i$\n",
        "- $\\left( y_i - \\hat{y}_i \\right)^2 $ is the squared error for molecule $i$\n",
        "---\n",
        "\n",
        "**Task:**  \n",
        "Modify the code below to calculate the **MAE** and **MSE** of the AI model. The calculation of **MAE** and **MSE** involves a summation, which we will accomplish using a `for` loop. Inside the for loop, we will calculate the absolute error and squared error for each molecule. The `for` loop will iterate through all the molecules and sum their errors together. Finally, we will need to divide by $n$, the number of molecules, to obtain an average (mean) error.\n",
        "\n",
        "The code provided below uses a `for` loop to iterate through the list of true boiling points and the list of predicted boiling points for each molecule. Modify the code below so it accomplishes the following objectives:\n",
        "\n",
        "1. In the `for` loop, calculate the `absolute_error` for each molecule (each pair of true and predicted boiling points). This value will be accumulated (added) into a running total, `total_absolute_error`.\n",
        "2. In the `for` loop, calculate the `squared_error` for each molecule (each pair of true and predicted boiling points). This value will be accumulated (added) into a running total, `total_squared_error`.\n",
        "3. After the `for` loop, divide the `total_absolute_error` and `total_squared_error` by $n$, the number of molecules, to obtain the mean absolute error (MAE) and mean squared error (MSE).\n",
        "\n",
        "**Tip:** In the code below we use a new operator, `+=` which adds the value on the right hand side of the operator to the variable on the left.\n",
        "\n",
        "**Tip:** the number of data points $n$ is equal to the length of the true boiling point list. Can you use the `len` function to calculate this?"
      ],
      "metadata": {
        "id": "tTfhMY64TMbx"
      }
    },
    {
      "cell_type": "code",
      "source": [
        "# Variables (provided)\n",
        "# Run this cell to initialize the variables\n",
        "true_boiling_points = [100.0, 78.4, -33.3, 56.1, 80.1]   # °C\n",
        "predicted_boiling_points = [98.0, 79.5, -30.0, 60.0, 78.0] # °C"
      ],
      "metadata": {
        "id": "VAYrGLGETtyt"
      },
      "execution_count": null,
      "outputs": []
    },
    {
      "cell_type": "code",
      "source": [
        "total_absolute_error = 0\n",
        "total_squared_error = 0\n",
        "\n",
        "for true_value, predicted_value in zip(true_boiling_points, predicted_boiling_points):\n",
        "  # Task 1: calculate and accumulate the absolute error for each boiling point prediction\n",
        "  absolute_error = NotImplemented ### YOUR SOLUTION HERE\n",
        "  total_absolute_error += absolute_error\n",
        "\n",
        "  # Task 2: calculate and accumulate the squared error for each boiling point prediction\n",
        "  squared_error = NotImplemented ### YOUR SOLUTION HERE\n",
        "  total_squared_error += squared_error\n",
        "\n",
        "# Task 3: divide the total absolute and total squared error by n\n",
        "# Tip: can you use a built-in list function to calculate n?\n",
        "MAE = NotImplemented ### YOUR SOLUTION HERE\n",
        "MSE = NotImplemented ### YOUR SOLUTION HERE\n",
        "\n",
        "print(\"the MAE is:\", MAE)\n",
        "print(\"the MSE is\", MSE)"
      ],
      "metadata": {
        "id": "0y9cSnkwTxCp",
        "colab": {
          "base_uri": "https://localhost:8080/",
          "height": 216
        },
        "outputId": "93c980b5-c2ba-4c1d-e06e-b86db15e013d"
      },
      "execution_count": null,
      "outputs": [
        {
          "output_type": "error",
          "ename": "TypeError",
          "evalue": "unsupported operand type(s) for +=: 'int' and 'NotImplementedType'",
          "traceback": [
            "\u001b[0;31m---------------------------------------------------------------------------\u001b[0m",
            "\u001b[0;31mTypeError\u001b[0m                                 Traceback (most recent call last)",
            "\u001b[0;32m/tmp/ipython-input-1022404461.py\u001b[0m in \u001b[0;36m<cell line: 0>\u001b[0;34m()\u001b[0m\n\u001b[1;32m      5\u001b[0m   \u001b[0;31m# Task 1: calculate and accumulate the absolute error for each boiling point prediction\u001b[0m\u001b[0;34m\u001b[0m\u001b[0;34m\u001b[0m\u001b[0m\n\u001b[1;32m      6\u001b[0m   \u001b[0mabsolute_error\u001b[0m \u001b[0;34m=\u001b[0m \u001b[0mNotImplemented\u001b[0m \u001b[0;31m### YOUR SOLUTION HERE\u001b[0m\u001b[0;34m\u001b[0m\u001b[0;34m\u001b[0m\u001b[0m\n\u001b[0;32m----> 7\u001b[0;31m   \u001b[0mtotal_absolute_error\u001b[0m \u001b[0;34m+=\u001b[0m \u001b[0mabsolute_error\u001b[0m\u001b[0;34m\u001b[0m\u001b[0;34m\u001b[0m\u001b[0m\n\u001b[0m\u001b[1;32m      8\u001b[0m \u001b[0;34m\u001b[0m\u001b[0m\n\u001b[1;32m      9\u001b[0m   \u001b[0;31m# Task 2: calculate and accumulate the squared error for each boiling point prediction\u001b[0m\u001b[0;34m\u001b[0m\u001b[0;34m\u001b[0m\u001b[0m\n",
            "\u001b[0;31mTypeError\u001b[0m: unsupported operand type(s) for +=: 'int' and 'NotImplementedType'"
          ]
        }
      ]
    },
    {
      "cell_type": "markdown",
      "source": [
        "## 2.6 Introduction to `numpy`\n"
      ],
      "metadata": {
        "id": "SPQDyqG1gGFF"
      }
    },
    {
      "cell_type": "markdown",
      "source": [
        "**NumPy** (short for *Numerical Python*, pronounced *Num-pie*) is a collection of powerful Python modules for numerical computing.  \n",
        "Before we see why it’s so useful, let’s look at a limitation of **basic Python lists**."
      ],
      "metadata": {
        "id": "V9Yxo13pgLZu"
      }
    },
    {
      "cell_type": "markdown",
      "source": [
        "### Motivation: Python Lists Are Not Mathematical Vectors\n",
        "In mathematics, adding two vectors means adding their elements component-wise,  \n",
        "\n",
        "$$\\mathbf{a} = [1, 2, 3]$$  \n",
        "$$\\mathbf{b} = [4, 5, 6]$$   \n",
        "$$\\mathbf{a} + \\mathbf{b} = [1+4, \\; 2+ 5, \\; 3 + 6] = [5, \\; 7, \\; 9]$$\n",
        "\n",
        "\n",
        "and multiplying a vector by a scalar means scaling each element.\n",
        "\n",
        "$$c = 10 $$  \n",
        "$$\\mathbf{a} = [1, 2, 3]$$  \n",
        "$$c \\cdot \\mathbf{a} = [10 \\cdot 1, \\; 10 \\cdot 2, \\; 10 \\cdot 3] = [10, 20, 30]$$\n",
        "\n",
        "However, Python lists don’t behave this way:\n"
      ],
      "metadata": {
        "id": "h-XhHGjJgPYK"
      }
    },
    {
      "cell_type": "code",
      "source": [
        "# initialize a, b, c\n",
        "a = [1, 2, 3]\n",
        "b = [4, 5, 6]\n",
        "c = 10"
      ],
      "metadata": {
        "id": "JhxYXb8dilF8"
      },
      "execution_count": null,
      "outputs": []
    },
    {
      "cell_type": "code",
      "source": [
        "# Adding lists in Python concatenates them\n",
        "print(a + b)"
      ],
      "metadata": {
        "id": "jhY16htnifd9"
      },
      "execution_count": null,
      "outputs": []
    },
    {
      "cell_type": "code",
      "source": [
        "# Multiplying a list by a number repeats it 'c' times\n",
        "print(c * a)"
      ],
      "metadata": {
        "id": "_M7rbhqJiong"
      },
      "execution_count": null,
      "outputs": []
    },
    {
      "cell_type": "code",
      "source": [
        "# Division throws an error!\n",
        "print(weights_list / 3)"
      ],
      "metadata": {
        "id": "lt4vNZ4siwjS"
      },
      "execution_count": null,
      "outputs": []
    },
    {
      "cell_type": "markdown",
      "source": [
        "This is **not** how mathematical vectors behave, which can be frustrating when doing scientific or AI computations.\n",
        "\n",
        "---\n",
        "\n",
        "### NumPy to the Rescue\n",
        "**NumPy** provides the **numpy array** object, which behaves like a true mathematical vector or matrix.\n",
        "- with NumPy arrays, operations like `+` and `*` work element-wise:"
      ],
      "metadata": {
        "id": "JsKdohIniggZ"
      }
    },
    {
      "cell_type": "code",
      "source": [
        "# import numpy module\n",
        "# typically the alias 'np' is used for convenience\n",
        "import numpy as np"
      ],
      "metadata": {
        "id": "oQSd5OpPkbCm"
      },
      "execution_count": null,
      "outputs": []
    },
    {
      "cell_type": "code",
      "source": [
        "# then, create a numpy array\n",
        "# np.array(input_list) takes a python list and returns a numpy array\n",
        "a_array = np.array(a)\n",
        "b_array = np.array(b)\n",
        "\n",
        "print(a_array)\n",
        "print(b_array)"
      ],
      "metadata": {
        "id": "ayKTIIcbk3Ql"
      },
      "execution_count": null,
      "outputs": []
    },
    {
      "cell_type": "code",
      "source": [
        "# Element-wise addition\n",
        "print(a_array + b_array)"
      ],
      "metadata": {
        "id": "UfQ-F0i5k95A"
      },
      "execution_count": null,
      "outputs": []
    },
    {
      "cell_type": "code",
      "source": [
        "# Scalar multiplication\n",
        "print(c * a_array)"
      ],
      "metadata": {
        "id": "d_01_cUuk2aL"
      },
      "execution_count": null,
      "outputs": []
    },
    {
      "cell_type": "code",
      "source": [
        "# Scalar Division\n",
        "print(a_array / 2)"
      ],
      "metadata": {
        "id": "NhHJt6IAlBNX"
      },
      "execution_count": null,
      "outputs": []
    },
    {
      "cell_type": "markdown",
      "source": [
        "### Creating NumPy Arrays\n",
        "\n",
        "Numpy arrays can be created directly from a basic python list using the `np.array(python_list)` function\n",
        "- `np.array(python_list)` returns a numpy array with the same elements as the input `python_list`"
      ],
      "metadata": {
        "id": "Rm70oEAAl4mu"
      }
    },
    {
      "cell_type": "code",
      "source": [
        "# From a Python list\n",
        "molecular_weights = [18.015, 46.07, 17.031]\n",
        "weights_array = np.array(molecular_weights)\n",
        "\n",
        "print(weights_array)"
      ],
      "metadata": {
        "id": "y2ZAHbXql6gV",
        "colab": {
          "base_uri": "https://localhost:8080/"
        },
        "outputId": "6f76799a-8445-4e18-99a0-9a4195f162d0"
      },
      "execution_count": null,
      "outputs": [
        {
          "output_type": "stream",
          "name": "stdout",
          "text": [
            "[18.015 46.07  17.031]\n"
          ]
        }
      ]
    },
    {
      "cell_type": "markdown",
      "source": [
        "Numpy arrays can also be created using several **built-in** functions:\n",
        "\n",
        "| Function | Description |\n",
        "|----------|-------------|\n",
        "| `np.zeros(shape)` | Create an array filled with zeros. |\n",
        "| `np.ones(shape)` | Create an array filled with ones. |\n",
        "| `np.linspace(start, stop, num)` | Create an array with a specified number of evenly spaced values between two points. |\n",
        "| `np.array(data)` | Create an array from a Python list or tuple. |\n"
      ],
      "metadata": {
        "id": "G9cGmLttmZIH"
      }
    },
    {
      "cell_type": "code",
      "source": [
        "# list of zeros\n",
        "zeros_array = np.zeros(5)\n",
        "print(zeros_array)"
      ],
      "metadata": {
        "id": "TJ46f-h4l9fA"
      },
      "execution_count": null,
      "outputs": []
    },
    {
      "cell_type": "code",
      "source": [
        "# list of ones\n",
        "ones_array = np.ones(5)\n",
        "print(ones_array)"
      ],
      "metadata": {
        "id": "A6e4jaeRnPNL"
      },
      "execution_count": null,
      "outputs": []
    },
    {
      "cell_type": "code",
      "source": [
        "# list of evenly spaced\n",
        "linspace_array = np.linspace(0, 1, 5)  # from 0 to 1, 5 points\n",
        "print(linspace_array)"
      ],
      "metadata": {
        "id": "axF0ackjnRK-"
      },
      "execution_count": null,
      "outputs": []
    },
    {
      "cell_type": "markdown",
      "source": [
        "### NumPy Mathematical Functions (and how they differ from `math`)\n",
        "\n",
        "Both Python’s built-in `math` module and NumPy offer mathematical functions, but they serve **different purposes**:\n",
        "\n",
        "- **`math`** works on **single numbers (scalars)**.\n",
        "- **NumPy** works on **arrays (vectors, matrices)** and applies operations **element-wise** (vectorized), which is faster and more convenient for scientific computing.\n",
        "\n",
        "\n",
        "### Element-wise operations vs. scalar operations\n"
      ],
      "metadata": {
        "id": "0g7plAsipzWt"
      }
    },
    {
      "cell_type": "code",
      "source": [
        "import math\n",
        "import numpy as np\n",
        "\n",
        "x_scalar = 2.0\n",
        "x_array  = np.array([1.0, 4.0, 9.0, 16.0])"
      ],
      "metadata": {
        "id": "p5cZbrMrqz3P"
      },
      "execution_count": null,
      "outputs": []
    },
    {
      "cell_type": "code",
      "source": [
        "# math → scalar\n",
        "math.sqrt(x_scalar)      # ✅ works"
      ],
      "metadata": {
        "id": "pZpGNfcqq18Z"
      },
      "execution_count": null,
      "outputs": []
    },
    {
      "cell_type": "code",
      "source": [
        "# math → array\n",
        "math.sqrt(x_array)       # ❌ TypeError (math expects a number, not an array)"
      ],
      "metadata": {
        "id": "_roRj9Mvq6p1"
      },
      "execution_count": null,
      "outputs": []
    },
    {
      "cell_type": "code",
      "source": [
        "# NumPy → scalar\n",
        "np.sqrt(x_scalar)         # ✅ works"
      ],
      "metadata": {
        "id": "tX0AnBcZrCRR"
      },
      "execution_count": null,
      "outputs": []
    },
    {
      "cell_type": "code",
      "source": [
        "# NumPy → array\n",
        "np.sqrt(x_array)          # ✅ works"
      ],
      "metadata": {
        "id": "bUTrR3F2q3n0"
      },
      "execution_count": null,
      "outputs": []
    },
    {
      "cell_type": "markdown",
      "source": [
        "Here are a list of common mathematical functions in numpy.\n",
        "- notice that they are very similar to the functions in the `math` module, except that they can operate on `numpy` arrays\n",
        "\n",
        "| NumPy Function      | Mathematical Expression | Description |\n",
        "|---------------------|-------------------------|-------------|\n",
        "| `np.sqrt(x)`        | $\\sqrt{x}$              | Square root of each element in `x`. |\n",
        "| `np.square(x)`        | $\\sqrt{x}$              | Square  of each element in `x`. |\n",
        "| `np.abs(x)`         | $|x|$                   | Absolute value of each element in `x`. |\n",
        "| `np.exp(x)`         | $e^{x}$                 | Exponential function applied element-wise. |\n",
        "| `np.log(x)`         | $\\ln(x)$                | Natural logarithm applied element-wise. |\n",
        "| `np.log10(x)`       | $\\log_{10}(x)$          | Base-10 logarithm applied element-wise. |\n",
        "| `np.sin(x)`         | $\\sin(x)$               | Sine of each element in radians. |\n",
        "| `np.cos(x)`         | $\\cos(x)$               | Cosine of each element in radians. |\n",
        "| `np.tan(x)`         | $\\tan(x)$               | Tangent of each element in radians. |\n",
        "| `np.power(x, y)`    | $x^y$                   | Element-wise exponentiation. |\n",
        "| `np.mean(x)`        | $\\frac{1}{n} \\sum_{i=1}^{n} x_i$ | Mean (average) of elements in `x`. |\n",
        "| `np.sum(x)`         | $\\sum_{i=1}^{n} x_i$    | Sum of all elements in `x`. |\n",
        "| `np.min(x)`         | $\\min(x)$               | Minimum value in `x`. |\n",
        "| `np.max(x)`         | $\\max(x)$               | Maximum value in `x`. |"
      ],
      "metadata": {
        "id": "xOdp_mRS2J5M"
      }
    },
    {
      "cell_type": "markdown",
      "source": [
        "### ✅ Problem 10: Boiling Point AI model revisited with numpy [3 points]\n",
        "\n",
        "In this problem, we will return to our boiling point AI model and use NumPy arrays along with built-in NumPy functions to re-calculate the MAE and MSE. This will demonstrate both the efficiency and simplicity of NumPy compared to raw Python list processing.\n",
        "\n",
        "---\n",
        "\n",
        "We will re-use the same **target** and AI model **prediction** data from Problem 9:\n",
        "\n",
        "| Molecule      | True Boiling Point (°C) | Predicted Boiling Point (°C) |\n",
        "|---------------|------------------------|------------------------------|\n",
        "| Water         | 100.0                  | 98.0                         |\n",
        "| Ethanol       | 78.4                   | 79.5                         |\n",
        "| Ammonia       | -33.3                  | -30.0                        |\n",
        "| Acetone       | 56.1                   | 60.0                         |\n",
        "| Benzene       | 80.1                   | 78.0              \n",
        "\n",
        "We will also re-calculate the same **MAE** and **MSE** error metrics with the equations reproduced below:\n",
        "\n",
        "$$ \\text{MAE} = \\frac{1}{n} \\sum_{i=1}^{n} \\left| y_i - \\hat{y}_i \\right| $$  \n",
        "\n",
        "$$ \\text{MSE} = \\frac{1}{n} \\sum_{i=1}^{n} \\left( y_i - \\hat{y}_i \\right)^2 $$  \n",
        "\n",
        "Where:  \n",
        "- $ y_i $ = true boiling point  \n",
        "- $ \\hat{y}_i $ = predicted boiling point  \n",
        "- $ n $ = number of data points (i.e. number of molecules in the dataset).  \n",
        "\n",
        "And:\n",
        "- $ y_i - \\hat{y}_i $ is the **error** for molecule $i$\n",
        "- $ \\left| y_i - \\hat{y}_i \\right| $ is the **absolute error** for molecule $i$\n",
        "- $\\left( y_i - \\hat{y}_i \\right)^2 $ is the **squared error** for molecule $i$\n",
        "\n",
        "**Task:**  \n",
        "\n",
        "1.Convert the python lists `true_boiling_points` and `predicted_boiling_points` to numpy arrays\n",
        "\n",
        "2.Use NumPy to compute an `errors` array, where each element is the **error** between the predicted boiling point and the corresponding true boiling point. (not the absolute error or squared error, just the **error**).\n",
        "\n",
        "**Tip:**  \n",
        "- You can subtract NumPy arrays directly to get an array of errors in one line of code, without using a `for` loop.\n",
        "\n",
        "3.From the `errors` array, calculate the **mean absolute error** (**MAE**) and **mean squared error** (**MSE** ). Use **NumPy array operations** instead of a `for` loop.  \n",
        "\n",
        "**Tips:**  \n",
        "- Use `np.abs()` to take the absolute value of every element in a numpy array\n",
        "- Use `np.square()` to take the square of every element in a numpy array\n",
        "- Use `np.mean()` to compute the average of a numpy array."
      ],
      "metadata": {
        "id": "MVS-hoHqxDCb"
      }
    },
    {
      "cell_type": "code",
      "source": [
        "# Variables (provided)\n",
        "# Run this cell to initialize the variables\n",
        "true_boiling_points = [100.0, 78.4, -33.3, 56.1, 80.1]   # °C\n",
        "predicted_boiling_points = [98.0, 79.5, -30.0, 60.0, 78.0] # °C"
      ],
      "metadata": {
        "id": "WYow8V6Ux-nJ"
      },
      "execution_count": null,
      "outputs": []
    },
    {
      "cell_type": "code",
      "source": [
        "# Task 1\n",
        "true_boiling_points_array = NotImplemented ### YOUR SOLUTION HERE\n",
        "predicted_boiling_points_array = NotImplemented ### YOUR SOLUTION HERE\n",
        "print(true_boiling_points_array)\n",
        "print(predicted_boiling_points_array)"
      ],
      "metadata": {
        "id": "Tldw0qYoz417",
        "colab": {
          "base_uri": "https://localhost:8080/"
        },
        "outputId": "b3405684-93b3-4772-b05d-7427e8f36ce6"
      },
      "execution_count": null,
      "outputs": [
        {
          "output_type": "stream",
          "name": "stdout",
          "text": [
            "NotImplemented\n",
            "NotImplemented\n"
          ]
        }
      ]
    },
    {
      "cell_type": "code",
      "source": [
        "# Task 2\n",
        "errors = NotImplemented ### YOUR SOLUTION HERE\n",
        "print(errors)\n"
      ],
      "metadata": {
        "id": "4hsYy5Imz_a4",
        "colab": {
          "base_uri": "https://localhost:8080/"
        },
        "outputId": "3aa60a25-99a0-4b02-e6bf-a96605ff4a97"
      },
      "execution_count": null,
      "outputs": [
        {
          "output_type": "stream",
          "name": "stdout",
          "text": [
            "NotImplemented\n"
          ]
        }
      ]
    },
    {
      "cell_type": "code",
      "source": [
        "# Task 3\n",
        "MAE = NotImplemented ### YOUR SOLUTION HERE\n",
        "MSE = NotImplemented ### YOUR SOLUTION HERE\n",
        "\n",
        "print(\"the MAE is:\", MAE)\n",
        "print(\"the MSE is\", MSE)"
      ],
      "metadata": {
        "id": "tTTeLq3S0DdQ",
        "colab": {
          "base_uri": "https://localhost:8080/"
        },
        "outputId": "ec371a04-da77-4851-af85-9a5f3f9b533f"
      },
      "execution_count": null,
      "outputs": [
        {
          "output_type": "stream",
          "name": "stdout",
          "text": [
            "the MAE is: NotImplemented\n",
            "the MSE is NotImplemented\n"
          ]
        }
      ]
    },
    {
      "cell_type": "markdown",
      "source": [
        "## 2.7 Logical Comparisons\n"
      ],
      "metadata": {
        "id": "6krcbJZ0Pch4"
      }
    },
    {
      "cell_type": "markdown",
      "source": [
        "Up to this point, we’ve mostly been using Python like a calculator.  \n",
        "However, the real power of programming comes from **controlling the flow of a program** based on conditions.\n",
        "\n",
        "With **logic flow**, we can:\n",
        "- Evaluate whether a statement is `True` or `False`\n",
        "- Change what the program does depending on the result\n",
        "\n",
        "### Boolean Variables\n",
        "To make this possible, we use **boolean variables** — a special data type that can only hold two values:  \n",
        "- `True`  \n",
        "- `False`\n",
        "\n",
        "Often, boolean values are created by performing a **logical comparison** between two values.\n",
        "\n",
        "---\n",
        "\n",
        "### Logical Comparison Operators\n",
        "\n",
        "| Operator | Example      | Description                  |\n",
        "|----------|--------------|------------------------------|\n",
        "| `==`     | `a == b`     | Equal to                     |\n",
        "| `!=`     | `a != b`     | Not equal to                 |\n",
        "| `<`      | `a < b`      | Less than                    |\n",
        "| `>`      | `a > b`      | Greater than                 |\n",
        "| `<=`     | `a <= b`     | Less than or equal to        |\n",
        "| `>=`     | `a >= b`     | Greater than or equal to     |\n",
        "| `and`    | `a and b`    | Logical AND                  |\n",
        "| `or`     | `a or b`     | Logical OR                   |\n",
        "| `not`    | `not a`      | Logical NOT (negation)       |\n",
        "\n",
        "---\n",
        "\n",
        "**TIP:**  \n",
        "- The **assignment operator** (`=`) sets a value to a variable.  \n",
        "- The **equality operator** (`==`) compares two values and returns `True` or `False`.  \n",
        "\n",
        "\n",
        "**Below are examples of boolean variables and comparisons**"
      ],
      "metadata": {
        "id": "gOHj4KzAnu-y"
      }
    },
    {
      "cell_type": "code",
      "source": [
        "# a boolean variable assigned to be True\n",
        "I_am_a_student = True\n",
        "print(I_am_a_student)"
      ],
      "metadata": {
        "id": "Kzvh_f6xImoe"
      },
      "execution_count": null,
      "outputs": []
    },
    {
      "cell_type": "code",
      "source": [
        "# a boolean variable assigned to be False\n",
        "I_am_a_nobel_prize_winner = False\n",
        "print(I_am_a_nobel_prize_winner)"
      ],
      "metadata": {
        "id": "hfQgC0WLJAjF"
      },
      "execution_count": null,
      "outputs": []
    },
    {
      "cell_type": "code",
      "source": [
        "a = 10\n",
        "b = 20"
      ],
      "metadata": {
        "id": "s6I3OyDqKmWz"
      },
      "execution_count": null,
      "outputs": []
    },
    {
      "cell_type": "code",
      "source": [
        "# a is equal to b\n",
        "print(a == b)"
      ],
      "metadata": {
        "id": "pvXH1-QlK_A3"
      },
      "execution_count": null,
      "outputs": []
    },
    {
      "cell_type": "code",
      "source": [
        "# a is not equal to b\n",
        "print(a != b)"
      ],
      "metadata": {
        "id": "_Xa39hhOK1c7"
      },
      "execution_count": null,
      "outputs": []
    },
    {
      "cell_type": "code",
      "source": [
        "# a is less than b\n",
        "print(a < b)"
      ],
      "metadata": {
        "id": "Xv0ZTi1gK1hV"
      },
      "execution_count": null,
      "outputs": []
    },
    {
      "cell_type": "code",
      "source": [
        "# a is greater than or equal to b\n",
        "print(a >= b)"
      ],
      "metadata": {
        "id": "O6RSL9cmK1kz"
      },
      "execution_count": null,
      "outputs": []
    },
    {
      "cell_type": "markdown",
      "source": [
        "### ✅ Problem 11: Conditional operations [4 points]\n",
        "\n",
        "Logical comparisons are widely used in AI and Machine Learning — for example, when checking whether a model’s accuracy is high enough to be acceptable.\n",
        "\n",
        "---\n",
        "**Context**.\n",
        "In this problem, you’ll work with two AI models that have been trained to classify molecular structures.  \n",
        "Their classification accuracies are shown below:\n",
        "\n",
        "| Model Name | Accuracy |\n",
        "|------------|----------|\n",
        "| Model A    | 87 %   |\n",
        "| Model B    | 92 %    |\n",
        "\n",
        "---\n",
        "\n",
        "**Task:**  \n",
        "Using the variables provided, write logical comparisons to answer the following questions:\n",
        "\n",
        "1. Check if **Model A’s accuracy** is greater than **Model B’s accuracy**.\n",
        "2. Check if **Model B’s accuracy** is greater than or equal to `0.90`.\n",
        "3. Check if **both models** have accuracy above `0.85`.\n",
        "4. Check if **at least one** of the models has accuracy above `0.90`.\n",
        "\n",
        "\n",
        "\n"
      ],
      "metadata": {
        "id": "aXaHbEMdKNPQ"
      }
    },
    {
      "cell_type": "code",
      "source": [
        "# Variables (provided)\n",
        "# Run this cell to initialize the variables\n",
        "model_a_accuracy = 0.87\n",
        "model_b_accuracy = 0.92"
      ],
      "metadata": {
        "id": "-QANXH5wN6_I"
      },
      "execution_count": null,
      "outputs": []
    },
    {
      "cell_type": "code",
      "source": [
        "# Task 1\n",
        "print(NotImplemented) ### YOUR SOLUTION HERE"
      ],
      "metadata": {
        "id": "LpQjUTeHLO1u"
      },
      "execution_count": null,
      "outputs": []
    },
    {
      "cell_type": "code",
      "source": [
        "# Expression 2\n",
        "print(NotImplemented) ### YOUR SOLUTION HERE"
      ],
      "metadata": {
        "id": "bt40nfZVLd2q"
      },
      "execution_count": null,
      "outputs": []
    },
    {
      "cell_type": "code",
      "source": [
        "# Expression 3\n",
        "print(NotImplemented) ### YOUR SOLUTION HERE"
      ],
      "metadata": {
        "id": "9WSfjRiFL-3K"
      },
      "execution_count": null,
      "outputs": []
    },
    {
      "cell_type": "code",
      "source": [
        "# Expression 4\n",
        "print(NotImplemented) ### YOUR SOLUTION HERE"
      ],
      "metadata": {
        "id": "dGyasqMFM4Ke"
      },
      "execution_count": null,
      "outputs": []
    },
    {
      "cell_type": "markdown",
      "source": [
        "## 2.8 If/Else Statements"
      ],
      "metadata": {
        "id": "_MFGI8tgANUq"
      }
    },
    {
      "cell_type": "markdown",
      "source": [
        "Now that we understand boolean variables, we can introduce our first **logical flow control structure**: the **if/else** statement.\n",
        "\n",
        "An **if/else** statement lets your program make decisions and run different blocks of code depending on whether a **boolean variable** is `True` or `False`.\n",
        "\n",
        "### Python Syntax Example\n",
        "\n",
        "    if boolean_condition:\n",
        "        # Code to run if the condition is True\n",
        "    else:\n",
        "        # Code to run if the condition is False\n",
        "\n",
        "### In Plain English:\n",
        "- The `if` keyword checks the value of a **boolean condition**.  \n",
        "- If the condition is `True`, the indented block under `if` executes.  \n",
        "- If the condition is `False`, the indented block under `else` executes instead.  \n",
        "\n",
        "**TIP:**  \n",
        "The following `if` statements are equivalent in Python:  \n",
        "\n",
        "    if condition == True:\n",
        "        # Execute this code\n",
        "\n",
        "    if (condition == True):\n",
        "        # Execute this code\n",
        "\n",
        "    if condition:\n",
        "        # Execute this code\n",
        "\n",
        "---\n",
        "\n",
        "**Next:** Let’s look at some practical examples of if/else statements in action."
      ],
      "metadata": {
        "id": "RHXfG4xvNWon"
      }
    },
    {
      "cell_type": "code",
      "source": [
        "# A standard if/else statement\n",
        "\n",
        "I_understand = False # what happens if you change this to True?\n",
        "\n",
        "if I_understand == True:\n",
        "  print(\"Let's move on!\")\n",
        "else:\n",
        "  print(\"More practice necessary\")"
      ],
      "metadata": {
        "id": "o86r_2iARqtD"
      },
      "execution_count": null,
      "outputs": []
    },
    {
      "cell_type": "code",
      "source": [
        "# The 'else' part of the condition is optional!\n",
        "my_AI_model_is_sentient = False\n",
        "\n",
        "if my_AI_model_is_sentient:\n",
        "  print(\"Terminate program immediately!\")"
      ],
      "metadata": {
        "id": "ta1Jet48S1kZ"
      },
      "execution_count": null,
      "outputs": []
    },
    {
      "cell_type": "markdown",
      "source": [
        "### ✅ Problem 12: Model Evaluation with If/Else [4 points total]\n",
        "\n",
        "#### **Context**   \n",
        "In this problem, you’ll work with a model trained to predict molecular solubility.  \n",
        "You will decide whether the model's predictions are \"good\" based on its accuracy.\n",
        "\n",
        "| Model Name   | Accuracy |\n",
        "|--------------|----------|\n",
        "| SolubNet-1   | 0.78     |\n",
        "\n",
        "<br>\n",
        "  \n",
        "**Task 1 [2 points]:** Modify the code below so the **if/else** statement.\n",
        "- Prints `\"Good model!\"` if the accuracy is **greater than or equal to 0.8**.  \n",
        "- Prints `\"Model needs improvement.\"` otherwise.\n",
        "\n"
      ],
      "metadata": {
        "id": "C8CR3muXXtBT"
      }
    },
    {
      "cell_type": "code",
      "source": [
        "# Variables (provided)\n",
        "# Run this cell to initialize the variables\n",
        "accuracy = 0.78"
      ],
      "metadata": {
        "id": "tc6BWV_E0aT8"
      },
      "execution_count": null,
      "outputs": []
    },
    {
      "cell_type": "code",
      "source": [
        "# Task 1:\n",
        "\n",
        "if NotImplemented: ### YOUR SOLUTION HERE\n",
        "  print(\"Good model!\")\n",
        "else:\n",
        "  print(\"Model needs improvement.\")"
      ],
      "metadata": {
        "id": "t-UF_TkiBESt"
      },
      "execution_count": null,
      "outputs": []
    },
    {
      "cell_type": "markdown",
      "source": [
        "**Task 2 [2 points]:** We would like to be more descriptive of our model's performance. In the code cell below, update the **if/else** statments to print out the correct performance rating for a model with a given accuracy (between 0 and 1). The ratings follow a traditional grading scheme, adapted for model evaluation.\n",
        "\n",
        "$$ A: [90 \\% -100 \\%] $$\n",
        "$$ B: [80 \\% -90 \\%) $$\n",
        "$$ C: [70 \\% -80 \\%) $$\n",
        "$$ D: [60 \\% -70 \\%) $$\n",
        "$$ F: [0 \\% -60 \\%) $$\n",
        "\n",
        "Here, square brackets $[,]$ indicate the boundary value is included in the range, and round parentheses $)$ indicate the boundary value is not included. For example, a model with accuracy exactly 0.90 earns an **A**, not a **B**.\n",
        "\n",
        "**Tip** - If statements can be chained using the `elif` keyword, which is shorthand for `else if`\n",
        "\n",
        "```\n",
        "if condition1:\n",
        "  # code that executes if condition1 is true\n",
        "elif condition2:\n",
        "  # code that executes if condition2 is true\n",
        "else\n",
        "  # code that executes if neither condition1 or condition2 were true\n",
        "```"
      ],
      "metadata": {
        "id": "htQ3RhCSV1vc"
      }
    },
    {
      "cell_type": "code",
      "source": [
        "# Variables (provided)\n",
        "accuracy = 0.78"
      ],
      "metadata": {
        "id": "h-hPPeIT3D3K"
      },
      "execution_count": null,
      "outputs": []
    },
    {
      "cell_type": "code",
      "source": [
        "# Task 2\n",
        "\n",
        "if NotImplemented: ### YOUR SOLUTION HERE\n",
        "    grade = \"A\"\n",
        "elif NotImplemented: ### YOUR SOLUTION HERE\n",
        "    grade = \"B\"\n",
        "elif NotImplemented: ### YOUR SOLUTION HERE\n",
        "    grade = \"C\"\n",
        "elif NotImplemented: ### YOUR SOLUTION HERE\n",
        "    grade = \"D\"\n",
        "else:\n",
        "    grade = \"F\"\n",
        "\n",
        "print(grade)"
      ],
      "metadata": {
        "id": "5Z35ZYMYWLsl"
      },
      "execution_count": null,
      "outputs": []
    },
    {
      "cell_type": "markdown",
      "source": [
        "## 2.9 While Loops (Logical Flow)"
      ],
      "metadata": {
        "id": "IYQaSCvWAgSY"
      }
    },
    {
      "cell_type": "markdown",
      "source": [
        "\n",
        "A **while loop** is another way to control the flow of a program.  \n",
        "It repeatedly executes a block of code **as long as** a specified boolean condition remains `True`.\n",
        "\n",
        "The general syntax is:\n",
        "\n",
        "    while loop_condition == True:\n",
        "        # This code loops repeatedly\n",
        "\n",
        "### How to exit a while loop\n",
        "\n",
        "There are two common ways to break out of a `while` loop:\n",
        "\n",
        "#### 1. Update the loop condition inside the loop\n",
        "By changing the value of the condition variable to `False`, the while loop will exit after completing that loop.\n",
        "\n",
        "    while loop_condition == True:\n",
        "        # some code\n",
        "\n",
        "        if exit_condition:\n",
        "            loop_condition = False  # stop the loop after this iteration\n",
        "\n",
        "        # more code (this will be executed on the last iteration)\n",
        "\n",
        "#### 2. Use the `break` keyword\n",
        "The `break` statement immediately stops the loop, regardless of the condition.\n",
        "\n",
        "    while loop_condition == True:\n",
        "        # some code\n",
        "\n",
        "        if exit_condition:\n",
        "            break  # stop the loop immediately\n",
        "\n",
        "        # more code (this code will be skipped on the last iteration)\n",
        "\n",
        "  \n",
        "\n"
      ],
      "metadata": {
        "id": "qv_uyreUVMc0"
      }
    },
    {
      "cell_type": "markdown",
      "source": [
        "### ✅ Problem 13: Model training with while loops [2 points]\n",
        "\n",
        "**Context:**  \n",
        "In real AI training scenarios, models are often iteratively improved over many training cycles until they reach a desired accuracy.  \n",
        "Here, we simulate that process using a `while` loop. Each loop iteration increases the model’s accuracy by 10%, mimicking gradual improvements over time.\n",
        "\n",
        "**Tip:** The operator `+=` adds the value on the right-hand side to the variable on the left.  \n",
        "For example:\n",
        "\n",
        "    model_accuracy += 10\n",
        "\n",
        "is equivalent to:\n",
        "\n",
        "    model_accuracy = model_accuracy + 10\n",
        "\n",
        "---\n",
        "\n",
        "**Task:** Update the `while` statement so that the training process stops when the model accuracy is **exactly 80%**.\n",
        "\n",
        "**Tip:** If your loop keeps running and doesn’t stop as expected, you can interrupt the kernel (see Section 1.4) to halt execution.\n",
        "If the output is especially long, you can also use \"Clear selected output\" from the code cell’s output dropdown menu to tidy things up.\n"
      ],
      "metadata": {
        "id": "c0WStaDX7EGP"
      }
    },
    {
      "cell_type": "code",
      "source": [
        "# Task\n",
        "model_accuracy = 0\n",
        "\n",
        "while NotImplemented: ### YOUR SOLUTION HERE\n",
        "  model_accuracy += 10     # the model improves with training!\n",
        "  print(\"Model accuracy is: \", model_accuracy, \"%.\")"
      ],
      "metadata": {
        "collapsed": true,
        "id": "HonxJqqGjE2k"
      },
      "execution_count": null,
      "outputs": []
    },
    {
      "cell_type": "markdown",
      "source": [
        "## 2.10 Functions\n"
      ],
      "metadata": {
        "id": "jP4iQXxVA-1L"
      }
    },
    {
      "cell_type": "markdown",
      "source": [
        "\n",
        "\n",
        "Functions let us package a sequence of steps into a reusable block of code.  \n",
        "They help make programs **clearer**, **shorter**, and **easier to test**.\n",
        "\n",
        "A function can:\n",
        "- take **inputs** (called *parameters* or *arguments*),\n",
        "- do some computation,\n",
        "- and optionally **return** a result.\n",
        "\n",
        "```\n",
        "def function_name(input):\n",
        "    output = # do some computation with the input.\n",
        "    return output\n",
        "```\n",
        "\n",
        "For example, the simple function below calculates the area of a circle with radius $r$:\n",
        "```\n",
        "def area_of_circle(r):\n",
        "    area =  math.pi * (r ** 2)\n",
        "    return area\n",
        "```\n",
        "\n",
        "\n",
        "### When is the code inside a function executed?\n",
        "A **function definition** tells Python *what* the function should do when it is used,  \n",
        "but **does not run that code immediately**.  \n",
        "The function’s code only runs when you **call** the function by its name followed by parentheses, e.g.:"
      ],
      "metadata": {
        "id": "AmWRKy-QQfwW"
      }
    },
    {
      "cell_type": "code",
      "source": [
        "import math # load math module to make math.pi available\n",
        "\n",
        "def area_of_circle(r):          # r is a parameter\n",
        "  area =  math.pi * (r ** 2)\n",
        "  print(\"hello, from inside the function!\")\n",
        "  return area                   # value sent back to the caller\n",
        "\n",
        "# Nothing is executed yet — we have only defined the function.\n",
        "# Notice how the print statement inside the function definition was not executed.\n",
        "# Thus, there is no \"hello, from inside the function!\" output from this cell."
      ],
      "metadata": {
        "id": "mfQRV3IO-2Vw"
      },
      "execution_count": null,
      "outputs": []
    },
    {
      "cell_type": "code",
      "source": [
        "# Now we call the function and store it in a variable.\n",
        "area_result = area_of_circle(2)\n",
        "\n",
        "# Notice how the print statement inside the function was executed\n",
        "# Thus, there is \"hello, from inside the function!\" visible in the cell output."
      ],
      "metadata": {
        "id": "Hxnl0aBvCTxC"
      },
      "execution_count": null,
      "outputs": []
    },
    {
      "cell_type": "code",
      "source": [
        "# we can also print out the result returned by the function:\n",
        "print(area_result)"
      ],
      "metadata": {
        "id": "KeNXDLsFCqri"
      },
      "execution_count": null,
      "outputs": []
    },
    {
      "cell_type": "markdown",
      "source": [
        "The number of inputs and outputs can also be varied, see the examples below:"
      ],
      "metadata": {
        "id": "dvAt2rfQA35o"
      }
    },
    {
      "cell_type": "code",
      "source": [
        "# Multiple inputs:\n",
        "def add(a, b):             # a and b are two parameters, separated by a comma\n",
        "  result = a + b\n",
        "  return result            # value sent back to the caller\n",
        "\n",
        "print(add(5, 20))          # call the 'add' function with arguments 5 and 20"
      ],
      "metadata": {
        "id": "A5FLhgWV-Waq",
        "colab": {
          "base_uri": "https://localhost:8080/"
        },
        "outputId": "71447a3c-9195-49d4-9554-bbeedb136114"
      },
      "execution_count": null,
      "outputs": [
        {
          "output_type": "stream",
          "name": "stdout",
          "text": [
            "25\n"
          ]
        }
      ]
    },
    {
      "cell_type": "code",
      "source": [
        "# We've already seen an example of multiple inputs:\n",
        "# The print statement will accept any number of input strings, separated by commas.\n",
        "print(\"this is an example\", \"of calling print with two inputs!\")"
      ],
      "metadata": {
        "colab": {
          "base_uri": "https://localhost:8080/"
        },
        "id": "pK28hCNPjfPe",
        "outputId": "64ad16bd-1b4e-4c76-c299-26ea67b93815"
      },
      "execution_count": null,
      "outputs": [
        {
          "output_type": "stream",
          "name": "stdout",
          "text": [
            "this is an example of calling print with two inputs!\n"
          ]
        }
      ]
    },
    {
      "cell_type": "code",
      "source": [
        "# No inputs or outputs\n",
        "def greet():\n",
        "  print(\"Hello!\")\n",
        "\n",
        "# notice how even with zero inputs,\n",
        "# parenthesis are still needed to call the function!\n",
        "greet()"
      ],
      "metadata": {
        "id": "HCstseP1Bvnl",
        "colab": {
          "base_uri": "https://localhost:8080/"
        },
        "outputId": "9ec7d014-bbe2-4239-8325-67212f5fdc83"
      },
      "execution_count": null,
      "outputs": [
        {
          "output_type": "stream",
          "name": "stdout",
          "text": [
            "Hello!\n"
          ]
        }
      ]
    },
    {
      "cell_type": "code",
      "source": [
        "# Multiple outputs\n",
        "def area_and_perimeter(r):\n",
        "  # calculates area and perimiter of circle with radius r\n",
        "  area = math.pi * (r ** 2)\n",
        "  perimiter = 2 * math.pi * r\n",
        "  return area, perimiter\n",
        "\n",
        "\n",
        "# Notice how multiple outputs are returned as a **list**\n",
        "returned_list = area_and_perimiter(1)\n",
        "print(returned_list)\n",
        "\n",
        "# outputs can be individually accessed from the returned list\n",
        "area_returned = returned_list[0]\n",
        "perimiter_returned = returned_list[1]"
      ],
      "metadata": {
        "id": "TWQ3wXqADrLD"
      },
      "execution_count": null,
      "outputs": []
    },
    {
      "cell_type": "markdown",
      "source": [
        "### ✅ Problem 14: Implement Linear and Logistic models [4 points total]\n",
        "**Context:**  \n",
        "In machine learning, a **model** takes an input (or inputs), applies some learned parameters, and produces an output — called a **prediction**.  \n",
        "For example, a very simple model could predict a molecular property (such as solubility) based on one or more molecular descriptors.  \n",
        "\n",
        "Below are two common simple models:  \n",
        "\n",
        "1. **Linear Regression (1D)** [2 points]\n",
        "$$  y = m \\times x + b $$\n",
        "\n",
        "where $m$ is the slope, $b$ is the intercept, and $x$ is your input descriptor value.  \n",
        "\n",
        "2. **Logistic Regression (1D)**  [2 points]\n",
        "$$ y = \\frac{1}{1 + e^{-(m \\times x + b)}} $$  \n",
        "where the output $y$ is between 0 and 1, representing a probability.  \n",
        "\n",
        "---\n",
        "\n",
        "**Task:**  \n",
        "Write two Python functions:  \n",
        "1. `linear_model(x, m, b)` — computes the output of the linear regression model for a single $x$.  \n",
        "2. `logistic_model(x, m, b)` — computes the output of the logistic regression model for a single $x$.  \n",
        "\n",
        "evaluate both models for:  \n",
        "- $x = 2.5$  \n",
        "- $m = 1.2$  \n",
        "- $b = -0.5$  \n",
        "\n",
        "**Tip:** can you call the linear model **within** the logistic function?\n"
      ],
      "metadata": {
        "id": "oDzqq-wjFylt"
      }
    },
    {
      "cell_type": "code",
      "source": [
        "# Function 1: Linear model\n",
        "def linear_model(x, m, b):\n",
        "  NotImplemented ### YOUR SOLUTION HERE\n",
        "\n",
        "print(linear_model(2.5, 1.2, -0.5))"
      ],
      "metadata": {
        "id": "qEXuL2DrGXI6"
      },
      "execution_count": null,
      "outputs": []
    },
    {
      "cell_type": "code",
      "source": [
        "# Function 2: Logistic model\n",
        "def logistic_model(x, m, b):\n",
        "  NotImplemented ### YOUR SOLUTION HERE\n",
        "\n",
        "print(logistic_model(2.5, 1.2, -0.5))"
      ],
      "metadata": {
        "id": "Sef7wuAfGXer"
      },
      "execution_count": null,
      "outputs": []
    },
    {
      "cell_type": "markdown",
      "source": [
        "## 2.11 Plotting with the `matplotlib` module"
      ],
      "metadata": {
        "id": "IDsyOSNuBC5c"
      }
    },
    {
      "cell_type": "markdown",
      "source": [
        "\n",
        "So far, we’ve worked with numbers, variables, and functions — but data becomes far more useful when we can **visualize** it.  \n",
        "In Python, one of the most widely used libraries for creating plots and charts is **[Matplotlib](https://matplotlib.org/)**.\n",
        "\n",
        "We’ll use Matplotlib’s `pyplot` module (often imported as `plt`) to create figures, plot data, and display the results.\n",
        "\n",
        "To import: `import matplotlib.pyplot as plt`\n",
        "\n",
        "### Why visualize data?\n",
        "- Helps identify **patterns** and **relationships** in the data.\n",
        "- Makes results **easier to interpret** and explain.\n",
        "- Is a **critical step** in machine learning, where we often visualize training progress, model predictions, or statistical distributions.\n",
        "\n",
        "### Example:\n",
        "The code below displays a simple plot of $ y = x^2 $ between -5 and 5"
      ],
      "metadata": {
        "id": "UPXqFX5L6mKi"
      }
    },
    {
      "cell_type": "code",
      "source": [
        "import matplotlib.pyplot as plt\n",
        "import numpy as np\n",
        "\n",
        "\n",
        "x_values = np.linspace(-5, 5, 100)     # x is a list of 100 evenly spaced values from -5 to 5\n",
        "y_values = x_values ** 2               # y is a list of those 100 x values, squared\n",
        "\n",
        "plt.plot(x_values, y_values)           # plot a line passing through the 100 (x,y) values\n",
        "plt.xlabel(\"x\")                        # Label x-axis\n",
        "plt.ylabel(\"y\")                        # Label y-axis\n",
        "plt.title(\"Example Plot: y = x^2\")\n",
        "plt.grid(True)                         # Show a grid\n",
        "plt.show()                             # Display the plot"
      ],
      "metadata": {
        "id": "0wDUp85vIfLU",
        "colab": {
          "base_uri": "https://localhost:8080/",
          "height": 472
        },
        "outputId": "fde4c905-fe2c-4893-fe67-f0131de88016"
      },
      "execution_count": null,
      "outputs": [
        {
          "output_type": "display_data",
          "data": {
            "text/plain": [
              "<Figure size 640x480 with 1 Axes>"
            ],
            "image/png": "[encoded data removed]"
          },
          "metadata": {}
        }
      ]
    },
    {
      "cell_type": "markdown",
      "source": [
        "Matplotlib’s `pyplot` module works like a **state machine** — it keeps track of the \"current\" figure and plot settings until you change them or start a new figure.\n",
        "- Think of it like a painter’s canvas: once you create it, you can keep adding strokes (plots, labels, legends) until you decide to clear it or start a fresh canvas.\n",
        "- Each call to functions like `plt.plot()` or `plt.title()` adds elements to the current figure.\n",
        "---\n",
        "\n",
        "Here is a table of common matplotlib commands:\n",
        "\n",
        "| Command | Description |\n",
        "|---------|-------------|\n",
        "| `import matplotlib.pyplot as plt` | Imports the Matplotlib `pyplot` interface. |\n",
        "| `plt.figure()` | Creates a new figure (canvas) for plotting. |\n",
        "| `plt.plot(x, y)` | Plots a line graph of `y` versus `x`. |\n",
        "| `plt.scatter(x, y)` | Creates a scatter plot of `y` versus `x` |\n",
        "| `plt.xlabel(\"Label\")` | Adds a label to the x-axis. |\n",
        "| `plt.ylabel(\"Label\")` | Adds a label to the y-axis. |\n",
        "| `plt.title(\"Title\")` | Adds a title to the plot. |\n",
        "| `plt.legend()` | Displays a legend for labeled plot elements. |\n",
        "| `plt.grid(True)` | Adds a grid to the plot. |\n",
        "| `plt.xlim(min, max)` | Sets the range of the x-axis. |\n",
        "| `plt.ylim(min, max)` | Sets the range of the y-axis. |\n",
        "\n",
        "\n",
        "#### Styling plots\n",
        "\n",
        "The `plt.plot` command can take in many additional, optional arguments that control the style of the plot, for example:"
      ],
      "metadata": {
        "id": "Wb3BAq_OJTHv"
      }
    },
    {
      "cell_type": "code",
      "source": [
        "# change the line color\n",
        "plt.plot(x_values, y_values, color=\"red\")\n",
        "plt.title(\"Change the line color\")"
      ],
      "metadata": {
        "id": "EQ0O_xYnKWek",
        "colab": {
          "base_uri": "https://localhost:8080/",
          "height": 470
        },
        "outputId": "59ae21cd-9aca-42de-f754-7c49faf44768"
      },
      "execution_count": null,
      "outputs": [
        {
          "output_type": "execute_result",
          "data": {
            "text/plain": [
              "Text(0.5, 1.0, 'Change the line color')"
            ]
          },
          "metadata": {},
          "execution_count": 87
        },
        {
          "output_type": "display_data",
          "data": {
            "text/plain": [
              "<Figure size 640x480 with 1 Axes>"
            ],
            "image/png": "[encoded data removed]"
          },
          "metadata": {}
        }
      ]
    },
    {
      "cell_type": "code",
      "source": [
        "# Change the line graph style (dashed line)\n",
        "plt.plot(x_values, y_values, linestyle='--')\n",
        "plt.title(\"Change the line graph style (dashed line)\")"
      ],
      "metadata": {
        "id": "1_u6nypMOhaB",
        "colab": {
          "base_uri": "https://localhost:8080/",
          "height": 470
        },
        "outputId": "e7b103f7-0a2c-4462-9947-1d2be79d3ba7"
      },
      "execution_count": null,
      "outputs": [
        {
          "output_type": "execute_result",
          "data": {
            "text/plain": [
              "Text(0.5, 1.0, 'Change the line graph style (dashed line)')"
            ]
          },
          "metadata": {},
          "execution_count": 88
        },
        {
          "output_type": "display_data",
          "data": {
            "text/plain": [
              "<Figure size 640x480 with 1 Axes>"
            ],
            "image/png": "[encoded data removed]"
          },
          "metadata": {}
        }
      ]
    },
    {
      "cell_type": "code",
      "source": [
        "# Mark individual data points\n",
        "plt.plot(x_values, y_values, marker='o')\n",
        "plt.title(\"Mark individual data points\")"
      ],
      "metadata": {
        "id": "0ddMUEEYKccb",
        "colab": {
          "base_uri": "https://localhost:8080/",
          "height": 470
        },
        "outputId": "989f6934-5850-499d-92d9-b970c1ac200c"
      },
      "execution_count": null,
      "outputs": [
        {
          "output_type": "execute_result",
          "data": {
            "text/plain": [
              "Text(0.5, 1.0, 'Mark individual data points')"
            ]
          },
          "metadata": {},
          "execution_count": 89
        },
        {
          "output_type": "display_data",
          "data": {
            "text/plain": [
              "<Figure size 640x480 with 1 Axes>"
            ],
            "image/png": "[encoded data removed]"
          },
          "metadata": {}
        }
      ]
    },
    {
      "cell_type": "code",
      "source": [
        "# Multiple style settings at once:\n",
        "# 1. change line color\n",
        "# 2. change line graph style (dashed line)\n",
        "# 3. mark individual data points\n",
        "plt.plot(x_values, y_values, color=\"red\", linestyle='--', marker='o')\n",
        "plt.title(\"Multiple style settings at once\")"
      ],
      "metadata": {
        "colab": {
          "base_uri": "https://localhost:8080/",
          "height": 470
        },
        "id": "ZtfuzUn2j-NB",
        "outputId": "2f5d5d7c-8627-4898-97db-2b566fa8e849"
      },
      "execution_count": null,
      "outputs": [
        {
          "output_type": "execute_result",
          "data": {
            "text/plain": [
              "Text(0.5, 1.0, 'Multiple style settings at once')"
            ]
          },
          "metadata": {},
          "execution_count": 91
        },
        {
          "output_type": "display_data",
          "data": {
            "text/plain": [
              "<Figure size 640x480 with 1 Axes>"
            ],
            "image/png": "[encoded data removed]"
          },
          "metadata": {}
        }
      ]
    },
    {
      "cell_type": "code",
      "source": [
        "# Add a legend\n",
        "plt.plot(x_values, y_values, label='y = x^2')    # label this data for the legend\n",
        "plt.legend()                                     # display the legend\n",
        "plt.title(\"Add a legend\")"
      ],
      "metadata": {
        "id": "1V9eaBGnLcHf",
        "colab": {
          "base_uri": "https://localhost:8080/",
          "height": 470
        },
        "outputId": "a2f25bc6-8067-4d4b-b595-317c9c18a2c7"
      },
      "execution_count": null,
      "outputs": [
        {
          "output_type": "execute_result",
          "data": {
            "text/plain": [
              "Text(0.5, 1.0, 'Add a legend')"
            ]
          },
          "metadata": {},
          "execution_count": 92
        },
        {
          "output_type": "display_data",
          "data": {
            "text/plain": [
              "<Figure size 640x480 with 1 Axes>"
            ],
            "image/png": "[encoded data removed]"
          },
          "metadata": {}
        }
      ]
    },
    {
      "cell_type": "markdown",
      "source": [
        "### ✅ Problem 15: Visualizing Model Predictions [3 points]\n",
        "\n",
        "**Context:**  \n",
        "In the previous section, you implemented two simple machine learning “models”:\n",
        "1. A **linear regression** model:  \n",
        "   $ y = m \\times x + b $\n",
        "2. A **logistic (sigmoid) model**:  \n",
        "   $ \\sigma(x) = \\frac{1}{1 + e^{-x}} $\n",
        "\n",
        "**Task:**  \n",
        "Using your previously defined functions, use matplotlib code to:\n",
        "\n",
        "1. Compute predictions for both models across all `x` values using the following parameters:\n",
        "$$ m = 1.2 \\quad b = -0.5 $$\n",
        "\n",
        "2. Plot both functions **on the same figure**, with:\n",
        "   - A **solid blue line** for the linear regression model.\n",
        "   - A **dashed red line** for the logistic function.\n",
        "3. Add axis labels, a title, a legend, and a grid.\n",
        "\n",
        "**Hint:**  \n",
        "- Reuse the equations from your previous problems.  \n",
        "- Use `plt.plot()` to draw each curve and `plt.legend()` to distinguish them.  \n"
      ],
      "metadata": {
        "id": "C1Gwz9rvMfog"
      }
    },
    {
      "cell_type": "code",
      "source": [
        "# Variables (provided)\n",
        "# Run this cell to initialize the variables\n",
        "m = 1.2\n",
        "b = -0.5\n",
        "x_values = np.linspace(-2, 2, 100)"
      ],
      "metadata": {
        "id": "HZXu6W5cMfPH"
      },
      "execution_count": null,
      "outputs": []
    },
    {
      "cell_type": "code",
      "source": [
        "\n",
        "# Task 1: compute predictions for both models across all x values\n",
        "y_values_linear = NotImplemented ### YOUR SOLUTION HERE\n",
        "y_values_logistic = NotImplemented ### YOUR SOLUTION HERE\n",
        "\n",
        "# Task 2: plot both functions on the same figure,\n",
        "# with a solid blue line for the linear model\n",
        "# and a dashed red line for the logistic model\n",
        "NotImplemented ### YOUR SOLUTION HERE\n",
        "NotImplemented ### YOUR SOLUTION HERE\n",
        "\n",
        "# Task 3: add features:\n",
        "# axis labels\n",
        "NotImplemented ### YOUR SOLUTION HERE\n",
        "NotImplemented ### YOUR SOLUTION HERE\n",
        "\n",
        "# title\n",
        "NotImplemented ### YOUR SOLUTION HERE\n",
        "\n",
        "# legend\n",
        "NotImplemented ### YOUR SOLUTION HERE\n",
        "\n",
        "# grid\n",
        "NotImplemented ### YOUR SOLUTION HERE"
      ],
      "metadata": {
        "id": "mo6kOGT4OEjV",
        "colab": {
          "base_uri": "https://localhost:8080/"
        },
        "outputId": "757acab6-84f0-4285-8cfb-518efaaa5087"
      },
      "execution_count": null,
      "outputs": [
        {
          "output_type": "execute_result",
          "data": {
            "text/plain": [
              "NotImplemented"
            ]
          },
          "metadata": {},
          "execution_count": 94
        }
      ]
    },
    {
      "cell_type": "markdown",
      "source": [
        "## 2.12 Applications in the Molecular Sciences\n",
        "\n",
        "Python has a rich ecosystem for AI and data analysis in the molecular sciences. In this course, we’ll often need to inspect molecules in 3D—examining their geometry—and retrieve key properties.\n",
        "\n",
        "We’ll primarily use two libraries:\n",
        "- **RDKit** — load/create molecules, compute descriptors, and query chemical information.\n",
        "- **py3Dmol** — interactively visualize molecular structures in 3D within a notebook.\n",
        "\n",
        "Together, these tools let us load compounds, compute properties, and render structures interactively.\n",
        "\n",
        "**Run the code cell below to install some of these libraries:**\n"
      ],
      "metadata": {
        "id": "lERijfcsPiQ0"
      }
    },
    {
      "cell_type": "code",
      "source": [
        "# Install RDKit and py3Dmol in Colab\n",
        "!pip install rdkit py3Dmol requests\n",
        "\n",
        "from rdkit import Chem\n",
        "from rdkit.Chem import AllChem, Descriptors\n",
        "import py3Dmol\n",
        "import requests\n"
      ],
      "metadata": {
        "id": "_4oqX0FoCkll",
        "colab": {
          "base_uri": "https://localhost:8080/"
        },
        "outputId": "3c62fca1-4e36-483f-ccab-0759455e4e11"
      },
      "execution_count": null,
      "outputs": [
        {
          "output_type": "stream",
          "name": "stdout",
          "text": [
            "Requirement already satisfied: rdkit in /usr/local/lib/python3.12/dist-packages (2025.3.6)\n",
            "Requirement already satisfied: py3Dmol in /usr/local/lib/python3.12/dist-packages (2.5.2)\n",
            "Requirement already satisfied: requests in /usr/local/lib/python3.12/dist-packages (2.32.4)\n",
            "Requirement already satisfied: numpy in /usr/local/lib/python3.12/dist-packages (from rdkit) (2.0.2)\n",
            "Requirement already satisfied: Pillow in /usr/local/lib/python3.12/dist-packages (from rdkit) (11.3.0)\n",
            "Requirement already satisfied: charset_normalizer<4,>=2 in /usr/local/lib/python3.12/dist-packages (from requests) (3.4.3)\n",
            "Requirement already satisfied: idna<4,>=2.5 in /usr/local/lib/python3.12/dist-packages (from requests) (3.10)\n",
            "Requirement already satisfied: urllib3<3,>=1.21.1 in /usr/local/lib/python3.12/dist-packages (from requests) (2.5.0)\n",
            "Requirement already satisfied: certifi>=2017.4.17 in /usr/local/lib/python3.12/dist-packages (from requests) (2025.8.3)\n"
          ]
        }
      ]
    },
    {
      "cell_type": "markdown",
      "source": [
        "### ✅ Problem 16: Visualizing Molecules with Python [4 points total]\n",
        "\n",
        "**Tasks**: Modify and execute the code blocks in each task to visualize molecules in different styles.\n",
        "\n",
        "**Task 1 [1 point].** Execute the code below, which visualizes the 'water' molecule. Using the table below, change the PubChem CID number in the code cell in order to visualize 'Dopamine'.\n",
        "\n",
        "| Molecule | Formula | PubChem CID |\n",
        "|---|---|---|\n",
        "| Water | H₂O | 962 |\n",
        "| Ethanol | C₂H₆O | 702 |\n",
        "| Glucose | C₆H₁₂O₆ | 5793 |\n",
        "| Caffeine | C₈H₁₀N₄O₂ | 2519 |\n",
        "| Aspirin (acetylsalicylic acid) | C₉H₈O₄ | 2244 |\n",
        "| Ibuprofen | C₁₃H₁₈O₂ | 3672 |\n",
        "| Carbon dioxide | CO₂ | 280 |\n",
        "| Dopamine | C₈H₁₁NO₂ | 681 |\n",
        "| Penicillin | C₁₆H₁₈N₂O₄S | 2349"
      ],
      "metadata": {
        "id": "pEWvCm20mnXw"
      }
    },
    {
      "cell_type": "code",
      "source": [
        "cid = 962 ### YOUR SOLUTION HERE\n",
        "\n",
        "url = f\"https://pubchem.ncbi.nlm.nih.gov/rest/pug/compound/cid/{cid}/SDF\"\n",
        "sdf_data = requests.get(url).text\n",
        "\n",
        "# Load into an RDKit molecule object\n",
        "mol = Chem.MolFromMolBlock(sdf_data, removeHs=False)\n",
        "\n",
        "# Generate 3D coordinates if missing\n",
        "AllChem.EmbedMolecule(mol, AllChem.ETKDG())\n",
        "\n",
        "# Convert molecule to 3D coordinates for py3Dmol\n",
        "mol_block = Chem.MolToMolBlock(mol)\n",
        "\n",
        "# Inspect some properties\n",
        "print(\"Formula:\", Chem.rdMolDescriptors.CalcMolFormula(mol))\n",
        "print(\"Molecular Weight:\", Descriptors.MolWt(mol))\n",
        "\n",
        "# Display in 3D\n",
        "view = py3Dmol.view(width=500, height=400)\n",
        "view.addModel(mol_block, \"sdf\")\n",
        "view.setStyle('sphere')\n",
        "view.zoomTo()\n",
        "view.show()"
      ],
      "metadata": {
        "id": "MbyuiEBqRggh",
        "colab": {
          "base_uri": "https://localhost:8080/",
          "height": 453
        },
        "outputId": "2c432bab-7d05-49c1-89e0-85507ee6327b"
      },
      "execution_count": null,
      "outputs": [
        {
          "output_type": "stream",
          "name": "stdout",
          "text": [
            "Formula: H2O\n",
            "Molecular Weight: 18.015\n"
          ]
        },
        {
          "output_type": "display_data",
          "data": {
            "application/3dmoljs_load.v0": "<div id=\"3dmolviewer_17585838646405609\"  style=\"position: relative; width: 500px; height: 400px;\">\n        <p id=\"3dmolwarning_17585838646405609\" style=\"background-color:#ffcccc;color:black\">3Dmol.js failed to load for some reason.  Please check your browser console for error messages.<br></p>\n        </div>\n<script>\n\nvar loadScriptAsync = function(uri){\n  return new Promise((resolve, reject) => {\n    //this is to ignore the existence of requirejs amd\n    var savedexports, savedmodule;\n    if (typeof exports !== 'undefined') savedexports = exports;\n    else exports = {}\n    if (typeof module !== 'undefined') savedmodule = module;\n    else module = {}\n\n    var tag = document.createElement('script');\n    tag.src = uri;\n    tag.async = true;\n    tag.onload = () => {\n        exports = savedexports;\n        module = savedmodule;\n        resolve();\n    };\n  var firstScriptTag = document.getElementsByTagName('script')[0];\n  firstScriptTag.parentNode.insertBefore(tag, firstScriptTag);\n});\n};\n\nif(typeof $3Dmolpromise === 'undefined') {\n$3Dmolpromise = null;\n  $3Dmolpromise = loadScriptAsync('https://cdn.jsdelivr.net/npm/3dmol@2.5.2/build/3Dmol-min.js');\n}\n\nvar viewer_17585838646405609 = null;\nvar warn = document.getElementById(\"3dmolwarning_17585838646405609\");\nif(warn) {\n    warn.parentNode.removeChild(warn);\n}\n$3Dmolpromise.then(function() {\nviewer_17585838646405609 = $3Dmol.createViewer(document.getElementById(\"3dmolviewer_17585838646405609\"),{backgroundColor:\"white\"});\nviewer_17585838646405609.zoomTo();\n\tviewer_17585838646405609.addModel(\"962\\n     RDKit          3D\\n\\n  3  2  0  0  0  0  0  0  0  0999 V2000\\n   -0.0074    0.3912   -0.0000 O   0  0  0  0  0  0  0  0  0  0  0  0\\n   -0.7928   -0.1984   -0.0000 H   0  0  0  0  0  0  0  0  0  0  0  0\\n    0.8002   -0.1929    0.0000 H   0  0  0  0  0  0  0  0  0  0  0  0\\n  1  2  1  0\\n  1  3  1  0\\nM  END\\n\",\"sdf\");\n\tviewer_17585838646405609.setStyle(\"sphere\");\n\tviewer_17585838646405609.zoomTo();\nviewer_17585838646405609.render();\n});\n</script>",
            "text/html": [
              "<div id=\"3dmolviewer_17585838646405609\"  style=\"position: relative; width: 500px; height: 400px;\">\n",
              "        <p id=\"3dmolwarning_17585838646405609\" style=\"background-color:#ffcccc;color:black\">3Dmol.js failed to load for some reason.  Please check your browser console for error messages.<br></p>\n",
              "        </div>\n",
              "<script>\n",
              "\n",
              "var loadScriptAsync = function(uri){\n",
              "  return new Promise((resolve, reject) => {\n",
              "    //this is to ignore the existence of requirejs amd\n",
              "    var savedexports, savedmodule;\n",
              "    if (typeof exports !== 'undefined') savedexports = exports;\n",
              "    else exports = {}\n",
              "    if (typeof module !== 'undefined') savedmodule = module;\n",
              "    else module = {}\n",
              "\n",
              "    var tag = document.createElement('script');\n",
              "    tag.src = uri;\n",
              "    tag.async = true;\n",
              "    tag.onload = () => {\n",
              "        exports = savedexports;\n",
              "        module = savedmodule;\n",
              "        resolve();\n",
              "    };\n",
              "  var firstScriptTag = document.getElementsByTagName('script')[0];\n",
              "  firstScriptTag.parentNode.insertBefore(tag, firstScriptTag);\n",
              "});\n",
              "};\n",
              "\n",
              "if(typeof $3Dmolpromise === 'undefined') {\n",
              "$3Dmolpromise = null;\n",
              "  $3Dmolpromise = loadScriptAsync('https://cdn.jsdelivr.net/npm/3dmol@2.5.2/build/3Dmol-min.js');\n",
              "}\n",
              "\n",
              "var viewer_17585838646405609 = null;\n",
              "var warn = document.getElementById(\"3dmolwarning_17585838646405609\");\n",
              "if(warn) {\n",
              "    warn.parentNode.removeChild(warn);\n",
              "}\n",
              "$3Dmolpromise.then(function() {\n",
              "viewer_17585838646405609 = $3Dmol.createViewer(document.getElementById(\"3dmolviewer_17585838646405609\"),{backgroundColor:\"white\"});\n",
              "viewer_17585838646405609.zoomTo();\n",
              "\tviewer_17585838646405609.addModel(\"962\\n     RDKit          3D\\n\\n  3  2  0  0  0  0  0  0  0  0999 V2000\\n   -0.0074    0.3912   -0.0000 O   0  0  0  0  0  0  0  0  0  0  0  0\\n   -0.7928   -0.1984   -0.0000 H   0  0  0  0  0  0  0  0  0  0  0  0\\n    0.8002   -0.1929    0.0000 H   0  0  0  0  0  0  0  0  0  0  0  0\\n  1  2  1  0\\n  1  3  1  0\\nM  END\\n\",\"sdf\");\n",
              "\tviewer_17585838646405609.setStyle(\"sphere\");\n",
              "\tviewer_17585838646405609.zoomTo();\n",
              "viewer_17585838646405609.render();\n",
              "});\n",
              "</script>"
            ]
          },
          "metadata": {}
        }
      ]
    },
    {
      "cell_type": "markdown",
      "source": [
        "**Task 2 [1 point].** Let's change the visualization style. Previously, we were using the 'sphere' style, which renders each atom as a ball, colored by element type (red=oxygen, grey=carbon, blue=nitrogen). This is good for seeing the shape of the molecule, but it is hard to see how they are connected!\n",
        "\n",
        "Using the table below, visualize **caffiene** using the 'stick' style, which shows individual chemical bonds as sticks. Don't forget to look up the CID of caffiene, available above. You can change the visualization style in the line of python containing `view.setStyle('sphere')`\n",
        "\n",
        "| Style | What it represents | Typical use |\n",
        "|---|---|---|\n",
        "| line| Thin lines for bonds; minimalist atoms | Fast overview; small molecules |\n",
        "| cross | Crosshairs at atom positions (no bonds) | Emphasize atom positions without bonds |\n",
        "| stick | Cylinders for bonds; small atom spheres (ball-and-stick feel via radius/scale) | General small-molecule work |\n",
        "| sphere | Atoms as spheres (vdW radii) | Packing/contacts; quick shape |\n",
        "| cartoon | Protein/nucleic secondary structure (ribbons/tubes, helices, sheets) | Biomacromolecules |\n"
      ],
      "metadata": {
        "id": "KMvNg8jXsSFA"
      }
    },
    {
      "cell_type": "code",
      "source": [
        "cid = 962 ### YOUR SOLUTION HERE\n",
        "url = f\"https://pubchem.ncbi.nlm.nih.gov/rest/pug/compound/cid/{cid}/SDF\"\n",
        "sdf_data = requests.get(url).text\n",
        "\n",
        "# Load into an RDKit molecule object\n",
        "mol = Chem.MolFromMolBlock(sdf_data, removeHs=False)\n",
        "\n",
        "# Generate 3D coordinates if missing\n",
        "AllChem.EmbedMolecule(mol, AllChem.ETKDG())\n",
        "\n",
        "# Convert molecule to 3D coordinates for py3Dmol\n",
        "mol_block = Chem.MolToMolBlock(mol)\n",
        "\n",
        "# Inspect some properties\n",
        "print(\"Formula:\", Chem.rdMolDescriptors.CalcMolFormula(mol))\n",
        "print(\"Molecular Weight:\", Descriptors.MolWt(mol))\n",
        "\n",
        "# Display in 3D\n",
        "view = py3Dmol.view(width=500, height=400)\n",
        "view.addModel(mol_block, \"sdf\")\n",
        "view.setStyle('sphere') ### YOUR SOLUTION HERE\n",
        "view.zoomTo()\n",
        "view.show()"
      ],
      "metadata": {
        "colab": {
          "base_uri": "https://localhost:8080/",
          "height": 453
        },
        "id": "mm5FT8-WsECD",
        "outputId": "4113a6f0-00e2-4cc0-fa30-36796f97d1f1"
      },
      "execution_count": null,
      "outputs": [
        {
          "output_type": "stream",
          "name": "stdout",
          "text": [
            "Formula: H2O\n",
            "Molecular Weight: 18.015\n"
          ]
        },
        {
          "output_type": "display_data",
          "data": {
            "application/3dmoljs_load.v0": "<div id=\"3dmolviewer_17585839400616648\"  style=\"position: relative; width: 500px; height: 400px;\">\n        <p id=\"3dmolwarning_17585839400616648\" style=\"background-color:#ffcccc;color:black\">3Dmol.js failed to load for some reason.  Please check your browser console for error messages.<br></p>\n        </div>\n<script>\n\nvar loadScriptAsync = function(uri){\n  return new Promise((resolve, reject) => {\n    //this is to ignore the existence of requirejs amd\n    var savedexports, savedmodule;\n    if (typeof exports !== 'undefined') savedexports = exports;\n    else exports = {}\n    if (typeof module !== 'undefined') savedmodule = module;\n    else module = {}\n\n    var tag = document.createElement('script');\n    tag.src = uri;\n    tag.async = true;\n    tag.onload = () => {\n        exports = savedexports;\n        module = savedmodule;\n        resolve();\n    };\n  var firstScriptTag = document.getElementsByTagName('script')[0];\n  firstScriptTag.parentNode.insertBefore(tag, firstScriptTag);\n});\n};\n\nif(typeof $3Dmolpromise === 'undefined') {\n$3Dmolpromise = null;\n  $3Dmolpromise = loadScriptAsync('https://cdn.jsdelivr.net/npm/3dmol@2.5.2/build/3Dmol-min.js');\n}\n\nvar viewer_17585839400616648 = null;\nvar warn = document.getElementById(\"3dmolwarning_17585839400616648\");\nif(warn) {\n    warn.parentNode.removeChild(warn);\n}\n$3Dmolpromise.then(function() {\nviewer_17585839400616648 = $3Dmol.createViewer(document.getElementById(\"3dmolviewer_17585839400616648\"),{backgroundColor:\"white\"});\nviewer_17585839400616648.zoomTo();\n\tviewer_17585839400616648.addModel(\"962\\n     RDKit          3D\\n\\n  3  2  0  0  0  0  0  0  0  0999 V2000\\n   -0.0016    0.3799   -0.0000 O   0  0  0  0  0  0  0  0  0  0  0  0\\n   -0.8122   -0.1906   -0.0000 H   0  0  0  0  0  0  0  0  0  0  0  0\\n    0.8139   -0.1894    0.0000 H   0  0  0  0  0  0  0  0  0  0  0  0\\n  1  2  1  0\\n  1  3  1  0\\nM  END\\n\",\"sdf\");\n\tviewer_17585839400616648.setStyle(\"sphere\");\n\tviewer_17585839400616648.zoomTo();\nviewer_17585839400616648.render();\n});\n</script>",
            "text/html": [
              "<div id=\"3dmolviewer_17585839400616648\"  style=\"position: relative; width: 500px; height: 400px;\">\n",
              "        <p id=\"3dmolwarning_17585839400616648\" style=\"background-color:#ffcccc;color:black\">3Dmol.js failed to load for some reason.  Please check your browser console for error messages.<br></p>\n",
              "        </div>\n",
              "<script>\n",
              "\n",
              "var loadScriptAsync = function(uri){\n",
              "  return new Promise((resolve, reject) => {\n",
              "    //this is to ignore the existence of requirejs amd\n",
              "    var savedexports, savedmodule;\n",
              "    if (typeof exports !== 'undefined') savedexports = exports;\n",
              "    else exports = {}\n",
              "    if (typeof module !== 'undefined') savedmodule = module;\n",
              "    else module = {}\n",
              "\n",
              "    var tag = document.createElement('script');\n",
              "    tag.src = uri;\n",
              "    tag.async = true;\n",
              "    tag.onload = () => {\n",
              "        exports = savedexports;\n",
              "        module = savedmodule;\n",
              "        resolve();\n",
              "    };\n",
              "  var firstScriptTag = document.getElementsByTagName('script')[0];\n",
              "  firstScriptTag.parentNode.insertBefore(tag, firstScriptTag);\n",
              "});\n",
              "};\n",
              "\n",
              "if(typeof $3Dmolpromise === 'undefined') {\n",
              "$3Dmolpromise = null;\n",
              "  $3Dmolpromise = loadScriptAsync('https://cdn.jsdelivr.net/npm/3dmol@2.5.2/build/3Dmol-min.js');\n",
              "}\n",
              "\n",
              "var viewer_17585839400616648 = null;\n",
              "var warn = document.getElementById(\"3dmolwarning_17585839400616648\");\n",
              "if(warn) {\n",
              "    warn.parentNode.removeChild(warn);\n",
              "}\n",
              "$3Dmolpromise.then(function() {\n",
              "viewer_17585839400616648 = $3Dmol.createViewer(document.getElementById(\"3dmolviewer_17585839400616648\"),{backgroundColor:\"white\"});\n",
              "viewer_17585839400616648.zoomTo();\n",
              "\tviewer_17585839400616648.addModel(\"962\\n     RDKit          3D\\n\\n  3  2  0  0  0  0  0  0  0  0999 V2000\\n   -0.0016    0.3799   -0.0000 O   0  0  0  0  0  0  0  0  0  0  0  0\\n   -0.8122   -0.1906   -0.0000 H   0  0  0  0  0  0  0  0  0  0  0  0\\n    0.8139   -0.1894    0.0000 H   0  0  0  0  0  0  0  0  0  0  0  0\\n  1  2  1  0\\n  1  3  1  0\\nM  END\\n\",\"sdf\");\n",
              "\tviewer_17585839400616648.setStyle(\"sphere\");\n",
              "\tviewer_17585839400616648.zoomTo();\n",
              "viewer_17585839400616648.render();\n",
              "});\n",
              "</script>"
            ]
          },
          "metadata": {}
        }
      ]
    },
    {
      "cell_type": "markdown",
      "source": [
        "**Task 3 [1 point]:** Now let's visualize some **proteins** which are larger molecules used by living organisms to accomplish biological functions.\n",
        "\n",
        "Modify the code below by changing the pdb_id to visualize the SARS-CoV-2 spike.\n",
        "\n",
        "| Protein | Function | Example PDB ID |\n",
        "|---|---|---|\n",
        "| Hemoglobin | Oxygen transport in blood | 4HHB |\n",
        "| Insulin | Hormone that regulates blood glucose | 3I40 |\n",
        "| SARS-CoV-2 spike (S) | Viral surface glycoprotein mediating ACE2-dependent entry | 6VSB |\n",
        "| DNA polymerase I (Klenow fragment) | DNA synthesis/repair | 1KLN |"
      ],
      "metadata": {
        "id": "OrJdPUhJt-oX"
      }
    },
    {
      "cell_type": "code",
      "source": [
        "# Choose a PDB ID from the Protein Data Bank\n",
        "pdb_id = \"3I40\"  ### YOUR SOLUTION HERE\n",
        "\n",
        "# Fetch the PDB file text from RCSB\n",
        "pdb_url = f\"https://files.rcsb.org/download/{pdb_id}.pdb\"\n",
        "protein = requests.get(pdb_url).text\n",
        "\n",
        "# Create the viewer\n",
        "view = py3Dmol.view(width=600, height=400)\n",
        "view.addModel(protein, \"pdb\")                      # load the protein\n",
        "view.setStyle('stick')\n",
        "view.zoomTo()\n",
        "view.show()"
      ],
      "metadata": {
        "colab": {
          "base_uri": "https://localhost:8080/",
          "height": 417
        },
        "id": "OAaHo1U9uU6q",
        "outputId": "92a07596-bd1c-4d73-999c-f0512011b8a2"
      },
      "execution_count": null,
      "outputs": [
        {
          "output_type": "display_data",
          "data": {
            "application/3dmoljs_load.v0": "<div id=\"3dmolviewer_17585835590427175\"  style=\"position: relative; width: 600px; height: 400px;\">\n        <p id=\"3dmolwarning_17585835590427175\" style=\"background-color:#ffcccc;color:black\">3Dmol.js failed to load for some reason.  Please check your browser console for error messages.<br></p>\n        </div>\n<script>\n\nvar loadScriptAsync = function(uri){\n  return new Promise((resolve, reject) => {\n    //this is to ignore the existence of requirejs amd\n    var savedexports, savedmodule;\n    if (typeof exports !== 'undefined') savedexports = exports;\n    else exports = {}\n    if (typeof module !== 'undefined') savedmodule = module;\n    else module = {}\n\n    var tag = document.createElement('script');\n    tag.src = uri;\n    tag.async = true;\n    tag.onload = () => {\n        exports = savedexports;\n        module = savedmodule;\n        resolve();\n    };\n  var firstScriptTag = document.getElementsByTagName('script')[0];\n  firstScriptTag.parentNode.insertBefore(tag, firstScriptTag);\n});\n};\n\nif(typeof $3Dmolpromise === 'undefined') {\n$3Dmolpromise = null;\n  $3Dmolpromise = loadScriptAsync('https://cdn.jsdelivr.net/npm/3dmol@2.5.2/build/3Dmol-min.js');\n}\n\nvar viewer_17585835590427175 = null;\nvar warn = document.getElementById(\"3dmolwarning_17585835590427175\");\nif(warn) {\n    warn.parentNode.removeChild(warn);\n}\n$3Dmolpromise.then(function() {\nviewer_17585835590427175 = $3Dmol.createViewer(document.getElementById(\"3dmolviewer_17585835590427175\"),{backgroundColor:\"white\"});\nviewer_17585835590427175.zoomTo();\n\tviewer_17585835590427175.addModel(\"HEADER    HORMONE                                 01-JUL-09   3I40              \\nTITLE     HUMAN INSULIN                                                         \\nCOMPND    MOL_ID: 1;                                                            \\nCOMPND   2 MOLECULE: INSULIN A CHAIN;                                           \\nCOMPND   3 CHAIN: A;                                                            \\nCOMPND   4 ENGINEERED: YES;                                                     \\nCOMPND   5 MOL_ID: 2;                                                           \\nCOMPND   6 MOLECULE: INSULIN B CHAIN;                                           \\nCOMPND   7 CHAIN: B;                                                            \\nCOMPND   8 ENGINEERED: YES                                                      \\nSOURCE    MOL_ID: 1;                                                            \\nSOURCE   2 ORGANISM_SCIENTIFIC: HOMO SAPIENS;                                   \\nSOURCE   3 ORGANISM_COMMON: HUMAN;                                              \\nSOURCE   4 ORGANISM_TAXID: 9606;                                                \\nSOURCE   5 EXPRESSION_SYSTEM: ESCHERICHIA COLI;                                 \\nSOURCE   6 EXPRESSION_SYSTEM_TAXID: 562;                                        \\nSOURCE   7 MOL_ID: 2;                                                           \\nSOURCE   8 ORGANISM_SCIENTIFIC: HOMO SAPIENS;                                   \\nSOURCE   9 ORGANISM_COMMON: HUMAN;                                              \\nSOURCE  10 ORGANISM_TAXID: 9606;                                                \\nSOURCE  11 EXPRESSION_SYSTEM: ESCHERICHIA COLI;                                 \\nSOURCE  12 EXPRESSION_SYSTEM_TAXID: 562                                         \\nKEYWDS    INSULIN, CARBOHYDRATE METABOLISM, CLEAVAGE ON PAIR OF BASIC RESIDUES, \\nKEYWDS   2 DIABETES MELLITUS, DISEASE MUTATION, DISULFIDE BOND, GLUCOSE         \\nKEYWDS   3 METABOLISM, HORMONE, SECRETED                                        \\nEXPDTA    X-RAY DIFFRACTION                                                     \\nAUTHOR    V.I.TIMOFEEV,V.V.BEZUGLOV,K.A.MIROSHNIKOV,R.N.CHUPROV-NETOCHIN,       \\nAUTHOR   2 I.P.KURANOVA                                                         \\nREVDAT   4   06-NOV-24 3I40    1       REMARK                                   \\nREVDAT   3   01-NOV-23 3I40    1       REMARK                                   \\nREVDAT   2   05-MAY-10 3I40    1       JRNL                                     \\nREVDAT   1   05-JAN-10 3I40    0                                                \\nJRNL        AUTH   V.I.TIMOFEEV,R.N.CHUPROV-NETOCHIN,V.R.SAMIGINA,V.V.BEZUGLOV, \\nJRNL        AUTH 2 K.A.MIROSHNIKOV,I.P.KURANOVA                                 \\nJRNL        TITL   X-RAY INVESTIGATION OF GENE-ENGINEERED HUMAN INSULIN         \\nJRNL        TITL 2 CRYSTALLIZED FROM A SOLUTION CONTAINING POLYSIALIC ACID.     \\nJRNL        REF    ACTA CRYSTALLOGR.,SECT.F      V.  66   259 2010              \\nJRNL        REFN                   ESSN 1744-3091                               \\nJRNL        PMID   20208155                                                     \\nJRNL        DOI    10.1107/S1744309110000461                                    \\nREMARK   2                                                                      \\nREMARK   2 RESOLUTION.    1.85 ANGSTROMS.                                       \\nREMARK   3                                                                      \\nREMARK   3 REFINEMENT.                                                          \\nREMARK   3   PROGRAM     : PHENIX (PHENIX.REFINE)                               \\nREMARK   3   AUTHORS     : PAUL ADAMS,PAVEL AFONINE,VINCENT CHEN,IAN            \\nREMARK   3               : DAVIS,KRESHNA GOPAL,RALF GROSSE-KUNSTLEVE,           \\nREMARK   3               : LI-WEI HUNG,ROBERT IMMORMINO,TOM IOERGER,            \\nREMARK   3               : AIRLIE MCCOY,ERIK MCKEE,NIGEL MORIARTY,              \\nREMARK   3               : REETAL PAI,RANDY READ,JANE RICHARDSON,               \\nREMARK   3               : DAVID RICHARDSON,TOD ROMO,JIM SACCHETTINI,           \\nREMARK   3               : NICHOLAS SAUTER,JACOB SMITH,LAURENT                  \\nREMARK   3               : STORONI,TOM TERWILLIGER,PETER ZWART                  \\nREMARK   3                                                                      \\nREMARK   3    REFINEMENT TARGET : ML                                            \\nREMARK   3                                                                      \\nREMARK   3  DATA USED IN REFINEMENT.                                            \\nREMARK   3   RESOLUTION RANGE HIGH (ANGSTROMS) : 1.85                           \\nREMARK   3   RESOLUTION RANGE LOW  (ANGSTROMS) : 31.53                          \\nREMARK   3   MIN(FOBS/SIGMA_FOBS)              : 0.000                          \\nREMARK   3   COMPLETENESS FOR RANGE        (%) : 99.1                           \\nREMARK   3   NUMBER OF REFLECTIONS             : 6640                           \\nREMARK   3                                                                      \\nREMARK   3  FIT TO DATA USED IN REFINEMENT.                                     \\nREMARK   3   R VALUE     (WORKING + TEST SET) : 0.202                           \\nREMARK   3   R VALUE            (WORKING SET) : 0.200                           \\nREMARK   3   FREE R VALUE                     : 0.228                           \\nREMARK   3   FREE R VALUE TEST SET SIZE   (%) : 4.760                           \\nREMARK   3   FREE R VALUE TEST SET COUNT      : 316                             \\nREMARK   3                                                                      \\nREMARK   3  FIT TO DATA USED IN REFINEMENT (IN BINS).                           \\nREMARK   3   BIN  RESOLUTION RANGE  COMPL.    NWORK NFREE   RWORK  RFREE        \\nREMARK   3     1 31.5295 -  2.3309    1.00     3219   154  0.1910 0.2145        \\nREMARK   3     2  2.3309 -  1.8501    0.99     3105   162  0.2301 0.2627        \\nREMARK   3                                                                      \\nREMARK   3  BULK SOLVENT MODELLING.                                             \\nREMARK   3   METHOD USED        : FLAT BULK SOLVENT MODEL                       \\nREMARK   3   SOLVENT RADIUS     : 1.11                                          \\nREMARK   3   SHRINKAGE RADIUS   : 0.90                                          \\nREMARK   3   K_SOL              : 0.35                                          \\nREMARK   3   B_SOL              : 47.05                                         \\nREMARK   3                                                                      \\nREMARK   3  ERROR ESTIMATES.                                                    \\nREMARK   3   COORDINATE ERROR (MAXIMUM-LIKELIHOOD BASED)     : 0.240            \\nREMARK   3   PHASE ERROR (DEGREES, MAXIMUM-LIKELIHOOD BASED) : 24.930           \\nREMARK   3                                                                      \\nREMARK   3  B VALUES.                                                           \\nREMARK   3   FROM WILSON PLOT           (A**2) : 24.04                          \\nREMARK   3   MEAN B VALUE      (OVERALL, A**2) : 30.30                          \\nREMARK   3   OVERALL ANISOTROPIC B VALUE.                                       \\nREMARK   3    B11 (A**2) : NULL                                                 \\nREMARK   3    B22 (A**2) : NULL                                                 \\nREMARK   3    B33 (A**2) : NULL                                                 \\nREMARK   3    B12 (A**2) : NULL                                                 \\nREMARK   3    B13 (A**2) : NULL                                                 \\nREMARK   3    B23 (A**2) : NULL                                                 \\nREMARK   3                                                                      \\nREMARK   3  TWINNING INFORMATION.                                               \\nREMARK   3   FRACTION: NULL                                                     \\nREMARK   3   OPERATOR: NULL                                                     \\nREMARK   3                                                                      \\nREMARK   3  DEVIATIONS FROM IDEAL VALUES.                                       \\nREMARK   3                 RMSD          COUNT                                  \\nREMARK   3   BOND      :  0.005            423                                  \\nREMARK   3   ANGLE     :  0.760            569                                  \\nREMARK   3   CHIRALITY :  0.068             62                                  \\nREMARK   3   PLANARITY :  0.002             73                                  \\nREMARK   3   DIHEDRAL  : 17.205            141                                  \\nREMARK   3                                                                      \\nREMARK   3  TLS DETAILS                                                         \\nREMARK   3   NUMBER OF TLS GROUPS  : NULL                                       \\nREMARK   3                                                                      \\nREMARK   3  NCS DETAILS                                                         \\nREMARK   3   NUMBER OF NCS GROUPS : NULL                                        \\nREMARK   3                                                                      \\nREMARK   3  OTHER REFINEMENT REMARKS: NULL                                      \\nREMARK   4                                                                      \\nREMARK   4 3I40 COMPLIES WITH FORMAT V. 3.30, 13-JUL-11                         \\nREMARK 100                                                                      \\nREMARK 100 THIS ENTRY HAS BEEN PROCESSED BY PDBJ ON 06-JUL-09.                  \\nREMARK 100 THE DEPOSITION ID IS D_1000053935.                                   \\nREMARK 200                                                                      \\nREMARK 200 EXPERIMENTAL DETAILS                                                 \\nREMARK 200  EXPERIMENT TYPE                : X-RAY DIFFRACTION                  \\nREMARK 200  DATE OF DATA COLLECTION        : 10-MAR-09                          \\nREMARK 200  TEMPERATURE           (KELVIN) : 100                                \\nREMARK 200  PH                             : NULL                               \\nREMARK 200  NUMBER OF CRYSTALS USED        : 1                                  \\nREMARK 200                                                                      \\nREMARK 200  SYNCHROTRON              (Y/N) : N                                  \\nREMARK 200  RADIATION SOURCE               : ROTATING ANODE                     \\nREMARK 200  BEAMLINE                       : NULL                               \\nREMARK 200  X-RAY GENERATOR MODEL          : BRUKER AXS MICROSTAR               \\nREMARK 200  MONOCHROMATIC OR LAUE    (M/L) : M                                  \\nREMARK 200  WAVELENGTH OR RANGE        (A) : NULL                               \\nREMARK 200  MONOCHROMATOR                  : NULL                               \\nREMARK 200  OPTICS                         : NULL                               \\nREMARK 200                                                                      \\nREMARK 200  DETECTOR TYPE                  : CCD                                \\nREMARK 200  DETECTOR MANUFACTURER          : MAR CCD 165 MM                     \\nREMARK 200  INTENSITY-INTEGRATION SOFTWARE : DENZO                              \\nREMARK 200  DATA SCALING SOFTWARE          : NULL                               \\nREMARK 200                                                                      \\nREMARK 200  NUMBER OF UNIQUE REFLECTIONS   : 6677                               \\nREMARK 200  RESOLUTION RANGE HIGH      (A) : 1.850                              \\nREMARK 200  RESOLUTION RANGE LOW       (A) : 54.636                             \\nREMARK 200  REJECTION CRITERIA  (SIGMA(I)) : NULL                               \\nREMARK 200                                                                      \\nREMARK 200 OVERALL.                                                             \\nREMARK 200  COMPLETENESS FOR RANGE     (%) : NULL                               \\nREMARK 200  DATA REDUNDANCY                : NULL                               \\nREMARK 200  R MERGE                    (I) : NULL                               \\nREMARK 200  R SYM                      (I) : NULL                               \\nREMARK 200  <I/SIGMA(I)> FOR THE DATA SET  : NULL                               \\nREMARK 200                                                                      \\nREMARK 200 IN THE HIGHEST RESOLUTION SHELL.                                     \\nREMARK 200  HIGHEST RESOLUTION SHELL, RANGE HIGH (A) : NULL                     \\nREMARK 200  HIGHEST RESOLUTION SHELL, RANGE LOW  (A) : NULL                     \\nREMARK 200  COMPLETENESS FOR SHELL     (%) : NULL                               \\nREMARK 200  DATA REDUNDANCY IN SHELL       : NULL                               \\nREMARK 200  R MERGE FOR SHELL          (I) : NULL                               \\nREMARK 200  R SYM FOR SHELL            (I) : NULL                               \\nREMARK 200  <I/SIGMA(I)> FOR SHELL         : NULL                               \\nREMARK 200                                                                      \\nREMARK 200 DIFFRACTION PROTOCOL: SINGLE WAVELENGTH                              \\nREMARK 200 METHOD USED TO DETERMINE THE STRUCTURE: MOLECULAR REPLACEMENT        \\nREMARK 200 SOFTWARE USED: NULL                                                  \\nREMARK 200 STARTING MODEL: PDB ENTRY 2G4M                                       \\nREMARK 200                                                                      \\nREMARK 200 REMARK: NULL                                                         \\nREMARK 280                                                                      \\nREMARK 280 CRYSTAL                                                              \\nREMARK 280 SOLVENT CONTENT, VS   (%): 62.90                                     \\nREMARK 280 MATTHEWS COEFFICIENT, VM (ANGSTROMS**3/DA): 3.31                     \\nREMARK 280                                                                      \\nREMARK 280 CRYSTALLIZATION CONDITIONS: NULL                                     \\nREMARK 290                                                                      \\nREMARK 290 CRYSTALLOGRAPHIC SYMMETRY                                            \\nREMARK 290 SYMMETRY OPERATORS FOR SPACE GROUP: I 21 3                           \\nREMARK 290                                                                      \\nREMARK 290      SYMOP   SYMMETRY                                                \\nREMARK 290     NNNMMM   OPERATOR                                                \\nREMARK 290       1555   X,Y,Z                                                   \\nREMARK 290       2555   -X+1/2,-Y,Z+1/2                                         \\nREMARK 290       3555   -X,Y+1/2,-Z+1/2                                         \\nREMARK 290       4555   X+1/2,-Y+1/2,-Z                                         \\nREMARK 290       5555   Z,X,Y                                                   \\nREMARK 290       6555   Z+1/2,-X+1/2,-Y                                         \\nREMARK 290       7555   -Z+1/2,-X,Y+1/2                                         \\nREMARK 290       8555   -Z,X+1/2,-Y+1/2                                         \\nREMARK 290       9555   Y,Z,X                                                   \\nREMARK 290      10555   -Y,Z+1/2,-X+1/2                                         \\nREMARK 290      11555   Y+1/2,-Z+1/2,-X                                         \\nREMARK 290      12555   -Y+1/2,-Z,X+1/2                                         \\nREMARK 290      13555   X+1/2,Y+1/2,Z+1/2                                       \\nREMARK 290      14555   -X,-Y+1/2,Z                                             \\nREMARK 290      15555   -X+1/2,Y,-Z                                             \\nREMARK 290      16555   X,-Y,-Z+1/2                                             \\nREMARK 290      17555   Z+1/2,X+1/2,Y+1/2                                       \\nREMARK 290      18555   Z,-X,-Y+1/2                                             \\nREMARK 290      19555   -Z,-X+1/2,Y                                             \\nREMARK 290      20555   -Z+1/2,X,-Y                                             \\nREMARK 290      21555   Y+1/2,Z+1/2,X+1/2                                       \\nREMARK 290      22555   -Y+1/2,Z,-X                                             \\nREMARK 290      23555   Y,-Z,-X+1/2                                             \\nREMARK 290      24555   -Y,-Z+1/2,X                                             \\nREMARK 290                                                                      \\nREMARK 290     WHERE NNN -> OPERATOR NUMBER                                     \\nREMARK 290           MMM -> TRANSLATION VECTOR                                  \\nREMARK 290                                                                      \\nREMARK 290 CRYSTALLOGRAPHIC SYMMETRY TRANSFORMATIONS                            \\nREMARK 290 THE FOLLOWING TRANSFORMATIONS OPERATE ON THE ATOM/HETATM             \\nREMARK 290 RECORDS IN THIS ENTRY TO PRODUCE CRYSTALLOGRAPHICALLY                \\nREMARK 290 RELATED MOLECULES.                                                   \\nREMARK 290   SMTRY1   1  1.000000  0.000000  0.000000        0.00000            \\nREMARK 290   SMTRY2   1  0.000000  1.000000  0.000000        0.00000            \\nREMARK 290   SMTRY3   1  0.000000  0.000000  1.000000        0.00000            \\nREMARK 290   SMTRY1   2 -1.000000  0.000000  0.000000       38.61000            \\nREMARK 290   SMTRY2   2  0.000000 -1.000000  0.000000        0.00000            \\nREMARK 290   SMTRY3   2  0.000000  0.000000  1.000000       38.61000            \\nREMARK 290   SMTRY1   3 -1.000000  0.000000  0.000000        0.00000            \\nREMARK 290   SMTRY2   3  0.000000  1.000000  0.000000       38.61000            \\nREMARK 290   SMTRY3   3  0.000000  0.000000 -1.000000       38.61000            \\nREMARK 290   SMTRY1   4  1.000000  0.000000  0.000000       38.61000            \\nREMARK 290   SMTRY2   4  0.000000 -1.000000  0.000000       38.61000            \\nREMARK 290   SMTRY3   4  0.000000  0.000000 -1.000000        0.00000            \\nREMARK 290   SMTRY1   5  0.000000  0.000000  1.000000        0.00000            \\nREMARK 290   SMTRY2   5  1.000000  0.000000  0.000000        0.00000            \\nREMARK 290   SMTRY3   5  0.000000  1.000000  0.000000        0.00000            \\nREMARK 290   SMTRY1   6  0.000000  0.000000  1.000000       38.61000            \\nREMARK 290   SMTRY2   6 -1.000000  0.000000  0.000000       38.61000            \\nREMARK 290   SMTRY3   6  0.000000 -1.000000  0.000000        0.00000            \\nREMARK 290   SMTRY1   7  0.000000  0.000000 -1.000000       38.61000            \\nREMARK 290   SMTRY2   7 -1.000000  0.000000  0.000000        0.00000            \\nREMARK 290   SMTRY3   7  0.000000  1.000000  0.000000       38.61000            \\nREMARK 290   SMTRY1   8  0.000000  0.000000 -1.000000        0.00000            \\nREMARK 290   SMTRY2   8  1.000000  0.000000  0.000000       38.61000            \\nREMARK 290   SMTRY3   8  0.000000 -1.000000  0.000000       38.61000            \\nREMARK 290   SMTRY1   9  0.000000  1.000000  0.000000        0.00000            \\nREMARK 290   SMTRY2   9  0.000000  0.000000  1.000000        0.00000            \\nREMARK 290   SMTRY3   9  1.000000  0.000000  0.000000        0.00000            \\nREMARK 290   SMTRY1  10  0.000000 -1.000000  0.000000        0.00000            \\nREMARK 290   SMTRY2  10  0.000000  0.000000  1.000000       38.61000            \\nREMARK 290   SMTRY3  10 -1.000000  0.000000  0.000000       38.61000            \\nREMARK 290   SMTRY1  11  0.000000  1.000000  0.000000       38.61000            \\nREMARK 290   SMTRY2  11  0.000000  0.000000 -1.000000       38.61000            \\nREMARK 290   SMTRY3  11 -1.000000  0.000000  0.000000        0.00000            \\nREMARK 290   SMTRY1  12  0.000000 -1.000000  0.000000       38.61000            \\nREMARK 290   SMTRY2  12  0.000000  0.000000 -1.000000        0.00000            \\nREMARK 290   SMTRY3  12  1.000000  0.000000  0.000000       38.61000            \\nREMARK 290   SMTRY1  13  1.000000  0.000000  0.000000       38.61000            \\nREMARK 290   SMTRY2  13  0.000000  1.000000  0.000000       38.61000            \\nREMARK 290   SMTRY3  13  0.000000  0.000000  1.000000       38.61000            \\nREMARK 290   SMTRY1  14 -1.000000  0.000000  0.000000        0.00000            \\nREMARK 290   SMTRY2  14  0.000000 -1.000000  0.000000       38.61000            \\nREMARK 290   SMTRY3  14  0.000000  0.000000  1.000000        0.00000            \\nREMARK 290   SMTRY1  15 -1.000000  0.000000  0.000000       38.61000            \\nREMARK 290   SMTRY2  15  0.000000  1.000000  0.000000        0.00000            \\nREMARK 290   SMTRY3  15  0.000000  0.000000 -1.000000        0.00000            \\nREMARK 290   SMTRY1  16  1.000000  0.000000  0.000000        0.00000            \\nREMARK 290   SMTRY2  16  0.000000 -1.000000  0.000000        0.00000            \\nREMARK 290   SMTRY3  16  0.000000  0.000000 -1.000000       38.61000            \\nREMARK 290   SMTRY1  17  0.000000  0.000000  1.000000       38.61000            \\nREMARK 290   SMTRY2  17  1.000000  0.000000  0.000000       38.61000            \\nREMARK 290   SMTRY3  17  0.000000  1.000000  0.000000       38.61000            \\nREMARK 290   SMTRY1  18  0.000000  0.000000  1.000000        0.00000            \\nREMARK 290   SMTRY2  18 -1.000000  0.000000  0.000000        0.00000            \\nREMARK 290   SMTRY3  18  0.000000 -1.000000  0.000000       38.61000            \\nREMARK 290   SMTRY1  19  0.000000  0.000000 -1.000000        0.00000            \\nREMARK 290   SMTRY2  19 -1.000000  0.000000  0.000000       38.61000            \\nREMARK 290   SMTRY3  19  0.000000  1.000000  0.000000        0.00000            \\nREMARK 290   SMTRY1  20  0.000000  0.000000 -1.000000       38.61000            \\nREMARK 290   SMTRY2  20  1.000000  0.000000  0.000000        0.00000            \\nREMARK 290   SMTRY3  20  0.000000 -1.000000  0.000000        0.00000            \\nREMARK 290   SMTRY1  21  0.000000  1.000000  0.000000       38.61000            \\nREMARK 290   SMTRY2  21  0.000000  0.000000  1.000000       38.61000            \\nREMARK 290   SMTRY3  21  1.000000  0.000000  0.000000       38.61000            \\nREMARK 290   SMTRY1  22  0.000000 -1.000000  0.000000       38.61000            \\nREMARK 290   SMTRY2  22  0.000000  0.000000  1.000000        0.00000            \\nREMARK 290   SMTRY3  22 -1.000000  0.000000  0.000000        0.00000            \\nREMARK 290   SMTRY1  23  0.000000  1.000000  0.000000        0.00000            \\nREMARK 290   SMTRY2  23  0.000000  0.000000 -1.000000        0.00000            \\nREMARK 290   SMTRY3  23 -1.000000  0.000000  0.000000       38.61000            \\nREMARK 290   SMTRY1  24  0.000000 -1.000000  0.000000        0.00000            \\nREMARK 290   SMTRY2  24  0.000000  0.000000 -1.000000       38.61000            \\nREMARK 290   SMTRY3  24  1.000000  0.000000  0.000000        0.00000            \\nREMARK 290                                                                      \\nREMARK 290 REMARK: NULL                                                         \\nREMARK 300                                                                      \\nREMARK 300 BIOMOLECULE: 1                                                       \\nREMARK 300 SEE REMARK 350 FOR THE AUTHOR PROVIDED AND/OR PROGRAM                \\nREMARK 300 GENERATED ASSEMBLY INFORMATION FOR THE STRUCTURE IN                  \\nREMARK 300 THIS ENTRY. THE REMARK MAY ALSO PROVIDE INFORMATION ON               \\nREMARK 300 BURIED SURFACE AREA.                                                 \\nREMARK 350                                                                      \\nREMARK 350 COORDINATES FOR A COMPLETE MULTIMER REPRESENTING THE KNOWN           \\nREMARK 350 BIOLOGICALLY SIGNIFICANT OLIGOMERIZATION STATE OF THE                \\nREMARK 350 MOLECULE CAN BE GENERATED BY APPLYING BIOMT TRANSFORMATIONS          \\nREMARK 350 GIVEN BELOW.  BOTH NON-CRYSTALLOGRAPHIC AND                          \\nREMARK 350 CRYSTALLOGRAPHIC OPERATIONS ARE GIVEN.                               \\nREMARK 350                                                                      \\nREMARK 350 BIOMOLECULE: 1                                                       \\nREMARK 350 AUTHOR DETERMINED BIOLOGICAL UNIT: DIMERIC                           \\nREMARK 350 SOFTWARE DETERMINED QUATERNARY STRUCTURE: DIMERIC                    \\nREMARK 350 SOFTWARE USED: PISA                                                  \\nREMARK 350 TOTAL BURIED SURFACE AREA: 1520 ANGSTROM**2                          \\nREMARK 350 SURFACE AREA OF THE COMPLEX: 3380 ANGSTROM**2                        \\nREMARK 350 CHANGE IN SOLVENT FREE ENERGY: -14.0 KCAL/MOL                        \\nREMARK 350 APPLY THE FOLLOWING TO CHAINS: A, B                                  \\nREMARK 350   BIOMT1   1  1.000000  0.000000  0.000000        0.00000            \\nREMARK 350   BIOMT2   1  0.000000  1.000000  0.000000        0.00000            \\nREMARK 350   BIOMT3   1  0.000000  0.000000  1.000000        0.00000            \\nREMARK 900                                                                      \\nREMARK 900 RELATED ENTRIES                                                      \\nREMARK 900 RELATED ID: 3I3Z   RELATED DB: PDB                                   \\nREMARK 999                                                                      \\nREMARK 999 SEQUENCE                                                             \\nREMARK 999 THE CONFLICT OF THE SEQUENCE MAY DUE TO ARTIFACT.                    \\nDBREF  3I40 A    1    21  UNP    P01308   INS_HUMAN       90    110             \\nDBREF  3I40 B    1    30  UNP    P01308   INS_HUMAN       25     54             \\nSEQADV 3I40 ALA B   30  UNP  P01308    THR    54 SEE REMARK 999                 \\nSEQRES   1 A   21  GLY ILE VAL GLU GLN CYS CYS THR SER ILE CYS SER LEU          \\nSEQRES   2 A   21  TYR GLN LEU GLU ASN TYR CYS ASN                              \\nSEQRES   1 B   30  PHE VAL ASN GLN HIS LEU CYS GLY SER HIS LEU VAL GLU          \\nSEQRES   2 B   30  ALA LEU TYR LEU VAL CYS GLY GLU ARG GLY PHE PHE TYR          \\nSEQRES   3 B   30  THR PRO LYS ALA                                              \\nFORMUL   3  HOH   *35(H2 O)                                                     \\nHELIX    1   1 GLY A    1  CYS A    7  1                                   7    \\nHELIX    2   2 SER A   12  ASN A   18  1                                   7    \\nHELIX    3   3 GLY B    8  GLY B   20  1                                  13    \\nHELIX    4   4 GLU B   21  GLY B   23  5                                   3    \\nSSBOND   1 CYS A    6    CYS A   11                          1555   1555  2.03  \\nSSBOND   2 CYS A    7    CYS B    7                          1555   1555  2.04  \\nSSBOND   3 CYS A   20    CYS B   19                          1555   1555  2.04  \\nCRYST1   77.220   77.220   77.220  90.00  90.00  90.00 I 21 3       24          \\nORIGX1      1.000000  0.000000  0.000000        0.00000                         \\nORIGX2      0.000000  1.000000  0.000000        0.00000                         \\nORIGX3      0.000000  0.000000  1.000000        0.00000                         \\nSCALE1      0.012950  0.000000  0.000000        0.00000                         \\nSCALE2      0.000000  0.012950  0.000000        0.00000                         \\nSCALE3      0.000000  0.000000  0.012950        0.00000                         \\nATOM      1  N   GLY A   1     -27.279   6.238 -12.314  1.00 45.01           N  \\nATOM      2  CA  GLY A   1     -26.249   6.028 -11.313  1.00 43.47           C  \\nATOM      3  C   GLY A   1     -25.582   4.677 -11.471  1.00 34.37           C  \\nATOM      4  O   GLY A   1     -25.731   4.023 -12.501  1.00 30.09           O  \\nATOM      5  N   ILE A   2     -24.853   4.248 -10.446  1.00 32.71           N  \\nATOM      6  CA  ILE A   2     -24.070   3.023 -10.550  1.00 22.60           C  \\nATOM      7  C   ILE A   2     -24.915   1.786 -10.840  1.00 23.32           C  \\nATOM      8  O   ILE A   2     -24.469   0.865 -11.529  1.00 26.36           O  \\nATOM      9  CB  ILE A   2     -23.208   2.791  -9.302  1.00 28.24           C  \\nATOM     10  CG1 ILE A   2     -22.249   1.620  -9.538  1.00 25.03           C  \\nATOM     11  CG2 ILE A   2     -24.090   2.579  -8.068  1.00 32.70           C  \\nATOM     12  CD1 ILE A   2     -21.209   1.479  -8.457  1.00 30.60           C  \\nATOM     13  N   VAL A   3     -26.137   1.755 -10.324  1.00 27.13           N  \\nATOM     14  CA  VAL A   3     -26.993   0.599 -10.563  1.00 30.10           C  \\nATOM     15  C   VAL A   3     -27.324   0.471 -12.049  1.00 32.71           C  \\nATOM     16  O   VAL A   3     -27.258  -0.617 -12.621  1.00 28.83           O  \\nATOM     17  CB  VAL A   3     -28.284   0.657  -9.740  1.00 30.51           C  \\nATOM     18  CG1 VAL A   3     -29.194  -0.497 -10.127  1.00 35.07           C  \\nATOM     19  CG2 VAL A   3     -27.956   0.613  -8.242  1.00 27.53           C  \\nATOM     20  N   GLU A   4     -27.669   1.596 -12.667  1.00 34.97           N  \\nATOM     21  CA  GLU A   4     -28.001   1.627 -14.086  1.00 31.24           C  \\nATOM     22  C   GLU A   4     -26.797   1.224 -14.927  1.00 32.52           C  \\nATOM     23  O   GLU A   4     -26.933   0.517 -15.924  1.00 31.47           O  \\nATOM     24  CB  GLU A   4     -28.474   3.027 -14.485  1.00 38.19           C  \\nATOM     25  CG  GLU A   4     -29.829   3.420 -13.908  1.00 61.51           C  \\nATOM     26  CD  GLU A   4     -29.832   3.535 -12.387  1.00 66.16           C  \\nATOM     27  OE1 GLU A   4     -28.868   4.094 -11.814  1.00 42.60           O  \\nATOM     28  OE2 GLU A   4     -30.812   3.071 -11.762  1.00 67.86           O  \\nATOM     29  N   GLN A   5     -25.615   1.664 -14.508  1.00 28.29           N  \\nATOM     30  CA  GLN A   5     -24.393   1.410 -15.266  1.00 31.01           C  \\nATOM     31  C   GLN A   5     -23.776   0.028 -15.056  1.00 39.69           C  \\nATOM     32  O   GLN A   5     -23.149  -0.511 -15.967  1.00 26.39           O  \\nATOM     33  CB  GLN A   5     -23.349   2.492 -14.974  1.00 25.23           C  \\nATOM     34  CG  GLN A   5     -23.818   3.887 -15.346  1.00 38.13           C  \\nATOM     35  CD  GLN A   5     -24.535   3.921 -16.693  1.00 53.62           C  \\nATOM     36  OE1 GLN A   5     -24.074   3.334 -17.674  1.00 38.85           O  \\nATOM     37  NE2 GLN A   5     -25.671   4.609 -16.741  1.00 42.57           N  \\nATOM     38  N   CYS A   6     -23.940  -0.551 -13.868  1.00 22.46           N  \\nATOM     39  CA  CYS A   6     -23.214  -1.776 -13.549  1.00 20.37           C  \\nATOM     40  C   CYS A   6     -24.114  -2.963 -13.225  1.00 18.21           C  \\nATOM     41  O   CYS A   6     -23.677  -4.107 -13.293  1.00 21.83           O  \\nATOM     42  CB  CYS A   6     -22.235  -1.524 -12.396  1.00 22.32           C  \\nATOM     43  SG  CYS A   6     -20.756  -0.602 -12.893  1.00 27.82           S  \\nATOM     44  N   CYS A   7     -25.359  -2.685 -12.860  1.00 22.16           N  \\nATOM     45  CA  CYS A   7     -26.307  -3.744 -12.520  1.00 21.25           C  \\nATOM     46  C   CYS A   7     -27.245  -4.032 -13.690  1.00 31.44           C  \\nATOM     47  O   CYS A   7     -27.307  -5.155 -14.190  1.00 24.09           O  \\nATOM     48  CB  CYS A   7     -27.119  -3.351 -11.286  1.00 22.97           C  \\nATOM     49  SG  CYS A   7     -28.355  -4.584 -10.791  1.00 28.27           S  \\nATOM     50  N   THR A   8     -27.967  -3.001 -14.122  1.00 29.15           N  \\nATOM     51  CA  THR A   8     -28.901  -3.121 -15.236  1.00 29.59           C  \\nATOM     52  C   THR A   8     -28.147  -3.334 -16.542  1.00 34.52           C  \\nATOM     53  O   THR A   8     -28.647  -3.986 -17.454  1.00 38.61           O  \\nATOM     54  CB  THR A   8     -29.780  -1.868 -15.371  1.00 31.24           C  \\nATOM     55  OG1 THR A   8     -30.023  -1.303 -14.080  1.00 41.12           O  \\nATOM     56  CG2 THR A   8     -31.100  -2.218 -16.029  1.00 51.07           C  \\nATOM     57  N   SER A   9     -26.948  -2.769 -16.630  1.00 26.15           N  \\nATOM     58  CA  SER A   9     -26.064  -3.019 -17.765  1.00 21.41           C  \\nATOM     59  C   SER A   9     -24.699  -3.529 -17.309  1.00 32.36           C  \\nATOM     60  O   SER A   9     -24.419  -3.594 -16.111  1.00 29.40           O  \\nATOM     61  CB  SER A   9     -25.910  -1.765 -18.626  1.00 32.53           C  \\nATOM     62  OG  SER A   9     -25.465  -0.670 -17.851  1.00 47.07           O  \\nATOM     63  N   ILE A  10     -23.849  -3.891 -18.261  1.00 24.43           N  \\nATOM     64  CA  ILE A  10     -22.562  -4.492 -17.924  1.00 24.22           C  \\nATOM     65  C   ILE A  10     -21.591  -3.454 -17.367  1.00 30.49           C  \\nATOM     66  O   ILE A  10     -21.420  -2.380 -17.934  1.00 26.28           O  \\nATOM     67  CB  ILE A  10     -21.942  -5.216 -19.128  1.00 26.99           C  \\nATOM     68  CG1 ILE A  10     -22.880  -6.328 -19.595  1.00 26.49           C  \\nATOM     69  CG2 ILE A  10     -20.577  -5.790 -18.770  1.00 25.10           C  \\nATOM     70  CD1 ILE A  10     -22.302  -7.179 -20.689  1.00 44.31           C  \\nATOM     71  N   CYS A  11     -20.972  -3.790 -16.240  1.00 28.14           N  \\nATOM     72  CA  CYS A  11     -20.088  -2.876 -15.534  1.00 25.92           C  \\nATOM     73  C   CYS A  11     -18.752  -2.779 -16.258  1.00 36.06           C  \\nATOM     74  O   CYS A  11     -18.491  -3.524 -17.204  1.00 27.25           O  \\nATOM     75  CB  CYS A  11     -19.867  -3.387 -14.106  1.00 23.76           C  \\nATOM     76  SG  CYS A  11     -19.406  -2.114 -12.908  1.00 28.09           S  \\nATOM     77  N   SER A  12     -17.902  -1.865 -15.807  1.00 25.78           N  \\nATOM     78  CA  SER A  12     -16.554  -1.767 -16.349  1.00 22.91           C  \\nATOM     79  C   SER A  12     -15.634  -1.220 -15.281  1.00 19.20           C  \\nATOM     80  O   SER A  12     -16.076  -0.508 -14.375  1.00 18.62           O  \\nATOM     81  CB  SER A  12     -16.530  -0.845 -17.559  1.00 24.50           C  \\nATOM     82  OG  SER A  12     -16.681   0.502 -17.157  1.00 24.75           O  \\nATOM     83  N   LEU A  13     -14.346  -1.528 -15.392  1.00 22.17           N  \\nATOM     84  CA  LEU A  13     -13.378  -1.013 -14.426  1.00 19.72           C  \\nATOM     85  C   LEU A  13     -13.412   0.508 -14.438  1.00 22.22           C  \\nATOM     86  O   LEU A  13     -13.329   1.158 -13.393  1.00 17.29           O  \\nATOM     87  CB  LEU A  13     -11.971  -1.517 -14.751  1.00 19.22           C  \\nATOM     88  CG  LEU A  13     -10.860  -0.998 -13.840  1.00 17.99           C  \\nATOM     89  CD1 LEU A  13     -11.104  -1.386 -12.388  1.00 18.06           C  \\nATOM     90  CD2 LEU A  13      -9.522  -1.530 -14.308  1.00 15.25           C  \\nATOM     91  N   TYR A  14     -13.550   1.075 -15.632  1.00 19.94           N  \\nATOM     92  CA  TYR A  14     -13.559   2.521 -15.774  1.00 22.72           C  \\nATOM     93  C   TYR A  14     -14.638   3.140 -14.893  1.00 22.64           C  \\nATOM     94  O   TYR A  14     -14.391   4.094 -14.152  1.00 25.33           O  \\nATOM     95  CB ATYR A  14     -13.771   2.911 -17.239  0.50 27.81           C  \\nATOM     96  CB BTYR A  14     -13.786   2.928 -17.233  0.50 27.85           C  \\nATOM     97  CG ATYR A  14     -13.608   4.388 -17.494  0.50 28.31           C  \\nATOM     98  CG BTYR A  14     -13.829   4.427 -17.427  0.50 28.20           C  \\nATOM     99  CD1ATYR A  14     -12.442   4.893 -18.059  0.50 23.25           C  \\nATOM    100  CD1BTYR A  14     -12.714   5.121 -17.879  0.50 25.75           C  \\nATOM    101  CD2ATYR A  14     -14.614   5.282 -17.153  0.50 28.36           C  \\nATOM    102  CD2BTYR A  14     -14.980   5.152 -17.138  0.50 27.68           C  \\nATOM    103  CE1ATYR A  14     -12.289   6.252 -18.283  0.50 27.32           C  \\nATOM    104  CE1BTYR A  14     -12.746   6.496 -18.047  0.50 27.49           C  \\nATOM    105  CE2ATYR A  14     -14.472   6.636 -17.372  0.50 29.32           C  \\nATOM    106  CE2BTYR A  14     -15.021   6.527 -17.300  0.50 28.26           C  \\nATOM    107  CZ ATYR A  14     -13.311   7.117 -17.938  0.50 29.06           C  \\nATOM    108  CZ BTYR A  14     -13.902   7.193 -17.757  0.50 29.57           C  \\nATOM    109  OH ATYR A  14     -13.179   8.469 -18.153  0.50 33.01           O  \\nATOM    110  OH BTYR A  14     -13.938   8.561 -17.922  0.50 32.79           O  \\nATOM    111  N   GLN A  15     -15.837   2.584 -14.969  1.00 21.27           N  \\nATOM    112  CA  GLN A  15     -16.962   3.129 -14.222  1.00 21.51           C  \\nATOM    113  C   GLN A  15     -16.837   2.882 -12.722  1.00 17.30           C  \\nATOM    114  O   GLN A  15     -17.121   3.764 -11.917  1.00 20.82           O  \\nATOM    115  CB  GLN A  15     -18.275   2.561 -14.758  1.00 25.25           C  \\nATOM    116  CG  GLN A  15     -18.527   2.905 -16.214  1.00 32.75           C  \\nATOM    117  CD  GLN A  15     -19.997   3.039 -16.527  1.00 55.05           C  \\nATOM    118  OE1 GLN A  15     -20.680   3.914 -15.987  1.00 53.01           O  \\nATOM    119  NE2 GLN A  15     -20.497   2.177 -17.410  1.00 50.66           N  \\nATOM    120  N   LEU A  16     -16.399   1.687 -12.346  1.00 15.37           N  \\nATOM    121  CA  LEU A  16     -16.236   1.380 -10.930  1.00 17.02           C  \\nATOM    122  C   LEU A  16     -15.301   2.382 -10.273  1.00 16.55           C  \\nATOM    123  O   LEU A  16     -15.565   2.868  -9.172  1.00 19.70           O  \\nATOM    124  CB  LEU A  16     -15.703  -0.037 -10.742  1.00 24.64           C  \\nATOM    125  CG  LEU A  16     -16.709  -1.151 -11.013  1.00 24.23           C  \\nATOM    126  CD1 LEU A  16     -16.007  -2.496 -11.058  1.00 21.90           C  \\nATOM    127  CD2 LEU A  16     -17.786  -1.124  -9.936  1.00 18.48           C  \\nATOM    128  N   GLU A  17     -14.199   2.703 -10.950  1.00 17.86           N  \\nATOM    129  CA  GLU A  17     -13.219   3.608 -10.365  1.00 19.38           C  \\nATOM    130  C   GLU A  17     -13.763   5.026 -10.180  1.00 18.73           C  \\nATOM    131  O   GLU A  17     -13.259   5.782  -9.351  1.00 22.43           O  \\nATOM    132  CB  GLU A  17     -11.910   3.598 -11.155  1.00 20.40           C  \\nATOM    133  CG  GLU A  17     -11.090   2.343 -10.898  1.00 20.17           C  \\nATOM    134  CD  GLU A  17      -9.623   2.514 -11.240  1.00 22.14           C  \\nATOM    135  OE1 GLU A  17      -9.301   3.347 -12.110  1.00 22.42           O  \\nATOM    136  OE2 GLU A  17      -8.792   1.805 -10.640  1.00 27.73           O  \\nATOM    137  N   ASN A  18     -14.799   5.374 -10.932  1.00 20.29           N  \\nATOM    138  CA  ASN A  18     -15.480   6.657 -10.735  1.00 20.00           C  \\nATOM    139  C   ASN A  18     -16.080   6.766  -9.334  1.00 26.36           C  \\nATOM    140  O   ASN A  18     -16.469   7.849  -8.890  1.00 28.46           O  \\nATOM    141  CB  ASN A  18     -16.587   6.839 -11.774  1.00 21.66           C  \\nATOM    142  CG  ASN A  18     -16.061   7.344 -13.113  1.00 25.89           C  \\nATOM    143  OD1 ASN A  18     -15.007   7.974 -13.180  1.00 32.32           O  \\nATOM    144  ND2 ASN A  18     -16.802   7.070 -14.180  1.00 38.57           N  \\nATOM    145  N   TYR A  19     -16.163   5.640  -8.638  1.00 20.84           N  \\nATOM    146  CA  TYR A  19     -16.803   5.618  -7.327  1.00 18.56           C  \\nATOM    147  C   TYR A  19     -15.822   5.394  -6.180  1.00 23.20           C  \\nATOM    148  O   TYR A  19     -16.223   5.337  -5.018  1.00 27.54           O  \\nATOM    149  CB  TYR A  19     -17.945   4.599  -7.298  1.00 20.89           C  \\nATOM    150  CG  TYR A  19     -19.068   4.966  -8.236  1.00 21.62           C  \\nATOM    151  CD1 TYR A  19     -19.115   4.453  -9.521  1.00 23.43           C  \\nATOM    152  CD2 TYR A  19     -20.066   5.848  -7.844  1.00 26.68           C  \\nATOM    153  CE1 TYR A  19     -20.126   4.796 -10.385  1.00 24.39           C  \\nATOM    154  CE2 TYR A  19     -21.082   6.200  -8.708  1.00 31.02           C  \\nATOM    155  CZ  TYR A  19     -21.104   5.672  -9.979  1.00 28.36           C  \\nATOM    156  OH  TYR A  19     -22.114   6.009 -10.853  1.00 42.08           O  \\nATOM    157  N   CYS A  20     -14.534   5.281  -6.499  1.00 21.90           N  \\nATOM    158  CA  CYS A  20     -13.510   5.251  -5.459  1.00 19.66           C  \\nATOM    159  C   CYS A  20     -13.334   6.645  -4.882  1.00 28.69           C  \\nATOM    160  O   CYS A  20     -13.526   7.639  -5.585  1.00 30.53           O  \\nATOM    161  CB  CYS A  20     -12.169   4.783  -6.021  1.00 22.84           C  \\nATOM    162  SG  CYS A  20     -12.209   3.187  -6.829  1.00 22.45           S  \\nATOM    163  N   ASN A  21     -12.955   6.716  -3.609  1.00 26.51           N  \\nATOM    164  CA  ASN A  21     -12.630   7.993  -2.976  1.00 36.60           C  \\nATOM    165  C   ASN A  21     -11.279   8.511  -3.448  1.00 35.58           C  \\nATOM    166  O   ASN A  21     -10.515   7.790  -4.091  1.00 36.84           O  \\nATOM    167  CB  ASN A  21     -12.615   7.863  -1.450  1.00 34.89           C  \\nATOM    168  CG  ASN A  21     -13.978   7.548  -0.878  1.00 33.46           C  \\nATOM    169  OD1 ASN A  21     -14.107   6.726   0.029  1.00 48.60           O  \\nATOM    170  ND2 ASN A  21     -15.008   8.198  -1.408  1.00 39.53           N  \\nATOM    171  OXT ASN A  21     -10.922   9.659  -3.189  1.00 58.00           O  \\nTER     172      ASN A  21                                                      \\nATOM    173  N   PHE B   1     -13.174  -9.740 -13.251  1.00 44.56           N  \\nATOM    174  CA  PHE B   1     -14.387  -9.892 -12.452  1.00 53.84           C  \\nATOM    175  C   PHE B   1     -15.310  -8.684 -12.590  1.00 44.51           C  \\nATOM    176  O   PHE B   1     -16.451  -8.715 -12.133  1.00 40.17           O  \\nATOM    177  CB  PHE B   1     -14.042 -10.126 -10.973  1.00 47.36           C  \\nATOM    178  CG  PHE B   1     -13.222  -9.024 -10.356  1.00 43.05           C  \\nATOM    179  CD1 PHE B   1     -13.816  -8.050  -9.571  1.00 39.13           C  \\nATOM    180  CD2 PHE B   1     -11.854  -8.964 -10.565  1.00 48.11           C  \\nATOM    181  CE1 PHE B   1     -13.059  -7.037  -9.008  1.00 29.34           C  \\nATOM    182  CE2 PHE B   1     -11.093  -7.959 -10.002  1.00 34.97           C  \\nATOM    183  CZ  PHE B   1     -11.696  -6.993  -9.224  1.00 36.24           C  \\nATOM    184  N   VAL B   2     -14.819  -7.623 -13.228  1.00 27.44           N  \\nATOM    185  CA  VAL B   2     -15.568  -6.367 -13.273  1.00 25.65           C  \\nATOM    186  C   VAL B   2     -16.402  -6.197 -14.541  1.00 30.55           C  \\nATOM    187  O   VAL B   2     -17.249  -5.306 -14.628  1.00 30.98           O  \\nATOM    188  CB  VAL B   2     -14.633  -5.163 -13.114  1.00 32.50           C  \\nATOM    189  CG1 VAL B   2     -14.056  -5.139 -11.705  1.00 29.74           C  \\nATOM    190  CG2 VAL B   2     -13.519  -5.227 -14.141  1.00 45.24           C  \\nATOM    191  N   ASN B   3     -16.158  -7.045 -15.528  1.00 28.57           N  \\nATOM    192  CA  ASN B   3     -16.844  -6.904 -16.806  1.00 31.00           C  \\nATOM    193  C   ASN B   3     -18.072  -7.800 -16.928  1.00 29.49           C  \\nATOM    194  O   ASN B   3     -18.115  -8.720 -17.743  1.00 28.57           O  \\nATOM    195  CB  ASN B   3     -15.854  -7.122 -17.946  1.00 31.67           C  \\nATOM    196  CG  ASN B   3     -14.703  -6.139 -17.888  1.00 35.45           C  \\nATOM    197  OD1 ASN B   3     -13.561  -6.507 -17.600  1.00 38.37           O  \\nATOM    198  ND2 ASN B   3     -15.009  -4.871 -18.113  1.00 23.34           N  \\nATOM    199  N   GLN B   4     -19.073  -7.514 -16.099  1.00 31.90           N  \\nATOM    200  CA  GLN B   4     -20.313  -8.287 -16.082  1.00 28.96           C  \\nATOM    201  C   GLN B   4     -21.397  -7.521 -15.328  1.00 23.12           C  \\nATOM    202  O   GLN B   4     -21.154  -6.432 -14.812  1.00 26.67           O  \\nATOM    203  CB  GLN B   4     -20.079  -9.648 -15.425  1.00 33.50           C  \\nATOM    204  CG  GLN B   4     -19.608  -9.556 -13.987  1.00 31.03           C  \\nATOM    205  CD  GLN B   4     -19.344 -10.918 -13.379  1.00 54.72           C  \\nATOM    206  OE1 GLN B   4     -20.210 -11.794 -13.390  1.00 51.79           O  \\nATOM    207  NE2 GLN B   4     -18.144 -11.105 -12.840  1.00 41.70           N  \\nATOM    208  N   HIS B   5     -22.599  -8.080 -15.281  1.00 25.17           N  \\nATOM    209  CA  HIS B   5     -23.666  -7.471 -14.503  1.00 26.87           C  \\nATOM    210  C   HIS B   5     -23.358  -7.685 -13.035  1.00 26.33           C  \\nATOM    211  O   HIS B   5     -23.193  -8.822 -12.595  1.00 25.34           O  \\nATOM    212  CB  HIS B   5     -25.013  -8.109 -14.834  1.00 24.65           C  \\nATOM    213  CG  HIS B   5     -25.462  -7.871 -16.239  1.00 27.43           C  \\nATOM    214  ND1 HIS B   5     -26.235  -6.787 -16.598  1.00 29.87           N  \\nATOM    215  CD2 HIS B   5     -25.241  -8.570 -17.377  1.00 27.84           C  \\nATOM    216  CE1 HIS B   5     -26.478  -6.833 -17.896  1.00 24.52           C  \\nATOM    217  NE2 HIS B   5     -25.885  -7.905 -18.393  1.00 35.03           N  \\nATOM    218  N   LEU B   6     -23.267  -6.592 -12.287  1.00 22.69           N  \\nATOM    219  CA  LEU B   6     -22.974  -6.660 -10.862  1.00 21.06           C  \\nATOM    220  C   LEU B   6     -24.052  -5.932 -10.079  1.00 21.50           C  \\nATOM    221  O   LEU B   6     -24.197  -4.715 -10.194  1.00 22.66           O  \\nATOM    222  CB  LEU B   6     -21.612  -6.034 -10.568  1.00 20.56           C  \\nATOM    223  CG  LEU B   6     -20.418  -6.665 -11.281  1.00 20.16           C  \\nATOM    224  CD1 LEU B   6     -19.190  -5.786 -11.103  1.00 20.54           C  \\nATOM    225  CD2 LEU B   6     -20.155  -8.064 -10.763  1.00 25.22           C  \\nATOM    226  N   CYS B   7     -24.800  -6.679  -9.273  1.00 20.58           N  \\nATOM    227  CA  CYS B   7     -25.899  -6.104  -8.513  1.00 22.46           C  \\nATOM    228  C   CYS B   7     -25.754  -6.421  -7.034  1.00 22.72           C  \\nATOM    229  O   CYS B   7     -25.231  -7.471  -6.665  1.00 21.90           O  \\nATOM    230  CB  CYS B   7     -27.236  -6.664  -9.009  1.00 28.16           C  \\nATOM    231  SG  CYS B   7     -27.554  -6.459 -10.788  1.00 29.45           S  \\nATOM    232  N   GLY B   8     -26.229  -5.514  -6.191  1.00 21.36           N  \\nATOM    233  CA  GLY B   8     -26.233  -5.745  -4.759  1.00 22.98           C  \\nATOM    234  C   GLY B   8     -24.859  -6.051  -4.209  1.00 20.91           C  \\nATOM    235  O   GLY B   8     -23.911  -5.316  -4.465  1.00 23.25           O  \\nATOM    236  N   SER B   9     -24.741  -7.136  -3.447  1.00 18.12           N  \\nATOM    237  CA  SER B   9     -23.484  -7.444  -2.778  1.00 15.90           C  \\nATOM    238  C   SER B   9     -22.360  -7.702  -3.780  1.00 18.45           C  \\nATOM    239  O   SER B   9     -21.183  -7.509  -3.473  1.00 17.21           O  \\nATOM    240  CB  SER B   9     -23.648  -8.663  -1.863  1.00 19.34           C  \\nATOM    241  OG  SER B   9     -23.919  -9.813  -2.638  1.00 20.35           O  \\nATOM    242  N   HIS B  10     -22.730  -8.151  -4.972  1.00 14.91           N  \\nATOM    243  CA  HIS B  10     -21.764  -8.403  -6.039  1.00 17.86           C  \\nATOM    244  C   HIS B  10     -21.093  -7.097  -6.470  1.00 18.59           C  \\nATOM    245  O   HIS B  10     -19.891  -7.055  -6.725  1.00 17.96           O  \\nATOM    246  CB  HIS B  10     -22.471  -9.047  -7.236  1.00 18.56           C  \\nATOM    247  CG  HIS B  10     -23.081 -10.384  -6.933  1.00 23.08           C  \\nATOM    248  ND1 HIS B  10     -23.461 -11.269  -7.919  1.00 27.72           N  \\nATOM    249  CD2 HIS B  10     -23.366 -10.990  -5.755  1.00 23.69           C  \\nATOM    250  CE1 HIS B  10     -23.951 -12.364  -7.363  1.00 29.56           C  \\nATOM    251  NE2 HIS B  10     -23.906 -12.220  -6.050  1.00 22.03           N  \\nATOM    252  N   LEU B  11     -21.886  -6.037  -6.550  1.00 16.34           N  \\nATOM    253  CA  LEU B  11     -21.398  -4.713  -6.938  1.00 16.50           C  \\nATOM    254  C   LEU B  11     -20.523  -4.120  -5.847  1.00 19.44           C  \\nATOM    255  O   LEU B  11     -19.446  -3.585  -6.105  1.00 17.25           O  \\nATOM    256  CB  LEU B  11     -22.588  -3.788  -7.211  1.00 16.97           C  \\nATOM    257  CG  LEU B  11     -22.268  -2.390  -7.735  1.00 22.79           C  \\nATOM    258  CD1 LEU B  11     -21.211  -2.486  -8.812  1.00 17.51           C  \\nATOM    259  CD2 LEU B  11     -23.529  -1.754  -8.277  1.00 22.41           C  \\nATOM    260  N   VAL B  12     -20.990  -4.218  -4.610  1.00 15.40           N  \\nATOM    261  CA  VAL B  12     -20.242  -3.690  -3.490  1.00 13.81           C  \\nATOM    262  C   VAL B  12     -18.902  -4.422  -3.332  1.00 15.23           C  \\nATOM    263  O   VAL B  12     -17.879  -3.825  -2.988  1.00 14.98           O  \\nATOM    264  CB  VAL B  12     -21.096  -3.776  -2.212  1.00 24.43           C  \\nATOM    265  CG1 VAL B  12     -20.252  -3.609  -1.029  1.00 30.29           C  \\nATOM    266  CG2 VAL B  12     -22.169  -2.694  -2.241  1.00 21.29           C  \\nATOM    267  N   GLU B  13     -18.912  -5.721  -3.589  1.00 14.50           N  \\nATOM    268  CA  GLU B  13     -17.695  -6.515  -3.515  1.00 14.19           C  \\nATOM    269  C   GLU B  13     -16.682  -6.056  -4.574  1.00 15.30           C  \\nATOM    270  O   GLU B  13     -15.481  -5.936  -4.304  1.00 16.00           O  \\nATOM    271  CB  GLU B  13     -18.046  -7.986  -3.712  1.00 22.91           C  \\nATOM    272  CG  GLU B  13     -16.884  -8.875  -4.073  1.00 31.68           C  \\nATOM    273  CD  GLU B  13     -17.296 -10.336  -4.139  1.00 35.29           C  \\nATOM    274  OE1 GLU B  13     -17.726 -10.873  -3.092  1.00 24.65           O  \\nATOM    275  OE2 GLU B  13     -17.204 -10.932  -5.236  1.00 35.79           O  \\nATOM    276  N   ALA B  14     -17.166  -5.811  -5.782  1.00 16.94           N  \\nATOM    277  CA  ALA B  14     -16.298  -5.308  -6.856  1.00 19.02           C  \\nATOM    278  C   ALA B  14     -15.701  -3.941  -6.523  1.00 17.95           C  \\nATOM    279  O   ALA B  14     -14.507  -3.704  -6.731  1.00 16.40           O  \\nATOM    280  CB  ALA B  14     -17.065  -5.240  -8.157  1.00 19.13           C  \\nATOM    281  N   LEU B  15     -16.536  -3.036  -6.021  1.00 15.53           N  \\nATOM    282  CA  LEU B  15     -16.066  -1.724  -5.592  1.00 13.58           C  \\nATOM    283  C   LEU B  15     -14.977  -1.846  -4.540  1.00 20.33           C  \\nATOM    284  O   LEU B  15     -13.957  -1.159  -4.594  1.00 17.96           O  \\nATOM    285  CB  LEU B  15     -17.228  -0.890  -5.054  1.00 17.56           C  \\nATOM    286  CG  LEU B  15     -18.132  -0.253  -6.108  1.00 19.95           C  \\nATOM    287  CD1 LEU B  15     -19.434   0.217  -5.476  1.00 19.70           C  \\nATOM    288  CD2 LEU B  15     -17.420   0.908  -6.806  1.00 19.43           C  \\nATOM    289  N   TYR B  16     -15.196  -2.733  -3.580  1.00 16.41           N  \\nATOM    290  CA  TYR B  16     -14.214  -2.982  -2.528  1.00 14.22           C  \\nATOM    291  C   TYR B  16     -12.884  -3.467  -3.093  1.00 18.76           C  \\nATOM    292  O   TYR B  16     -11.823  -2.978  -2.708  1.00 14.92           O  \\nATOM    293  CB  TYR B  16     -14.766  -4.015  -1.551  1.00 13.58           C  \\nATOM    294  CG  TYR B  16     -13.748  -4.582  -0.595  1.00 15.85           C  \\nATOM    295  CD1 TYR B  16     -13.213  -3.811   0.431  1.00 19.91           C  \\nATOM    296  CD2 TYR B  16     -13.338  -5.909  -0.707  1.00 14.31           C  \\nATOM    297  CE1 TYR B  16     -12.290  -4.347   1.318  1.00 18.93           C  \\nATOM    298  CE2 TYR B  16     -12.419  -6.445   0.163  1.00 16.89           C  \\nATOM    299  CZ  TYR B  16     -11.899  -5.665   1.173  1.00 19.03           C  \\nATOM    300  OH  TYR B  16     -10.991  -6.225   2.037  1.00 19.26           O  \\nATOM    301  N   LEU B  17     -12.941  -4.437  -4.002  1.00 17.26           N  \\nATOM    302  CA  LEU B  17     -11.725  -4.998  -4.583  1.00 17.15           C  \\nATOM    303  C   LEU B  17     -10.983  -3.979  -5.439  1.00 20.48           C  \\nATOM    304  O   LEU B  17      -9.751  -3.889  -5.407  1.00 20.37           O  \\nATOM    305  CB  LEU B  17     -12.060  -6.221  -5.428  1.00 16.44           C  \\nATOM    306  CG  LEU B  17     -12.491  -7.468  -4.651  1.00 17.44           C  \\nATOM    307  CD1 LEU B  17     -12.867  -8.590  -5.593  1.00 22.58           C  \\nATOM    308  CD2 LEU B  17     -11.383  -7.898  -3.717  1.00 22.13           C  \\nATOM    309  N   VAL B  18     -11.738  -3.226  -6.224  1.00 18.15           N  \\nATOM    310  CA  VAL B  18     -11.150  -2.270  -7.151  1.00 18.50           C  \\nATOM    311  C   VAL B  18     -10.557  -1.063  -6.431  1.00 22.53           C  \\nATOM    312  O   VAL B  18      -9.454  -0.628  -6.747  1.00 21.63           O  \\nATOM    313  CB  VAL B  18     -12.188  -1.824  -8.207  1.00 19.51           C  \\nATOM    314  CG1 VAL B  18     -11.714  -0.594  -8.955  1.00 28.07           C  \\nATOM    315  CG2 VAL B  18     -12.468  -2.973  -9.165  1.00 23.98           C  \\nATOM    316  N   CYS B  19     -11.268  -0.548  -5.433  1.00 19.45           N  \\nATOM    317  CA  CYS B  19     -10.874   0.709  -4.803  1.00 21.28           C  \\nATOM    318  C   CYS B  19      -9.819   0.588  -3.702  1.00 26.60           C  \\nATOM    319  O   CYS B  19      -9.167   1.576  -3.355  1.00 25.82           O  \\nATOM    320  CB  CYS B  19     -12.102   1.455  -4.285  1.00 20.90           C  \\nATOM    321  SG  CYS B  19     -13.231   1.932  -5.593  1.00 21.21           S  \\nATOM    322  N   GLY B  20      -9.653  -0.608  -3.150  1.00 25.20           N  \\nATOM    323  CA  GLY B  20      -8.606  -0.825  -2.167  1.00 33.63           C  \\nATOM    324  C   GLY B  20      -8.661   0.162  -1.014  1.00 39.29           C  \\nATOM    325  O   GLY B  20      -9.737   0.464  -0.501  1.00 27.87           O  \\nATOM    326  N   GLU B  21      -7.507   0.678  -0.599  1.00 30.38           N  \\nATOM    327  CA  GLU B  21      -7.474   1.534   0.591  1.00 34.13           C  \\nATOM    328  C   GLU B  21      -8.014   2.944   0.351  1.00 23.63           C  \\nATOM    329  O   GLU B  21      -8.123   3.737   1.283  1.00 35.45           O  \\nATOM    330  CB  GLU B  21      -6.075   1.569   1.220  1.00 45.91           C  \\nATOM    331  CG  GLU B  21      -5.015   2.280   0.401  1.00 57.50           C  \\nATOM    332  CD  GLU B  21      -3.631   2.179   1.034  1.00 75.22           C  \\nATOM    333  OE1 GLU B  21      -2.707   2.876   0.563  1.00 79.46           O  \\nATOM    334  OE2 GLU B  21      -3.470   1.401   2.002  1.00 57.31           O  \\nATOM    335  N   ARG B  22      -8.356   3.251  -0.897  1.00 27.41           N  \\nATOM    336  CA  ARG B  22      -9.040   4.498  -1.213  1.00 28.81           C  \\nATOM    337  C   ARG B  22     -10.456   4.461  -0.645  1.00 33.76           C  \\nATOM    338  O   ARG B  22     -11.008   5.480  -0.235  1.00 31.35           O  \\nATOM    339  CB  ARG B  22      -9.130   4.700  -2.726  1.00 30.48           C  \\nATOM    340  CG  ARG B  22      -7.876   5.228  -3.400  1.00 38.41           C  \\nATOM    341  CD  ARG B  22      -8.072   5.288  -4.922  1.00 44.34           C  \\nATOM    342  NE  ARG B  22      -8.003   3.963  -5.546  1.00 61.53           N  \\nATOM    343  CZ  ARG B  22      -8.246   3.711  -6.833  1.00 56.00           C  \\nATOM    344  NH1 ARG B  22      -8.151   2.467  -7.288  1.00 37.21           N  \\nATOM    345  NH2 ARG B  22      -8.588   4.690  -7.664  1.00 33.73           N  \\nATOM    346  N   GLY B  23     -11.048   3.276  -0.627  1.00 23.72           N  \\nATOM    347  CA  GLY B  23     -12.442   3.151  -0.243  1.00 25.22           C  \\nATOM    348  C   GLY B  23     -13.323   3.633  -1.376  1.00 26.84           C  \\nATOM    349  O   GLY B  23     -12.832   3.954  -2.460  1.00 20.71           O  \\nATOM    350  N   PHE B  24     -14.625   3.700  -1.132  1.00 18.98           N  \\nATOM    351  CA  PHE B  24     -15.558   4.055  -2.188  1.00 17.55           C  \\nATOM    352  C   PHE B  24     -16.875   4.561  -1.614  1.00 23.50           C  \\nATOM    353  O   PHE B  24     -17.092   4.530  -0.402  1.00 24.02           O  \\nATOM    354  CB  PHE B  24     -15.811   2.837  -3.086  1.00 17.36           C  \\nATOM    355  CG  PHE B  24     -16.428   1.661  -2.361  1.00 19.89           C  \\nATOM    356  CD1 PHE B  24     -15.628   0.691  -1.776  1.00 18.48           C  \\nATOM    357  CD2 PHE B  24     -17.811   1.527  -2.269  1.00 22.89           C  \\nATOM    358  CE1 PHE B  24     -16.189  -0.390  -1.107  1.00 21.90           C  \\nATOM    359  CE2 PHE B  24     -18.378   0.446  -1.597  1.00 19.48           C  \\nATOM    360  CZ  PHE B  24     -17.562  -0.513  -1.015  1.00 19.73           C  \\nATOM    361  N   PHE B  25     -17.742   5.048  -2.487  1.00 23.02           N  \\nATOM    362  CA  PHE B  25     -19.108   5.343  -2.088  1.00 26.05           C  \\nATOM    363  C   PHE B  25     -20.081   4.558  -2.948  1.00 29.87           C  \\nATOM    364  O   PHE B  25     -19.912   4.448  -4.158  1.00 25.71           O  \\nATOM    365  CB  PHE B  25     -19.410   6.848  -2.118  1.00 30.50           C  \\nATOM    366  CG  PHE B  25     -19.035   7.523  -3.399  1.00 36.46           C  \\nATOM    367  CD1 PHE B  25     -17.729   7.929  -3.625  1.00 41.85           C  \\nATOM    368  CD2 PHE B  25     -19.989   7.772  -4.374  1.00 47.50           C  \\nATOM    369  CE1 PHE B  25     -17.376   8.562  -4.808  1.00 51.84           C  \\nATOM    370  CE2 PHE B  25     -19.645   8.407  -5.560  1.00 37.96           C  \\nATOM    371  CZ  PHE B  25     -18.336   8.802  -5.778  1.00 47.77           C  \\nATOM    372  N   TYR B  26     -21.090   3.991  -2.301  1.00 26.11           N  \\nATOM    373  CA  TYR B  26     -22.087   3.184  -2.976  1.00 19.37           C  \\nATOM    374  C   TYR B  26     -23.429   3.866  -2.826  1.00 26.37           C  \\nATOM    375  O   TYR B  26     -23.966   3.954  -1.726  1.00 25.08           O  \\nATOM    376  CB  TYR B  26     -22.136   1.795  -2.350  1.00 18.99           C  \\nATOM    377  CG  TYR B  26     -23.255   0.930  -2.876  1.00 21.56           C  \\nATOM    378  CD1 TYR B  26     -24.280   0.506  -2.042  1.00 24.62           C  \\nATOM    379  CD2 TYR B  26     -23.285   0.533  -4.203  1.00 23.44           C  \\nATOM    380  CE1 TYR B  26     -25.304  -0.295  -2.516  1.00 26.30           C  \\nATOM    381  CE2 TYR B  26     -24.304  -0.265  -4.690  1.00 25.09           C  \\nATOM    382  CZ  TYR B  26     -25.313  -0.675  -3.842  1.00 27.86           C  \\nATOM    383  OH  TYR B  26     -26.328  -1.469  -4.320  1.00 29.25           O  \\nATOM    384  N   THR B  27     -23.960   4.365  -3.936  1.00 28.14           N  \\nATOM    385  CA  THR B  27     -25.185   5.147  -3.909  1.00 37.14           C  \\nATOM    386  C   THR B  27     -26.169   4.594  -4.936  1.00 32.53           C  \\nATOM    387  O   THR B  27     -26.193   5.035  -6.082  1.00 36.20           O  \\nATOM    388  CB  THR B  27     -24.889   6.637  -4.188  1.00 36.89           C  \\nATOM    389  OG1 THR B  27     -24.271   6.772  -5.473  1.00 57.47           O  \\nATOM    390  CG2 THR B  27     -23.936   7.182  -3.151  1.00 33.01           C  \\nATOM    391  N   PRO B  28     -26.989   3.620  -4.517  1.00 29.25           N  \\nATOM    392  CA  PRO B  28     -27.893   2.887  -5.411  1.00 32.94           C  \\nATOM    393  C   PRO B  28     -29.081   3.726  -5.872  1.00 32.76           C  \\nATOM    394  O   PRO B  28     -29.671   3.417  -6.908  1.00 36.05           O  \\nATOM    395  CB  PRO B  28     -28.401   1.730  -4.542  1.00 31.48           C  \\nATOM    396  CG  PRO B  28     -27.658   1.813  -3.247  1.00 28.54           C  \\nATOM    397  CD  PRO B  28     -27.128   3.190  -3.118  1.00 34.39           C  \\nATOM    398  N   LYS B  29     -29.436   4.751  -5.105  1.00 34.79           N  \\nATOM    399  CA  LYS B  29     -30.532   5.642  -5.483  1.00 49.07           C  \\nATOM    400  C   LYS B  29     -30.051   6.834  -6.309  1.00 63.70           C  \\nATOM    401  O   LYS B  29     -30.669   7.191  -7.315  1.00 73.47           O  \\nATOM    402  CB  LYS B  29     -31.305   6.122  -4.251  1.00 62.86           C  \\nATOM    403  CG  LYS B  29     -32.706   5.526  -4.105  1.00 74.15           C  \\nATOM    404  CD  LYS B  29     -32.690   4.118  -3.525  1.00 72.32           C  \\nATOM    405  CE  LYS B  29     -32.356   3.061  -4.572  1.00 68.55           C  \\nATOM    406  NZ  LYS B  29     -33.458   2.854  -5.553  1.00 59.40           N  \\nATOM    407  N   ALA B  30     -28.950   7.446  -5.884  1.00 72.05           N  \\nATOM    408  CA  ALA B  30     -28.366   8.568  -6.616  1.00 74.07           C  \\nATOM    409  C   ALA B  30     -27.782   8.115  -7.955  1.00 73.01           C  \\nATOM    410  O   ALA B  30     -27.485   8.928  -8.831  1.00 64.47           O  \\nATOM    411  CB  ALA B  30     -27.302   9.269  -5.772  1.00 56.14           C  \\nATOM    412  OXT ALA B  30     -27.594   6.921  -8.197  1.00 73.19           O  \\nTER     413      ALA B  30                                                      \\nHETATM  414  O   HOH A  22     -29.500  -7.696 -14.149  1.00 50.68           O  \\nHETATM  415  O   HOH A  23     -11.374  10.214 -16.391  1.00 40.62           O  \\nHETATM  416  O   HOH A  24     -11.187   9.560 -19.007  1.00 44.09           O  \\nHETATM  417  O   HOH A  25     -22.708  -0.422 -18.245  1.00 25.03           O  \\nHETATM  418  O   HOH A  26     -17.282   8.923   0.122  1.00 44.14           O  \\nHETATM  419  O   HOH A  27     -27.802  -5.289 -20.151  1.00 41.02           O  \\nHETATM  420  O   HOH A  28     -13.732   9.674 -11.684  1.00 48.35           O  \\nHETATM  421  O   HOH A  29     -26.166   6.685 -14.912  1.00 50.84           O  \\nHETATM  422  O   HOH A  30     -30.826  -5.812 -17.868  1.00 54.11           O  \\nHETATM  423  O   HOH A  31     -14.803   9.989  -8.715  1.00 62.79           O  \\nHETATM  424  O   HOH A  32     -19.609   9.964  -9.626  1.00 46.30           O  \\nHETATM  425  O   HOH A  33     -13.690  11.749 -14.300  1.00 49.90           O  \\nHETATM  426  O   HOH B  31     -24.729  10.263 -12.014  1.00 61.01           O  \\nHETATM  427  O   HOH B  32     -20.724 -10.273 -19.319  1.00 52.72           O  \\nHETATM  428  O   HOH B  33     -17.700 -13.422  -2.674  1.00 25.54           O  \\nHETATM  429  O   HOH B  34     -28.494  10.301 -14.536  1.00 56.88           O  \\nHETATM  430  O   HOH B  35     -24.545   6.027  -8.162  1.00 32.84           O  \\nHETATM  431  O   HOH B  36     -27.182  -2.924  -7.024  1.00 27.65           O  \\nHETATM  432  O   HOH B  37     -24.782  -9.599  -9.935  1.00 26.60           O  \\nHETATM  433  O   HOH B  38     -14.505  -9.421 -15.869  1.00 44.83           O  \\nHETATM  434  O   HOH B  39     -28.442  -1.829  -2.831  1.00 43.18           O  \\nHETATM  435  O   HOH B  40     -12.046  -0.492  -0.930  1.00 25.29           O  \\nHETATM  436  O   HOH B  41     -18.702  -9.557  -7.601  1.00 29.84           O  \\nHETATM  437  O   HOH B  42      -8.200  -0.632  -9.134  1.00 32.65           O  \\nHETATM  438  O   HOH B  43     -15.277 -10.853  -7.465  1.00 43.14           O  \\nHETATM  439  O   HOH B  44     -22.107   4.402  -6.065  1.00 31.09           O  \\nHETATM  440  O   HOH B  45      -5.206   0.010  -2.235  1.00 43.01           O  \\nHETATM  441  O   HOH B  46     -26.729  -9.715  -6.146  1.00 30.80           O  \\nHETATM  442  O   HOH B  47     -27.875   3.972  -9.042  1.00 40.15           O  \\nHETATM  443  O   HOH B  48     -20.453  -7.642  -0.550  1.00 34.77           O  \\nHETATM  444  O   HOH B  49     -17.760 -10.041  -0.552  1.00 37.12           O  \\nHETATM  445  O   HOH B  50     -22.932 -10.505 -16.556  1.00 47.78           O  \\nHETATM  446  O   HOH B  51     -28.195   5.830  -2.571  1.00 53.39           O  \\nHETATM  447  O   HOH B  52     -17.118 -11.123 -18.586  1.00 52.94           O  \\nHETATM  448  O   HOH B  53     -27.581   8.994 -11.659  1.00 53.89           O  \\nCONECT   43   76                                                                \\nCONECT   49  231                                                                \\nCONECT   76   43                                                                \\nCONECT  162  321                                                                \\nCONECT  231   49                                                                \\nCONECT  321  162                                                                \\nMASTER      278    0    0    4    0    0    0    6  438    2    6    5          \\nEND                                                                             \\n\",\"pdb\");\n\tviewer_17585835590427175.setStyle(\"stick\");\n\tviewer_17585835590427175.zoomTo();\nviewer_17585835590427175.render();\n});\n</script>",
            "text/html": [
              "<div id=\"3dmolviewer_17585835590427175\"  style=\"position: relative; width: 600px; height: 400px;\">\n",
              "        <p id=\"3dmolwarning_17585835590427175\" style=\"background-color:#ffcccc;color:black\">3Dmol.js failed to load for some reason.  Please check your browser console for error messages.<br></p>\n",
              "        </div>\n",
              "<script>\n",
              "\n",
              "var loadScriptAsync = function(uri){\n",
              "  return new Promise((resolve, reject) => {\n",
              "    //this is to ignore the existence of requirejs amd\n",
              "    var savedexports, savedmodule;\n",
              "    if (typeof exports !== 'undefined') savedexports = exports;\n",
              "    else exports = {}\n",
              "    if (typeof module !== 'undefined') savedmodule = module;\n",
              "    else module = {}\n",
              "\n",
              "    var tag = document.createElement('script');\n",
              "    tag.src = uri;\n",
              "    tag.async = true;\n",
              "    tag.onload = () => {\n",
              "        exports = savedexports;\n",
              "        module = savedmodule;\n",
              "        resolve();\n",
              "    };\n",
              "  var firstScriptTag = document.getElementsByTagName('script')[0];\n",
              "  firstScriptTag.parentNode.insertBefore(tag, firstScriptTag);\n",
              "});\n",
              "};\n",
              "\n",
              "if(typeof $3Dmolpromise === 'undefined') {\n",
              "$3Dmolpromise = null;\n",
              "  $3Dmolpromise = loadScriptAsync('https://cdn.jsdelivr.net/npm/3dmol@2.5.2/build/3Dmol-min.js');\n",
              "}\n",
              "\n",
              "var viewer_17585835590427175 = null;\n",
              "var warn = document.getElementById(\"3dmolwarning_17585835590427175\");\n",
              "if(warn) {\n",
              "    warn.parentNode.removeChild(warn);\n",
              "}\n",
              "$3Dmolpromise.then(function() {\n",
              "viewer_17585835590427175 = $3Dmol.createViewer(document.getElementById(\"3dmolviewer_17585835590427175\"),{backgroundColor:\"white\"});\n",
              "viewer_17585835590427175.zoomTo();\n",
              "\tviewer_17585835590427175.addModel(\"HEADER    HORMONE                                 01-JUL-09   3I40              \\nTITLE     HUMAN INSULIN                                                         \\nCOMPND    MOL_ID: 1;                                                            \\nCOMPND   2 MOLECULE: INSULIN A CHAIN;                                           \\nCOMPND   3 CHAIN: A;                                                            \\nCOMPND   4 ENGINEERED: YES;                                                     \\nCOMPND   5 MOL_ID: 2;                                                           \\nCOMPND   6 MOLECULE: INSULIN B CHAIN;                                           \\nCOMPND   7 CHAIN: B;                                                            \\nCOMPND   8 ENGINEERED: YES                                                      \\nSOURCE    MOL_ID: 1;                                                            \\nSOURCE   2 ORGANISM_SCIENTIFIC: HOMO SAPIENS;                                   \\nSOURCE   3 ORGANISM_COMMON: HUMAN;                                              \\nSOURCE   4 ORGANISM_TAXID: 9606;                                                \\nSOURCE   5 EXPRESSION_SYSTEM: ESCHERICHIA COLI;                                 \\nSOURCE   6 EXPRESSION_SYSTEM_TAXID: 562;                                        \\nSOURCE   7 MOL_ID: 2;                                                           \\nSOURCE   8 ORGANISM_SCIENTIFIC: HOMO SAPIENS;                                   \\nSOURCE   9 ORGANISM_COMMON: HUMAN;                                              \\nSOURCE  10 ORGANISM_TAXID: 9606;                                                \\nSOURCE  11 EXPRESSION_SYSTEM: ESCHERICHIA COLI;                                 \\nSOURCE  12 EXPRESSION_SYSTEM_TAXID: 562                                         \\nKEYWDS    INSULIN, CARBOHYDRATE METABOLISM, CLEAVAGE ON PAIR OF BASIC RESIDUES, \\nKEYWDS   2 DIABETES MELLITUS, DISEASE MUTATION, DISULFIDE BOND, GLUCOSE         \\nKEYWDS   3 METABOLISM, HORMONE, SECRETED                                        \\nEXPDTA    X-RAY DIFFRACTION                                                     \\nAUTHOR    V.I.TIMOFEEV,V.V.BEZUGLOV,K.A.MIROSHNIKOV,R.N.CHUPROV-NETOCHIN,       \\nAUTHOR   2 I.P.KURANOVA                                                         \\nREVDAT   4   06-NOV-24 3I40    1       REMARK                                   \\nREVDAT   3   01-NOV-23 3I40    1       REMARK                                   \\nREVDAT   2   05-MAY-10 3I40    1       JRNL                                     \\nREVDAT   1   05-JAN-10 3I40    0                                                \\nJRNL        AUTH   V.I.TIMOFEEV,R.N.CHUPROV-NETOCHIN,V.R.SAMIGINA,V.V.BEZUGLOV, \\nJRNL        AUTH 2 K.A.MIROSHNIKOV,I.P.KURANOVA                                 \\nJRNL        TITL   X-RAY INVESTIGATION OF GENE-ENGINEERED HUMAN INSULIN         \\nJRNL        TITL 2 CRYSTALLIZED FROM A SOLUTION CONTAINING POLYSIALIC ACID.     \\nJRNL        REF    ACTA CRYSTALLOGR.,SECT.F      V.  66   259 2010              \\nJRNL        REFN                   ESSN 1744-3091                               \\nJRNL        PMID   20208155                                                     \\nJRNL        DOI    10.1107/S1744309110000461                                    \\nREMARK   2                                                                      \\nREMARK   2 RESOLUTION.    1.85 ANGSTROMS.                                       \\nREMARK   3                                                                      \\nREMARK   3 REFINEMENT.                                                          \\nREMARK   3   PROGRAM     : PHENIX (PHENIX.REFINE)                               \\nREMARK   3   AUTHORS     : PAUL ADAMS,PAVEL AFONINE,VINCENT CHEN,IAN            \\nREMARK   3               : DAVIS,KRESHNA GOPAL,RALF GROSSE-KUNSTLEVE,           \\nREMARK   3               : LI-WEI HUNG,ROBERT IMMORMINO,TOM IOERGER,            \\nREMARK   3               : AIRLIE MCCOY,ERIK MCKEE,NIGEL MORIARTY,              \\nREMARK   3               : REETAL PAI,RANDY READ,JANE RICHARDSON,               \\nREMARK   3               : DAVID RICHARDSON,TOD ROMO,JIM SACCHETTINI,           \\nREMARK   3               : NICHOLAS SAUTER,JACOB SMITH,LAURENT                  \\nREMARK   3               : STORONI,TOM TERWILLIGER,PETER ZWART                  \\nREMARK   3                                                                      \\nREMARK   3    REFINEMENT TARGET : ML                                            \\nREMARK   3                                                                      \\nREMARK   3  DATA USED IN REFINEMENT.                                            \\nREMARK   3   RESOLUTION RANGE HIGH (ANGSTROMS) : 1.85                           \\nREMARK   3   RESOLUTION RANGE LOW  (ANGSTROMS) : 31.53                          \\nREMARK   3   MIN(FOBS/SIGMA_FOBS)              : 0.000                          \\nREMARK   3   COMPLETENESS FOR RANGE        (%) : 99.1                           \\nREMARK   3   NUMBER OF REFLECTIONS             : 6640                           \\nREMARK   3                                                                      \\nREMARK   3  FIT TO DATA USED IN REFINEMENT.                                     \\nREMARK   3   R VALUE     (WORKING + TEST SET) : 0.202                           \\nREMARK   3   R VALUE            (WORKING SET) : 0.200                           \\nREMARK   3   FREE R VALUE                     : 0.228                           \\nREMARK   3   FREE R VALUE TEST SET SIZE   (%) : 4.760                           \\nREMARK   3   FREE R VALUE TEST SET COUNT      : 316                             \\nREMARK   3                                                                      \\nREMARK   3  FIT TO DATA USED IN REFINEMENT (IN BINS).                           \\nREMARK   3   BIN  RESOLUTION RANGE  COMPL.    NWORK NFREE   RWORK  RFREE        \\nREMARK   3     1 31.5295 -  2.3309    1.00     3219   154  0.1910 0.2145        \\nREMARK   3     2  2.3309 -  1.8501    0.99     3105   162  0.2301 0.2627        \\nREMARK   3                                                                      \\nREMARK   3  BULK SOLVENT MODELLING.                                             \\nREMARK   3   METHOD USED        : FLAT BULK SOLVENT MODEL                       \\nREMARK   3   SOLVENT RADIUS     : 1.11                                          \\nREMARK   3   SHRINKAGE RADIUS   : 0.90                                          \\nREMARK   3   K_SOL              : 0.35                                          \\nREMARK   3   B_SOL              : 47.05                                         \\nREMARK   3                                                                      \\nREMARK   3  ERROR ESTIMATES.                                                    \\nREMARK   3   COORDINATE ERROR (MAXIMUM-LIKELIHOOD BASED)     : 0.240            \\nREMARK   3   PHASE ERROR (DEGREES, MAXIMUM-LIKELIHOOD BASED) : 24.930           \\nREMARK   3                                                                      \\nREMARK   3  B VALUES.                                                           \\nREMARK   3   FROM WILSON PLOT           (A**2) : 24.04                          \\nREMARK   3   MEAN B VALUE      (OVERALL, A**2) : 30.30                          \\nREMARK   3   OVERALL ANISOTROPIC B VALUE.                                       \\nREMARK   3    B11 (A**2) : NULL                                                 \\nREMARK   3    B22 (A**2) : NULL                                                 \\nREMARK   3    B33 (A**2) : NULL                                                 \\nREMARK   3    B12 (A**2) : NULL                                                 \\nREMARK   3    B13 (A**2) : NULL                                                 \\nREMARK   3    B23 (A**2) : NULL                                                 \\nREMARK   3                                                                      \\nREMARK   3  TWINNING INFORMATION.                                               \\nREMARK   3   FRACTION: NULL                                                     \\nREMARK   3   OPERATOR: NULL                                                     \\nREMARK   3                                                                      \\nREMARK   3  DEVIATIONS FROM IDEAL VALUES.                                       \\nREMARK   3                 RMSD          COUNT                                  \\nREMARK   3   BOND      :  0.005            423                                  \\nREMARK   3   ANGLE     :  0.760            569                                  \\nREMARK   3   CHIRALITY :  0.068             62                                  \\nREMARK   3   PLANARITY :  0.002             73                                  \\nREMARK   3   DIHEDRAL  : 17.205            141                                  \\nREMARK   3                                                                      \\nREMARK   3  TLS DETAILS                                                         \\nREMARK   3   NUMBER OF TLS GROUPS  : NULL                                       \\nREMARK   3                                                                      \\nREMARK   3  NCS DETAILS                                                         \\nREMARK   3   NUMBER OF NCS GROUPS : NULL                                        \\nREMARK   3                                                                      \\nREMARK   3  OTHER REFINEMENT REMARKS: NULL                                      \\nREMARK   4                                                                      \\nREMARK   4 3I40 COMPLIES WITH FORMAT V. 3.30, 13-JUL-11                         \\nREMARK 100                                                                      \\nREMARK 100 THIS ENTRY HAS BEEN PROCESSED BY PDBJ ON 06-JUL-09.                  \\nREMARK 100 THE DEPOSITION ID IS D_1000053935.                                   \\nREMARK 200                                                                      \\nREMARK 200 EXPERIMENTAL DETAILS                                                 \\nREMARK 200  EXPERIMENT TYPE                : X-RAY DIFFRACTION                  \\nREMARK 200  DATE OF DATA COLLECTION        : 10-MAR-09                          \\nREMARK 200  TEMPERATURE           (KELVIN) : 100                                \\nREMARK 200  PH                             : NULL                               \\nREMARK 200  NUMBER OF CRYSTALS USED        : 1                                  \\nREMARK 200                                                                      \\nREMARK 200  SYNCHROTRON              (Y/N) : N                                  \\nREMARK 200  RADIATION SOURCE               : ROTATING ANODE                     \\nREMARK 200  BEAMLINE                       : NULL                               \\nREMARK 200  X-RAY GENERATOR MODEL          : BRUKER AXS MICROSTAR               \\nREMARK 200  MONOCHROMATIC OR LAUE    (M/L) : M                                  \\nREMARK 200  WAVELENGTH OR RANGE        (A) : NULL                               \\nREMARK 200  MONOCHROMATOR                  : NULL                               \\nREMARK 200  OPTICS                         : NULL                               \\nREMARK 200                                                                      \\nREMARK 200  DETECTOR TYPE                  : CCD                                \\nREMARK 200  DETECTOR MANUFACTURER          : MAR CCD 165 MM                     \\nREMARK 200  INTENSITY-INTEGRATION SOFTWARE : DENZO                              \\nREMARK 200  DATA SCALING SOFTWARE          : NULL                               \\nREMARK 200                                                                      \\nREMARK 200  NUMBER OF UNIQUE REFLECTIONS   : 6677                               \\nREMARK 200  RESOLUTION RANGE HIGH      (A) : 1.850                              \\nREMARK 200  RESOLUTION RANGE LOW       (A) : 54.636                             \\nREMARK 200  REJECTION CRITERIA  (SIGMA(I)) : NULL                               \\nREMARK 200                                                                      \\nREMARK 200 OVERALL.                                                             \\nREMARK 200  COMPLETENESS FOR RANGE     (%) : NULL                               \\nREMARK 200  DATA REDUNDANCY                : NULL                               \\nREMARK 200  R MERGE                    (I) : NULL                               \\nREMARK 200  R SYM                      (I) : NULL                               \\nREMARK 200  <I/SIGMA(I)> FOR THE DATA SET  : NULL                               \\nREMARK 200                                                                      \\nREMARK 200 IN THE HIGHEST RESOLUTION SHELL.                                     \\nREMARK 200  HIGHEST RESOLUTION SHELL, RANGE HIGH (A) : NULL                     \\nREMARK 200  HIGHEST RESOLUTION SHELL, RANGE LOW  (A) : NULL                     \\nREMARK 200  COMPLETENESS FOR SHELL     (%) : NULL                               \\nREMARK 200  DATA REDUNDANCY IN SHELL       : NULL                               \\nREMARK 200  R MERGE FOR SHELL          (I) : NULL                               \\nREMARK 200  R SYM FOR SHELL            (I) : NULL                               \\nREMARK 200  <I/SIGMA(I)> FOR SHELL         : NULL                               \\nREMARK 200                                                                      \\nREMARK 200 DIFFRACTION PROTOCOL: SINGLE WAVELENGTH                              \\nREMARK 200 METHOD USED TO DETERMINE THE STRUCTURE: MOLECULAR REPLACEMENT        \\nREMARK 200 SOFTWARE USED: NULL                                                  \\nREMARK 200 STARTING MODEL: PDB ENTRY 2G4M                                       \\nREMARK 200                                                                      \\nREMARK 200 REMARK: NULL                                                         \\nREMARK 280                                                                      \\nREMARK 280 CRYSTAL                                                              \\nREMARK 280 SOLVENT CONTENT, VS   (%): 62.90                                     \\nREMARK 280 MATTHEWS COEFFICIENT, VM (ANGSTROMS**3/DA): 3.31                     \\nREMARK 280                                                                      \\nREMARK 280 CRYSTALLIZATION CONDITIONS: NULL                                     \\nREMARK 290                                                                      \\nREMARK 290 CRYSTALLOGRAPHIC SYMMETRY                                            \\nREMARK 290 SYMMETRY OPERATORS FOR SPACE GROUP: I 21 3                           \\nREMARK 290                                                                      \\nREMARK 290      SYMOP   SYMMETRY                                                \\nREMARK 290     NNNMMM   OPERATOR                                                \\nREMARK 290       1555   X,Y,Z                                                   \\nREMARK 290       2555   -X+1/2,-Y,Z+1/2                                         \\nREMARK 290       3555   -X,Y+1/2,-Z+1/2                                         \\nREMARK 290       4555   X+1/2,-Y+1/2,-Z                                         \\nREMARK 290       5555   Z,X,Y                                                   \\nREMARK 290       6555   Z+1/2,-X+1/2,-Y                                         \\nREMARK 290       7555   -Z+1/2,-X,Y+1/2                                         \\nREMARK 290       8555   -Z,X+1/2,-Y+1/2                                         \\nREMARK 290       9555   Y,Z,X                                                   \\nREMARK 290      10555   -Y,Z+1/2,-X+1/2                                         \\nREMARK 290      11555   Y+1/2,-Z+1/2,-X                                         \\nREMARK 290      12555   -Y+1/2,-Z,X+1/2                                         \\nREMARK 290      13555   X+1/2,Y+1/2,Z+1/2                                       \\nREMARK 290      14555   -X,-Y+1/2,Z                                             \\nREMARK 290      15555   -X+1/2,Y,-Z                                             \\nREMARK 290      16555   X,-Y,-Z+1/2                                             \\nREMARK 290      17555   Z+1/2,X+1/2,Y+1/2                                       \\nREMARK 290      18555   Z,-X,-Y+1/2                                             \\nREMARK 290      19555   -Z,-X+1/2,Y                                             \\nREMARK 290      20555   -Z+1/2,X,-Y                                             \\nREMARK 290      21555   Y+1/2,Z+1/2,X+1/2                                       \\nREMARK 290      22555   -Y+1/2,Z,-X                                             \\nREMARK 290      23555   Y,-Z,-X+1/2                                             \\nREMARK 290      24555   -Y,-Z+1/2,X                                             \\nREMARK 290                                                                      \\nREMARK 290     WHERE NNN -> OPERATOR NUMBER                                     \\nREMARK 290           MMM -> TRANSLATION VECTOR                                  \\nREMARK 290                                                                      \\nREMARK 290 CRYSTALLOGRAPHIC SYMMETRY TRANSFORMATIONS                            \\nREMARK 290 THE FOLLOWING TRANSFORMATIONS OPERATE ON THE ATOM/HETATM             \\nREMARK 290 RECORDS IN THIS ENTRY TO PRODUCE CRYSTALLOGRAPHICALLY                \\nREMARK 290 RELATED MOLECULES.                                                   \\nREMARK 290   SMTRY1   1  1.000000  0.000000  0.000000        0.00000            \\nREMARK 290   SMTRY2   1  0.000000  1.000000  0.000000        0.00000            \\nREMARK 290   SMTRY3   1  0.000000  0.000000  1.000000        0.00000            \\nREMARK 290   SMTRY1   2 -1.000000  0.000000  0.000000       38.61000            \\nREMARK 290   SMTRY2   2  0.000000 -1.000000  0.000000        0.00000            \\nREMARK 290   SMTRY3   2  0.000000  0.000000  1.000000       38.61000            \\nREMARK 290   SMTRY1   3 -1.000000  0.000000  0.000000        0.00000            \\nREMARK 290   SMTRY2   3  0.000000  1.000000  0.000000       38.61000            \\nREMARK 290   SMTRY3   3  0.000000  0.000000 -1.000000       38.61000            \\nREMARK 290   SMTRY1   4  1.000000  0.000000  0.000000       38.61000            \\nREMARK 290   SMTRY2   4  0.000000 -1.000000  0.000000       38.61000            \\nREMARK 290   SMTRY3   4  0.000000  0.000000 -1.000000        0.00000            \\nREMARK 290   SMTRY1   5  0.000000  0.000000  1.000000        0.00000            \\nREMARK 290   SMTRY2   5  1.000000  0.000000  0.000000        0.00000            \\nREMARK 290   SMTRY3   5  0.000000  1.000000  0.000000        0.00000            \\nREMARK 290   SMTRY1   6  0.000000  0.000000  1.000000       38.61000            \\nREMARK 290   SMTRY2   6 -1.000000  0.000000  0.000000       38.61000            \\nREMARK 290   SMTRY3   6  0.000000 -1.000000  0.000000        0.00000            \\nREMARK 290   SMTRY1   7  0.000000  0.000000 -1.000000       38.61000            \\nREMARK 290   SMTRY2   7 -1.000000  0.000000  0.000000        0.00000            \\nREMARK 290   SMTRY3   7  0.000000  1.000000  0.000000       38.61000            \\nREMARK 290   SMTRY1   8  0.000000  0.000000 -1.000000        0.00000            \\nREMARK 290   SMTRY2   8  1.000000  0.000000  0.000000       38.61000            \\nREMARK 290   SMTRY3   8  0.000000 -1.000000  0.000000       38.61000            \\nREMARK 290   SMTRY1   9  0.000000  1.000000  0.000000        0.00000            \\nREMARK 290   SMTRY2   9  0.000000  0.000000  1.000000        0.00000            \\nREMARK 290   SMTRY3   9  1.000000  0.000000  0.000000        0.00000            \\nREMARK 290   SMTRY1  10  0.000000 -1.000000  0.000000        0.00000            \\nREMARK 290   SMTRY2  10  0.000000  0.000000  1.000000       38.61000            \\nREMARK 290   SMTRY3  10 -1.000000  0.000000  0.000000       38.61000            \\nREMARK 290   SMTRY1  11  0.000000  1.000000  0.000000       38.61000            \\nREMARK 290   SMTRY2  11  0.000000  0.000000 -1.000000       38.61000            \\nREMARK 290   SMTRY3  11 -1.000000  0.000000  0.000000        0.00000            \\nREMARK 290   SMTRY1  12  0.000000 -1.000000  0.000000       38.61000            \\nREMARK 290   SMTRY2  12  0.000000  0.000000 -1.000000        0.00000            \\nREMARK 290   SMTRY3  12  1.000000  0.000000  0.000000       38.61000            \\nREMARK 290   SMTRY1  13  1.000000  0.000000  0.000000       38.61000            \\nREMARK 290   SMTRY2  13  0.000000  1.000000  0.000000       38.61000            \\nREMARK 290   SMTRY3  13  0.000000  0.000000  1.000000       38.61000            \\nREMARK 290   SMTRY1  14 -1.000000  0.000000  0.000000        0.00000            \\nREMARK 290   SMTRY2  14  0.000000 -1.000000  0.000000       38.61000            \\nREMARK 290   SMTRY3  14  0.000000  0.000000  1.000000        0.00000            \\nREMARK 290   SMTRY1  15 -1.000000  0.000000  0.000000       38.61000            \\nREMARK 290   SMTRY2  15  0.000000  1.000000  0.000000        0.00000            \\nREMARK 290   SMTRY3  15  0.000000  0.000000 -1.000000        0.00000            \\nREMARK 290   SMTRY1  16  1.000000  0.000000  0.000000        0.00000            \\nREMARK 290   SMTRY2  16  0.000000 -1.000000  0.000000        0.00000            \\nREMARK 290   SMTRY3  16  0.000000  0.000000 -1.000000       38.61000            \\nREMARK 290   SMTRY1  17  0.000000  0.000000  1.000000       38.61000            \\nREMARK 290   SMTRY2  17  1.000000  0.000000  0.000000       38.61000            \\nREMARK 290   SMTRY3  17  0.000000  1.000000  0.000000       38.61000            \\nREMARK 290   SMTRY1  18  0.000000  0.000000  1.000000        0.00000            \\nREMARK 290   SMTRY2  18 -1.000000  0.000000  0.000000        0.00000            \\nREMARK 290   SMTRY3  18  0.000000 -1.000000  0.000000       38.61000            \\nREMARK 290   SMTRY1  19  0.000000  0.000000 -1.000000        0.00000            \\nREMARK 290   SMTRY2  19 -1.000000  0.000000  0.000000       38.61000            \\nREMARK 290   SMTRY3  19  0.000000  1.000000  0.000000        0.00000            \\nREMARK 290   SMTRY1  20  0.000000  0.000000 -1.000000       38.61000            \\nREMARK 290   SMTRY2  20  1.000000  0.000000  0.000000        0.00000            \\nREMARK 290   SMTRY3  20  0.000000 -1.000000  0.000000        0.00000            \\nREMARK 290   SMTRY1  21  0.000000  1.000000  0.000000       38.61000            \\nREMARK 290   SMTRY2  21  0.000000  0.000000  1.000000       38.61000            \\nREMARK 290   SMTRY3  21  1.000000  0.000000  0.000000       38.61000            \\nREMARK 290   SMTRY1  22  0.000000 -1.000000  0.000000       38.61000            \\nREMARK 290   SMTRY2  22  0.000000  0.000000  1.000000        0.00000            \\nREMARK 290   SMTRY3  22 -1.000000  0.000000  0.000000        0.00000            \\nREMARK 290   SMTRY1  23  0.000000  1.000000  0.000000        0.00000            \\nREMARK 290   SMTRY2  23  0.000000  0.000000 -1.000000        0.00000            \\nREMARK 290   SMTRY3  23 -1.000000  0.000000  0.000000       38.61000            \\nREMARK 290   SMTRY1  24  0.000000 -1.000000  0.000000        0.00000            \\nREMARK 290   SMTRY2  24  0.000000  0.000000 -1.000000       38.61000            \\nREMARK 290   SMTRY3  24  1.000000  0.000000  0.000000        0.00000            \\nREMARK 290                                                                      \\nREMARK 290 REMARK: NULL                                                         \\nREMARK 300                                                                      \\nREMARK 300 BIOMOLECULE: 1                                                       \\nREMARK 300 SEE REMARK 350 FOR THE AUTHOR PROVIDED AND/OR PROGRAM                \\nREMARK 300 GENERATED ASSEMBLY INFORMATION FOR THE STRUCTURE IN                  \\nREMARK 300 THIS ENTRY. THE REMARK MAY ALSO PROVIDE INFORMATION ON               \\nREMARK 300 BURIED SURFACE AREA.                                                 \\nREMARK 350                                                                      \\nREMARK 350 COORDINATES FOR A COMPLETE MULTIMER REPRESENTING THE KNOWN           \\nREMARK 350 BIOLOGICALLY SIGNIFICANT OLIGOMERIZATION STATE OF THE                \\nREMARK 350 MOLECULE CAN BE GENERATED BY APPLYING BIOMT TRANSFORMATIONS          \\nREMARK 350 GIVEN BELOW.  BOTH NON-CRYSTALLOGRAPHIC AND                          \\nREMARK 350 CRYSTALLOGRAPHIC OPERATIONS ARE GIVEN.                               \\nREMARK 350                                                                      \\nREMARK 350 BIOMOLECULE: 1                                                       \\nREMARK 350 AUTHOR DETERMINED BIOLOGICAL UNIT: DIMERIC                           \\nREMARK 350 SOFTWARE DETERMINED QUATERNARY STRUCTURE: DIMERIC                    \\nREMARK 350 SOFTWARE USED: PISA                                                  \\nREMARK 350 TOTAL BURIED SURFACE AREA: 1520 ANGSTROM**2                          \\nREMARK 350 SURFACE AREA OF THE COMPLEX: 3380 ANGSTROM**2                        \\nREMARK 350 CHANGE IN SOLVENT FREE ENERGY: -14.0 KCAL/MOL                        \\nREMARK 350 APPLY THE FOLLOWING TO CHAINS: A, B                                  \\nREMARK 350   BIOMT1   1  1.000000  0.000000  0.000000        0.00000            \\nREMARK 350   BIOMT2   1  0.000000  1.000000  0.000000        0.00000            \\nREMARK 350   BIOMT3   1  0.000000  0.000000  1.000000        0.00000            \\nREMARK 900                                                                      \\nREMARK 900 RELATED ENTRIES                                                      \\nREMARK 900 RELATED ID: 3I3Z   RELATED DB: PDB                                   \\nREMARK 999                                                                      \\nREMARK 999 SEQUENCE                                                             \\nREMARK 999 THE CONFLICT OF THE SEQUENCE MAY DUE TO ARTIFACT.                    \\nDBREF  3I40 A    1    21  UNP    P01308   INS_HUMAN       90    110             \\nDBREF  3I40 B    1    30  UNP    P01308   INS_HUMAN       25     54             \\nSEQADV 3I40 ALA B   30  UNP  P01308    THR    54 SEE REMARK 999                 \\nSEQRES   1 A   21  GLY ILE VAL GLU GLN CYS CYS THR SER ILE CYS SER LEU          \\nSEQRES   2 A   21  TYR GLN LEU GLU ASN TYR CYS ASN                              \\nSEQRES   1 B   30  PHE VAL ASN GLN HIS LEU CYS GLY SER HIS LEU VAL GLU          \\nSEQRES   2 B   30  ALA LEU TYR LEU VAL CYS GLY GLU ARG GLY PHE PHE TYR          \\nSEQRES   3 B   30  THR PRO LYS ALA                                              \\nFORMUL   3  HOH   *35(H2 O)                                                     \\nHELIX    1   1 GLY A    1  CYS A    7  1                                   7    \\nHELIX    2   2 SER A   12  ASN A   18  1                                   7    \\nHELIX    3   3 GLY B    8  GLY B   20  1                                  13    \\nHELIX    4   4 GLU B   21  GLY B   23  5                                   3    \\nSSBOND   1 CYS A    6    CYS A   11                          1555   1555  2.03  \\nSSBOND   2 CYS A    7    CYS B    7                          1555   1555  2.04  \\nSSBOND   3 CYS A   20    CYS B   19                          1555   1555  2.04  \\nCRYST1   77.220   77.220   77.220  90.00  90.00  90.00 I 21 3       24          \\nORIGX1      1.000000  0.000000  0.000000        0.00000                         \\nORIGX2      0.000000  1.000000  0.000000        0.00000                         \\nORIGX3      0.000000  0.000000  1.000000        0.00000                         \\nSCALE1      0.012950  0.000000  0.000000        0.00000                         \\nSCALE2      0.000000  0.012950  0.000000        0.00000                         \\nSCALE3      0.000000  0.000000  0.012950        0.00000                         \\nATOM      1  N   GLY A   1     -27.279   6.238 -12.314  1.00 45.01           N  \\nATOM      2  CA  GLY A   1     -26.249   6.028 -11.313  1.00 43.47           C  \\nATOM      3  C   GLY A   1     -25.582   4.677 -11.471  1.00 34.37           C  \\nATOM      4  O   GLY A   1     -25.731   4.023 -12.501  1.00 30.09           O  \\nATOM      5  N   ILE A   2     -24.853   4.248 -10.446  1.00 32.71           N  \\nATOM      6  CA  ILE A   2     -24.070   3.023 -10.550  1.00 22.60           C  \\nATOM      7  C   ILE A   2     -24.915   1.786 -10.840  1.00 23.32           C  \\nATOM      8  O   ILE A   2     -24.469   0.865 -11.529  1.00 26.36           O  \\nATOM      9  CB  ILE A   2     -23.208   2.791  -9.302  1.00 28.24           C  \\nATOM     10  CG1 ILE A   2     -22.249   1.620  -9.538  1.00 25.03           C  \\nATOM     11  CG2 ILE A   2     -24.090   2.579  -8.068  1.00 32.70           C  \\nATOM     12  CD1 ILE A   2     -21.209   1.479  -8.457  1.00 30.60           C  \\nATOM     13  N   VAL A   3     -26.137   1.755 -10.324  1.00 27.13           N  \\nATOM     14  CA  VAL A   3     -26.993   0.599 -10.563  1.00 30.10           C  \\nATOM     15  C   VAL A   3     -27.324   0.471 -12.049  1.00 32.71           C  \\nATOM     16  O   VAL A   3     -27.258  -0.617 -12.621  1.00 28.83           O  \\nATOM     17  CB  VAL A   3     -28.284   0.657  -9.740  1.00 30.51           C  \\nATOM     18  CG1 VAL A   3     -29.194  -0.497 -10.127  1.00 35.07           C  \\nATOM     19  CG2 VAL A   3     -27.956   0.613  -8.242  1.00 27.53           C  \\nATOM     20  N   GLU A   4     -27.669   1.596 -12.667  1.00 34.97           N  \\nATOM     21  CA  GLU A   4     -28.001   1.627 -14.086  1.00 31.24           C  \\nATOM     22  C   GLU A   4     -26.797   1.224 -14.927  1.00 32.52           C  \\nATOM     23  O   GLU A   4     -26.933   0.517 -15.924  1.00 31.47           O  \\nATOM     24  CB  GLU A   4     -28.474   3.027 -14.485  1.00 38.19           C  \\nATOM     25  CG  GLU A   4     -29.829   3.420 -13.908  1.00 61.51           C  \\nATOM     26  CD  GLU A   4     -29.832   3.535 -12.387  1.00 66.16           C  \\nATOM     27  OE1 GLU A   4     -28.868   4.094 -11.814  1.00 42.60           O  \\nATOM     28  OE2 GLU A   4     -30.812   3.071 -11.762  1.00 67.86           O  \\nATOM     29  N   GLN A   5     -25.615   1.664 -14.508  1.00 28.29           N  \\nATOM     30  CA  GLN A   5     -24.393   1.410 -15.266  1.00 31.01           C  \\nATOM     31  C   GLN A   5     -23.776   0.028 -15.056  1.00 39.69           C  \\nATOM     32  O   GLN A   5     -23.149  -0.511 -15.967  1.00 26.39           O  \\nATOM     33  CB  GLN A   5     -23.349   2.492 -14.974  1.00 25.23           C  \\nATOM     34  CG  GLN A   5     -23.818   3.887 -15.346  1.00 38.13           C  \\nATOM     35  CD  GLN A   5     -24.535   3.921 -16.693  1.00 53.62           C  \\nATOM     36  OE1 GLN A   5     -24.074   3.334 -17.674  1.00 38.85           O  \\nATOM     37  NE2 GLN A   5     -25.671   4.609 -16.741  1.00 42.57           N  \\nATOM     38  N   CYS A   6     -23.940  -0.551 -13.868  1.00 22.46           N  \\nATOM     39  CA  CYS A   6     -23.214  -1.776 -13.549  1.00 20.37           C  \\nATOM     40  C   CYS A   6     -24.114  -2.963 -13.225  1.00 18.21           C  \\nATOM     41  O   CYS A   6     -23.677  -4.107 -13.293  1.00 21.83           O  \\nATOM     42  CB  CYS A   6     -22.235  -1.524 -12.396  1.00 22.32           C  \\nATOM     43  SG  CYS A   6     -20.756  -0.602 -12.893  1.00 27.82           S  \\nATOM     44  N   CYS A   7     -25.359  -2.685 -12.860  1.00 22.16           N  \\nATOM     45  CA  CYS A   7     -26.307  -3.744 -12.520  1.00 21.25           C  \\nATOM     46  C   CYS A   7     -27.245  -4.032 -13.690  1.00 31.44           C  \\nATOM     47  O   CYS A   7     -27.307  -5.155 -14.190  1.00 24.09           O  \\nATOM     48  CB  CYS A   7     -27.119  -3.351 -11.286  1.00 22.97           C  \\nATOM     49  SG  CYS A   7     -28.355  -4.584 -10.791  1.00 28.27           S  \\nATOM     50  N   THR A   8     -27.967  -3.001 -14.122  1.00 29.15           N  \\nATOM     51  CA  THR A   8     -28.901  -3.121 -15.236  1.00 29.59           C  \\nATOM     52  C   THR A   8     -28.147  -3.334 -16.542  1.00 34.52           C  \\nATOM     53  O   THR A   8     -28.647  -3.986 -17.454  1.00 38.61           O  \\nATOM     54  CB  THR A   8     -29.780  -1.868 -15.371  1.00 31.24           C  \\nATOM     55  OG1 THR A   8     -30.023  -1.303 -14.080  1.00 41.12           O  \\nATOM     56  CG2 THR A   8     -31.100  -2.218 -16.029  1.00 51.07           C  \\nATOM     57  N   SER A   9     -26.948  -2.769 -16.630  1.00 26.15           N  \\nATOM     58  CA  SER A   9     -26.064  -3.019 -17.765  1.00 21.41           C  \\nATOM     59  C   SER A   9     -24.699  -3.529 -17.309  1.00 32.36           C  \\nATOM     60  O   SER A   9     -24.419  -3.594 -16.111  1.00 29.40           O  \\nATOM     61  CB  SER A   9     -25.910  -1.765 -18.626  1.00 32.53           C  \\nATOM     62  OG  SER A   9     -25.465  -0.670 -17.851  1.00 47.07           O  \\nATOM     63  N   ILE A  10     -23.849  -3.891 -18.261  1.00 24.43           N  \\nATOM     64  CA  ILE A  10     -22.562  -4.492 -17.924  1.00 24.22           C  \\nATOM     65  C   ILE A  10     -21.591  -3.454 -17.367  1.00 30.49           C  \\nATOM     66  O   ILE A  10     -21.420  -2.380 -17.934  1.00 26.28           O  \\nATOM     67  CB  ILE A  10     -21.942  -5.216 -19.128  1.00 26.99           C  \\nATOM     68  CG1 ILE A  10     -22.880  -6.328 -19.595  1.00 26.49           C  \\nATOM     69  CG2 ILE A  10     -20.577  -5.790 -18.770  1.00 25.10           C  \\nATOM     70  CD1 ILE A  10     -22.302  -7.179 -20.689  1.00 44.31           C  \\nATOM     71  N   CYS A  11     -20.972  -3.790 -16.240  1.00 28.14           N  \\nATOM     72  CA  CYS A  11     -20.088  -2.876 -15.534  1.00 25.92           C  \\nATOM     73  C   CYS A  11     -18.752  -2.779 -16.258  1.00 36.06           C  \\nATOM     74  O   CYS A  11     -18.491  -3.524 -17.204  1.00 27.25           O  \\nATOM     75  CB  CYS A  11     -19.867  -3.387 -14.106  1.00 23.76           C  \\nATOM     76  SG  CYS A  11     -19.406  -2.114 -12.908  1.00 28.09           S  \\nATOM     77  N   SER A  12     -17.902  -1.865 -15.807  1.00 25.78           N  \\nATOM     78  CA  SER A  12     -16.554  -1.767 -16.349  1.00 22.91           C  \\nATOM     79  C   SER A  12     -15.634  -1.220 -15.281  1.00 19.20           C  \\nATOM     80  O   SER A  12     -16.076  -0.508 -14.375  1.00 18.62           O  \\nATOM     81  CB  SER A  12     -16.530  -0.845 -17.559  1.00 24.50           C  \\nATOM     82  OG  SER A  12     -16.681   0.502 -17.157  1.00 24.75           O  \\nATOM     83  N   LEU A  13     -14.346  -1.528 -15.392  1.00 22.17           N  \\nATOM     84  CA  LEU A  13     -13.378  -1.013 -14.426  1.00 19.72           C  \\nATOM     85  C   LEU A  13     -13.412   0.508 -14.438  1.00 22.22           C  \\nATOM     86  O   LEU A  13     -13.329   1.158 -13.393  1.00 17.29           O  \\nATOM     87  CB  LEU A  13     -11.971  -1.517 -14.751  1.00 19.22           C  \\nATOM     88  CG  LEU A  13     -10.860  -0.998 -13.840  1.00 17.99           C  \\nATOM     89  CD1 LEU A  13     -11.104  -1.386 -12.388  1.00 18.06           C  \\nATOM     90  CD2 LEU A  13      -9.522  -1.530 -14.308  1.00 15.25           C  \\nATOM     91  N   TYR A  14     -13.550   1.075 -15.632  1.00 19.94           N  \\nATOM     92  CA  TYR A  14     -13.559   2.521 -15.774  1.00 22.72           C  \\nATOM     93  C   TYR A  14     -14.638   3.140 -14.893  1.00 22.64           C  \\nATOM     94  O   TYR A  14     -14.391   4.094 -14.152  1.00 25.33           O  \\nATOM     95  CB ATYR A  14     -13.771   2.911 -17.239  0.50 27.81           C  \\nATOM     96  CB BTYR A  14     -13.786   2.928 -17.233  0.50 27.85           C  \\nATOM     97  CG ATYR A  14     -13.608   4.388 -17.494  0.50 28.31           C  \\nATOM     98  CG BTYR A  14     -13.829   4.427 -17.427  0.50 28.20           C  \\nATOM     99  CD1ATYR A  14     -12.442   4.893 -18.059  0.50 23.25           C  \\nATOM    100  CD1BTYR A  14     -12.714   5.121 -17.879  0.50 25.75           C  \\nATOM    101  CD2ATYR A  14     -14.614   5.282 -17.153  0.50 28.36           C  \\nATOM    102  CD2BTYR A  14     -14.980   5.152 -17.138  0.50 27.68           C  \\nATOM    103  CE1ATYR A  14     -12.289   6.252 -18.283  0.50 27.32           C  \\nATOM    104  CE1BTYR A  14     -12.746   6.496 -18.047  0.50 27.49           C  \\nATOM    105  CE2ATYR A  14     -14.472   6.636 -17.372  0.50 29.32           C  \\nATOM    106  CE2BTYR A  14     -15.021   6.527 -17.300  0.50 28.26           C  \\nATOM    107  CZ ATYR A  14     -13.311   7.117 -17.938  0.50 29.06           C  \\nATOM    108  CZ BTYR A  14     -13.902   7.193 -17.757  0.50 29.57           C  \\nATOM    109  OH ATYR A  14     -13.179   8.469 -18.153  0.50 33.01           O  \\nATOM    110  OH BTYR A  14     -13.938   8.561 -17.922  0.50 32.79           O  \\nATOM    111  N   GLN A  15     -15.837   2.584 -14.969  1.00 21.27           N  \\nATOM    112  CA  GLN A  15     -16.962   3.129 -14.222  1.00 21.51           C  \\nATOM    113  C   GLN A  15     -16.837   2.882 -12.722  1.00 17.30           C  \\nATOM    114  O   GLN A  15     -17.121   3.764 -11.917  1.00 20.82           O  \\nATOM    115  CB  GLN A  15     -18.275   2.561 -14.758  1.00 25.25           C  \\nATOM    116  CG  GLN A  15     -18.527   2.905 -16.214  1.00 32.75           C  \\nATOM    117  CD  GLN A  15     -19.997   3.039 -16.527  1.00 55.05           C  \\nATOM    118  OE1 GLN A  15     -20.680   3.914 -15.987  1.00 53.01           O  \\nATOM    119  NE2 GLN A  15     -20.497   2.177 -17.410  1.00 50.66           N  \\nATOM    120  N   LEU A  16     -16.399   1.687 -12.346  1.00 15.37           N  \\nATOM    121  CA  LEU A  16     -16.236   1.380 -10.930  1.00 17.02           C  \\nATOM    122  C   LEU A  16     -15.301   2.382 -10.273  1.00 16.55           C  \\nATOM    123  O   LEU A  16     -15.565   2.868  -9.172  1.00 19.70           O  \\nATOM    124  CB  LEU A  16     -15.703  -0.037 -10.742  1.00 24.64           C  \\nATOM    125  CG  LEU A  16     -16.709  -1.151 -11.013  1.00 24.23           C  \\nATOM    126  CD1 LEU A  16     -16.007  -2.496 -11.058  1.00 21.90           C  \\nATOM    127  CD2 LEU A  16     -17.786  -1.124  -9.936  1.00 18.48           C  \\nATOM    128  N   GLU A  17     -14.199   2.703 -10.950  1.00 17.86           N  \\nATOM    129  CA  GLU A  17     -13.219   3.608 -10.365  1.00 19.38           C  \\nATOM    130  C   GLU A  17     -13.763   5.026 -10.180  1.00 18.73           C  \\nATOM    131  O   GLU A  17     -13.259   5.782  -9.351  1.00 22.43           O  \\nATOM    132  CB  GLU A  17     -11.910   3.598 -11.155  1.00 20.40           C  \\nATOM    133  CG  GLU A  17     -11.090   2.343 -10.898  1.00 20.17           C  \\nATOM    134  CD  GLU A  17      -9.623   2.514 -11.240  1.00 22.14           C  \\nATOM    135  OE1 GLU A  17      -9.301   3.347 -12.110  1.00 22.42           O  \\nATOM    136  OE2 GLU A  17      -8.792   1.805 -10.640  1.00 27.73           O  \\nATOM    137  N   ASN A  18     -14.799   5.374 -10.932  1.00 20.29           N  \\nATOM    138  CA  ASN A  18     -15.480   6.657 -10.735  1.00 20.00           C  \\nATOM    139  C   ASN A  18     -16.080   6.766  -9.334  1.00 26.36           C  \\nATOM    140  O   ASN A  18     -16.469   7.849  -8.890  1.00 28.46           O  \\nATOM    141  CB  ASN A  18     -16.587   6.839 -11.774  1.00 21.66           C  \\nATOM    142  CG  ASN A  18     -16.061   7.344 -13.113  1.00 25.89           C  \\nATOM    143  OD1 ASN A  18     -15.007   7.974 -13.180  1.00 32.32           O  \\nATOM    144  ND2 ASN A  18     -16.802   7.070 -14.180  1.00 38.57           N  \\nATOM    145  N   TYR A  19     -16.163   5.640  -8.638  1.00 20.84           N  \\nATOM    146  CA  TYR A  19     -16.803   5.618  -7.327  1.00 18.56           C  \\nATOM    147  C   TYR A  19     -15.822   5.394  -6.180  1.00 23.20           C  \\nATOM    148  O   TYR A  19     -16.223   5.337  -5.018  1.00 27.54           O  \\nATOM    149  CB  TYR A  19     -17.945   4.599  -7.298  1.00 20.89           C  \\nATOM    150  CG  TYR A  19     -19.068   4.966  -8.236  1.00 21.62           C  \\nATOM    151  CD1 TYR A  19     -19.115   4.453  -9.521  1.00 23.43           C  \\nATOM    152  CD2 TYR A  19     -20.066   5.848  -7.844  1.00 26.68           C  \\nATOM    153  CE1 TYR A  19     -20.126   4.796 -10.385  1.00 24.39           C  \\nATOM    154  CE2 TYR A  19     -21.082   6.200  -8.708  1.00 31.02           C  \\nATOM    155  CZ  TYR A  19     -21.104   5.672  -9.979  1.00 28.36           C  \\nATOM    156  OH  TYR A  19     -22.114   6.009 -10.853  1.00 42.08           O  \\nATOM    157  N   CYS A  20     -14.534   5.281  -6.499  1.00 21.90           N  \\nATOM    158  CA  CYS A  20     -13.510   5.251  -5.459  1.00 19.66           C  \\nATOM    159  C   CYS A  20     -13.334   6.645  -4.882  1.00 28.69           C  \\nATOM    160  O   CYS A  20     -13.526   7.639  -5.585  1.00 30.53           O  \\nATOM    161  CB  CYS A  20     -12.169   4.783  -6.021  1.00 22.84           C  \\nATOM    162  SG  CYS A  20     -12.209   3.187  -6.829  1.00 22.45           S  \\nATOM    163  N   ASN A  21     -12.955   6.716  -3.609  1.00 26.51           N  \\nATOM    164  CA  ASN A  21     -12.630   7.993  -2.976  1.00 36.60           C  \\nATOM    165  C   ASN A  21     -11.279   8.511  -3.448  1.00 35.58           C  \\nATOM    166  O   ASN A  21     -10.515   7.790  -4.091  1.00 36.84           O  \\nATOM    167  CB  ASN A  21     -12.615   7.863  -1.450  1.00 34.89           C  \\nATOM    168  CG  ASN A  21     -13.978   7.548  -0.878  1.00 33.46           C  \\nATOM    169  OD1 ASN A  21     -14.107   6.726   0.029  1.00 48.60           O  \\nATOM    170  ND2 ASN A  21     -15.008   8.198  -1.408  1.00 39.53           N  \\nATOM    171  OXT ASN A  21     -10.922   9.659  -3.189  1.00 58.00           O  \\nTER     172      ASN A  21                                                      \\nATOM    173  N   PHE B   1     -13.174  -9.740 -13.251  1.00 44.56           N  \\nATOM    174  CA  PHE B   1     -14.387  -9.892 -12.452  1.00 53.84           C  \\nATOM    175  C   PHE B   1     -15.310  -8.684 -12.590  1.00 44.51           C  \\nATOM    176  O   PHE B   1     -16.451  -8.715 -12.133  1.00 40.17           O  \\nATOM    177  CB  PHE B   1     -14.042 -10.126 -10.973  1.00 47.36           C  \\nATOM    178  CG  PHE B   1     -13.222  -9.024 -10.356  1.00 43.05           C  \\nATOM    179  CD1 PHE B   1     -13.816  -8.050  -9.571  1.00 39.13           C  \\nATOM    180  CD2 PHE B   1     -11.854  -8.964 -10.565  1.00 48.11           C  \\nATOM    181  CE1 PHE B   1     -13.059  -7.037  -9.008  1.00 29.34           C  \\nATOM    182  CE2 PHE B   1     -11.093  -7.959 -10.002  1.00 34.97           C  \\nATOM    183  CZ  PHE B   1     -11.696  -6.993  -9.224  1.00 36.24           C  \\nATOM    184  N   VAL B   2     -14.819  -7.623 -13.228  1.00 27.44           N  \\nATOM    185  CA  VAL B   2     -15.568  -6.367 -13.273  1.00 25.65           C  \\nATOM    186  C   VAL B   2     -16.402  -6.197 -14.541  1.00 30.55           C  \\nATOM    187  O   VAL B   2     -17.249  -5.306 -14.628  1.00 30.98           O  \\nATOM    188  CB  VAL B   2     -14.633  -5.163 -13.114  1.00 32.50           C  \\nATOM    189  CG1 VAL B   2     -14.056  -5.139 -11.705  1.00 29.74           C  \\nATOM    190  CG2 VAL B   2     -13.519  -5.227 -14.141  1.00 45.24           C  \\nATOM    191  N   ASN B   3     -16.158  -7.045 -15.528  1.00 28.57           N  \\nATOM    192  CA  ASN B   3     -16.844  -6.904 -16.806  1.00 31.00           C  \\nATOM    193  C   ASN B   3     -18.072  -7.800 -16.928  1.00 29.49           C  \\nATOM    194  O   ASN B   3     -18.115  -8.720 -17.743  1.00 28.57           O  \\nATOM    195  CB  ASN B   3     -15.854  -7.122 -17.946  1.00 31.67           C  \\nATOM    196  CG  ASN B   3     -14.703  -6.139 -17.888  1.00 35.45           C  \\nATOM    197  OD1 ASN B   3     -13.561  -6.507 -17.600  1.00 38.37           O  \\nATOM    198  ND2 ASN B   3     -15.009  -4.871 -18.113  1.00 23.34           N  \\nATOM    199  N   GLN B   4     -19.073  -7.514 -16.099  1.00 31.90           N  \\nATOM    200  CA  GLN B   4     -20.313  -8.287 -16.082  1.00 28.96           C  \\nATOM    201  C   GLN B   4     -21.397  -7.521 -15.328  1.00 23.12           C  \\nATOM    202  O   GLN B   4     -21.154  -6.432 -14.812  1.00 26.67           O  \\nATOM    203  CB  GLN B   4     -20.079  -9.648 -15.425  1.00 33.50           C  \\nATOM    204  CG  GLN B   4     -19.608  -9.556 -13.987  1.00 31.03           C  \\nATOM    205  CD  GLN B   4     -19.344 -10.918 -13.379  1.00 54.72           C  \\nATOM    206  OE1 GLN B   4     -20.210 -11.794 -13.390  1.00 51.79           O  \\nATOM    207  NE2 GLN B   4     -18.144 -11.105 -12.840  1.00 41.70           N  \\nATOM    208  N   HIS B   5     -22.599  -8.080 -15.281  1.00 25.17           N  \\nATOM    209  CA  HIS B   5     -23.666  -7.471 -14.503  1.00 26.87           C  \\nATOM    210  C   HIS B   5     -23.358  -7.685 -13.035  1.00 26.33           C  \\nATOM    211  O   HIS B   5     -23.193  -8.822 -12.595  1.00 25.34           O  \\nATOM    212  CB  HIS B   5     -25.013  -8.109 -14.834  1.00 24.65           C  \\nATOM    213  CG  HIS B   5     -25.462  -7.871 -16.239  1.00 27.43           C  \\nATOM    214  ND1 HIS B   5     -26.235  -6.787 -16.598  1.00 29.87           N  \\nATOM    215  CD2 HIS B   5     -25.241  -8.570 -17.377  1.00 27.84           C  \\nATOM    216  CE1 HIS B   5     -26.478  -6.833 -17.896  1.00 24.52           C  \\nATOM    217  NE2 HIS B   5     -25.885  -7.905 -18.393  1.00 35.03           N  \\nATOM    218  N   LEU B   6     -23.267  -6.592 -12.287  1.00 22.69           N  \\nATOM    219  CA  LEU B   6     -22.974  -6.660 -10.862  1.00 21.06           C  \\nATOM    220  C   LEU B   6     -24.052  -5.932 -10.079  1.00 21.50           C  \\nATOM    221  O   LEU B   6     -24.197  -4.715 -10.194  1.00 22.66           O  \\nATOM    222  CB  LEU B   6     -21.612  -6.034 -10.568  1.00 20.56           C  \\nATOM    223  CG  LEU B   6     -20.418  -6.665 -11.281  1.00 20.16           C  \\nATOM    224  CD1 LEU B   6     -19.190  -5.786 -11.103  1.00 20.54           C  \\nATOM    225  CD2 LEU B   6     -20.155  -8.064 -10.763  1.00 25.22           C  \\nATOM    226  N   CYS B   7     -24.800  -6.679  -9.273  1.00 20.58           N  \\nATOM    227  CA  CYS B   7     -25.899  -6.104  -8.513  1.00 22.46           C  \\nATOM    228  C   CYS B   7     -25.754  -6.421  -7.034  1.00 22.72           C  \\nATOM    229  O   CYS B   7     -25.231  -7.471  -6.665  1.00 21.90           O  \\nATOM    230  CB  CYS B   7     -27.236  -6.664  -9.009  1.00 28.16           C  \\nATOM    231  SG  CYS B   7     -27.554  -6.459 -10.788  1.00 29.45           S  \\nATOM    232  N   GLY B   8     -26.229  -5.514  -6.191  1.00 21.36           N  \\nATOM    233  CA  GLY B   8     -26.233  -5.745  -4.759  1.00 22.98           C  \\nATOM    234  C   GLY B   8     -24.859  -6.051  -4.209  1.00 20.91           C  \\nATOM    235  O   GLY B   8     -23.911  -5.316  -4.465  1.00 23.25           O  \\nATOM    236  N   SER B   9     -24.741  -7.136  -3.447  1.00 18.12           N  \\nATOM    237  CA  SER B   9     -23.484  -7.444  -2.778  1.00 15.90           C  \\nATOM    238  C   SER B   9     -22.360  -7.702  -3.780  1.00 18.45           C  \\nATOM    239  O   SER B   9     -21.183  -7.509  -3.473  1.00 17.21           O  \\nATOM    240  CB  SER B   9     -23.648  -8.663  -1.863  1.00 19.34           C  \\nATOM    241  OG  SER B   9     -23.919  -9.813  -2.638  1.00 20.35           O  \\nATOM    242  N   HIS B  10     -22.730  -8.151  -4.972  1.00 14.91           N  \\nATOM    243  CA  HIS B  10     -21.764  -8.403  -6.039  1.00 17.86           C  \\nATOM    244  C   HIS B  10     -21.093  -7.097  -6.470  1.00 18.59           C  \\nATOM    245  O   HIS B  10     -19.891  -7.055  -6.725  1.00 17.96           O  \\nATOM    246  CB  HIS B  10     -22.471  -9.047  -7.236  1.00 18.56           C  \\nATOM    247  CG  HIS B  10     -23.081 -10.384  -6.933  1.00 23.08           C  \\nATOM    248  ND1 HIS B  10     -23.461 -11.269  -7.919  1.00 27.72           N  \\nATOM    249  CD2 HIS B  10     -23.366 -10.990  -5.755  1.00 23.69           C  \\nATOM    250  CE1 HIS B  10     -23.951 -12.364  -7.363  1.00 29.56           C  \\nATOM    251  NE2 HIS B  10     -23.906 -12.220  -6.050  1.00 22.03           N  \\nATOM    252  N   LEU B  11     -21.886  -6.037  -6.550  1.00 16.34           N  \\nATOM    253  CA  LEU B  11     -21.398  -4.713  -6.938  1.00 16.50           C  \\nATOM    254  C   LEU B  11     -20.523  -4.120  -5.847  1.00 19.44           C  \\nATOM    255  O   LEU B  11     -19.446  -3.585  -6.105  1.00 17.25           O  \\nATOM    256  CB  LEU B  11     -22.588  -3.788  -7.211  1.00 16.97           C  \\nATOM    257  CG  LEU B  11     -22.268  -2.390  -7.735  1.00 22.79           C  \\nATOM    258  CD1 LEU B  11     -21.211  -2.486  -8.812  1.00 17.51           C  \\nATOM    259  CD2 LEU B  11     -23.529  -1.754  -8.277  1.00 22.41           C  \\nATOM    260  N   VAL B  12     -20.990  -4.218  -4.610  1.00 15.40           N  \\nATOM    261  CA  VAL B  12     -20.242  -3.690  -3.490  1.00 13.81           C  \\nATOM    262  C   VAL B  12     -18.902  -4.422  -3.332  1.00 15.23           C  \\nATOM    263  O   VAL B  12     -17.879  -3.825  -2.988  1.00 14.98           O  \\nATOM    264  CB  VAL B  12     -21.096  -3.776  -2.212  1.00 24.43           C  \\nATOM    265  CG1 VAL B  12     -20.252  -3.609  -1.029  1.00 30.29           C  \\nATOM    266  CG2 VAL B  12     -22.169  -2.694  -2.241  1.00 21.29           C  \\nATOM    267  N   GLU B  13     -18.912  -5.721  -3.589  1.00 14.50           N  \\nATOM    268  CA  GLU B  13     -17.695  -6.515  -3.515  1.00 14.19           C  \\nATOM    269  C   GLU B  13     -16.682  -6.056  -4.574  1.00 15.30           C  \\nATOM    270  O   GLU B  13     -15.481  -5.936  -4.304  1.00 16.00           O  \\nATOM    271  CB  GLU B  13     -18.046  -7.986  -3.712  1.00 22.91           C  \\nATOM    272  CG  GLU B  13     -16.884  -8.875  -4.073  1.00 31.68           C  \\nATOM    273  CD  GLU B  13     -17.296 -10.336  -4.139  1.00 35.29           C  \\nATOM    274  OE1 GLU B  13     -17.726 -10.873  -3.092  1.00 24.65           O  \\nATOM    275  OE2 GLU B  13     -17.204 -10.932  -5.236  1.00 35.79           O  \\nATOM    276  N   ALA B  14     -17.166  -5.811  -5.782  1.00 16.94           N  \\nATOM    277  CA  ALA B  14     -16.298  -5.308  -6.856  1.00 19.02           C  \\nATOM    278  C   ALA B  14     -15.701  -3.941  -6.523  1.00 17.95           C  \\nATOM    279  O   ALA B  14     -14.507  -3.704  -6.731  1.00 16.40           O  \\nATOM    280  CB  ALA B  14     -17.065  -5.240  -8.157  1.00 19.13           C  \\nATOM    281  N   LEU B  15     -16.536  -3.036  -6.021  1.00 15.53           N  \\nATOM    282  CA  LEU B  15     -16.066  -1.724  -5.592  1.00 13.58           C  \\nATOM    283  C   LEU B  15     -14.977  -1.846  -4.540  1.00 20.33           C  \\nATOM    284  O   LEU B  15     -13.957  -1.159  -4.594  1.00 17.96           O  \\nATOM    285  CB  LEU B  15     -17.228  -0.890  -5.054  1.00 17.56           C  \\nATOM    286  CG  LEU B  15     -18.132  -0.253  -6.108  1.00 19.95           C  \\nATOM    287  CD1 LEU B  15     -19.434   0.217  -5.476  1.00 19.70           C  \\nATOM    288  CD2 LEU B  15     -17.420   0.908  -6.806  1.00 19.43           C  \\nATOM    289  N   TYR B  16     -15.196  -2.733  -3.580  1.00 16.41           N  \\nATOM    290  CA  TYR B  16     -14.214  -2.982  -2.528  1.00 14.22           C  \\nATOM    291  C   TYR B  16     -12.884  -3.467  -3.093  1.00 18.76           C  \\nATOM    292  O   TYR B  16     -11.823  -2.978  -2.708  1.00 14.92           O  \\nATOM    293  CB  TYR B  16     -14.766  -4.015  -1.551  1.00 13.58           C  \\nATOM    294  CG  TYR B  16     -13.748  -4.582  -0.595  1.00 15.85           C  \\nATOM    295  CD1 TYR B  16     -13.213  -3.811   0.431  1.00 19.91           C  \\nATOM    296  CD2 TYR B  16     -13.338  -5.909  -0.707  1.00 14.31           C  \\nATOM    297  CE1 TYR B  16     -12.290  -4.347   1.318  1.00 18.93           C  \\nATOM    298  CE2 TYR B  16     -12.419  -6.445   0.163  1.00 16.89           C  \\nATOM    299  CZ  TYR B  16     -11.899  -5.665   1.173  1.00 19.03           C  \\nATOM    300  OH  TYR B  16     -10.991  -6.225   2.037  1.00 19.26           O  \\nATOM    301  N   LEU B  17     -12.941  -4.437  -4.002  1.00 17.26           N  \\nATOM    302  CA  LEU B  17     -11.725  -4.998  -4.583  1.00 17.15           C  \\nATOM    303  C   LEU B  17     -10.983  -3.979  -5.439  1.00 20.48           C  \\nATOM    304  O   LEU B  17      -9.751  -3.889  -5.407  1.00 20.37           O  \\nATOM    305  CB  LEU B  17     -12.060  -6.221  -5.428  1.00 16.44           C  \\nATOM    306  CG  LEU B  17     -12.491  -7.468  -4.651  1.00 17.44           C  \\nATOM    307  CD1 LEU B  17     -12.867  -8.590  -5.593  1.00 22.58           C  \\nATOM    308  CD2 LEU B  17     -11.383  -7.898  -3.717  1.00 22.13           C  \\nATOM    309  N   VAL B  18     -11.738  -3.226  -6.224  1.00 18.15           N  \\nATOM    310  CA  VAL B  18     -11.150  -2.270  -7.151  1.00 18.50           C  \\nATOM    311  C   VAL B  18     -10.557  -1.063  -6.431  1.00 22.53           C  \\nATOM    312  O   VAL B  18      -9.454  -0.628  -6.747  1.00 21.63           O  \\nATOM    313  CB  VAL B  18     -12.188  -1.824  -8.207  1.00 19.51           C  \\nATOM    314  CG1 VAL B  18     -11.714  -0.594  -8.955  1.00 28.07           C  \\nATOM    315  CG2 VAL B  18     -12.468  -2.973  -9.165  1.00 23.98           C  \\nATOM    316  N   CYS B  19     -11.268  -0.548  -5.433  1.00 19.45           N  \\nATOM    317  CA  CYS B  19     -10.874   0.709  -4.803  1.00 21.28           C  \\nATOM    318  C   CYS B  19      -9.819   0.588  -3.702  1.00 26.60           C  \\nATOM    319  O   CYS B  19      -9.167   1.576  -3.355  1.00 25.82           O  \\nATOM    320  CB  CYS B  19     -12.102   1.455  -4.285  1.00 20.90           C  \\nATOM    321  SG  CYS B  19     -13.231   1.932  -5.593  1.00 21.21           S  \\nATOM    322  N   GLY B  20      -9.653  -0.608  -3.150  1.00 25.20           N  \\nATOM    323  CA  GLY B  20      -8.606  -0.825  -2.167  1.00 33.63           C  \\nATOM    324  C   GLY B  20      -8.661   0.162  -1.014  1.00 39.29           C  \\nATOM    325  O   GLY B  20      -9.737   0.464  -0.501  1.00 27.87           O  \\nATOM    326  N   GLU B  21      -7.507   0.678  -0.599  1.00 30.38           N  \\nATOM    327  CA  GLU B  21      -7.474   1.534   0.591  1.00 34.13           C  \\nATOM    328  C   GLU B  21      -8.014   2.944   0.351  1.00 23.63           C  \\nATOM    329  O   GLU B  21      -8.123   3.737   1.283  1.00 35.45           O  \\nATOM    330  CB  GLU B  21      -6.075   1.569   1.220  1.00 45.91           C  \\nATOM    331  CG  GLU B  21      -5.015   2.280   0.401  1.00 57.50           C  \\nATOM    332  CD  GLU B  21      -3.631   2.179   1.034  1.00 75.22           C  \\nATOM    333  OE1 GLU B  21      -2.707   2.876   0.563  1.00 79.46           O  \\nATOM    334  OE2 GLU B  21      -3.470   1.401   2.002  1.00 57.31           O  \\nATOM    335  N   ARG B  22      -8.356   3.251  -0.897  1.00 27.41           N  \\nATOM    336  CA  ARG B  22      -9.040   4.498  -1.213  1.00 28.81           C  \\nATOM    337  C   ARG B  22     -10.456   4.461  -0.645  1.00 33.76           C  \\nATOM    338  O   ARG B  22     -11.008   5.480  -0.235  1.00 31.35           O  \\nATOM    339  CB  ARG B  22      -9.130   4.700  -2.726  1.00 30.48           C  \\nATOM    340  CG  ARG B  22      -7.876   5.228  -3.400  1.00 38.41           C  \\nATOM    341  CD  ARG B  22      -8.072   5.288  -4.922  1.00 44.34           C  \\nATOM    342  NE  ARG B  22      -8.003   3.963  -5.546  1.00 61.53           N  \\nATOM    343  CZ  ARG B  22      -8.246   3.711  -6.833  1.00 56.00           C  \\nATOM    344  NH1 ARG B  22      -8.151   2.467  -7.288  1.00 37.21           N  \\nATOM    345  NH2 ARG B  22      -8.588   4.690  -7.664  1.00 33.73           N  \\nATOM    346  N   GLY B  23     -11.048   3.276  -0.627  1.00 23.72           N  \\nATOM    347  CA  GLY B  23     -12.442   3.151  -0.243  1.00 25.22           C  \\nATOM    348  C   GLY B  23     -13.323   3.633  -1.376  1.00 26.84           C  \\nATOM    349  O   GLY B  23     -12.832   3.954  -2.460  1.00 20.71           O  \\nATOM    350  N   PHE B  24     -14.625   3.700  -1.132  1.00 18.98           N  \\nATOM    351  CA  PHE B  24     -15.558   4.055  -2.188  1.00 17.55           C  \\nATOM    352  C   PHE B  24     -16.875   4.561  -1.614  1.00 23.50           C  \\nATOM    353  O   PHE B  24     -17.092   4.530  -0.402  1.00 24.02           O  \\nATOM    354  CB  PHE B  24     -15.811   2.837  -3.086  1.00 17.36           C  \\nATOM    355  CG  PHE B  24     -16.428   1.661  -2.361  1.00 19.89           C  \\nATOM    356  CD1 PHE B  24     -15.628   0.691  -1.776  1.00 18.48           C  \\nATOM    357  CD2 PHE B  24     -17.811   1.527  -2.269  1.00 22.89           C  \\nATOM    358  CE1 PHE B  24     -16.189  -0.390  -1.107  1.00 21.90           C  \\nATOM    359  CE2 PHE B  24     -18.378   0.446  -1.597  1.00 19.48           C  \\nATOM    360  CZ  PHE B  24     -17.562  -0.513  -1.015  1.00 19.73           C  \\nATOM    361  N   PHE B  25     -17.742   5.048  -2.487  1.00 23.02           N  \\nATOM    362  CA  PHE B  25     -19.108   5.343  -2.088  1.00 26.05           C  \\nATOM    363  C   PHE B  25     -20.081   4.558  -2.948  1.00 29.87           C  \\nATOM    364  O   PHE B  25     -19.912   4.448  -4.158  1.00 25.71           O  \\nATOM    365  CB  PHE B  25     -19.410   6.848  -2.118  1.00 30.50           C  \\nATOM    366  CG  PHE B  25     -19.035   7.523  -3.399  1.00 36.46           C  \\nATOM    367  CD1 PHE B  25     -17.729   7.929  -3.625  1.00 41.85           C  \\nATOM    368  CD2 PHE B  25     -19.989   7.772  -4.374  1.00 47.50           C  \\nATOM    369  CE1 PHE B  25     -17.376   8.562  -4.808  1.00 51.84           C  \\nATOM    370  CE2 PHE B  25     -19.645   8.407  -5.560  1.00 37.96           C  \\nATOM    371  CZ  PHE B  25     -18.336   8.802  -5.778  1.00 47.77           C  \\nATOM    372  N   TYR B  26     -21.090   3.991  -2.301  1.00 26.11           N  \\nATOM    373  CA  TYR B  26     -22.087   3.184  -2.976  1.00 19.37           C  \\nATOM    374  C   TYR B  26     -23.429   3.866  -2.826  1.00 26.37           C  \\nATOM    375  O   TYR B  26     -23.966   3.954  -1.726  1.00 25.08           O  \\nATOM    376  CB  TYR B  26     -22.136   1.795  -2.350  1.00 18.99           C  \\nATOM    377  CG  TYR B  26     -23.255   0.930  -2.876  1.00 21.56           C  \\nATOM    378  CD1 TYR B  26     -24.280   0.506  -2.042  1.00 24.62           C  \\nATOM    379  CD2 TYR B  26     -23.285   0.533  -4.203  1.00 23.44           C  \\nATOM    380  CE1 TYR B  26     -25.304  -0.295  -2.516  1.00 26.30           C  \\nATOM    381  CE2 TYR B  26     -24.304  -0.265  -4.690  1.00 25.09           C  \\nATOM    382  CZ  TYR B  26     -25.313  -0.675  -3.842  1.00 27.86           C  \\nATOM    383  OH  TYR B  26     -26.328  -1.469  -4.320  1.00 29.25           O  \\nATOM    384  N   THR B  27     -23.960   4.365  -3.936  1.00 28.14           N  \\nATOM    385  CA  THR B  27     -25.185   5.147  -3.909  1.00 37.14           C  \\nATOM    386  C   THR B  27     -26.169   4.594  -4.936  1.00 32.53           C  \\nATOM    387  O   THR B  27     -26.193   5.035  -6.082  1.00 36.20           O  \\nATOM    388  CB  THR B  27     -24.889   6.637  -4.188  1.00 36.89           C  \\nATOM    389  OG1 THR B  27     -24.271   6.772  -5.473  1.00 57.47           O  \\nATOM    390  CG2 THR B  27     -23.936   7.182  -3.151  1.00 33.01           C  \\nATOM    391  N   PRO B  28     -26.989   3.620  -4.517  1.00 29.25           N  \\nATOM    392  CA  PRO B  28     -27.893   2.887  -5.411  1.00 32.94           C  \\nATOM    393  C   PRO B  28     -29.081   3.726  -5.872  1.00 32.76           C  \\nATOM    394  O   PRO B  28     -29.671   3.417  -6.908  1.00 36.05           O  \\nATOM    395  CB  PRO B  28     -28.401   1.730  -4.542  1.00 31.48           C  \\nATOM    396  CG  PRO B  28     -27.658   1.813  -3.247  1.00 28.54           C  \\nATOM    397  CD  PRO B  28     -27.128   3.190  -3.118  1.00 34.39           C  \\nATOM    398  N   LYS B  29     -29.436   4.751  -5.105  1.00 34.79           N  \\nATOM    399  CA  LYS B  29     -30.532   5.642  -5.483  1.00 49.07           C  \\nATOM    400  C   LYS B  29     -30.051   6.834  -6.309  1.00 63.70           C  \\nATOM    401  O   LYS B  29     -30.669   7.191  -7.315  1.00 73.47           O  \\nATOM    402  CB  LYS B  29     -31.305   6.122  -4.251  1.00 62.86           C  \\nATOM    403  CG  LYS B  29     -32.706   5.526  -4.105  1.00 74.15           C  \\nATOM    404  CD  LYS B  29     -32.690   4.118  -3.525  1.00 72.32           C  \\nATOM    405  CE  LYS B  29     -32.356   3.061  -4.572  1.00 68.55           C  \\nATOM    406  NZ  LYS B  29     -33.458   2.854  -5.553  1.00 59.40           N  \\nATOM    407  N   ALA B  30     -28.950   7.446  -5.884  1.00 72.05           N  \\nATOM    408  CA  ALA B  30     -28.366   8.568  -6.616  1.00 74.07           C  \\nATOM    409  C   ALA B  30     -27.782   8.115  -7.955  1.00 73.01           C  \\nATOM    410  O   ALA B  30     -27.485   8.928  -8.831  1.00 64.47           O  \\nATOM    411  CB  ALA B  30     -27.302   9.269  -5.772  1.00 56.14           C  \\nATOM    412  OXT ALA B  30     -27.594   6.921  -8.197  1.00 73.19           O  \\nTER     413      ALA B  30                                                      \\nHETATM  414  O   HOH A  22     -29.500  -7.696 -14.149  1.00 50.68           O  \\nHETATM  415  O   HOH A  23     -11.374  10.214 -16.391  1.00 40.62           O  \\nHETATM  416  O   HOH A  24     -11.187   9.560 -19.007  1.00 44.09           O  \\nHETATM  417  O   HOH A  25     -22.708  -0.422 -18.245  1.00 25.03           O  \\nHETATM  418  O   HOH A  26     -17.282   8.923   0.122  1.00 44.14           O  \\nHETATM  419  O   HOH A  27     -27.802  -5.289 -20.151  1.00 41.02           O  \\nHETATM  420  O   HOH A  28     -13.732   9.674 -11.684  1.00 48.35           O  \\nHETATM  421  O   HOH A  29     -26.166   6.685 -14.912  1.00 50.84           O  \\nHETATM  422  O   HOH A  30     -30.826  -5.812 -17.868  1.00 54.11           O  \\nHETATM  423  O   HOH A  31     -14.803   9.989  -8.715  1.00 62.79           O  \\nHETATM  424  O   HOH A  32     -19.609   9.964  -9.626  1.00 46.30           O  \\nHETATM  425  O   HOH A  33     -13.690  11.749 -14.300  1.00 49.90           O  \\nHETATM  426  O   HOH B  31     -24.729  10.263 -12.014  1.00 61.01           O  \\nHETATM  427  O   HOH B  32     -20.724 -10.273 -19.319  1.00 52.72           O  \\nHETATM  428  O   HOH B  33     -17.700 -13.422  -2.674  1.00 25.54           O  \\nHETATM  429  O   HOH B  34     -28.494  10.301 -14.536  1.00 56.88           O  \\nHETATM  430  O   HOH B  35     -24.545   6.027  -8.162  1.00 32.84           O  \\nHETATM  431  O   HOH B  36     -27.182  -2.924  -7.024  1.00 27.65           O  \\nHETATM  432  O   HOH B  37     -24.782  -9.599  -9.935  1.00 26.60           O  \\nHETATM  433  O   HOH B  38     -14.505  -9.421 -15.869  1.00 44.83           O  \\nHETATM  434  O   HOH B  39     -28.442  -1.829  -2.831  1.00 43.18           O  \\nHETATM  435  O   HOH B  40     -12.046  -0.492  -0.930  1.00 25.29           O  \\nHETATM  436  O   HOH B  41     -18.702  -9.557  -7.601  1.00 29.84           O  \\nHETATM  437  O   HOH B  42      -8.200  -0.632  -9.134  1.00 32.65           O  \\nHETATM  438  O   HOH B  43     -15.277 -10.853  -7.465  1.00 43.14           O  \\nHETATM  439  O   HOH B  44     -22.107   4.402  -6.065  1.00 31.09           O  \\nHETATM  440  O   HOH B  45      -5.206   0.010  -2.235  1.00 43.01           O  \\nHETATM  441  O   HOH B  46     -26.729  -9.715  -6.146  1.00 30.80           O  \\nHETATM  442  O   HOH B  47     -27.875   3.972  -9.042  1.00 40.15           O  \\nHETATM  443  O   HOH B  48     -20.453  -7.642  -0.550  1.00 34.77           O  \\nHETATM  444  O   HOH B  49     -17.760 -10.041  -0.552  1.00 37.12           O  \\nHETATM  445  O   HOH B  50     -22.932 -10.505 -16.556  1.00 47.78           O  \\nHETATM  446  O   HOH B  51     -28.195   5.830  -2.571  1.00 53.39           O  \\nHETATM  447  O   HOH B  52     -17.118 -11.123 -18.586  1.00 52.94           O  \\nHETATM  448  O   HOH B  53     -27.581   8.994 -11.659  1.00 53.89           O  \\nCONECT   43   76                                                                \\nCONECT   49  231                                                                \\nCONECT   76   43                                                                \\nCONECT  162  321                                                                \\nCONECT  231   49                                                                \\nCONECT  321  162                                                                \\nMASTER      278    0    0    4    0    0    0    6  438    2    6    5          \\nEND                                                                             \\n\",\"pdb\");\n",
              "\tviewer_17585835590427175.setStyle(\"stick\");\n",
              "\tviewer_17585835590427175.zoomTo();\n",
              "viewer_17585835590427175.render();\n",
              "});\n",
              "</script>"
            ]
          },
          "metadata": {}
        }
      ]
    },
    {
      "cell_type": "markdown",
      "source": [
        "**Task 4 [1 point]**: Change the visualization style for the SARS-CoV-spike protein to the 'cartoon style'. For large molecules like this, the 'cartoon' visualization style is useful to see the overall structure of the protein without seeing each individual bond.\n"
      ],
      "metadata": {
        "id": "LrjYypIdvTGC"
      }
    },
    {
      "cell_type": "code",
      "source": [
        "# Choose a PDB ID from the Protein Data Bank\n",
        "pdb_id = \"3I40\"  ### YOUR SOLUTION HERE\n",
        "\n",
        "# Fetch the PDB file text from RCSB\n",
        "pdb_url = f\"https://files.rcsb.org/download/{pdb_id}.pdb\"\n",
        "protein = requests.get(pdb_url).text\n",
        "\n",
        "# Create the viewer\n",
        "view = py3Dmol.view(width=600, height=400)\n",
        "view.addModel(protein, \"pdb\")                      # load the protein\n",
        "view.setStyle('stick')  ### YOUR SOLUTION HERE\n",
        "view.zoomTo()\n",
        "view.show()"
      ],
      "metadata": {
        "colab": {
          "base_uri": "https://localhost:8080/",
          "height": 417
        },
        "id": "PG6ZStNavtBJ",
        "outputId": "43698835-5746-429a-f6e5-2c2b4d8f28e2"
      },
      "execution_count": null,
      "outputs": [
        {
          "output_type": "display_data",
          "data": {
            "application/3dmoljs_load.v0": "<div id=\"3dmolviewer_17585835771094975\"  style=\"position: relative; width: 600px; height: 400px;\">\n        <p id=\"3dmolwarning_17585835771094975\" style=\"background-color:#ffcccc;color:black\">3Dmol.js failed to load for some reason.  Please check your browser console for error messages.<br></p>\n        </div>\n<script>\n\nvar loadScriptAsync = function(uri){\n  return new Promise((resolve, reject) => {\n    //this is to ignore the existence of requirejs amd\n    var savedexports, savedmodule;\n    if (typeof exports !== 'undefined') savedexports = exports;\n    else exports = {}\n    if (typeof module !== 'undefined') savedmodule = module;\n    else module = {}\n\n    var tag = document.createElement('script');\n    tag.src = uri;\n    tag.async = true;\n    tag.onload = () => {\n        exports = savedexports;\n        module = savedmodule;\n        resolve();\n    };\n  var firstScriptTag = document.getElementsByTagName('script')[0];\n  firstScriptTag.parentNode.insertBefore(tag, firstScriptTag);\n});\n};\n\nif(typeof $3Dmolpromise === 'undefined') {\n$3Dmolpromise = null;\n  $3Dmolpromise = loadScriptAsync('https://cdn.jsdelivr.net/npm/3dmol@2.5.2/build/3Dmol-min.js');\n}\n\nvar viewer_17585835771094975 = null;\nvar warn = document.getElementById(\"3dmolwarning_17585835771094975\");\nif(warn) {\n    warn.parentNode.removeChild(warn);\n}\n$3Dmolpromise.then(function() {\nviewer_17585835771094975 = $3Dmol.createViewer(document.getElementById(\"3dmolviewer_17585835771094975\"),{backgroundColor:\"white\"});\nviewer_17585835771094975.zoomTo();\n\tviewer_17585835771094975.addModel(\"HEADER    HORMONE                                 01-JUL-09   3I40              \\nTITLE     HUMAN INSULIN                                                         \\nCOMPND    MOL_ID: 1;                                                            \\nCOMPND   2 MOLECULE: INSULIN A CHAIN;                                           \\nCOMPND   3 CHAIN: A;                                                            \\nCOMPND   4 ENGINEERED: YES;                                                     \\nCOMPND   5 MOL_ID: 2;                                                           \\nCOMPND   6 MOLECULE: INSULIN B CHAIN;                                           \\nCOMPND   7 CHAIN: B;                                                            \\nCOMPND   8 ENGINEERED: YES                                                      \\nSOURCE    MOL_ID: 1;                                                            \\nSOURCE   2 ORGANISM_SCIENTIFIC: HOMO SAPIENS;                                   \\nSOURCE   3 ORGANISM_COMMON: HUMAN;                                              \\nSOURCE   4 ORGANISM_TAXID: 9606;                                                \\nSOURCE   5 EXPRESSION_SYSTEM: ESCHERICHIA COLI;                                 \\nSOURCE   6 EXPRESSION_SYSTEM_TAXID: 562;                                        \\nSOURCE   7 MOL_ID: 2;                                                           \\nSOURCE   8 ORGANISM_SCIENTIFIC: HOMO SAPIENS;                                   \\nSOURCE   9 ORGANISM_COMMON: HUMAN;                                              \\nSOURCE  10 ORGANISM_TAXID: 9606;                                                \\nSOURCE  11 EXPRESSION_SYSTEM: ESCHERICHIA COLI;                                 \\nSOURCE  12 EXPRESSION_SYSTEM_TAXID: 562                                         \\nKEYWDS    INSULIN, CARBOHYDRATE METABOLISM, CLEAVAGE ON PAIR OF BASIC RESIDUES, \\nKEYWDS   2 DIABETES MELLITUS, DISEASE MUTATION, DISULFIDE BOND, GLUCOSE         \\nKEYWDS   3 METABOLISM, HORMONE, SECRETED                                        \\nEXPDTA    X-RAY DIFFRACTION                                                     \\nAUTHOR    V.I.TIMOFEEV,V.V.BEZUGLOV,K.A.MIROSHNIKOV,R.N.CHUPROV-NETOCHIN,       \\nAUTHOR   2 I.P.KURANOVA                                                         \\nREVDAT   4   06-NOV-24 3I40    1       REMARK                                   \\nREVDAT   3   01-NOV-23 3I40    1       REMARK                                   \\nREVDAT   2   05-MAY-10 3I40    1       JRNL                                     \\nREVDAT   1   05-JAN-10 3I40    0                                                \\nJRNL        AUTH   V.I.TIMOFEEV,R.N.CHUPROV-NETOCHIN,V.R.SAMIGINA,V.V.BEZUGLOV, \\nJRNL        AUTH 2 K.A.MIROSHNIKOV,I.P.KURANOVA                                 \\nJRNL        TITL   X-RAY INVESTIGATION OF GENE-ENGINEERED HUMAN INSULIN         \\nJRNL        TITL 2 CRYSTALLIZED FROM A SOLUTION CONTAINING POLYSIALIC ACID.     \\nJRNL        REF    ACTA CRYSTALLOGR.,SECT.F      V.  66   259 2010              \\nJRNL        REFN                   ESSN 1744-3091                               \\nJRNL        PMID   20208155                                                     \\nJRNL        DOI    10.1107/S1744309110000461                                    \\nREMARK   2                                                                      \\nREMARK   2 RESOLUTION.    1.85 ANGSTROMS.                                       \\nREMARK   3                                                                      \\nREMARK   3 REFINEMENT.                                                          \\nREMARK   3   PROGRAM     : PHENIX (PHENIX.REFINE)                               \\nREMARK   3   AUTHORS     : PAUL ADAMS,PAVEL AFONINE,VINCENT CHEN,IAN            \\nREMARK   3               : DAVIS,KRESHNA GOPAL,RALF GROSSE-KUNSTLEVE,           \\nREMARK   3               : LI-WEI HUNG,ROBERT IMMORMINO,TOM IOERGER,            \\nREMARK   3               : AIRLIE MCCOY,ERIK MCKEE,NIGEL MORIARTY,              \\nREMARK   3               : REETAL PAI,RANDY READ,JANE RICHARDSON,               \\nREMARK   3               : DAVID RICHARDSON,TOD ROMO,JIM SACCHETTINI,           \\nREMARK   3               : NICHOLAS SAUTER,JACOB SMITH,LAURENT                  \\nREMARK   3               : STORONI,TOM TERWILLIGER,PETER ZWART                  \\nREMARK   3                                                                      \\nREMARK   3    REFINEMENT TARGET : ML                                            \\nREMARK   3                                                                      \\nREMARK   3  DATA USED IN REFINEMENT.                                            \\nREMARK   3   RESOLUTION RANGE HIGH (ANGSTROMS) : 1.85                           \\nREMARK   3   RESOLUTION RANGE LOW  (ANGSTROMS) : 31.53                          \\nREMARK   3   MIN(FOBS/SIGMA_FOBS)              : 0.000                          \\nREMARK   3   COMPLETENESS FOR RANGE        (%) : 99.1                           \\nREMARK   3   NUMBER OF REFLECTIONS             : 6640                           \\nREMARK   3                                                                      \\nREMARK   3  FIT TO DATA USED IN REFINEMENT.                                     \\nREMARK   3   R VALUE     (WORKING + TEST SET) : 0.202                           \\nREMARK   3   R VALUE            (WORKING SET) : 0.200                           \\nREMARK   3   FREE R VALUE                     : 0.228                           \\nREMARK   3   FREE R VALUE TEST SET SIZE   (%) : 4.760                           \\nREMARK   3   FREE R VALUE TEST SET COUNT      : 316                             \\nREMARK   3                                                                      \\nREMARK   3  FIT TO DATA USED IN REFINEMENT (IN BINS).                           \\nREMARK   3   BIN  RESOLUTION RANGE  COMPL.    NWORK NFREE   RWORK  RFREE        \\nREMARK   3     1 31.5295 -  2.3309    1.00     3219   154  0.1910 0.2145        \\nREMARK   3     2  2.3309 -  1.8501    0.99     3105   162  0.2301 0.2627        \\nREMARK   3                                                                      \\nREMARK   3  BULK SOLVENT MODELLING.                                             \\nREMARK   3   METHOD USED        : FLAT BULK SOLVENT MODEL                       \\nREMARK   3   SOLVENT RADIUS     : 1.11                                          \\nREMARK   3   SHRINKAGE RADIUS   : 0.90                                          \\nREMARK   3   K_SOL              : 0.35                                          \\nREMARK   3   B_SOL              : 47.05                                         \\nREMARK   3                                                                      \\nREMARK   3  ERROR ESTIMATES.                                                    \\nREMARK   3   COORDINATE ERROR (MAXIMUM-LIKELIHOOD BASED)     : 0.240            \\nREMARK   3   PHASE ERROR (DEGREES, MAXIMUM-LIKELIHOOD BASED) : 24.930           \\nREMARK   3                                                                      \\nREMARK   3  B VALUES.                                                           \\nREMARK   3   FROM WILSON PLOT           (A**2) : 24.04                          \\nREMARK   3   MEAN B VALUE      (OVERALL, A**2) : 30.30                          \\nREMARK   3   OVERALL ANISOTROPIC B VALUE.                                       \\nREMARK   3    B11 (A**2) : NULL                                                 \\nREMARK   3    B22 (A**2) : NULL                                                 \\nREMARK   3    B33 (A**2) : NULL                                                 \\nREMARK   3    B12 (A**2) : NULL                                                 \\nREMARK   3    B13 (A**2) : NULL                                                 \\nREMARK   3    B23 (A**2) : NULL                                                 \\nREMARK   3                                                                      \\nREMARK   3  TWINNING INFORMATION.                                               \\nREMARK   3   FRACTION: NULL                                                     \\nREMARK   3   OPERATOR: NULL                                                     \\nREMARK   3                                                                      \\nREMARK   3  DEVIATIONS FROM IDEAL VALUES.                                       \\nREMARK   3                 RMSD          COUNT                                  \\nREMARK   3   BOND      :  0.005            423                                  \\nREMARK   3   ANGLE     :  0.760            569                                  \\nREMARK   3   CHIRALITY :  0.068             62                                  \\nREMARK   3   PLANARITY :  0.002             73                                  \\nREMARK   3   DIHEDRAL  : 17.205            141                                  \\nREMARK   3                                                                      \\nREMARK   3  TLS DETAILS                                                         \\nREMARK   3   NUMBER OF TLS GROUPS  : NULL                                       \\nREMARK   3                                                                      \\nREMARK   3  NCS DETAILS                                                         \\nREMARK   3   NUMBER OF NCS GROUPS : NULL                                        \\nREMARK   3                                                                      \\nREMARK   3  OTHER REFINEMENT REMARKS: NULL                                      \\nREMARK   4                                                                      \\nREMARK   4 3I40 COMPLIES WITH FORMAT V. 3.30, 13-JUL-11                         \\nREMARK 100                                                                      \\nREMARK 100 THIS ENTRY HAS BEEN PROCESSED BY PDBJ ON 06-JUL-09.                  \\nREMARK 100 THE DEPOSITION ID IS D_1000053935.                                   \\nREMARK 200                                                                      \\nREMARK 200 EXPERIMENTAL DETAILS                                                 \\nREMARK 200  EXPERIMENT TYPE                : X-RAY DIFFRACTION                  \\nREMARK 200  DATE OF DATA COLLECTION        : 10-MAR-09                          \\nREMARK 200  TEMPERATURE           (KELVIN) : 100                                \\nREMARK 200  PH                             : NULL                               \\nREMARK 200  NUMBER OF CRYSTALS USED        : 1                                  \\nREMARK 200                                                                      \\nREMARK 200  SYNCHROTRON              (Y/N) : N                                  \\nREMARK 200  RADIATION SOURCE               : ROTATING ANODE                     \\nREMARK 200  BEAMLINE                       : NULL                               \\nREMARK 200  X-RAY GENERATOR MODEL          : BRUKER AXS MICROSTAR               \\nREMARK 200  MONOCHROMATIC OR LAUE    (M/L) : M                                  \\nREMARK 200  WAVELENGTH OR RANGE        (A) : NULL                               \\nREMARK 200  MONOCHROMATOR                  : NULL                               \\nREMARK 200  OPTICS                         : NULL                               \\nREMARK 200                                                                      \\nREMARK 200  DETECTOR TYPE                  : CCD                                \\nREMARK 200  DETECTOR MANUFACTURER          : MAR CCD 165 MM                     \\nREMARK 200  INTENSITY-INTEGRATION SOFTWARE : DENZO                              \\nREMARK 200  DATA SCALING SOFTWARE          : NULL                               \\nREMARK 200                                                                      \\nREMARK 200  NUMBER OF UNIQUE REFLECTIONS   : 6677                               \\nREMARK 200  RESOLUTION RANGE HIGH      (A) : 1.850                              \\nREMARK 200  RESOLUTION RANGE LOW       (A) : 54.636                             \\nREMARK 200  REJECTION CRITERIA  (SIGMA(I)) : NULL                               \\nREMARK 200                                                                      \\nREMARK 200 OVERALL.                                                             \\nREMARK 200  COMPLETENESS FOR RANGE     (%) : NULL                               \\nREMARK 200  DATA REDUNDANCY                : NULL                               \\nREMARK 200  R MERGE                    (I) : NULL                               \\nREMARK 200  R SYM                      (I) : NULL                               \\nREMARK 200  <I/SIGMA(I)> FOR THE DATA SET  : NULL                               \\nREMARK 200                                                                      \\nREMARK 200 IN THE HIGHEST RESOLUTION SHELL.                                     \\nREMARK 200  HIGHEST RESOLUTION SHELL, RANGE HIGH (A) : NULL                     \\nREMARK 200  HIGHEST RESOLUTION SHELL, RANGE LOW  (A) : NULL                     \\nREMARK 200  COMPLETENESS FOR SHELL     (%) : NULL                               \\nREMARK 200  DATA REDUNDANCY IN SHELL       : NULL                               \\nREMARK 200  R MERGE FOR SHELL          (I) : NULL                               \\nREMARK 200  R SYM FOR SHELL            (I) : NULL                               \\nREMARK 200  <I/SIGMA(I)> FOR SHELL         : NULL                               \\nREMARK 200                                                                      \\nREMARK 200 DIFFRACTION PROTOCOL: SINGLE WAVELENGTH                              \\nREMARK 200 METHOD USED TO DETERMINE THE STRUCTURE: MOLECULAR REPLACEMENT        \\nREMARK 200 SOFTWARE USED: NULL                                                  \\nREMARK 200 STARTING MODEL: PDB ENTRY 2G4M                                       \\nREMARK 200                                                                      \\nREMARK 200 REMARK: NULL                                                         \\nREMARK 280                                                                      \\nREMARK 280 CRYSTAL                                                              \\nREMARK 280 SOLVENT CONTENT, VS   (%): 62.90                                     \\nREMARK 280 MATTHEWS COEFFICIENT, VM (ANGSTROMS**3/DA): 3.31                     \\nREMARK 280                                                                      \\nREMARK 280 CRYSTALLIZATION CONDITIONS: NULL                                     \\nREMARK 290                                                                      \\nREMARK 290 CRYSTALLOGRAPHIC SYMMETRY                                            \\nREMARK 290 SYMMETRY OPERATORS FOR SPACE GROUP: I 21 3                           \\nREMARK 290                                                                      \\nREMARK 290      SYMOP   SYMMETRY                                                \\nREMARK 290     NNNMMM   OPERATOR                                                \\nREMARK 290       1555   X,Y,Z                                                   \\nREMARK 290       2555   -X+1/2,-Y,Z+1/2                                         \\nREMARK 290       3555   -X,Y+1/2,-Z+1/2                                         \\nREMARK 290       4555   X+1/2,-Y+1/2,-Z                                         \\nREMARK 290       5555   Z,X,Y                                                   \\nREMARK 290       6555   Z+1/2,-X+1/2,-Y                                         \\nREMARK 290       7555   -Z+1/2,-X,Y+1/2                                         \\nREMARK 290       8555   -Z,X+1/2,-Y+1/2                                         \\nREMARK 290       9555   Y,Z,X                                                   \\nREMARK 290      10555   -Y,Z+1/2,-X+1/2                                         \\nREMARK 290      11555   Y+1/2,-Z+1/2,-X                                         \\nREMARK 290      12555   -Y+1/2,-Z,X+1/2                                         \\nREMARK 290      13555   X+1/2,Y+1/2,Z+1/2                                       \\nREMARK 290      14555   -X,-Y+1/2,Z                                             \\nREMARK 290      15555   -X+1/2,Y,-Z                                             \\nREMARK 290      16555   X,-Y,-Z+1/2                                             \\nREMARK 290      17555   Z+1/2,X+1/2,Y+1/2                                       \\nREMARK 290      18555   Z,-X,-Y+1/2                                             \\nREMARK 290      19555   -Z,-X+1/2,Y                                             \\nREMARK 290      20555   -Z+1/2,X,-Y                                             \\nREMARK 290      21555   Y+1/2,Z+1/2,X+1/2                                       \\nREMARK 290      22555   -Y+1/2,Z,-X                                             \\nREMARK 290      23555   Y,-Z,-X+1/2                                             \\nREMARK 290      24555   -Y,-Z+1/2,X                                             \\nREMARK 290                                                                      \\nREMARK 290     WHERE NNN -> OPERATOR NUMBER                                     \\nREMARK 290           MMM -> TRANSLATION VECTOR                                  \\nREMARK 290                                                                      \\nREMARK 290 CRYSTALLOGRAPHIC SYMMETRY TRANSFORMATIONS                            \\nREMARK 290 THE FOLLOWING TRANSFORMATIONS OPERATE ON THE ATOM/HETATM             \\nREMARK 290 RECORDS IN THIS ENTRY TO PRODUCE CRYSTALLOGRAPHICALLY                \\nREMARK 290 RELATED MOLECULES.                                                   \\nREMARK 290   SMTRY1   1  1.000000  0.000000  0.000000        0.00000            \\nREMARK 290   SMTRY2   1  0.000000  1.000000  0.000000        0.00000            \\nREMARK 290   SMTRY3   1  0.000000  0.000000  1.000000        0.00000            \\nREMARK 290   SMTRY1   2 -1.000000  0.000000  0.000000       38.61000            \\nREMARK 290   SMTRY2   2  0.000000 -1.000000  0.000000        0.00000            \\nREMARK 290   SMTRY3   2  0.000000  0.000000  1.000000       38.61000            \\nREMARK 290   SMTRY1   3 -1.000000  0.000000  0.000000        0.00000            \\nREMARK 290   SMTRY2   3  0.000000  1.000000  0.000000       38.61000            \\nREMARK 290   SMTRY3   3  0.000000  0.000000 -1.000000       38.61000            \\nREMARK 290   SMTRY1   4  1.000000  0.000000  0.000000       38.61000            \\nREMARK 290   SMTRY2   4  0.000000 -1.000000  0.000000       38.61000            \\nREMARK 290   SMTRY3   4  0.000000  0.000000 -1.000000        0.00000            \\nREMARK 290   SMTRY1   5  0.000000  0.000000  1.000000        0.00000            \\nREMARK 290   SMTRY2   5  1.000000  0.000000  0.000000        0.00000            \\nREMARK 290   SMTRY3   5  0.000000  1.000000  0.000000        0.00000            \\nREMARK 290   SMTRY1   6  0.000000  0.000000  1.000000       38.61000            \\nREMARK 290   SMTRY2   6 -1.000000  0.000000  0.000000       38.61000            \\nREMARK 290   SMTRY3   6  0.000000 -1.000000  0.000000        0.00000            \\nREMARK 290   SMTRY1   7  0.000000  0.000000 -1.000000       38.61000            \\nREMARK 290   SMTRY2   7 -1.000000  0.000000  0.000000        0.00000            \\nREMARK 290   SMTRY3   7  0.000000  1.000000  0.000000       38.61000            \\nREMARK 290   SMTRY1   8  0.000000  0.000000 -1.000000        0.00000            \\nREMARK 290   SMTRY2   8  1.000000  0.000000  0.000000       38.61000            \\nREMARK 290   SMTRY3   8  0.000000 -1.000000  0.000000       38.61000            \\nREMARK 290   SMTRY1   9  0.000000  1.000000  0.000000        0.00000            \\nREMARK 290   SMTRY2   9  0.000000  0.000000  1.000000        0.00000            \\nREMARK 290   SMTRY3   9  1.000000  0.000000  0.000000        0.00000            \\nREMARK 290   SMTRY1  10  0.000000 -1.000000  0.000000        0.00000            \\nREMARK 290   SMTRY2  10  0.000000  0.000000  1.000000       38.61000            \\nREMARK 290   SMTRY3  10 -1.000000  0.000000  0.000000       38.61000            \\nREMARK 290   SMTRY1  11  0.000000  1.000000  0.000000       38.61000            \\nREMARK 290   SMTRY2  11  0.000000  0.000000 -1.000000       38.61000            \\nREMARK 290   SMTRY3  11 -1.000000  0.000000  0.000000        0.00000            \\nREMARK 290   SMTRY1  12  0.000000 -1.000000  0.000000       38.61000            \\nREMARK 290   SMTRY2  12  0.000000  0.000000 -1.000000        0.00000            \\nREMARK 290   SMTRY3  12  1.000000  0.000000  0.000000       38.61000            \\nREMARK 290   SMTRY1  13  1.000000  0.000000  0.000000       38.61000            \\nREMARK 290   SMTRY2  13  0.000000  1.000000  0.000000       38.61000            \\nREMARK 290   SMTRY3  13  0.000000  0.000000  1.000000       38.61000            \\nREMARK 290   SMTRY1  14 -1.000000  0.000000  0.000000        0.00000            \\nREMARK 290   SMTRY2  14  0.000000 -1.000000  0.000000       38.61000            \\nREMARK 290   SMTRY3  14  0.000000  0.000000  1.000000        0.00000            \\nREMARK 290   SMTRY1  15 -1.000000  0.000000  0.000000       38.61000            \\nREMARK 290   SMTRY2  15  0.000000  1.000000  0.000000        0.00000            \\nREMARK 290   SMTRY3  15  0.000000  0.000000 -1.000000        0.00000            \\nREMARK 290   SMTRY1  16  1.000000  0.000000  0.000000        0.00000            \\nREMARK 290   SMTRY2  16  0.000000 -1.000000  0.000000        0.00000            \\nREMARK 290   SMTRY3  16  0.000000  0.000000 -1.000000       38.61000            \\nREMARK 290   SMTRY1  17  0.000000  0.000000  1.000000       38.61000            \\nREMARK 290   SMTRY2  17  1.000000  0.000000  0.000000       38.61000            \\nREMARK 290   SMTRY3  17  0.000000  1.000000  0.000000       38.61000            \\nREMARK 290   SMTRY1  18  0.000000  0.000000  1.000000        0.00000            \\nREMARK 290   SMTRY2  18 -1.000000  0.000000  0.000000        0.00000            \\nREMARK 290   SMTRY3  18  0.000000 -1.000000  0.000000       38.61000            \\nREMARK 290   SMTRY1  19  0.000000  0.000000 -1.000000        0.00000            \\nREMARK 290   SMTRY2  19 -1.000000  0.000000  0.000000       38.61000            \\nREMARK 290   SMTRY3  19  0.000000  1.000000  0.000000        0.00000            \\nREMARK 290   SMTRY1  20  0.000000  0.000000 -1.000000       38.61000            \\nREMARK 290   SMTRY2  20  1.000000  0.000000  0.000000        0.00000            \\nREMARK 290   SMTRY3  20  0.000000 -1.000000  0.000000        0.00000            \\nREMARK 290   SMTRY1  21  0.000000  1.000000  0.000000       38.61000            \\nREMARK 290   SMTRY2  21  0.000000  0.000000  1.000000       38.61000            \\nREMARK 290   SMTRY3  21  1.000000  0.000000  0.000000       38.61000            \\nREMARK 290   SMTRY1  22  0.000000 -1.000000  0.000000       38.61000            \\nREMARK 290   SMTRY2  22  0.000000  0.000000  1.000000        0.00000            \\nREMARK 290   SMTRY3  22 -1.000000  0.000000  0.000000        0.00000            \\nREMARK 290   SMTRY1  23  0.000000  1.000000  0.000000        0.00000            \\nREMARK 290   SMTRY2  23  0.000000  0.000000 -1.000000        0.00000            \\nREMARK 290   SMTRY3  23 -1.000000  0.000000  0.000000       38.61000            \\nREMARK 290   SMTRY1  24  0.000000 -1.000000  0.000000        0.00000            \\nREMARK 290   SMTRY2  24  0.000000  0.000000 -1.000000       38.61000            \\nREMARK 290   SMTRY3  24  1.000000  0.000000  0.000000        0.00000            \\nREMARK 290                                                                      \\nREMARK 290 REMARK: NULL                                                         \\nREMARK 300                                                                      \\nREMARK 300 BIOMOLECULE: 1                                                       \\nREMARK 300 SEE REMARK 350 FOR THE AUTHOR PROVIDED AND/OR PROGRAM                \\nREMARK 300 GENERATED ASSEMBLY INFORMATION FOR THE STRUCTURE IN                  \\nREMARK 300 THIS ENTRY. THE REMARK MAY ALSO PROVIDE INFORMATION ON               \\nREMARK 300 BURIED SURFACE AREA.                                                 \\nREMARK 350                                                                      \\nREMARK 350 COORDINATES FOR A COMPLETE MULTIMER REPRESENTING THE KNOWN           \\nREMARK 350 BIOLOGICALLY SIGNIFICANT OLIGOMERIZATION STATE OF THE                \\nREMARK 350 MOLECULE CAN BE GENERATED BY APPLYING BIOMT TRANSFORMATIONS          \\nREMARK 350 GIVEN BELOW.  BOTH NON-CRYSTALLOGRAPHIC AND                          \\nREMARK 350 CRYSTALLOGRAPHIC OPERATIONS ARE GIVEN.                               \\nREMARK 350                                                                      \\nREMARK 350 BIOMOLECULE: 1                                                       \\nREMARK 350 AUTHOR DETERMINED BIOLOGICAL UNIT: DIMERIC                           \\nREMARK 350 SOFTWARE DETERMINED QUATERNARY STRUCTURE: DIMERIC                    \\nREMARK 350 SOFTWARE USED: PISA                                                  \\nREMARK 350 TOTAL BURIED SURFACE AREA: 1520 ANGSTROM**2                          \\nREMARK 350 SURFACE AREA OF THE COMPLEX: 3380 ANGSTROM**2                        \\nREMARK 350 CHANGE IN SOLVENT FREE ENERGY: -14.0 KCAL/MOL                        \\nREMARK 350 APPLY THE FOLLOWING TO CHAINS: A, B                                  \\nREMARK 350   BIOMT1   1  1.000000  0.000000  0.000000        0.00000            \\nREMARK 350   BIOMT2   1  0.000000  1.000000  0.000000        0.00000            \\nREMARK 350   BIOMT3   1  0.000000  0.000000  1.000000        0.00000            \\nREMARK 900                                                                      \\nREMARK 900 RELATED ENTRIES                                                      \\nREMARK 900 RELATED ID: 3I3Z   RELATED DB: PDB                                   \\nREMARK 999                                                                      \\nREMARK 999 SEQUENCE                                                             \\nREMARK 999 THE CONFLICT OF THE SEQUENCE MAY DUE TO ARTIFACT.                    \\nDBREF  3I40 A    1    21  UNP    P01308   INS_HUMAN       90    110             \\nDBREF  3I40 B    1    30  UNP    P01308   INS_HUMAN       25     54             \\nSEQADV 3I40 ALA B   30  UNP  P01308    THR    54 SEE REMARK 999                 \\nSEQRES   1 A   21  GLY ILE VAL GLU GLN CYS CYS THR SER ILE CYS SER LEU          \\nSEQRES   2 A   21  TYR GLN LEU GLU ASN TYR CYS ASN                              \\nSEQRES   1 B   30  PHE VAL ASN GLN HIS LEU CYS GLY SER HIS LEU VAL GLU          \\nSEQRES   2 B   30  ALA LEU TYR LEU VAL CYS GLY GLU ARG GLY PHE PHE TYR          \\nSEQRES   3 B   30  THR PRO LYS ALA                                              \\nFORMUL   3  HOH   *35(H2 O)                                                     \\nHELIX    1   1 GLY A    1  CYS A    7  1                                   7    \\nHELIX    2   2 SER A   12  ASN A   18  1                                   7    \\nHELIX    3   3 GLY B    8  GLY B   20  1                                  13    \\nHELIX    4   4 GLU B   21  GLY B   23  5                                   3    \\nSSBOND   1 CYS A    6    CYS A   11                          1555   1555  2.03  \\nSSBOND   2 CYS A    7    CYS B    7                          1555   1555  2.04  \\nSSBOND   3 CYS A   20    CYS B   19                          1555   1555  2.04  \\nCRYST1   77.220   77.220   77.220  90.00  90.00  90.00 I 21 3       24          \\nORIGX1      1.000000  0.000000  0.000000        0.00000                         \\nORIGX2      0.000000  1.000000  0.000000        0.00000                         \\nORIGX3      0.000000  0.000000  1.000000        0.00000                         \\nSCALE1      0.012950  0.000000  0.000000        0.00000                         \\nSCALE2      0.000000  0.012950  0.000000        0.00000                         \\nSCALE3      0.000000  0.000000  0.012950        0.00000                         \\nATOM      1  N   GLY A   1     -27.279   6.238 -12.314  1.00 45.01           N  \\nATOM      2  CA  GLY A   1     -26.249   6.028 -11.313  1.00 43.47           C  \\nATOM      3  C   GLY A   1     -25.582   4.677 -11.471  1.00 34.37           C  \\nATOM      4  O   GLY A   1     -25.731   4.023 -12.501  1.00 30.09           O  \\nATOM      5  N   ILE A   2     -24.853   4.248 -10.446  1.00 32.71           N  \\nATOM      6  CA  ILE A   2     -24.070   3.023 -10.550  1.00 22.60           C  \\nATOM      7  C   ILE A   2     -24.915   1.786 -10.840  1.00 23.32           C  \\nATOM      8  O   ILE A   2     -24.469   0.865 -11.529  1.00 26.36           O  \\nATOM      9  CB  ILE A   2     -23.208   2.791  -9.302  1.00 28.24           C  \\nATOM     10  CG1 ILE A   2     -22.249   1.620  -9.538  1.00 25.03           C  \\nATOM     11  CG2 ILE A   2     -24.090   2.579  -8.068  1.00 32.70           C  \\nATOM     12  CD1 ILE A   2     -21.209   1.479  -8.457  1.00 30.60           C  \\nATOM     13  N   VAL A   3     -26.137   1.755 -10.324  1.00 27.13           N  \\nATOM     14  CA  VAL A   3     -26.993   0.599 -10.563  1.00 30.10           C  \\nATOM     15  C   VAL A   3     -27.324   0.471 -12.049  1.00 32.71           C  \\nATOM     16  O   VAL A   3     -27.258  -0.617 -12.621  1.00 28.83           O  \\nATOM     17  CB  VAL A   3     -28.284   0.657  -9.740  1.00 30.51           C  \\nATOM     18  CG1 VAL A   3     -29.194  -0.497 -10.127  1.00 35.07           C  \\nATOM     19  CG2 VAL A   3     -27.956   0.613  -8.242  1.00 27.53           C  \\nATOM     20  N   GLU A   4     -27.669   1.596 -12.667  1.00 34.97           N  \\nATOM     21  CA  GLU A   4     -28.001   1.627 -14.086  1.00 31.24           C  \\nATOM     22  C   GLU A   4     -26.797   1.224 -14.927  1.00 32.52           C  \\nATOM     23  O   GLU A   4     -26.933   0.517 -15.924  1.00 31.47           O  \\nATOM     24  CB  GLU A   4     -28.474   3.027 -14.485  1.00 38.19           C  \\nATOM     25  CG  GLU A   4     -29.829   3.420 -13.908  1.00 61.51           C  \\nATOM     26  CD  GLU A   4     -29.832   3.535 -12.387  1.00 66.16           C  \\nATOM     27  OE1 GLU A   4     -28.868   4.094 -11.814  1.00 42.60           O  \\nATOM     28  OE2 GLU A   4     -30.812   3.071 -11.762  1.00 67.86           O  \\nATOM     29  N   GLN A   5     -25.615   1.664 -14.508  1.00 28.29           N  \\nATOM     30  CA  GLN A   5     -24.393   1.410 -15.266  1.00 31.01           C  \\nATOM     31  C   GLN A   5     -23.776   0.028 -15.056  1.00 39.69           C  \\nATOM     32  O   GLN A   5     -23.149  -0.511 -15.967  1.00 26.39           O  \\nATOM     33  CB  GLN A   5     -23.349   2.492 -14.974  1.00 25.23           C  \\nATOM     34  CG  GLN A   5     -23.818   3.887 -15.346  1.00 38.13           C  \\nATOM     35  CD  GLN A   5     -24.535   3.921 -16.693  1.00 53.62           C  \\nATOM     36  OE1 GLN A   5     -24.074   3.334 -17.674  1.00 38.85           O  \\nATOM     37  NE2 GLN A   5     -25.671   4.609 -16.741  1.00 42.57           N  \\nATOM     38  N   CYS A   6     -23.940  -0.551 -13.868  1.00 22.46           N  \\nATOM     39  CA  CYS A   6     -23.214  -1.776 -13.549  1.00 20.37           C  \\nATOM     40  C   CYS A   6     -24.114  -2.963 -13.225  1.00 18.21           C  \\nATOM     41  O   CYS A   6     -23.677  -4.107 -13.293  1.00 21.83           O  \\nATOM     42  CB  CYS A   6     -22.235  -1.524 -12.396  1.00 22.32           C  \\nATOM     43  SG  CYS A   6     -20.756  -0.602 -12.893  1.00 27.82           S  \\nATOM     44  N   CYS A   7     -25.359  -2.685 -12.860  1.00 22.16           N  \\nATOM     45  CA  CYS A   7     -26.307  -3.744 -12.520  1.00 21.25           C  \\nATOM     46  C   CYS A   7     -27.245  -4.032 -13.690  1.00 31.44           C  \\nATOM     47  O   CYS A   7     -27.307  -5.155 -14.190  1.00 24.09           O  \\nATOM     48  CB  CYS A   7     -27.119  -3.351 -11.286  1.00 22.97           C  \\nATOM     49  SG  CYS A   7     -28.355  -4.584 -10.791  1.00 28.27           S  \\nATOM     50  N   THR A   8     -27.967  -3.001 -14.122  1.00 29.15           N  \\nATOM     51  CA  THR A   8     -28.901  -3.121 -15.236  1.00 29.59           C  \\nATOM     52  C   THR A   8     -28.147  -3.334 -16.542  1.00 34.52           C  \\nATOM     53  O   THR A   8     -28.647  -3.986 -17.454  1.00 38.61           O  \\nATOM     54  CB  THR A   8     -29.780  -1.868 -15.371  1.00 31.24           C  \\nATOM     55  OG1 THR A   8     -30.023  -1.303 -14.080  1.00 41.12           O  \\nATOM     56  CG2 THR A   8     -31.100  -2.218 -16.029  1.00 51.07           C  \\nATOM     57  N   SER A   9     -26.948  -2.769 -16.630  1.00 26.15           N  \\nATOM     58  CA  SER A   9     -26.064  -3.019 -17.765  1.00 21.41           C  \\nATOM     59  C   SER A   9     -24.699  -3.529 -17.309  1.00 32.36           C  \\nATOM     60  O   SER A   9     -24.419  -3.594 -16.111  1.00 29.40           O  \\nATOM     61  CB  SER A   9     -25.910  -1.765 -18.626  1.00 32.53           C  \\nATOM     62  OG  SER A   9     -25.465  -0.670 -17.851  1.00 47.07           O  \\nATOM     63  N   ILE A  10     -23.849  -3.891 -18.261  1.00 24.43           N  \\nATOM     64  CA  ILE A  10     -22.562  -4.492 -17.924  1.00 24.22           C  \\nATOM     65  C   ILE A  10     -21.591  -3.454 -17.367  1.00 30.49           C  \\nATOM     66  O   ILE A  10     -21.420  -2.380 -17.934  1.00 26.28           O  \\nATOM     67  CB  ILE A  10     -21.942  -5.216 -19.128  1.00 26.99           C  \\nATOM     68  CG1 ILE A  10     -22.880  -6.328 -19.595  1.00 26.49           C  \\nATOM     69  CG2 ILE A  10     -20.577  -5.790 -18.770  1.00 25.10           C  \\nATOM     70  CD1 ILE A  10     -22.302  -7.179 -20.689  1.00 44.31           C  \\nATOM     71  N   CYS A  11     -20.972  -3.790 -16.240  1.00 28.14           N  \\nATOM     72  CA  CYS A  11     -20.088  -2.876 -15.534  1.00 25.92           C  \\nATOM     73  C   CYS A  11     -18.752  -2.779 -16.258  1.00 36.06           C  \\nATOM     74  O   CYS A  11     -18.491  -3.524 -17.204  1.00 27.25           O  \\nATOM     75  CB  CYS A  11     -19.867  -3.387 -14.106  1.00 23.76           C  \\nATOM     76  SG  CYS A  11     -19.406  -2.114 -12.908  1.00 28.09           S  \\nATOM     77  N   SER A  12     -17.902  -1.865 -15.807  1.00 25.78           N  \\nATOM     78  CA  SER A  12     -16.554  -1.767 -16.349  1.00 22.91           C  \\nATOM     79  C   SER A  12     -15.634  -1.220 -15.281  1.00 19.20           C  \\nATOM     80  O   SER A  12     -16.076  -0.508 -14.375  1.00 18.62           O  \\nATOM     81  CB  SER A  12     -16.530  -0.845 -17.559  1.00 24.50           C  \\nATOM     82  OG  SER A  12     -16.681   0.502 -17.157  1.00 24.75           O  \\nATOM     83  N   LEU A  13     -14.346  -1.528 -15.392  1.00 22.17           N  \\nATOM     84  CA  LEU A  13     -13.378  -1.013 -14.426  1.00 19.72           C  \\nATOM     85  C   LEU A  13     -13.412   0.508 -14.438  1.00 22.22           C  \\nATOM     86  O   LEU A  13     -13.329   1.158 -13.393  1.00 17.29           O  \\nATOM     87  CB  LEU A  13     -11.971  -1.517 -14.751  1.00 19.22           C  \\nATOM     88  CG  LEU A  13     -10.860  -0.998 -13.840  1.00 17.99           C  \\nATOM     89  CD1 LEU A  13     -11.104  -1.386 -12.388  1.00 18.06           C  \\nATOM     90  CD2 LEU A  13      -9.522  -1.530 -14.308  1.00 15.25           C  \\nATOM     91  N   TYR A  14     -13.550   1.075 -15.632  1.00 19.94           N  \\nATOM     92  CA  TYR A  14     -13.559   2.521 -15.774  1.00 22.72           C  \\nATOM     93  C   TYR A  14     -14.638   3.140 -14.893  1.00 22.64           C  \\nATOM     94  O   TYR A  14     -14.391   4.094 -14.152  1.00 25.33           O  \\nATOM     95  CB ATYR A  14     -13.771   2.911 -17.239  0.50 27.81           C  \\nATOM     96  CB BTYR A  14     -13.786   2.928 -17.233  0.50 27.85           C  \\nATOM     97  CG ATYR A  14     -13.608   4.388 -17.494  0.50 28.31           C  \\nATOM     98  CG BTYR A  14     -13.829   4.427 -17.427  0.50 28.20           C  \\nATOM     99  CD1ATYR A  14     -12.442   4.893 -18.059  0.50 23.25           C  \\nATOM    100  CD1BTYR A  14     -12.714   5.121 -17.879  0.50 25.75           C  \\nATOM    101  CD2ATYR A  14     -14.614   5.282 -17.153  0.50 28.36           C  \\nATOM    102  CD2BTYR A  14     -14.980   5.152 -17.138  0.50 27.68           C  \\nATOM    103  CE1ATYR A  14     -12.289   6.252 -18.283  0.50 27.32           C  \\nATOM    104  CE1BTYR A  14     -12.746   6.496 -18.047  0.50 27.49           C  \\nATOM    105  CE2ATYR A  14     -14.472   6.636 -17.372  0.50 29.32           C  \\nATOM    106  CE2BTYR A  14     -15.021   6.527 -17.300  0.50 28.26           C  \\nATOM    107  CZ ATYR A  14     -13.311   7.117 -17.938  0.50 29.06           C  \\nATOM    108  CZ BTYR A  14     -13.902   7.193 -17.757  0.50 29.57           C  \\nATOM    109  OH ATYR A  14     -13.179   8.469 -18.153  0.50 33.01           O  \\nATOM    110  OH BTYR A  14     -13.938   8.561 -17.922  0.50 32.79           O  \\nATOM    111  N   GLN A  15     -15.837   2.584 -14.969  1.00 21.27           N  \\nATOM    112  CA  GLN A  15     -16.962   3.129 -14.222  1.00 21.51           C  \\nATOM    113  C   GLN A  15     -16.837   2.882 -12.722  1.00 17.30           C  \\nATOM    114  O   GLN A  15     -17.121   3.764 -11.917  1.00 20.82           O  \\nATOM    115  CB  GLN A  15     -18.275   2.561 -14.758  1.00 25.25           C  \\nATOM    116  CG  GLN A  15     -18.527   2.905 -16.214  1.00 32.75           C  \\nATOM    117  CD  GLN A  15     -19.997   3.039 -16.527  1.00 55.05           C  \\nATOM    118  OE1 GLN A  15     -20.680   3.914 -15.987  1.00 53.01           O  \\nATOM    119  NE2 GLN A  15     -20.497   2.177 -17.410  1.00 50.66           N  \\nATOM    120  N   LEU A  16     -16.399   1.687 -12.346  1.00 15.37           N  \\nATOM    121  CA  LEU A  16     -16.236   1.380 -10.930  1.00 17.02           C  \\nATOM    122  C   LEU A  16     -15.301   2.382 -10.273  1.00 16.55           C  \\nATOM    123  O   LEU A  16     -15.565   2.868  -9.172  1.00 19.70           O  \\nATOM    124  CB  LEU A  16     -15.703  -0.037 -10.742  1.00 24.64           C  \\nATOM    125  CG  LEU A  16     -16.709  -1.151 -11.013  1.00 24.23           C  \\nATOM    126  CD1 LEU A  16     -16.007  -2.496 -11.058  1.00 21.90           C  \\nATOM    127  CD2 LEU A  16     -17.786  -1.124  -9.936  1.00 18.48           C  \\nATOM    128  N   GLU A  17     -14.199   2.703 -10.950  1.00 17.86           N  \\nATOM    129  CA  GLU A  17     -13.219   3.608 -10.365  1.00 19.38           C  \\nATOM    130  C   GLU A  17     -13.763   5.026 -10.180  1.00 18.73           C  \\nATOM    131  O   GLU A  17     -13.259   5.782  -9.351  1.00 22.43           O  \\nATOM    132  CB  GLU A  17     -11.910   3.598 -11.155  1.00 20.40           C  \\nATOM    133  CG  GLU A  17     -11.090   2.343 -10.898  1.00 20.17           C  \\nATOM    134  CD  GLU A  17      -9.623   2.514 -11.240  1.00 22.14           C  \\nATOM    135  OE1 GLU A  17      -9.301   3.347 -12.110  1.00 22.42           O  \\nATOM    136  OE2 GLU A  17      -8.792   1.805 -10.640  1.00 27.73           O  \\nATOM    137  N   ASN A  18     -14.799   5.374 -10.932  1.00 20.29           N  \\nATOM    138  CA  ASN A  18     -15.480   6.657 -10.735  1.00 20.00           C  \\nATOM    139  C   ASN A  18     -16.080   6.766  -9.334  1.00 26.36           C  \\nATOM    140  O   ASN A  18     -16.469   7.849  -8.890  1.00 28.46           O  \\nATOM    141  CB  ASN A  18     -16.587   6.839 -11.774  1.00 21.66           C  \\nATOM    142  CG  ASN A  18     -16.061   7.344 -13.113  1.00 25.89           C  \\nATOM    143  OD1 ASN A  18     -15.007   7.974 -13.180  1.00 32.32           O  \\nATOM    144  ND2 ASN A  18     -16.802   7.070 -14.180  1.00 38.57           N  \\nATOM    145  N   TYR A  19     -16.163   5.640  -8.638  1.00 20.84           N  \\nATOM    146  CA  TYR A  19     -16.803   5.618  -7.327  1.00 18.56           C  \\nATOM    147  C   TYR A  19     -15.822   5.394  -6.180  1.00 23.20           C  \\nATOM    148  O   TYR A  19     -16.223   5.337  -5.018  1.00 27.54           O  \\nATOM    149  CB  TYR A  19     -17.945   4.599  -7.298  1.00 20.89           C  \\nATOM    150  CG  TYR A  19     -19.068   4.966  -8.236  1.00 21.62           C  \\nATOM    151  CD1 TYR A  19     -19.115   4.453  -9.521  1.00 23.43           C  \\nATOM    152  CD2 TYR A  19     -20.066   5.848  -7.844  1.00 26.68           C  \\nATOM    153  CE1 TYR A  19     -20.126   4.796 -10.385  1.00 24.39           C  \\nATOM    154  CE2 TYR A  19     -21.082   6.200  -8.708  1.00 31.02           C  \\nATOM    155  CZ  TYR A  19     -21.104   5.672  -9.979  1.00 28.36           C  \\nATOM    156  OH  TYR A  19     -22.114   6.009 -10.853  1.00 42.08           O  \\nATOM    157  N   CYS A  20     -14.534   5.281  -6.499  1.00 21.90           N  \\nATOM    158  CA  CYS A  20     -13.510   5.251  -5.459  1.00 19.66           C  \\nATOM    159  C   CYS A  20     -13.334   6.645  -4.882  1.00 28.69           C  \\nATOM    160  O   CYS A  20     -13.526   7.639  -5.585  1.00 30.53           O  \\nATOM    161  CB  CYS A  20     -12.169   4.783  -6.021  1.00 22.84           C  \\nATOM    162  SG  CYS A  20     -12.209   3.187  -6.829  1.00 22.45           S  \\nATOM    163  N   ASN A  21     -12.955   6.716  -3.609  1.00 26.51           N  \\nATOM    164  CA  ASN A  21     -12.630   7.993  -2.976  1.00 36.60           C  \\nATOM    165  C   ASN A  21     -11.279   8.511  -3.448  1.00 35.58           C  \\nATOM    166  O   ASN A  21     -10.515   7.790  -4.091  1.00 36.84           O  \\nATOM    167  CB  ASN A  21     -12.615   7.863  -1.450  1.00 34.89           C  \\nATOM    168  CG  ASN A  21     -13.978   7.548  -0.878  1.00 33.46           C  \\nATOM    169  OD1 ASN A  21     -14.107   6.726   0.029  1.00 48.60           O  \\nATOM    170  ND2 ASN A  21     -15.008   8.198  -1.408  1.00 39.53           N  \\nATOM    171  OXT ASN A  21     -10.922   9.659  -3.189  1.00 58.00           O  \\nTER     172      ASN A  21                                                      \\nATOM    173  N   PHE B   1     -13.174  -9.740 -13.251  1.00 44.56           N  \\nATOM    174  CA  PHE B   1     -14.387  -9.892 -12.452  1.00 53.84           C  \\nATOM    175  C   PHE B   1     -15.310  -8.684 -12.590  1.00 44.51           C  \\nATOM    176  O   PHE B   1     -16.451  -8.715 -12.133  1.00 40.17           O  \\nATOM    177  CB  PHE B   1     -14.042 -10.126 -10.973  1.00 47.36           C  \\nATOM    178  CG  PHE B   1     -13.222  -9.024 -10.356  1.00 43.05           C  \\nATOM    179  CD1 PHE B   1     -13.816  -8.050  -9.571  1.00 39.13           C  \\nATOM    180  CD2 PHE B   1     -11.854  -8.964 -10.565  1.00 48.11           C  \\nATOM    181  CE1 PHE B   1     -13.059  -7.037  -9.008  1.00 29.34           C  \\nATOM    182  CE2 PHE B   1     -11.093  -7.959 -10.002  1.00 34.97           C  \\nATOM    183  CZ  PHE B   1     -11.696  -6.993  -9.224  1.00 36.24           C  \\nATOM    184  N   VAL B   2     -14.819  -7.623 -13.228  1.00 27.44           N  \\nATOM    185  CA  VAL B   2     -15.568  -6.367 -13.273  1.00 25.65           C  \\nATOM    186  C   VAL B   2     -16.402  -6.197 -14.541  1.00 30.55           C  \\nATOM    187  O   VAL B   2     -17.249  -5.306 -14.628  1.00 30.98           O  \\nATOM    188  CB  VAL B   2     -14.633  -5.163 -13.114  1.00 32.50           C  \\nATOM    189  CG1 VAL B   2     -14.056  -5.139 -11.705  1.00 29.74           C  \\nATOM    190  CG2 VAL B   2     -13.519  -5.227 -14.141  1.00 45.24           C  \\nATOM    191  N   ASN B   3     -16.158  -7.045 -15.528  1.00 28.57           N  \\nATOM    192  CA  ASN B   3     -16.844  -6.904 -16.806  1.00 31.00           C  \\nATOM    193  C   ASN B   3     -18.072  -7.800 -16.928  1.00 29.49           C  \\nATOM    194  O   ASN B   3     -18.115  -8.720 -17.743  1.00 28.57           O  \\nATOM    195  CB  ASN B   3     -15.854  -7.122 -17.946  1.00 31.67           C  \\nATOM    196  CG  ASN B   3     -14.703  -6.139 -17.888  1.00 35.45           C  \\nATOM    197  OD1 ASN B   3     -13.561  -6.507 -17.600  1.00 38.37           O  \\nATOM    198  ND2 ASN B   3     -15.009  -4.871 -18.113  1.00 23.34           N  \\nATOM    199  N   GLN B   4     -19.073  -7.514 -16.099  1.00 31.90           N  \\nATOM    200  CA  GLN B   4     -20.313  -8.287 -16.082  1.00 28.96           C  \\nATOM    201  C   GLN B   4     -21.397  -7.521 -15.328  1.00 23.12           C  \\nATOM    202  O   GLN B   4     -21.154  -6.432 -14.812  1.00 26.67           O  \\nATOM    203  CB  GLN B   4     -20.079  -9.648 -15.425  1.00 33.50           C  \\nATOM    204  CG  GLN B   4     -19.608  -9.556 -13.987  1.00 31.03           C  \\nATOM    205  CD  GLN B   4     -19.344 -10.918 -13.379  1.00 54.72           C  \\nATOM    206  OE1 GLN B   4     -20.210 -11.794 -13.390  1.00 51.79           O  \\nATOM    207  NE2 GLN B   4     -18.144 -11.105 -12.840  1.00 41.70           N  \\nATOM    208  N   HIS B   5     -22.599  -8.080 -15.281  1.00 25.17           N  \\nATOM    209  CA  HIS B   5     -23.666  -7.471 -14.503  1.00 26.87           C  \\nATOM    210  C   HIS B   5     -23.358  -7.685 -13.035  1.00 26.33           C  \\nATOM    211  O   HIS B   5     -23.193  -8.822 -12.595  1.00 25.34           O  \\nATOM    212  CB  HIS B   5     -25.013  -8.109 -14.834  1.00 24.65           C  \\nATOM    213  CG  HIS B   5     -25.462  -7.871 -16.239  1.00 27.43           C  \\nATOM    214  ND1 HIS B   5     -26.235  -6.787 -16.598  1.00 29.87           N  \\nATOM    215  CD2 HIS B   5     -25.241  -8.570 -17.377  1.00 27.84           C  \\nATOM    216  CE1 HIS B   5     -26.478  -6.833 -17.896  1.00 24.52           C  \\nATOM    217  NE2 HIS B   5     -25.885  -7.905 -18.393  1.00 35.03           N  \\nATOM    218  N   LEU B   6     -23.267  -6.592 -12.287  1.00 22.69           N  \\nATOM    219  CA  LEU B   6     -22.974  -6.660 -10.862  1.00 21.06           C  \\nATOM    220  C   LEU B   6     -24.052  -5.932 -10.079  1.00 21.50           C  \\nATOM    221  O   LEU B   6     -24.197  -4.715 -10.194  1.00 22.66           O  \\nATOM    222  CB  LEU B   6     -21.612  -6.034 -10.568  1.00 20.56           C  \\nATOM    223  CG  LEU B   6     -20.418  -6.665 -11.281  1.00 20.16           C  \\nATOM    224  CD1 LEU B   6     -19.190  -5.786 -11.103  1.00 20.54           C  \\nATOM    225  CD2 LEU B   6     -20.155  -8.064 -10.763  1.00 25.22           C  \\nATOM    226  N   CYS B   7     -24.800  -6.679  -9.273  1.00 20.58           N  \\nATOM    227  CA  CYS B   7     -25.899  -6.104  -8.513  1.00 22.46           C  \\nATOM    228  C   CYS B   7     -25.754  -6.421  -7.034  1.00 22.72           C  \\nATOM    229  O   CYS B   7     -25.231  -7.471  -6.665  1.00 21.90           O  \\nATOM    230  CB  CYS B   7     -27.236  -6.664  -9.009  1.00 28.16           C  \\nATOM    231  SG  CYS B   7     -27.554  -6.459 -10.788  1.00 29.45           S  \\nATOM    232  N   GLY B   8     -26.229  -5.514  -6.191  1.00 21.36           N  \\nATOM    233  CA  GLY B   8     -26.233  -5.745  -4.759  1.00 22.98           C  \\nATOM    234  C   GLY B   8     -24.859  -6.051  -4.209  1.00 20.91           C  \\nATOM    235  O   GLY B   8     -23.911  -5.316  -4.465  1.00 23.25           O  \\nATOM    236  N   SER B   9     -24.741  -7.136  -3.447  1.00 18.12           N  \\nATOM    237  CA  SER B   9     -23.484  -7.444  -2.778  1.00 15.90           C  \\nATOM    238  C   SER B   9     -22.360  -7.702  -3.780  1.00 18.45           C  \\nATOM    239  O   SER B   9     -21.183  -7.509  -3.473  1.00 17.21           O  \\nATOM    240  CB  SER B   9     -23.648  -8.663  -1.863  1.00 19.34           C  \\nATOM    241  OG  SER B   9     -23.919  -9.813  -2.638  1.00 20.35           O  \\nATOM    242  N   HIS B  10     -22.730  -8.151  -4.972  1.00 14.91           N  \\nATOM    243  CA  HIS B  10     -21.764  -8.403  -6.039  1.00 17.86           C  \\nATOM    244  C   HIS B  10     -21.093  -7.097  -6.470  1.00 18.59           C  \\nATOM    245  O   HIS B  10     -19.891  -7.055  -6.725  1.00 17.96           O  \\nATOM    246  CB  HIS B  10     -22.471  -9.047  -7.236  1.00 18.56           C  \\nATOM    247  CG  HIS B  10     -23.081 -10.384  -6.933  1.00 23.08           C  \\nATOM    248  ND1 HIS B  10     -23.461 -11.269  -7.919  1.00 27.72           N  \\nATOM    249  CD2 HIS B  10     -23.366 -10.990  -5.755  1.00 23.69           C  \\nATOM    250  CE1 HIS B  10     -23.951 -12.364  -7.363  1.00 29.56           C  \\nATOM    251  NE2 HIS B  10     -23.906 -12.220  -6.050  1.00 22.03           N  \\nATOM    252  N   LEU B  11     -21.886  -6.037  -6.550  1.00 16.34           N  \\nATOM    253  CA  LEU B  11     -21.398  -4.713  -6.938  1.00 16.50           C  \\nATOM    254  C   LEU B  11     -20.523  -4.120  -5.847  1.00 19.44           C  \\nATOM    255  O   LEU B  11     -19.446  -3.585  -6.105  1.00 17.25           O  \\nATOM    256  CB  LEU B  11     -22.588  -3.788  -7.211  1.00 16.97           C  \\nATOM    257  CG  LEU B  11     -22.268  -2.390  -7.735  1.00 22.79           C  \\nATOM    258  CD1 LEU B  11     -21.211  -2.486  -8.812  1.00 17.51           C  \\nATOM    259  CD2 LEU B  11     -23.529  -1.754  -8.277  1.00 22.41           C  \\nATOM    260  N   VAL B  12     -20.990  -4.218  -4.610  1.00 15.40           N  \\nATOM    261  CA  VAL B  12     -20.242  -3.690  -3.490  1.00 13.81           C  \\nATOM    262  C   VAL B  12     -18.902  -4.422  -3.332  1.00 15.23           C  \\nATOM    263  O   VAL B  12     -17.879  -3.825  -2.988  1.00 14.98           O  \\nATOM    264  CB  VAL B  12     -21.096  -3.776  -2.212  1.00 24.43           C  \\nATOM    265  CG1 VAL B  12     -20.252  -3.609  -1.029  1.00 30.29           C  \\nATOM    266  CG2 VAL B  12     -22.169  -2.694  -2.241  1.00 21.29           C  \\nATOM    267  N   GLU B  13     -18.912  -5.721  -3.589  1.00 14.50           N  \\nATOM    268  CA  GLU B  13     -17.695  -6.515  -3.515  1.00 14.19           C  \\nATOM    269  C   GLU B  13     -16.682  -6.056  -4.574  1.00 15.30           C  \\nATOM    270  O   GLU B  13     -15.481  -5.936  -4.304  1.00 16.00           O  \\nATOM    271  CB  GLU B  13     -18.046  -7.986  -3.712  1.00 22.91           C  \\nATOM    272  CG  GLU B  13     -16.884  -8.875  -4.073  1.00 31.68           C  \\nATOM    273  CD  GLU B  13     -17.296 -10.336  -4.139  1.00 35.29           C  \\nATOM    274  OE1 GLU B  13     -17.726 -10.873  -3.092  1.00 24.65           O  \\nATOM    275  OE2 GLU B  13     -17.204 -10.932  -5.236  1.00 35.79           O  \\nATOM    276  N   ALA B  14     -17.166  -5.811  -5.782  1.00 16.94           N  \\nATOM    277  CA  ALA B  14     -16.298  -5.308  -6.856  1.00 19.02           C  \\nATOM    278  C   ALA B  14     -15.701  -3.941  -6.523  1.00 17.95           C  \\nATOM    279  O   ALA B  14     -14.507  -3.704  -6.731  1.00 16.40           O  \\nATOM    280  CB  ALA B  14     -17.065  -5.240  -8.157  1.00 19.13           C  \\nATOM    281  N   LEU B  15     -16.536  -3.036  -6.021  1.00 15.53           N  \\nATOM    282  CA  LEU B  15     -16.066  -1.724  -5.592  1.00 13.58           C  \\nATOM    283  C   LEU B  15     -14.977  -1.846  -4.540  1.00 20.33           C  \\nATOM    284  O   LEU B  15     -13.957  -1.159  -4.594  1.00 17.96           O  \\nATOM    285  CB  LEU B  15     -17.228  -0.890  -5.054  1.00 17.56           C  \\nATOM    286  CG  LEU B  15     -18.132  -0.253  -6.108  1.00 19.95           C  \\nATOM    287  CD1 LEU B  15     -19.434   0.217  -5.476  1.00 19.70           C  \\nATOM    288  CD2 LEU B  15     -17.420   0.908  -6.806  1.00 19.43           C  \\nATOM    289  N   TYR B  16     -15.196  -2.733  -3.580  1.00 16.41           N  \\nATOM    290  CA  TYR B  16     -14.214  -2.982  -2.528  1.00 14.22           C  \\nATOM    291  C   TYR B  16     -12.884  -3.467  -3.093  1.00 18.76           C  \\nATOM    292  O   TYR B  16     -11.823  -2.978  -2.708  1.00 14.92           O  \\nATOM    293  CB  TYR B  16     -14.766  -4.015  -1.551  1.00 13.58           C  \\nATOM    294  CG  TYR B  16     -13.748  -4.582  -0.595  1.00 15.85           C  \\nATOM    295  CD1 TYR B  16     -13.213  -3.811   0.431  1.00 19.91           C  \\nATOM    296  CD2 TYR B  16     -13.338  -5.909  -0.707  1.00 14.31           C  \\nATOM    297  CE1 TYR B  16     -12.290  -4.347   1.318  1.00 18.93           C  \\nATOM    298  CE2 TYR B  16     -12.419  -6.445   0.163  1.00 16.89           C  \\nATOM    299  CZ  TYR B  16     -11.899  -5.665   1.173  1.00 19.03           C  \\nATOM    300  OH  TYR B  16     -10.991  -6.225   2.037  1.00 19.26           O  \\nATOM    301  N   LEU B  17     -12.941  -4.437  -4.002  1.00 17.26           N  \\nATOM    302  CA  LEU B  17     -11.725  -4.998  -4.583  1.00 17.15           C  \\nATOM    303  C   LEU B  17     -10.983  -3.979  -5.439  1.00 20.48           C  \\nATOM    304  O   LEU B  17      -9.751  -3.889  -5.407  1.00 20.37           O  \\nATOM    305  CB  LEU B  17     -12.060  -6.221  -5.428  1.00 16.44           C  \\nATOM    306  CG  LEU B  17     -12.491  -7.468  -4.651  1.00 17.44           C  \\nATOM    307  CD1 LEU B  17     -12.867  -8.590  -5.593  1.00 22.58           C  \\nATOM    308  CD2 LEU B  17     -11.383  -7.898  -3.717  1.00 22.13           C  \\nATOM    309  N   VAL B  18     -11.738  -3.226  -6.224  1.00 18.15           N  \\nATOM    310  CA  VAL B  18     -11.150  -2.270  -7.151  1.00 18.50           C  \\nATOM    311  C   VAL B  18     -10.557  -1.063  -6.431  1.00 22.53           C  \\nATOM    312  O   VAL B  18      -9.454  -0.628  -6.747  1.00 21.63           O  \\nATOM    313  CB  VAL B  18     -12.188  -1.824  -8.207  1.00 19.51           C  \\nATOM    314  CG1 VAL B  18     -11.714  -0.594  -8.955  1.00 28.07           C  \\nATOM    315  CG2 VAL B  18     -12.468  -2.973  -9.165  1.00 23.98           C  \\nATOM    316  N   CYS B  19     -11.268  -0.548  -5.433  1.00 19.45           N  \\nATOM    317  CA  CYS B  19     -10.874   0.709  -4.803  1.00 21.28           C  \\nATOM    318  C   CYS B  19      -9.819   0.588  -3.702  1.00 26.60           C  \\nATOM    319  O   CYS B  19      -9.167   1.576  -3.355  1.00 25.82           O  \\nATOM    320  CB  CYS B  19     -12.102   1.455  -4.285  1.00 20.90           C  \\nATOM    321  SG  CYS B  19     -13.231   1.932  -5.593  1.00 21.21           S  \\nATOM    322  N   GLY B  20      -9.653  -0.608  -3.150  1.00 25.20           N  \\nATOM    323  CA  GLY B  20      -8.606  -0.825  -2.167  1.00 33.63           C  \\nATOM    324  C   GLY B  20      -8.661   0.162  -1.014  1.00 39.29           C  \\nATOM    325  O   GLY B  20      -9.737   0.464  -0.501  1.00 27.87           O  \\nATOM    326  N   GLU B  21      -7.507   0.678  -0.599  1.00 30.38           N  \\nATOM    327  CA  GLU B  21      -7.474   1.534   0.591  1.00 34.13           C  \\nATOM    328  C   GLU B  21      -8.014   2.944   0.351  1.00 23.63           C  \\nATOM    329  O   GLU B  21      -8.123   3.737   1.283  1.00 35.45           O  \\nATOM    330  CB  GLU B  21      -6.075   1.569   1.220  1.00 45.91           C  \\nATOM    331  CG  GLU B  21      -5.015   2.280   0.401  1.00 57.50           C  \\nATOM    332  CD  GLU B  21      -3.631   2.179   1.034  1.00 75.22           C  \\nATOM    333  OE1 GLU B  21      -2.707   2.876   0.563  1.00 79.46           O  \\nATOM    334  OE2 GLU B  21      -3.470   1.401   2.002  1.00 57.31           O  \\nATOM    335  N   ARG B  22      -8.356   3.251  -0.897  1.00 27.41           N  \\nATOM    336  CA  ARG B  22      -9.040   4.498  -1.213  1.00 28.81           C  \\nATOM    337  C   ARG B  22     -10.456   4.461  -0.645  1.00 33.76           C  \\nATOM    338  O   ARG B  22     -11.008   5.480  -0.235  1.00 31.35           O  \\nATOM    339  CB  ARG B  22      -9.130   4.700  -2.726  1.00 30.48           C  \\nATOM    340  CG  ARG B  22      -7.876   5.228  -3.400  1.00 38.41           C  \\nATOM    341  CD  ARG B  22      -8.072   5.288  -4.922  1.00 44.34           C  \\nATOM    342  NE  ARG B  22      -8.003   3.963  -5.546  1.00 61.53           N  \\nATOM    343  CZ  ARG B  22      -8.246   3.711  -6.833  1.00 56.00           C  \\nATOM    344  NH1 ARG B  22      -8.151   2.467  -7.288  1.00 37.21           N  \\nATOM    345  NH2 ARG B  22      -8.588   4.690  -7.664  1.00 33.73           N  \\nATOM    346  N   GLY B  23     -11.048   3.276  -0.627  1.00 23.72           N  \\nATOM    347  CA  GLY B  23     -12.442   3.151  -0.243  1.00 25.22           C  \\nATOM    348  C   GLY B  23     -13.323   3.633  -1.376  1.00 26.84           C  \\nATOM    349  O   GLY B  23     -12.832   3.954  -2.460  1.00 20.71           O  \\nATOM    350  N   PHE B  24     -14.625   3.700  -1.132  1.00 18.98           N  \\nATOM    351  CA  PHE B  24     -15.558   4.055  -2.188  1.00 17.55           C  \\nATOM    352  C   PHE B  24     -16.875   4.561  -1.614  1.00 23.50           C  \\nATOM    353  O   PHE B  24     -17.092   4.530  -0.402  1.00 24.02           O  \\nATOM    354  CB  PHE B  24     -15.811   2.837  -3.086  1.00 17.36           C  \\nATOM    355  CG  PHE B  24     -16.428   1.661  -2.361  1.00 19.89           C  \\nATOM    356  CD1 PHE B  24     -15.628   0.691  -1.776  1.00 18.48           C  \\nATOM    357  CD2 PHE B  24     -17.811   1.527  -2.269  1.00 22.89           C  \\nATOM    358  CE1 PHE B  24     -16.189  -0.390  -1.107  1.00 21.90           C  \\nATOM    359  CE2 PHE B  24     -18.378   0.446  -1.597  1.00 19.48           C  \\nATOM    360  CZ  PHE B  24     -17.562  -0.513  -1.015  1.00 19.73           C  \\nATOM    361  N   PHE B  25     -17.742   5.048  -2.487  1.00 23.02           N  \\nATOM    362  CA  PHE B  25     -19.108   5.343  -2.088  1.00 26.05           C  \\nATOM    363  C   PHE B  25     -20.081   4.558  -2.948  1.00 29.87           C  \\nATOM    364  O   PHE B  25     -19.912   4.448  -4.158  1.00 25.71           O  \\nATOM    365  CB  PHE B  25     -19.410   6.848  -2.118  1.00 30.50           C  \\nATOM    366  CG  PHE B  25     -19.035   7.523  -3.399  1.00 36.46           C  \\nATOM    367  CD1 PHE B  25     -17.729   7.929  -3.625  1.00 41.85           C  \\nATOM    368  CD2 PHE B  25     -19.989   7.772  -4.374  1.00 47.50           C  \\nATOM    369  CE1 PHE B  25     -17.376   8.562  -4.808  1.00 51.84           C  \\nATOM    370  CE2 PHE B  25     -19.645   8.407  -5.560  1.00 37.96           C  \\nATOM    371  CZ  PHE B  25     -18.336   8.802  -5.778  1.00 47.77           C  \\nATOM    372  N   TYR B  26     -21.090   3.991  -2.301  1.00 26.11           N  \\nATOM    373  CA  TYR B  26     -22.087   3.184  -2.976  1.00 19.37           C  \\nATOM    374  C   TYR B  26     -23.429   3.866  -2.826  1.00 26.37           C  \\nATOM    375  O   TYR B  26     -23.966   3.954  -1.726  1.00 25.08           O  \\nATOM    376  CB  TYR B  26     -22.136   1.795  -2.350  1.00 18.99           C  \\nATOM    377  CG  TYR B  26     -23.255   0.930  -2.876  1.00 21.56           C  \\nATOM    378  CD1 TYR B  26     -24.280   0.506  -2.042  1.00 24.62           C  \\nATOM    379  CD2 TYR B  26     -23.285   0.533  -4.203  1.00 23.44           C  \\nATOM    380  CE1 TYR B  26     -25.304  -0.295  -2.516  1.00 26.30           C  \\nATOM    381  CE2 TYR B  26     -24.304  -0.265  -4.690  1.00 25.09           C  \\nATOM    382  CZ  TYR B  26     -25.313  -0.675  -3.842  1.00 27.86           C  \\nATOM    383  OH  TYR B  26     -26.328  -1.469  -4.320  1.00 29.25           O  \\nATOM    384  N   THR B  27     -23.960   4.365  -3.936  1.00 28.14           N  \\nATOM    385  CA  THR B  27     -25.185   5.147  -3.909  1.00 37.14           C  \\nATOM    386  C   THR B  27     -26.169   4.594  -4.936  1.00 32.53           C  \\nATOM    387  O   THR B  27     -26.193   5.035  -6.082  1.00 36.20           O  \\nATOM    388  CB  THR B  27     -24.889   6.637  -4.188  1.00 36.89           C  \\nATOM    389  OG1 THR B  27     -24.271   6.772  -5.473  1.00 57.47           O  \\nATOM    390  CG2 THR B  27     -23.936   7.182  -3.151  1.00 33.01           C  \\nATOM    391  N   PRO B  28     -26.989   3.620  -4.517  1.00 29.25           N  \\nATOM    392  CA  PRO B  28     -27.893   2.887  -5.411  1.00 32.94           C  \\nATOM    393  C   PRO B  28     -29.081   3.726  -5.872  1.00 32.76           C  \\nATOM    394  O   PRO B  28     -29.671   3.417  -6.908  1.00 36.05           O  \\nATOM    395  CB  PRO B  28     -28.401   1.730  -4.542  1.00 31.48           C  \\nATOM    396  CG  PRO B  28     -27.658   1.813  -3.247  1.00 28.54           C  \\nATOM    397  CD  PRO B  28     -27.128   3.190  -3.118  1.00 34.39           C  \\nATOM    398  N   LYS B  29     -29.436   4.751  -5.105  1.00 34.79           N  \\nATOM    399  CA  LYS B  29     -30.532   5.642  -5.483  1.00 49.07           C  \\nATOM    400  C   LYS B  29     -30.051   6.834  -6.309  1.00 63.70           C  \\nATOM    401  O   LYS B  29     -30.669   7.191  -7.315  1.00 73.47           O  \\nATOM    402  CB  LYS B  29     -31.305   6.122  -4.251  1.00 62.86           C  \\nATOM    403  CG  LYS B  29     -32.706   5.526  -4.105  1.00 74.15           C  \\nATOM    404  CD  LYS B  29     -32.690   4.118  -3.525  1.00 72.32           C  \\nATOM    405  CE  LYS B  29     -32.356   3.061  -4.572  1.00 68.55           C  \\nATOM    406  NZ  LYS B  29     -33.458   2.854  -5.553  1.00 59.40           N  \\nATOM    407  N   ALA B  30     -28.950   7.446  -5.884  1.00 72.05           N  \\nATOM    408  CA  ALA B  30     -28.366   8.568  -6.616  1.00 74.07           C  \\nATOM    409  C   ALA B  30     -27.782   8.115  -7.955  1.00 73.01           C  \\nATOM    410  O   ALA B  30     -27.485   8.928  -8.831  1.00 64.47           O  \\nATOM    411  CB  ALA B  30     -27.302   9.269  -5.772  1.00 56.14           C  \\nATOM    412  OXT ALA B  30     -27.594   6.921  -8.197  1.00 73.19           O  \\nTER     413      ALA B  30                                                      \\nHETATM  414  O   HOH A  22     -29.500  -7.696 -14.149  1.00 50.68           O  \\nHETATM  415  O   HOH A  23     -11.374  10.214 -16.391  1.00 40.62           O  \\nHETATM  416  O   HOH A  24     -11.187   9.560 -19.007  1.00 44.09           O  \\nHETATM  417  O   HOH A  25     -22.708  -0.422 -18.245  1.00 25.03           O  \\nHETATM  418  O   HOH A  26     -17.282   8.923   0.122  1.00 44.14           O  \\nHETATM  419  O   HOH A  27     -27.802  -5.289 -20.151  1.00 41.02           O  \\nHETATM  420  O   HOH A  28     -13.732   9.674 -11.684  1.00 48.35           O  \\nHETATM  421  O   HOH A  29     -26.166   6.685 -14.912  1.00 50.84           O  \\nHETATM  422  O   HOH A  30     -30.826  -5.812 -17.868  1.00 54.11           O  \\nHETATM  423  O   HOH A  31     -14.803   9.989  -8.715  1.00 62.79           O  \\nHETATM  424  O   HOH A  32     -19.609   9.964  -9.626  1.00 46.30           O  \\nHETATM  425  O   HOH A  33     -13.690  11.749 -14.300  1.00 49.90           O  \\nHETATM  426  O   HOH B  31     -24.729  10.263 -12.014  1.00 61.01           O  \\nHETATM  427  O   HOH B  32     -20.724 -10.273 -19.319  1.00 52.72           O  \\nHETATM  428  O   HOH B  33     -17.700 -13.422  -2.674  1.00 25.54           O  \\nHETATM  429  O   HOH B  34     -28.494  10.301 -14.536  1.00 56.88           O  \\nHETATM  430  O   HOH B  35     -24.545   6.027  -8.162  1.00 32.84           O  \\nHETATM  431  O   HOH B  36     -27.182  -2.924  -7.024  1.00 27.65           O  \\nHETATM  432  O   HOH B  37     -24.782  -9.599  -9.935  1.00 26.60           O  \\nHETATM  433  O   HOH B  38     -14.505  -9.421 -15.869  1.00 44.83           O  \\nHETATM  434  O   HOH B  39     -28.442  -1.829  -2.831  1.00 43.18           O  \\nHETATM  435  O   HOH B  40     -12.046  -0.492  -0.930  1.00 25.29           O  \\nHETATM  436  O   HOH B  41     -18.702  -9.557  -7.601  1.00 29.84           O  \\nHETATM  437  O   HOH B  42      -8.200  -0.632  -9.134  1.00 32.65           O  \\nHETATM  438  O   HOH B  43     -15.277 -10.853  -7.465  1.00 43.14           O  \\nHETATM  439  O   HOH B  44     -22.107   4.402  -6.065  1.00 31.09           O  \\nHETATM  440  O   HOH B  45      -5.206   0.010  -2.235  1.00 43.01           O  \\nHETATM  441  O   HOH B  46     -26.729  -9.715  -6.146  1.00 30.80           O  \\nHETATM  442  O   HOH B  47     -27.875   3.972  -9.042  1.00 40.15           O  \\nHETATM  443  O   HOH B  48     -20.453  -7.642  -0.550  1.00 34.77           O  \\nHETATM  444  O   HOH B  49     -17.760 -10.041  -0.552  1.00 37.12           O  \\nHETATM  445  O   HOH B  50     -22.932 -10.505 -16.556  1.00 47.78           O  \\nHETATM  446  O   HOH B  51     -28.195   5.830  -2.571  1.00 53.39           O  \\nHETATM  447  O   HOH B  52     -17.118 -11.123 -18.586  1.00 52.94           O  \\nHETATM  448  O   HOH B  53     -27.581   8.994 -11.659  1.00 53.89           O  \\nCONECT   43   76                                                                \\nCONECT   49  231                                                                \\nCONECT   76   43                                                                \\nCONECT  162  321                                                                \\nCONECT  231   49                                                                \\nCONECT  321  162                                                                \\nMASTER      278    0    0    4    0    0    0    6  438    2    6    5          \\nEND                                                                             \\n\",\"pdb\");\n\tviewer_17585835771094975.setStyle(\"stick\");\n\tviewer_17585835771094975.zoomTo();\nviewer_17585835771094975.render();\n});\n</script>",
            "text/html": [
              "<div id=\"3dmolviewer_17585835771094975\"  style=\"position: relative; width: 600px; height: 400px;\">\n",
              "        <p id=\"3dmolwarning_17585835771094975\" style=\"background-color:#ffcccc;color:black\">3Dmol.js failed to load for some reason.  Please check your browser console for error messages.<br></p>\n",
              "        </div>\n",
              "<script>\n",
              "\n",
              "var loadScriptAsync = function(uri){\n",
              "  return new Promise((resolve, reject) => {\n",
              "    //this is to ignore the existence of requirejs amd\n",
              "    var savedexports, savedmodule;\n",
              "    if (typeof exports !== 'undefined') savedexports = exports;\n",
              "    else exports = {}\n",
              "    if (typeof module !== 'undefined') savedmodule = module;\n",
              "    else module = {}\n",
              "\n",
              "    var tag = document.createElement('script');\n",
              "    tag.src = uri;\n",
              "    tag.async = true;\n",
              "    tag.onload = () => {\n",
              "        exports = savedexports;\n",
              "        module = savedmodule;\n",
              "        resolve();\n",
              "    };\n",
              "  var firstScriptTag = document.getElementsByTagName('script')[0];\n",
              "  firstScriptTag.parentNode.insertBefore(tag, firstScriptTag);\n",
              "});\n",
              "};\n",
              "\n",
              "if(typeof $3Dmolpromise === 'undefined') {\n",
              "$3Dmolpromise = null;\n",
              "  $3Dmolpromise = loadScriptAsync('https://cdn.jsdelivr.net/npm/3dmol@2.5.2/build/3Dmol-min.js');\n",
              "}\n",
              "\n",
              "var viewer_17585835771094975 = null;\n",
              "var warn = document.getElementById(\"3dmolwarning_17585835771094975\");\n",
              "if(warn) {\n",
              "    warn.parentNode.removeChild(warn);\n",
              "}\n",
              "$3Dmolpromise.then(function() {\n",
              "viewer_17585835771094975 = $3Dmol.createViewer(document.getElementById(\"3dmolviewer_17585835771094975\"),{backgroundColor:\"white\"});\n",
              "viewer_17585835771094975.zoomTo();\n",
              "\tviewer_17585835771094975.addModel(\"HEADER    HORMONE                                 01-JUL-09   3I40              \\nTITLE     HUMAN INSULIN                                                         \\nCOMPND    MOL_ID: 1;                                                            \\nCOMPND   2 MOLECULE: INSULIN A CHAIN;                                           \\nCOMPND   3 CHAIN: A;                                                            \\nCOMPND   4 ENGINEERED: YES;                                                     \\nCOMPND   5 MOL_ID: 2;                                                           \\nCOMPND   6 MOLECULE: INSULIN B CHAIN;                                           \\nCOMPND   7 CHAIN: B;                                                            \\nCOMPND   8 ENGINEERED: YES                                                      \\nSOURCE    MOL_ID: 1;                                                            \\nSOURCE   2 ORGANISM_SCIENTIFIC: HOMO SAPIENS;                                   \\nSOURCE   3 ORGANISM_COMMON: HUMAN;                                              \\nSOURCE   4 ORGANISM_TAXID: 9606;                                                \\nSOURCE   5 EXPRESSION_SYSTEM: ESCHERICHIA COLI;                                 \\nSOURCE   6 EXPRESSION_SYSTEM_TAXID: 562;                                        \\nSOURCE   7 MOL_ID: 2;                                                           \\nSOURCE   8 ORGANISM_SCIENTIFIC: HOMO SAPIENS;                                   \\nSOURCE   9 ORGANISM_COMMON: HUMAN;                                              \\nSOURCE  10 ORGANISM_TAXID: 9606;                                                \\nSOURCE  11 EXPRESSION_SYSTEM: ESCHERICHIA COLI;                                 \\nSOURCE  12 EXPRESSION_SYSTEM_TAXID: 562                                         \\nKEYWDS    INSULIN, CARBOHYDRATE METABOLISM, CLEAVAGE ON PAIR OF BASIC RESIDUES, \\nKEYWDS   2 DIABETES MELLITUS, DISEASE MUTATION, DISULFIDE BOND, GLUCOSE         \\nKEYWDS   3 METABOLISM, HORMONE, SECRETED                                        \\nEXPDTA    X-RAY DIFFRACTION                                                     \\nAUTHOR    V.I.TIMOFEEV,V.V.BEZUGLOV,K.A.MIROSHNIKOV,R.N.CHUPROV-NETOCHIN,       \\nAUTHOR   2 I.P.KURANOVA                                                         \\nREVDAT   4   06-NOV-24 3I40    1       REMARK                                   \\nREVDAT   3   01-NOV-23 3I40    1       REMARK                                   \\nREVDAT   2   05-MAY-10 3I40    1       JRNL                                     \\nREVDAT   1   05-JAN-10 3I40    0                                                \\nJRNL        AUTH   V.I.TIMOFEEV,R.N.CHUPROV-NETOCHIN,V.R.SAMIGINA,V.V.BEZUGLOV, \\nJRNL        AUTH 2 K.A.MIROSHNIKOV,I.P.KURANOVA                                 \\nJRNL        TITL   X-RAY INVESTIGATION OF GENE-ENGINEERED HUMAN INSULIN         \\nJRNL        TITL 2 CRYSTALLIZED FROM A SOLUTION CONTAINING POLYSIALIC ACID.     \\nJRNL        REF    ACTA CRYSTALLOGR.,SECT.F      V.  66   259 2010              \\nJRNL        REFN                   ESSN 1744-3091                               \\nJRNL        PMID   20208155                                                     \\nJRNL        DOI    10.1107/S1744309110000461                                    \\nREMARK   2                                                                      \\nREMARK   2 RESOLUTION.    1.85 ANGSTROMS.                                       \\nREMARK   3                                                                      \\nREMARK   3 REFINEMENT.                                                          \\nREMARK   3   PROGRAM     : PHENIX (PHENIX.REFINE)                               \\nREMARK   3   AUTHORS     : PAUL ADAMS,PAVEL AFONINE,VINCENT CHEN,IAN            \\nREMARK   3               : DAVIS,KRESHNA GOPAL,RALF GROSSE-KUNSTLEVE,           \\nREMARK   3               : LI-WEI HUNG,ROBERT IMMORMINO,TOM IOERGER,            \\nREMARK   3               : AIRLIE MCCOY,ERIK MCKEE,NIGEL MORIARTY,              \\nREMARK   3               : REETAL PAI,RANDY READ,JANE RICHARDSON,               \\nREMARK   3               : DAVID RICHARDSON,TOD ROMO,JIM SACCHETTINI,           \\nREMARK   3               : NICHOLAS SAUTER,JACOB SMITH,LAURENT                  \\nREMARK   3               : STORONI,TOM TERWILLIGER,PETER ZWART                  \\nREMARK   3                                                                      \\nREMARK   3    REFINEMENT TARGET : ML                                            \\nREMARK   3                                                                      \\nREMARK   3  DATA USED IN REFINEMENT.                                            \\nREMARK   3   RESOLUTION RANGE HIGH (ANGSTROMS) : 1.85                           \\nREMARK   3   RESOLUTION RANGE LOW  (ANGSTROMS) : 31.53                          \\nREMARK   3   MIN(FOBS/SIGMA_FOBS)              : 0.000                          \\nREMARK   3   COMPLETENESS FOR RANGE        (%) : 99.1                           \\nREMARK   3   NUMBER OF REFLECTIONS             : 6640                           \\nREMARK   3                                                                      \\nREMARK   3  FIT TO DATA USED IN REFINEMENT.                                     \\nREMARK   3   R VALUE     (WORKING + TEST SET) : 0.202                           \\nREMARK   3   R VALUE            (WORKING SET) : 0.200                           \\nREMARK   3   FREE R VALUE                     : 0.228                           \\nREMARK   3   FREE R VALUE TEST SET SIZE   (%) : 4.760                           \\nREMARK   3   FREE R VALUE TEST SET COUNT      : 316                             \\nREMARK   3                                                                      \\nREMARK   3  FIT TO DATA USED IN REFINEMENT (IN BINS).                           \\nREMARK   3   BIN  RESOLUTION RANGE  COMPL.    NWORK NFREE   RWORK  RFREE        \\nREMARK   3     1 31.5295 -  2.3309    1.00     3219   154  0.1910 0.2145        \\nREMARK   3     2  2.3309 -  1.8501    0.99     3105   162  0.2301 0.2627        \\nREMARK   3                                                                      \\nREMARK   3  BULK SOLVENT MODELLING.                                             \\nREMARK   3   METHOD USED        : FLAT BULK SOLVENT MODEL                       \\nREMARK   3   SOLVENT RADIUS     : 1.11                                          \\nREMARK   3   SHRINKAGE RADIUS   : 0.90                                          \\nREMARK   3   K_SOL              : 0.35                                          \\nREMARK   3   B_SOL              : 47.05                                         \\nREMARK   3                                                                      \\nREMARK   3  ERROR ESTIMATES.                                                    \\nREMARK   3   COORDINATE ERROR (MAXIMUM-LIKELIHOOD BASED)     : 0.240            \\nREMARK   3   PHASE ERROR (DEGREES, MAXIMUM-LIKELIHOOD BASED) : 24.930           \\nREMARK   3                                                                      \\nREMARK   3  B VALUES.                                                           \\nREMARK   3   FROM WILSON PLOT           (A**2) : 24.04                          \\nREMARK   3   MEAN B VALUE      (OVERALL, A**2) : 30.30                          \\nREMARK   3   OVERALL ANISOTROPIC B VALUE.                                       \\nREMARK   3    B11 (A**2) : NULL                                                 \\nREMARK   3    B22 (A**2) : NULL                                                 \\nREMARK   3    B33 (A**2) : NULL                                                 \\nREMARK   3    B12 (A**2) : NULL                                                 \\nREMARK   3    B13 (A**2) : NULL                                                 \\nREMARK   3    B23 (A**2) : NULL                                                 \\nREMARK   3                                                                      \\nREMARK   3  TWINNING INFORMATION.                                               \\nREMARK   3   FRACTION: NULL                                                     \\nREMARK   3   OPERATOR: NULL                                                     \\nREMARK   3                                                                      \\nREMARK   3  DEVIATIONS FROM IDEAL VALUES.                                       \\nREMARK   3                 RMSD          COUNT                                  \\nREMARK   3   BOND      :  0.005            423                                  \\nREMARK   3   ANGLE     :  0.760            569                                  \\nREMARK   3   CHIRALITY :  0.068             62                                  \\nREMARK   3   PLANARITY :  0.002             73                                  \\nREMARK   3   DIHEDRAL  : 17.205            141                                  \\nREMARK   3                                                                      \\nREMARK   3  TLS DETAILS                                                         \\nREMARK   3   NUMBER OF TLS GROUPS  : NULL                                       \\nREMARK   3                                                                      \\nREMARK   3  NCS DETAILS                                                         \\nREMARK   3   NUMBER OF NCS GROUPS : NULL                                        \\nREMARK   3                                                                      \\nREMARK   3  OTHER REFINEMENT REMARKS: NULL                                      \\nREMARK   4                                                                      \\nREMARK   4 3I40 COMPLIES WITH FORMAT V. 3.30, 13-JUL-11                         \\nREMARK 100                                                                      \\nREMARK 100 THIS ENTRY HAS BEEN PROCESSED BY PDBJ ON 06-JUL-09.                  \\nREMARK 100 THE DEPOSITION ID IS D_1000053935.                                   \\nREMARK 200                                                                      \\nREMARK 200 EXPERIMENTAL DETAILS                                                 \\nREMARK 200  EXPERIMENT TYPE                : X-RAY DIFFRACTION                  \\nREMARK 200  DATE OF DATA COLLECTION        : 10-MAR-09                          \\nREMARK 200  TEMPERATURE           (KELVIN) : 100                                \\nREMARK 200  PH                             : NULL                               \\nREMARK 200  NUMBER OF CRYSTALS USED        : 1                                  \\nREMARK 200                                                                      \\nREMARK 200  SYNCHROTRON              (Y/N) : N                                  \\nREMARK 200  RADIATION SOURCE               : ROTATING ANODE                     \\nREMARK 200  BEAMLINE                       : NULL                               \\nREMARK 200  X-RAY GENERATOR MODEL          : BRUKER AXS MICROSTAR               \\nREMARK 200  MONOCHROMATIC OR LAUE    (M/L) : M                                  \\nREMARK 200  WAVELENGTH OR RANGE        (A) : NULL                               \\nREMARK 200  MONOCHROMATOR                  : NULL                               \\nREMARK 200  OPTICS                         : NULL                               \\nREMARK 200                                                                      \\nREMARK 200  DETECTOR TYPE                  : CCD                                \\nREMARK 200  DETECTOR MANUFACTURER          : MAR CCD 165 MM                     \\nREMARK 200  INTENSITY-INTEGRATION SOFTWARE : DENZO                              \\nREMARK 200  DATA SCALING SOFTWARE          : NULL                               \\nREMARK 200                                                                      \\nREMARK 200  NUMBER OF UNIQUE REFLECTIONS   : 6677                               \\nREMARK 200  RESOLUTION RANGE HIGH      (A) : 1.850                              \\nREMARK 200  RESOLUTION RANGE LOW       (A) : 54.636                             \\nREMARK 200  REJECTION CRITERIA  (SIGMA(I)) : NULL                               \\nREMARK 200                                                                      \\nREMARK 200 OVERALL.                                                             \\nREMARK 200  COMPLETENESS FOR RANGE     (%) : NULL                               \\nREMARK 200  DATA REDUNDANCY                : NULL                               \\nREMARK 200  R MERGE                    (I) : NULL                               \\nREMARK 200  R SYM                      (I) : NULL                               \\nREMARK 200  <I/SIGMA(I)> FOR THE DATA SET  : NULL                               \\nREMARK 200                                                                      \\nREMARK 200 IN THE HIGHEST RESOLUTION SHELL.                                     \\nREMARK 200  HIGHEST RESOLUTION SHELL, RANGE HIGH (A) : NULL                     \\nREMARK 200  HIGHEST RESOLUTION SHELL, RANGE LOW  (A) : NULL                     \\nREMARK 200  COMPLETENESS FOR SHELL     (%) : NULL                               \\nREMARK 200  DATA REDUNDANCY IN SHELL       : NULL                               \\nREMARK 200  R MERGE FOR SHELL          (I) : NULL                               \\nREMARK 200  R SYM FOR SHELL            (I) : NULL                               \\nREMARK 200  <I/SIGMA(I)> FOR SHELL         : NULL                               \\nREMARK 200                                                                      \\nREMARK 200 DIFFRACTION PROTOCOL: SINGLE WAVELENGTH                              \\nREMARK 200 METHOD USED TO DETERMINE THE STRUCTURE: MOLECULAR REPLACEMENT        \\nREMARK 200 SOFTWARE USED: NULL                                                  \\nREMARK 200 STARTING MODEL: PDB ENTRY 2G4M                                       \\nREMARK 200                                                                      \\nREMARK 200 REMARK: NULL                                                         \\nREMARK 280                                                                      \\nREMARK 280 CRYSTAL                                                              \\nREMARK 280 SOLVENT CONTENT, VS   (%): 62.90                                     \\nREMARK 280 MATTHEWS COEFFICIENT, VM (ANGSTROMS**3/DA): 3.31                     \\nREMARK 280                                                                      \\nREMARK 280 CRYSTALLIZATION CONDITIONS: NULL                                     \\nREMARK 290                                                                      \\nREMARK 290 CRYSTALLOGRAPHIC SYMMETRY                                            \\nREMARK 290 SYMMETRY OPERATORS FOR SPACE GROUP: I 21 3                           \\nREMARK 290                                                                      \\nREMARK 290      SYMOP   SYMMETRY                                                \\nREMARK 290     NNNMMM   OPERATOR                                                \\nREMARK 290       1555   X,Y,Z                                                   \\nREMARK 290       2555   -X+1/2,-Y,Z+1/2                                         \\nREMARK 290       3555   -X,Y+1/2,-Z+1/2                                         \\nREMARK 290       4555   X+1/2,-Y+1/2,-Z                                         \\nREMARK 290       5555   Z,X,Y                                                   \\nREMARK 290       6555   Z+1/2,-X+1/2,-Y                                         \\nREMARK 290       7555   -Z+1/2,-X,Y+1/2                                         \\nREMARK 290       8555   -Z,X+1/2,-Y+1/2                                         \\nREMARK 290       9555   Y,Z,X                                                   \\nREMARK 290      10555   -Y,Z+1/2,-X+1/2                                         \\nREMARK 290      11555   Y+1/2,-Z+1/2,-X                                         \\nREMARK 290      12555   -Y+1/2,-Z,X+1/2                                         \\nREMARK 290      13555   X+1/2,Y+1/2,Z+1/2                                       \\nREMARK 290      14555   -X,-Y+1/2,Z                                             \\nREMARK 290      15555   -X+1/2,Y,-Z                                             \\nREMARK 290      16555   X,-Y,-Z+1/2                                             \\nREMARK 290      17555   Z+1/2,X+1/2,Y+1/2                                       \\nREMARK 290      18555   Z,-X,-Y+1/2                                             \\nREMARK 290      19555   -Z,-X+1/2,Y                                             \\nREMARK 290      20555   -Z+1/2,X,-Y                                             \\nREMARK 290      21555   Y+1/2,Z+1/2,X+1/2                                       \\nREMARK 290      22555   -Y+1/2,Z,-X                                             \\nREMARK 290      23555   Y,-Z,-X+1/2                                             \\nREMARK 290      24555   -Y,-Z+1/2,X                                             \\nREMARK 290                                                                      \\nREMARK 290     WHERE NNN -> OPERATOR NUMBER                                     \\nREMARK 290           MMM -> TRANSLATION VECTOR                                  \\nREMARK 290                                                                      \\nREMARK 290 CRYSTALLOGRAPHIC SYMMETRY TRANSFORMATIONS                            \\nREMARK 290 THE FOLLOWING TRANSFORMATIONS OPERATE ON THE ATOM/HETATM             \\nREMARK 290 RECORDS IN THIS ENTRY TO PRODUCE CRYSTALLOGRAPHICALLY                \\nREMARK 290 RELATED MOLECULES.                                                   \\nREMARK 290   SMTRY1   1  1.000000  0.000000  0.000000        0.00000            \\nREMARK 290   SMTRY2   1  0.000000  1.000000  0.000000        0.00000            \\nREMARK 290   SMTRY3   1  0.000000  0.000000  1.000000        0.00000            \\nREMARK 290   SMTRY1   2 -1.000000  0.000000  0.000000       38.61000            \\nREMARK 290   SMTRY2   2  0.000000 -1.000000  0.000000        0.00000            \\nREMARK 290   SMTRY3   2  0.000000  0.000000  1.000000       38.61000            \\nREMARK 290   SMTRY1   3 -1.000000  0.000000  0.000000        0.00000            \\nREMARK 290   SMTRY2   3  0.000000  1.000000  0.000000       38.61000            \\nREMARK 290   SMTRY3   3  0.000000  0.000000 -1.000000       38.61000            \\nREMARK 290   SMTRY1   4  1.000000  0.000000  0.000000       38.61000            \\nREMARK 290   SMTRY2   4  0.000000 -1.000000  0.000000       38.61000            \\nREMARK 290   SMTRY3   4  0.000000  0.000000 -1.000000        0.00000            \\nREMARK 290   SMTRY1   5  0.000000  0.000000  1.000000        0.00000            \\nREMARK 290   SMTRY2   5  1.000000  0.000000  0.000000        0.00000            \\nREMARK 290   SMTRY3   5  0.000000  1.000000  0.000000        0.00000            \\nREMARK 290   SMTRY1   6  0.000000  0.000000  1.000000       38.61000            \\nREMARK 290   SMTRY2   6 -1.000000  0.000000  0.000000       38.61000            \\nREMARK 290   SMTRY3   6  0.000000 -1.000000  0.000000        0.00000            \\nREMARK 290   SMTRY1   7  0.000000  0.000000 -1.000000       38.61000            \\nREMARK 290   SMTRY2   7 -1.000000  0.000000  0.000000        0.00000            \\nREMARK 290   SMTRY3   7  0.000000  1.000000  0.000000       38.61000            \\nREMARK 290   SMTRY1   8  0.000000  0.000000 -1.000000        0.00000            \\nREMARK 290   SMTRY2   8  1.000000  0.000000  0.000000       38.61000            \\nREMARK 290   SMTRY3   8  0.000000 -1.000000  0.000000       38.61000            \\nREMARK 290   SMTRY1   9  0.000000  1.000000  0.000000        0.00000            \\nREMARK 290   SMTRY2   9  0.000000  0.000000  1.000000        0.00000            \\nREMARK 290   SMTRY3   9  1.000000  0.000000  0.000000        0.00000            \\nREMARK 290   SMTRY1  10  0.000000 -1.000000  0.000000        0.00000            \\nREMARK 290   SMTRY2  10  0.000000  0.000000  1.000000       38.61000            \\nREMARK 290   SMTRY3  10 -1.000000  0.000000  0.000000       38.61000            \\nREMARK 290   SMTRY1  11  0.000000  1.000000  0.000000       38.61000            \\nREMARK 290   SMTRY2  11  0.000000  0.000000 -1.000000       38.61000            \\nREMARK 290   SMTRY3  11 -1.000000  0.000000  0.000000        0.00000            \\nREMARK 290   SMTRY1  12  0.000000 -1.000000  0.000000       38.61000            \\nREMARK 290   SMTRY2  12  0.000000  0.000000 -1.000000        0.00000            \\nREMARK 290   SMTRY3  12  1.000000  0.000000  0.000000       38.61000            \\nREMARK 290   SMTRY1  13  1.000000  0.000000  0.000000       38.61000            \\nREMARK 290   SMTRY2  13  0.000000  1.000000  0.000000       38.61000            \\nREMARK 290   SMTRY3  13  0.000000  0.000000  1.000000       38.61000            \\nREMARK 290   SMTRY1  14 -1.000000  0.000000  0.000000        0.00000            \\nREMARK 290   SMTRY2  14  0.000000 -1.000000  0.000000       38.61000            \\nREMARK 290   SMTRY3  14  0.000000  0.000000  1.000000        0.00000            \\nREMARK 290   SMTRY1  15 -1.000000  0.000000  0.000000       38.61000            \\nREMARK 290   SMTRY2  15  0.000000  1.000000  0.000000        0.00000            \\nREMARK 290   SMTRY3  15  0.000000  0.000000 -1.000000        0.00000            \\nREMARK 290   SMTRY1  16  1.000000  0.000000  0.000000        0.00000            \\nREMARK 290   SMTRY2  16  0.000000 -1.000000  0.000000        0.00000            \\nREMARK 290   SMTRY3  16  0.000000  0.000000 -1.000000       38.61000            \\nREMARK 290   SMTRY1  17  0.000000  0.000000  1.000000       38.61000            \\nREMARK 290   SMTRY2  17  1.000000  0.000000  0.000000       38.61000            \\nREMARK 290   SMTRY3  17  0.000000  1.000000  0.000000       38.61000            \\nREMARK 290   SMTRY1  18  0.000000  0.000000  1.000000        0.00000            \\nREMARK 290   SMTRY2  18 -1.000000  0.000000  0.000000        0.00000            \\nREMARK 290   SMTRY3  18  0.000000 -1.000000  0.000000       38.61000            \\nREMARK 290   SMTRY1  19  0.000000  0.000000 -1.000000        0.00000            \\nREMARK 290   SMTRY2  19 -1.000000  0.000000  0.000000       38.61000            \\nREMARK 290   SMTRY3  19  0.000000  1.000000  0.000000        0.00000            \\nREMARK 290   SMTRY1  20  0.000000  0.000000 -1.000000       38.61000            \\nREMARK 290   SMTRY2  20  1.000000  0.000000  0.000000        0.00000            \\nREMARK 290   SMTRY3  20  0.000000 -1.000000  0.000000        0.00000            \\nREMARK 290   SMTRY1  21  0.000000  1.000000  0.000000       38.61000            \\nREMARK 290   SMTRY2  21  0.000000  0.000000  1.000000       38.61000            \\nREMARK 290   SMTRY3  21  1.000000  0.000000  0.000000       38.61000            \\nREMARK 290   SMTRY1  22  0.000000 -1.000000  0.000000       38.61000            \\nREMARK 290   SMTRY2  22  0.000000  0.000000  1.000000        0.00000            \\nREMARK 290   SMTRY3  22 -1.000000  0.000000  0.000000        0.00000            \\nREMARK 290   SMTRY1  23  0.000000  1.000000  0.000000        0.00000            \\nREMARK 290   SMTRY2  23  0.000000  0.000000 -1.000000        0.00000            \\nREMARK 290   SMTRY3  23 -1.000000  0.000000  0.000000       38.61000            \\nREMARK 290   SMTRY1  24  0.000000 -1.000000  0.000000        0.00000            \\nREMARK 290   SMTRY2  24  0.000000  0.000000 -1.000000       38.61000            \\nREMARK 290   SMTRY3  24  1.000000  0.000000  0.000000        0.00000            \\nREMARK 290                                                                      \\nREMARK 290 REMARK: NULL                                                         \\nREMARK 300                                                                      \\nREMARK 300 BIOMOLECULE: 1                                                       \\nREMARK 300 SEE REMARK 350 FOR THE AUTHOR PROVIDED AND/OR PROGRAM                \\nREMARK 300 GENERATED ASSEMBLY INFORMATION FOR THE STRUCTURE IN                  \\nREMARK 300 THIS ENTRY. THE REMARK MAY ALSO PROVIDE INFORMATION ON               \\nREMARK 300 BURIED SURFACE AREA.                                                 \\nREMARK 350                                                                      \\nREMARK 350 COORDINATES FOR A COMPLETE MULTIMER REPRESENTING THE KNOWN           \\nREMARK 350 BIOLOGICALLY SIGNIFICANT OLIGOMERIZATION STATE OF THE                \\nREMARK 350 MOLECULE CAN BE GENERATED BY APPLYING BIOMT TRANSFORMATIONS          \\nREMARK 350 GIVEN BELOW.  BOTH NON-CRYSTALLOGRAPHIC AND                          \\nREMARK 350 CRYSTALLOGRAPHIC OPERATIONS ARE GIVEN.                               \\nREMARK 350                                                                      \\nREMARK 350 BIOMOLECULE: 1                                                       \\nREMARK 350 AUTHOR DETERMINED BIOLOGICAL UNIT: DIMERIC                           \\nREMARK 350 SOFTWARE DETERMINED QUATERNARY STRUCTURE: DIMERIC                    \\nREMARK 350 SOFTWARE USED: PISA                                                  \\nREMARK 350 TOTAL BURIED SURFACE AREA: 1520 ANGSTROM**2                          \\nREMARK 350 SURFACE AREA OF THE COMPLEX: 3380 ANGSTROM**2                        \\nREMARK 350 CHANGE IN SOLVENT FREE ENERGY: -14.0 KCAL/MOL                        \\nREMARK 350 APPLY THE FOLLOWING TO CHAINS: A, B                                  \\nREMARK 350   BIOMT1   1  1.000000  0.000000  0.000000        0.00000            \\nREMARK 350   BIOMT2   1  0.000000  1.000000  0.000000        0.00000            \\nREMARK 350   BIOMT3   1  0.000000  0.000000  1.000000        0.00000            \\nREMARK 900                                                                      \\nREMARK 900 RELATED ENTRIES                                                      \\nREMARK 900 RELATED ID: 3I3Z   RELATED DB: PDB                                   \\nREMARK 999                                                                      \\nREMARK 999 SEQUENCE                                                             \\nREMARK 999 THE CONFLICT OF THE SEQUENCE MAY DUE TO ARTIFACT.                    \\nDBREF  3I40 A    1    21  UNP    P01308   INS_HUMAN       90    110             \\nDBREF  3I40 B    1    30  UNP    P01308   INS_HUMAN       25     54             \\nSEQADV 3I40 ALA B   30  UNP  P01308    THR    54 SEE REMARK 999                 \\nSEQRES   1 A   21  GLY ILE VAL GLU GLN CYS CYS THR SER ILE CYS SER LEU          \\nSEQRES   2 A   21  TYR GLN LEU GLU ASN TYR CYS ASN                              \\nSEQRES   1 B   30  PHE VAL ASN GLN HIS LEU CYS GLY SER HIS LEU VAL GLU          \\nSEQRES   2 B   30  ALA LEU TYR LEU VAL CYS GLY GLU ARG GLY PHE PHE TYR          \\nSEQRES   3 B   30  THR PRO LYS ALA                                              \\nFORMUL   3  HOH   *35(H2 O)                                                     \\nHELIX    1   1 GLY A    1  CYS A    7  1                                   7    \\nHELIX    2   2 SER A   12  ASN A   18  1                                   7    \\nHELIX    3   3 GLY B    8  GLY B   20  1                                  13    \\nHELIX    4   4 GLU B   21  GLY B   23  5                                   3    \\nSSBOND   1 CYS A    6    CYS A   11                          1555   1555  2.03  \\nSSBOND   2 CYS A    7    CYS B    7                          1555   1555  2.04  \\nSSBOND   3 CYS A   20    CYS B   19                          1555   1555  2.04  \\nCRYST1   77.220   77.220   77.220  90.00  90.00  90.00 I 21 3       24          \\nORIGX1      1.000000  0.000000  0.000000        0.00000                         \\nORIGX2      0.000000  1.000000  0.000000        0.00000                         \\nORIGX3      0.000000  0.000000  1.000000        0.00000                         \\nSCALE1      0.012950  0.000000  0.000000        0.00000                         \\nSCALE2      0.000000  0.012950  0.000000        0.00000                         \\nSCALE3      0.000000  0.000000  0.012950        0.00000                         \\nATOM      1  N   GLY A   1     -27.279   6.238 -12.314  1.00 45.01           N  \\nATOM      2  CA  GLY A   1     -26.249   6.028 -11.313  1.00 43.47           C  \\nATOM      3  C   GLY A   1     -25.582   4.677 -11.471  1.00 34.37           C  \\nATOM      4  O   GLY A   1     -25.731   4.023 -12.501  1.00 30.09           O  \\nATOM      5  N   ILE A   2     -24.853   4.248 -10.446  1.00 32.71           N  \\nATOM      6  CA  ILE A   2     -24.070   3.023 -10.550  1.00 22.60           C  \\nATOM      7  C   ILE A   2     -24.915   1.786 -10.840  1.00 23.32           C  \\nATOM      8  O   ILE A   2     -24.469   0.865 -11.529  1.00 26.36           O  \\nATOM      9  CB  ILE A   2     -23.208   2.791  -9.302  1.00 28.24           C  \\nATOM     10  CG1 ILE A   2     -22.249   1.620  -9.538  1.00 25.03           C  \\nATOM     11  CG2 ILE A   2     -24.090   2.579  -8.068  1.00 32.70           C  \\nATOM     12  CD1 ILE A   2     -21.209   1.479  -8.457  1.00 30.60           C  \\nATOM     13  N   VAL A   3     -26.137   1.755 -10.324  1.00 27.13           N  \\nATOM     14  CA  VAL A   3     -26.993   0.599 -10.563  1.00 30.10           C  \\nATOM     15  C   VAL A   3     -27.324   0.471 -12.049  1.00 32.71           C  \\nATOM     16  O   VAL A   3     -27.258  -0.617 -12.621  1.00 28.83           O  \\nATOM     17  CB  VAL A   3     -28.284   0.657  -9.740  1.00 30.51           C  \\nATOM     18  CG1 VAL A   3     -29.194  -0.497 -10.127  1.00 35.07           C  \\nATOM     19  CG2 VAL A   3     -27.956   0.613  -8.242  1.00 27.53           C  \\nATOM     20  N   GLU A   4     -27.669   1.596 -12.667  1.00 34.97           N  \\nATOM     21  CA  GLU A   4     -28.001   1.627 -14.086  1.00 31.24           C  \\nATOM     22  C   GLU A   4     -26.797   1.224 -14.927  1.00 32.52           C  \\nATOM     23  O   GLU A   4     -26.933   0.517 -15.924  1.00 31.47           O  \\nATOM     24  CB  GLU A   4     -28.474   3.027 -14.485  1.00 38.19           C  \\nATOM     25  CG  GLU A   4     -29.829   3.420 -13.908  1.00 61.51           C  \\nATOM     26  CD  GLU A   4     -29.832   3.535 -12.387  1.00 66.16           C  \\nATOM     27  OE1 GLU A   4     -28.868   4.094 -11.814  1.00 42.60           O  \\nATOM     28  OE2 GLU A   4     -30.812   3.071 -11.762  1.00 67.86           O  \\nATOM     29  N   GLN A   5     -25.615   1.664 -14.508  1.00 28.29           N  \\nATOM     30  CA  GLN A   5     -24.393   1.410 -15.266  1.00 31.01           C  \\nATOM     31  C   GLN A   5     -23.776   0.028 -15.056  1.00 39.69           C  \\nATOM     32  O   GLN A   5     -23.149  -0.511 -15.967  1.00 26.39           O  \\nATOM     33  CB  GLN A   5     -23.349   2.492 -14.974  1.00 25.23           C  \\nATOM     34  CG  GLN A   5     -23.818   3.887 -15.346  1.00 38.13           C  \\nATOM     35  CD  GLN A   5     -24.535   3.921 -16.693  1.00 53.62           C  \\nATOM     36  OE1 GLN A   5     -24.074   3.334 -17.674  1.00 38.85           O  \\nATOM     37  NE2 GLN A   5     -25.671   4.609 -16.741  1.00 42.57           N  \\nATOM     38  N   CYS A   6     -23.940  -0.551 -13.868  1.00 22.46           N  \\nATOM     39  CA  CYS A   6     -23.214  -1.776 -13.549  1.00 20.37           C  \\nATOM     40  C   CYS A   6     -24.114  -2.963 -13.225  1.00 18.21           C  \\nATOM     41  O   CYS A   6     -23.677  -4.107 -13.293  1.00 21.83           O  \\nATOM     42  CB  CYS A   6     -22.235  -1.524 -12.396  1.00 22.32           C  \\nATOM     43  SG  CYS A   6     -20.756  -0.602 -12.893  1.00 27.82           S  \\nATOM     44  N   CYS A   7     -25.359  -2.685 -12.860  1.00 22.16           N  \\nATOM     45  CA  CYS A   7     -26.307  -3.744 -12.520  1.00 21.25           C  \\nATOM     46  C   CYS A   7     -27.245  -4.032 -13.690  1.00 31.44           C  \\nATOM     47  O   CYS A   7     -27.307  -5.155 -14.190  1.00 24.09           O  \\nATOM     48  CB  CYS A   7     -27.119  -3.351 -11.286  1.00 22.97           C  \\nATOM     49  SG  CYS A   7     -28.355  -4.584 -10.791  1.00 28.27           S  \\nATOM     50  N   THR A   8     -27.967  -3.001 -14.122  1.00 29.15           N  \\nATOM     51  CA  THR A   8     -28.901  -3.121 -15.236  1.00 29.59           C  \\nATOM     52  C   THR A   8     -28.147  -3.334 -16.542  1.00 34.52           C  \\nATOM     53  O   THR A   8     -28.647  -3.986 -17.454  1.00 38.61           O  \\nATOM     54  CB  THR A   8     -29.780  -1.868 -15.371  1.00 31.24           C  \\nATOM     55  OG1 THR A   8     -30.023  -1.303 -14.080  1.00 41.12           O  \\nATOM     56  CG2 THR A   8     -31.100  -2.218 -16.029  1.00 51.07           C  \\nATOM     57  N   SER A   9     -26.948  -2.769 -16.630  1.00 26.15           N  \\nATOM     58  CA  SER A   9     -26.064  -3.019 -17.765  1.00 21.41           C  \\nATOM     59  C   SER A   9     -24.699  -3.529 -17.309  1.00 32.36           C  \\nATOM     60  O   SER A   9     -24.419  -3.594 -16.111  1.00 29.40           O  \\nATOM     61  CB  SER A   9     -25.910  -1.765 -18.626  1.00 32.53           C  \\nATOM     62  OG  SER A   9     -25.465  -0.670 -17.851  1.00 47.07           O  \\nATOM     63  N   ILE A  10     -23.849  -3.891 -18.261  1.00 24.43           N  \\nATOM     64  CA  ILE A  10     -22.562  -4.492 -17.924  1.00 24.22           C  \\nATOM     65  C   ILE A  10     -21.591  -3.454 -17.367  1.00 30.49           C  \\nATOM     66  O   ILE A  10     -21.420  -2.380 -17.934  1.00 26.28           O  \\nATOM     67  CB  ILE A  10     -21.942  -5.216 -19.128  1.00 26.99           C  \\nATOM     68  CG1 ILE A  10     -22.880  -6.328 -19.595  1.00 26.49           C  \\nATOM     69  CG2 ILE A  10     -20.577  -5.790 -18.770  1.00 25.10           C  \\nATOM     70  CD1 ILE A  10     -22.302  -7.179 -20.689  1.00 44.31           C  \\nATOM     71  N   CYS A  11     -20.972  -3.790 -16.240  1.00 28.14           N  \\nATOM     72  CA  CYS A  11     -20.088  -2.876 -15.534  1.00 25.92           C  \\nATOM     73  C   CYS A  11     -18.752  -2.779 -16.258  1.00 36.06           C  \\nATOM     74  O   CYS A  11     -18.491  -3.524 -17.204  1.00 27.25           O  \\nATOM     75  CB  CYS A  11     -19.867  -3.387 -14.106  1.00 23.76           C  \\nATOM     76  SG  CYS A  11     -19.406  -2.114 -12.908  1.00 28.09           S  \\nATOM     77  N   SER A  12     -17.902  -1.865 -15.807  1.00 25.78           N  \\nATOM     78  CA  SER A  12     -16.554  -1.767 -16.349  1.00 22.91           C  \\nATOM     79  C   SER A  12     -15.634  -1.220 -15.281  1.00 19.20           C  \\nATOM     80  O   SER A  12     -16.076  -0.508 -14.375  1.00 18.62           O  \\nATOM     81  CB  SER A  12     -16.530  -0.845 -17.559  1.00 24.50           C  \\nATOM     82  OG  SER A  12     -16.681   0.502 -17.157  1.00 24.75           O  \\nATOM     83  N   LEU A  13     -14.346  -1.528 -15.392  1.00 22.17           N  \\nATOM     84  CA  LEU A  13     -13.378  -1.013 -14.426  1.00 19.72           C  \\nATOM     85  C   LEU A  13     -13.412   0.508 -14.438  1.00 22.22           C  \\nATOM     86  O   LEU A  13     -13.329   1.158 -13.393  1.00 17.29           O  \\nATOM     87  CB  LEU A  13     -11.971  -1.517 -14.751  1.00 19.22           C  \\nATOM     88  CG  LEU A  13     -10.860  -0.998 -13.840  1.00 17.99           C  \\nATOM     89  CD1 LEU A  13     -11.104  -1.386 -12.388  1.00 18.06           C  \\nATOM     90  CD2 LEU A  13      -9.522  -1.530 -14.308  1.00 15.25           C  \\nATOM     91  N   TYR A  14     -13.550   1.075 -15.632  1.00 19.94           N  \\nATOM     92  CA  TYR A  14     -13.559   2.521 -15.774  1.00 22.72           C  \\nATOM     93  C   TYR A  14     -14.638   3.140 -14.893  1.00 22.64           C  \\nATOM     94  O   TYR A  14     -14.391   4.094 -14.152  1.00 25.33           O  \\nATOM     95  CB ATYR A  14     -13.771   2.911 -17.239  0.50 27.81           C  \\nATOM     96  CB BTYR A  14     -13.786   2.928 -17.233  0.50 27.85           C  \\nATOM     97  CG ATYR A  14     -13.608   4.388 -17.494  0.50 28.31           C  \\nATOM     98  CG BTYR A  14     -13.829   4.427 -17.427  0.50 28.20           C  \\nATOM     99  CD1ATYR A  14     -12.442   4.893 -18.059  0.50 23.25           C  \\nATOM    100  CD1BTYR A  14     -12.714   5.121 -17.879  0.50 25.75           C  \\nATOM    101  CD2ATYR A  14     -14.614   5.282 -17.153  0.50 28.36           C  \\nATOM    102  CD2BTYR A  14     -14.980   5.152 -17.138  0.50 27.68           C  \\nATOM    103  CE1ATYR A  14     -12.289   6.252 -18.283  0.50 27.32           C  \\nATOM    104  CE1BTYR A  14     -12.746   6.496 -18.047  0.50 27.49           C  \\nATOM    105  CE2ATYR A  14     -14.472   6.636 -17.372  0.50 29.32           C  \\nATOM    106  CE2BTYR A  14     -15.021   6.527 -17.300  0.50 28.26           C  \\nATOM    107  CZ ATYR A  14     -13.311   7.117 -17.938  0.50 29.06           C  \\nATOM    108  CZ BTYR A  14     -13.902   7.193 -17.757  0.50 29.57           C  \\nATOM    109  OH ATYR A  14     -13.179   8.469 -18.153  0.50 33.01           O  \\nATOM    110  OH BTYR A  14     -13.938   8.561 -17.922  0.50 32.79           O  \\nATOM    111  N   GLN A  15     -15.837   2.584 -14.969  1.00 21.27           N  \\nATOM    112  CA  GLN A  15     -16.962   3.129 -14.222  1.00 21.51           C  \\nATOM    113  C   GLN A  15     -16.837   2.882 -12.722  1.00 17.30           C  \\nATOM    114  O   GLN A  15     -17.121   3.764 -11.917  1.00 20.82           O  \\nATOM    115  CB  GLN A  15     -18.275   2.561 -14.758  1.00 25.25           C  \\nATOM    116  CG  GLN A  15     -18.527   2.905 -16.214  1.00 32.75           C  \\nATOM    117  CD  GLN A  15     -19.997   3.039 -16.527  1.00 55.05           C  \\nATOM    118  OE1 GLN A  15     -20.680   3.914 -15.987  1.00 53.01           O  \\nATOM    119  NE2 GLN A  15     -20.497   2.177 -17.410  1.00 50.66           N  \\nATOM    120  N   LEU A  16     -16.399   1.687 -12.346  1.00 15.37           N  \\nATOM    121  CA  LEU A  16     -16.236   1.380 -10.930  1.00 17.02           C  \\nATOM    122  C   LEU A  16     -15.301   2.382 -10.273  1.00 16.55           C  \\nATOM    123  O   LEU A  16     -15.565   2.868  -9.172  1.00 19.70           O  \\nATOM    124  CB  LEU A  16     -15.703  -0.037 -10.742  1.00 24.64           C  \\nATOM    125  CG  LEU A  16     -16.709  -1.151 -11.013  1.00 24.23           C  \\nATOM    126  CD1 LEU A  16     -16.007  -2.496 -11.058  1.00 21.90           C  \\nATOM    127  CD2 LEU A  16     -17.786  -1.124  -9.936  1.00 18.48           C  \\nATOM    128  N   GLU A  17     -14.199   2.703 -10.950  1.00 17.86           N  \\nATOM    129  CA  GLU A  17     -13.219   3.608 -10.365  1.00 19.38           C  \\nATOM    130  C   GLU A  17     -13.763   5.026 -10.180  1.00 18.73           C  \\nATOM    131  O   GLU A  17     -13.259   5.782  -9.351  1.00 22.43           O  \\nATOM    132  CB  GLU A  17     -11.910   3.598 -11.155  1.00 20.40           C  \\nATOM    133  CG  GLU A  17     -11.090   2.343 -10.898  1.00 20.17           C  \\nATOM    134  CD  GLU A  17      -9.623   2.514 -11.240  1.00 22.14           C  \\nATOM    135  OE1 GLU A  17      -9.301   3.347 -12.110  1.00 22.42           O  \\nATOM    136  OE2 GLU A  17      -8.792   1.805 -10.640  1.00 27.73           O  \\nATOM    137  N   ASN A  18     -14.799   5.374 -10.932  1.00 20.29           N  \\nATOM    138  CA  ASN A  18     -15.480   6.657 -10.735  1.00 20.00           C  \\nATOM    139  C   ASN A  18     -16.080   6.766  -9.334  1.00 26.36           C  \\nATOM    140  O   ASN A  18     -16.469   7.849  -8.890  1.00 28.46           O  \\nATOM    141  CB  ASN A  18     -16.587   6.839 -11.774  1.00 21.66           C  \\nATOM    142  CG  ASN A  18     -16.061   7.344 -13.113  1.00 25.89           C  \\nATOM    143  OD1 ASN A  18     -15.007   7.974 -13.180  1.00 32.32           O  \\nATOM    144  ND2 ASN A  18     -16.802   7.070 -14.180  1.00 38.57           N  \\nATOM    145  N   TYR A  19     -16.163   5.640  -8.638  1.00 20.84           N  \\nATOM    146  CA  TYR A  19     -16.803   5.618  -7.327  1.00 18.56           C  \\nATOM    147  C   TYR A  19     -15.822   5.394  -6.180  1.00 23.20           C  \\nATOM    148  O   TYR A  19     -16.223   5.337  -5.018  1.00 27.54           O  \\nATOM    149  CB  TYR A  19     -17.945   4.599  -7.298  1.00 20.89           C  \\nATOM    150  CG  TYR A  19     -19.068   4.966  -8.236  1.00 21.62           C  \\nATOM    151  CD1 TYR A  19     -19.115   4.453  -9.521  1.00 23.43           C  \\nATOM    152  CD2 TYR A  19     -20.066   5.848  -7.844  1.00 26.68           C  \\nATOM    153  CE1 TYR A  19     -20.126   4.796 -10.385  1.00 24.39           C  \\nATOM    154  CE2 TYR A  19     -21.082   6.200  -8.708  1.00 31.02           C  \\nATOM    155  CZ  TYR A  19     -21.104   5.672  -9.979  1.00 28.36           C  \\nATOM    156  OH  TYR A  19     -22.114   6.009 -10.853  1.00 42.08           O  \\nATOM    157  N   CYS A  20     -14.534   5.281  -6.499  1.00 21.90           N  \\nATOM    158  CA  CYS A  20     -13.510   5.251  -5.459  1.00 19.66           C  \\nATOM    159  C   CYS A  20     -13.334   6.645  -4.882  1.00 28.69           C  \\nATOM    160  O   CYS A  20     -13.526   7.639  -5.585  1.00 30.53           O  \\nATOM    161  CB  CYS A  20     -12.169   4.783  -6.021  1.00 22.84           C  \\nATOM    162  SG  CYS A  20     -12.209   3.187  -6.829  1.00 22.45           S  \\nATOM    163  N   ASN A  21     -12.955   6.716  -3.609  1.00 26.51           N  \\nATOM    164  CA  ASN A  21     -12.630   7.993  -2.976  1.00 36.60           C  \\nATOM    165  C   ASN A  21     -11.279   8.511  -3.448  1.00 35.58           C  \\nATOM    166  O   ASN A  21     -10.515   7.790  -4.091  1.00 36.84           O  \\nATOM    167  CB  ASN A  21     -12.615   7.863  -1.450  1.00 34.89           C  \\nATOM    168  CG  ASN A  21     -13.978   7.548  -0.878  1.00 33.46           C  \\nATOM    169  OD1 ASN A  21     -14.107   6.726   0.029  1.00 48.60           O  \\nATOM    170  ND2 ASN A  21     -15.008   8.198  -1.408  1.00 39.53           N  \\nATOM    171  OXT ASN A  21     -10.922   9.659  -3.189  1.00 58.00           O  \\nTER     172      ASN A  21                                                      \\nATOM    173  N   PHE B   1     -13.174  -9.740 -13.251  1.00 44.56           N  \\nATOM    174  CA  PHE B   1     -14.387  -9.892 -12.452  1.00 53.84           C  \\nATOM    175  C   PHE B   1     -15.310  -8.684 -12.590  1.00 44.51           C  \\nATOM    176  O   PHE B   1     -16.451  -8.715 -12.133  1.00 40.17           O  \\nATOM    177  CB  PHE B   1     -14.042 -10.126 -10.973  1.00 47.36           C  \\nATOM    178  CG  PHE B   1     -13.222  -9.024 -10.356  1.00 43.05           C  \\nATOM    179  CD1 PHE B   1     -13.816  -8.050  -9.571  1.00 39.13           C  \\nATOM    180  CD2 PHE B   1     -11.854  -8.964 -10.565  1.00 48.11           C  \\nATOM    181  CE1 PHE B   1     -13.059  -7.037  -9.008  1.00 29.34           C  \\nATOM    182  CE2 PHE B   1     -11.093  -7.959 -10.002  1.00 34.97           C  \\nATOM    183  CZ  PHE B   1     -11.696  -6.993  -9.224  1.00 36.24           C  \\nATOM    184  N   VAL B   2     -14.819  -7.623 -13.228  1.00 27.44           N  \\nATOM    185  CA  VAL B   2     -15.568  -6.367 -13.273  1.00 25.65           C  \\nATOM    186  C   VAL B   2     -16.402  -6.197 -14.541  1.00 30.55           C  \\nATOM    187  O   VAL B   2     -17.249  -5.306 -14.628  1.00 30.98           O  \\nATOM    188  CB  VAL B   2     -14.633  -5.163 -13.114  1.00 32.50           C  \\nATOM    189  CG1 VAL B   2     -14.056  -5.139 -11.705  1.00 29.74           C  \\nATOM    190  CG2 VAL B   2     -13.519  -5.227 -14.141  1.00 45.24           C  \\nATOM    191  N   ASN B   3     -16.158  -7.045 -15.528  1.00 28.57           N  \\nATOM    192  CA  ASN B   3     -16.844  -6.904 -16.806  1.00 31.00           C  \\nATOM    193  C   ASN B   3     -18.072  -7.800 -16.928  1.00 29.49           C  \\nATOM    194  O   ASN B   3     -18.115  -8.720 -17.743  1.00 28.57           O  \\nATOM    195  CB  ASN B   3     -15.854  -7.122 -17.946  1.00 31.67           C  \\nATOM    196  CG  ASN B   3     -14.703  -6.139 -17.888  1.00 35.45           C  \\nATOM    197  OD1 ASN B   3     -13.561  -6.507 -17.600  1.00 38.37           O  \\nATOM    198  ND2 ASN B   3     -15.009  -4.871 -18.113  1.00 23.34           N  \\nATOM    199  N   GLN B   4     -19.073  -7.514 -16.099  1.00 31.90           N  \\nATOM    200  CA  GLN B   4     -20.313  -8.287 -16.082  1.00 28.96           C  \\nATOM    201  C   GLN B   4     -21.397  -7.521 -15.328  1.00 23.12           C  \\nATOM    202  O   GLN B   4     -21.154  -6.432 -14.812  1.00 26.67           O  \\nATOM    203  CB  GLN B   4     -20.079  -9.648 -15.425  1.00 33.50           C  \\nATOM    204  CG  GLN B   4     -19.608  -9.556 -13.987  1.00 31.03           C  \\nATOM    205  CD  GLN B   4     -19.344 -10.918 -13.379  1.00 54.72           C  \\nATOM    206  OE1 GLN B   4     -20.210 -11.794 -13.390  1.00 51.79           O  \\nATOM    207  NE2 GLN B   4     -18.144 -11.105 -12.840  1.00 41.70           N  \\nATOM    208  N   HIS B   5     -22.599  -8.080 -15.281  1.00 25.17           N  \\nATOM    209  CA  HIS B   5     -23.666  -7.471 -14.503  1.00 26.87           C  \\nATOM    210  C   HIS B   5     -23.358  -7.685 -13.035  1.00 26.33           C  \\nATOM    211  O   HIS B   5     -23.193  -8.822 -12.595  1.00 25.34           O  \\nATOM    212  CB  HIS B   5     -25.013  -8.109 -14.834  1.00 24.65           C  \\nATOM    213  CG  HIS B   5     -25.462  -7.871 -16.239  1.00 27.43           C  \\nATOM    214  ND1 HIS B   5     -26.235  -6.787 -16.598  1.00 29.87           N  \\nATOM    215  CD2 HIS B   5     -25.241  -8.570 -17.377  1.00 27.84           C  \\nATOM    216  CE1 HIS B   5     -26.478  -6.833 -17.896  1.00 24.52           C  \\nATOM    217  NE2 HIS B   5     -25.885  -7.905 -18.393  1.00 35.03           N  \\nATOM    218  N   LEU B   6     -23.267  -6.592 -12.287  1.00 22.69           N  \\nATOM    219  CA  LEU B   6     -22.974  -6.660 -10.862  1.00 21.06           C  \\nATOM    220  C   LEU B   6     -24.052  -5.932 -10.079  1.00 21.50           C  \\nATOM    221  O   LEU B   6     -24.197  -4.715 -10.194  1.00 22.66           O  \\nATOM    222  CB  LEU B   6     -21.612  -6.034 -10.568  1.00 20.56           C  \\nATOM    223  CG  LEU B   6     -20.418  -6.665 -11.281  1.00 20.16           C  \\nATOM    224  CD1 LEU B   6     -19.190  -5.786 -11.103  1.00 20.54           C  \\nATOM    225  CD2 LEU B   6     -20.155  -8.064 -10.763  1.00 25.22           C  \\nATOM    226  N   CYS B   7     -24.800  -6.679  -9.273  1.00 20.58           N  \\nATOM    227  CA  CYS B   7     -25.899  -6.104  -8.513  1.00 22.46           C  \\nATOM    228  C   CYS B   7     -25.754  -6.421  -7.034  1.00 22.72           C  \\nATOM    229  O   CYS B   7     -25.231  -7.471  -6.665  1.00 21.90           O  \\nATOM    230  CB  CYS B   7     -27.236  -6.664  -9.009  1.00 28.16           C  \\nATOM    231  SG  CYS B   7     -27.554  -6.459 -10.788  1.00 29.45           S  \\nATOM    232  N   GLY B   8     -26.229  -5.514  -6.191  1.00 21.36           N  \\nATOM    233  CA  GLY B   8     -26.233  -5.745  -4.759  1.00 22.98           C  \\nATOM    234  C   GLY B   8     -24.859  -6.051  -4.209  1.00 20.91           C  \\nATOM    235  O   GLY B   8     -23.911  -5.316  -4.465  1.00 23.25           O  \\nATOM    236  N   SER B   9     -24.741  -7.136  -3.447  1.00 18.12           N  \\nATOM    237  CA  SER B   9     -23.484  -7.444  -2.778  1.00 15.90           C  \\nATOM    238  C   SER B   9     -22.360  -7.702  -3.780  1.00 18.45           C  \\nATOM    239  O   SER B   9     -21.183  -7.509  -3.473  1.00 17.21           O  \\nATOM    240  CB  SER B   9     -23.648  -8.663  -1.863  1.00 19.34           C  \\nATOM    241  OG  SER B   9     -23.919  -9.813  -2.638  1.00 20.35           O  \\nATOM    242  N   HIS B  10     -22.730  -8.151  -4.972  1.00 14.91           N  \\nATOM    243  CA  HIS B  10     -21.764  -8.403  -6.039  1.00 17.86           C  \\nATOM    244  C   HIS B  10     -21.093  -7.097  -6.470  1.00 18.59           C  \\nATOM    245  O   HIS B  10     -19.891  -7.055  -6.725  1.00 17.96           O  \\nATOM    246  CB  HIS B  10     -22.471  -9.047  -7.236  1.00 18.56           C  \\nATOM    247  CG  HIS B  10     -23.081 -10.384  -6.933  1.00 23.08           C  \\nATOM    248  ND1 HIS B  10     -23.461 -11.269  -7.919  1.00 27.72           N  \\nATOM    249  CD2 HIS B  10     -23.366 -10.990  -5.755  1.00 23.69           C  \\nATOM    250  CE1 HIS B  10     -23.951 -12.364  -7.363  1.00 29.56           C  \\nATOM    251  NE2 HIS B  10     -23.906 -12.220  -6.050  1.00 22.03           N  \\nATOM    252  N   LEU B  11     -21.886  -6.037  -6.550  1.00 16.34           N  \\nATOM    253  CA  LEU B  11     -21.398  -4.713  -6.938  1.00 16.50           C  \\nATOM    254  C   LEU B  11     -20.523  -4.120  -5.847  1.00 19.44           C  \\nATOM    255  O   LEU B  11     -19.446  -3.585  -6.105  1.00 17.25           O  \\nATOM    256  CB  LEU B  11     -22.588  -3.788  -7.211  1.00 16.97           C  \\nATOM    257  CG  LEU B  11     -22.268  -2.390  -7.735  1.00 22.79           C  \\nATOM    258  CD1 LEU B  11     -21.211  -2.486  -8.812  1.00 17.51           C  \\nATOM    259  CD2 LEU B  11     -23.529  -1.754  -8.277  1.00 22.41           C  \\nATOM    260  N   VAL B  12     -20.990  -4.218  -4.610  1.00 15.40           N  \\nATOM    261  CA  VAL B  12     -20.242  -3.690  -3.490  1.00 13.81           C  \\nATOM    262  C   VAL B  12     -18.902  -4.422  -3.332  1.00 15.23           C  \\nATOM    263  O   VAL B  12     -17.879  -3.825  -2.988  1.00 14.98           O  \\nATOM    264  CB  VAL B  12     -21.096  -3.776  -2.212  1.00 24.43           C  \\nATOM    265  CG1 VAL B  12     -20.252  -3.609  -1.029  1.00 30.29           C  \\nATOM    266  CG2 VAL B  12     -22.169  -2.694  -2.241  1.00 21.29           C  \\nATOM    267  N   GLU B  13     -18.912  -5.721  -3.589  1.00 14.50           N  \\nATOM    268  CA  GLU B  13     -17.695  -6.515  -3.515  1.00 14.19           C  \\nATOM    269  C   GLU B  13     -16.682  -6.056  -4.574  1.00 15.30           C  \\nATOM    270  O   GLU B  13     -15.481  -5.936  -4.304  1.00 16.00           O  \\nATOM    271  CB  GLU B  13     -18.046  -7.986  -3.712  1.00 22.91           C  \\nATOM    272  CG  GLU B  13     -16.884  -8.875  -4.073  1.00 31.68           C  \\nATOM    273  CD  GLU B  13     -17.296 -10.336  -4.139  1.00 35.29           C  \\nATOM    274  OE1 GLU B  13     -17.726 -10.873  -3.092  1.00 24.65           O  \\nATOM    275  OE2 GLU B  13     -17.204 -10.932  -5.236  1.00 35.79           O  \\nATOM    276  N   ALA B  14     -17.166  -5.811  -5.782  1.00 16.94           N  \\nATOM    277  CA  ALA B  14     -16.298  -5.308  -6.856  1.00 19.02           C  \\nATOM    278  C   ALA B  14     -15.701  -3.941  -6.523  1.00 17.95           C  \\nATOM    279  O   ALA B  14     -14.507  -3.704  -6.731  1.00 16.40           O  \\nATOM    280  CB  ALA B  14     -17.065  -5.240  -8.157  1.00 19.13           C  \\nATOM    281  N   LEU B  15     -16.536  -3.036  -6.021  1.00 15.53           N  \\nATOM    282  CA  LEU B  15     -16.066  -1.724  -5.592  1.00 13.58           C  \\nATOM    283  C   LEU B  15     -14.977  -1.846  -4.540  1.00 20.33           C  \\nATOM    284  O   LEU B  15     -13.957  -1.159  -4.594  1.00 17.96           O  \\nATOM    285  CB  LEU B  15     -17.228  -0.890  -5.054  1.00 17.56           C  \\nATOM    286  CG  LEU B  15     -18.132  -0.253  -6.108  1.00 19.95           C  \\nATOM    287  CD1 LEU B  15     -19.434   0.217  -5.476  1.00 19.70           C  \\nATOM    288  CD2 LEU B  15     -17.420   0.908  -6.806  1.00 19.43           C  \\nATOM    289  N   TYR B  16     -15.196  -2.733  -3.580  1.00 16.41           N  \\nATOM    290  CA  TYR B  16     -14.214  -2.982  -2.528  1.00 14.22           C  \\nATOM    291  C   TYR B  16     -12.884  -3.467  -3.093  1.00 18.76           C  \\nATOM    292  O   TYR B  16     -11.823  -2.978  -2.708  1.00 14.92           O  \\nATOM    293  CB  TYR B  16     -14.766  -4.015  -1.551  1.00 13.58           C  \\nATOM    294  CG  TYR B  16     -13.748  -4.582  -0.595  1.00 15.85           C  \\nATOM    295  CD1 TYR B  16     -13.213  -3.811   0.431  1.00 19.91           C  \\nATOM    296  CD2 TYR B  16     -13.338  -5.909  -0.707  1.00 14.31           C  \\nATOM    297  CE1 TYR B  16     -12.290  -4.347   1.318  1.00 18.93           C  \\nATOM    298  CE2 TYR B  16     -12.419  -6.445   0.163  1.00 16.89           C  \\nATOM    299  CZ  TYR B  16     -11.899  -5.665   1.173  1.00 19.03           C  \\nATOM    300  OH  TYR B  16     -10.991  -6.225   2.037  1.00 19.26           O  \\nATOM    301  N   LEU B  17     -12.941  -4.437  -4.002  1.00 17.26           N  \\nATOM    302  CA  LEU B  17     -11.725  -4.998  -4.583  1.00 17.15           C  \\nATOM    303  C   LEU B  17     -10.983  -3.979  -5.439  1.00 20.48           C  \\nATOM    304  O   LEU B  17      -9.751  -3.889  -5.407  1.00 20.37           O  \\nATOM    305  CB  LEU B  17     -12.060  -6.221  -5.428  1.00 16.44           C  \\nATOM    306  CG  LEU B  17     -12.491  -7.468  -4.651  1.00 17.44           C  \\nATOM    307  CD1 LEU B  17     -12.867  -8.590  -5.593  1.00 22.58           C  \\nATOM    308  CD2 LEU B  17     -11.383  -7.898  -3.717  1.00 22.13           C  \\nATOM    309  N   VAL B  18     -11.738  -3.226  -6.224  1.00 18.15           N  \\nATOM    310  CA  VAL B  18     -11.150  -2.270  -7.151  1.00 18.50           C  \\nATOM    311  C   VAL B  18     -10.557  -1.063  -6.431  1.00 22.53           C  \\nATOM    312  O   VAL B  18      -9.454  -0.628  -6.747  1.00 21.63           O  \\nATOM    313  CB  VAL B  18     -12.188  -1.824  -8.207  1.00 19.51           C  \\nATOM    314  CG1 VAL B  18     -11.714  -0.594  -8.955  1.00 28.07           C  \\nATOM    315  CG2 VAL B  18     -12.468  -2.973  -9.165  1.00 23.98           C  \\nATOM    316  N   CYS B  19     -11.268  -0.548  -5.433  1.00 19.45           N  \\nATOM    317  CA  CYS B  19     -10.874   0.709  -4.803  1.00 21.28           C  \\nATOM    318  C   CYS B  19      -9.819   0.588  -3.702  1.00 26.60           C  \\nATOM    319  O   CYS B  19      -9.167   1.576  -3.355  1.00 25.82           O  \\nATOM    320  CB  CYS B  19     -12.102   1.455  -4.285  1.00 20.90           C  \\nATOM    321  SG  CYS B  19     -13.231   1.932  -5.593  1.00 21.21           S  \\nATOM    322  N   GLY B  20      -9.653  -0.608  -3.150  1.00 25.20           N  \\nATOM    323  CA  GLY B  20      -8.606  -0.825  -2.167  1.00 33.63           C  \\nATOM    324  C   GLY B  20      -8.661   0.162  -1.014  1.00 39.29           C  \\nATOM    325  O   GLY B  20      -9.737   0.464  -0.501  1.00 27.87           O  \\nATOM    326  N   GLU B  21      -7.507   0.678  -0.599  1.00 30.38           N  \\nATOM    327  CA  GLU B  21      -7.474   1.534   0.591  1.00 34.13           C  \\nATOM    328  C   GLU B  21      -8.014   2.944   0.351  1.00 23.63           C  \\nATOM    329  O   GLU B  21      -8.123   3.737   1.283  1.00 35.45           O  \\nATOM    330  CB  GLU B  21      -6.075   1.569   1.220  1.00 45.91           C  \\nATOM    331  CG  GLU B  21      -5.015   2.280   0.401  1.00 57.50           C  \\nATOM    332  CD  GLU B  21      -3.631   2.179   1.034  1.00 75.22           C  \\nATOM    333  OE1 GLU B  21      -2.707   2.876   0.563  1.00 79.46           O  \\nATOM    334  OE2 GLU B  21      -3.470   1.401   2.002  1.00 57.31           O  \\nATOM    335  N   ARG B  22      -8.356   3.251  -0.897  1.00 27.41           N  \\nATOM    336  CA  ARG B  22      -9.040   4.498  -1.213  1.00 28.81           C  \\nATOM    337  C   ARG B  22     -10.456   4.461  -0.645  1.00 33.76           C  \\nATOM    338  O   ARG B  22     -11.008   5.480  -0.235  1.00 31.35           O  \\nATOM    339  CB  ARG B  22      -9.130   4.700  -2.726  1.00 30.48           C  \\nATOM    340  CG  ARG B  22      -7.876   5.228  -3.400  1.00 38.41           C  \\nATOM    341  CD  ARG B  22      -8.072   5.288  -4.922  1.00 44.34           C  \\nATOM    342  NE  ARG B  22      -8.003   3.963  -5.546  1.00 61.53           N  \\nATOM    343  CZ  ARG B  22      -8.246   3.711  -6.833  1.00 56.00           C  \\nATOM    344  NH1 ARG B  22      -8.151   2.467  -7.288  1.00 37.21           N  \\nATOM    345  NH2 ARG B  22      -8.588   4.690  -7.664  1.00 33.73           N  \\nATOM    346  N   GLY B  23     -11.048   3.276  -0.627  1.00 23.72           N  \\nATOM    347  CA  GLY B  23     -12.442   3.151  -0.243  1.00 25.22           C  \\nATOM    348  C   GLY B  23     -13.323   3.633  -1.376  1.00 26.84           C  \\nATOM    349  O   GLY B  23     -12.832   3.954  -2.460  1.00 20.71           O  \\nATOM    350  N   PHE B  24     -14.625   3.700  -1.132  1.00 18.98           N  \\nATOM    351  CA  PHE B  24     -15.558   4.055  -2.188  1.00 17.55           C  \\nATOM    352  C   PHE B  24     -16.875   4.561  -1.614  1.00 23.50           C  \\nATOM    353  O   PHE B  24     -17.092   4.530  -0.402  1.00 24.02           O  \\nATOM    354  CB  PHE B  24     -15.811   2.837  -3.086  1.00 17.36           C  \\nATOM    355  CG  PHE B  24     -16.428   1.661  -2.361  1.00 19.89           C  \\nATOM    356  CD1 PHE B  24     -15.628   0.691  -1.776  1.00 18.48           C  \\nATOM    357  CD2 PHE B  24     -17.811   1.527  -2.269  1.00 22.89           C  \\nATOM    358  CE1 PHE B  24     -16.189  -0.390  -1.107  1.00 21.90           C  \\nATOM    359  CE2 PHE B  24     -18.378   0.446  -1.597  1.00 19.48           C  \\nATOM    360  CZ  PHE B  24     -17.562  -0.513  -1.015  1.00 19.73           C  \\nATOM    361  N   PHE B  25     -17.742   5.048  -2.487  1.00 23.02           N  \\nATOM    362  CA  PHE B  25     -19.108   5.343  -2.088  1.00 26.05           C  \\nATOM    363  C   PHE B  25     -20.081   4.558  -2.948  1.00 29.87           C  \\nATOM    364  O   PHE B  25     -19.912   4.448  -4.158  1.00 25.71           O  \\nATOM    365  CB  PHE B  25     -19.410   6.848  -2.118  1.00 30.50           C  \\nATOM    366  CG  PHE B  25     -19.035   7.523  -3.399  1.00 36.46           C  \\nATOM    367  CD1 PHE B  25     -17.729   7.929  -3.625  1.00 41.85           C  \\nATOM    368  CD2 PHE B  25     -19.989   7.772  -4.374  1.00 47.50           C  \\nATOM    369  CE1 PHE B  25     -17.376   8.562  -4.808  1.00 51.84           C  \\nATOM    370  CE2 PHE B  25     -19.645   8.407  -5.560  1.00 37.96           C  \\nATOM    371  CZ  PHE B  25     -18.336   8.802  -5.778  1.00 47.77           C  \\nATOM    372  N   TYR B  26     -21.090   3.991  -2.301  1.00 26.11           N  \\nATOM    373  CA  TYR B  26     -22.087   3.184  -2.976  1.00 19.37           C  \\nATOM    374  C   TYR B  26     -23.429   3.866  -2.826  1.00 26.37           C  \\nATOM    375  O   TYR B  26     -23.966   3.954  -1.726  1.00 25.08           O  \\nATOM    376  CB  TYR B  26     -22.136   1.795  -2.350  1.00 18.99           C  \\nATOM    377  CG  TYR B  26     -23.255   0.930  -2.876  1.00 21.56           C  \\nATOM    378  CD1 TYR B  26     -24.280   0.506  -2.042  1.00 24.62           C  \\nATOM    379  CD2 TYR B  26     -23.285   0.533  -4.203  1.00 23.44           C  \\nATOM    380  CE1 TYR B  26     -25.304  -0.295  -2.516  1.00 26.30           C  \\nATOM    381  CE2 TYR B  26     -24.304  -0.265  -4.690  1.00 25.09           C  \\nATOM    382  CZ  TYR B  26     -25.313  -0.675  -3.842  1.00 27.86           C  \\nATOM    383  OH  TYR B  26     -26.328  -1.469  -4.320  1.00 29.25           O  \\nATOM    384  N   THR B  27     -23.960   4.365  -3.936  1.00 28.14           N  \\nATOM    385  CA  THR B  27     -25.185   5.147  -3.909  1.00 37.14           C  \\nATOM    386  C   THR B  27     -26.169   4.594  -4.936  1.00 32.53           C  \\nATOM    387  O   THR B  27     -26.193   5.035  -6.082  1.00 36.20           O  \\nATOM    388  CB  THR B  27     -24.889   6.637  -4.188  1.00 36.89           C  \\nATOM    389  OG1 THR B  27     -24.271   6.772  -5.473  1.00 57.47           O  \\nATOM    390  CG2 THR B  27     -23.936   7.182  -3.151  1.00 33.01           C  \\nATOM    391  N   PRO B  28     -26.989   3.620  -4.517  1.00 29.25           N  \\nATOM    392  CA  PRO B  28     -27.893   2.887  -5.411  1.00 32.94           C  \\nATOM    393  C   PRO B  28     -29.081   3.726  -5.872  1.00 32.76           C  \\nATOM    394  O   PRO B  28     -29.671   3.417  -6.908  1.00 36.05           O  \\nATOM    395  CB  PRO B  28     -28.401   1.730  -4.542  1.00 31.48           C  \\nATOM    396  CG  PRO B  28     -27.658   1.813  -3.247  1.00 28.54           C  \\nATOM    397  CD  PRO B  28     -27.128   3.190  -3.118  1.00 34.39           C  \\nATOM    398  N   LYS B  29     -29.436   4.751  -5.105  1.00 34.79           N  \\nATOM    399  CA  LYS B  29     -30.532   5.642  -5.483  1.00 49.07           C  \\nATOM    400  C   LYS B  29     -30.051   6.834  -6.309  1.00 63.70           C  \\nATOM    401  O   LYS B  29     -30.669   7.191  -7.315  1.00 73.47           O  \\nATOM    402  CB  LYS B  29     -31.305   6.122  -4.251  1.00 62.86           C  \\nATOM    403  CG  LYS B  29     -32.706   5.526  -4.105  1.00 74.15           C  \\nATOM    404  CD  LYS B  29     -32.690   4.118  -3.525  1.00 72.32           C  \\nATOM    405  CE  LYS B  29     -32.356   3.061  -4.572  1.00 68.55           C  \\nATOM    406  NZ  LYS B  29     -33.458   2.854  -5.553  1.00 59.40           N  \\nATOM    407  N   ALA B  30     -28.950   7.446  -5.884  1.00 72.05           N  \\nATOM    408  CA  ALA B  30     -28.366   8.568  -6.616  1.00 74.07           C  \\nATOM    409  C   ALA B  30     -27.782   8.115  -7.955  1.00 73.01           C  \\nATOM    410  O   ALA B  30     -27.485   8.928  -8.831  1.00 64.47           O  \\nATOM    411  CB  ALA B  30     -27.302   9.269  -5.772  1.00 56.14           C  \\nATOM    412  OXT ALA B  30     -27.594   6.921  -8.197  1.00 73.19           O  \\nTER     413      ALA B  30                                                      \\nHETATM  414  O   HOH A  22     -29.500  -7.696 -14.149  1.00 50.68           O  \\nHETATM  415  O   HOH A  23     -11.374  10.214 -16.391  1.00 40.62           O  \\nHETATM  416  O   HOH A  24     -11.187   9.560 -19.007  1.00 44.09           O  \\nHETATM  417  O   HOH A  25     -22.708  -0.422 -18.245  1.00 25.03           O  \\nHETATM  418  O   HOH A  26     -17.282   8.923   0.122  1.00 44.14           O  \\nHETATM  419  O   HOH A  27     -27.802  -5.289 -20.151  1.00 41.02           O  \\nHETATM  420  O   HOH A  28     -13.732   9.674 -11.684  1.00 48.35           O  \\nHETATM  421  O   HOH A  29     -26.166   6.685 -14.912  1.00 50.84           O  \\nHETATM  422  O   HOH A  30     -30.826  -5.812 -17.868  1.00 54.11           O  \\nHETATM  423  O   HOH A  31     -14.803   9.989  -8.715  1.00 62.79           O  \\nHETATM  424  O   HOH A  32     -19.609   9.964  -9.626  1.00 46.30           O  \\nHETATM  425  O   HOH A  33     -13.690  11.749 -14.300  1.00 49.90           O  \\nHETATM  426  O   HOH B  31     -24.729  10.263 -12.014  1.00 61.01           O  \\nHETATM  427  O   HOH B  32     -20.724 -10.273 -19.319  1.00 52.72           O  \\nHETATM  428  O   HOH B  33     -17.700 -13.422  -2.674  1.00 25.54           O  \\nHETATM  429  O   HOH B  34     -28.494  10.301 -14.536  1.00 56.88           O  \\nHETATM  430  O   HOH B  35     -24.545   6.027  -8.162  1.00 32.84           O  \\nHETATM  431  O   HOH B  36     -27.182  -2.924  -7.024  1.00 27.65           O  \\nHETATM  432  O   HOH B  37     -24.782  -9.599  -9.935  1.00 26.60           O  \\nHETATM  433  O   HOH B  38     -14.505  -9.421 -15.869  1.00 44.83           O  \\nHETATM  434  O   HOH B  39     -28.442  -1.829  -2.831  1.00 43.18           O  \\nHETATM  435  O   HOH B  40     -12.046  -0.492  -0.930  1.00 25.29           O  \\nHETATM  436  O   HOH B  41     -18.702  -9.557  -7.601  1.00 29.84           O  \\nHETATM  437  O   HOH B  42      -8.200  -0.632  -9.134  1.00 32.65           O  \\nHETATM  438  O   HOH B  43     -15.277 -10.853  -7.465  1.00 43.14           O  \\nHETATM  439  O   HOH B  44     -22.107   4.402  -6.065  1.00 31.09           O  \\nHETATM  440  O   HOH B  45      -5.206   0.010  -2.235  1.00 43.01           O  \\nHETATM  441  O   HOH B  46     -26.729  -9.715  -6.146  1.00 30.80           O  \\nHETATM  442  O   HOH B  47     -27.875   3.972  -9.042  1.00 40.15           O  \\nHETATM  443  O   HOH B  48     -20.453  -7.642  -0.550  1.00 34.77           O  \\nHETATM  444  O   HOH B  49     -17.760 -10.041  -0.552  1.00 37.12           O  \\nHETATM  445  O   HOH B  50     -22.932 -10.505 -16.556  1.00 47.78           O  \\nHETATM  446  O   HOH B  51     -28.195   5.830  -2.571  1.00 53.39           O  \\nHETATM  447  O   HOH B  52     -17.118 -11.123 -18.586  1.00 52.94           O  \\nHETATM  448  O   HOH B  53     -27.581   8.994 -11.659  1.00 53.89           O  \\nCONECT   43   76                                                                \\nCONECT   49  231                                                                \\nCONECT   76   43                                                                \\nCONECT  162  321                                                                \\nCONECT  231   49                                                                \\nCONECT  321  162                                                                \\nMASTER      278    0    0    4    0    0    0    6  438    2    6    5          \\nEND                                                                             \\n\",\"pdb\");\n",
              "\tviewer_17585835771094975.setStyle(\"stick\");\n",
              "\tviewer_17585835771094975.zoomTo();\n",
              "viewer_17585835771094975.render();\n",
              "});\n",
              "</script>"
            ]
          },
          "metadata": {}
        }
      ]
    },
    {
      "cell_type": "markdown",
      "source": [
        "# Congratulations!\n",
        "\n",
        "You have completed Lab 1, and should now be aquainted with Introductory Python for AI in the Molecular Sciences."
      ],
      "metadata": {
        "id": "jnWdZor_wL_8"
      }
    },
    {
      "cell_type": "code",
      "source": [],
      "metadata": {
        "id": "EXh9mCmWwYRw"
      },
      "execution_count": null,
      "outputs": []
    }
  ]
}