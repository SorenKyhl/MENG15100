{
  "cells": [
    {
      "cell_type": "markdown",
      "id": "b4040901",
      "metadata": {
        "id": "b4040901"
      },
      "source": [
        "Notebook adapted by Andrew Ferguson from code prepared by Mathieu Blondel."
      ]
    },
    {
      "cell_type": "markdown",
      "id": "a000ca8f",
      "metadata": {
        "id": "a000ca8f"
      },
      "source": [
        "# Welcome"
      ]
    },
    {
      "cell_type": "markdown",
      "id": "3085f2a2",
      "metadata": {
        "id": "3085f2a2"
      },
      "source": [
        "Welcome to the introduction to Python in Google Colab! In this practical, we will learn about the programming language [Python](https://www.python.org/) as well as [NumPy](https://numpy.org/) and [Matplotlib](https://matplotlib.org/), two fundamental tools for data science and machine learning in Python."
      ]
    },
    {
      "cell_type": "markdown",
      "source": [
        "The objective of this tutorial is for you to get comfortable with *understanding* and *running* Python code in Colab. It is not necessary to get to a level whereby you would be able to independently *generate* Python code, although this is now much easier than ever before with the support of LLM tools such as ChatGPT and Gemini, which is actually built into Colab."
      ],
      "metadata": {
        "id": "5oOOkTXhSeJF"
      },
      "id": "5oOOkTXhSeJF"
    },
    {
      "cell_type": "markdown",
      "source": [
        "In this course, we will always provide you with baseline Python code that we only ever ask you to make minor edits or adaptations (e.g., change the value of a variable, alter the number of iterations, change the formatting of a plot)."
      ],
      "metadata": {
        "id": "cF5XCCbsSfwA"
      },
      "id": "cF5XCCbsSfwA"
    },
    {
      "cell_type": "markdown",
      "id": "3735a367",
      "metadata": {
        "id": "3735a367"
      },
      "source": [
        "# Notebooks"
      ]
    },
    {
      "cell_type": "markdown",
      "id": "796a1280",
      "metadata": {
        "id": "796a1280"
      },
      "source": [
        "This week, we will use [Jupyter notebooks](https://jupyter.org/) and [Google Colab](https://colab.research.google.com/) as the primary way to practice machine learning. Notebooks are a great way to mix executable code with rich contents (e.g., HTML, images, equations written in LaTeX). Colab allows to run notebooks on the cloud for free without any prior installation, while leveraging the power of GPUs."
      ]
    },
    {
      "cell_type": "markdown",
      "id": "f347609f",
      "metadata": {
        "id": "f347609f"
      },
      "source": [
        "The document that you are reading is not a static web page, but an interactive environment called a notebook, that lets you write and execute code. Notebooks consist of so-called code cells, blocks of one or more Python instructions. For example, here is a code cell that stores the result of a computation (the number of seconds in a day) in a variable and prints its value:"
      ]
    },
    {
      "cell_type": "code",
      "execution_count": 1,
      "id": "ccf57b61",
      "metadata": {
        "id": "ccf57b61",
        "colab": {
          "base_uri": "https://localhost:8080/"
        },
        "outputId": "f2609bfb-2d6d-4d77-afe7-711f91fb810c"
      },
      "outputs": [
        {
          "output_type": "execute_result",
          "data": {
            "text/plain": [
              "86400"
            ]
          },
          "metadata": {},
          "execution_count": 1
        }
      ],
      "source": [
        "seconds_in_a_day = 24 * 60 * 60\n",
        "seconds_in_a_day"
      ]
    },
    {
      "cell_type": "markdown",
      "id": "4dd50496",
      "metadata": {
        "id": "4dd50496"
      },
      "source": [
        "Click on the \"play\" button to execute the cell. You should be able to see the result. Alternatively, you can also execute the cell by pressing Ctrl + Enter if you are on Windows / Linux or Command + Enter if you are on a Mac."
      ]
    },
    {
      "cell_type": "markdown",
      "id": "97a42e2a",
      "metadata": {
        "id": "97a42e2a"
      },
      "source": [
        "Variables that you defined in one cell can later be used in other cells:"
      ]
    },
    {
      "cell_type": "code",
      "execution_count": 2,
      "id": "d65efd73",
      "metadata": {
        "id": "d65efd73",
        "colab": {
          "base_uri": "https://localhost:8080/"
        },
        "outputId": "895bd79a-e804-4d89-c290-5546b100521a"
      },
      "outputs": [
        {
          "output_type": "execute_result",
          "data": {
            "text/plain": [
              "604800"
            ]
          },
          "metadata": {},
          "execution_count": 2
        }
      ],
      "source": [
        "seconds_in_a_week = 7 * seconds_in_a_day\n",
        "seconds_in_a_week"
      ]
    },
    {
      "cell_type": "markdown",
      "id": "f0c2fc67",
      "metadata": {
        "id": "f0c2fc67"
      },
      "source": [
        "Note that the order of execution is important. For instance, if we do not run the cell storing *seconds_in_a_day* beforehand, the above cell will raise an error, as it depends on this variable.\n",
        "\n",
        "The order in which the cells were executed is indicated by an integer betweeen square brackets on the left side of the cell (e.g., [2]). Unexecuted cells have an empty set of square brackets (e.g., [ ]).\n",
        "\n",
        "To make sure that you run all the cells in the correct order, you can also click on \"Runtime\" in the top-level menu, then \"Run all\"."
      ]
    },
    {
      "cell_type": "markdown",
      "id": "5d7b80c5",
      "metadata": {
        "id": "5d7b80c5"
      },
      "source": [
        "**Exercise.** Add a cell below this cell: click on this cell then click on \"+ Code\". In the new cell, compute and display the number of seconds in a year by reusing the variable *seconds_in_a_day*. Run the new cell."
      ]
    },
    {
      "cell_type": "code",
      "execution_count": 3,
      "id": "abacef55",
      "metadata": {
        "id": "abacef55",
        "colab": {
          "base_uri": "https://localhost:8080/"
        },
        "outputId": "5c57882e-8063-48f1-93cc-a156ea63d340"
      },
      "outputs": [
        {
          "output_type": "execute_result",
          "data": {
            "text/plain": [
              "31536000"
            ]
          },
          "metadata": {},
          "execution_count": 3
        }
      ],
      "source": [
        "days_in_a_year = 365\n",
        "seconds_in_a_year = days_in_a_year * seconds_in_a_day\n",
        "seconds_in_a_year"
      ]
    },
    {
      "cell_type": "markdown",
      "id": "707dba53",
      "metadata": {
        "id": "707dba53"
      },
      "source": [
        "# Python"
      ]
    },
    {
      "cell_type": "markdown",
      "id": "0f9ad5b6",
      "metadata": {
        "id": "0f9ad5b6"
      },
      "source": [
        "Python is one of the most popular programming languages for machine learning, both in academia and in industry. As such, it is essential to learn this language for anyone interested in machine learning. In this section, we will review Python basics.\n",
        "\n",
        "It is impossible to do any more than scratch the surface of the Python language in this short introduction. For more information, here are some entry-level resources:\n",
        "\n",
        "*   List of Python [tutorials](https://wiki.python.org/moin/BeginnersGuide/Programmers)\n",
        "* Four-hour [course](https://www.youtube.com/watch?v=rfscVS0vtbw) on Youtube\n",
        "\n"
      ]
    },
    {
      "cell_type": "markdown",
      "source": [
        "## Important Tips"
      ],
      "metadata": {
        "id": "ojAzifFKg2vm"
      },
      "id": "ojAzifFKg2vm"
    },
    {
      "cell_type": "markdown",
      "source": [
        "* Python is case sensitive: `A` is distinguished from `a`\n",
        "\n",
        "* Whitespace matters: nested blocks of code must be appropriately indented and consistent indentation used (2-space or 4-space are common choices)\n",
        "\n",
        "* The `#` character denotes a comment: all remaining text on a line after this character ignored by interpreter `# this is all commented out`\n",
        "\n",
        "* We can use triple quotes to generate multiline comments `'''<multiline comment here>'''`\n",
        "\n",
        "* Python indexing starts at 0! In the list `my_list = [alpha, beta, gamma]` the zeroth element `my_list[0] = alpha`, the first element `my_list[1] = beta`, the second element `my_list[2] = gamma`"
      ],
      "metadata": {
        "id": "p07HiIB_g5MJ"
      },
      "id": "p07HiIB_g5MJ"
    },
    {
      "cell_type": "markdown",
      "metadata": {
        "id": "8b1b7562"
      },
      "source": [
        "## Arithmetic operations"
      ],
      "id": "8b1b7562"
    },
    {
      "cell_type": "markdown",
      "metadata": {
        "id": "58a13340"
      },
      "source": [
        "Python supports the usual arithmetic operators:\n",
        "\n",
        "`+ (addition), - (subtraction), * (multiplication), / (division), ** (power), % (modular division)`"
      ],
      "id": "58a13340"
    },
    {
      "cell_type": "code",
      "source": [
        "a = 3\n",
        "b = 2"
      ],
      "metadata": {
        "id": "SWxtHUlIU4hh"
      },
      "id": "SWxtHUlIU4hh",
      "execution_count": 43,
      "outputs": []
    },
    {
      "cell_type": "code",
      "source": [
        "a+b"
      ],
      "metadata": {
        "colab": {
          "base_uri": "https://localhost:8080/"
        },
        "id": "w970kjRIU-e0",
        "outputId": "f9518c04-1097-4f29-dc9e-a8c8d833d1f2"
      },
      "id": "w970kjRIU-e0",
      "execution_count": 44,
      "outputs": [
        {
          "output_type": "execute_result",
          "data": {
            "text/plain": [
              "5"
            ]
          },
          "metadata": {},
          "execution_count": 44
        }
      ]
    },
    {
      "cell_type": "code",
      "source": [
        "a-b"
      ],
      "metadata": {
        "colab": {
          "base_uri": "https://localhost:8080/"
        },
        "id": "EBQ68gqiVBLP",
        "outputId": "91439869-5d0c-47e0-868f-a46939f385b2"
      },
      "id": "EBQ68gqiVBLP",
      "execution_count": 45,
      "outputs": [
        {
          "output_type": "execute_result",
          "data": {
            "text/plain": [
              "1"
            ]
          },
          "metadata": {},
          "execution_count": 45
        }
      ]
    },
    {
      "cell_type": "code",
      "source": [
        "a*b"
      ],
      "metadata": {
        "colab": {
          "base_uri": "https://localhost:8080/"
        },
        "id": "41-u3f9qVC2h",
        "outputId": "c532b17e-9978-4817-ab71-322bdb3eb39a"
      },
      "id": "41-u3f9qVC2h",
      "execution_count": 46,
      "outputs": [
        {
          "output_type": "execute_result",
          "data": {
            "text/plain": [
              "6"
            ]
          },
          "metadata": {},
          "execution_count": 46
        }
      ]
    },
    {
      "cell_type": "code",
      "source": [
        "a/b"
      ],
      "metadata": {
        "colab": {
          "base_uri": "https://localhost:8080/"
        },
        "id": "eNq3R1gpVGL1",
        "outputId": "1bd00999-39b6-401c-d30b-ba841dd5cd6c"
      },
      "id": "eNq3R1gpVGL1",
      "execution_count": 47,
      "outputs": [
        {
          "output_type": "execute_result",
          "data": {
            "text/plain": [
              "1.5"
            ]
          },
          "metadata": {},
          "execution_count": 47
        }
      ]
    },
    {
      "cell_type": "code",
      "source": [
        "a**b"
      ],
      "metadata": {
        "colab": {
          "base_uri": "https://localhost:8080/"
        },
        "id": "_qCC1sQ9ViUn",
        "outputId": "c5322805-6014-4ce4-fd7a-61f1a6ad6605"
      },
      "id": "_qCC1sQ9ViUn",
      "execution_count": 48,
      "outputs": [
        {
          "output_type": "execute_result",
          "data": {
            "text/plain": [
              "9"
            ]
          },
          "metadata": {},
          "execution_count": 48
        }
      ]
    },
    {
      "cell_type": "code",
      "source": [
        "a%b"
      ],
      "metadata": {
        "colab": {
          "base_uri": "https://localhost:8080/"
        },
        "id": "IvzxxQ_kchYK",
        "outputId": "3d775c24-440b-4466-c7c0-52b9d6cc9bdf"
      },
      "id": "IvzxxQ_kchYK",
      "execution_count": 49,
      "outputs": [
        {
          "output_type": "execute_result",
          "data": {
            "text/plain": [
              "1"
            ]
          },
          "metadata": {},
          "execution_count": 49
        }
      ]
    },
    {
      "cell_type": "markdown",
      "source": [
        "We can also use all of the standard comparison operators\n",
        "\n",
        "`< (less than), > (greater than), <= (less than or equal to), >= (greater than or equal to), == (equal to), != (not equal to)`"
      ],
      "metadata": {
        "id": "vMupoPaYczVP"
      },
      "id": "vMupoPaYczVP"
    },
    {
      "cell_type": "code",
      "source": [
        "a<b"
      ],
      "metadata": {
        "colab": {
          "base_uri": "https://localhost:8080/"
        },
        "id": "wSbIWXzndKFd",
        "outputId": "33e38b39-c7e4-4f20-d5ee-172ac764c8c1"
      },
      "id": "wSbIWXzndKFd",
      "execution_count": 50,
      "outputs": [
        {
          "output_type": "execute_result",
          "data": {
            "text/plain": [
              "False"
            ]
          },
          "metadata": {},
          "execution_count": 50
        }
      ]
    },
    {
      "cell_type": "code",
      "source": [
        "a>=b"
      ],
      "metadata": {
        "colab": {
          "base_uri": "https://localhost:8080/"
        },
        "id": "xNru2ZeldOES",
        "outputId": "66b17592-2a40-4cde-fc28-40e567359f51"
      },
      "id": "xNru2ZeldOES",
      "execution_count": 51,
      "outputs": [
        {
          "output_type": "execute_result",
          "data": {
            "text/plain": [
              "True"
            ]
          },
          "metadata": {},
          "execution_count": 51
        }
      ]
    },
    {
      "cell_type": "code",
      "source": [
        "a==b"
      ],
      "metadata": {
        "colab": {
          "base_uri": "https://localhost:8080/"
        },
        "id": "Zm0qPVuYdPal",
        "outputId": "8f3dbee2-3ed5-4f76-96d6-4e41bfeddb6e"
      },
      "id": "Zm0qPVuYdPal",
      "execution_count": 52,
      "outputs": [
        {
          "output_type": "execute_result",
          "data": {
            "text/plain": [
              "False"
            ]
          },
          "metadata": {},
          "execution_count": 52
        }
      ]
    },
    {
      "cell_type": "markdown",
      "id": "eb22f7de",
      "metadata": {
        "id": "eb22f7de"
      },
      "source": [
        "## Lists"
      ]
    },
    {
      "cell_type": "markdown",
      "id": "9d6fc1ce",
      "metadata": {
        "id": "9d6fc1ce"
      },
      "source": [
        "Lists are a container type for ordered sequences of elements. Lists can be initialized empty"
      ]
    },
    {
      "cell_type": "code",
      "execution_count": 55,
      "id": "8bb57cf8",
      "metadata": {
        "id": "8bb57cf8",
        "colab": {
          "base_uri": "https://localhost:8080/"
        },
        "outputId": "cd343ec6-81bb-4f34-96b1-d0337df676ac"
      },
      "outputs": [
        {
          "output_type": "execute_result",
          "data": {
            "text/plain": [
              "[]"
            ]
          },
          "metadata": {},
          "execution_count": 55
        }
      ],
      "source": [
        "my_list = []\n",
        "my_list"
      ]
    },
    {
      "cell_type": "markdown",
      "id": "3415b447",
      "metadata": {
        "id": "3415b447"
      },
      "source": [
        "or with some initial elements"
      ]
    },
    {
      "cell_type": "code",
      "execution_count": 56,
      "id": "3853a6ad",
      "metadata": {
        "id": "3853a6ad",
        "colab": {
          "base_uri": "https://localhost:8080/"
        },
        "outputId": "cbefc74c-cbad-4df1-8ae3-598aa1d11611"
      },
      "outputs": [
        {
          "output_type": "execute_result",
          "data": {
            "text/plain": [
              "[1, 2, 3]"
            ]
          },
          "metadata": {},
          "execution_count": 56
        }
      ],
      "source": [
        "my_list = [1, 2, 3]\n",
        "my_list"
      ]
    },
    {
      "cell_type": "markdown",
      "id": "4a87bbe7",
      "metadata": {
        "id": "4a87bbe7"
      },
      "source": [
        "Lists have a dynamic size and elements can be added (appended) to them"
      ]
    },
    {
      "cell_type": "code",
      "execution_count": 57,
      "id": "ab4055e8",
      "metadata": {
        "id": "ab4055e8",
        "colab": {
          "base_uri": "https://localhost:8080/"
        },
        "outputId": "fbf35d0f-5041-4e02-9018-1f242fea4f66"
      },
      "outputs": [
        {
          "output_type": "execute_result",
          "data": {
            "text/plain": [
              "[1, 2, 3, 4]"
            ]
          },
          "metadata": {},
          "execution_count": 57
        }
      ],
      "source": [
        "my_list.append(4)\n",
        "my_list"
      ]
    },
    {
      "cell_type": "markdown",
      "id": "dd509877",
      "metadata": {
        "id": "dd509877"
      },
      "source": [
        "We can access individual elements of a list using integers. The *first* element of the list `my_list` is accessed as `my_list[0]`. The *last* element of the list `my_list` is accessed as `my_list[-1]`."
      ]
    },
    {
      "cell_type": "code",
      "execution_count": 58,
      "id": "c1fac31e",
      "metadata": {
        "id": "c1fac31e",
        "colab": {
          "base_uri": "https://localhost:8080/"
        },
        "outputId": "736f982c-e516-4413-a7d2-4581d1d053b6"
      },
      "outputs": [
        {
          "output_type": "execute_result",
          "data": {
            "text/plain": [
              "3"
            ]
          },
          "metadata": {},
          "execution_count": 58
        }
      ],
      "source": [
        "my_list[2]"
      ]
    },
    {
      "cell_type": "code",
      "source": [
        "my_list[0]"
      ],
      "metadata": {
        "colab": {
          "base_uri": "https://localhost:8080/"
        },
        "id": "PZMu7Ph6QMYR",
        "outputId": "59f72b51-1174-4ec9-b61f-472446229f4b"
      },
      "id": "PZMu7Ph6QMYR",
      "execution_count": 59,
      "outputs": [
        {
          "output_type": "execute_result",
          "data": {
            "text/plain": [
              "1"
            ]
          },
          "metadata": {},
          "execution_count": 59
        }
      ]
    },
    {
      "cell_type": "code",
      "source": [
        "my_list[-1]"
      ],
      "metadata": {
        "colab": {
          "base_uri": "https://localhost:8080/"
        },
        "id": "gte2_7e9QPW3",
        "outputId": "d0d4458e-b1d6-44eb-d8a5-c47c703180fa"
      },
      "id": "gte2_7e9QPW3",
      "execution_count": 60,
      "outputs": [
        {
          "output_type": "execute_result",
          "data": {
            "text/plain": [
              "4"
            ]
          },
          "metadata": {},
          "execution_count": 60
        }
      ]
    },
    {
      "cell_type": "markdown",
      "id": "157c1e4c",
      "metadata": {
        "id": "157c1e4c"
      },
      "source": [
        "We can access \"slices\" of a list using `my_list[i:j]` where `i` is the start of the slice (again, indexing starts from 0) and `j` the end of the slice. For instance:"
      ]
    },
    {
      "cell_type": "code",
      "execution_count": 61,
      "id": "53549b40",
      "metadata": {
        "id": "53549b40",
        "colab": {
          "base_uri": "https://localhost:8080/"
        },
        "outputId": "4e061bed-2dfb-4270-959b-9755cb8fa18b"
      },
      "outputs": [
        {
          "output_type": "execute_result",
          "data": {
            "text/plain": [
              "[2, 3]"
            ]
          },
          "metadata": {},
          "execution_count": 61
        }
      ],
      "source": [
        "my_list[1:3]"
      ]
    },
    {
      "cell_type": "markdown",
      "id": "ab0cc1fe",
      "metadata": {
        "id": "ab0cc1fe"
      },
      "source": [
        "Omitting the second index means that the slice should run until the end of the list"
      ]
    },
    {
      "cell_type": "code",
      "execution_count": 7,
      "id": "e7cacb84",
      "metadata": {
        "id": "e7cacb84",
        "colab": {
          "base_uri": "https://localhost:8080/"
        },
        "outputId": "e6deef05-5c9d-482a-a431-45d09ef4a437"
      },
      "outputs": [
        {
          "output_type": "execute_result",
          "data": {
            "text/plain": [
              "[2, 3, 4]"
            ]
          },
          "metadata": {},
          "execution_count": 7
        }
      ],
      "source": [
        "my_list[1:]"
      ]
    },
    {
      "cell_type": "markdown",
      "id": "e85db3ef",
      "metadata": {
        "id": "e85db3ef"
      },
      "source": [
        "We can check if an element is in the list using `in`"
      ]
    },
    {
      "cell_type": "code",
      "execution_count": 8,
      "id": "43ccbb54",
      "metadata": {
        "id": "43ccbb54",
        "colab": {
          "base_uri": "https://localhost:8080/"
        },
        "outputId": "df2e3793-24fb-403e-fd60-d17096fff0aa"
      },
      "outputs": [
        {
          "output_type": "execute_result",
          "data": {
            "text/plain": [
              "False"
            ]
          },
          "metadata": {},
          "execution_count": 8
        }
      ],
      "source": [
        "5 in my_list"
      ]
    },
    {
      "cell_type": "markdown",
      "id": "962bef37",
      "metadata": {
        "id": "962bef37"
      },
      "source": [
        "The length of a list can be obtained using the `len` function"
      ]
    },
    {
      "cell_type": "code",
      "execution_count": 9,
      "id": "c849e1d1",
      "metadata": {
        "id": "c849e1d1",
        "colab": {
          "base_uri": "https://localhost:8080/"
        },
        "outputId": "6ecca904-17a9-4393-89de-f54fc4523d55"
      },
      "outputs": [
        {
          "output_type": "execute_result",
          "data": {
            "text/plain": [
              "4"
            ]
          },
          "metadata": {},
          "execution_count": 9
        }
      ],
      "source": [
        "len(my_list)"
      ]
    },
    {
      "cell_type": "markdown",
      "id": "c3325ea4",
      "metadata": {
        "id": "c3325ea4"
      },
      "source": [
        "## Strings"
      ]
    },
    {
      "cell_type": "markdown",
      "id": "e1b715c2",
      "metadata": {
        "id": "e1b715c2"
      },
      "source": [
        "Strings are used to store text. They can be delimited using either single quotes or double quotes"
      ]
    },
    {
      "cell_type": "code",
      "execution_count": 10,
      "id": "c27b45e6",
      "metadata": {
        "id": "c27b45e6"
      },
      "outputs": [],
      "source": [
        "string1 = \"some text\"\n",
        "string2 = 'some other text'"
      ]
    },
    {
      "cell_type": "markdown",
      "id": "d90e4349",
      "metadata": {
        "id": "d90e4349"
      },
      "source": [
        "Strings behave similarly to lists. As such we can access individual elements in exactly the same way"
      ]
    },
    {
      "cell_type": "code",
      "execution_count": 11,
      "id": "cccec947",
      "metadata": {
        "id": "cccec947",
        "colab": {
          "base_uri": "https://localhost:8080/",
          "height": 36
        },
        "outputId": "969d4ba6-6221-4754-cd13-ec9163659b8a"
      },
      "outputs": [
        {
          "output_type": "execute_result",
          "data": {
            "text/plain": [
              "'e'"
            ],
            "application/vnd.google.colaboratory.intrinsic+json": {
              "type": "string"
            }
          },
          "metadata": {},
          "execution_count": 11
        }
      ],
      "source": [
        "string1[3]"
      ]
    },
    {
      "cell_type": "markdown",
      "id": "d96967cb",
      "metadata": {
        "id": "d96967cb"
      },
      "source": [
        "and similarly for slices"
      ]
    },
    {
      "cell_type": "code",
      "execution_count": 12,
      "id": "43acefd2",
      "metadata": {
        "id": "43acefd2",
        "colab": {
          "base_uri": "https://localhost:8080/",
          "height": 36
        },
        "outputId": "54de3bc2-7f34-4672-c2c4-3da534cd706a"
      },
      "outputs": [
        {
          "output_type": "execute_result",
          "data": {
            "text/plain": [
              "'text'"
            ],
            "application/vnd.google.colaboratory.intrinsic+json": {
              "type": "string"
            }
          },
          "metadata": {},
          "execution_count": 12
        }
      ],
      "source": [
        "string1[5:]"
      ]
    },
    {
      "cell_type": "markdown",
      "id": "03e90f24",
      "metadata": {
        "id": "03e90f24"
      },
      "source": [
        "String concatenation is performed using the `+` operator"
      ]
    },
    {
      "cell_type": "code",
      "execution_count": 13,
      "id": "5a68e214",
      "metadata": {
        "id": "5a68e214",
        "colab": {
          "base_uri": "https://localhost:8080/",
          "height": 36
        },
        "outputId": "2ac132d3-a350-44b8-82a4-a03fd1c72447"
      },
      "outputs": [
        {
          "output_type": "execute_result",
          "data": {
            "text/plain": [
              "'some text some other text'"
            ],
            "application/vnd.google.colaboratory.intrinsic+json": {
              "type": "string"
            }
          },
          "metadata": {},
          "execution_count": 13
        }
      ],
      "source": [
        "string1 + \" \" + string2"
      ]
    },
    {
      "cell_type": "markdown",
      "source": [
        "and can be used to assemble new strings"
      ],
      "metadata": {
        "id": "Hh_Htr3QQ8br"
      },
      "id": "Hh_Htr3QQ8br"
    },
    {
      "cell_type": "code",
      "source": [
        "string3 = string1 + \" \" + string2\n",
        "string3"
      ],
      "metadata": {
        "colab": {
          "base_uri": "https://localhost:8080/",
          "height": 36
        },
        "id": "GgCct84zQ42I",
        "outputId": "2c43cbc1-6c0e-4fec-9b8d-94a42148c0b2"
      },
      "id": "GgCct84zQ42I",
      "execution_count": 14,
      "outputs": [
        {
          "output_type": "execute_result",
          "data": {
            "text/plain": [
              "'some text some other text'"
            ],
            "application/vnd.google.colaboratory.intrinsic+json": {
              "type": "string"
            }
          },
          "metadata": {},
          "execution_count": 14
        }
      ]
    },
    {
      "cell_type": "markdown",
      "source": [
        "The `print` call allows us to print to the screen with more control than just calling the variable name"
      ],
      "metadata": {
        "id": "ISAyszTLbOzJ"
      },
      "id": "ISAyszTLbOzJ"
    },
    {
      "cell_type": "code",
      "source": [
        "string3"
      ],
      "metadata": {
        "colab": {
          "base_uri": "https://localhost:8080/",
          "height": 36
        },
        "id": "JCqsiIfabkcP",
        "outputId": "8ed843c1-667c-48c8-9958-8c53da72eead"
      },
      "id": "JCqsiIfabkcP",
      "execution_count": 35,
      "outputs": [
        {
          "output_type": "execute_result",
          "data": {
            "text/plain": [
              "'some text some other text'"
            ],
            "application/vnd.google.colaboratory.intrinsic+json": {
              "type": "string"
            }
          },
          "metadata": {},
          "execution_count": 35
        }
      ]
    },
    {
      "cell_type": "code",
      "source": [
        "print(string3)"
      ],
      "metadata": {
        "colab": {
          "base_uri": "https://localhost:8080/"
        },
        "id": "R7c77oX2bmCb",
        "outputId": "78e373f0-3f03-4fc4-a7c7-2e20121e5248"
      },
      "id": "R7c77oX2bmCb",
      "execution_count": 36,
      "outputs": [
        {
          "output_type": "stream",
          "name": "stdout",
          "text": [
            "some text some other text\n"
          ]
        }
      ]
    },
    {
      "cell_type": "markdown",
      "source": [
        "We can also substitute variables into the print call. We tell the print call what type of variable to expect using special codes:\n",
        "\n",
        "`strings - %s, integers - %d, floats - %f, and scientific notation - %e`"
      ],
      "metadata": {
        "id": "YKdVnxWJbqyz"
      },
      "id": "YKdVnxWJbqyz"
    },
    {
      "cell_type": "code",
      "source": [
        "print('Print two integers to 12 and 8 occupied spaces each: int1 = %12d, int2 = %8d' % (200184, 170786))\n",
        "print('Print a float to occupy 5 spaces and 2 digits of precision: pi = %5.2f' % (3.1415))"
      ],
      "metadata": {
        "colab": {
          "base_uri": "https://localhost:8080/"
        },
        "id": "m2HR--JLb80I",
        "outputId": "b45a5f48-8eeb-48ec-bbae-06e8535665f0"
      },
      "id": "m2HR--JLb80I",
      "execution_count": 41,
      "outputs": [
        {
          "output_type": "stream",
          "name": "stdout",
          "text": [
            "Print two integers to 12 and 8 occupied spaces each: int1 =       200184, int2 =   170786\n",
            "Print a float to occupy 5 spaces and 2 digits of precision: pi =  3.14\n"
          ]
        }
      ]
    },
    {
      "cell_type": "code",
      "source": [
        "pi = 3.14159265359\n",
        "print(\"pi = %d\" % (pi))     # integer\n",
        "print(\"pi = %8.3f\" % (pi))  # floating point 8 characters w/ 3 after decimal\n",
        "print(\"pi = %12.5f\" % (pi)) # floating point 12 characters w/ 5 after decimal\n",
        "print(\"pi = %12.5e\" % (pi)) # scientific notation 12 characters w/ 5 after decimal"
      ],
      "metadata": {
        "colab": {
          "base_uri": "https://localhost:8080/"
        },
        "id": "YJ0KfSNgcGR5",
        "outputId": "427855e0-e671-44e6-d2a1-76ff205c51e6"
      },
      "id": "YJ0KfSNgcGR5",
      "execution_count": 40,
      "outputs": [
        {
          "output_type": "stream",
          "name": "stdout",
          "text": [
            "pi = 3\n",
            "pi =    3.142\n",
            "pi =      3.14159\n",
            "pi =  3.14159e+00\n"
          ]
        }
      ]
    },
    {
      "cell_type": "markdown",
      "id": "9df65cba",
      "metadata": {
        "id": "9df65cba"
      },
      "source": [
        "## Conditionals"
      ]
    },
    {
      "cell_type": "markdown",
      "id": "78095f14",
      "metadata": {
        "id": "78095f14"
      },
      "source": [
        "As their name indicates, conditionals are a way to execute code depending on whether a condition is True or False. As in other languages, Python supports `if` and `else` but `else if` is contracted into `elif`, as the example below demonstrates."
      ]
    },
    {
      "cell_type": "code",
      "execution_count": 68,
      "id": "f9095353",
      "metadata": {
        "id": "f9095353",
        "colab": {
          "base_uri": "https://localhost:8080/"
        },
        "outputId": "f361c425-9a11-4f83-ecb5-f7497f4b7446"
      },
      "outputs": [
        {
          "output_type": "stream",
          "name": "stdout",
          "text": [
            "positive\n"
          ]
        }
      ],
      "source": [
        "my_variable = 5\n",
        "if my_variable < 0:\n",
        " print(\"negative\")\n",
        "elif my_variable == 0:\n",
        " print(\"null\")\n",
        "else: # my_variable > 0\n",
        " print(\"positive\")"
      ]
    },
    {
      "cell_type": "markdown",
      "id": "d87c7601",
      "metadata": {
        "id": "d87c7601"
      },
      "source": [
        "Note the use of indentation to tell Python which code lives under each condition. Any indentation level is fine as long as you are consistent throughout your code. Common conventions are 2-space and 4-space indentation."
      ]
    },
    {
      "cell_type": "markdown",
      "id": "700b3cdd",
      "metadata": {
        "id": "700b3cdd"
      },
      "source": [
        "## Loops"
      ]
    },
    {
      "cell_type": "markdown",
      "id": "35230eca",
      "metadata": {
        "id": "35230eca"
      },
      "source": [
        "Loops are a way to execute a block of code multiple times. There are two main types of loops: `while` loops and `for` loops.\n",
        "\n",
        "Indentation is also used here to tell python where the loop start and stops.\n",
        "\n",
        "Let's use a `while` loop and a `for` loop to print out all the elements of a list as two ways of doing the same thing."
      ]
    },
    {
      "cell_type": "code",
      "source": [
        "my_list = [0, 1, 1, 2, 3, 5, 8, 13]"
      ],
      "metadata": {
        "id": "_xVAVtnYelz4"
      },
      "id": "_xVAVtnYelz4",
      "execution_count": 75,
      "outputs": []
    },
    {
      "cell_type": "markdown",
      "id": "e8e0b042",
      "metadata": {
        "id": "e8e0b042"
      },
      "source": [
        "While loop"
      ]
    },
    {
      "cell_type": "code",
      "execution_count": 76,
      "id": "81bb7182",
      "metadata": {
        "id": "81bb7182",
        "colab": {
          "base_uri": "https://localhost:8080/"
        },
        "outputId": "bcecd551-4582-4dbc-bddf-60537741a9aa"
      },
      "outputs": [
        {
          "output_type": "stream",
          "name": "stdout",
          "text": [
            "0\n",
            "1\n",
            "1\n",
            "2\n",
            "3\n",
            "5\n",
            "8\n",
            "13\n"
          ]
        }
      ],
      "source": [
        "i = 0\n",
        "while i < len(my_list):\n",
        "  print(my_list[i])\n",
        "  i += 1 # equivalent to i = i + 1"
      ]
    },
    {
      "cell_type": "markdown",
      "id": "8895485a",
      "metadata": {
        "id": "8895485a"
      },
      "source": [
        "For loop"
      ]
    },
    {
      "cell_type": "code",
      "execution_count": 77,
      "id": "b184c18c",
      "metadata": {
        "id": "b184c18c",
        "colab": {
          "base_uri": "https://localhost:8080/"
        },
        "outputId": "3e28a43f-621d-4466-ba93-f3debbbc48e3"
      },
      "outputs": [
        {
          "output_type": "stream",
          "name": "stdout",
          "text": [
            "0\n",
            "1\n",
            "1\n",
            "2\n",
            "3\n",
            "5\n",
            "8\n",
            "13\n"
          ]
        }
      ],
      "source": [
        "for i in range(len(my_list)):\n",
        "  print(my_list[i])"
      ]
    },
    {
      "cell_type": "markdown",
      "id": "7c713888",
      "metadata": {
        "id": "7c713888"
      },
      "source": [
        "If the goal is simply to iterate over a list, we can also do so directly using a for loop as follows"
      ]
    },
    {
      "cell_type": "code",
      "execution_count": null,
      "id": "c6d67815",
      "metadata": {
        "id": "c6d67815"
      },
      "outputs": [],
      "source": [
        "for element in my_list:\n",
        "  print(element)"
      ]
    },
    {
      "cell_type": "markdown",
      "id": "523f0fa7",
      "metadata": {
        "id": "523f0fa7"
      },
      "source": [
        "## Functions"
      ]
    },
    {
      "cell_type": "markdown",
      "id": "393164bc",
      "metadata": {
        "id": "393164bc"
      },
      "source": [
        "To improve code readability and reusability, it is common to separate the code into different blocks responsible for performing precise actions: these are known as functions.\n",
        "\n",
        "A function takes some inputs and process them to return some outputs.\n",
        "\n",
        "The code inside a function should be indented."
      ]
    },
    {
      "cell_type": "code",
      "source": [
        "def square(x):\n",
        "  return x ** 2"
      ],
      "metadata": {
        "id": "rNB-MRrlfpXC"
      },
      "id": "rNB-MRrlfpXC",
      "execution_count": 85,
      "outputs": []
    },
    {
      "cell_type": "code",
      "execution_count": 86,
      "id": "7046e1c6",
      "metadata": {
        "id": "7046e1c6"
      },
      "outputs": [],
      "source": [
        "def multiply(a, b):\n",
        "  return a * b"
      ]
    },
    {
      "cell_type": "code",
      "source": [
        "a=2\n",
        "b=5"
      ],
      "metadata": {
        "id": "VJ0XzYEvfrym"
      },
      "id": "VJ0XzYEvfrym",
      "execution_count": 90,
      "outputs": []
    },
    {
      "cell_type": "code",
      "source": [
        "square(a)"
      ],
      "metadata": {
        "colab": {
          "base_uri": "https://localhost:8080/"
        },
        "id": "6hO29OLngZ8i",
        "outputId": "02987f43-bfd2-4763-800a-8dbd37181cb5"
      },
      "id": "6hO29OLngZ8i",
      "execution_count": 91,
      "outputs": [
        {
          "output_type": "execute_result",
          "data": {
            "text/plain": [
              "4"
            ]
          },
          "metadata": {},
          "execution_count": 91
        }
      ]
    },
    {
      "cell_type": "code",
      "source": [
        "multiply(a,b)"
      ],
      "metadata": {
        "colab": {
          "base_uri": "https://localhost:8080/"
        },
        "id": "R5pY2hDrgBn5",
        "outputId": "324f10e8-f089-4d5f-c0ff-e5f4704ed584"
      },
      "id": "R5pY2hDrgBn5",
      "execution_count": 92,
      "outputs": [
        {
          "output_type": "execute_result",
          "data": {
            "text/plain": [
              "10"
            ]
          },
          "metadata": {},
          "execution_count": 92
        }
      ]
    },
    {
      "cell_type": "markdown",
      "source": [
        "Functions can also be nested or composed"
      ],
      "metadata": {
        "id": "jcsUGzNDfv3v"
      },
      "id": "jcsUGzNDfv3v"
    },
    {
      "cell_type": "code",
      "source": [
        "# two steps\n",
        "c = multiply(a,b)\n",
        "d = square(c)\n",
        "print(d)\n",
        "\n",
        "# single step\n",
        "d = square(multiply(a,b))\n",
        "print(d)"
      ],
      "metadata": {
        "colab": {
          "base_uri": "https://localhost:8080/"
        },
        "id": "bDqnAp0lf5cn",
        "outputId": "20b812ac-8dcb-428a-cdd6-6fbfc4e74228"
      },
      "id": "bDqnAp0lf5cn",
      "execution_count": 94,
      "outputs": [
        {
          "output_type": "stream",
          "name": "stdout",
          "text": [
            "100\n",
            "100\n"
          ]
        }
      ]
    },
    {
      "cell_type": "markdown",
      "source": [
        "and reused many times"
      ],
      "metadata": {
        "id": "76LyWspRiu1s"
      },
      "id": "76LyWspRiu1s"
    },
    {
      "cell_type": "code",
      "execution_count": 97,
      "id": "09d830f4",
      "metadata": {
        "lines_to_next_cell": 2,
        "id": "09d830f4",
        "colab": {
          "base_uri": "https://localhost:8080/"
        },
        "outputId": "78a45352-b912-4175-a373-fa9fc34daa27"
      },
      "outputs": [
        {
          "output_type": "stream",
          "name": "stdout",
          "text": [
            "1\n",
            "2\n",
            "3\n",
            "4\n",
            "5\n",
            "6\n",
            "7\n",
            "8\n",
            "9\n",
            "10\n"
          ]
        }
      ],
      "source": [
        "def add_one(x):\n",
        "  y = x + 1\n",
        "  return y\n",
        "\n",
        "a = 0\n",
        "for i in range(10):\n",
        "  a = add_one(a)\n",
        "  print(a) # what happens to this code if we change this line from indented to not indented?"
      ]
    },
    {
      "cell_type": "markdown",
      "id": "795bdeb7",
      "metadata": {
        "id": "795bdeb7"
      },
      "source": [
        "An interesting features of functions is that variables defined *inside* their definition *cannot* be accessed from outside the function, but variables defined *outside* their definition *can* be accessed from inside the function (although it is generally not a good practice to do so).\n",
        "\n",
        "This behavior is defined by the variable **scope** -- the region of a program where the variable is accessible.\n",
        "\n",
        "Check that you understand the behavior of the following examples."
      ]
    },
    {
      "cell_type": "code",
      "execution_count": 102,
      "id": "3ea24cca",
      "metadata": {
        "lines_to_next_cell": 2,
        "id": "3ea24cca",
        "colab": {
          "base_uri": "https://localhost:8080/"
        },
        "outputId": "f235e979-43a6-490c-a85f-7c31e22c464c"
      },
      "outputs": [
        {
          "output_type": "stream",
          "name": "stdout",
          "text": [
            "3\n",
            "5\n",
            "10\n"
          ]
        }
      ],
      "source": [
        "# Local variables cannot be accessed from the outside\n",
        "a = 3\n",
        "c = 5\n",
        "\n",
        "def my_function():\n",
        "  a = 4\n",
        "  b = 6\n",
        "  c = a + b\n",
        "  return c\n",
        "\n",
        "print(a)\n",
        "print(c)\n",
        "print(my_function())"
      ]
    },
    {
      "cell_type": "code",
      "execution_count": 100,
      "id": "8592e384",
      "metadata": {
        "lines_to_next_cell": 2,
        "id": "8592e384",
        "colab": {
          "base_uri": "https://localhost:8080/"
        },
        "outputId": "b89af4ed-1bf3-409a-9f7c-3ea4c2a59cc6"
      },
      "outputs": [
        {
          "output_type": "stream",
          "name": "stdout",
          "text": [
            "3\n",
            "5\n",
            "9\n"
          ]
        }
      ],
      "source": [
        "# A function accessing values outside its scope\n",
        "a = 3\n",
        "c = 5\n",
        "\n",
        "def my_function():\n",
        "  b = 6\n",
        "  c = a + b\n",
        "  return c\n",
        "\n",
        "print(a)\n",
        "print(c)\n",
        "print(my_function())"
      ]
    },
    {
      "cell_type": "code",
      "execution_count": 101,
      "id": "fb87e623",
      "metadata": {
        "id": "fb87e623",
        "colab": {
          "base_uri": "https://localhost:8080/"
        },
        "outputId": "8c36a4b5-8d0a-43ef-a484-a8e426c9e598"
      },
      "outputs": [
        {
          "output_type": "stream",
          "name": "stdout",
          "text": [
            "3\n",
            "5\n",
            "9\n"
          ]
        }
      ],
      "source": [
        "# The better practice to avoid accessing variable outside the scope of the function.\n",
        "a = 3\n",
        "c = 5\n",
        "\n",
        "def my_function():\n",
        "  h = 3\n",
        "  b = 6\n",
        "  c = h + b\n",
        "  return c\n",
        "\n",
        "print(a)\n",
        "print(c)\n",
        "print(my_function())"
      ]
    },
    {
      "cell_type": "markdown",
      "id": "17c2a0e8",
      "metadata": {
        "id": "17c2a0e8"
      },
      "source": [
        "To improve code readability, it is sometimes useful to explicitly name the arguments"
      ]
    },
    {
      "cell_type": "code",
      "execution_count": null,
      "id": "37b73f4f",
      "metadata": {
        "id": "37b73f4f"
      },
      "outputs": [],
      "source": [
        "square(multiply(a=3, b=2))"
      ]
    },
    {
      "cell_type": "markdown",
      "source": [
        "## Modules, Packages, and Libraries"
      ],
      "metadata": {
        "id": "2TVbKcvilb7Z"
      },
      "id": "2TVbKcvilb7Z"
    },
    {
      "cell_type": "markdown",
      "source": [
        "A **module** is a single .py file containing Python code. It can define functions, classes, variables, or even runnable code. You import it using `import module_name`.\n",
        "\n",
        "e.g.\n",
        "```\n",
        "import math\n",
        "```\n",
        "\n",
        "A **package** is a collection of modules organized in a directory. It's a way to structure a larger codebase and can contain sub-packages.\n",
        "\n",
        "e.g.\n",
        "```\n",
        "mypackage/\n",
        "├── __init__.py\n",
        "├── module1.py\n",
        "└── module2.py\n",
        "```\n",
        "\n",
        "A **library** is a broader term that refers to a collection of modules and/or packages designed to solve a specific problem or provide a particular functionality (e.g., `numpy`, `matplotlib`).\n",
        "\n",
        "To make an analogy with a book:\n",
        "* Module = A single chapter.\n",
        "* Package = A section comprising multiple chapters.\n",
        "* Library = A book comprising multiple sections each containing multiple chapters."
      ],
      "metadata": {
        "id": "KR2WsQvuleXc"
      },
      "id": "KR2WsQvuleXc"
    },
    {
      "cell_type": "code",
      "source": [
        "# import examples with os package\n",
        "import os                     # importing os package\n",
        "print(os.path.abspath('.'))    # calling method within package\n",
        "\n",
        "import os as opSys            # importing os package and renaming opSys (particularly useful for giving short nickname to packages with long names)\n",
        "print(opSys.path.abspath('.')) # calling method within package\n",
        "\n",
        "import os.path                # importing only the path module from within the os package\n",
        "print(os.path.abspath('.'))    # calling method within module\n",
        "\n",
        "import os.path as opSysPath   # importing only the path module from within the os package and renaming opSysPath\n",
        "print(opSysPath.abspath('.'))  # calling method within module\n",
        "\n",
        "from os import path           # importing only the path module from within the os package\n",
        "print(path.abspath('.'))       # this import method allows module to be called without referencing package name"
      ],
      "metadata": {
        "colab": {
          "base_uri": "https://localhost:8080/"
        },
        "id": "ifDgDrfnnlZG",
        "outputId": "181e57f4-daaf-48da-db5c-4384c3dbfdad"
      },
      "id": "ifDgDrfnnlZG",
      "execution_count": 116,
      "outputs": [
        {
          "output_type": "stream",
          "name": "stdout",
          "text": [
            "/content\n",
            "/content\n",
            "/content\n",
            "/content\n",
            "/content\n"
          ]
        }
      ]
    },
    {
      "cell_type": "code",
      "source": [
        "# example listing functions associated with math module\n",
        "import math\n",
        "\n",
        "print(math.__doc__) # listing math module doc string\n",
        "print(dir(math)) # listing methods associated with math module\n",
        "print(math.e)\n",
        "print(math.sin(math.pi/2.0))"
      ],
      "metadata": {
        "colab": {
          "base_uri": "https://localhost:8080/"
        },
        "id": "6K1KhF4P0oLc",
        "outputId": "24b3b5a0-0f74-4bc5-f719-f00e342a0e39"
      },
      "id": "6K1KhF4P0oLc",
      "execution_count": 117,
      "outputs": [
        {
          "output_type": "stream",
          "name": "stdout",
          "text": [
            "This module provides access to the mathematical functions\n",
            "defined by the C standard.\n",
            "['__doc__', '__loader__', '__name__', '__package__', '__spec__', 'acos', 'acosh', 'asin', 'asinh', 'atan', 'atan2', 'atanh', 'cbrt', 'ceil', 'comb', 'copysign', 'cos', 'cosh', 'degrees', 'dist', 'e', 'erf', 'erfc', 'exp', 'exp2', 'expm1', 'fabs', 'factorial', 'floor', 'fmod', 'frexp', 'fsum', 'gamma', 'gcd', 'hypot', 'inf', 'isclose', 'isfinite', 'isinf', 'isnan', 'isqrt', 'lcm', 'ldexp', 'lgamma', 'log', 'log10', 'log1p', 'log2', 'modf', 'nan', 'nextafter', 'perm', 'pi', 'pow', 'prod', 'radians', 'remainder', 'sin', 'sinh', 'sqrt', 'tan', 'tanh', 'tau', 'trunc', 'ulp']\n",
            "2.718281828459045\n",
            "1.0\n"
          ]
        }
      ]
    },
    {
      "cell_type": "code",
      "source": [
        "# realistic example using numpy package\n",
        "import numpy as np\n",
        "\n",
        "print(np.random.random((10,2))) # using random.random function to generate 10-by-2 matrix of random floats [0,1)"
      ],
      "metadata": {
        "colab": {
          "base_uri": "https://localhost:8080/"
        },
        "id": "E1TXgxKy0awd",
        "outputId": "743df9fe-c411-4dfe-90ca-d9e5f856273f"
      },
      "id": "E1TXgxKy0awd",
      "execution_count": 118,
      "outputs": [
        {
          "output_type": "stream",
          "name": "stdout",
          "text": [
            "[[0.56280457 0.0396014 ]\n",
            " [0.42556756 0.6631413 ]\n",
            " [0.22582083 0.96921904]\n",
            " [0.39798894 0.39466664]\n",
            " [0.45827326 0.49421411]\n",
            " [0.10259571 0.71394288]\n",
            " [0.88815568 0.25800212]\n",
            " [0.10496694 0.95953402]\n",
            " [0.22259374 0.19014309]\n",
            " [0.52504984 0.78159688]]\n"
          ]
        }
      ]
    },
    {
      "cell_type": "markdown",
      "id": "bc87b537",
      "metadata": {
        "id": "bc87b537"
      },
      "source": [
        "## Exercises"
      ]
    },
    {
      "cell_type": "markdown",
      "id": "4ad7efdc",
      "metadata": {
        "id": "4ad7efdc"
      },
      "source": [
        "**Exercise 1.** Using a conditional, write the [relu](https://en.wikipedia.org/wiki/Rectifier_(neural_networks)) function defined as follows\n",
        "\n",
        "$\\text{relu}(x) = \\left\\{\n",
        "   \\begin{array}{rl}\n",
        "     x, & \\text{if }  x \\ge 0 \\\\\n",
        "     0, & \\text{otherwise }.\n",
        "   \\end{array}\\right.$"
      ]
    },
    {
      "cell_type": "code",
      "execution_count": null,
      "id": "ee65cc4f",
      "metadata": {
        "id": "ee65cc4f"
      },
      "outputs": [],
      "source": [
        "def relu(x):\n",
        "    if x > 0:\n",
        "        return x\n",
        "    else:\n",
        "        return 0\n",
        "\n",
        "relu(-3)"
      ]
    },
    {
      "cell_type": "markdown",
      "id": "816dadff",
      "metadata": {
        "id": "816dadff"
      },
      "source": [
        "**Exercise 2.** Given a vector represented as a list, use a for loop to compute the [Euclidean norm](https://en.wikipedia.org/wiki/Norm_(mathematics)#Euclidean_norm) of the vector. (The Euclidean norm of a vector $x$ is the square root of the sum of its squared elements or, in mathematical terms using the dot product, $\\sqrt{(x.x)}$.)"
      ]
    },
    {
      "cell_type": "code",
      "execution_count": 15,
      "id": "64e84c6e",
      "metadata": {
        "id": "64e84c6e"
      },
      "outputs": [],
      "source": [
        "def euclidean_norm(vector):\n",
        "    sos = 0\n",
        "    for v in vector:\n",
        "        sos += v**2\n",
        "    return sos **0.5"
      ]
    },
    {
      "cell_type": "code",
      "source": [
        "my_vector = [0.5, -1.2, 3.3, 4.5]\n",
        "# The result should be roughly 5.729746940310715\n",
        "euclidean_norm(my_vector)"
      ],
      "metadata": {
        "colab": {
          "base_uri": "https://localhost:8080/"
        },
        "id": "f11_G69fUOh0",
        "outputId": "5897c43d-a74c-463b-a943-e26d5849e11a"
      },
      "id": "f11_G69fUOh0",
      "execution_count": 16,
      "outputs": [
        {
          "output_type": "execute_result",
          "data": {
            "text/plain": [
              "5.729746940310715"
            ]
          },
          "metadata": {},
          "execution_count": 16
        }
      ]
    },
    {
      "cell_type": "markdown",
      "id": "ba2cd6da",
      "metadata": {
        "id": "ba2cd6da"
      },
      "source": [
        "**Exercise 3.** Using a for loop and a conditional, write a function that returns the maximum value in a vector."
      ]
    },
    {
      "cell_type": "code",
      "execution_count": 17,
      "id": "ac85239e",
      "metadata": {
        "id": "ac85239e"
      },
      "outputs": [],
      "source": [
        "def vector_maximum(vector):\n",
        "    maximum = vector[0]\n",
        "    for v in vector:\n",
        "        if maximum <= v:\n",
        "            maximum = v\n",
        "    return maximum"
      ]
    },
    {
      "cell_type": "code",
      "source": [
        "vector_maximum(my_vector)"
      ],
      "metadata": {
        "colab": {
          "base_uri": "https://localhost:8080/"
        },
        "id": "jieBHugHUZlZ",
        "outputId": "a01db370-b069-44b8-c19d-97895c2998f9"
      },
      "id": "jieBHugHUZlZ",
      "execution_count": 18,
      "outputs": [
        {
          "output_type": "execute_result",
          "data": {
            "text/plain": [
              "4.5"
            ]
          },
          "metadata": {},
          "execution_count": 18
        }
      ]
    },
    {
      "cell_type": "markdown",
      "source": [
        "**Exercise 4.** Write a for loop to print multiples of $\\pi$ from 1 to 10, formatting the printed values as floating point numbers with 5 decimal places. The `math` module can be used to access the value of pi as `math.pi`."
      ],
      "metadata": {
        "id": "MUK9troQkRwW"
      },
      "id": "MUK9troQkRwW"
    },
    {
      "cell_type": "code",
      "source": [
        "import math\n",
        "\n",
        "pi = math.pi\n",
        "for i in range(1, 11):\n",
        "    print(\"%3d x pi = %.5f\" % (i, i * pi))"
      ],
      "metadata": {
        "colab": {
          "base_uri": "https://localhost:8080/"
        },
        "id": "xEDQJgErknGV",
        "outputId": "45cd8353-10ba-4066-b6f2-e2bd1685879a"
      },
      "id": "xEDQJgErknGV",
      "execution_count": 114,
      "outputs": [
        {
          "output_type": "stream",
          "name": "stdout",
          "text": [
            "  1 x pi = 3.14159\n",
            "  2 x pi = 6.28319\n",
            "  3 x pi = 9.42478\n",
            "  4 x pi = 12.56637\n",
            "  5 x pi = 15.70796\n",
            "  6 x pi = 18.84956\n",
            "  7 x pi = 21.99115\n",
            "  8 x pi = 25.13274\n",
            "  9 x pi = 28.27433\n",
            " 10 x pi = 31.41593\n"
          ]
        }
      ]
    },
    {
      "cell_type": "markdown",
      "id": "53780550",
      "metadata": {
        "id": "53780550"
      },
      "source": [
        "# NumPy"
      ]
    },
    {
      "cell_type": "markdown",
      "id": "4289c187",
      "metadata": {
        "id": "4289c187"
      },
      "source": [
        "NumPy is a popular library for storing arrays of numbers and performing computations on them. Not only does this enable to write often more succinct code, this also makes the code faster, since most NumPy routines are implemented in C for speed."
      ]
    },
    {
      "cell_type": "markdown",
      "id": "5631db70",
      "metadata": {
        "id": "5631db70"
      },
      "source": [
        "To use NumPy in your program, you need to import it as follows"
      ]
    },
    {
      "cell_type": "code",
      "execution_count": 119,
      "id": "ea36d85d",
      "metadata": {
        "id": "ea36d85d"
      },
      "outputs": [],
      "source": [
        "import numpy as np"
      ]
    },
    {
      "cell_type": "markdown",
      "source": [
        "and now we can access all the functionality through `np`"
      ],
      "metadata": {
        "id": "fuFzJKfxFdcM"
      },
      "id": "fuFzJKfxFdcM"
    },
    {
      "cell_type": "markdown",
      "source": [
        "Here are some good resources if you wish to learn more about using NumPy:\n",
        "\n",
        "* NumPy [reference](https://numpy.org/doc/stable/reference/)\n",
        "* SciPy [lectures](https://scipy-lectures.org/)\n",
        "*   One-hour [NumPy tutorial](https://www.youtube.com/watch?v=QUT1VHiLmmI) on Youtube"
      ],
      "metadata": {
        "id": "pOG362Y2DvLl"
      },
      "id": "pOG362Y2DvLl"
    },
    {
      "cell_type": "markdown",
      "id": "eb1dd640",
      "metadata": {
        "id": "eb1dd640"
      },
      "source": [
        "## Array creation\n",
        "\n"
      ]
    },
    {
      "cell_type": "markdown",
      "id": "cadbce84",
      "metadata": {
        "id": "cadbce84"
      },
      "source": [
        "NumPy arrays (i.e., vectors, matrices, tensors) are the building blocks of many common operations in NumPy.\n",
        "\n",
        "Contrary to Python lists, NumPy arrays must have a type and all elements of the array must have the same type (e.g., integers `int32` or floating point numbers `float32`).\n",
        "\n",
        "One easy way to create an array is from a Python list."
      ]
    },
    {
      "cell_type": "code",
      "execution_count": 129,
      "id": "b11fc646",
      "metadata": {
        "id": "b11fc646",
        "colab": {
          "base_uri": "https://localhost:8080/"
        },
        "outputId": "cb7af6f1-c5ad-4548-de43-5cce5d32e111"
      },
      "outputs": [
        {
          "output_type": "execute_result",
          "data": {
            "text/plain": [
              "array([1, 2, 3])"
            ]
          },
          "metadata": {},
          "execution_count": 129
        }
      ],
      "source": [
        "my_array = np.array([1, 2, 3])\n",
        "my_array"
      ]
    },
    {
      "cell_type": "markdown",
      "id": "292e3617",
      "metadata": {
        "id": "292e3617"
      },
      "source": [
        "NumPy supports array of arbitrary dimension. For example, we can create two-dimensional arrays (e.g. to store a matrix) as follows"
      ]
    },
    {
      "cell_type": "code",
      "execution_count": 130,
      "id": "beb2a80d",
      "metadata": {
        "id": "beb2a80d",
        "colab": {
          "base_uri": "https://localhost:8080/"
        },
        "outputId": "684d06ed-ccc5-4f76-e755-921be7b45a7a"
      },
      "outputs": [
        {
          "output_type": "execute_result",
          "data": {
            "text/plain": [
              "array([[1, 2, 3],\n",
              "       [4, 5, 6]])"
            ]
          },
          "metadata": {},
          "execution_count": 130
        }
      ],
      "source": [
        "my_2d_array = np.array([[1, 2, 3], [4, 5, 6]])\n",
        "my_2d_array"
      ]
    },
    {
      "cell_type": "markdown",
      "id": "bf6d0965",
      "metadata": {
        "id": "bf6d0965"
      },
      "source": [
        "We can access individual elements of a 2d-array using two indices"
      ]
    },
    {
      "cell_type": "code",
      "execution_count": 131,
      "id": "5e6b53a2",
      "metadata": {
        "id": "5e6b53a2",
        "colab": {
          "base_uri": "https://localhost:8080/"
        },
        "outputId": "af1a94ef-8da1-4d71-ef85-0e000334d5f9"
      },
      "outputs": [
        {
          "output_type": "execute_result",
          "data": {
            "text/plain": [
              "np.int64(6)"
            ]
          },
          "metadata": {},
          "execution_count": 131
        }
      ],
      "source": [
        "my_2d_array[1, 2]"
      ]
    },
    {
      "cell_type": "markdown",
      "id": "97a97580",
      "metadata": {
        "id": "97a97580"
      },
      "source": [
        "We can also access rows"
      ]
    },
    {
      "cell_type": "code",
      "execution_count": 132,
      "id": "af67b8a0",
      "metadata": {
        "id": "af67b8a0",
        "colab": {
          "base_uri": "https://localhost:8080/"
        },
        "outputId": "2b201dbc-4d20-4af5-fbc6-8390dd5d4a73"
      },
      "outputs": [
        {
          "output_type": "execute_result",
          "data": {
            "text/plain": [
              "array([4, 5, 6])"
            ]
          },
          "metadata": {},
          "execution_count": 132
        }
      ],
      "source": [
        "my_2d_array[1]"
      ]
    },
    {
      "cell_type": "markdown",
      "id": "7cdb57be",
      "metadata": {
        "id": "7cdb57be"
      },
      "source": [
        "and columns"
      ]
    },
    {
      "cell_type": "code",
      "execution_count": 133,
      "id": "04671070",
      "metadata": {
        "id": "04671070",
        "colab": {
          "base_uri": "https://localhost:8080/"
        },
        "outputId": "aedb7fe8-5189-4c82-cf6a-0475b628c890"
      },
      "outputs": [
        {
          "output_type": "execute_result",
          "data": {
            "text/plain": [
              "array([3, 6])"
            ]
          },
          "metadata": {},
          "execution_count": 133
        }
      ],
      "source": [
        "my_2d_array[:, 2]"
      ]
    },
    {
      "cell_type": "markdown",
      "id": "78190451",
      "metadata": {
        "id": "78190451"
      },
      "source": [
        "The `shape` attribute can be used to find the shape of an array"
      ]
    },
    {
      "cell_type": "code",
      "execution_count": 126,
      "id": "e67565d4",
      "metadata": {
        "id": "e67565d4",
        "colab": {
          "base_uri": "https://localhost:8080/"
        },
        "outputId": "defa7dca-901c-43bf-ba56-a84dd64f5b83"
      },
      "outputs": [
        {
          "output_type": "stream",
          "name": "stdout",
          "text": [
            "(3,)\n",
            "(2, 3)\n"
          ]
        }
      ],
      "source": [
        "print(my_array.shape)\n",
        "print(my_2d_array.shape)"
      ]
    },
    {
      "cell_type": "markdown",
      "source": [
        "and the `dtype` method can be used to find the type"
      ],
      "metadata": {
        "id": "4OHNPip1_70B"
      },
      "id": "4OHNPip1_70B"
    },
    {
      "cell_type": "code",
      "execution_count": 127,
      "id": "c374bf99",
      "metadata": {
        "id": "c374bf99",
        "colab": {
          "base_uri": "https://localhost:8080/"
        },
        "outputId": "b6b91324-090b-4956-92d7-12e338b20116"
      },
      "outputs": [
        {
          "output_type": "execute_result",
          "data": {
            "text/plain": [
              "dtype('int64')"
            ]
          },
          "metadata": {},
          "execution_count": 127
        }
      ],
      "source": [
        "my_array.dtype"
      ]
    },
    {
      "cell_type": "markdown",
      "id": "71725601",
      "metadata": {
        "id": "71725601"
      },
      "source": [
        "The `dtype` can be specified when creating the array"
      ]
    },
    {
      "cell_type": "code",
      "execution_count": 134,
      "id": "1050b0bf",
      "metadata": {
        "id": "1050b0bf",
        "colab": {
          "base_uri": "https://localhost:8080/"
        },
        "outputId": "1a543c78-6e1d-4b4b-b7ea-98b339f58526"
      },
      "outputs": [
        {
          "output_type": "execute_result",
          "data": {
            "text/plain": [
              "dtype('float64')"
            ]
          },
          "metadata": {},
          "execution_count": 134
        }
      ],
      "source": [
        "my_array = np.array([1, 2, 3], dtype=np.float64)\n",
        "my_array.dtype"
      ]
    },
    {
      "cell_type": "markdown",
      "id": "2d936921",
      "metadata": {
        "id": "2d936921"
      },
      "source": [
        "We can create arrays of all zeros using"
      ]
    },
    {
      "cell_type": "code",
      "execution_count": 135,
      "id": "2caf31a8",
      "metadata": {
        "id": "2caf31a8",
        "colab": {
          "base_uri": "https://localhost:8080/"
        },
        "outputId": "85e951bf-7a9e-4ca3-8d1b-2ef79dea8081"
      },
      "outputs": [
        {
          "output_type": "execute_result",
          "data": {
            "text/plain": [
              "array([[0., 0., 0.],\n",
              "       [0., 0., 0.]])"
            ]
          },
          "metadata": {},
          "execution_count": 135
        }
      ],
      "source": [
        "zero_array = np.zeros((2, 3))\n",
        "zero_array"
      ]
    },
    {
      "cell_type": "markdown",
      "id": "dceb362e",
      "metadata": {
        "id": "dceb362e"
      },
      "source": [
        "or all `ones`"
      ]
    },
    {
      "cell_type": "code",
      "source": [
        "ones_array = np.ones((5, 2))\n",
        "ones_array"
      ],
      "metadata": {
        "id": "ZjQsw-oCAHMk",
        "outputId": "9b943cd9-d5fe-4726-e5cc-2916d3c1e840",
        "colab": {
          "base_uri": "https://localhost:8080/"
        }
      },
      "id": "ZjQsw-oCAHMk",
      "execution_count": 136,
      "outputs": [
        {
          "output_type": "execute_result",
          "data": {
            "text/plain": [
              "array([[1., 1.],\n",
              "       [1., 1.],\n",
              "       [1., 1.],\n",
              "       [1., 1.],\n",
              "       [1., 1.]])"
            ]
          },
          "metadata": {},
          "execution_count": 136
        }
      ]
    },
    {
      "cell_type": "markdown",
      "id": "87adc7e6",
      "metadata": {
        "id": "87adc7e6"
      },
      "source": [
        "We can create a range of values using"
      ]
    },
    {
      "cell_type": "code",
      "execution_count": 137,
      "id": "b37439db",
      "metadata": {
        "id": "b37439db",
        "colab": {
          "base_uri": "https://localhost:8080/"
        },
        "outputId": "141b35c7-9f8e-4bcb-fab8-8b004efafb15"
      },
      "outputs": [
        {
          "output_type": "execute_result",
          "data": {
            "text/plain": [
              "array([0, 1, 2, 3, 4])"
            ]
          },
          "metadata": {},
          "execution_count": 137
        }
      ],
      "source": [
        "np.arange(5)"
      ]
    },
    {
      "cell_type": "markdown",
      "id": "a00bbe24",
      "metadata": {
        "id": "a00bbe24"
      },
      "source": [
        "or specifying the starting point"
      ]
    },
    {
      "cell_type": "code",
      "execution_count": 139,
      "id": "94a34065",
      "metadata": {
        "id": "94a34065",
        "colab": {
          "base_uri": "https://localhost:8080/"
        },
        "outputId": "4f37aaf5-64aa-4496-9f9c-899bff5626cd"
      },
      "outputs": [
        {
          "output_type": "execute_result",
          "data": {
            "text/plain": [
              "array([3, 4, 5, 6])"
            ]
          },
          "metadata": {},
          "execution_count": 139
        }
      ],
      "source": [
        "np.arange(3, 7)"
      ]
    },
    {
      "cell_type": "markdown",
      "id": "21c386ce",
      "metadata": {
        "id": "21c386ce"
      },
      "source": [
        "Another useful routine is `linspace` for creating linearly spaced values in an interval. For instance, to create 11 values in `[0, 1]`, we can use"
      ]
    },
    {
      "cell_type": "code",
      "execution_count": 142,
      "id": "522ee793",
      "metadata": {
        "id": "522ee793",
        "colab": {
          "base_uri": "https://localhost:8080/"
        },
        "outputId": "c7341f93-50a4-40c8-d984-6bcb583f310f"
      },
      "outputs": [
        {
          "output_type": "execute_result",
          "data": {
            "text/plain": [
              "array([0. , 0.1, 0.2, 0.3, 0.4, 0.5, 0.6, 0.7, 0.8, 0.9, 1. ])"
            ]
          },
          "metadata": {},
          "execution_count": 142
        }
      ],
      "source": [
        "np.linspace(0, 1, 11)"
      ]
    },
    {
      "cell_type": "markdown",
      "id": "331e2db3",
      "metadata": {
        "id": "331e2db3"
      },
      "source": [
        "Another important operation is `reshape`, for changing the shape of an array"
      ]
    },
    {
      "cell_type": "code",
      "execution_count": 143,
      "id": "d983aa4b",
      "metadata": {
        "id": "d983aa4b",
        "colab": {
          "base_uri": "https://localhost:8080/"
        },
        "outputId": "3efec8db-6bf8-4ea0-a7b6-13caf5eaefa4"
      },
      "outputs": [
        {
          "output_type": "execute_result",
          "data": {
            "text/plain": [
              "array([[1, 2],\n",
              "       [3, 4],\n",
              "       [5, 6]])"
            ]
          },
          "metadata": {},
          "execution_count": 143
        }
      ],
      "source": [
        "my_array = np.array([1, 2, 3, 4, 5, 6])\n",
        "my_array.reshape(3, 2)"
      ]
    },
    {
      "cell_type": "markdown",
      "id": "fd9ba547",
      "metadata": {
        "id": "fd9ba547"
      },
      "source": [
        "## Basic operations"
      ]
    },
    {
      "cell_type": "markdown",
      "id": "7e1837f9",
      "metadata": {
        "id": "7e1837f9"
      },
      "source": [
        "In NumPy, we express computations directly over arrays. This makes the code much more succinct."
      ]
    },
    {
      "cell_type": "markdown",
      "id": "858c13c7",
      "metadata": {
        "id": "858c13c7"
      },
      "source": [
        "Arithmetic operations can be performed directly over arrays. For instance, assuming two arrays have a compatible shape, we can add them as follows"
      ]
    },
    {
      "cell_type": "code",
      "execution_count": 144,
      "id": "03e9e954",
      "metadata": {
        "id": "03e9e954",
        "colab": {
          "base_uri": "https://localhost:8080/"
        },
        "outputId": "958540d7-03e2-45a7-b004-3528ae1868c0"
      },
      "outputs": [
        {
          "output_type": "execute_result",
          "data": {
            "text/plain": [
              "array([5, 7, 9])"
            ]
          },
          "metadata": {},
          "execution_count": 144
        }
      ],
      "source": [
        "array_a = np.array([1, 2, 3])\n",
        "array_b = np.array([4, 5, 6])\n",
        "array_a + array_b"
      ]
    },
    {
      "cell_type": "markdown",
      "id": "b978eee2",
      "metadata": {
        "id": "b978eee2"
      },
      "source": [
        "Compare this with the equivalent computation using a for loop"
      ]
    },
    {
      "cell_type": "code",
      "execution_count": 145,
      "id": "030460ca",
      "metadata": {
        "id": "030460ca",
        "colab": {
          "base_uri": "https://localhost:8080/"
        },
        "outputId": "fc5b83ef-e5ea-4b0c-ee0a-3bf8167f1c50"
      },
      "outputs": [
        {
          "output_type": "execute_result",
          "data": {
            "text/plain": [
              "array([5, 7, 9])"
            ]
          },
          "metadata": {},
          "execution_count": 145
        }
      ],
      "source": [
        "array_out = np.zeros_like(array_a)\n",
        "for i in range(len(array_a)):\n",
        "  array_out[i] = array_a[i] + array_b[i]\n",
        "array_out"
      ]
    },
    {
      "cell_type": "markdown",
      "id": "d5dc6c44",
      "metadata": {
        "id": "d5dc6c44"
      },
      "source": [
        "Not only this code is more verbose, it will also run much more slowly."
      ]
    },
    {
      "cell_type": "markdown",
      "id": "68bdcd5d",
      "metadata": {
        "id": "68bdcd5d"
      },
      "source": [
        "In NumPy, functions that operates on arrays in an element-wise fashion are called [universal functions](https://numpy.org/doc/stable/reference/ufuncs.html). For instance, this is the case of `np.sin`"
      ]
    },
    {
      "cell_type": "code",
      "execution_count": 146,
      "id": "b3b61bd5",
      "metadata": {
        "id": "b3b61bd5",
        "colab": {
          "base_uri": "https://localhost:8080/"
        },
        "outputId": "80d6b701-f96e-4c16-8609-f6e905d99d04"
      },
      "outputs": [
        {
          "output_type": "execute_result",
          "data": {
            "text/plain": [
              "array([0.84147098, 0.90929743, 0.14112001])"
            ]
          },
          "metadata": {},
          "execution_count": 146
        }
      ],
      "source": [
        "np.sin(array_a)"
      ]
    },
    {
      "cell_type": "markdown",
      "id": "1eade676",
      "metadata": {
        "id": "1eade676"
      },
      "source": [
        "Vector inner product can be performed using `np.dot`"
      ]
    },
    {
      "cell_type": "code",
      "execution_count": 147,
      "id": "f59a9a9e",
      "metadata": {
        "id": "f59a9a9e",
        "colab": {
          "base_uri": "https://localhost:8080/"
        },
        "outputId": "3506426d-dabd-478b-eea3-43993f8339c0"
      },
      "outputs": [
        {
          "output_type": "execute_result",
          "data": {
            "text/plain": [
              "np.int64(32)"
            ]
          },
          "metadata": {},
          "execution_count": 147
        }
      ],
      "source": [
        "np.dot(array_a, array_b)"
      ]
    },
    {
      "cell_type": "markdown",
      "source": [
        "Again this is way faster than doing it with a for loop"
      ],
      "metadata": {
        "id": "oFmtCbDuAkSC"
      },
      "id": "oFmtCbDuAkSC"
    },
    {
      "cell_type": "code",
      "source": [
        "dot_prod = 0\n",
        "for i in range(len(array_a)):\n",
        "  dot_prod += float(array_a[i] * array_b[i])\n",
        "dot_prod"
      ],
      "metadata": {
        "id": "76rAeYdtArR7",
        "outputId": "5ef86641-8f57-4ff2-84f4-a8bf10c96a7e",
        "colab": {
          "base_uri": "https://localhost:8080/"
        }
      },
      "id": "76rAeYdtArR7",
      "execution_count": 149,
      "outputs": [
        {
          "output_type": "execute_result",
          "data": {
            "text/plain": [
              "32.0"
            ]
          },
          "metadata": {},
          "execution_count": 149
        }
      ]
    },
    {
      "cell_type": "markdown",
      "id": "d3cf2f9e",
      "metadata": {
        "id": "d3cf2f9e"
      },
      "source": [
        "## Slicing and masking"
      ]
    },
    {
      "cell_type": "markdown",
      "id": "613f3c14",
      "metadata": {
        "id": "613f3c14"
      },
      "source": [
        "Like Python lists, NumPy arrays support slicing"
      ]
    },
    {
      "cell_type": "code",
      "execution_count": 152,
      "id": "3abfdbff",
      "metadata": {
        "id": "3abfdbff",
        "colab": {
          "base_uri": "https://localhost:8080/"
        },
        "outputId": "a8856ae8-d61a-4fd6-93f3-1065b512d50a"
      },
      "outputs": [
        {
          "output_type": "stream",
          "name": "stdout",
          "text": [
            "[0 1 2 3 4 5 6 7 8 9]\n",
            "[5 6 7 8 9]\n"
          ]
        }
      ],
      "source": [
        "x = np.arange(10)\n",
        "print(x)\n",
        "print(x[5:])"
      ]
    },
    {
      "cell_type": "markdown",
      "id": "ea83aa70",
      "metadata": {
        "id": "ea83aa70"
      },
      "source": [
        "We can also select only certain elements from the array"
      ]
    },
    {
      "cell_type": "code",
      "execution_count": 167,
      "id": "5fb12a21",
      "metadata": {
        "id": "5fb12a21",
        "colab": {
          "base_uri": "https://localhost:8080/"
        },
        "outputId": "47dcb8a6-b751-475f-ff9b-c6cbe6e5f2c0"
      },
      "outputs": [
        {
          "output_type": "stream",
          "name": "stdout",
          "text": [
            "[0 1 2 3 4 5 6 7 8 9]\n",
            "\n",
            "[False False False False False  True  True  True  True  True]\n",
            "\n",
            "[5 6 7 8 9]\n"
          ]
        }
      ],
      "source": [
        "x = np.arange(10)\n",
        "print(x)\n",
        "\n",
        "print()\n",
        "\n",
        "mask = (x >= 5)\n",
        "print(mask)\n",
        "\n",
        "print()\n",
        "\n",
        "print(x[mask])"
      ]
    },
    {
      "cell_type": "markdown",
      "id": "9dcc4e1e",
      "metadata": {
        "id": "9dcc4e1e"
      },
      "source": [
        "## Exercises"
      ]
    },
    {
      "cell_type": "markdown",
      "id": "c5de86d3",
      "metadata": {
        "id": "c5de86d3"
      },
      "source": [
        "**Exercise 1.** Create a 2d matrix of shape (5,3), containing random values. Access element `[1,1]` and the first row."
      ]
    },
    {
      "cell_type": "code",
      "execution_count": 168,
      "id": "11dc22b4",
      "metadata": {
        "id": "11dc22b4",
        "colab": {
          "base_uri": "https://localhost:8080/"
        },
        "outputId": "ff83921e-900a-43f8-c2e5-a7389895f6ea"
      },
      "outputs": [
        {
          "output_type": "stream",
          "name": "stdout",
          "text": [
            "[[0.57277783 0.37663742 0.89728773]\n",
            " [0.54654663 0.71637628 0.13259613]\n",
            " [0.74675239 0.56639056 0.28458524]\n",
            " [0.2781532  0.31945988 0.3769494 ]\n",
            " [0.96889928 0.0678699  0.84837659]]\n",
            "\n",
            "0.716376277739197\n",
            "\n",
            "[0.57277783 0.37663742 0.89728773]\n"
          ]
        }
      ],
      "source": [
        "A = np.random.rand(5,3)\n",
        "print(A)\n",
        "print()\n",
        "print(A[1, 1])\n",
        "print()\n",
        "print(A[0, :])"
      ]
    },
    {
      "cell_type": "markdown",
      "id": "703af636",
      "metadata": {
        "id": "703af636"
      },
      "source": [
        "**Exercise 2.** Rewrite the relu function (see Python section) using [np.maximum](https://numpy.org/doc/stable/reference/generated/numpy.maximum.html). Check that it works on both a single value and on an array of values."
      ]
    },
    {
      "cell_type": "code",
      "execution_count": 169,
      "id": "e3882c3e",
      "metadata": {
        "id": "e3882c3e",
        "colab": {
          "base_uri": "https://localhost:8080/"
        },
        "outputId": "83518cf7-fb50-4ee9-8545-c91792aeef3c"
      },
      "outputs": [
        {
          "output_type": "stream",
          "name": "stdout",
          "text": [
            "[1.  0.  2.5]\n",
            "\n",
            "0\n"
          ]
        }
      ],
      "source": [
        "def relu_numpy(x):\n",
        "  return np.maximum(x, 0)\n",
        "\n",
        "print(relu_numpy(np.array([1, -3, 2.5])))\n",
        "print()\n",
        "print(relu_numpy(-4))"
      ]
    },
    {
      "cell_type": "markdown",
      "id": "81be4ccc",
      "metadata": {
        "id": "81be4ccc"
      },
      "source": [
        "**Exercise 3.** Rewrite the Euclidean norm of a vector (1d array) using NumPy (without for loop)"
      ]
    },
    {
      "cell_type": "code",
      "execution_count": 171,
      "id": "85b4001b",
      "metadata": {
        "id": "85b4001b",
        "colab": {
          "base_uri": "https://localhost:8080/"
        },
        "outputId": "60cdf9ec-5470-44af-aca3-0539864a3f9b"
      },
      "outputs": [
        {
          "output_type": "execute_result",
          "data": {
            "text/plain": [
              "np.float64(5.729746940310715)"
            ]
          },
          "metadata": {},
          "execution_count": 171
        }
      ],
      "source": [
        "def euclidean_norm_numpy(x):\n",
        "  return np.sqrt(np.dot(x,x))\n",
        "\n",
        "my_vector = np.array([0.5, -1.2, 3.3, 4.5])\n",
        "euclidean_norm_numpy(my_vector)"
      ]
    },
    {
      "cell_type": "markdown",
      "id": "cd4bb3ee",
      "metadata": {
        "id": "cd4bb3ee"
      },
      "source": [
        "**Exercise 4.** Compute the mean value of the features in the [iris dataset](https://scikit-learn.org/stable/modules/generated/sklearn.datasets.load_iris.html) that can be loaded as\n",
        "\n",
        "```\n",
        "from sklearn.datasets import load_iris\n",
        "X, y = load_iris(return_X_y=True)\n",
        "```\n",
        "\n",
        "Use the `axis` argument on [np.mean](https://numpy.org/doc/stable/reference/generated/numpy.mean.html) to compute the mean of (i) the rows and (ii) the columns."
      ]
    },
    {
      "cell_type": "code",
      "execution_count": 179,
      "id": "97c30412",
      "metadata": {
        "id": "97c30412",
        "lines_to_next_cell": 2,
        "colab": {
          "base_uri": "https://localhost:8080/"
        },
        "outputId": "4d472568-6424-4704-aa30-85f5ecd006c1"
      },
      "outputs": [
        {
          "output_type": "stream",
          "name": "stdout",
          "text": [
            "[[5.1 3.5 1.4 0.2]\n",
            " [4.9 3.  1.4 0.2]\n",
            " [4.7 3.2 1.3 0.2]\n",
            " [4.6 3.1 1.5 0.2]\n",
            " [5.  3.6 1.4 0.2]\n",
            " [5.4 3.9 1.7 0.4]\n",
            " [4.6 3.4 1.4 0.3]\n",
            " [5.  3.4 1.5 0.2]\n",
            " [4.4 2.9 1.4 0.2]\n",
            " [4.9 3.1 1.5 0.1]\n",
            " [5.4 3.7 1.5 0.2]\n",
            " [4.8 3.4 1.6 0.2]\n",
            " [4.8 3.  1.4 0.1]\n",
            " [4.3 3.  1.1 0.1]\n",
            " [5.8 4.  1.2 0.2]\n",
            " [5.7 4.4 1.5 0.4]\n",
            " [5.4 3.9 1.3 0.4]\n",
            " [5.1 3.5 1.4 0.3]\n",
            " [5.7 3.8 1.7 0.3]\n",
            " [5.1 3.8 1.5 0.3]\n",
            " [5.4 3.4 1.7 0.2]\n",
            " [5.1 3.7 1.5 0.4]\n",
            " [4.6 3.6 1.  0.2]\n",
            " [5.1 3.3 1.7 0.5]\n",
            " [4.8 3.4 1.9 0.2]\n",
            " [5.  3.  1.6 0.2]\n",
            " [5.  3.4 1.6 0.4]\n",
            " [5.2 3.5 1.5 0.2]\n",
            " [5.2 3.4 1.4 0.2]\n",
            " [4.7 3.2 1.6 0.2]\n",
            " [4.8 3.1 1.6 0.2]\n",
            " [5.4 3.4 1.5 0.4]\n",
            " [5.2 4.1 1.5 0.1]\n",
            " [5.5 4.2 1.4 0.2]\n",
            " [4.9 3.1 1.5 0.2]\n",
            " [5.  3.2 1.2 0.2]\n",
            " [5.5 3.5 1.3 0.2]\n",
            " [4.9 3.6 1.4 0.1]\n",
            " [4.4 3.  1.3 0.2]\n",
            " [5.1 3.4 1.5 0.2]\n",
            " [5.  3.5 1.3 0.3]\n",
            " [4.5 2.3 1.3 0.3]\n",
            " [4.4 3.2 1.3 0.2]\n",
            " [5.  3.5 1.6 0.6]\n",
            " [5.1 3.8 1.9 0.4]\n",
            " [4.8 3.  1.4 0.3]\n",
            " [5.1 3.8 1.6 0.2]\n",
            " [4.6 3.2 1.4 0.2]\n",
            " [5.3 3.7 1.5 0.2]\n",
            " [5.  3.3 1.4 0.2]\n",
            " [7.  3.2 4.7 1.4]\n",
            " [6.4 3.2 4.5 1.5]\n",
            " [6.9 3.1 4.9 1.5]\n",
            " [5.5 2.3 4.  1.3]\n",
            " [6.5 2.8 4.6 1.5]\n",
            " [5.7 2.8 4.5 1.3]\n",
            " [6.3 3.3 4.7 1.6]\n",
            " [4.9 2.4 3.3 1. ]\n",
            " [6.6 2.9 4.6 1.3]\n",
            " [5.2 2.7 3.9 1.4]\n",
            " [5.  2.  3.5 1. ]\n",
            " [5.9 3.  4.2 1.5]\n",
            " [6.  2.2 4.  1. ]\n",
            " [6.1 2.9 4.7 1.4]\n",
            " [5.6 2.9 3.6 1.3]\n",
            " [6.7 3.1 4.4 1.4]\n",
            " [5.6 3.  4.5 1.5]\n",
            " [5.8 2.7 4.1 1. ]\n",
            " [6.2 2.2 4.5 1.5]\n",
            " [5.6 2.5 3.9 1.1]\n",
            " [5.9 3.2 4.8 1.8]\n",
            " [6.1 2.8 4.  1.3]\n",
            " [6.3 2.5 4.9 1.5]\n",
            " [6.1 2.8 4.7 1.2]\n",
            " [6.4 2.9 4.3 1.3]\n",
            " [6.6 3.  4.4 1.4]\n",
            " [6.8 2.8 4.8 1.4]\n",
            " [6.7 3.  5.  1.7]\n",
            " [6.  2.9 4.5 1.5]\n",
            " [5.7 2.6 3.5 1. ]\n",
            " [5.5 2.4 3.8 1.1]\n",
            " [5.5 2.4 3.7 1. ]\n",
            " [5.8 2.7 3.9 1.2]\n",
            " [6.  2.7 5.1 1.6]\n",
            " [5.4 3.  4.5 1.5]\n",
            " [6.  3.4 4.5 1.6]\n",
            " [6.7 3.1 4.7 1.5]\n",
            " [6.3 2.3 4.4 1.3]\n",
            " [5.6 3.  4.1 1.3]\n",
            " [5.5 2.5 4.  1.3]\n",
            " [5.5 2.6 4.4 1.2]\n",
            " [6.1 3.  4.6 1.4]\n",
            " [5.8 2.6 4.  1.2]\n",
            " [5.  2.3 3.3 1. ]\n",
            " [5.6 2.7 4.2 1.3]\n",
            " [5.7 3.  4.2 1.2]\n",
            " [5.7 2.9 4.2 1.3]\n",
            " [6.2 2.9 4.3 1.3]\n",
            " [5.1 2.5 3.  1.1]\n",
            " [5.7 2.8 4.1 1.3]\n",
            " [6.3 3.3 6.  2.5]\n",
            " [5.8 2.7 5.1 1.9]\n",
            " [7.1 3.  5.9 2.1]\n",
            " [6.3 2.9 5.6 1.8]\n",
            " [6.5 3.  5.8 2.2]\n",
            " [7.6 3.  6.6 2.1]\n",
            " [4.9 2.5 4.5 1.7]\n",
            " [7.3 2.9 6.3 1.8]\n",
            " [6.7 2.5 5.8 1.8]\n",
            " [7.2 3.6 6.1 2.5]\n",
            " [6.5 3.2 5.1 2. ]\n",
            " [6.4 2.7 5.3 1.9]\n",
            " [6.8 3.  5.5 2.1]\n",
            " [5.7 2.5 5.  2. ]\n",
            " [5.8 2.8 5.1 2.4]\n",
            " [6.4 3.2 5.3 2.3]\n",
            " [6.5 3.  5.5 1.8]\n",
            " [7.7 3.8 6.7 2.2]\n",
            " [7.7 2.6 6.9 2.3]\n",
            " [6.  2.2 5.  1.5]\n",
            " [6.9 3.2 5.7 2.3]\n",
            " [5.6 2.8 4.9 2. ]\n",
            " [7.7 2.8 6.7 2. ]\n",
            " [6.3 2.7 4.9 1.8]\n",
            " [6.7 3.3 5.7 2.1]\n",
            " [7.2 3.2 6.  1.8]\n",
            " [6.2 2.8 4.8 1.8]\n",
            " [6.1 3.  4.9 1.8]\n",
            " [6.4 2.8 5.6 2.1]\n",
            " [7.2 3.  5.8 1.6]\n",
            " [7.4 2.8 6.1 1.9]\n",
            " [7.9 3.8 6.4 2. ]\n",
            " [6.4 2.8 5.6 2.2]\n",
            " [6.3 2.8 5.1 1.5]\n",
            " [6.1 2.6 5.6 1.4]\n",
            " [7.7 3.  6.1 2.3]\n",
            " [6.3 3.4 5.6 2.4]\n",
            " [6.4 3.1 5.5 1.8]\n",
            " [6.  3.  4.8 1.8]\n",
            " [6.9 3.1 5.4 2.1]\n",
            " [6.7 3.1 5.6 2.4]\n",
            " [6.9 3.1 5.1 2.3]\n",
            " [5.8 2.7 5.1 1.9]\n",
            " [6.8 3.2 5.9 2.3]\n",
            " [6.7 3.3 5.7 2.5]\n",
            " [6.7 3.  5.2 2.3]\n",
            " [6.3 2.5 5.  1.9]\n",
            " [6.5 3.  5.2 2. ]\n",
            " [6.2 3.4 5.4 2.3]\n",
            " [5.9 3.  5.1 1.8]]\n"
          ]
        }
      ],
      "source": [
        "from sklearn.datasets import load_iris\n",
        "X, _ = load_iris(return_X_y=True)\n",
        "\n",
        "print(X)"
      ]
    },
    {
      "cell_type": "code",
      "source": [
        "print(X.shape)\n",
        "\n",
        "print()\n",
        "\n",
        "row_means = np.mean(X, axis=0) # taking the mean of each of the 4 columns\n",
        "print(\"row_means:\")\n",
        "print(row_means)\n",
        "\n",
        "print()\n",
        "\n",
        "col_means = np.mean(X, axis=1) # taking the mean of each of the 150 rows\n",
        "print(\"col_means:\")\n",
        "print(col_means)"
      ],
      "metadata": {
        "id": "u7uuxhYvDVDh",
        "outputId": "734c4266-8b89-418d-e80a-60e39063d613",
        "colab": {
          "base_uri": "https://localhost:8080/"
        }
      },
      "id": "u7uuxhYvDVDh",
      "execution_count": 180,
      "outputs": [
        {
          "output_type": "stream",
          "name": "stdout",
          "text": [
            "(150, 4)\n",
            "\n",
            "row_means:\n",
            "[5.84333333 3.05733333 3.758      1.19933333]\n",
            "\n",
            "col_means:\n",
            "[2.55  2.375 2.35  2.35  2.55  2.85  2.425 2.525 2.225 2.4   2.7   2.5\n",
            " 2.325 2.125 2.8   3.    2.75  2.575 2.875 2.675 2.675 2.675 2.35  2.65\n",
            " 2.575 2.45  2.6   2.6   2.55  2.425 2.425 2.675 2.725 2.825 2.425 2.4\n",
            " 2.625 2.5   2.225 2.55  2.525 2.1   2.275 2.675 2.8   2.375 2.675 2.35\n",
            " 2.675 2.475 4.075 3.9   4.1   3.275 3.85  3.575 3.975 2.9   3.85  3.3\n",
            " 2.875 3.65  3.3   3.775 3.35  3.9   3.65  3.4   3.6   3.275 3.925 3.55\n",
            " 3.8   3.7   3.725 3.85  3.95  4.1   3.725 3.2   3.2   3.15  3.4   3.85\n",
            " 3.6   3.875 4.    3.575 3.5   3.325 3.425 3.775 3.4   2.9   3.45  3.525\n",
            " 3.525 3.675 2.925 3.475 4.525 3.875 4.525 4.15  4.375 4.825 3.4   4.575\n",
            " 4.2   4.85  4.2   4.075 4.35  3.8   4.025 4.3   4.2   5.1   4.875 3.675\n",
            " 4.525 3.825 4.8   3.925 4.45  4.55  3.9   3.95  4.225 4.4   4.55  5.025\n",
            " 4.25  3.925 3.925 4.775 4.425 4.2   3.9   4.375 4.45  4.35  3.875 4.55\n",
            " 4.55  4.3   3.925 4.175 4.325 3.95 ]\n"
          ]
        }
      ]
    },
    {
      "cell_type": "markdown",
      "id": "6965af11",
      "metadata": {
        "id": "6965af11"
      },
      "source": [
        "# Matplotlib"
      ]
    },
    {
      "cell_type": "markdown",
      "id": "db22c103",
      "metadata": {
        "id": "db22c103"
      },
      "source": [
        "## Basic plots"
      ]
    },
    {
      "cell_type": "markdown",
      "id": "cf3aee9a",
      "metadata": {
        "id": "cf3aee9a"
      },
      "source": [
        "[Matplotlib](https://matplotlib.org/) is a plotting library for Python.\n",
        "\n",
        "The standard way to import matplotlib is as follows and we can then access all the functionality through `plt`"
      ]
    },
    {
      "cell_type": "code",
      "source": [
        "import matplotlib.pyplot as plt"
      ],
      "metadata": {
        "id": "Kpt3fUm8Fj9Q"
      },
      "id": "Kpt3fUm8Fj9Q",
      "execution_count": 193,
      "outputs": []
    },
    {
      "cell_type": "markdown",
      "source": [
        "Here are some good resources if you wish to learn more about using matplotlib:\n",
        "\n",
        "*  Official [tutorial](https://matplotlib.org/tutorials/introductory/pyplot.html)\n",
        "* [Tutorial](https://www.youtube.com/watch?v=qErBw-R2Ybk) on Youtube"
      ],
      "metadata": {
        "id": "vvNjrrHIHrHN"
      },
      "id": "vvNjrrHIHrHN"
    },
    {
      "cell_type": "markdown",
      "source": [
        "The syntax for matplotlib can be a bit complicated. LLM such as ChatGPT are **excellent** at giving you good template code for matplotlib plots."
      ],
      "metadata": {
        "id": "dhqZ-slmEaId"
      },
      "id": "dhqZ-slmEaId"
    },
    {
      "cell_type": "markdown",
      "source": [
        "![Screenshot 2025-08-01 at 18.59.33.png](data:image/png;base64,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)"
      ],
      "metadata": {
        "id": "psML9p9aEbkg"
      },
      "id": "psML9p9aEbkg"
    },
    {
      "cell_type": "markdown",
      "id": "7567e9ae",
      "metadata": {
        "id": "7567e9ae"
      },
      "source": [
        "We start with a rudimentary plotting example."
      ]
    },
    {
      "cell_type": "code",
      "execution_count": 194,
      "id": "c4919041",
      "metadata": {
        "id": "c4919041",
        "colab": {
          "base_uri": "https://localhost:8080/",
          "height": 472
        },
        "outputId": "08bfb7b2-34f1-4ca2-aac0-94df3bfd5e94"
      },
      "outputs": [
        {
          "output_type": "display_data",
          "data": {
            "text/plain": [
              "<Figure size 640x480 with 1 Axes>"
            ],
            "image/png": "[encoded data removed]"
          },
          "metadata": {}
        }
      ],
      "source": [
        "x_values = np.linspace(-3, 3, 100)\n",
        "\n",
        "y_values = np.sin(x_values)\n",
        "\n",
        "plt.figure()\n",
        "plt.plot(x_values, y_values, label=\"Sinusoid\")\n",
        "plt.xlabel(\"x\")\n",
        "plt.ylabel(\"sin(x)\")\n",
        "plt.title(\"Matplotlib example\")\n",
        "plt.legend(loc=\"upper left\")\n",
        "plt.show()"
      ]
    },
    {
      "cell_type": "markdown",
      "id": "a07904ed",
      "metadata": {
        "id": "a07904ed"
      },
      "source": [
        "We continue with a rudimentary scatter plot example. This example displays samples from the [iris dataset](https://scikit-learn.org/stable/modules/generated/sklearn.datasets.load_iris.html) using the first two features. Colors indicate class membership (there are 3 classes)."
      ]
    },
    {
      "cell_type": "code",
      "execution_count": 195,
      "id": "1aacc150",
      "metadata": {
        "id": "1aacc150",
        "colab": {
          "base_uri": "https://localhost:8080/",
          "height": 433
        },
        "outputId": "618153fc-fbbf-4d5b-9115-7d222e3dd493"
      },
      "outputs": [
        {
          "output_type": "display_data",
          "data": {
            "text/plain": [
              "<Figure size 640x480 with 1 Axes>"
            ],
            "image/png": "[encoded data removed]"
          },
          "metadata": {}
        }
      ],
      "source": [
        "from sklearn.datasets import load_iris\n",
        "X, y = load_iris(return_X_y=True)\n",
        "\n",
        "X_class0 = X[y == 0]\n",
        "X_class1 = X[y == 1]\n",
        "X_class2 = X[y == 2]\n",
        "\n",
        "plt.figure()\n",
        "plt.scatter(X_class0[:, 0], X_class0[:, 1], label=\"Class 0\", color=\"C0\")\n",
        "plt.scatter(X_class1[:, 0], X_class1[:, 1], label=\"Class 1\", color=\"C1\")\n",
        "plt.scatter(X_class2[:, 0], X_class2[:, 1], label=\"Class 2\", color=\"C2\")\n",
        "plt.show()"
      ]
    },
    {
      "cell_type": "markdown",
      "id": "31906ab4",
      "metadata": {
        "id": "31906ab4"
      },
      "source": [
        "## Exercises\n",
        "\n"
      ]
    },
    {
      "cell_type": "markdown",
      "id": "ac7cc4a5",
      "metadata": {
        "id": "ac7cc4a5"
      },
      "source": [
        "**Exercise 1.** Plot the [relu](https://en.wikipedia.org/wiki/Rectifier_(neural_networks)) and the [softplus](https://en.wikipedia.org/wiki/Rectifier_(neural_networks)#Softplus) functions on the same graph."
      ]
    },
    {
      "cell_type": "code",
      "execution_count": 196,
      "id": "b1b6958e",
      "metadata": {
        "id": "b1b6958e",
        "colab": {
          "base_uri": "https://localhost:8080/",
          "height": 430
        },
        "outputId": "4f187782-757c-4aa0-b357-bd1e9951b9b6"
      },
      "outputs": [
        {
          "output_type": "display_data",
          "data": {
            "text/plain": [
              "<Figure size 640x480 with 1 Axes>"
            ],
            "image/png": "[encoded data removed]"
          },
          "metadata": {}
        }
      ],
      "source": [
        "x = np.linspace(-3, 3, 100)\n",
        "plt.figure()\n",
        "plt.plot(x, relu_numpy(x), label='relu')\n",
        "plt.plot(x, np.log(1 + np.exp(x)), label='softplus')\n",
        "plt.legend()\n",
        "plt.show()"
      ]
    },
    {
      "cell_type": "markdown",
      "id": "c235b5c3",
      "metadata": {
        "id": "c235b5c3"
      },
      "source": [
        "**Exercise 2.** Make a scatter plot of the [wine dataset](https://scikit-learn.org/stable/modules/generated/sklearn.datasets.load_wine.html) in which you plot the first two features (i.e., first two columns of the `X` array)."
      ]
    },
    {
      "cell_type": "code",
      "execution_count": 197,
      "id": "90c77a1b",
      "metadata": {
        "id": "90c77a1b",
        "colab": {
          "base_uri": "https://localhost:8080/",
          "height": 472
        },
        "outputId": "d94dab27-6b51-4400-b79e-c6e5ad79ec7e"
      },
      "outputs": [
        {
          "output_type": "display_data",
          "data": {
            "text/plain": [
              "<Figure size 640x480 with 2 Axes>"
            ],
            "image/png": "[encoded data removed]"
          },
          "metadata": {}
        }
      ],
      "source": [
        "from sklearn.datasets import load_wine\n",
        "\n",
        "# Load data\n",
        "data = load_wine()\n",
        "X = data.data\n",
        "y = data.target\n",
        "\n",
        "# Simple scatter plot using first two features\n",
        "plt.scatter(X[:, 0], X[:, 1], c=y, cmap='viridis', edgecolor='k')\n",
        "plt.xlabel(data.feature_names[0])\n",
        "plt.ylabel(data.feature_names[1])\n",
        "plt.title('Wine Dataset - First Two Features')\n",
        "plt.colorbar(label='Class')\n",
        "plt.show()\n"
      ]
    },
    {
      "cell_type": "code",
      "source": [],
      "metadata": {
        "id": "GjYy40eqHdcf"
      },
      "id": "GjYy40eqHdcf",
      "execution_count": 197,
      "outputs": []
    }
  ],
  "metadata": {
    "kernelspec": {
      "display_name": "Python 3",
      "name": "python3"
    },
    "colab": {
      "provenance": []
    }
  },
  "nbformat": 4,
  "nbformat_minor": 5
}