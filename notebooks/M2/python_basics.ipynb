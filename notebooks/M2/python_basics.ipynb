{
  "cells": [
    {
      "cell_type": "markdown",
      "id": "b4040901",
      "metadata": {
        "id": "b4040901"
      },
      "source": [
        "Notebook adapted by Andrew Ferguson from code prepared by Mathieu Blondel."
      ]
    },
    {
      "cell_type": "markdown",
      "id": "a000ca8f",
      "metadata": {
        "id": "a000ca8f"
      },
      "source": [
        "# Welcome"
      ]
    },
    {
      "cell_type": "markdown",
      "id": "3085f2a2",
      "metadata": {
        "id": "3085f2a2"
      },
      "source": [
        "Welcome to the introduction to Python in Google Colab! In this practical, we will learn about the programming language [Python](https://www.python.org/) as well as [NumPy](https://numpy.org/) and [Matplotlib](https://matplotlib.org/), two fundamental tools for data science and machine learning in Python."
      ]
    },
    {
      "cell_type": "markdown",
      "id": "3735a367",
      "metadata": {
        "id": "3735a367"
      },
      "source": [
        "# Notebooks"
      ]
    },
    {
      "cell_type": "markdown",
      "id": "796a1280",
      "metadata": {
        "id": "796a1280"
      },
      "source": [
        "This week, we will use [Jupyter notebooks](https://jupyter.org/) and [Google Colab](https://colab.research.google.com/) as the primary way to practice machine learning. Notebooks are a great way to mix executable code with rich contents (e.g., HTML, images, equations written in LaTeX). Colab allows to run notebooks on the cloud for free without any prior installation, while leveraging the power of GPUs."
      ]
    },
    {
      "cell_type": "markdown",
      "id": "f347609f",
      "metadata": {
        "id": "f347609f"
      },
      "source": [
        "The document that you are reading is not a static web page, but an interactive environment called a notebook, that lets you write and execute code. Notebooks consist of so-called code cells, blocks of one or more Python instructions. For example, here is a code cell that stores the result of a computation (the number of seconds in a day) in a variable and prints its value:"
      ]
    },
    {
      "cell_type": "code",
      "execution_count": 1,
      "id": "ccf57b61",
      "metadata": {
        "id": "ccf57b61",
        "colab": {
          "base_uri": "https://localhost:8080/"
        },
        "outputId": "f2609bfb-2d6d-4d77-afe7-711f91fb810c"
      },
      "outputs": [
        {
          "output_type": "execute_result",
          "data": {
            "text/plain": [
              "86400"
            ]
          },
          "metadata": {},
          "execution_count": 1
        }
      ],
      "source": [
        "seconds_in_a_day = 24 * 60 * 60\n",
        "seconds_in_a_day"
      ]
    },
    {
      "cell_type": "markdown",
      "id": "4dd50496",
      "metadata": {
        "id": "4dd50496"
      },
      "source": [
        "Click on the \"play\" button to execute the cell. You should be able to see the result. Alternatively, you can also execute the cell by pressing Ctrl + Enter if you are on Windows / Linux or Command + Enter if you are on a Mac."
      ]
    },
    {
      "cell_type": "markdown",
      "id": "97a42e2a",
      "metadata": {
        "id": "97a42e2a"
      },
      "source": [
        "Variables that you defined in one cell can later be used in other cells:"
      ]
    },
    {
      "cell_type": "code",
      "execution_count": 2,
      "id": "d65efd73",
      "metadata": {
        "id": "d65efd73",
        "colab": {
          "base_uri": "https://localhost:8080/"
        },
        "outputId": "895bd79a-e804-4d89-c290-5546b100521a"
      },
      "outputs": [
        {
          "output_type": "execute_result",
          "data": {
            "text/plain": [
              "604800"
            ]
          },
          "metadata": {},
          "execution_count": 2
        }
      ],
      "source": [
        "seconds_in_a_week = 7 * seconds_in_a_day\n",
        "seconds_in_a_week"
      ]
    },
    {
      "cell_type": "markdown",
      "id": "f0c2fc67",
      "metadata": {
        "id": "f0c2fc67"
      },
      "source": [
        "Note that the order of execution is important. For instance, if we do not run the cell storing *seconds_in_a_day* beforehand, the above cell will raise an error, as it depends on this variable.\n",
        "\n",
        "The order in which the cells were executed is indicated by an integer betweeen square brackets on the left side of the cell (e.g., [2]). Unexecuted cells have an empty set of square brackets (e.g., [ ]).\n",
        "\n",
        "To make sure that you run all the cells in the correct order, you can also click on \"Runtime\" in the top-level menu, then \"Run all\"."
      ]
    },
    {
      "cell_type": "markdown",
      "id": "5d7b80c5",
      "metadata": {
        "id": "5d7b80c5"
      },
      "source": [
        "**Exercise.** Add a cell below this cell: click on this cell then click on \"+ Code\". In the new cell, compute and display the number of seconds in a year by reusing the variable *seconds_in_a_day*. Run the new cell."
      ]
    },
    {
      "cell_type": "code",
      "execution_count": 3,
      "id": "abacef55",
      "metadata": {
        "id": "abacef55",
        "colab": {
          "base_uri": "https://localhost:8080/"
        },
        "outputId": "5c57882e-8063-48f1-93cc-a156ea63d340"
      },
      "outputs": [
        {
          "output_type": "execute_result",
          "data": {
            "text/plain": [
              "31536000"
            ]
          },
          "metadata": {},
          "execution_count": 3
        }
      ],
      "source": [
        "days_in_a_year = 365\n",
        "seconds_in_a_year = days_in_a_year * seconds_in_a_day\n",
        "seconds_in_a_year"
      ]
    },
    {
      "cell_type": "markdown",
      "id": "707dba53",
      "metadata": {
        "id": "707dba53"
      },
      "source": [
        "# Python"
      ]
    },
    {
      "cell_type": "markdown",
      "id": "0f9ad5b6",
      "metadata": {
        "id": "0f9ad5b6"
      },
      "source": [
        "Python is one of the most popular programming languages for machine learning, both in academia and in industry. As such, it is essential to learn this language for anyone interested in machine learning. In this section, we will review Python basics.\n",
        "\n",
        "It is impossible to do any more than scratch the surface of the Python language in this short introduction. For more information, here are some entry-level resources:\n",
        "\n",
        "*   List of Python [tutorials](https://wiki.python.org/moin/BeginnersGuide/Programmers)\n",
        "* Four-hour [course](https://www.youtube.com/watch?v=rfscVS0vtbw) on Youtube\n",
        "\n"
      ]
    },
    {
      "cell_type": "markdown",
      "id": "eb22f7de",
      "metadata": {
        "id": "eb22f7de"
      },
      "source": [
        "## Lists"
      ]
    },
    {
      "cell_type": "markdown",
      "id": "9d6fc1ce",
      "metadata": {
        "id": "9d6fc1ce"
      },
      "source": [
        "Lists are a container type for ordered sequences of elements. Lists can be initialized empty"
      ]
    },
    {
      "cell_type": "code",
      "execution_count": 5,
      "id": "8bb57cf8",
      "metadata": {
        "id": "8bb57cf8"
      },
      "outputs": [],
      "source": [
        "my_list = []"
      ]
    },
    {
      "cell_type": "markdown",
      "id": "3415b447",
      "metadata": {
        "id": "3415b447"
      },
      "source": [
        "or with some initial elements"
      ]
    },
    {
      "cell_type": "code",
      "execution_count": 1,
      "id": "3853a6ad",
      "metadata": {
        "id": "3853a6ad"
      },
      "outputs": [],
      "source": [
        "my_list = [1, 2, 3]"
      ]
    },
    {
      "cell_type": "markdown",
      "id": "4a87bbe7",
      "metadata": {
        "id": "4a87bbe7"
      },
      "source": [
        "Lists have a dynamic size and elements can be added (appended) to them"
      ]
    },
    {
      "cell_type": "code",
      "execution_count": 2,
      "id": "ab4055e8",
      "metadata": {
        "id": "ab4055e8",
        "colab": {
          "base_uri": "https://localhost:8080/"
        },
        "outputId": "a3bbc088-08bf-4461-f859-a04faf935d46"
      },
      "outputs": [
        {
          "output_type": "execute_result",
          "data": {
            "text/plain": [
              "[1, 2, 3, 4]"
            ]
          },
          "metadata": {},
          "execution_count": 2
        }
      ],
      "source": [
        "my_list.append(4)\n",
        "my_list"
      ]
    },
    {
      "cell_type": "markdown",
      "id": "dd509877",
      "metadata": {
        "id": "dd509877"
      },
      "source": [
        "We can access individual elements of a list using integers.\n",
        "\n",
        "The *first* element of the list `my_list` is accessed as `my_list[0]`. The *last* element of the list `my_list` is accessed as `my_list[-1]`.\n",
        "\n",
        "**N.B. Python indexing starts from 0!**"
      ]
    },
    {
      "cell_type": "code",
      "execution_count": 3,
      "id": "c1fac31e",
      "metadata": {
        "id": "c1fac31e",
        "colab": {
          "base_uri": "https://localhost:8080/"
        },
        "outputId": "6a7b6ff6-03a4-4378-b912-bf2fd8f9e519"
      },
      "outputs": [
        {
          "output_type": "execute_result",
          "data": {
            "text/plain": [
              "3"
            ]
          },
          "metadata": {},
          "execution_count": 3
        }
      ],
      "source": [
        "my_list[2]"
      ]
    },
    {
      "cell_type": "code",
      "source": [
        "my_list[0]"
      ],
      "metadata": {
        "colab": {
          "base_uri": "https://localhost:8080/"
        },
        "id": "PZMu7Ph6QMYR",
        "outputId": "aba5b56d-ff56-4cf9-c0f2-4664682c03f4"
      },
      "id": "PZMu7Ph6QMYR",
      "execution_count": 4,
      "outputs": [
        {
          "output_type": "execute_result",
          "data": {
            "text/plain": [
              "1"
            ]
          },
          "metadata": {},
          "execution_count": 4
        }
      ]
    },
    {
      "cell_type": "code",
      "source": [
        "my_list[-1]"
      ],
      "metadata": {
        "colab": {
          "base_uri": "https://localhost:8080/"
        },
        "id": "gte2_7e9QPW3",
        "outputId": "fee85276-6765-4332-ee83-5ebf2f0b2bb0"
      },
      "id": "gte2_7e9QPW3",
      "execution_count": 5,
      "outputs": [
        {
          "output_type": "execute_result",
          "data": {
            "text/plain": [
              "4"
            ]
          },
          "metadata": {},
          "execution_count": 5
        }
      ]
    },
    {
      "cell_type": "markdown",
      "id": "157c1e4c",
      "metadata": {
        "id": "157c1e4c"
      },
      "source": [
        "We can access \"slices\" of a list using `my_list[i:j]` where `i` is the start of the slice (again, indexing starts from 0) and `j` the end of the slice. For instance:"
      ]
    },
    {
      "cell_type": "code",
      "execution_count": 6,
      "id": "53549b40",
      "metadata": {
        "id": "53549b40",
        "colab": {
          "base_uri": "https://localhost:8080/"
        },
        "outputId": "8ced8240-3ec9-4883-a176-cf67d2ba55d3"
      },
      "outputs": [
        {
          "output_type": "execute_result",
          "data": {
            "text/plain": [
              "[2, 3]"
            ]
          },
          "metadata": {},
          "execution_count": 6
        }
      ],
      "source": [
        "my_list[1:3]"
      ]
    },
    {
      "cell_type": "markdown",
      "id": "ab0cc1fe",
      "metadata": {
        "id": "ab0cc1fe"
      },
      "source": [
        "Omitting the second index means that the slice should run until the end of the list"
      ]
    },
    {
      "cell_type": "code",
      "execution_count": 7,
      "id": "e7cacb84",
      "metadata": {
        "id": "e7cacb84",
        "colab": {
          "base_uri": "https://localhost:8080/"
        },
        "outputId": "e6deef05-5c9d-482a-a431-45d09ef4a437"
      },
      "outputs": [
        {
          "output_type": "execute_result",
          "data": {
            "text/plain": [
              "[2, 3, 4]"
            ]
          },
          "metadata": {},
          "execution_count": 7
        }
      ],
      "source": [
        "my_list[1:]"
      ]
    },
    {
      "cell_type": "markdown",
      "id": "e85db3ef",
      "metadata": {
        "id": "e85db3ef"
      },
      "source": [
        "We can check if an element is in the list using `in`"
      ]
    },
    {
      "cell_type": "code",
      "execution_count": 8,
      "id": "43ccbb54",
      "metadata": {
        "id": "43ccbb54",
        "colab": {
          "base_uri": "https://localhost:8080/"
        },
        "outputId": "df2e3793-24fb-403e-fd60-d17096fff0aa"
      },
      "outputs": [
        {
          "output_type": "execute_result",
          "data": {
            "text/plain": [
              "False"
            ]
          },
          "metadata": {},
          "execution_count": 8
        }
      ],
      "source": [
        "5 in my_list"
      ]
    },
    {
      "cell_type": "markdown",
      "id": "962bef37",
      "metadata": {
        "id": "962bef37"
      },
      "source": [
        "The length of a list can be obtained using the `len` function"
      ]
    },
    {
      "cell_type": "code",
      "execution_count": 9,
      "id": "c849e1d1",
      "metadata": {
        "id": "c849e1d1",
        "colab": {
          "base_uri": "https://localhost:8080/"
        },
        "outputId": "6ecca904-17a9-4393-89de-f54fc4523d55"
      },
      "outputs": [
        {
          "output_type": "execute_result",
          "data": {
            "text/plain": [
              "4"
            ]
          },
          "metadata": {},
          "execution_count": 9
        }
      ],
      "source": [
        "len(my_list)"
      ]
    },
    {
      "cell_type": "markdown",
      "id": "c3325ea4",
      "metadata": {
        "id": "c3325ea4"
      },
      "source": [
        "## Strings"
      ]
    },
    {
      "cell_type": "markdown",
      "id": "e1b715c2",
      "metadata": {
        "id": "e1b715c2"
      },
      "source": [
        "Strings are used to store text. They can be delimited using either single quotes or double quotes"
      ]
    },
    {
      "cell_type": "code",
      "execution_count": null,
      "id": "c27b45e6",
      "metadata": {
        "id": "c27b45e6"
      },
      "outputs": [],
      "source": [
        "string1 = \"some text\"\n",
        "string2 = 'some other text'"
      ]
    },
    {
      "cell_type": "markdown",
      "id": "d90e4349",
      "metadata": {
        "id": "d90e4349"
      },
      "source": [
        "Strings behave similarly to lists. As such we can access individual elements in exactly the same way"
      ]
    },
    {
      "cell_type": "code",
      "execution_count": null,
      "id": "cccec947",
      "metadata": {
        "id": "cccec947"
      },
      "outputs": [],
      "source": [
        "string1[3]"
      ]
    },
    {
      "cell_type": "markdown",
      "id": "d96967cb",
      "metadata": {
        "id": "d96967cb"
      },
      "source": [
        "and similarly for slices"
      ]
    },
    {
      "cell_type": "code",
      "execution_count": null,
      "id": "43acefd2",
      "metadata": {
        "id": "43acefd2"
      },
      "outputs": [],
      "source": [
        "string1[5:]"
      ]
    },
    {
      "cell_type": "markdown",
      "id": "03e90f24",
      "metadata": {
        "id": "03e90f24"
      },
      "source": [
        "String concatenation is performed using the `+` operator"
      ]
    },
    {
      "cell_type": "code",
      "execution_count": null,
      "id": "5a68e214",
      "metadata": {
        "id": "5a68e214"
      },
      "outputs": [],
      "source": [
        "string1 + \" \" + string2"
      ]
    },
    {
      "cell_type": "markdown",
      "metadata": {
        "id": "8b1b7562"
      },
      "source": [
        "## Arithmetic operations"
      ],
      "id": "8b1b7562"
    },
    {
      "cell_type": "markdown",
      "metadata": {
        "id": "58a13340"
      },
      "source": [
        "Python supports the usual arithmetic operators: + (addition), * (multiplication), / (division), ** (power), // (integer division)."
      ],
      "id": "58a13340"
    },
    {
      "cell_type": "markdown",
      "id": "9df65cba",
      "metadata": {
        "id": "9df65cba"
      },
      "source": [
        "## Conditionals"
      ]
    },
    {
      "cell_type": "markdown",
      "id": "78095f14",
      "metadata": {
        "id": "78095f14"
      },
      "source": [
        "As their name indicates, conditionals are a way to execute code depending on whether a condition is True or False. As in other languages, Python supports `if` and `else` but `else if` is contracted into `elif`, as the example below demonstrates."
      ]
    },
    {
      "cell_type": "code",
      "execution_count": null,
      "id": "f9095353",
      "metadata": {
        "id": "f9095353"
      },
      "outputs": [],
      "source": [
        "my_variable = 5\n",
        "if my_variable < 0:\n",
        "  print(\"negative\")\n",
        "elif my_variable == 0:\n",
        "  print(\"null\")\n",
        "else: # my_variable > 0\n",
        "  print(\"positive\")"
      ]
    },
    {
      "cell_type": "markdown",
      "id": "a37b8f7a",
      "metadata": {
        "id": "a37b8f7a"
      },
      "source": [
        "Notice the use of `print` to display messages. It also works to display the value of variables. In any case, the last line of a cell is always printed"
      ]
    },
    {
      "cell_type": "code",
      "execution_count": null,
      "id": "ef7eb3ad",
      "metadata": {
        "lines_to_next_cell": 2,
        "id": "ef7eb3ad"
      },
      "outputs": [],
      "source": [
        "my_variable = 5\n",
        "print(my_variable)\n",
        "my_variable # This behaves as print(my_variable)"
      ]
    },
    {
      "cell_type": "code",
      "execution_count": null,
      "id": "4bee0aba",
      "metadata": {
        "id": "4bee0aba"
      },
      "outputs": [],
      "source": [
        "my_variable = 5\n",
        "my_variable # This does not behaves as print(my_variable) (since it is not the last line)\n",
        "print(my_variable)"
      ]
    },
    {
      "cell_type": "code",
      "execution_count": null,
      "id": "069f4348",
      "metadata": {
        "id": "069f4348"
      },
      "outputs": [],
      "source": [
        "# Notice the two spaces before `print` in the snippet with the if, elif, else statements. These spaces are called indentation and they are important as they tell python when the condition starts and stops. Run the following examples and check that you fully understand the output."
      ]
    },
    {
      "cell_type": "code",
      "execution_count": null,
      "id": "76dbf914",
      "metadata": {
        "id": "76dbf914"
      },
      "outputs": [],
      "source": [
        "my_variable = 5\n",
        "if my_variable > 0:\n",
        "  print(\"Instruction bla\")\n",
        "  print(\"Instruction bli\")\n",
        "  print(\"Instruction blu\")"
      ]
    },
    {
      "cell_type": "code",
      "execution_count": null,
      "id": "4a05373c",
      "metadata": {
        "id": "4a05373c"
      },
      "outputs": [],
      "source": [
        "my_variable = 5\n",
        "if my_variable < 0:\n",
        "  print(\"Instruction bla\")\n",
        "  print(\"Instruction bli\")\n",
        "  print(\"Instruction blu\")"
      ]
    },
    {
      "cell_type": "code",
      "execution_count": null,
      "id": "dbac26be",
      "metadata": {
        "id": "dbac26be"
      },
      "outputs": [],
      "source": [
        "my_variable = 5\n",
        "if my_variable < 0:\n",
        "  print(\"Instruction bla\")\n",
        "print(\"Instruction bli\")\n",
        "print(\"Instruction blu\")"
      ]
    },
    {
      "cell_type": "markdown",
      "id": "576e94fc",
      "metadata": {
        "id": "576e94fc"
      },
      "source": [
        "An incorrect indentation will produce an error. What is wrong with the following code ?"
      ]
    },
    {
      "cell_type": "code",
      "execution_count": null,
      "id": "80f3495c",
      "metadata": {
        "lines_to_next_cell": 2,
        "id": "80f3495c"
      },
      "outputs": [],
      "source": [
        "my_variable = 5\n",
        "if my_variable < 0:\n",
        "  print(\"Instruction bla\")\n",
        "print(\"Instruction bli\")\n",
        "  print(\"Instruction blu\")"
      ]
    },
    {
      "cell_type": "markdown",
      "id": "f0d08fba",
      "metadata": {
        "id": "f0d08fba"
      },
      "source": [
        "Here `<` and `>` are the strict `less` and `greater than` operators, while `==` is the equality operator (not to be confused with `=`, the variable assignment operator). The operators `<=` and `>=` can be used for less (resp. greater) than or equal comparisons."
      ]
    },
    {
      "cell_type": "markdown",
      "id": "d87c7601",
      "metadata": {
        "id": "d87c7601"
      },
      "source": [
        "Here, we use 2-space indentation but many programmers also use 4-space indentation. Any one is fine as long as you are consistent throughout your code."
      ]
    },
    {
      "cell_type": "markdown",
      "id": "700b3cdd",
      "metadata": {
        "id": "700b3cdd"
      },
      "source": [
        "## Loops"
      ]
    },
    {
      "cell_type": "markdown",
      "id": "35230eca",
      "metadata": {
        "id": "35230eca"
      },
      "source": [
        "Loops are a way to execute a block of code multiple times. There are two main types of loops: while loops and for loops. Here as well, indentation is used to tell python where the loop start and stops."
      ]
    },
    {
      "cell_type": "markdown",
      "id": "e8e0b042",
      "metadata": {
        "id": "e8e0b042"
      },
      "source": [
        "While loop"
      ]
    },
    {
      "cell_type": "code",
      "execution_count": null,
      "id": "81bb7182",
      "metadata": {
        "id": "81bb7182"
      },
      "outputs": [],
      "source": [
        "i = 0\n",
        "while i < len(my_list):\n",
        "  print(my_list[i])\n",
        "  i += 1 # equivalent to i = i + 1"
      ]
    },
    {
      "cell_type": "markdown",
      "id": "8895485a",
      "metadata": {
        "id": "8895485a"
      },
      "source": [
        "For loop"
      ]
    },
    {
      "cell_type": "code",
      "execution_count": null,
      "id": "b184c18c",
      "metadata": {
        "id": "b184c18c"
      },
      "outputs": [],
      "source": [
        "for i in range(len(my_list)):\n",
        "  print(my_list[i])"
      ]
    },
    {
      "cell_type": "markdown",
      "id": "7c713888",
      "metadata": {
        "id": "7c713888"
      },
      "source": [
        "If the goal is simply to iterate over a list, we can do so directly as follows"
      ]
    },
    {
      "cell_type": "code",
      "execution_count": null,
      "id": "c6d67815",
      "metadata": {
        "id": "c6d67815"
      },
      "outputs": [],
      "source": [
        "for element in my_list:\n",
        "  print(element)"
      ]
    },
    {
      "cell_type": "markdown",
      "id": "523f0fa7",
      "metadata": {
        "id": "523f0fa7"
      },
      "source": [
        "## Functions"
      ]
    },
    {
      "cell_type": "markdown",
      "id": "393164bc",
      "metadata": {
        "id": "393164bc"
      },
      "source": [
        "To improve code readability, it is common to separate the code into different blocks, responsible for performing precise actions: functions. A function takes some inputs and process them to return some outputs."
      ]
    },
    {
      "cell_type": "code",
      "execution_count": null,
      "id": "7046e1c6",
      "metadata": {
        "id": "7046e1c6"
      },
      "outputs": [],
      "source": [
        "def square(x):\n",
        "  return x ** 2\n",
        "\n",
        "def multiply(a, b):\n",
        "  return a * b\n",
        "\n",
        "# Functions can be composed.\n",
        "square(multiply(3, 2))"
      ]
    },
    {
      "cell_type": "markdown",
      "id": "3e290bf6",
      "metadata": {
        "id": "3e290bf6"
      },
      "source": [
        "The code inside a function should be indented. When used in combination with a loop, it is better to define the function once outside the loop."
      ]
    },
    {
      "cell_type": "markdown",
      "id": "8cc4b9b1",
      "metadata": {
        "id": "8cc4b9b1"
      },
      "source": [
        "The following code redefines the function several times. It is not efficient and is in addition hard to read."
      ]
    },
    {
      "cell_type": "code",
      "execution_count": null,
      "id": "4a5ddede",
      "metadata": {
        "lines_to_next_cell": 1,
        "id": "4a5ddede"
      },
      "outputs": [],
      "source": [
        "\n",
        "a = 0\n",
        "for i in range(10):\n",
        "  def add_one(x):\n",
        "    y = x + 1\n",
        "    return y\n",
        "  a = add_one(a)\n",
        "print(a)"
      ]
    },
    {
      "cell_type": "markdown",
      "id": "f41ed3ad",
      "metadata": {
        "id": "f41ed3ad"
      },
      "source": [
        "Here is a better version:"
      ]
    },
    {
      "cell_type": "code",
      "execution_count": null,
      "id": "09d830f4",
      "metadata": {
        "lines_to_next_cell": 2,
        "id": "09d830f4"
      },
      "outputs": [],
      "source": [
        "\n",
        "def add_one(x):\n",
        "  y = x + 1\n",
        "  return y\n",
        "\n",
        "a = 0\n",
        "for i in range(10):\n",
        "  a = add_one(a)\n",
        "print(a)"
      ]
    },
    {
      "cell_type": "markdown",
      "id": "795bdeb7",
      "metadata": {
        "id": "795bdeb7"
      },
      "source": [
        "An interesting features of functions is that variables defined inside their definition cannot be accessed from outside.\n",
        "However a function can access values defined outside its scope (although it is not a good practice to do so.\n",
        "Check that you understand the behavior of the following examples."
      ]
    },
    {
      "cell_type": "code",
      "execution_count": null,
      "id": "3ea24cca",
      "metadata": {
        "lines_to_next_cell": 2,
        "id": "3ea24cca"
      },
      "outputs": [],
      "source": [
        "# Local variables cannot be accessed from the outside\n",
        "c = 5\n",
        "a = 3\n",
        "\n",
        "def my_function():\n",
        "  a = 4\n",
        "  b = 6\n",
        "  c = a + b\n",
        "  return c\n",
        "\n",
        "print(a)\n",
        "print(c)\n",
        "print(my_function())"
      ]
    },
    {
      "cell_type": "code",
      "execution_count": null,
      "id": "8592e384",
      "metadata": {
        "lines_to_next_cell": 2,
        "id": "8592e384"
      },
      "outputs": [],
      "source": [
        "# A function accessing values outside its scope\n",
        "a = 5\n",
        "c = 3\n",
        "\n",
        "def my_function():\n",
        "  b = 6\n",
        "  c = a + b\n",
        "  return c\n",
        "\n",
        "print(a)\n",
        "print(c)\n",
        "print(my_function())"
      ]
    },
    {
      "cell_type": "code",
      "execution_count": null,
      "id": "fb87e623",
      "metadata": {
        "id": "fb87e623"
      },
      "outputs": [],
      "source": [
        "# The better practice to avoid accessing variable outside the scope of the function.\n",
        "a = 5\n",
        "c = 3\n",
        "\n",
        "def my_function():\n",
        "  h = 5\n",
        "  b = 6\n",
        "  c = h + b\n",
        "  return c\n",
        "\n",
        "print(a)\n",
        "print(c)\n",
        "print(my_function())"
      ]
    },
    {
      "cell_type": "markdown",
      "id": "17c2a0e8",
      "metadata": {
        "id": "17c2a0e8"
      },
      "source": [
        "To improve code readability, it is sometimes useful to explicitly name the arguments"
      ]
    },
    {
      "cell_type": "code",
      "execution_count": null,
      "id": "37b73f4f",
      "metadata": {
        "id": "37b73f4f"
      },
      "outputs": [],
      "source": [
        "square(multiply(a=3, b=2))"
      ]
    },
    {
      "cell_type": "markdown",
      "id": "bc87b537",
      "metadata": {
        "id": "bc87b537"
      },
      "source": [
        "## Exercises"
      ]
    },
    {
      "cell_type": "markdown",
      "id": "4ad7efdc",
      "metadata": {
        "id": "4ad7efdc"
      },
      "source": [
        "**Exercise 1.** Using a conditional, write the [relu](https://en.wikipedia.org/wiki/Rectifier_(neural_networks)) function defined as follows\n",
        "\n",
        "$\\text{relu}(x) = \\left\\{\n",
        "   \\begin{array}{rl}\n",
        "     x, & \\text{if }  x \\ge 0 \\\\\n",
        "     0, & \\text{otherwise }.\n",
        "   \\end{array}\\right.$"
      ]
    },
    {
      "cell_type": "code",
      "execution_count": null,
      "id": "ee65cc4f",
      "metadata": {
        "id": "ee65cc4f"
      },
      "outputs": [],
      "source": [
        "def relu(x):\n",
        "    if x > 0:\n",
        "        return x\n",
        "    else:\n",
        "        return 0\n",
        "\n",
        "relu(-3)"
      ]
    },
    {
      "cell_type": "markdown",
      "id": "816dadff",
      "metadata": {
        "id": "816dadff"
      },
      "source": [
        "**Exercise 2.** Using a for loop, write a function that computes the [Euclidean norm](https://en.wikipedia.org/wiki/Norm_(mathematics)#Euclidean_norm) of a vector, represented as a list."
      ]
    },
    {
      "cell_type": "code",
      "execution_count": null,
      "id": "64e84c6e",
      "metadata": {
        "id": "64e84c6e"
      },
      "outputs": [],
      "source": [
        "def euclidean_norm(vector):\n",
        "    sos = 0\n",
        "    for v in vector:\n",
        "        sos += v**2\n",
        "    return sos **0.5\n",
        "\n",
        "my_vector = [0.5, -1.2, 3.3, 4.5]\n",
        "# The result should be roughly 5.729746940310715\n",
        "euclidean_norm(my_vector)"
      ]
    },
    {
      "cell_type": "markdown",
      "id": "ba2cd6da",
      "metadata": {
        "id": "ba2cd6da"
      },
      "source": [
        "**Exercise 3.** Using a for loop and a conditional, write a function that returns the maximum value in a vector."
      ]
    },
    {
      "cell_type": "code",
      "execution_count": null,
      "id": "ac85239e",
      "metadata": {
        "id": "ac85239e"
      },
      "outputs": [],
      "source": [
        "def vector_maximum(vector):\n",
        "    maximum = vector[0]\n",
        "    for v in vector:\n",
        "        if maximum <= v:\n",
        "            maximum = v\n",
        "    return maximum\n",
        "vector_maximum(my_vector)"
      ]
    },
    {
      "cell_type": "markdown",
      "id": "af6227e4",
      "metadata": {
        "id": "af6227e4"
      },
      "source": [
        "**Bonus exercise.** if time permits, write a function that sorts a list in ascending order (from smaller to bigger) using the [bubble sort](https://en.wikipedia.org/wiki/Bubble_sort) algorithm."
      ]
    },
    {
      "cell_type": "code",
      "execution_count": null,
      "id": "982f4c5f",
      "metadata": {
        "id": "982f4c5f"
      },
      "outputs": [],
      "source": [
        "def is_sorted(my_list):\n",
        "    for i in range(1, len(my_list)):\n",
        "        if my_list[i-1] > my_list[i]:\n",
        "            return False\n",
        "    return True\n",
        "\n",
        "def bubble_sort(my_list):\n",
        "    while not is_sorted(my_list):\n",
        "        for i in range(1, len(my_list)):\n",
        "            if my_list[i-1] > my_list[i]:\n",
        "              l = my_list[i-1]\n",
        "              my_list[i-1] = my_list[i]\n",
        "              my_list[i] = l\n",
        "    return my_list\n",
        "\n",
        "my_list = [1, -3, 3, 2]\n",
        "# Should return [-3, 1, 2, 3]\n",
        "bubble_sort(my_list)"
      ]
    },
    {
      "cell_type": "markdown",
      "id": "0fbf8c13",
      "metadata": {
        "id": "0fbf8c13"
      },
      "source": [
        "## Going further"
      ]
    },
    {
      "cell_type": "markdown",
      "id": "d78b3617",
      "metadata": {
        "id": "d78b3617"
      },
      "source": [
        "Clearly, it is impossible to cover all the language features in this short introduction. To go further, we recommend the following resources:"
      ]
    },
    {
      "cell_type": "markdown",
      "id": "e916da3f",
      "metadata": {
        "id": "e916da3f"
      },
      "source": [
        "\n",
        "\n",
        "*   List of Python [tutorials](https://wiki.python.org/moin/BeginnersGuide/Programmers)\n",
        "* Four-hour [course](https://www.youtube.com/watch?v=rfscVS0vtbw) on Youtube\n",
        "\n"
      ]
    },
    {
      "cell_type": "markdown",
      "id": "53780550",
      "metadata": {
        "id": "53780550"
      },
      "source": [
        "# NumPy"
      ]
    },
    {
      "cell_type": "markdown",
      "id": "4289c187",
      "metadata": {
        "id": "4289c187"
      },
      "source": [
        "NumPy is a popular library for storing arrays of numbers and performing computations on them. Not only does this enable to write often more succinct code, this also makes the code faster, since most NumPy routines are implemented in C for speed."
      ]
    },
    {
      "cell_type": "markdown",
      "id": "5631db70",
      "metadata": {
        "id": "5631db70"
      },
      "source": [
        "To use NumPy in your program, you need to import it as follows"
      ]
    },
    {
      "cell_type": "code",
      "execution_count": null,
      "id": "ea36d85d",
      "metadata": {
        "id": "ea36d85d"
      },
      "outputs": [],
      "source": [
        "import numpy as np"
      ]
    },
    {
      "cell_type": "markdown",
      "id": "eb1dd640",
      "metadata": {
        "id": "eb1dd640"
      },
      "source": [
        "## Array creation\n",
        "\n"
      ]
    },
    {
      "cell_type": "markdown",
      "id": "cadbce84",
      "metadata": {
        "id": "cadbce84"
      },
      "source": [
        "NumPy arrays can be created from Python lists"
      ]
    },
    {
      "cell_type": "code",
      "execution_count": null,
      "id": "b11fc646",
      "metadata": {
        "id": "b11fc646"
      },
      "outputs": [],
      "source": [
        "my_array = np.array([1, 2, 3])\n",
        "my_array"
      ]
    },
    {
      "cell_type": "markdown",
      "id": "292e3617",
      "metadata": {
        "id": "292e3617"
      },
      "source": [
        "NumPy supports array of arbitrary dimension. For example, we can create two-dimensional arrays (e.g. to store a matrix) as follows"
      ]
    },
    {
      "cell_type": "code",
      "execution_count": null,
      "id": "beb2a80d",
      "metadata": {
        "id": "beb2a80d"
      },
      "outputs": [],
      "source": [
        "my_2d_array = np.array([[1, 2, 3], [4, 5, 6]])\n",
        "my_2d_array"
      ]
    },
    {
      "cell_type": "markdown",
      "id": "bf6d0965",
      "metadata": {
        "id": "bf6d0965"
      },
      "source": [
        "We can access individual elements of a 2d-array using two indices"
      ]
    },
    {
      "cell_type": "code",
      "execution_count": null,
      "id": "5e6b53a2",
      "metadata": {
        "id": "5e6b53a2"
      },
      "outputs": [],
      "source": [
        "my_2d_array[1, 2]"
      ]
    },
    {
      "cell_type": "markdown",
      "id": "97a97580",
      "metadata": {
        "id": "97a97580"
      },
      "source": [
        "We can also access rows"
      ]
    },
    {
      "cell_type": "code",
      "execution_count": null,
      "id": "af67b8a0",
      "metadata": {
        "id": "af67b8a0"
      },
      "outputs": [],
      "source": [
        "my_2d_array[1]"
      ]
    },
    {
      "cell_type": "markdown",
      "id": "7cdb57be",
      "metadata": {
        "id": "7cdb57be"
      },
      "source": [
        "and columns"
      ]
    },
    {
      "cell_type": "code",
      "execution_count": null,
      "id": "04671070",
      "metadata": {
        "id": "04671070"
      },
      "outputs": [],
      "source": [
        "my_2d_array[:, 2]"
      ]
    },
    {
      "cell_type": "markdown",
      "id": "78190451",
      "metadata": {
        "id": "78190451"
      },
      "source": [
        "Arrays have a `shape` attribute"
      ]
    },
    {
      "cell_type": "code",
      "execution_count": null,
      "id": "e67565d4",
      "metadata": {
        "id": "e67565d4"
      },
      "outputs": [],
      "source": [
        "print(my_array.shape)\n",
        "print(my_2d_array.shape)"
      ]
    },
    {
      "cell_type": "markdown",
      "id": "29907084",
      "metadata": {
        "id": "29907084"
      },
      "source": [
        "Contrary to Python lists, NumPy arrays must have a type and all elements of the array must have the same type."
      ]
    },
    {
      "cell_type": "code",
      "execution_count": null,
      "id": "c374bf99",
      "metadata": {
        "id": "c374bf99"
      },
      "outputs": [],
      "source": [
        "my_array.dtype"
      ]
    },
    {
      "cell_type": "markdown",
      "id": "f5e82735",
      "metadata": {
        "id": "f5e82735"
      },
      "source": [
        "The main types are `int32` (32-bit integers), `int64` (64-bit integers), `float32` (32-bit real values) and `float64` (64-bit real values)."
      ]
    },
    {
      "cell_type": "markdown",
      "id": "71725601",
      "metadata": {
        "id": "71725601"
      },
      "source": [
        "The `dtype` can be specified when creating the array"
      ]
    },
    {
      "cell_type": "code",
      "execution_count": null,
      "id": "1050b0bf",
      "metadata": {
        "id": "1050b0bf"
      },
      "outputs": [],
      "source": [
        "my_array = np.array([1, 2, 3], dtype=np.float64)\n",
        "my_array.dtype"
      ]
    },
    {
      "cell_type": "markdown",
      "id": "2d936921",
      "metadata": {
        "id": "2d936921"
      },
      "source": [
        "We can create arrays of all zeros using"
      ]
    },
    {
      "cell_type": "code",
      "execution_count": null,
      "id": "2caf31a8",
      "metadata": {
        "id": "2caf31a8"
      },
      "outputs": [],
      "source": [
        "zero_array = np.zeros((2, 3))\n",
        "zero_array"
      ]
    },
    {
      "cell_type": "markdown",
      "id": "dceb362e",
      "metadata": {
        "id": "dceb362e"
      },
      "source": [
        "and similarly for all ones using `ones` instead of `zeros`."
      ]
    },
    {
      "cell_type": "markdown",
      "id": "87adc7e6",
      "metadata": {
        "id": "87adc7e6"
      },
      "source": [
        "We can create a range of values using"
      ]
    },
    {
      "cell_type": "code",
      "execution_count": null,
      "id": "b37439db",
      "metadata": {
        "id": "b37439db"
      },
      "outputs": [],
      "source": [
        "np.arange(5)"
      ]
    },
    {
      "cell_type": "markdown",
      "id": "a00bbe24",
      "metadata": {
        "id": "a00bbe24"
      },
      "source": [
        "or specifying the starting point"
      ]
    },
    {
      "cell_type": "code",
      "execution_count": null,
      "id": "94a34065",
      "metadata": {
        "id": "94a34065"
      },
      "outputs": [],
      "source": [
        "np.arange(3, 5)"
      ]
    },
    {
      "cell_type": "markdown",
      "id": "21c386ce",
      "metadata": {
        "id": "21c386ce"
      },
      "source": [
        "Another useful routine is `linspace` for creating linearly spaced values in an interval. For instance, to create 10 values in `[0, 1]`, we can use"
      ]
    },
    {
      "cell_type": "code",
      "execution_count": null,
      "id": "522ee793",
      "metadata": {
        "id": "522ee793"
      },
      "outputs": [],
      "source": [
        "np.linspace(0, 1, 10)"
      ]
    },
    {
      "cell_type": "markdown",
      "id": "331e2db3",
      "metadata": {
        "id": "331e2db3"
      },
      "source": [
        "Another important operation is `reshape`, for changing the shape of an array"
      ]
    },
    {
      "cell_type": "code",
      "execution_count": null,
      "id": "d983aa4b",
      "metadata": {
        "id": "d983aa4b"
      },
      "outputs": [],
      "source": [
        "my_array = np.array([1, 2, 3, 4, 5, 6])\n",
        "my_array.reshape(3, 2)"
      ]
    },
    {
      "cell_type": "markdown",
      "id": "582d8d47",
      "metadata": {
        "id": "582d8d47"
      },
      "source": [
        "Play with these operations and make sure you understand them well."
      ]
    },
    {
      "cell_type": "markdown",
      "id": "fd9ba547",
      "metadata": {
        "id": "fd9ba547"
      },
      "source": [
        "## Basic operations"
      ]
    },
    {
      "cell_type": "markdown",
      "id": "7e1837f9",
      "metadata": {
        "id": "7e1837f9"
      },
      "source": [
        "In NumPy, we express computations directly over arrays. This makes the code much more succinct."
      ]
    },
    {
      "cell_type": "markdown",
      "id": "858c13c7",
      "metadata": {
        "id": "858c13c7"
      },
      "source": [
        "Arithmetic operations can be performed directly over arrays. For instance, assuming two arrays have a compatible shape, we can add them as follows"
      ]
    },
    {
      "cell_type": "code",
      "execution_count": null,
      "id": "03e9e954",
      "metadata": {
        "id": "03e9e954"
      },
      "outputs": [],
      "source": [
        "array_a = np.array([1, 2, 3])\n",
        "array_b = np.array([4, 5, 6])\n",
        "array_a + array_b"
      ]
    },
    {
      "cell_type": "markdown",
      "id": "b978eee2",
      "metadata": {
        "id": "b978eee2"
      },
      "source": [
        "Compare this with the equivalent computation using a for loop"
      ]
    },
    {
      "cell_type": "code",
      "execution_count": null,
      "id": "030460ca",
      "metadata": {
        "id": "030460ca"
      },
      "outputs": [],
      "source": [
        "array_out = np.zeros_like(array_a)\n",
        "for i in range(len(array_a)):\n",
        "  array_out[i] = array_a[i] + array_b[i]\n",
        "array_out"
      ]
    },
    {
      "cell_type": "markdown",
      "id": "d5dc6c44",
      "metadata": {
        "id": "d5dc6c44"
      },
      "source": [
        "Not only this code is more verbose, it will also run much more slowly."
      ]
    },
    {
      "cell_type": "markdown",
      "id": "68bdcd5d",
      "metadata": {
        "id": "68bdcd5d"
      },
      "source": [
        "In NumPy, functions that operates on arrays in an element-wise fashion are called [universal functions](https://numpy.org/doc/stable/reference/ufuncs.html). For instance, this is the case of `np.sin`"
      ]
    },
    {
      "cell_type": "code",
      "execution_count": null,
      "id": "b3b61bd5",
      "metadata": {
        "id": "b3b61bd5"
      },
      "outputs": [],
      "source": [
        "np.sin(array_a)"
      ]
    },
    {
      "cell_type": "markdown",
      "id": "1eade676",
      "metadata": {
        "id": "1eade676"
      },
      "source": [
        "Vector inner product can be performed using `np.dot`"
      ]
    },
    {
      "cell_type": "code",
      "execution_count": null,
      "id": "f59a9a9e",
      "metadata": {
        "id": "f59a9a9e"
      },
      "outputs": [],
      "source": [
        "np.dot(array_a, array_b)"
      ]
    },
    {
      "cell_type": "markdown",
      "id": "b90e5348",
      "metadata": {
        "id": "b90e5348"
      },
      "source": [
        "When the two arguments to `np.dot` are both 2d arrays, `np.dot` becomes matrix multiplication"
      ]
    },
    {
      "cell_type": "code",
      "execution_count": null,
      "id": "38453a19",
      "metadata": {
        "id": "38453a19"
      },
      "outputs": [],
      "source": [
        "array_A = np.random.rand(5, 3)\n",
        "array_B = np.random.randn(3, 4)\n",
        "np.dot(array_A, array_B)"
      ]
    },
    {
      "cell_type": "markdown",
      "id": "3df56f07",
      "metadata": {
        "id": "3df56f07"
      },
      "source": [
        "Matrix transpose can be done using `.transpose()` or `.T` for short"
      ]
    },
    {
      "cell_type": "code",
      "execution_count": null,
      "id": "c679fa99",
      "metadata": {
        "id": "c679fa99"
      },
      "outputs": [],
      "source": [
        "array_A.T"
      ]
    },
    {
      "cell_type": "markdown",
      "id": "d3cf2f9e",
      "metadata": {
        "id": "d3cf2f9e"
      },
      "source": [
        "## Slicing and masking"
      ]
    },
    {
      "cell_type": "markdown",
      "id": "613f3c14",
      "metadata": {
        "id": "613f3c14"
      },
      "source": [
        "Like Python lists, NumPy arrays support slicing"
      ]
    },
    {
      "cell_type": "code",
      "execution_count": null,
      "id": "3abfdbff",
      "metadata": {
        "id": "3abfdbff"
      },
      "outputs": [],
      "source": [
        "np.arange(10)[5:]"
      ]
    },
    {
      "cell_type": "markdown",
      "id": "ea83aa70",
      "metadata": {
        "id": "ea83aa70"
      },
      "source": [
        "We can also select only certain elements from the array"
      ]
    },
    {
      "cell_type": "code",
      "execution_count": null,
      "id": "5fb12a21",
      "metadata": {
        "id": "5fb12a21"
      },
      "outputs": [],
      "source": [
        "x = np.arange(10)\n",
        "mask = x >= 5\n",
        "x[mask]"
      ]
    },
    {
      "cell_type": "markdown",
      "id": "9dcc4e1e",
      "metadata": {
        "id": "9dcc4e1e"
      },
      "source": [
        "## Exercises"
      ]
    },
    {
      "cell_type": "markdown",
      "id": "c5de86d3",
      "metadata": {
        "id": "c5de86d3"
      },
      "source": [
        "**Exercise 1.** Create a 3d array of shape (2, 2, 2), containing 8 values. Access individual elements and slices."
      ]
    },
    {
      "cell_type": "code",
      "execution_count": null,
      "id": "11dc22b4",
      "metadata": {
        "id": "11dc22b4"
      },
      "outputs": [],
      "source": [
        "A = np.random.rand(2, 2, 2)\n",
        "print(A)\n",
        "print(A[1, 1])\n",
        "print(A[1, :, -1])"
      ]
    },
    {
      "cell_type": "markdown",
      "id": "703af636",
      "metadata": {
        "id": "703af636"
      },
      "source": [
        "**Exercise 2.** Rewrite the relu function (see Python section) using [np.maximum](https://numpy.org/doc/stable/reference/generated/numpy.maximum.html). Check that it works on both a single value and on an array of values."
      ]
    },
    {
      "cell_type": "code",
      "execution_count": null,
      "id": "e3882c3e",
      "metadata": {
        "id": "e3882c3e"
      },
      "outputs": [],
      "source": [
        "def relu_numpy(x):\n",
        "  return np.maximum(x, 0)\n",
        "\n",
        "print(relu_numpy(np.array([1, -3, 2.5])))\n",
        "print(relu_numpy(-4))"
      ]
    },
    {
      "cell_type": "markdown",
      "id": "81be4ccc",
      "metadata": {
        "id": "81be4ccc"
      },
      "source": [
        "**Exercise 3.** Rewrite the Euclidean norm of a vector (1d array) using NumPy (without for loop)"
      ]
    },
    {
      "cell_type": "code",
      "execution_count": null,
      "id": "85b4001b",
      "metadata": {
        "id": "85b4001b"
      },
      "outputs": [],
      "source": [
        "def euclidean_norm_numpy(x):\n",
        "  return np.sqrt(np.sum(x**2))\n",
        "\n",
        "my_vector = np.array([0.5, -1.2, 3.3, 4.5])\n",
        "euclidean_norm_numpy(my_vector)"
      ]
    },
    {
      "cell_type": "markdown",
      "id": "c412df44",
      "metadata": {
        "id": "c412df44"
      },
      "source": [
        "**Exercise 4.** Write a function that computes the Euclidean norms of a matrix (2d array) in a row-wise fashion. Hint: use the `axis` argument of [np.sum](https://numpy.org/doc/stable/reference/generated/numpy.sum.html)."
      ]
    },
    {
      "cell_type": "code",
      "execution_count": null,
      "id": "2a588f96",
      "metadata": {
        "id": "2a588f96"
      },
      "outputs": [],
      "source": [
        "def euclidean_norm_2d(X):\n",
        "  return np.sqrt(np.sum(X**2, axis=1))\n",
        "\n",
        "my_matrix = np.array([[0.5, -1.2, 4.5],\n",
        "                      [-3.2, 1.9, 2.7]])\n",
        "# Should return an array of size 2.\n",
        "euclidean_norm_2d(my_matrix)"
      ]
    },
    {
      "cell_type": "markdown",
      "id": "cd4bb3ee",
      "metadata": {
        "id": "cd4bb3ee"
      },
      "source": [
        "**Exercise 5.** Compute the mean value of the features in the [iris dataset](https://scikit-learn.org/stable/modules/generated/sklearn.datasets.load_iris.html). Hint: use the `axis` argument on [np.mean](https://numpy.org/doc/stable/reference/generated/numpy.mean.html)."
      ]
    },
    {
      "cell_type": "code",
      "execution_count": null,
      "id": "97c30412",
      "metadata": {
        "id": "97c30412",
        "lines_to_next_cell": 2
      },
      "outputs": [],
      "source": [
        "from sklearn.datasets import load_iris\n",
        "X, y = load_iris(return_X_y=True)\n",
        "\n",
        "# Result should be an array of size 4.\n",
        "np.mean(X, axis=0)"
      ]
    },
    {
      "cell_type": "markdown",
      "id": "ac9d394a",
      "metadata": {
        "id": "ac9d394a"
      },
      "source": [
        "## Going further"
      ]
    },
    {
      "cell_type": "markdown",
      "id": "118f5578",
      "metadata": {
        "id": "118f5578"
      },
      "source": [
        "* NumPy [reference](https://numpy.org/doc/stable/reference/)\n",
        "* SciPy [lectures](https://scipy-lectures.org/)\n",
        "*   One-hour [tutorial](https://www.youtube.com/watch?v=QUT1VHiLmmI) on Youtube\n",
        "\n"
      ]
    },
    {
      "cell_type": "markdown",
      "id": "6965af11",
      "metadata": {
        "id": "6965af11"
      },
      "source": [
        "# Matplotlib"
      ]
    },
    {
      "cell_type": "markdown",
      "id": "db22c103",
      "metadata": {
        "id": "db22c103"
      },
      "source": [
        "## Basic plots"
      ]
    },
    {
      "cell_type": "markdown",
      "id": "cf3aee9a",
      "metadata": {
        "id": "cf3aee9a"
      },
      "source": [
        "Matplotlib is a plotting library for Python."
      ]
    },
    {
      "cell_type": "markdown",
      "id": "7567e9ae",
      "metadata": {
        "id": "7567e9ae"
      },
      "source": [
        "We start with a rudimentary plotting example."
      ]
    },
    {
      "cell_type": "code",
      "execution_count": null,
      "id": "c4919041",
      "metadata": {
        "id": "c4919041"
      },
      "outputs": [],
      "source": [
        "from matplotlib import pyplot as plt\n",
        "\n",
        "x_values = np.linspace(-3, 3, 100)\n",
        "\n",
        "plt.figure()\n",
        "plt.plot(x_values, np.sin(x_values), label=\"Sinusoid\")\n",
        "plt.xlabel(\"x\")\n",
        "plt.ylabel(\"sin(x)\")\n",
        "plt.title(\"Matplotlib example\")\n",
        "plt.legend(loc=\"upper left\")\n",
        "plt.show()"
      ]
    },
    {
      "cell_type": "markdown",
      "id": "a07904ed",
      "metadata": {
        "id": "a07904ed"
      },
      "source": [
        "We continue with a rudimentary scatter plot example. This example displays samples from the [iris dataset](https://scikit-learn.org/stable/modules/generated/sklearn.datasets.load_iris.html) using the first two features. Colors indicate class membership (there are 3 classes)."
      ]
    },
    {
      "cell_type": "code",
      "execution_count": null,
      "id": "1aacc150",
      "metadata": {
        "id": "1aacc150"
      },
      "outputs": [],
      "source": [
        "from sklearn.datasets import load_iris\n",
        "X, y = load_iris(return_X_y=True)\n",
        "\n",
        "X_class0 = X[y == 0]\n",
        "X_class1 = X[y == 1]\n",
        "X_class2 = X[y == 2]\n",
        "\n",
        "plt.figure()\n",
        "plt.scatter(X_class0[:, 0], X_class0[:, 1], label=\"Class 0\", color=\"C0\")\n",
        "plt.scatter(X_class1[:, 0], X_class1[:, 1], label=\"Class 1\", color=\"C1\")\n",
        "plt.scatter(X_class2[:, 0], X_class2[:, 1], label=\"Class 2\", color=\"C2\")\n",
        "plt.show()"
      ]
    },
    {
      "cell_type": "markdown",
      "id": "f3fa859f",
      "metadata": {
        "id": "f3fa859f"
      },
      "source": [
        "We see that samples belonging to class 0 can be linearly separated from the rest using only the first two features."
      ]
    },
    {
      "cell_type": "markdown",
      "id": "31906ab4",
      "metadata": {
        "id": "31906ab4"
      },
      "source": [
        "## Exercises\n",
        "\n"
      ]
    },
    {
      "cell_type": "markdown",
      "id": "ac7cc4a5",
      "metadata": {
        "id": "ac7cc4a5"
      },
      "source": [
        "**Exercise 1.** Plot the relu and the [softplus](https://en.wikipedia.org/wiki/Rectifier_(neural_networks)#Softplus) functions on the same graph."
      ]
    },
    {
      "cell_type": "code",
      "execution_count": null,
      "id": "b1b6958e",
      "metadata": {
        "id": "b1b6958e"
      },
      "outputs": [],
      "source": [
        "x = np.linspace(-3, 3, 100)\n",
        "plt.figure()\n",
        "plt.plot(x, relu_numpy(x))\n",
        "plt.plot(x, np.log(1 + np.exp(x)))\n",
        "plt.show()"
      ]
    },
    {
      "cell_type": "markdown",
      "id": "a602cd7d",
      "metadata": {
        "id": "a602cd7d"
      },
      "source": [
        "What is the main difference between the two functions?"
      ]
    },
    {
      "cell_type": "code",
      "execution_count": null,
      "id": "cfe16dc8",
      "metadata": {
        "id": "cfe16dc8"
      },
      "outputs": [],
      "source": [
        "# Answer: One has a smooth and non-constant derivative, not the other"
      ]
    },
    {
      "cell_type": "markdown",
      "id": "c235b5c3",
      "metadata": {
        "id": "c235b5c3"
      },
      "source": [
        "**Exercise 2.** Repeat the same scatter plot but using the [digits dataset](https://scikit-learn.org/stable/modules/generated/sklearn.datasets.load_digits.html) instead."
      ]
    },
    {
      "cell_type": "code",
      "execution_count": null,
      "id": "90c77a1b",
      "metadata": {
        "id": "90c77a1b"
      },
      "outputs": [],
      "source": [
        "from sklearn.datasets import load_digits\n",
        "X, y = load_digits(return_X_y=True)\n",
        "\n",
        "plt.figure()\n",
        "for cl in np.unique(y):\n",
        "    plt.scatter(X[y==cl, 34], X[y==cl, 35], c=\"C\" + str(cl))\n",
        "plt.show()"
      ]
    },
    {
      "cell_type": "markdown",
      "id": "655d1a3f",
      "metadata": {
        "id": "655d1a3f"
      },
      "source": [
        "Are pixel values good features for classifying samples?"
      ]
    },
    {
      "cell_type": "code",
      "execution_count": null,
      "id": "5c15e4f5",
      "metadata": {
        "id": "5c15e4f5"
      },
      "outputs": [],
      "source": [
        "# Answer: Based on the value of these 2 pixels, it seems hard to classify anything ..."
      ]
    },
    {
      "cell_type": "markdown",
      "id": "2ed09d02",
      "metadata": {
        "id": "2ed09d02",
        "lines_to_next_cell": 2
      },
      "source": [
        "## Going further\n",
        "\n",
        "*  Official [tutorial](https://matplotlib.org/tutorials/introductory/pyplot.html)\n",
        "* [Tutorial](https://www.youtube.com/watch?v=qErBw-R2Ybk) on Youtube"
      ]
    }
  ],
  "metadata": {
    "kernelspec": {
      "display_name": "Python 3",
      "name": "python3"
    },
    "colab": {
      "provenance": []
    }
  },
  "nbformat": 4,
  "nbformat_minor": 5
}