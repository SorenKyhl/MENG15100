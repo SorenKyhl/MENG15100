{
  "cells": [
    {
      "cell_type": "markdown",
      "source": [
        "# Acknowledgements"
      ],
      "metadata": {
        "id": "zbOcojMuQrYw"
      },
      "id": "zbOcojMuQrYw"
    },
    {
      "cell_type": "markdown",
      "id": "b4040901",
      "metadata": {
        "id": "b4040901"
      },
      "source": [
        "Notebook developed by Andrew Ferguson for the UChicago course MENG15100: Machine Learning and Artificial Intelligence for Molecular Discovery and Engineering."
      ]
    },
    {
      "cell_type": "markdown",
      "metadata": {
        "id": "8b1b7562"
      },
      "source": [
        "## Data"
      ],
      "id": "8b1b7562"
    },
    {
      "cell_type": "markdown",
      "metadata": {
        "id": "58a13340"
      },
      "source": [
        "Let's start by importing some training data from a csv file using pandas.\n",
        "\n",
        "We will start working with a simple data set with one input variable $x$ and one output variable $y$."
      ],
      "id": "58a13340"
    },
    {
      "cell_type": "code",
      "source": [
        "import pandas as pd\n",
        "\n",
        "# Replace with the actual raw GitHub URL of your file\n",
        "github_raw_url = 'https://raw.githubusercontent.com/andrewlferguson/MENG15100/main/notebooks/M3/linreg.csv'\n",
        "\n",
        "# Load the data into a Pandas DataFrame\n",
        "df = pd.read_csv(github_raw_url)\n",
        "\n",
        "# Show the data\n",
        "print(df)"
      ],
      "metadata": {
        "id": "SWxtHUlIU4hh",
        "colab": {
          "base_uri": "https://localhost:8080/"
        },
        "outputId": "03d157a8-744e-48ed-daff-ee39021fbee6"
      },
      "id": "SWxtHUlIU4hh",
      "execution_count": 13,
      "outputs": [
        {
          "output_type": "stream",
          "name": "stdout",
          "text": [
            "           x          y\n",
            "0   0.526316   2.039261\n",
            "1   1.052632   4.926956\n",
            "2   1.578947   7.993428\n",
            "3   2.105263   5.794851\n",
            "4   2.631579   7.110673\n",
            "5   3.157895  12.053162\n",
            "6   3.684211  11.745396\n",
            "7   4.210526  10.587367\n",
            "8   4.736842  13.927225\n",
            "9   5.263158  13.231059\n",
            "10  5.789474  14.542225\n",
            "11  6.315789  17.273398\n",
            "12  6.842105  14.278703\n",
            "13  7.368421  15.971217\n",
            "14  7.894737  19.612267\n",
            "15  8.421053  20.026969\n",
            "16  8.947368  23.996916\n",
            "17  9.473684  22.868162\n"
          ]
        }
      ]
    },
    {
      "cell_type": "markdown",
      "source": [
        "It is our goal to fit a linear regression model to these data of the form $y = \\phi_0 + \\phi_1 x$.\n",
        "\n",
        "Recall that $\\{\\phi_0, \\phi_1\\}$ are the trainable parameters of our model, $x$ is the input data, and $y$ is the output data.\n",
        "\n",
        "In this simple example, mainly to make plotting easy, the $x$ data are just one dimensional (i.e., there is a single $x$ feature associated with each of the 18 instances or in the training data)."
      ],
      "metadata": {
        "id": "cnE3cTU5B8WB"
      },
      "id": "cnE3cTU5B8WB"
    },
    {
      "cell_type": "markdown",
      "source": [
        "# Human Learning"
      ],
      "metadata": {
        "id": "xRTrNKnXB21S"
      },
      "id": "xRTrNKnXB21S"
    },
    {
      "cell_type": "markdown",
      "source": [
        "Now let's do some graphical exploration and \"human learning\" where we will guess the optimal values of the linear regression fitting parameters $\\phi_0$ (intercept) and $\\phi_1$ (slope).\n",
        "\n",
        "We will use matplotlib to make an interactive plot."
      ],
      "metadata": {
        "id": "cHhbYs4Z_kD3"
      },
      "id": "cHhbYs4Z_kD3"
    },
    {
      "cell_type": "code",
      "source": [
        "import pandas as pd\n",
        "import matplotlib.pyplot as plt\n",
        "import numpy as np\n",
        "from ipywidgets import interact, FloatSlider\n",
        "\n",
        "# Load CSV data\n",
        "x = df['x'].values\n",
        "y = df['y'].values\n",
        "\n",
        "# Define the interactive plot function\n",
        "def plot_line(slope=2.0, intercept=1.0):\n",
        "    y_line = slope * x + intercept\n",
        "\n",
        "    plt.figure(figsize=(8, 5))\n",
        "    plt.scatter(x, y, color='blue', label='Data')\n",
        "    plt.plot(x, y_line, color='red', label=f'y = {slope:.2f}x + {intercept:.2f}')\n",
        "    plt.xlabel('x')\n",
        "    plt.ylabel('y')\n",
        "    plt.title('Interactive Linear Fit')\n",
        "    plt.grid(True)\n",
        "    plt.legend()\n",
        "    plt.show()\n",
        "\n",
        "# Sliders for slope and intercept\n",
        "interact(\n",
        "    plot_line,\n",
        "    slope=FloatSlider(value=2.0, min=-10, max=10, step=0.2, description='Slope'),\n",
        "    intercept=FloatSlider(value=1.0, min=-10, max=10, step=0.2, description='Intercept')\n",
        ")\n"
      ],
      "metadata": {
        "colab": {
          "base_uri": "https://localhost:8080/",
          "height": 656,
          "referenced_widgets": [
            "f2c26e820d4344ed9e843ee24733e8e8",
            "ae225c7affeb4b78a7c86e21113cdb10",
            "d23ca781e3f24590a8f886a65bb8c080",
            "c8f66235b4844f179c792a867be7ec8d",
            "5e4130f4e78f4131b80fefd7020e03e8",
            "f0423784d39b43f9ac04c5564a58f70c",
            "ad6ab01a9c40443396a98ce75adf6360",
            "8bb96bfccfd14d6c8c7a2109a8cc95ac",
            "a6ca41b3c4f2437da9a07c78c1b384eb",
            "98edae458b534ab8b58aa3de9816a586"
          ]
        },
        "id": "nMN1a0fb_hJe",
        "outputId": "8af54a5f-be83-4cc5-e775-04f6815bb7a6"
      },
      "id": "nMN1a0fb_hJe",
      "execution_count": 23,
      "outputs": [
        {
          "output_type": "display_data",
          "data": {
            "text/plain": [
              "interactive(children=(FloatSlider(value=2.0, description='Slope', max=10.0, min=-10.0, step=0.2), FloatSlider(…"
            ],
            "application/vnd.jupyter.widget-view+json": {
              "version_major": 2,
              "version_minor": 0,
              "model_id": "f2c26e820d4344ed9e843ee24733e8e8"
            }
          },
          "metadata": {}
        },
        {
          "output_type": "execute_result",
          "data": {
            "text/plain": [
              "<function __main__.plot_line(slope=2.0, intercept=1.0)>"
            ],
            "text/html": [
              "<div style=\"max-width:800px; border: 1px solid var(--colab-border-color);\"><style>\n",
              "      pre.function-repr-contents {\n",
              "        overflow-x: auto;\n",
              "        padding: 8px 12px;\n",
              "        max-height: 500px;\n",
              "      }\n",
              "\n",
              "      pre.function-repr-contents.function-repr-contents-collapsed {\n",
              "        cursor: pointer;\n",
              "        max-height: 100px;\n",
              "      }\n",
              "    </style>\n",
              "    <pre style=\"white-space: initial; background:\n",
              "         var(--colab-secondary-surface-color); padding: 8px 12px;\n",
              "         border-bottom: 1px solid var(--colab-border-color);\"><b>plot_line</b><br/>def plot_line(slope=2.0, intercept=1.0)</pre><pre class=\"function-repr-contents function-repr-contents-collapsed\" style=\"\"><a class=\"filepath\" style=\"display:none\" href=\"#\">/tmp/ipython-input-4215990543.py</a>&lt;no docstring&gt;</pre></div>"
            ]
          },
          "metadata": {},
          "execution_count": 23
        }
      ]
    },
    {
      "cell_type": "markdown",
      "source": [
        "What appears to be a good choice for $\\phi_0$ (intercept) and $\\phi_1$ (slope)?\n",
        "\n",
        "Enter them here:"
      ],
      "metadata": {
        "id": "296ip4m1CuH5"
      },
      "id": "296ip4m1CuH5"
    },
    {
      "cell_type": "code",
      "source": [
        "phi_0_HUMAN = 0.0\n",
        "phi_1_HUMAN = 0.0"
      ],
      "metadata": {
        "id": "DrHKcvWhC4fl"
      },
      "id": "DrHKcvWhC4fl",
      "execution_count": 27,
      "outputs": []
    },
    {
      "cell_type": "markdown",
      "source": [
        "# Machine Learning"
      ],
      "metadata": {
        "id": "BwlO_6DRCrLk"
      },
      "id": "BwlO_6DRCrLk"
    },
    {
      "cell_type": "code",
      "source": [],
      "metadata": {
        "id": "R0XoScJQ_5AH"
      },
      "id": "R0XoScJQ_5AH",
      "execution_count": null,
      "outputs": []
    }
  ],
  "metadata": {
    "kernelspec": {
      "display_name": "Python 3",
      "name": "python3"
    },
    "colab": {
      "provenance": []
    },
    "widgets": {
      "application/vnd.jupyter.widget-state+json": {
        "f2c26e820d4344ed9e843ee24733e8e8": {
          "model_module": "@jupyter-widgets/controls",
          "model_name": "VBoxModel",
          "model_module_version": "1.5.0",
          "state": {
            "_dom_classes": [
              "widget-interact"
            ],
            "_model_module": "@jupyter-widgets/controls",
            "_model_module_version": "1.5.0",
            "_model_name": "VBoxModel",
            "_view_count": null,
            "_view_module": "@jupyter-widgets/controls",
            "_view_module_version": "1.5.0",
            "_view_name": "VBoxView",
            "box_style": "",
            "children": [
              "IPY_MODEL_ae225c7affeb4b78a7c86e21113cdb10",
              "IPY_MODEL_d23ca781e3f24590a8f886a65bb8c080",
              "IPY_MODEL_c8f66235b4844f179c792a867be7ec8d"
            ],
            "layout": "IPY_MODEL_5e4130f4e78f4131b80fefd7020e03e8"
          }
        },
        "ae225c7affeb4b78a7c86e21113cdb10": {
          "model_module": "@jupyter-widgets/controls",
          "model_name": "FloatSliderModel",
          "model_module_version": "1.5.0",
          "state": {
            "_dom_classes": [],
            "_model_module": "@jupyter-widgets/controls",
            "_model_module_version": "1.5.0",
            "_model_name": "FloatSliderModel",
            "_view_count": null,
            "_view_module": "@jupyter-widgets/controls",
            "_view_module_version": "1.5.0",
            "_view_name": "FloatSliderView",
            "continuous_update": true,
            "description": "Slope",
            "description_tooltip": null,
            "disabled": false,
            "layout": "IPY_MODEL_f0423784d39b43f9ac04c5564a58f70c",
            "max": 10,
            "min": -10,
            "orientation": "horizontal",
            "readout": true,
            "readout_format": ".2f",
            "step": 0.2,
            "style": "IPY_MODEL_ad6ab01a9c40443396a98ce75adf6360",
            "value": 2
          }
        },
        "d23ca781e3f24590a8f886a65bb8c080": {
          "model_module": "@jupyter-widgets/controls",
          "model_name": "FloatSliderModel",
          "model_module_version": "1.5.0",
          "state": {
            "_dom_classes": [],
            "_model_module": "@jupyter-widgets/controls",
            "_model_module_version": "1.5.0",
            "_model_name": "FloatSliderModel",
            "_view_count": null,
            "_view_module": "@jupyter-widgets/controls",
            "_view_module_version": "1.5.0",
            "_view_name": "FloatSliderView",
            "continuous_update": true,
            "description": "Intercept",
            "description_tooltip": null,
            "disabled": false,
            "layout": "IPY_MODEL_8bb96bfccfd14d6c8c7a2109a8cc95ac",
            "max": 10,
            "min": -10,
            "orientation": "horizontal",
            "readout": true,
            "readout_format": ".2f",
            "step": 0.2,
            "style": "IPY_MODEL_a6ca41b3c4f2437da9a07c78c1b384eb",
            "value": 1
          }
        },
        "c8f66235b4844f179c792a867be7ec8d": {
          "model_module": "@jupyter-widgets/output",
          "model_name": "OutputModel",
          "model_module_version": "1.0.0",
          "state": {
            "_dom_classes": [],
            "_model_module": "@jupyter-widgets/output",
            "_model_module_version": "1.0.0",
            "_model_name": "OutputModel",
            "_view_count": null,
            "_view_module": "@jupyter-widgets/output",
            "_view_module_version": "1.0.0",
            "_view_name": "OutputView",
            "layout": "IPY_MODEL_98edae458b534ab8b58aa3de9816a586",
            "msg_id": "",
            "outputs": [
              {
                "output_type": "display_data",
                "data": {
                  "text/plain": "<Figure size 800x500 with 1 Axes>",
                  "image/png": "iVBORw0KGgoAAAANSUhEUgAAAq4AAAHWCAYAAAC2Zgs3AAAAOnRFWHRTb2Z0d2FyZQBNYXRwbG90bGliIHZlcnNpb24zLjEwLjAsIGh0dHBzOi8vbWF0cGxvdGxpYi5vcmcvlHJYcgAAAAlwSFlzAAAPYQAAD2EBqD+naQAAWw1JREFUeJzt3XmcjeX/x/HXmWPM2IasM8zIIERIKllGtshSNJbiW9lalMoQkuxEVJK+otVWWmjIV1RUtlJJZYtCFGOsYTDMHHPu3x/XbyZjxj5n7rO8n4+HR+7Puc85nzM3ec81131dDsuyLEREREREvFyQ3Q2IiIiIiFwKBVcRERER8QkKriIiIiLiExRcRURERMQnKLiKiIiIiE9QcBURERERn6DgKiIiIiI+QcFVRERERHyCgquIiIiI+AQFVxGRXNCtWzfKlStndxvZmjFjBg6Hg127dtndikeMGDECh8NhdxsikgMUXEXE49KD0U8//XTZz01OTmbEiBEsX7485xvLYXv37mXEiBH8+uuvdreSoVu3bhQsWNDuNjyqUaNGOByObH9t3bo12+eMHTuWBQsW5G6jInLV8tjdgIjIhSQnJzNy5EjABBRvtnfvXkaOHEm5cuW48cYbMz321ltv4Xa77WnsIh544AHuu+8+QkJC7G7likVGRjJu3Lgs9dKlSzNkyBAGDRqUqT527Fg6dOhAu3btcqlDEckJCq4iEpBOnjxJgQIFcu39goODc+29LpfT6cTpdNrdxnm53W5SU1MJDQ097zmFCxfm/vvvP+/jefLonzsRf6CpAiJii/QfYSckJNCuXTsKFixIiRIl6N+/P2lpaQDs2rWLEiVKADBy5MiMH/+OGDEi43W2bt1Khw4dKFq0KKGhodx8880sXLgw03ulT1VYsWIFjz/+OCVLliQyMhKAv/76i8cff5zKlSuTL18+ihUrRseOHbOd73n06FH69u1LuXLlCAkJITIykgcffJBDhw6xfPlybrnlFgC6d++e0euMGTMyPm/6HFeXy0XRokXp3r17lvdISkoiNDSU/v37Z9RSUlIYPnw4FStWJCQkhKioKAYOHEhKSsoVfe3Pld0c13LlytGmTRtWr17NrbfeSmhoKOXLl2fWrFnZfl3i4uKIiooiJCSEihUrMn78+CwjzC+99BL16tWjWLFi5MuXj9q1azNv3rwsr+dwOHjiiSd4//33qVatGiEhIXz++edX/PnOnePqcDg4efIkM2fOzLhO3bp1u+LXF5Hco29BRcQ2aWlptGjRgjp16vDSSy+xbNkyXn75ZSpUqMBjjz1GiRIlmDp1Ko899hj33HMPsbGxANSoUQOAzZs3U79+fcqUKcOgQYMoUKAAH3/8Me3ateOTTz7hnnvuyfR+jz/+OCVKlGDYsGGcPHkSgLVr1/Ldd99x3333ERkZya5du5g6dSqNGjXit99+I3/+/ACcOHGCmJgYtmzZQo8ePbjppps4dOgQCxcuZM+ePVx//fWMGjWKYcOG8cgjjxATEwNAvXr1snzu4OBg7rnnHuLj43njjTfImzdvxmMLFiwgJSWF++67DzCjjXfffTerV6/mkUce4frrr2fjxo288sor/PHHHx6dp7l9+3Y6dOhAz5496dq1K++++y7dunWjdu3aVKtWDTBTOW6//XYSEhJ49NFHKVu2LN999x3PPvssiYmJTJo0KeP1Xn31Ve6++27+85//kJqayocffkjHjh1ZtGgRrVu3zvTeX3/9NR9//DFPPPEExYsXv+iNbWlpaRw6dChTLTQ0NNv5vbNnz+ahhx7i1ltv5ZFHHgGgQoUKV/AVEpFcZ4mIeNj06dMtwFq7dm1GrWvXrhZgjRo1KtO5tWrVsmrXrp1xfPDgQQuwhg8fnuV1mzZtalWvXt06ffp0Rs3tdlv16tWzrrvuuizv36BBA+vMmTOZXiM5OTnL665Zs8YCrFmzZmXUhg0bZgFWfHx8lvPdbrdlWZa1du1aC7CmT5+e5ZyuXbta1157bcbxF198YQHW//73v0zntWrVyipfvnzG8ezZs62goCBr1apVmc6bNm2aBVjffvttlvc6930LFChwwXPSvz47d+7MqF177bUWYK1cuTKjduDAASskJMR6+umnM2qjR4+2ChQoYP3xxx+ZXnPQoEGW0+m0/v7774zauV/r1NRU64YbbrCaNGmSqQ5YQUFB1ubNmy/Yd7rbb7/dArL86tq1q2VZljV8+HDr3H/uChQokPG4iPgOTRUQEVv16tUr03FMTAx//vnnRZ/3zz//8PXXX9OpUyeOHz/OoUOHOHToEIcPH6ZFixZs27aNhISETM95+OGHs8zlzJcvX8bvXS4Xhw8fpmLFihQpUoSff/4547FPPvmEmjVrZhnFBa5oqaUmTZpQvHhxPvroo4zakSNHWLp0Kffee29Gbe7cuVx//fVUqVIl4zMeOnSIJk2aAPDNN99c9ntfqqpVq2aMHAOUKFGCypUrZ7o+c+fOJSYmhmuuuSZTf82aNSMtLY2VK1dmnHv21/rIkSMcO3aMmJiYTF/ndLfffjtVq1a95F7LlSvH0qVLM/0aOHDg5X5kEfFymiogIrYJDQ3NmMOa7pprruHIkSMXfe727duxLIuhQ4cydOjQbM85cOAAZcqUyTiOjo7Ocs6pU6cYN24c06dPJyEhAcuyMh47duxYxu937NhB+/btL9rXpcqTJw/t27dnzpw5pKSkEBISQnx8PC6XK1Nw3bZtG1u2bMnydUp34MCBHOvpXGXLls1SO/f6bNu2jQ0bNlxSf4sWLWLMmDH8+uuvmebnZhf8s7tWF1KgQAGaNWt2Wc8REd+j4CoitrmaO9nTb/zp378/LVq0yPacihUrZjo+e8Qv3ZNPPsn06dOJi4ujbt26FC5cGIfDwX333efx5avuu+8+3njjDZYsWUK7du34+OOPqVKlCjVr1sw4x+12U716dSZOnJjta0RFRXmsv/Ndn7PDvdvt5o477jjv6GalSpUAWLVqFXfffTcNGzbk9ddfJyIiguDgYKZPn86cOXOyPC+7ayUiouAqIl7tfD+GL1++PGBudLqakbZ58+bRtWtXXn755Yza6dOnOXr0aKbzKlSowKZNm66o1/Np2LAhERERfPTRRzRo0ICvv/6a5557Lsv7rl+/nqZNm3rl7k8VKlTgxIkTF70Gn3zyCaGhoXzxxReZ1oudPn26p1vMljd+LUXk4jTHVUS8Wvpd/ecGyZIlS9KoUSPeeOMNEhMTszzv4MGDl/T6Tqcz0wgiwGuvvZaxJFe69u3bs379eubPn5/lNdKfn74u7Lm9nk9QUBAdOnTgf//7H7Nnz+bMmTOZpgkAdOrUiYSEBN56660szz916lTG6gh26dSpE2vWrOGLL77I8tjRo0c5c+YMYL7ODocj09d1165dtu1eVaBAgUu+TiLiPTTiKiJeLV++fFStWpWPPvqISpUqUbRoUW644QZuuOEGpkyZQoMGDahevToPP/ww5cuXZ//+/axZs4Y9e/awfv36i75+mzZtmD17NoULF6Zq1aqsWbOGZcuWUaxYsUznDRgwgHnz5tGxY0d69OhB7dq1+eeff1i4cCHTpk2jZs2aVKhQgSJFijBt2jQKFSpEgQIFqFOnzgXna95777289tprDB8+nOrVq3P99ddnevyBBx7g448/plevXnzzzTfUr1+ftLQ0tm7dyscff8wXX3zBzTfffMHP6HK5GDNmTJZ60aJFefzxxy/6NbqQAQMGsHDhQtq0aZOxVNbJkyfZuHEj8+bNY9euXRQvXpzWrVszceJE7rzzTrp06cKBAweYMmUKFStWZMOGDVfVw5WoXbs2y5YtY+LEiZQuXZro6Gjq1KmT632IyOVRcBURr/f222/z5JNP0rdvX1JTUxk+fDg33HADVatW5aeffmLkyJHMmDGDw4cPU7JkSWrVqsWwYcMu6bVfffVVnE4n77//PqdPn6Z+/fosW7Ysy7zZggULsmrVKoYPH878+fOZOXMmJUuWpGnTphmbGQQHBzNz5kyeffZZevXqxZkzZ5g+ffoFg2u9evWIiopi9+7dWUZbwYzKLliwgFdeeYVZs2Yxf/588ufPT/ny5enTp0/GHNILSU1NzfYGtgoVKlx1cM2fPz8rVqxg7NixzJ07l1mzZhEWFkalSpUYOXIkhQsXBswqCu+88w4vvPACcXFxREdHM378eHbt2mVLcJ04cSKPPPIIQ4YM4dSpU3Tt2lXBVcQHOKxzf0YmIiIiIuKFNMdVRERERHyCgquIiIiI+AQFVxERERHxCQquIiIiIuITbA2u48aN45ZbbqFQoUKULFmSdu3a8fvvv2c6p1GjRjgcjky/zt3bXERERET8n63BdcWKFfTu3Zvvv/+epUuX4nK5aN68eZYFtR9++GESExMzfk2YMMGmjkVERETELrau4/r5559nOp4xYwYlS5Zk3bp1NGzYMKOeP39+wsPDr+g93G43e/fupVChQtriT0RERMQLWZbF8ePHKV26NEFB5x9X9aoNCI4dOwaY3VzO9v777/Pee+8RHh7OXXfdxdChQzO2gTxXSkoKKSkpGccJCQlUrVrVc02LiIiISI7YvXt3xqYu2fGaDQjcbjd33303R48eZfXq1Rn1N998k2uvvZbSpUuzYcMGnnnmGW699Vbi4+OzfZ0RI0YwcuTILPW33377vGFXREREROyTnJzMQw89xNGjRzN23MuO1wTXxx57jCVLlrB69eoLJu2vv/6apk2bsn37dipUqJDl8XNHXJOSkoiKiuLQoUOEhYV5pHexl8vlYunSpdxxxx0EBwfb3Y7kEl33wKTrHph03f1fUlISxYsX59ixYxfMa14xVeCJJ55g0aJFrFy58oKhFcjYS/p8wTUkJISQkJAs9eDgYP1h93O6xoFJ1z0w6boHJl13/3Wp19XW4GpZFk8++STz589n+fLlREdHX/Q5v/76KwAREREe7k5EREREvImtwbV3797MmTOHTz/9lEKFCrFv3z4AChcuTL58+dixYwdz5syhVatWFCtWjA0bNtC3b18aNmxIjRo17GxdRERERHKZrcF16tSpgNlk4GzTp0+nW7du5M2bl2XLljFp0iROnjxJVFQU7du3Z8iQITnah2VZnDlzhrS0tBx9XckdLpeLPHnycPr0ab+6hsHBwTidTrvbEBER8Rq2TxW4kKioKFasWOHRHlJTU0lMTCQ5Odmj7yOeY1kW4eHh7N6926/W6nU4HERGRlKwYEG7WxEREfEKXnFzll3cbjc7d+7E6XRSunRp8ubN61fBJ1C43W5OnDhBwYIFL7hosS+xLIuDBw+yZ88errvuOo28ioiIEODBNTU1FbfbTVRUlNZ49WFut5vU1FRCQ0P9JrgClChRgl27duFyuRRcRUREAP/5V/4q+FPYEf+h0X8REZHMlNhERERExCcE9FQBEREREW+SlgarVkFiIkREQEwMaLbYvxRcRURERLxAfDz06QN79vxbi4yEV1+F2Fj7+vImmirgo7p164bD4cDhcBAcHEypUqW44447ePfdd3G73Zf8OjNmzKBIkSKea1REREQuKj4eOnTIHFoBEhJMPT7enr68jYJrDkhLg+XL4YMPzH9zaw38O++8k8TERHbt2sWSJUto3Lgxffr0oU2bNpw5cyZ3mhAREZGrkpZmRlqzW94+vRYXl3v5wpspuF6l+HgoVw4aN4YuXcx/y5XLne+MQkJCCA8Pp0yZMtx0000MHjyYTz/9lCVLljBjxgwAJk6cSPXq1SlQoABRUVE8/vjjnDhxAoDly5fTvXt3jh07ljF6O2LECABmz57NzTffTKFChQgPD6dLly4cOHDA8x9KREQkwKxalXWk9WyWBbt3m/MCnYLrVfDGYf0mTZpQs2ZN4v//zYOCgpg8eTKbN29m5syZfP311wwcOBCAevXqMWnSJMLCwkhMTCQxMZH+/fsDZhvV0aNHs379ehYsWMCuXbvo1q1b7n8gERERP5eYmLPn+TPdnHWFLjas73CYYf22bXP/bsAqVaqwYcMGAOLi4jLq5cqVY8yYMfTq1YvXX3+dvHnzUrhwYRwOB+Hh4Zleo0ePHhm/L1++PJMnT+aWW27J2KFKREREckZERM6e58804nqFvHlY37KsjMXrly1bRtOmTSlTpgyFChXigQce4PDhwyQnJ1/wNdatW8ddd91F2bJlKVSoELfffjsAf//9t8f7FxERCSQxMWb1gPPtO+NwQFSUOS/QKbheIW8e1t+yZQvR0dHs2rWLNm3aUKNGDT755BPWrVvHlClTALPd7fmcPHmSFi1aEBYWxvvvv8/atWuZP3/+RZ8nIiIil8/pNEteQdbwmn48aZLWcwUF1yvmrcP6X3/9NRs3bqR9+/asW7cOt9vNyy+/zG233UalSpXYu3dvpvPz5s1L2jm3KW7dupXDhw/zwgsvEBMTQ5UqVXRjloiIiAfFxsK8eVCmTOZ6ZKSpax1XQ3Ncr1D6sH5CQvbzXB0O87gnh/VTUlLYt28faWlp7N+/n88//5xx48bRpk0bHnzwQTZt2oTL5eK1117jrrvu4ttvv2XatGmZXqNcuXKcOHGCr776ipo1a5I/f37Kli1L3rx5ee211+jVqxebNm1i9OjRnvsgIiIiQmysuTdGO2edn0Zcr5A3DOt//vnnREREUK5cOe68806++eYbJk+ezKefforT6aRmzZpMnDiR8ePHc8MNN/D+++8zbty4TK9Rr149evXqxb333kuJEiWYMGECJUqUYMaMGcydO5eqVavywgsv8NJLL3nug4iIiAhgckOjRtC5s/mvQmtmDsvKbrzQfyQlJVG4cGGOHTtGWFhYpsdOnz7Nzp07iY6OJjQ09IpeP7vt2aKiTGjVsH7ucLvdJCUlERYWRlCQ/3wvlhN/Pv2Zy+Vi8eLFtGrViuDgYLvbkVyi6x6YdN3934Xy2tk0VeAqaVhfREREJHcouOaA9GF9EREREfEc//m5qoiIiIj4NQVXEREREfEJCq4iIiIi4hM0x1VEREREMqSlee9N5wquIiIiIgJkv8xnZKRZu94blvnUVAERERERIT4eOnTIHFrB7BLaoYN53G4KriIiIiIBLi3NjLRmty1Vei0uzpxnJwVXERERkQC3alXWkdazWRbs3m3Os5OCq1zUrl276NmzJ9HR0eTLl48KFSowfPhwUlNTL/i806dP07t3b4oVK0bBggVp3749+/fvz3TO33//TevWrcmfPz8lS5ZkwIABnDlzxpMf56Li4+Np3rw5xYoVw+Fw8Ouvv17S8+bOnUuVKlUIDQ2levXqLF68ONPjlmUxbNgwIiIiyJcvH82aNWPbtm0e+AQiIiKXJzExZ8/zFAVXuaitW7fidrt544032Lx5M6+88grTpk1j8ODBF3xe3759+d///sfcuXNZsWIFe/fuJfasmd1paWm0bt2a1NRUvvvuO2bOnMmMGTMYNmxYjvZfrlw5li9ffsnnnzx5kgYNGjB+/PhLfs53331H586d6dmzJ7/88gvt2rWjXbt2bNq0KeOcCRMmMHnyZKZNm8YPP/xAgQIFaNGiBadPn76cjyMiIpLjIiJy9jyPsfzcsWPHLMA6duxYlsdOnTpl/fbbb9apU6dMwe22rBMn7Pnldl/S55k5c6ZVtGhR6/Tp05nqbdu2te6///6r/npdqgkTJljR0dHnffzo0aNWcHCwNXfu3Izali1bLMBas2aNZVmWtXjxYisoKMjat29fxjlTp061wsLCrJSUFMvtdltNmza1mjdvbrn//+tz+PBhq0yZMtbQoUMznpOWlmYdOXLESktLy7aXa6+91vrmm28u+zPu3LnTAqxffvnloud26tTJat26daZanTp1rEcffdSyLMtyu91WeHi49eKLL2Y8fvToUSskJMT64IMPsn3NLH8+JZPU1FRrwYIFVmpqqt2tSC7SdQ9Muu6ed+aMZUVGWpbDYVlmYkDmXw6HZUVFmfM84UJ57WwacT1bcjIULGjPr+TkS2qxY8eOpKWlsXDhwozagQMH+Oyzz+jRo8d5n1etWjUKFix43l8tW7a8rC/VsWPHKFq06HkfX7duHS6Xi2bNmmXUqlSpQtmyZVmzZg0Aa9asoXr16pQqVSrjnBYtWpCUlMTmzZtxOBzMnDmTtWvXMnnyZAB69epFmTJlcnxU9mqtWbMm02cF81nSP+vOnTvZt29fpnMKFy5MnTp1Ms4RERGxi9NplrwCcDgyP5Z+PGmS/eu5ah1XH5MvXz66dOnC9OnT6dixIwDvvfceZcuWpVGjRud93uLFi3G5XBd83Uu1fft2XnvtNV566aXznrNv3z7y5s1LkSJFMtVLlSrFvn37Ms45O7SmP57+GECZMmV44403ePDBB9m3bx+LFy/ml19+IU8e7/qje77PcvZnTa+d7xwRERE7xcbCvHnZr+M6aZJ3rOPqXf/62y1/fjhxwr73vkQPP/wwt9xyCwkJCZQpU4YZM2bQrVs3HOd+i3SWa6+9Nie6JCEhgTvvvJOOHTvy8MMP58hrXkzHjh2ZP38+L7zwAlOnTuW666674Pm9evXivffeyzhOTk6mZcuWOM/6NvGEXddZRETEi8XGQtu22jnLNzgcUKCA3V1cVK1atahZsyazZs2iefPmbN68mc8+++yCz6lWrRp//fXXeR+PiYlhyZIlF3yNvXv30rhxY+rVq8ebb755wXPDw8NJTU3l6NGjmUZd9+/fT3h4eMY5P/74Y6bnpa86kH4OmOC5bt06nE7nJd2FP2rUKPr3759x3KhRI8aPH0+dOnUu+twrFR4enmXFhHM/a3ot4qyZ7fv37+fGG2/0WF8iIiKXy+mEC/wQ11YKrj7qoYceYtKkSSQkJNCsWTOioqIueP7VThVISEigcePG1K5dm+nTpxMUdOHp0bVr1yY4OJivvvqK9u3bA/D777/z999/U7duXQDq1q3L888/z4EDByhZsiQAS5cuJSwsjKpVq2a81tNPP01QUBBLliyhVatWtG7dmiZNmpz3vUuWLJnxegB58uShTJkyVKxY8YI9X426devy1VdfERcXl1FbunRpxmeNjo4mPDycr776KiOoJiUl8cMPP/DYY495rC8RERF/ouDqo7p06UL//v156623mDVr1kXPv5qpAgkJCTRq1Ihrr72Wl156iYMHD2Y8lj6SmJCQQNOmTZk1axa33norhQsXpmfPnvTr14+iRYsSFhbGk08+Sd26dbntttsAaN68OVWrVuWBBx5gwoQJ7Nu3jyFDhtC7d29CQkIA+Oyzz3j33XdZs2YNN910EwMGDKBr165s2LCBa6655oo/04X8888//P333+zduxcwgTv9s6Z/3gcffJAyZcowbtw4APr06cPtt9/Oyy+/TOvWrfnwww/56aefMkamHQ4HcXFxjBkzhuuuu47o6GiGDh1K6dKladeunUc+h4iIiN/xzKIG3uOylsPyMQ888EC2S2PltOnTp1tAtr/SpS8ddfayU6dOnbIef/xx65prrrHy589v3XPPPVZiYmKm1961a5fVsmVLK1++fFbx4sWtp59+2nK5XJZlWdaBAwesUqVKWWPHjs04PzU11apdu7bVqVOnjFpOL4d1vs87fPjwjHNuv/12q2vXrpme9/HHH1uVKlWy8ubNa1WrVs367LPPMj3udrutoUOHWqVKlbJCQkKspk2bWr///vt5+/D1P5+epuVxApOue2DSdfd/l7oclsOystuV1n8kJSVRuHBhjh07RlhYWKbHTp8+zc6dO4mOjiY0NNSmDq9c06ZNqVatWsZSUYHK7XaTlJREWFjYRacw+BJf//PpaS6Xi8WLF9OqVSuCg4Ptbkdyia57YNJ1938Xymtn01QBH3TkyBGWL1/O8uXLef311+1uR0RERCRXKLj6oFq1anHkyBHGjx9P5cqV7W5HREREJFcouPqgXbt22d2CiIiISK7znwmBIiIiIuLXFFwBP78/TXyU/lyKiIhkFtDBNf3OxOTkZJs7EckqNTUVINNWtSIiIoEsoOe4Op1OihQpwoEDBwDInz8/DofD5q7kcrndblJTUzl9+rTfLIfldrs5ePAg+fPnJ0+egP5rKiIikiHg/0VM3wkpPbyK77Esi1OnTpEvXz6/+sYjKCiIsmXL+tVnEhERuRoBH1wdDgcRERGULFkSl8tldztyBVwuFytXrqRhw4Z+tTB13rx5/WYEWUREJCcEfHBN53Q6NZfQRzmdTs6cOUNoaKhfBVcRERHJTMM5IiIiIuITFFxFRERExCcouIqIiIiIT1BwFRERERGfoOAqIiIiIj5BwVVEREREfIKCq4iIiIj4BAVXEREREfEJCq4iIiIi4hMUXEVERETEJyi4ioiIiIhPUHAVEREREZ+g4CoiIiIiPkHBVURERER8goKriIiIiPgEBVcRERER8QkKriIiIiLiExRcRURERMQnKLiKiIiIiE9QcBURERERn5DH7gZERERE7JaWBqtWQWIiRERATAw4nXZ3JeeydcR13Lhx3HLLLRQqVIiSJUvSrl07fv/990znnD59mt69e1OsWDEKFixI+/bt2b9/v00di4iIiL+Jj4dy5aBxY+jSxfy3XDlTF+9ia3BdsWIFvXv35vvvv2fp0qW4XC6aN2/OyZMnM87p27cv//vf/5g7dy4rVqxg7969xMbG2ti1iIiI+Iv4eOjQAfbsyVxPSDB1hVfvYutUgc8//zzT8YwZMyhZsiTr1q2jYcOGHDt2jHfeeYc5c+bQpEkTAKZPn87111/P999/z2233WZH2yIiIuIH0tKgTx+wrKyPWRY4HBAXB23batqAt/CqOa7Hjh0DoGjRogCsW7cOl8tFs2bNMs6pUqUKZcuWZc2aNdkG15SUFFJSUjKOk5KSAHC5XLhcLk+2LzZJv666voFF1z0w6boHJk9d99Wr4fBhyJfv/OccOgQrV0KDBjn61t7NsnB8/jmUKIF188258paXem29Jri63W7i4uKoX78+N9xwAwD79u0jb968FClSJNO5pUqVYt++fdm+zrhx4xg5cmSW+pdffkn+/PlzvG/xHkuXLrW7BbGBrntg0nUPTJ647h98cPFzkpJg8eIcf2vvY1mU+PVXqnzwAUX/+IND1arx7ZgxZujZw5KTky/pPK8Jrr1792bTpk2sXr36ql7n2WefpV+/fhnHSUlJREVF0bx5c8LCwq62TfFCLpeLpUuXcscddxAcHGx3O5JLdN0Dk667f0pLgzVrYN8+CA+HunUz/2jeU9d99Wpo3fri5332mZ+PuFoWjq+/JmjUKILWrDGlfPm4pkULWjVvDrnwdy39J+QX4xXB9YknnmDRokWsXLmSyMjIjHp4eDipqakcPXo006jr/v37CQ8Pz/a1QkJCCAkJyVIPDg7W/+T8nK5xYNJ1D0y67v4jPt7MMz375qjISHj1VTj3Xuycvu4NG0KxYuZGrOzmuTocppeGDf14juvy5TBsmFkLDCA0FB57DMfAgTjDw8mtj32p19XWVQUsy+KJJ55g/vz5fP3110RHR2d6vHbt2gQHB/PVV19l1H7//Xf+/vtv6tatm9vtioiISA6y+45+p9MEZMj60/D040mT/DS0rlxp1v1q3NiE1pAQeOop+PNPmDjRDH17IVuDa+/evXnvvfeYM2cOhQoVYt++fezbt49Tp04BULhwYXr27Em/fv345ptvWLduHd27d6du3bpaUUBERMSHXeyOfjB39KelebaP2FiYNw/KlMlcj4w0db9bgfPbb6FZM7j9djPamjcv9O4NO3aYFB8RYXeHF2TrVIGpU6cC0KhRo0z16dOn061bNwBeeeUVgoKCaN++PSkpKbRo0YLXX389lzsVERGRnLRqVdaR1rNZFuzebc6rX9+zvcTGmiWv/HrnrO+/h+HD4csvzXFwMPToAYMHQ9my9vZ2GWwNrlZ232adIzQ0lClTpjBlypRc6EhERERyQ2Jizp53tZxOOGcczT+sXWsC65Il5jhPHujWDZ57zmwP5mO84uYsERERCSyX+hNpL//Jtff6+WcTWBctMsdOJzz4IAwZAuXL29vbVbB1jquIiIgEppgYM4/0fEuEOhwQFWXOk8uwfj3ccw/Urm1Ca1CQCaxbt8K77/p0aAUFVxEREbFBQN/R7wkbN5qlGG68ERYsMF/E//wHtmyBmTOhYkW7O8wRCq4iIiJii4C7o98TfvsN7r0XatSATz4xgfW++2DzZnjvPahUye4Oc5TmuIqIiIhtAuKOfk/YuhVGjYIPP/x3/bCOHc281mrV7O3NgxRcRURExFZ+e0e/J2zbZgLrnDngdptabKwJrDVq2NtbLlBwFREREfF2O3bA6NEwe/a/gbVtWxgxwsxrDRAKriIiIiLeaudOGDPG3GCVvo1YmzYmsNaubWtrdlBwFREREfE2f/0Fzz8P06fDmTOm1rKlCay33mpra3ZScBURERHxFnv2wNix8Pbb4HKZWvPmJrDWrWtra95AwVVERETEbnv3wrhx8OabkJpqak2awMiR0KCBvb15EQVXEREREbskJsL48TBtGqSkmFrDhmblgNtvt7c3L6TgKiIiIpLb9u+HCRPg9dfh9GlTa9DAjLA2bnz+vXADnIKriIiISG45eBBefBH++184dcrU6tY1gbVZMwXWi1BwFREREfG0w4fhpZfgtdfg5ElTu/VWE1hbtFBgvUQKriIiIiKe8s8/MHEivPoqnDhharVrm8DaqpUC62VScBURERHJaUePwiuvwKRJkJRkajfeaALrXXcpsF4hBVcRERGRnHLsmBldnTjR/B6gRg2zDmu7dgqsV0nBVURERORqHT8OkyfDyy/DkSOmVq2aCayxsRAUZGt7/kLBVURERORKnThhVgh46SVzAxZAlSomsHbsqMCawxRcRURERC7XyZNmDdYJE+DQIVOrVAmGD4d77wWn097+/JSCq4iIiMilSk42u1yNHw8HDphahQomsHbuDHkUrTxJX10RERGRizl9Gt58E8aNg337TC06GoYNg/vvV2DNJfoqi4iIiJxPSgq8/TaMHQt795ratdfC0KHw4IMQHGxvfwFGwVVERETkXKmp8O678PzzsGePqUVFwZAh0K0b5M1ra3uBSsFVREREJJ3LBTNmwJgx8PffplamDAweDD17QkiIre0FOgVXEREREZcLZs82gXXnTlMLDzeB9eGHITTU3v4EUHAVERGRQHbmDLz/PoweDTt2mFqpUjBoEDz6KOTLZ29/komCq4iIiASetDT48EMYORK2bTO1EiVg4EB4/HHIn9/e/iRbCq4iIiISONLSYO5cE1i3bjW1YsVMYO3dGwoUsLc/uSAFVxEREfF/bjd88onZivW330ztmmtgwAB44gkoVMjW9uTSKLiKiEhASkuDVasgMREiIiAmRrt0+iW3GxYsMIF140ZTK1IEnn4annoKwsJsbE4ul4KriIgEnPh46NPn3+U5ASIj4dVXITbWvr4kB1kWLFxotmJdv97UwsKgXz9z8YsUsbU9uTIKriIiElDi46FDB5NrzpaQYOrz5im8+jTLgs8+M4H1559NrVAhiIuDvn3N9ADxWUF2NyAiIpJb0tLMYNu5oRX+rcXFmfPEx1gWLFkCderAXXeZ0FqggFmHdedOGDVKodUPKLiKiEjAWLUq8/SAc1kW7N5tzhMfYVnw5ZdQrx60agVr15qlrJ55BnbtMlu2Fitmd5eSQzRVQEREAkZiYs6eJzayLPj6azMl4NtvTS1fPrMG68CBULKkvf2JRyi4iohIwIiIyNnzxCYrVsCwYbBypTkODYVevcwoa3i4vb2JRym4iohIwIiJMasHJCRkP8/V4TCPx8Tkfm9ycY5vvzVzVb/5xhTy5jXbsg4aBKVL29uc5AoFVxERCRhOp1nyqkMHE1LPDq8Oh/nvpElaz9XbOL7/nrrDh5MnfVmr4GB4+GF49lnznYYEDN2cJSIiASU21ix5VaZM5npkpJbC8jo//ggtW5KnYUNKrl+PlSePGWHdvh2mTFFoDUAacRURkYATGwtt22rnLK+1bp256eqzzwCwnE7+atKEMlOmEHzddTY3J3ZScBURkYDkdEKjRnZ3IZn88ovZmnXhQnPsdMKDD3LmmWdYv3UrZcqVs7M78QKaKiAiIiL22rDBDIPfdJMJrUFB8OCDsHUrvPsulC9vd4fiJTTiKiIiIvbYtAlGjjSTi8HcIdelCwwdCpUr29ubeCUFVxEREcldW7aYwPrxx2ZpB4cD7r3XrM16/fV2dydeTMFVREREcsfvv5t1WD/44N+1yDp2NDdiVatmb2/iExRcRURExLO2bzeB9f33we02tXvuMTdi1ahha2viWxRcRURExDP+/BNGj4bZsyEtzdTuvtsE1lq1bG1NfJOCq4iIiOSsXbtgzBiYORPOnDG11q1NYL35Zjs7Ex+n4CoiIiI54++/4fnnzRJW6YH1zjvNjVi33mpvb+IXFFxFRETk6uzZA+PGwVtvgctlanfcYQJr3br29iZ+RcFVREQkgKWlXcXWt3v3wgsvwBtvQGqqqTVpYgJrgwYe61kCl4KriIhIgIqPhz59zIBpushIePVVs5HVee3bB+PHw7RpcPq0qTVsaAKr9tEVD9KWryIiIgEoPh46dMgcWgESEkw9Pj6bJx04AP37my1YJ00yobV+ffjqK1i+XKFVPE7BVUREJMCkpZmR1vQ9AM6WXouL+3cFKw4dgmeegehoePllOHUKbrsNvvzSzDNo0sTsfiXiYZoqICIiEmBWrco60no2y4Ldu2HNosM0+OFlmDwZTp40D95yi9lMoEULhVXJdQquIiIiASYx8cKPF+EI/ZhInc6vwqnjpnjTTWYOa+vWCqxiGwVXERGRABMRkX29MEeJYxJ9eYXCJMEpoGZNE1jvvluBVWyn4CoiIhJgYmLM6gEJCWZaQCGS6MOr9GMi13AUgC3B1ak0ZwTO2HYQpFtixDvoT6KIiEiAcTrNklcFreMMZiw7iWY0w7iGo2ymKp34mC1zfsXZIVahVbyKRlxFREQCzYkTxG6bQutCLxJy/DAAW6nMCEbwfWRHJr7qvPA6riI2UXAVEREJFMnJ8PrrMGECHDxICGBddx1bOg5nQ9X76FXGyfuXs3OWSC5TcBUREfF3p06ZXa7Gj4f9+02tQgUYNgxHly5UzZOHqvZ2KHJJFFxFRET81enT8Oab8MIL/66BVa4cDBsG998PwcG2tidyuRRcRURE/E1KCrzzDowda5YOAChbFoYOha5dFVjFZym4ioiI+IvUVJg+HZ5/3mx9BWbdqyFDoHt3yJvX3v5ErpKCq4iIiK9zuWDmTBgzBv76y9RKl4bnnoOePSEkxN7+RHKIgquIiIivOnMGZs+G0aNh505TCw+HZ5+FRx6B0FB7+xPJYbauKrxy5UruuusuSpcujcPhYMGCBZke79atGw6HI9OvO++8055mRUREvMWZMzBrFlx/PfToYUJryZIwcSL8+Sc89ZRCq/glW0dcT548Sc2aNenRowex51np+M4772T69OkZxyH6cYeIiASqtDT48EMYNQr++MPUSpSAgQPhscegQAF7+xPxMFuDa8uWLWnZsuUFzwkJCSE8PDyXOhIREfFCbjd8/DGMHAlbt5pasWIwYAD07g0FC9rbn0gu8fo5rsuXL6dkyZJcc801NGnShDFjxlCsWLHznp+SkkJKSkrGcVJSEgAulwuXy+XxfiX3pV9XXd/AousemALuurvdOObPxzl6NI7ffgPAuuYa3H374u7dGwoVMuf5+dcj4K57ALrUa+uwLMvycC+XxOFwMH/+fNq1a5dR+/DDD8mfPz/R0dHs2LGDwYMHU7BgQdasWYPzPPvRjRgxgpEjR2apz5kzh/z583uqfRERkZxjWUT88AOVP/yQwrt2AeDKn5/tbdvy5113cUb/nomfSU5OpkuXLhw7doywsLDznufVwfVcf/75JxUqVGDZsmU0bdo023OyG3GNiori0KFDF/xCiO9yuVwsXbqUO+64g2Atqh0wdN0Dk99fd8vCsWgRzlGjcKxfb0phYbifegr3U09BkSL29mcTv7/uQlJSEsWLF79ocPX6qQJnK1++PMWLF2f79u3nDa4hISHZ3sAVHBysP+x+Ttc4MOm6+6a0NFi1yuxCGhEBMTFwnh+kZcvvrrtlweLFMHw4rFtnagULQlwcjr59cRYtymV8efyW3113yXCp19WnguuePXs4fPgwERERdrciIiJXKD4e+vSBPXv+rUVGwquvwnkWmPFflgVffGEC648/mlqBAmY5q6efNjdgiUgGW4PriRMn2L59e8bxzp07+fXXXylatChFixZl5MiRtG/fnvDwcHbs2MHAgQOpWLEiLVq0sLFrERG5UvHx0KGDyWtnS0gw9XnzAiS8WhYsWwbDhsH335ta/vzwxBPQv79Z4kpEsrB1A4KffvqJWrVqUatWLQD69etHrVq1GDZsGE6nkw0bNnD33XdTqVIlevbsSe3atVm1apXWchUR8UFpaWakNbs7K9JrcXHmPL/2zTfQsCE0b25Ca2go9OtnNg4YP16hVeQCbB1xbdSoERe6N+yLL77IxW5ERMSTVq3KPD3gXJYFu3eb8xo1yrW2cs+KFWZKwIoV5jgkBPejj/H97c/wV0o4EVsgpvjlzfUVCTQ+NcdVRER8V2Jizp7nM1avNoH166/Ncd688OijLK4xiEdHlmbP5H9PDdi5viKXyNapAiIiEjgu9b5av7n/ds0aMx0gJsaE1uBgePxx2LGD+EaTafNI6Swj0OlzfePj7WlZxNspuIqISK6IiTEjig5H9o87HBAVZc7zaT/+CC1bQr16sHQp5MkDjzwC27fDlCmkRURqrq/IFVJwFRGRXOF0mh+DQ9bwmn48aZIPz/Fctw7atIE6deDzz80H6dkT/vgD3ngDypYFLm+ur4hkpuAqIiK5JjbWLHlVpkzmemSkDy+F9euv0K4d3HwzfPYZBAVBt27w++/w9tsQHZ3p9ICd6yuSA3RzlohILrna3aL8RWwstG3rB1+LjRthxIh/J6QGBcF//gNDh8J11533aQE311ckBym4iojkAu0WlZnT6cNLXm3eDCNHwty55tjhgM6dzWYClStf9Onpc30TErKf5+pwmMd9fq6viAdoqoCIiIel7xalO8h93JYtJqBWr25Cq8MB994LmzbB++9fUmiFAJjrK+JBCq4iIh6k3aL8wB9/wP33Q7Vq8OGH5sJ16AAbNpjjqlUv+yX9cq6vSC7QVAEREQ8K+N2ifNn27TB6NLz3HrjdptaunZnXWrPmVb+838z1FclFCq4iIh6kO8h90J9/wpgxMGvWv0Phd91lAutNN+XoW/n0XF8RGyi4ioh4kO4g9yF//WUC64wZcOaMqbVqZQLrLbfY2ZmI/D/NcRUR8aCA2S3Kl+3eDb16mSWs3n7bhNYWLeD77826rAqtIl5DwVVExIN0B7kXS0iAJ56AihXNzlYuFzRrBt9+a3a+qlPH7g5F5BwKriIiHqY7yL1MYqJZ6qFCBZgyBVJToXFjWLkSli6FevXs7lBEzkNzXEVEcoHuIPcC+/fD+PEwdSqcPm1qDRuazQR0h5SIT1BwFRHJJd5wB3lAbjt78CBMmGBGV0+dMrV69WDUKGjS5PwTkEXE6yi4iogEiIDbdvbQIXjpJfjvf+HkSVOrU8cE1jvuUGAV8UGa4yoiEgACatvZf/6B556D6GgzNeDkSbj5Zli8GNasgebNFVpFfJSCq4iInwuYbWePHIFhw6BcORg7Fk6cgFq14H//gx9/hJYtFVhFfJyCq4iIn7ucbWd90rFj5gar6GizRevx42ZL1gULYN06aNNGgVXET2iOq4iIn/PbbWeTkmDyZHj5ZTh61NRuuMGE2HbtIEhjMyL+5rL/Vnft2pWVK1d6ohcREfEAf9t21nnqFEHjx5sR1qFDTWitWhU++gjWrzd3mim0ivilyx5xPXbsGM2aNePaa6+le/fudO3alTLnrqotIiJeI33b2YSE7Oe5Ohzmca/fdvbkSYImT+aOF17AmZRkapUrw/Dh0KlTAKzrJSKX/S3pggULSEhI4LHHHuOjjz6iXLlytGzZknnz5uFyuTzRo4iIXAWf33Y2OdlMByhfHufgwYQkJWFVrAizZ8PmzdC5sxc3LyI56Yp+llKiRAn69evH+vXr+eGHH6hYsSIPPPAApUuXpm/fvmzbti2n+xQRkavgk9vOnjplEnX58tC/Pxw4gFW+PD8/9RRnNmyA++9XYBUJMFc1CSgxMZGlS5eydOlSnE4nrVq1YuPGjVStWpVXXnklp3oUEZEcEBsLu3bBN9/AnDnmvzt3emFoPX0aXnsNKlSAvn3NVq3lysE773Bm40Z2N2kCeXRvsUgguuy/+S6Xi4ULFzJ9+nS+/PJLatSoQVxcHF26dCEsLAyA+fPn06NHD/r27ZvjDYuIyJXzhm1nzyslBd59F55/3kzIBShbFoYMga5dIW9e0JQ0kYB22cE1IiICt9tN586d+fHHH7nxxhuznNO4cWOKFCmSA+2JiIjfS02FGTNMYP37b1OLjDS7X3XvDiEhtrYnIt7jsoPrK6+8QseOHQkNDT3vOUWKFGHnzp1X1ZiIiPg5lwtmzYIxY8wcBoDSpeHZZ+Ghh+AC/86ISGC67OD6wAMPeKIPEREJFGfOwHvvmV2u/vzT1MLDYdAgeOQRyJfP3v5ExGtpdruIiOSOtDRzV9ioUbB9u6mVLAnPPAO9ekH+/Pb2JyJeT8FVREQ8Ky3N7Go1ahT8/rupFS8OAwfC449DgQL29iciPkPBVUREPMPthrlzYeRI2LLF1IoWhQED4IknoGBBe/sTEZ+j4CoiIjnL7Yb4eBNYN20ytSJFzCYCTz4J/790oojI5VJwFfFzaWmwahUkJkJEhNmPXpsNiUdYFnz6KQwfDhs2mFrhwtCvH/TpY34vInIVFFxF/Fh8vMkLe/b8W4uMNPvWe91uSeK7LAsWLTKB9ZdfTK1QIbPrVd++ZrRVRCQHKLiK+Kn4eOjQwWSKsyUkmLrX7k8vvsOyYMkSE1h/+snUChY03y3162fms4qI5KAguxsQkZyXlmayw7mhFf6txcWZ80Qum2XBF19A3brQurUJrQUKmHVYd+40GwootIqIByi4ivihVasyTw84l2XB7t3mPJFLZlmwbBnUrw933gk//GA2CxgwwATWcePMMlciIh6iqQIifigxMWfPu1q6QcwPfPMNDBsGq1eb49BQswbrwIFQqpS9vYlIwFBwFfFDERE5e97V0A1iPm7lSjOHdflycxwSYna5euaZ3PkDJCJyFk0VEPFDMTEmHDoc2T/ucEBUlDnPk9JvEDt32kL6DWLx8Z59f7kK334LzZrB7beb0Jo3r9k0YMcOmDRJoVVEbKHgKuKHnE4zoglZw2v68aRJnv1xvW4Q81Hffw8tWkCDBvDVVxAcbEZYt2+H116DMmXs7lBEApiCq4ifio01S16dmzMiI3NnKSzdIOZj1q6FVq3MSgFffgl58sDDD8O2bTB1qhmiFxGxmea4ivix2Fho29aeG6O87QYxOY+ffzZzWBctMsdOJ3TtCkOGQHS0vb2JiJxDwVXEzzmd0KhR7r+vN90gJtn49VcYMcJs0QoQFAQPPGACa8WKdnYmInJemiogIh7hLTeIyTk2boT27aFWLRNag4Lg/vthyxaYMUOhVUS8moKriHiEN9wgJmfZvBk6dYIaNcxyDg4HdO5s6rNnQ6VKdncoInJRCq4i4jF23yAmwNat0KULVK8Oc+eaWqdOZuR1zhyoUsXe/kRELoPmuIqIR9l5g1hA27YNRo0y4dTtNrX27c2NWNWr29ubiMgVUnAVEY+z6waxgLRjB4webX78nx5Y27UzgfXGG+3sTETkqim4ioj4g507YcwYmDnz310d7rrLrBxw0022tiYiklMUXEVEfNlff8Hzz8P06XDmjKm1bAkjR8Itt9jbm4hIDlNwFRHxRbt3w9ix8M474HKZWvPmJrDedpu9vYmIeIiCq4iIL9m7F8aNgzffhNRUU2va1ATW+vXt7U1ExMMUXEVEfEFiIowfD9OmQUqKqTVqZAJrw4a2tiYiklsUXEVEvNn+/TBhArz+Opw+bWoxMSawNm5sb28iIrlMwVVEAkJamo+tJXvwILz4Ivz3v3DqlKnVq2cCa9Om599LV0TEjym4iojfi4+HPn1gz55/a5GRZktar9u96/BheOkleO01OHnS1OrUMYG1eXMFVhEJaNryVUT8Wnw8dOiQObQCJCSYeny8PX1l8c8/MGQIlCsHL7xgQuvNN8Nnn8GaNdCihUKriAQ8BVcR8VtpaWak1bKyPpZei4v7d71+Wxw9ana1io4267GeOAG1asHChfDjj9CqlQKriMj/U3AVEb+1alXWkdazWZZZDnXVqtzrKcOxYzBqlBlhHTUKkpKgRg2YPx/WrTO7XimwiohkojmuIuK3EhNz9rwccfy4mb/60ktw5IipVatm5rDecw8EaTxBROR8FFxFxG9FROTseVflxAmzQsBLL5kbsACuvx5GjDCTbRVYRUQuSsFVRPxWTIxZPSAhIft5rg6HeTwmxoNNJCebNVjHj4dDh0ytUiUTWDt18vI1uUREvIu+xRcRv+V0miWvIOt00fTjSZM8lB1PnYJXXjE3XQ0YYEJrxYowezb89ht07qzQKiJymRRcRcSvxcbCvHlQpkzmemSkqef4Oq6nT8PkyVC+PPTrBwcOmN9Pnw5btsD99yuwiohcIVuD68qVK7nrrrsoXbo0DoeDBQsWZHrcsiyGDRtGREQE+fLlo1mzZmzbts2eZkXEZ8XGwq5d8M03MGeO+e/OnTkcWlNSYMoUqFDBrMG1b59ZMeDtt2HrVujWDfJodpaIyNWwNbiePHmSmjVrMmXKlGwfnzBhApMnT2batGn88MMPFChQgBYtWnA6fb9uEZFL5HRCo0bmJ/SNGuXgoGdqKkybZqYBPPEE7N0LUVHwxhvw++/QsycEB+fQm4mIBDZbv/1v2bIlLVu2zPYxy7KYNGkSQ4YMoW3btgDMmjWLUqVKsWDBAu67777cbFVEJDOXC2bMgDFj4O+/Ta1MGXjuOejRA0JCbG1PRMQfee3PrXbu3Mm+ffto1qxZRq1w4cLUqVOHNWvWnDe4pqSkkJKSknGclJQEgMvlwuVyebZpsUX6ddX1DSy2XXeXC8f77+McNw7Hzp0AWBERuJ95BnePHhAamnGe5Dz9fQ9Muu7+71KvrdcG13379gFQqlSpTPVSpUplPJadcePGMXLkyCz1L7/8kvz58+dsk+JVli5dancLYoPcuu6OtDQiV6yg0scfU/D//x90ukgRtsXGsqtFC9whIfD117nSi+jve6DSdfdfycnJl3Se1wbXK/Xss8/Sr1+/jOOkpCSioqJo3rw5YWFhNnYmnuJyuVi6dCl33HEHwZpLGDBy7bqnpeH48EOczz+PY/t2AKwSJXD374/z0Uepkj8/VTz37nIO/X0PTLru/i/9J+QX47XBNTw8HID9+/cTcda2Nvv37+fGG2887/NCQkIIyWZuWXBwsP6w+zld48DkseuelgYffwyjRplVAQCKFYOBA3H07o2zQAG0qJV99Pc9MOm6+69Lva5eu45rdHQ04eHhfPXVVxm1pKQkfvjhB+rWrWtjZyLi19xuE1hr1IAuXUxoLVoUxo41a2gNHAgFCtjdpYhIQLJ1xPXEiRNs//8fvYG5IevXX3+laNGilC1blri4OMaMGcN1111HdHQ0Q4cOpXTp0rRr186+pkXEP7ndMH++2Yp10yZTK1IEnn4annoKNNVIRMR2tgbXn376icaNG2ccp89N7dq1KzNmzGDgwIGcPHmSRx55hKNHj9KgQQM+//xzQtPv2hURuVqWBQsXwvDhsH69qYWFmV2v4uKgcGFb2xMRkX/ZGlwbNWqEZVnnfdzhcDBq1ChGjRqVi12JSECwLPjsMxNYf/7Z1AoVMmG1b1+45hpb2xMRkay89uYsERGPsCz4/HMTWNeuNbUCBcw2rf36mRuwRETEKym4ikhgsCxYutQE1u+/N7X8+eHJJ6F/fyhe3N7+RETkohRcRcS/WZbZGGDYMPjuO1PLlw9694YBA6BkSXv7ExGRS6bgKiL+a/lyM8K6cqU5Dg2FXr3gmWfg/9eKFhER36HgKiL+Z9UqE1i/+cYc580Ljz4KgwZB6dL29iYiIldMwVVE/Md335nAumyZOQ4OhocfhmefhchIe3sTEZGrpuAqIr7vhx9MYP3iC3OcJw/07AmDB0PZsvb2JiIiOUbBVUR8VpHt23G2bQtLlpiC0wndu8Nzz0G5crb2JiIiOU/BVUR8z88/4xw2jNs/+8wcO53w4IMwZAiUL29vbyIi4jEKriLiO9avhxEjYMECggArKAirSxeChg+HihXt7k5ERDxMwVVEvN/GjTByJHzyiTl2OHDfdx/fNGhAw4cfJig42N7+REQkVwTZ3YCIyHn99hvcey/UqGFCq8MB990HmzeTNnMmJ8qUsbtDERHJRRpxFRHvs3UrjBoFH35odr4C6NjRrBxQrZo5drns609ERGyh4Coi3mPbNhNY58wBt9vUYmNNYK1Rw97eRETEdgquImK/HTtg9Gh47z1ISzO1tm3NjVg33mhnZyIi4kUUXEXEPjt3wpgxMHPmv4G1dWtzI1bt2vb2JiIiXkfBVURy319/wfPPw/TpcOaMqd15pwmst95qb28iIuK1FFxFJPfs2QNjx8Lbb/97c9Udd5jAWreuvb2JiIjXU3AVEc/buxfGjYM334TUVFNr0sQE1gYN7O1NRER8hoKriHhOYiKMHw/TpkFKiqk1bGhWDrj9dnt7ExERn6PgKjkuLQ1WrTKZJSICYmLMVvISQPbvhwkT4PXX4fRpU2vQwIywNm5sNhIQERG5TAqukqPi46FPHzOVMV1kJLz6qlmOU/zcwYPw4oswZQokJ5ta3bomsDZrpsAqIiJXRVu+So6Jj4cOHTKHVoCEBFOPj7enL8kFhw/Ds89CdLQJrsnJZnWAJUvg22/NDVgKrSIicpUUXCVHpKWZkdb03TnPll6Li/t3qU7xE0eOwNChUK4cvPACnDwJN90EixbB99+bJa4UWEVEJIcouEqOWLUq60jr2SwLdu8254kfOHrU7GpVrpzZQODECbPD1aefwk8/mU0EFFhFRCSHaY6r5IjExJw9T7xUUpKZsDxxogmvANWrmzmsbdtCkL4XFhERz1FwlRwREZGz54mXOX4cXnsNXnrJTA8AqFrVBNbYWAVWERHJFQqukiNiYszqAQkJ2c9zdTjM4zExud+bXIUTJ8wKAS++aG7AAqhSBYYPh44dtc6ZiIjkKg2TSI5wOs1PkCHr1Mb040mTlHN8RnKyGV0tXx4GDTKhtVIleO892LQJ7rtPF1NERHKdgqvkmNhYmDcPypTJXI+MNHWt4+oDTp2CV14xgXXAALMua4UKMHMmbN4M//mPAquIiNhGUwUkR8XGmnt0tHOWjzl9Gt580yxplX4HXblyMGwYPPAA5NH/KkRExH7610hynNMJjRrZ3YVckpQUeOcdGDvWTFAGKFvWrM3atSsEB9vbn4iIyFkUXEUCUWoqTJ8Ozz9vFtgFM6djyBDo3h3y5rW3PxERkWwouIoEEpfLzFcdMwb++svUSpeG556Dnj0hJMTe/kRERC5AwVXEg9LSvGS+75kzMHs2jB4NO3eaWng4PPssPPIIhIba0JSIiMjlUXAV8ZD4eOjTJ/NWuJGRZtmwXFth4cwZmDPHBNbt202tZEmzxFWvXpAvXy41IiIicvW0HJaIB8THQ4cOmUMrmPufOnQwj3tUWpoJrNWqmZustm+H4sXNRgJ//gl9+yq0ioiIz1FwFclhaWlmpDW7HcTSa3Fx5rwc53bDRx9B9epmzdU//oCiRc0yVzt3Qv/+UKCAB95YRETE8xRcRXLYqlVZR1rPZlnmRv5Vq3LwTd1us8tDjRpmV6stW+Caa8yqAbt2wTPPQMGCOfiGIiIiuU9zXEVyWPr6/Tl13gVZFixYACNGwIYNpla4MDz9NDz1lPm9iIiIn1BwFclhERE5e162LAv+9z8YPhx+/dXUwsLM3NW4OChS5CpeXERExDspuIrksJgYs3pAQkL281wdDvN4TMwVvLhlweLFJrCuW2dqBQuaSbX9+pn5rCIiIn5Kc1xFcpjTaZa8AhNSz5Z+PGnSZa7nalnw+edw223Qpo0JrQUKmGWtdu40GwootIqIiJ9TcBXxgNhYc69UmTKZ65GRpn7J67haFixdCvXqQcuW8OOPkD8/DBhgAuu4cWaZKxERkQCgqQIiHhIbC23bXuHOWZYF33wDw4bBt9+aWmgoPP44DBwIpUp5tHcRERFvpOAq4kFOJzRqdJlPWrHCzGFdscIch4SYXa6eeeYq7+gSERHxbQquIt5i9WoTWL/+2hznzQuPPGLmsZ4750BERCQAKbiK2G3NGhNYly41x8HB8NBD8OyzEBVlb28iIiJeRMFVxC4//mgC6+efm+M8eaBHDxg8GK691t7eREREvJCCq0huW7fOBNbPPjPHTid06wbPPQfR0ba2JiIi4s0UXEVyyy+/mK1ZFy40x0FB8OCDMGQIVKhga2siIiK+QMFVxNM2bDCBdf58cxwUBP/5DwwdCtddZ2trIiIivkTBVcRTNm2CkSPNjgNgts3q3NmszVq5sr29iYiI+CAFV5GctmWLCawff2w2EgDo1MnMa61a1d7eREREfJiCq0hO+f13GDUKPvjg38Davr0JrNWr29ubiIiIH1BwFb+VlnaF261eru3bTWB9/31wu02tXTszr7VmTQ+8oYiISGBScBW/FB8PffrAnj3/1iIj4dVXITY2h97kzz9h9GiYPdukZIC77jKB9aabcuhNREREJF2Q3Q2I5LT4eOjQIXNoBUhIMPX4+Kt8g127zM5WlSvDjBkmtLZqZTYUWLhQoVVERMRDFFzFr6SlmZHW9CmmZ0uvxcX9O0B6Wf7+Gx591Cxh9c47cOYMtGgB339vNhO45ZaraV1EREQuQsFV/MqqVVlHWs9mWbB7tznvku3ZA717Q8WK8OabJrA2awbffmu2a61T56r7FhERkYvTHFfxK4mJOXje3r3wwgvwxhuQmmpqjRubpa5iYq64RxEREbkyCq7iVyIicuC8fftg/HiYNg1Onza1hg1NYG3U6GpbFBERkSuk4Cp+JSbGrB6QkJD9PFeHwzye7YDpgQMwYQK8/jqcOmVq9eubwNqkiXmyiIiI2EZzXMWvOJ1mySvImjPTjydNOmc910OH4JlnIDoaXn7ZhNbbboMvvjCTYZs2VWgVERHxAgqu4ndiY2HePChTJnM9MtLUM9ZxPXwYBg82gXXCBEhONisDLF4M330HzZsrsIqIiHgRTRUQvxQbC23bnmfnrCNHYOJEMzR7/Lh5wk03mSkBrVsrrIqIiHgpBVfxW07nOfdSHT1q5gm88gokJZlazZomsN59twKriIiIl1NwFf+XlGRGVydONOEV4IYbTGBt1w6CNGNGRETEFyi4iv86fhz++1946SX45x9Tq1oVRoyA9u0VWEVERHyMV//LPWLECBwOR6ZfVapUsbstr5aWBsuXwwcfmP9e0damvu7ECbMOa3S0ufnqn3+gcmXzRdmwATp2VGgVERHxQV4/4lqtWjWWLVuWcZwnj9e3bJv4eOjTJ/OWp5GR5qfkGXfS+7PkZHj7bRNaDx40teuug2HDoHPnc9bAEhEREV/j9SkwT548hIeH292G14uPhw4dsi66n5Bg6pmWgfI3p05RfuFC8jz6KOzfb2oVKpjA2qUL6JsdERERv+D1/6Jv27aN0qVLExoaSt26dRk3bhxly5Y97/kpKSmkpKRkHCf9/93jLpcLl8vl8X7tkJZm1s8PDc3+cYcDBg2CVq38bNDx9GmC3nkH5/jxVN+3DwCrXDnSnnsOq0sXCA42Sd5Pr3ugS//77K9/ryV7uu6BSdfd/13qtXVYVnYbY3qHJUuWcOLECSpXrkxiYiIjR44kISGBTZs2UahQoWyfM2LECEaOHJmlPmfOHPLnz+/pliUXBLlclF26lEqffEK+w4cBSC5Rgt87dWJ348ZYGmEVERHxKcnJyXTp0oVjx44RFhZ23vO8Orie6+jRo1x77bVMnDiRnj17ZntOdiOuUVFRHDp06IJfCF82bx6c58uRyTvvmGkDPis1laCZMwl64QUcu3cDYEVG4howgM9Ll6ZZq1YEBwfb3KTkFpfLxdKlS7njjjt03QOIrntg0nX3f0lJSRQvXvyiwdWnhqaKFClCpUqV2L59+3nPCQkJISQkJEs9ODjYb/+wR0TAqVOXdp5PfglcLpg1C0aPhr/+MrXSpWHwYBwPPYQjKAhr8WK/vsZyfrrugUnXPTDpuvuvS72uPrUm0IkTJ9ixYwcRERF2t+JVYmLM6gHn2/jJ4YCoKHOeTzlzBmbMgCpV4KGHTGgNDzfLJOzYAb17QzbfpIiIiIh/8urg2r9/f1asWMGuXbv47rvvuOeee3A6nXTu3Nnu1ryK02myHGQNr+nHkyb50I1ZZ87A7Nlw/fXQvTv8+SeULGl2vvrzT3jqqfPfiSYiIiJ+y6uD6549e+jcuTOVK1emU6dOFCtWjO+//54SJUrY3ZrXiY01c13LlMlcj4z0oaWw0tJgzhyoVg0efBC2b4fixeHFF01g7dsX8uWzu0sRERGxiVfPcf3www/tbsGnxMZC27awahUkJpo5rTExPjDS6nbD3LkwciRs2WJqRYvCgAHwxBNQsKC9/YmIiIhX8OrgKpfP6YRGjezu4hK53WbnhJEjYdMmU7vmGnj6aXjySfDTVSBERETkyii4Su6zLFiwAEaMgA0bTK1wYejXz+xZW7iwnd2JiIiIl1JwldxjWbBoEQwfDr/8YmphYRAXZ+avFiliZ3ciIiLi5RRcxfMsC5YsMYH1p59MrWBBM7rar5+ZzyoiIiJyEQqu4jmWBV9+aQLrDz+YWoECZv7q00+bFQNERERELpGCq+Q8y4KvvjKB9bvvTC1fPrNCwIABoOXMRERE5AoouErO+uYbGDYMVq82x6Gh8PjjMHAglCplb28iIiLi0xRcJWesXGlGWJcvN8chIfDoozBokFlQVkREROQqKbjK1fn2WxNYv/rKHOfNC488YgLrudt4iYiIiFwFBVe5Mt9/bwLrl1+a4+Bg6NkTBg+GqCh7exMRERG/pOAql2ftWhNYlywxx3nyQPfu8NxzcO219vYmIiIifk3BVS7Nzz+bwLpokTl2OqFrVxgyBKKj7e1NREREAoKCq1zYr7+arVk//dQcBwXBAw+YwFqxop2diYiISIBRcJXsbdxoAmt8vDkOCoIuXWDoUKhUydbWREREJDApuEpmmzfDyJEwd645djjgvvvM2qxVqtjbm4iIiAQ0BVcxtm41gfWjj8zOVwCdOpnAWq2avb2JiIiIoOAqf/wBo0bBBx+A221q7dubG7GqV7e3NxEREZGzKLgGqu3bYfRoeO+9fwNr27ZmXuuNN9rZmYiIiEi2FFwDzZ9/wpgxMGsWpKWZWps2JrDWrm1rayIiIiIXouAaKP76C55/HqZPhzNnTK1lSxNYb73V1tZERERELoWCq7/bvRvGjoV33gGXy9SaNzc3Yt12m729iYiIiFwGBVd/lZAA48bBW29BaqqpNW1qAmv9+vb2JiIiInIFFFz9TWIivPACvPEGpKSYWqNGJrA2bGhrayIiIiJXQ8HVX+zfD+PHw9SpcPq0qTVoYJa6atzY3t5EREREcoCCq687eBAmTIApU+DUKVOrW9eMsDZrZna+EhEREfEDCq6+6tAheOkl+O9/4eRJU7v1VjPC2ry5AquIiIj4HQVXX/PPP/DyyzB5Mpw4YWq1a5vA2rKlAquIiIj4LQVXX3H0KLzyivl1/Lip1aplpgS0aaPAKiIiIn5PwdXbHTsGr74KEyea3wPUqGECa9u2CqwiIiISMBRcvdXx42Y6wMsvw5Ejplatmgms99wDQUH29iciIiKSyxRcvc2JE+aGqxdfNPNZAa6/3mzN2qGDAquIiIgELAVXb3HyJLz+ulna6tAhU6tUCYYPh3vvBafT3v5EREREbKbgarfkZJg2zWwecOCAqVWsCMOGQefOkEeXSERERAQUXO1z6hS8+abZnnXfPlMrXx6GDoX771dgFRERETmH0lFuS0mBt96CceNg715TK1cOhgyBBx+E4GBb2xMRERHxVgquOSgtDVatgsREiIiAmJizpqampsK778Lzz8OePaYWFWUCa7dukDevXW2LiIiI+AQF1xwSHw99+vybSQEiI2Hyyy7uOTYDxoyBv/82D5QpA889Bz16QEiILf2KiIiI+BoF1xwQH29WqrKsf2t5cNF8z2xuvHc0sMsUIyJg8GB46CEIDbWjVRERERGfpeB6ldLSzEhremh1cob/8D7DGEUF/gTgQFApir84iKDHHoV8+WzsVkRERMR3KbhepVWr/p0eUJa/WModVGIbAAcowXieYar7MRbflJ9GyqwiIiIiV0zB9SolJv77+z1E4iKYQxRjAgOZQm+SKZDlPBERERG5fAquVyki4t/fu3HSkbnsJooTFDrveSIiIiJy+bTx/VWKiTGrBzgc5ngLVTOFVofDrHoVE2NTgyIiIiJ+QsH1Kjmd8Oqr5vfp4TVd+vGkSWet5yoiIiIiV0TBNQfExsK8eWZ51rNFRpp6bKw9fYmIiIj4E81xzSGxsdC27QV2zhIRERGRq6LgmoOcTmjUyO4uRERERPyTpgqIiIiIiE9QcBURERERn6DgKiIiIiI+QcFVRERERHyCgquIiIiI+AQFVxERERHxCQquIiIiIuITFFxFRERExCcouIqIiIiIT1BwFRERERGf4PdbvlqWBUBSUpLNnYinuFwukpOTSUpKIjg42O52JJfougcmXffApOvu/9JzWnpuOx+/D67Hjx8HICoqyuZORERERORCjh8/TuHChc/7uMO6WLT1cW63m71791KoUCEcDofd7YgHJCUlERUVxe7duwkLC7O7Hckluu6BSdc9MOm6+z/Lsjh+/DilS5cmKOj8M1n9fsQ1KCiIyMhIu9uQXBAWFqb/oQUgXffApOsemHTd/duFRlrT6eYsEREREfEJCq4iIiIi4hMUXMXnhYSEMHz4cEJCQuxuRXKRrntg0nUPTLruks7vb84SEREREf+gEVcRERER8QkKriIiIiLiExRcRURERMQnKLiKiIiIiE9QcBWfNW7cOG655RYKFSpEyZIladeuHb///rvdbUkueuGFF3A4HMTFxdndinhYQkIC999/P8WKFSNfvnxUr16dn376ye62xIPS0tIYOnQo0dHR5MuXjwoVKjB69OiL7mUv/s3vd84S/7VixQp69+7NLbfcwpkzZxg8eDDNmzfnt99+o0CBAna3Jx62du1a3njjDWrUqGF3K+JhR44coX79+jRu3JglS5ZQokQJtm3bxjXXXGN3a+JB48ePZ+rUqcycOZNq1arx008/0b17dwoXLsxTTz1ld3tiEy2HJX7j4MGDlCxZkhUrVtCwYUO72xEPOnHiBDfddBOvv/46Y8aM4cYbb2TSpEl2tyUeMmjQIL799ltWrVpldyuSi9q0aUOpUqV45513Mmrt27cnX758vPfeezZ2JnbSVAHxG8eOHQOgaNGiNncinta7d29at25Ns2bN7G5FcsHChQu5+eab6dixIyVLlqRWrVq89dZbdrclHlavXj2++uor/vjjDwDWr1/P6tWradmypc2diZ00VUD8gtvtJi4ujvr163PDDTfY3Y540IcffsjPP//M2rVr7W5Fcsmff/7J1KlT6devH4MHD2bt2rU89dRT5M2bl65du9rdnnjIoEGDSEpKokqVKjidTtLS0nj++ef5z3/+Y3drYiMFV/ELvXv3ZtOmTaxevdruVsSDdu/eTZ8+fVi6dCmhoaF2tyO5xO12c/PNNzN27FgAatWqxaZNm5g2bZqCqx/7+OOPef/995kzZw7VqlXj119/JS4ujtKlS+u6BzAFV/F5TzzxBIsWLWLlypVERkba3Y540Lp16zhw4AA33XRTRi0tLY2VK1fy3//+l5SUFJxOp40diidERERQtWrVTLXrr7+eTz75xKaOJDcMGDCAQYMGcd999wFQvXp1/vrrL8aNG6fgGsAUXMVnWZbFk08+yfz581m+fDnR0dF2tyQe1rRpUzZu3Jip1r17d6pUqcIzzzyj0Oqn6tevn2Wpuz/++INrr73Wpo4kNyQnJxMUlPlWHKfTidvttqkj8QYKruKzevfuzZw5c/j0008pVKgQ+/btA6Bw4cLky5fP5u7EEwoVKpRlDnOBAgUoVqyY5jb7sb59+1KvXj3Gjh1Lp06d+PHHH3nzzTd588037W5NPOiuu+7i+eefp2zZslSrVo1ffvmFiRMn0qNHD7tbExtpOSzxWQ6HI9v69OnT6datW+42I7Zp1KiRlsMKAIsWLeLZZ59l27ZtREdH069fPx5++GG72xIPOn78OEOHDmX+/PkcOHCA0qVL07lzZ4YNG0bevHntbk9souAqIiIiIj5B67iKiIiIiE9QcBURERERn6DgKiIiIiI+QcFVRERERHyCgquIiIiI+AQFVxERERHxCQquIiIiIuITFFxFRERExCcouIqIiIiIT1BwFRERERGfoOAqIiIiIj5BwVVExAccPHiQ8PBwxo4dm1H77rvvyJs3L1999ZWNnYmI5B6HZVmW3U2IiMjFLV68mHbt2vHdd99RuXJlbrzxRtq2bcvEiRPtbk1EJFcouIqI+JDevXuzbNkybr75ZjZu3MjatWsJCQmxuy0RkVyh4Coi4kNOnTrFDTfcwO7du1m3bh3Vq1e3uyURkVyjOa4iIj5kx44d7N27F7fbza5du+xuR0QkV2nEVUTER6SmpnLrrbdy4403UrlyZSZNmsTGjRspWbKk3a2JiOQKBVcRER8xYMAA5s2bx/r16ylYsCC33347hQsXZtGiRXa3JiKSKzRVQETEByxfvpxJkyYxe/ZswsLCCAoKYvbs2axatYqpU6fa3Z6ISK7QiKuIiIiI+ASNuIqIiIiIT1BwFRERERGfoOAqIiIiIj5BwVVEREREfIKCq4iIiIj4BAVXEREREfEJCq4iIiIi4hMUXEVERETEJyi4ioiIiIhPUHAVEREREZ+g4CoiIiIiPuH/ACec7ZOn2HMvAAAAAElFTkSuQmCC\n"
                },
                "metadata": {}
              },
              {
                "output_type": "display_data",
                "data": {
                  "text/plain": "0"
                },
                "metadata": {}
              }
            ]
          }
        },
        "5e4130f4e78f4131b80fefd7020e03e8": {
          "model_module": "@jupyter-widgets/base",
          "model_name": "LayoutModel",
          "model_module_version": "1.2.0",
          "state": {
            "_model_module": "@jupyter-widgets/base",
            "_model_module_version": "1.2.0",
            "_model_name": "LayoutModel",
            "_view_count": null,
            "_view_module": "@jupyter-widgets/base",
            "_view_module_version": "1.2.0",
            "_view_name": "LayoutView",
            "align_content": null,
            "align_items": null,
            "align_self": null,
            "border": null,
            "bottom": null,
            "display": null,
            "flex": null,
            "flex_flow": null,
            "grid_area": null,
            "grid_auto_columns": null,
            "grid_auto_flow": null,
            "grid_auto_rows": null,
            "grid_column": null,
            "grid_gap": null,
            "grid_row": null,
            "grid_template_areas": null,
            "grid_template_columns": null,
            "grid_template_rows": null,
            "height": null,
            "justify_content": null,
            "justify_items": null,
            "left": null,
            "margin": null,
            "max_height": null,
            "max_width": null,
            "min_height": null,
            "min_width": null,
            "object_fit": null,
            "object_position": null,
            "order": null,
            "overflow": null,
            "overflow_x": null,
            "overflow_y": null,
            "padding": null,
            "right": null,
            "top": null,
            "visibility": null,
            "width": null
          }
        },
        "f0423784d39b43f9ac04c5564a58f70c": {
          "model_module": "@jupyter-widgets/base",
          "model_name": "LayoutModel",
          "model_module_version": "1.2.0",
          "state": {
            "_model_module": "@jupyter-widgets/base",
            "_model_module_version": "1.2.0",
            "_model_name": "LayoutModel",
            "_view_count": null,
            "_view_module": "@jupyter-widgets/base",
            "_view_module_version": "1.2.0",
            "_view_name": "LayoutView",
            "align_content": null,
            "align_items": null,
            "align_self": null,
            "border": null,
            "bottom": null,
            "display": null,
            "flex": null,
            "flex_flow": null,
            "grid_area": null,
            "grid_auto_columns": null,
            "grid_auto_flow": null,
            "grid_auto_rows": null,
            "grid_column": null,
            "grid_gap": null,
            "grid_row": null,
            "grid_template_areas": null,
            "grid_template_columns": null,
            "grid_template_rows": null,
            "height": null,
            "justify_content": null,
            "justify_items": null,
            "left": null,
            "margin": null,
            "max_height": null,
            "max_width": null,
            "min_height": null,
            "min_width": null,
            "object_fit": null,
            "object_position": null,
            "order": null,
            "overflow": null,
            "overflow_x": null,
            "overflow_y": null,
            "padding": null,
            "right": null,
            "top": null,
            "visibility": null,
            "width": null
          }
        },
        "ad6ab01a9c40443396a98ce75adf6360": {
          "model_module": "@jupyter-widgets/controls",
          "model_name": "SliderStyleModel",
          "model_module_version": "1.5.0",
          "state": {
            "_model_module": "@jupyter-widgets/controls",
            "_model_module_version": "1.5.0",
            "_model_name": "SliderStyleModel",
            "_view_count": null,
            "_view_module": "@jupyter-widgets/base",
            "_view_module_version": "1.2.0",
            "_view_name": "StyleView",
            "description_width": "",
            "handle_color": null
          }
        },
        "8bb96bfccfd14d6c8c7a2109a8cc95ac": {
          "model_module": "@jupyter-widgets/base",
          "model_name": "LayoutModel",
          "model_module_version": "1.2.0",
          "state": {
            "_model_module": "@jupyter-widgets/base",
            "_model_module_version": "1.2.0",
            "_model_name": "LayoutModel",
            "_view_count": null,
            "_view_module": "@jupyter-widgets/base",
            "_view_module_version": "1.2.0",
            "_view_name": "LayoutView",
            "align_content": null,
            "align_items": null,
            "align_self": null,
            "border": null,
            "bottom": null,
            "display": null,
            "flex": null,
            "flex_flow": null,
            "grid_area": null,
            "grid_auto_columns": null,
            "grid_auto_flow": null,
            "grid_auto_rows": null,
            "grid_column": null,
            "grid_gap": null,
            "grid_row": null,
            "grid_template_areas": null,
            "grid_template_columns": null,
            "grid_template_rows": null,
            "height": null,
            "justify_content": null,
            "justify_items": null,
            "left": null,
            "margin": null,
            "max_height": null,
            "max_width": null,
            "min_height": null,
            "min_width": null,
            "object_fit": null,
            "object_position": null,
            "order": null,
            "overflow": null,
            "overflow_x": null,
            "overflow_y": null,
            "padding": null,
            "right": null,
            "top": null,
            "visibility": null,
            "width": null
          }
        },
        "a6ca41b3c4f2437da9a07c78c1b384eb": {
          "model_module": "@jupyter-widgets/controls",
          "model_name": "SliderStyleModel",
          "model_module_version": "1.5.0",
          "state": {
            "_model_module": "@jupyter-widgets/controls",
            "_model_module_version": "1.5.0",
            "_model_name": "SliderStyleModel",
            "_view_count": null,
            "_view_module": "@jupyter-widgets/base",
            "_view_module_version": "1.2.0",
            "_view_name": "StyleView",
            "description_width": "",
            "handle_color": null
          }
        },
        "98edae458b534ab8b58aa3de9816a586": {
          "model_module": "@jupyter-widgets/base",
          "model_name": "LayoutModel",
          "model_module_version": "1.2.0",
          "state": {
            "_model_module": "@jupyter-widgets/base",
            "_model_module_version": "1.2.0",
            "_model_name": "LayoutModel",
            "_view_count": null,
            "_view_module": "@jupyter-widgets/base",
            "_view_module_version": "1.2.0",
            "_view_name": "LayoutView",
            "align_content": null,
            "align_items": null,
            "align_self": null,
            "border": null,
            "bottom": null,
            "display": null,
            "flex": null,
            "flex_flow": null,
            "grid_area": null,
            "grid_auto_columns": null,
            "grid_auto_flow": null,
            "grid_auto_rows": null,
            "grid_column": null,
            "grid_gap": null,
            "grid_row": null,
            "grid_template_areas": null,
            "grid_template_columns": null,
            "grid_template_rows": null,
            "height": null,
            "justify_content": null,
            "justify_items": null,
            "left": null,
            "margin": null,
            "max_height": null,
            "max_width": null,
            "min_height": null,
            "min_width": null,
            "object_fit": null,
            "object_position": null,
            "order": null,
            "overflow": null,
            "overflow_x": null,
            "overflow_y": null,
            "padding": null,
            "right": null,
            "top": null,
            "visibility": null,
            "width": null
          }
        }
      }
    }
  },
  "nbformat": 4,
  "nbformat_minor": 5
}