{
  "cells": [
    {
      "cell_type": "markdown",
      "source": [
        "# Acknowledgements"
      ],
      "metadata": {
        "id": "zbOcojMuQrYw"
      },
      "id": "zbOcojMuQrYw"
    },
    {
      "cell_type": "markdown",
      "id": "b4040901",
      "metadata": {
        "id": "b4040901"
      },
      "source": [
        "Notebook developed by Andrew Ferguson for the UChicago course MENG15100: Machine Learning and Artificial Intelligence for Molecular Discovery and Engineering."
      ]
    },
    {
      "cell_type": "markdown",
      "metadata": {
        "id": "8b1b7562"
      },
      "source": [
        "## Data"
      ],
      "id": "8b1b7562"
    },
    {
      "cell_type": "markdown",
      "metadata": {
        "id": "58a13340"
      },
      "source": [
        "Let's start by importing some training data from a csv file using pandas.\n",
        "\n",
        "We will start working with a simple data set with one input variable $x$ and one output variable $y$."
      ],
      "id": "58a13340"
    },
    {
      "cell_type": "code",
      "source": [
        "import pandas as pd\n",
        "\n",
        "# Replace with the actual raw GitHub URL of your file\n",
        "github_raw_url = 'https://raw.githubusercontent.com/andrewlferguson/MENG15100/main/notebooks/M3/linreg.csv'\n",
        "\n",
        "# Load the data into a Pandas DataFrame\n",
        "df = pd.read_csv(github_raw_url)\n",
        "\n",
        "# Show the data\n",
        "print(df)"
      ],
      "metadata": {
        "id": "SWxtHUlIU4hh",
        "colab": {
          "base_uri": "https://localhost:8080/"
        },
        "outputId": "03d157a8-744e-48ed-daff-ee39021fbee6"
      },
      "id": "SWxtHUlIU4hh",
      "execution_count": 13,
      "outputs": [
        {
          "output_type": "stream",
          "name": "stdout",
          "text": [
            "           x          y\n",
            "0   0.526316   2.039261\n",
            "1   1.052632   4.926956\n",
            "2   1.578947   7.993428\n",
            "3   2.105263   5.794851\n",
            "4   2.631579   7.110673\n",
            "5   3.157895  12.053162\n",
            "6   3.684211  11.745396\n",
            "7   4.210526  10.587367\n",
            "8   4.736842  13.927225\n",
            "9   5.263158  13.231059\n",
            "10  5.789474  14.542225\n",
            "11  6.315789  17.273398\n",
            "12  6.842105  14.278703\n",
            "13  7.368421  15.971217\n",
            "14  7.894737  19.612267\n",
            "15  8.421053  20.026969\n",
            "16  8.947368  23.996916\n",
            "17  9.473684  22.868162\n"
          ]
        }
      ]
    },
    {
      "cell_type": "markdown",
      "source": [
        "It is our goal to fit a linear regression model to these data of the form $y = \\phi_0 + \\phi_1 x$.\n",
        "\n",
        "Recall that $\\{\\phi_0, \\phi_1\\}$ are the trainable parameters of our model, $x$ is the input data, and $y$ is the output data.\n",
        "\n",
        "In this simple example, mainly to make plotting easy, the $x$ data are just one dimensional (i.e., there is a single $x$ feature associated with each of the 18 instances or in the training data)."
      ],
      "metadata": {
        "id": "cnE3cTU5B8WB"
      },
      "id": "cnE3cTU5B8WB"
    },
    {
      "cell_type": "markdown",
      "source": [
        "# Human Learning"
      ],
      "metadata": {
        "id": "xRTrNKnXB21S"
      },
      "id": "xRTrNKnXB21S"
    },
    {
      "cell_type": "markdown",
      "source": [
        "Now let's do some graphical exploration and \"human learning\" where we will guess the optimal values of the linear regression fitting parameters $\\phi_0$ (intercept) and $\\phi_1$ (slope).\n",
        "\n",
        "We will use matplotlib to make an interactive plot."
      ],
      "metadata": {
        "id": "cHhbYs4Z_kD3"
      },
      "id": "cHhbYs4Z_kD3"
    },
    {
      "cell_type": "code",
      "source": [
        "import pandas as pd\n",
        "import matplotlib.pyplot as plt\n",
        "import numpy as np\n",
        "from ipywidgets import interact, FloatSlider\n",
        "\n",
        "# Load CSV data\n",
        "x = df['x'].values\n",
        "y = df['y'].values\n",
        "\n",
        "# Define the interactive plot function\n",
        "def plot_line(slope=2.0, intercept=1.0):\n",
        "    y_line = slope * x + intercept\n",
        "\n",
        "    plt.figure(figsize=(8, 5))\n",
        "    plt.scatter(x, y, color='blue', label='Data')\n",
        "    plt.plot(x, y_line, color='red', label=f'y = {slope:.2f}x + {intercept:.2f}')\n",
        "    plt.xlabel('x')\n",
        "    plt.ylabel('y')\n",
        "    plt.title('Interactive Linear Fit')\n",
        "    plt.grid(True)\n",
        "    plt.legend()\n",
        "    plt.show()\n",
        "\n",
        "# Sliders for slope and intercept\n",
        "interact(\n",
        "    plot_line,\n",
        "    slope=FloatSlider(value=2.0, min=-10, max=10, step=0.2, description='Slope'),\n",
        "    intercept=FloatSlider(value=1.0, min=-10, max=10, step=0.2, description='Intercept')\n",
        ")\n"
      ],
      "metadata": {
        "colab": {
          "base_uri": "https://localhost:8080/",
          "height": 656,
          "referenced_widgets": [
            "f2c26e820d4344ed9e843ee24733e8e8",
            "ae225c7affeb4b78a7c86e21113cdb10",
            "d23ca781e3f24590a8f886a65bb8c080",
            "c8f66235b4844f179c792a867be7ec8d",
            "5e4130f4e78f4131b80fefd7020e03e8",
            "f0423784d39b43f9ac04c5564a58f70c",
            "ad6ab01a9c40443396a98ce75adf6360",
            "8bb96bfccfd14d6c8c7a2109a8cc95ac",
            "a6ca41b3c4f2437da9a07c78c1b384eb",
            "98edae458b534ab8b58aa3de9816a586"
          ]
        },
        "id": "nMN1a0fb_hJe",
        "outputId": "8af54a5f-be83-4cc5-e775-04f6815bb7a6"
      },
      "id": "nMN1a0fb_hJe",
      "execution_count": 23,
      "outputs": [
        {
          "output_type": "display_data",
          "data": {
            "text/plain": [
              "interactive(children=(FloatSlider(value=2.0, description='Slope', max=10.0, min=-10.0, step=0.2), FloatSlider(…"
            ],
            "application/vnd.jupyter.widget-view+json": {
              "version_major": 2,
              "version_minor": 0,
              "model_id": "f2c26e820d4344ed9e843ee24733e8e8"
            }
          },
          "metadata": {}
        },
        {
          "output_type": "execute_result",
          "data": {
            "text/plain": [
              "<function __main__.plot_line(slope=2.0, intercept=1.0)>"
            ],
            "text/html": [
              "<div style=\"max-width:800px; border: 1px solid var(--colab-border-color);\"><style>\n",
              "      pre.function-repr-contents {\n",
              "        overflow-x: auto;\n",
              "        padding: 8px 12px;\n",
              "        max-height: 500px;\n",
              "      }\n",
              "\n",
              "      pre.function-repr-contents.function-repr-contents-collapsed {\n",
              "        cursor: pointer;\n",
              "        max-height: 100px;\n",
              "      }\n",
              "    </style>\n",
              "    <pre style=\"white-space: initial; background:\n",
              "         var(--colab-secondary-surface-color); padding: 8px 12px;\n",
              "         border-bottom: 1px solid var(--colab-border-color);\"><b>plot_line</b><br/>def plot_line(slope=2.0, intercept=1.0)</pre><pre class=\"function-repr-contents function-repr-contents-collapsed\" style=\"\"><a class=\"filepath\" style=\"display:none\" href=\"#\">/tmp/ipython-input-4215990543.py</a>&lt;no docstring&gt;</pre></div>"
            ]
          },
          "metadata": {},
          "execution_count": 23
        }
      ]
    },
    {
      "cell_type": "markdown",
      "source": [
        "What appears to be a good choice for $\\phi_0$ (intercept) and $\\phi_1$ (slope)?\n",
        "\n",
        "Enter them here:"
      ],
      "metadata": {
        "id": "296ip4m1CuH5"
      },
      "id": "296ip4m1CuH5"
    },
    {
      "cell_type": "code",
      "source": [
        "phi_0_HUMAN = 0.0\n",
        "phi_1_HUMAN = 0.0"
      ],
      "metadata": {
        "id": "DrHKcvWhC4fl"
      },
      "id": "DrHKcvWhC4fl",
      "execution_count": 27,
      "outputs": []
    },
    {
      "cell_type": "markdown",
      "source": [
        "# Machine Learning"
      ],
      "metadata": {
        "id": "BwlO_6DRCrLk"
      },
      "id": "BwlO_6DRCrLk"
    },
    {
      "cell_type": "markdown",
      "source": [
        "OK, now let's let the machine do the work by asking it to find the $\\boldsymbol\\phi = \\{\\phi_0,\\phi_1\\}$ that minimize the least squares loss function $L[\\boldsymbol\\phi] = \\sum_i (\\hat y_i - y_i)^2$.\n",
        "\n",
        "We recall that the loss function is the sum of square residuals: $y_i$ is the true value of $y$ in data instance $i$ and $\\hat y_i = f(x_i) = \\phi_0 + \\phi_1 x_i$ is the prediction of our model.\n",
        "\n",
        "The learning algorithm will optimize $\\boldsymbol\\phi = \\{\\phi_0,\\phi_1\\}$ by finding the lowest point on the loss lanscape $L[\\boldsymbol\\phi]$.\n",
        "\n",
        "One way to find the minimum is by gradient descent and this is the method of choice for large machine learning problems. For linear regression, it turns out that there is a closed form analytical solution that we can use to get there more efficiently, but we wind up in the same place either way.\n",
        "\n",
        "We will use scikit-learn (sklearn) to solve the problem for us."
      ],
      "metadata": {
        "id": "ZOEBwu_8NtPi"
      },
      "id": "ZOEBwu_8NtPi"
    },
    {
      "cell_type": "code",
      "source": [
        "import pandas as pd\n",
        "import numpy as np\n",
        "import matplotlib.pyplot as plt\n",
        "from sklearn.linear_model import LinearRegression\n",
        "\n",
        "# Load CSV data\n",
        "x = df['x'].values.reshape(-1, 1)\n",
        "y = df['y'].values.reshape(-1, 1)\n",
        "\n",
        "# Fit linear regression\n",
        "model = LinearRegression()\n",
        "model.fit(x, y)\n",
        "y_pred = model.predict(x)\n",
        "\n",
        "# Get slope and intercept\n",
        "slope = model.coef_[0]\n",
        "intercept = model.intercept_\n",
        "\n",
        "# Calculate residuals and loss\n",
        "residuals = y - y_pred\n",
        "squared_loss = np.sum(residuals**2)\n",
        "\n",
        "# Plot data, best-fit line, and residuals\n",
        "plt.figure(figsize=(10, 6))\n",
        "plt.scatter(x, y, color='blue', label='Data Points')\n",
        "plt.plot(x, y_pred, color='red', label='Best Fit Line')\n",
        "\n",
        "# Plot residuals\n",
        "for xi, yi, ypi in zip(x, y, y_pred):\n",
        "    plt.vlines(xi, ypi, yi, color='gray', linestyle='dashed')\n",
        "\n",
        "# Annotate least squares loss\n",
        "plt.text(0.05, 0.95, f'Least Squares Loss = {squared_loss:.2f}',\n",
        "         transform=plt.gca().transAxes,\n",
        "         fontsize=12,\n",
        "         verticalalignment='top',\n",
        "         bbox=dict(boxstyle='round,pad=0.4', facecolor='lightyellow', edgecolor='black'))\n",
        "\n",
        "# Final touches\n",
        "plt.xlabel('x')\n",
        "plt.ylabel('y')\n",
        "plt.title('Linear Regression with Residuals and Least Squares Loss')\n",
        "plt.legend()\n",
        "plt.grid(True)\n",
        "plt.tight_layout()\n",
        "plt.show()\n",
        "\n",
        "# Reporting out best fit slope and intercept\n",
        "print(f\"Best Fit Slope (phi_1): {slope[0]:.2f}\")\n",
        "print(f\"Best Fit Intercept (phi_0): {intercept[0]:.2f}\")"
      ],
      "metadata": {
        "colab": {
          "base_uri": "https://localhost:8080/",
          "height": 644
        },
        "id": "R0XoScJQ_5AH",
        "outputId": "a70dfee7-7455-4b23-f7b1-ae2e54a44ea9"
      },
      "id": "R0XoScJQ_5AH",
      "execution_count": 30,
      "outputs": [
        {
          "output_type": "display_data",
          "data": {
            "text/plain": [
              "<Figure size 1000x600 with 1 Axes>"
            ],
            "image/png": "[encoded data removed]"
          },
          "metadata": {}
        },
        {
          "output_type": "stream",
          "name": "stdout",
          "text": [
            "Best Fit Slope (phi_1): 2.12\n",
            "Best Fit Intercept (phi_0): 2.61\n"
          ]
        }
      ]
    },
    {
      "cell_type": "code",
      "source": [],
      "metadata": {
        "id": "PeSjpkJFPgIC"
      },
      "id": "PeSjpkJFPgIC",
      "execution_count": null,
      "outputs": []
    }
  ],
  "metadata": {
    "kernelspec": {
      "display_name": "Python 3",
      "name": "python3"
    },
    "colab": {
      "provenance": []
    },
    "widgets": {
      "application/vnd.jupyter.widget-state+json": {
        "f2c26e820d4344ed9e843ee24733e8e8": {
          "model_module": "@jupyter-widgets/controls",
          "model_name": "VBoxModel",
          "model_module_version": "1.5.0",
          "state": {
            "_dom_classes": [
              "widget-interact"
            ],
            "_model_module": "@jupyter-widgets/controls",
            "_model_module_version": "1.5.0",
            "_model_name": "VBoxModel",
            "_view_count": null,
            "_view_module": "@jupyter-widgets/controls",
            "_view_module_version": "1.5.0",
            "_view_name": "VBoxView",
            "box_style": "",
            "children": [
              "IPY_MODEL_ae225c7affeb4b78a7c86e21113cdb10",
              "IPY_MODEL_d23ca781e3f24590a8f886a65bb8c080",
              "IPY_MODEL_c8f66235b4844f179c792a867be7ec8d"
            ],
            "layout": "IPY_MODEL_5e4130f4e78f4131b80fefd7020e03e8"
          }
        },
        "ae225c7affeb4b78a7c86e21113cdb10": {
          "model_module": "@jupyter-widgets/controls",
          "model_name": "FloatSliderModel",
          "model_module_version": "1.5.0",
          "state": {
            "_dom_classes": [],
            "_model_module": "@jupyter-widgets/controls",
            "_model_module_version": "1.5.0",
            "_model_name": "FloatSliderModel",
            "_view_count": null,
            "_view_module": "@jupyter-widgets/controls",
            "_view_module_version": "1.5.0",
            "_view_name": "FloatSliderView",
            "continuous_update": true,
            "description": "Slope",
            "description_tooltip": null,
            "disabled": false,
            "layout": "IPY_MODEL_f0423784d39b43f9ac04c5564a58f70c",
            "max": 10,
            "min": -10,
            "orientation": "horizontal",
            "readout": true,
            "readout_format": ".2f",
            "step": 0.2,
            "style": "IPY_MODEL_ad6ab01a9c40443396a98ce75adf6360",
            "value": 2
          }
        },
        "d23ca781e3f24590a8f886a65bb8c080": {
          "model_module": "@jupyter-widgets/controls",
          "model_name": "FloatSliderModel",
          "model_module_version": "1.5.0",
          "state": {
            "_dom_classes": [],
            "_model_module": "@jupyter-widgets/controls",
            "_model_module_version": "1.5.0",
            "_model_name": "FloatSliderModel",
            "_view_count": null,
            "_view_module": "@jupyter-widgets/controls",
            "_view_module_version": "1.5.0",
            "_view_name": "FloatSliderView",
            "continuous_update": true,
            "description": "Intercept",
            "description_tooltip": null,
            "disabled": false,
            "layout": "IPY_MODEL_8bb96bfccfd14d6c8c7a2109a8cc95ac",
            "max": 10,
            "min": -10,
            "orientation": "horizontal",
            "readout": true,
            "readout_format": ".2f",
            "step": 0.2,
            "style": "IPY_MODEL_a6ca41b3c4f2437da9a07c78c1b384eb",
            "value": -3.2
          }
        },
        "c8f66235b4844f179c792a867be7ec8d": {
          "model_module": "@jupyter-widgets/output",
          "model_name": "OutputModel",
          "model_module_version": "1.0.0",
          "state": {
            "_dom_classes": [],
            "_model_module": "@jupyter-widgets/output",
            "_model_module_version": "1.0.0",
            "_model_name": "OutputModel",
            "_view_count": null,
            "_view_module": "@jupyter-widgets/output",
            "_view_module_version": "1.0.0",
            "_view_name": "OutputView",
            "layout": "IPY_MODEL_98edae458b534ab8b58aa3de9816a586",
            "msg_id": "",
            "outputs": [
              {
                "output_type": "display_data",
                "data": {
                  "text/plain": "<Figure size 800x500 with 1 Axes>",
                  "image/png": "iVBORw0KGgoAAAANSUhEUgAAAq4AAAHWCAYAAAC2Zgs3AAAAOnRFWHRTb2Z0d2FyZQBNYXRwbG90bGliIHZlcnNpb24zLjEwLjAsIGh0dHBzOi8vbWF0cGxvdGxpYi5vcmcvlHJYcgAAAAlwSFlzAAAPYQAAD2EBqD+naQAAWxFJREFUeJzt3Xd8VFX+//H3ZEghQOiQQEJXuqigCBqkN0UwgAJKE0UksCBf+29VUNeyD1dxkaargAirggERAQUViIIoWAAVpAqEUCUJEEiZub8/ziYhJPRM7pTX8/GYB5kzdyaf5AZ458znnuOwLMsSAAAA4OWC7C4AAAAAuBgEVwAAAPgEgisAAAB8AsEVAAAAPoHgCgAAAJ9AcAUAAIBPILgCAADAJxBcAQAA4BMIrgAAAPAJBFcAKAZDhgxRrVq17C6jUDNnzpTD4dDu3bvtLsUjxo8fL4fDYXcZAIoAwRWAx+UEo/Xr11/yc9PT0zV+/HitXLmy6AsrYvv379f48eP1888/211KriFDhqh06dJ2l+FRbdu2lcPhKPS2ZcuWQp/z4osvauHChcVbKIArVsLuAgDgfNLT0zVhwgRJJqB4s/3792vChAmqVauWrr322nyPvf3223K73fYUdgEDBw5Uv379FBoaancply06OlovvfRSgfFq1arp73//u5544ol84y+++KL69OmjXr16FVOFAIoCwRVAQDp58qRKlSpVbJ8vODi42D7XpXI6nXI6nXaXcU5ut1uZmZkKCws75zFly5bVvffee87HS5TgvzvAH9AqAMAWOW9hJyUlqVevXipdurQqV66sRx55RC6XS5K0e/duVa5cWZI0YcKE3Ld/x48fn/s6W7ZsUZ8+fVShQgWFhYWpRYsWWrRoUb7PldOqsGrVKo0cOVJVqlRRdHS0JOnPP//UyJEjVb9+fZUsWVIVK1ZU3759C+33TElJ0cMPP6xatWopNDRU0dHRGjRokI4cOaKVK1fqhhtukCQNHTo0t9aZM2fmfr05Pa5ZWVmqUKGChg4dWuBzpKWlKSwsTI888kjuWEZGhp599lnVq1dPoaGhiomJ0WOPPaaMjIzL+t6frbAe11q1aun222/XN998oxtvvFFhYWGqU6eO3nvvvUK/L2PHjlVMTIxCQ0NVr149vfLKKwVmmF999VW1bt1aFStWVMmSJdW8eXPNnz+/wOs5HA6NGjVKc+bMUePGjRUaGqply5Zd9td3do+rw+HQyZMnNWvWrNzzNGTIkMt+fQDFh19BAdjG5XKpS5cuatmypV599VWtWLFC//rXv1S3bl099NBDqly5sqZOnaqHHnpId955p+Li4iRJ11xzjSTp119/1c0336zq1avriSeeUKlSpfTRRx+pV69e+vjjj3XnnXfm+3wjR45U5cqV9cwzz+jkyZOSpB9++EFr1qxRv379FB0drd27d2vq1Klq27atfvvtN4WHh0uSTpw4odjYWP3++++67777dP311+vIkSNatGiR9u3bp4YNG+q5557TM888o+HDhys2NlaS1Lp16wJfd3BwsO68804lJCRo+vTpCgkJyX1s4cKFysjIUL9+/SSZ2cY77rhD33zzjYYPH66GDRtq06ZNev311/XHH394tE9z+/bt6tOnj4YNG6bBgwfr3Xff1ZAhQ9S8eXM1btxYkmnluPXWW5WUlKQHH3xQNWrU0Jo1a/Tkk08qOTlZEydOzH29N954Q3fccYfuueceZWZm6oMPPlDfvn21ePFi3Xbbbfk+91dffaWPPvpIo0aNUqVKlS54YZvL5dKRI0fyjYWFhRXa3zt79mzdf//9uvHGGzV8+HBJUt26dS/jOwSg2FkA4GEzZsywJFk//PBD7tjgwYMtSdZzzz2X79jrrrvOat68ee79w4cPW5KsZ599tsDrdujQwWratKl1+vTp3DG32221bt3auuqqqwp8/ltuucXKzs7O9xrp6ekFXnft2rWWJOu9997LHXvmmWcsSVZCQkKB491ut2VZlvXDDz9YkqwZM2YUOGbw4MFWzZo1c+9//vnnliTr008/zXdc9+7drTp16uTenz17thUUFGQlJibmO27atGmWJOvbb78t8LnO/rylSpU67zE5359du3bljtWsWdOSZK1evTp37NChQ1ZoaKj1f//3f7ljzz//vFWqVCnrjz/+yPeaTzzxhOV0Oq09e/bkjp39vc7MzLSaNGlitW/fPt+4JCsoKMj69ddfz1t3jltvvdWSVOA2ePBgy7Is69lnn7XO/u+uVKlSuY8D8B20CgCw1YgRI/Ldj42N1c6dOy/4vL/++ktfffWV7rrrLh0/flxHjhzRkSNHdPToUXXp0kXbtm1TUlJSvuc88MADBXo5S5YsmftxVlaWjh49qnr16qlcuXL68ccfcx/7+OOP1axZswKzuJIua6ml9u3bq1KlSvrwww9zx44dO6bly5fr7rvvzh2bN2+eGjZsqAYNGuR+jUeOHFH79u0lSV9//fUlf+6L1ahRo9yZY0mqXLmy6tevn+/8zJs3T7GxsSpfvny++jp27CiXy6XVq1fnHnvm9/rYsWNKTU1VbGxsvu9zjltvvVWNGjW66Fpr1aql5cuX57s99thjl/olA/BytAoAsE1YWFhuD2uO8uXL69ixYxd87vbt22VZlp5++mk9/fTThR5z6NAhVa9ePfd+7dq1Cxxz6tQpvfTSS5oxY4aSkpJkWVbuY6mpqbkf79ixQ717975gXRerRIkS6t27t+bOnauMjAyFhoYqISFBWVlZ+YLrtm3b9Pvvvxf4PuU4dOhQkdV0tho1ahQYO/v8bNu2TRs3bryo+hYvXqwXXnhBP//8c77+3MKCf2Hn6nxKlSqljh07XtJzAPgegisA21zJlew5F/488sgj6tKlS6HH1KtXL9/9M2f8cowePVozZszQ2LFj1apVK5UtW1YOh0P9+vXz+PJV/fr10/Tp07V06VL16tVLH330kRo0aKBmzZrlHuN2u9W0aVO99tprhb5GTEyMx+o71/k5M9y73W516tTpnLObV199tSQpMTFRd9xxh9q0aaMpU6YoKipKwcHBmjFjhubOnVvgeYWdKwAguALwaud6G75OnTqSzIVOVzLTNn/+fA0ePFj/+te/csdOnz6tlJSUfMfVrVtXmzdvvqxaz6VNmzaKiorShx9+qFtuuUVfffWV/t//+38FPu8vv/yiDh06eOXuT3Xr1tWJEycueA4+/vhjhYWF6fPPP8+3XuyMGTM8XWKhvPF7CeDC6HEF4NVyruo/O0hWqVJFbdu21fTp05WcnFzgeYcPH76o13c6nflmECVp0qRJuUty5ejdu7d++eUXLViwoMBr5Dw/Z13Ys2s9l6CgIPXp00effvqpZs+erezs7HxtApJ01113KSkpSW+//XaB5586dSp3dQS73HXXXVq7dq0+//zzAo+lpKQoOztbkvk+OxyOfN/X3bt327Z7ValSpS76PAHwHsy4AvBqJUuWVKNGjfThhx/q6quvVoUKFdSkSRM1adJEkydP1i233KKmTZvqgQceUJ06dXTw4EGtXbtW+/bt0y+//HLB17/99ts1e/ZslS1bVo0aNdLatWu1YsUKVaxYMd9xjz76qObPn6++ffvqvvvuU/PmzfXXX39p0aJFmjZtmpo1a6a6deuqXLlymjZtmsqUKaNSpUqpZcuW5+3XvPvuuzVp0iQ9++yzatq0qRo2bJjv8YEDB+qjjz7SiBEj9PXXX+vmm2+Wy+XSli1b9NFHH+nzzz9XixYtzvs1ZmVl6YUXXigwXqFCBY0cOfKC36PzefTRR7Vo0SLdfvvtuUtlnTx5Ups2bdL8+fO1e/duVapUSbfddptee+01de3aVQMGDNChQ4c0efJk1atXTxs3bryiGi5H8+bNtWLFCr322muqVq2aateurZYtWxZ7HQAuDcEVgNf7z3/+o9GjR+vhhx9WZmamnn32WTVp0kSNGjXS+vXrNWHCBM2cOVNHjx5VlSpVdN111+mZZ565qNd+44035HQ6NWfOHJ0+fVo333yzVqxYUaBvtnTp0kpMTNSzzz6rBQsWaNasWapSpYo6dOiQu5lBcHCwZs2apSeffFIjRoxQdna2ZsyYcd7g2rp1a8XExGjv3r0FZlslMyu7cOFCvf7663rvvfe0YMEChYeHq06dOhozZkxuD+n5ZGZmFnoBW926da84uIaHh2vVqlV68cUXNW/ePL333nuKiIjQ1VdfrQkTJqhs2bKSzCoK77zzjl5++WWNHTtWtWvX1iuvvKLdu3fbElxfe+01DR8+XH//+9916tQpDR48mOAK+ACHdfZ7ZAAAAIAXoscVAAAAPoHgCgAAAJ9AcAUAAIBPILgCAADAJxBcAQAA4BMIrgAAAPAJfr+Oq9vt1v79+1WmTBm2+AMAAPBClmXp+PHjqlatmoKCzjOvatnoxRdftFq0aGGVLl3aqly5stWzZ09ry5Yt+Y659dZbLUn5bg8++OBFf469e/cWeD43bty4cePGjRs377vt3bv3vLnO1hnXVatWKT4+XjfccIOys7P11FNPqXPnzvrtt99y9/yWpAceeEDPPfdc7v2cvcsvRpkyZSRJe/fuVURERNEVD6+RlZWlL774Qp07d1ZwcLDd5aCYcN4DE+c9MHHe/V9aWppiYmJyc9u52Bpcly1blu/+zJkzVaVKFW3YsEFt2rTJHQ8PD1dkZORlfY6c9oCIiAiCq5/KyspSeHi4IiIi+ActgHDeAxPnPTBx3gPHhdo6varHNTU1VZJUoUKFfONz5szR+++/r8jISPXo0UNPP/30OWddMzIylJGRkXs/LS1Nkvmhz8rK8lDlsFPOeeX8BhbOe2DivAcmzrv/u9hz67Asy/JwLRfF7XbrjjvuUEpKir755pvc8bfeeks1a9ZUtWrVtHHjRj3++OO68cYblZCQUOjrjB8/XhMmTCgwPnfu3EtqMQAAAEDxSE9P14ABA5Samnred8i9Jrg+9NBDWrp0qb755htFR0ef87ivvvpKHTp00Pbt21W3bt0Cjxc24xoTE6MjR47QKuCnsrKytHz5cnXq1Im3kAII5z0wcd4DE+fd/6WlpalSpUoXDK5e0SowatQoLV68WKtXrz5vaJWkli1bStI5g2toaKhCQ0MLjAcHB5/zh92yLGVnZ8vlcl1G9bCby+VSiRIl5HK5zr+Eho9zOp0qUaIEy7qd5Xx/t+G/OO+BifPuvy72vNoaXC3L0ujRo7VgwQKtXLlStWvXvuBzfv75Z0lSVFRUkdSQmZmp5ORkpaenF8nrofhZlqXIyEjt3bvX70NdeHi4oqKiFBISYncpAAAUO1uDa3x8vObOnatPPvlEZcqU0YEDByRJZcuWVcmSJbVjxw7NnTtX3bt3V8WKFbVx40Y9/PDDatOmja655por/vxut1u7du2S0+lUtWrVFBIS4vfBxx+53W6dOHFCpUuX9tsZV8uylJmZqcOHD2vXrl266qqr/PZrBQDgXGwNrlOnTpUktW3bNt/4jBkzNGTIEIWEhGjFihWaOHGiTp48qZiYGPXu3Vt///vfi+TzZ2Zmyu12KyYmhgu3fJjb7VZmZqbCwsL8OsyVLFlSwcHB+vPPP3O/XgAAAontrQLnExMTo1WrVnm8Dn8OO/Av/KwCAAIZ/wsCAADAJ3jFqgIAAACQXC4pMVFKTpaioqTYWMnptLsq70FwBQAA8AIJCdKYMdK+fXlj0dHSG29IcXH21eVNaBXwUUOGDJHD4ZDD4VBwcLCqVq2qTp066d1335Xb7b7o15k5c6bKlSvnuUIBAMAFJSRIffrkD62SlJRkxs+xYWjAIbgWAZdLWrlS+u9/zZ/FtY9B165dlZycrN27d2vp0qVq166dxowZo9tvv13Z2dnFUwQAALgiLpeZaS3smvWcsbFjiy9feDOC6xVKSJBq1ZLatZMGDDB/1qpVPL8ZhYaGKjIyUtWrV9f111+vp556Sp988omWLl2qmTNnSpJee+01NW3aVKVKlVJMTIxGjhypEydOSJJWrlypoUOHKjU1NXf2dvz48ZKk2bNnq0WLFipTpowiIyM1YMAAHTp0yPNfFAAAASYxseBM65ksS9q71xwX6AiuV8Abp/Xbt2+vZs2aKeF/nzwoKEj//ve/9euvv2rWrFn66quv9Nhjj0mSWrdurYkTJyoiIkLJyclKTk7WI488IsnsC/3888/rl19+0cKFC7V7924NGTKk+L8gAAD8XHJy0R7nz7g46zJdaFrf4TDT+j17Fv/VgA0aNNDGjRslSWPHjs0dr1Wrll544QWNGDFCU6ZMUUhIiMqWLSuHw6HIyMh8r3HfffflflynTh39+9//1g033JC7QxUAACgaF7uLfRHtdu/TmHG9TN48rW9ZVu7WtStWrFCHDh1UvXp1lSlTRgMHDtTRo0eVnp5+3tfYsGGDevTooRo1aqhMmTK69dZbJUl79uzxeP0AAASS2FizesC5dp13OKSYGHNcoCO4XiZvntb//fffVbt2be3evVu33367rrnmGn388cfasGGDJk+eLMlsd3suJ0+eVJcuXRQREaE5c+bohx9+0IIFCy74PAAAcOmcTrPklVQwvObcnziR9Vwlgutl89Zp/a+++kqbNm1S7969tWHDBrndbv3rX//STTfdpKuvvlr79+/Pd3xISIhcZ12muGXLFh09elQvv/yyYmNj1aBBAy7MAgDAg+LipPnzperV849HR5tx1nE16HG9TDnT+klJhfe5OhzmcU9O62dkZOjAgQNyuVw6ePCgli1bppdeekm33367Bg0apM2bNysrK0uTJk1Sjx499O2332ratGn5XqNWrVo6ceKEvvzySzVr1kzh4eGqUaOGQkJCNGnSJI0YMUKbN2/W888/77kvBAAAKC7OXBvDzlnnxozrZfKGaf1ly5YpKipKtWrVUteuXfX111/r3//+tz755BM5nU41a9ZMr732ml555RU1adJEc+bM0UsvvZTvNVq3bq0RI0bo7rvvVuXKlfXPf/5TlStX1syZMzVv3jw1atRIL7/8sl599VXPfSEAAECSyQ1t20r9+5s/Ca35OSyrsPlC/5GWlqayZcsqNTVVERER+R47ffq0du3apdq1ayssLOyyXr+w7dliYkxoZVq/eLjdbqWlpSkiIkJBQf79u1hR/Mz6i6ysLC1ZskTdu3dXcHCw3eWgmHDeAxPn3f+dL6+diVaBK8S0PgAAQPEguBaBnGl9AAAAeA7BFQAAALlcLu99J5ngCgAAAEmFX7sTHW0uSPeGa3f8+0oWAAAAXJSEBKlPn4I7gyYlmfGEBHvqOhPBFQAAIMC5XGamtbC1pnLGxo41x9mJ4AoAABDgEhMLzrSeybKkvXvNcXYiuAIAAAS45OSiPc5TCK4AAAABLiqqaI/zFIIrAABAgIuNNasHnL2NfQ6Hw+wMGhtbvHWdjeCKC9q9e7eGDRum2rVrq2TJkqpbt66effZZZWZmnvd5p0+fVnx8vCpWrKjSpUurd+/eOnjwYL5j9uzZo9tuu03h4eGqUqWKHn30UWVnZ3vyy7ksDz74oOrWrauSJUuqcuXK6tmzp7Zs2XLO47OysvT444+radOmKlWqlKpVq6ZBgwZp//79+Y7766+/dM899ygiIkLlypXTsGHDdOLECU9/OQAA5ON0miWvpILhNef+xIn2r+dKcMUFbdmyRW63W9OnT9evv/6q119/XdOmTdNTTz113uc9/PDD+vTTTzVv3jytWrVK+/fvV9wZi8C5XC7ddtttyszM1Jo1azRr1izNnDlTzzzzTJHWX6tWLa1cufKKXqN58+aaMWOGfv/9d33++eeyLEudO3eW6xyXV6anp+vHH3/U008/rR9//FEJCQnaunWr7rjjjnzH3XPPPfr111+1fPlyLV68WKtXr9bw4cOvqFYAAC5HXJw0f75UvXr+8ehoM+4N67jK8nOpqamWJCs1NbXAY6dOnbJ+++0369SpU2bA7basEyfsubndF/X1zJo1y6pQoYJ1+vTpfOM9e/a07r333iv+fl2sf/7zn1bt2rXP+XhKSooVHBxszZs3L3fs999/tyRZa9eutSzLspYsWWIFBQVZBw4cyD1m6tSpVkREhJWRkWG53W6rQ4cOVufOnS33/74/R48etapXr249/fTTuc9xuVzWsWPHLJfLVWgtNWvWtL7++usr+XIL+OWXXyxJ1vbt2y/6Od9//70lyfrzzz8ty7Ks3377zZJk/fDDD7nHLF261HI4HFZSUlKhr1HgZzaAZWZmWgsXLrQyMzPtLgXFiPMemDjvxSs727K+/tqy5s41f2Zne/5zni+vnYkZ1zOlp0ulS9tzS0+/qBL79u0rl8ulRYsW5Y4dOnRIn332me67775zPq9x48YqXbr0OW/dunW7pG9VamqqKlSocM7HN2zYoKysLHXs2DF3rEGDBqpRo4bWrl0rSVq7dq2aNm2qqlWr5h7TpUsXpaWl6ddff5XD4dCsWbP0ww8/6N///rckacSIEapevXqRz8peipMnT2rGjBmqXbu2YmJiLvp5qampcjgcKleunCTz9ZcrV04tWrTIPaZjx44KCgrSunXrirpsAAAuitMptW0r9e9v/rS7PeBMbPnqY0qWLKkBAwZoxowZ6tu3ryTp/fffV40aNdS2bdtzPm/JkiXKyso67+terO3bt2vSpEl69dVXz3nMgQMHFBISkhvSclStWlUHDhzIPebM0JrzeM5jklS9enVNnz5dgwYN0oEDB7RkyRL99NNPKlGi+H90p0yZoscee0wnT55U/fr1tXz5coWEhFzUc0+fPq3HH39c/fv3V0REhCTzNVapUiXfcSVKlFCFChVyv34AAJCH4Hqm8HDJrgtjwsMv+tAHHnhAN9xwg5KSklS9enXNnDlTQ4YMkeNclwJKqlmzZlFUqaSkJHXt2lV9+/bVAw88UCSveSF9+/bVggUL9PLLL2vq1Km66qqrznv8iBEj9P777+feT09PV7du3eQ841fGc10A9eKLL+rFF1/Mvf/bb7+pRo0akkw/aqdOnZScnKxXX31Vd911l7799luFhYWdt56srCzdddddsixLU6dOveDXCwAACkdwPZPDIZUqZXcVF3TdddepWbNmeu+999S5c2f9+uuv+uyzz877nMaNG+vPP/885+OxsbFaunTpeV9j//79ateunVq3bq233nrrvMdGRkYqMzNTKSkp+WZdDx48qMjIyNxjvv/++3zPy1l1IOcYyQTPDRs2yOl0atu2bef9vJL03HPP6ZFHHsm937ZtW73yyitq2bLlBZ87YsQI3XXXXbn3q1Wrlvtx2bJlVbZsWV111VW66aabVL58eS1YsED9+/c/5+vlhNY///xTX331Ve5sa87XeOjQoXzHZ2dn66+//sr39QMAAIPg6qPuv/9+TZw4UUlJSerYseMFey2vtFUgKSlJ7dq1y726Pijo/O3RzZs3V3BwsL788kv17t1bkrR161bt2bNHrVq1kiS1atVK//jHP3To0KHct8yXL1+uiIgINWrUKPe1/u///k9BQUFaunSpunfvrttuu03t27c/5+euUqVKvrfgS5QooerVq6tevXrnrVmSKlSocN7e3RyWZcmyLGVkZJzzmJzQum3bNn399deqWLFivsdbtWqllJQUbdiwQc2bN5ckffXVV3K73RcVsgEACDiev07MXpe0qoAPSUlJscLDw62QkBDrgw8+8Ojn2rdvn1WvXj2rQ4cO1r59+6zk5OTc25nH1K9f31q3bl3u2IgRI6waNWpYX331lbV+/XqrVatWVqtWrXIfz87Otpo0aWJ17tzZ+vnnn61ly5ZZlStXtp588sncYxYvXmyFhIRYGzZssCzLsp588kkrOjra+uuvv3KP8fSqAjt27LBefPFFa/369daff/5pffvtt1aPHj2sChUqWAcPHsw9rn79+lZCQoJlWeYK2DvuuMOKjo62fv7553zfs4yMjNzndO3a1bruuuusdevWWd9884111VVXWf379z9nLb78M1vUuMo4MHHeAxPn3f+xqoCfK1u2rHr37q3SpUurV69eHv1cy5cv1/bt2/Xll18qOjpaUVFRubccWVlZ2rp1q9LPWB3h9ddf1+23367evXurTZs2ioyMVEJCQu7jTqdTixcvltPpVKtWrXTvvfdq0KBBeu655yRJhw8f1rBhwzR+/Hhdf/31kqQJEyaoatWqGjFihEe/5jOFhYUpMTFR3bt3V7169XT33XerTJkyWrNmTb6Z3a1btyo1NVWSmaFetGiR9u3bp2uvvTbf92zNmjW5z5kzZ44aNGigDh06qHv37rrlllsu2IYBAECgcliWZdldhCelpaWpbNmySk1NzddfKJkrvXft2qXatWtf8AIbb9ShQwc1btw4d6moQOV2u5WWlqaIiIgLtjD4Ol//mS1KWVlZWrJkibp3767g4GC7y0Ex4bwHJs67/ztfXjsTPa4+6NixY1q5cqVWrlypKVOm2F0OAABAsSC4+qDrrrtOx44d0yuvvKL69evbXQ4AAECxILj6oN27d9tdAgAAQLHz74ZAAAAA+A2Cq8yanIAv4GcVABDIAjq45lyZeOYSToA3y/lZ5apaAEAgCugeV6fTqXLlyuVuuxkeHi6Hw2FzVbhUbrdbmZmZOn36tN8uh2VZltLT03Xo0CGVK1dOTqfT7pIAACh2AR1cJeXuCX/2nvHwHZZl6dSpUypZsqTf/+JRrly53J9ZAAACTcAHV4fDoaioKFWpUkVZWVl2l4PLkJWVpdWrV6tNmzZ+/RZ6cHAwM60AgIAW8ME1h9PpJBT4KKfTqezsbIWFhfl1cAUAIND5Z0MgAAAA/A7BFQAAAD6B4AoAAACfQHAFAACATyC4AgAAwCcQXAEAAOATCK4AAADwCQRXAAAA+ASCKwAAAHwCO2cBAICA53JJiYlScrIUFSXFxkpsqOl9CK4AACCgJSRIY8ZI+/bljUVHS2+8IcXF2VcXCrK1VeCll17SDTfcoDJlyqhKlSrq1auXtm7dmu+Y06dPKz4+XhUrVlTp0qXVu3dvHTx40KaKAQCAP0lIkPr0yR9aJSkpyYwnJNhTFwpna3BdtWqV4uPj9d1332n58uXKyspS586ddfLkydxjHn74YX366aeaN2+eVq1apf379yuOX38AAMAVcrnMTKtlFXwsZ2zsWHMcvIOtrQLLli3Ld3/mzJmqUqWKNmzYoDZt2ig1NVXvvPOO5s6dq/bt20uSZsyYoYYNG+q7777TTTfdZEfZAADADyQmFpxpPZNlSXv3muPati22snAeXtXjmpqaKkmqUKGCJGnDhg3KyspSx44dc49p0KCBatSoobVr1xYaXDMyMpSRkZF7Py0tTZKUlZWlrKwsT5YPm+ScV85vYOG8BybOe2Dy1HlPTpZKlry44/iR86yLPbdeE1zdbrfGjh2rm2++WU2aNJEkHThwQCEhISpXrly+Y6tWraoDBw4U+jovvfSSJkyYUGD8iy++UHh4eJHXDe+xfPlyu0uADTjvgYnzHpiK+ryHh0v//e/FHbtkSZF+apwlPT39oo7zmuAaHx+vzZs365tvvrmi13nyySc1bty43PtpaWmKiYlR586dFRERcaVlwgtlZWVp+fLl6tSpk4KDg+0uB8WE8x6YOO/+59NPpccfNxdD5aheXXrlFalHD3PfU+fd5ZKaNpX27y+8z9XhMLVs3MjSWJ6W8w75hXhFcB01apQWL16s1atXKzo6Onc8MjJSmZmZSklJyTfrevDgQUVGRhb6WqGhoQoNDS0wHhwczD9yfo5zHJg474GJ8+4fcq7oPzs07thhxufPz78cVVGf9+BgE5D79DH3z6zD4TB/vvyyFBZWZJ8S53Cx59XWVQUsy9KoUaO0YMECffXVV6pdu3a+x5s3b67g4GB9+eWXuWNbt27Vnj171KpVq+IuFwAAFBFvuaI/Ls4E5OrV849HRxcMzrCfrTOu8fHxmjt3rj755BOVKVMmt2+1bNmyKlmypMqWLathw4Zp3LhxqlChgiIiIjR69Gi1atWKFQUAAPBhl3JF/803e7aWuDipZ092zvIFtgbXqVOnSpLanrXGxIwZMzRkyBBJ0uuvv66goCD17t1bGRkZ6tKli6ZMmVLMlQIAgKKUnFy0x10pp5Mlr3yBrcHVKuz9gbOEhYVp8uTJmjx5cjFUBAAAikNUVNEeh8Bga48rAAAITLGxpo805yKoszkcUkyMOQ7IQXAFAADFzumU3njDfHx2eM25P3EifabIj+AKAABswRX9uFResY4rAAAITFzRj0tBcAUAALbiin5cLFoFAAAA4BMIrgAAAPAJBFcAAAD4BIIrAAAAfALBFQAAAD6B4AoAAACfQHAFAACATyC4AgAAwCcQXAEAAOATCK4AAADwCQRXAAAA+ASCKwAAAHwCwRUAAAA+geAKAAAAn0BwBQAAgE8guAIAAMAnEFwBAADgEwiuAAAA8AkEVwAAAPiEEnYXAACAHVwuKTFRSk6WoqKk2FjJ6bS7KgDnQ3AFAASchARpzBhp3768seho6Y03pLg4++oCcH60CgAAAkpCgtSnT/7QKklJSWY8IcGeugBcGMEVABAwXC4z02pZBR/LGRs71hwHwPsQXAEAASMxseBM65ksS9q71xwHwPsQXAEAASM5uWiPA1C8CK4AgIARFVW0xwEoXgRXAEDAiI01qwc4HIU/7nBIMTHmOADeh+AKAAgYTqdZ8koqGF5z7k+cyHqugLciuAIAAkpcnDR/vlS9ev7x6GgzzjqugPdiAwIAQMCJi5N69mTnLMDXEFwBAAHJ6ZTatrW7CgCXglYBAAAA+ASCKwAAAHwCwRUAAAA+geAKAAAAn0BwBQAAgE8guAIAAMAnsBwWAAABzOViPVv4DoIrAAABKiFBGjNG2rcvbyw62myLyw5i8Ea0CgAAEIASEqQ+ffKHVklKSjLjCQn21AWcD8EVAIAA43KZmVbLKvhYztjYseY4wJsQXAEACDCJiQVnWs9kWdLeveY4wJsQXAEACDDJyUV7HFBcCK4AAASYqKiiPQ5+5tQp6d13paVL7a6kAIIrAAABJjbWrB7gcBT+uMMhxcSY4xBA/vxTeuIJc/KHDZPGj7e7ogIIrgAABBin0yx5JRUMrzn3J05kPdeAYFnSV19Jd94p1akjvfKKdPSoVLOmWV7Cy67QI7gCABCA4uKk+fOl6tXzj0dHm3HWcfVzJ05I06ZJTZtKHTpICxdKbnfexzt2SI8+6nW/vbABAQAAASouTurZk52zAsr27dLkydKMGVJqqhkrVUoaNEgaNUpq1Mje+i6A4AoAQABzOqW2be2uAh7ldktffCFNmmQuuMpZrLdePRNWhwyRypa1tcSLRXAFAADwR6mp0syZZoZ127a88W7dpNGjpS5dpCDf6holuAIAAPiT33+X3nxTeu8908sqSRER0n33SfHxZqbVR9kas1evXq0ePXqoWrVqcjgcWrhwYb7HhwwZIofDke/WtWtXe4oFAADwVi6X9MknUqdOpk91yhQTWnM+TkqSXn/dp0OrZPOM68mTJ9WsWTPdd999ijvH5Ytdu3bVjBkzcu+HhoYWV3kAAADe7a+/pHfeMeF0924zFhQk3XGHaQdo1+7cC/b6IFuDa7du3dStW7fzHhMaGqrIyMhiqggAAMAHbNxoLraaM8fsdCVJFSpI998vPfSQVKuWreV5itf3uK5cuVJVqlRR+fLl1b59e73wwguqWLHiOY/PyMhQRkZG7v20tDRJUlZWlrKysjxeL4pfznnl/AYWzntg4rwHJs77/2RlyfHJJwqaMkVB33yTO2xdc41c8fGy+vWTSpbMPdaXXOy5dVhWzpoI9nI4HFqwYIF69eqVO/bBBx8oPDxctWvX1o4dO/TUU0+pdOnSWrt2rZznWGRu/PjxmjBhQoHxuXPnKjw83FPlAwAAeERISopqLV+uWsuWqeTRo5Ikd1CQklu10s7bbtNfDRv6fDtAenq6BgwYoNTUVEVERJzzOK8OrmfbuXOn6tatqxUrVqhDhw6FHlPYjGtMTIyOHDly3m8EfFdWVpaWL1+uTp06KTg42O5yUEw4777N5ZLWrpUOHJAiI6VWrS5u0XvOe2AK1PPuWL9eQZMnyzFvnhyZmZIkq0oVuYcNk3v48ILbnvmwtLQ0VapU6YLB1etbBc5Up04dVapUSdu3bz9ncA0NDS30Aq7g4OCA+mEPRJzjwMR59z0JCdKYMdK+fXlj0dHSG29c/DajnPfAFBDnPTNTmjfP9K+uW5c3fuON0ujRcvTtK2doqPxtc7OLPa8+FVz37duno0ePKioqyu5SAACXISFB6tMnb+OeHElJZnz+/IsPr4Bf2b9fmj7d3A4eNGPBwdLdd5vVAW680d76vIStwfXEiRPavn177v1du3bp559/VoUKFVShQgVNmDBBvXv3VmRkpHbs2KHHHntM9erVU5cuXWysGgBwOVwuM9NaWIOaZZkWvbFjpZ49L65twB+4XFJiopScLEVFSbGxgfO1Q+YHf80aM7v68cdSdrYZr1ZNGjFCGj5cqlrV3hq9jK3Bdf369WrXrl3u/XHjxkmSBg8erKlTp2rjxo2aNWuWUlJSVK1aNXXu3FnPP/88a7kCgA9KTMzfHnA2y5L27jXHtW1bbGXZpihaJuCjTp2SPvjABNaffsobv+UWM7t6551mthUF2Bpc27Ztq/NdG/b5558XYzUAAE9KTi7a43wZLRMBas8es1HAf/4j/W91AIWFSffcI40aJV17ra3l+QKf6nEFAPiui708wd8vY6BlIsBYlrRypZld/eQTye024zVrSiNHSsOGSedZnx75EVwBAMUiNta8FZ6UVHhoczjM47GxxV9bcaJlIkCcPCnNni29+ab066954x06mNnVHj34zeQyEFwBoJgE+oU4Tqfp3+zTx4TUM8NrztrpEyf6//eElgk/t2OHNHmy9O67UmqqGStVSho0yATWRo3src/HBdldAAAEgoQEs3V4u3bSgAHmz1q1zHggiYsz/Ztnr5seHR04fZ20TPght1tatky6/Xbpqquk1183obVePfPxvn2mt5XQesWYcQUAD+NCnPzi4kz/ZqDOPtMy4UfS0qSZM80M6x9/5I1362ZmV7t2lYKYIyxKBFcA8CAuxCmc0xm4/Zu0TPiBLVtM7+qsWdKJE2YsIkIaOlSKjzezrvAIfg0AAA+6lAtxEDhomfBBLpe0aJHUqZPUsKGZZT1xwnw8ZYqZQp84kdDqYcy4AoAHcSEOziXQWyZ8xl9/mQutpkyRdu0yY0FBZlWA0aOl9u3zpsrhcQRXAPAgLsTB+QRyy4TX27jRtAO8/77Z6UqSypeX7r/frL9aq5at5QUqgisAeBAX4gA+JDtbWrjQbBawenXeeLNmZna1f38pPNy28kBwBQCP4kIcwAccPiy99ZY0bVpeU7rTafo5Ro+WbrmFdgAvQXAFAA/LuRBnzJj8F2pFR5vQWpwX4gT6JghAPuvXm9nVDz6QMjPNWOXK0oMPmlt0tL31oQCCKwAUA2+4ECchofDw/MYbXMWOAJKZKc2bZwLrunV54zfcYGZX77pLCg21rz6cF8EVAIqJnRfisAkCAt7+/dL06eZ28KAZCw6W7r7bbBbQsqW99eGiEFwBwM+xCQIClmVJa9aY1QHmzzcXX0lStWrSiBHS8OFS1ar21ohLQnAFAD93KZsgsDQT/MKpU6ZvddIk6aef8sZvucW0A9x5p5lthc8huAKAn2MTBASMPXukqVOlt9+Wjh41Y2Fh0oABph3guuvsrQ9XjOAKAH6OTRDg1yxLWrnSzK5+8onkdpvxGjXMRgH33y9VrGhriSg6BFcA8HNsggC/dPKkNHu26V/99de88fbtTTtAjx40bfshgisA+Dk2QYBf2bFDmjxZevddKTXVjJUqJQ0aJMXHS40b21sfPCrI7gIAAJ6XswlC9er5x6OjWQoLPsDtVpUff5SzVy/pqquk1183obVuXfPxvn3SlCmE1gDAjCsABAhv2AQBuCRpadLMmSrx5ptqtW1b3ni3buZiq65dpSDm4AIJwRUAAoidmyAAF+333007wKxZ0okTckjKCg9X0LBhco4ebWZdEZAIrgAAwH4ul/TZZ2Z1gBUr8sYbNpTroYf0ReXK6ty7t5ysvxrQCK4AAMA+f/0lvfOO6VHdvduMBQWZVQFGj5bat5c7O1vZS5bYWia8A8EVAAAUv40bzezqnDlmpytJKl/erLs6cqRUq5at5cE7EVwBAEDxyM6WFi40gXX16rzxZs3M7Gr//lJ4uG3lwfsRXAE/53JxFTkAmx06ZLZhnTbNLF0lmX+I4uJMYL3llrxFhYHzILgCfiwhQRozJu//Ccms2/nGG6zbCaAYrF9vZlc/+EDKzDRjlStLDz4ojRhRcGFh4AIIroCfSkgwOyWdvcVnUpIZZ9F5AB6RmSnNm2cC67p1eeM33GBmV++6SwoNta8++DSCK+CHXC4z01rYvvSWZd6RGzvWLEZP2wCAIrF/vzR9urkdPGjGgoNNUB09WmrZ0t764BcIroAfSkzM3x5wNsuS9u41xxXHYvT02QJ+yrKkNWukN980b+NkZ5vxatVMK8Dw4VLVqvbWCL9CcAX8UHJy0R53JeizBfzQqVOmb3XSJOmnn/LGb77ZzK7GxZnZVqCIEVwBPxQVVbTHXS76bAE/s2ePNHWqWSHg6FEzFhYmDRggjRolXXedvfXB7xFcAT8UG2tmNZOSCu9zdTjM47GxnquBPlvAT1iWtHKlmV395BPJ7TbjNWqYjQLuv1+qWNHWEhE4guwuAEDRczrNW/FSwaURc+5PnOjZwHgpfbYAvNDJk+ZCq2uukdq3lxYsMKG1fXvzdsqOHdLjjxNaUawIroCfioszb8WfvUxidHTxvEXvTX22AC7Bjh3SuHHmH48RI6TNm81uVjkff/mldOedUgnetEXx46cO8GNxceateDuu6PeWPlsAF8HtlpYvN+0AS5bk9fjUrSvFx0tDh0rlytlaIiARXAG/53QWz5JXZ/OGPlsAF5CWJs2aZZaz+uOPvPGuXc3qAF27SkG8OQvvQXAF4BE5fbZ9+piQemZ4La4+WwDnsGWLCauzZkknTpixMmXMzGp8vHT11fbWB5wDv0YB8Bi7+2wBnMHlkj79VOrcWWrYUJo82YTWnI+Tksxvm4RWeDFmXAF4lJ19tgAk/fWX9O670pQp0q5dZszhkHr0MO0AHToUXH4E8FIEVwAeZ1efLRDQNm407QDvv292upKk8uXNuqsPPSTVrm1vfcBlILgCAOAvsrOlhQvN6gCrV+eNX3ONmV0dMMAsbQX4KIIrAAC+7vBhsw3r1Kl5O384naZXZ/Ro6ZZbaAeAX7jki7MGDx6s1Wf+FgcAAOyxfr00eLC54vH//T8TWitXNh/v3i199JFpKie0wk9c8oxramqqOnbsqJo1a2ro0KEaPHiwqp99yTAAAPCMzEyzLMekSdJ33+WN33CDmV3t21cKC7OvPsCDLnnGdeHChUpKStJDDz2kDz/8ULVq1VK3bt00f/58ZWVleaJGALhiLpe0cqX03/+aP10uuysCLtH+/dKzz0o1akj33GNCa3Bw3sfffy8NHEhohV+7rHVcK1eurHHjxumXX37RunXrVK9ePQ0cOFDVqlXTww8/rG3bthV1nQBw2RISpFq1pHbtzLUp7dqZ+wkJdlcGXIBlSWvWSP37SzVrSs89Jx08aNaVe+45ac8es2pAy5Z2VwoUiyvagCA5OVnLly/X8uXL5XQ61b17d23atEmNGjXS66+/XlQ1AsBlS0gwu3flXK+SIynJjBNe4ZVOn5ZmzJBatJBuvln64AOzYkDOx3/+KT39tBQZaXelQLG65B7XrKwsLVq0SDNmzNAXX3yha665RmPHjtWAAQMUEREhSVqwYIHuu+8+Pfzww0VeMABcLJdLGjMm/3azOSzLXK8ydqzZIIENEeAV9uwxKwO8/bZ09KgZCwszbxWMGiVdd5299QE2u+TgGhUVJbfbrf79++v777/XtddeW+CYdu3aqVy5ckVQHgBcvsTEgjOtZ7Isae9ecxwbJMA2lmUarydNkj75RHK7zXiNGtLIkWbDgIoVbS0R8BaXHFxff/119e3bV2Hnaf4uV66cduVsKwcANklOLtrjgCJ18qTpT33zTWnz5rzx9u3N6gA9evBWAHCWSw6uAwcO9EQdAFDkoqKK9jigSOzYIU2ZIr37rpSSYsbCw6VBg0w7QOPGtpYHeDN2zgLgt2JjzbrsSUmF97k6HObx2Njirw0Bxu2Wli837QBLluT9QNata8LqkCESLXbABRFcAfgtp1N64w2zeoDDkT+85mwkNHEi78bCg9LSpFmzTDvAH3/kjXftatoBunaVgq5ogR8goNj6t2X16tXq0aOHqlWrJofDoYULF+Z73LIsPfPMM4qKilLJkiXVsWNH1ogFcEni4swmQ2dv8Bcdbcbj4uypC35uyxYzk1q9uvS3v5nQWqaM+XjrVmnpUql7d0IrcIls/Rtz8uRJNWvWTJMnTy708X/+85/697//rWnTpmndunUqVaqUunTpotOnTxdzpQB8WVyc2bb966+luXPNn7t2EVpRxFwu6dNPpc6dpYYNpcmTpRMn8j5OSjJvAVx9td2VAj7L1laBbt26qVu3boU+ZlmWJk6cqL///e/q2bOnJOm9995T1apVtXDhQvXr1684SwXg45xOlryChxw7Jr3zjrngKmdFHYfDrAowerTUoUNebwqAK+K1Pa67du3SgQMH1LFjx9yxsmXLqmXLllq7du05g2tGRoYyMjJy76elpUkyGydkZWV5tmjYIue8cn4DC+c9MHnVed+0Sc4pU+SYO1eOU6ckSVb58nIPHSr3gw9KtWub47KzbSzSP3jVeYdHXOy59drgeuDAAUlS1apV841XrVo197HCvPTSS5owYUKB8S+++ELh4eFFWyS8yvLly+0uATbgvAcmu867w+VS5Lp1qvPZZ6r066+546m1amnnbbcpqU0buUJDpd9/NzcUKf6++6/09PSLOs5rg+vlevLJJzVu3Ljc+2lpaYqJiVHnzp1zt6SFf8nKytLy5cvVqVMnBQcH210OignnPTDZdt4PH1bQO+8o6K235PjfdmyW0ymrVy+5R45U+C23qInDoSbFV1FA4e+7/8t5h/xCvDa4RkZGSpIOHjyoqDNWBz948GCh28zmCA0NVWhoaIHx4OBgftj9HOc4MHHeA1Oxnff1681SVh98IOW0oVWuLA0fLseIEXJER9t7lXOA4e+7/7rY8+q1f99q166tyMhIffnll7ljaWlpWrdunVq1amVjZQAAv5aZaZafaNVKuuEGsw5rRobUooX5eM8e6YUXzJpqAIqVrTOuJ06c0Pbt23Pv79q1Sz///LMqVKigGjVqaOzYsXrhhRd01VVXqXbt2nr66adVrVo19erVy76iAQD+KTlZmj7d3HKupQgOlvr2NasDtGzJ6gCAzWwNruvXr1e7du1y7+f0pg4ePFgzZ87UY489ppMnT2r48OFKSUnRLbfcomXLliksLMyukgEA/sSypLVrTTvAvHl5KwBERUkjRkjDh0v/a10DYD9bg2vbtm1lFbaB+P84HA4999xzeu6554qxKgCA3zt92vStvvmmtGFD3vjNN5sdr+LipJAQ++oDUCivvTgLAIAit2ePNG2a9Pbb0pEjZiw0VBowwATW66+3tz4A50VwBQD4N8uSVq2SJk2SFi6U3G4zHhMjjRwp3X+/VKmSrSUCuDgEVwCAfzp5Unr/fdMOsHlz3ni7duZiqx49pBL8Nwj4Ev7GAgD8y86d0uTJ0rvvSikpZiw8XBo40LQDNGGbAMBXEVwBAL7P7ZaWLzftAEuWmPYASapbV4qPl4YMkcqXt7VEAFeO4AoA8F1paWZTgDfflP74I2+8SxfTDtCtmxTktXvtALhEBFcAgO/ZskV66y1p5kzpxAkzVqaMNHSoueCqfn1bywPgGQRXAIBvcLnkWLxYrSZMUPAvv+SNN2hgelcHDTLhFYDfIrgCALzbsWPmQqvJk1Vi1y5VkWQ5HHL06GHaATp0YCtWIEAQXAEA3mnTJnOx1fvvS6dOSZKs8uW1/dZbVeuVVxR89dU2FwiguBFcAQDeIzvbbBLw5ptm04Ac11wjjR6t7L599dvKlapVu7ZtJQKwD8EVAGC/w4fNNqxTp0r79pkxp1O6807TDhAba9oBsrLsrROArQiuAAD7rF9vZlc/+EDKyDBjlStLw4dLI0ZI0dH21gfAqxBcAQDFKzNTmj/f9K9+913eeIsWZnb1rruksDD76gPgtQiuKHIul5SYKCUnS1FR5h0+p9PuqgDYLjlZmjZNmj5dOnjQjAUHm6A6erR0442sDgDgvAiuKFIJCdKYMXktapJ5p++NN6S4OPvqAmATy5LWrjWzq/Pnm4uvJPNb7YgRpiUgMtLeGgH4DIIrikxCgtSnT94W4TmSksz4/PmEVyBgnD5t+lYnTZJ+/DFv/OabzWYBcXFSSIh99QHwSQRXFAmXy8y0nh1aJTPmcEhjx0o9e9I2APi1PXtMO8Dbb0tHjpix0FBpwAATWK+/3t76APg0giuKRGJi/vaAs1mWtHevOa5t22IrC0BxsCyz5uqkSWYNVrfbjNeoIY0cKQ0bJlWqZGuJAPwDwRVFIjm5aI8D4ANOnjS7Wr35prR5c954u3bmYqsePaQS/DcDoOjwLwqKRFRU0R4HwIvt3ClNniy9+66UkmLGwsOlgQNNO0CTJraWB8B/EVxRJGJjzeoBSUmF97k6HObx2Njirw1AEXC7pRUrTDvAZ5/l/UWvW1eKj5eGDJHKl7e1RAD+j+CKIuF0miWv+vQxIfXM8JqzLOPEiVyYBfictDRp1iwzw7p1a954ly6mHaBbNykoyL76AAQU/rVBkYmLM0teVa+efzw6mqWwAJ+zdasJptHR0t/+Zu6XKWM+3rJFWrZMuu02QiuAYsWMK4pUXJxZ8oqdswAf5HJJS5eadoAvvsgbb9DA9K4OGmTCKwDYhOCKIud0suQV4FOOHTMXWk2ZYi68kkyPT48eJrB27MhWrAC8AsEV8CCXi9lneLFNm8xSVu+/L6Wnm7Hy5c26qyNHSrVr21sfAJyF4Ap4SEKC2U3szI0ZoqPNRWz0+8I22dnSokWmHWDlyrzxpk1NT+s995ilrQDACxFcAQ9ISDArLJy9NFhSkhnnYjUUuyNHzDasU6eabewkM/1/550msMbG0g4AwOsRXIEi5nKZmdbC1rO1LJMNxo41F7HRNgCP27DBzK5+8IGUkWHGKlWShg+XRoyQYmLsrQ8ALgHBFShiiYn52wPOZllmwisxkYvY4CGZmdLHH5vAunZt3niLFmZ29a67pLAw++oDgMtEcAWKWHJy0R4HXLTkZGn6dHM7cMCMBQdLffuawNqyJe0AAHwawRUoYlFRRXsccF6WJX33nZldnT9fysoy41FRphVg+HApMtLeGgGgiBBcgSIWG2tWD0hKKrzP1eEwj8fGFn9t8COnT5u+1TffNH2sOVq3NrOrcXFSSIh99QGABxBcgSLmdJolr/r0MSH1zPCa8y7txIlcmIXLtHevWRng7bfNSgGSFBoq9e9vAuv119tbHwB4EJtMAx4QF2feta1ePf94dDRLYeEyWJZZc7VPH7MpwEsvmdAaE2M+3rdPmjGD0ArA7zHjCnhIXJxZ8oqds3DZTp6U5swx7QCbNuWNt2tntmK94w6pBP+MAwgc/IsHeJDTyZJXuAw7d0qTJ0vvviulpJix8HBp4EATWJs0sbU8ALALwRUAvIHbLa1YYVYH+OyzvOboOnVMWB0yRCpf3tYSAcBuBFcAsFNamjRrlplh3bo1b7xLF3OxVbduUhCXIwCARHAFAHts3Wp6V2fNko4fN2NlykhDh0ojR0r169tbHwB4IYIrABQXl0tautS0A3zxRd54gwamHWDQIBNeAQCFIrgCgKcdO2YutJoyxVx4JZlFfW+/3bQDdOzIVqwAcBEIrgDgKZs2mXaA99+X0tPNWPny0n33mXaAOnXsrQ8AfAzBFX7L5WINVdggO1v65BPTDrBqVd5406ZmdvWee8zSVgCAS0ZwhV9KSJDGjDEbCuWIjjZbsbJrFTziyBGzDevUqWZbVsn8pnTnnSawxsbSDgAAV4jgCr+TkGB2xsxZBjNHUpIZZ8tVFKkNG8zs6gcfSBkZZqxSJWn4cGnECLMtKwCgSBBc4VdcLjPTenZolcyYwyGNHWu2YqVtAJctM1P6+GMTWNeuzRtv3tzMrt59txQWZl99AOCnCK7wK4mJ+dsDzmZZ5l3cxES2YsVlSE6Wpk83twMHzFhwsNS3rwmsLVvSDgAAHkRwhV9JTi7a4wBZlvTdd2Z2df58KSvLjEdGmlaABx80HwMAPI7gCr8SFVW0xyGAnT4tffihCawbNuSNt25tZlfj4qSQEPvqA4AARHCFX4mNNasHJCUV3ufqcJjHY2OLvzb4iL17zcoAb79tVgqQpNBQqX9/E1ivv97e+gAggBFc4VecTrPkVZ8+JqSeGV5zWg8nTuTCLJzFsqTVq83s6sKF5io/yawIMHKkdP/9ZqUAAICtguwuAChqcXGmFbF69fzj0dEshYWznDwpvfWW1KyZuVrv449NaM35eOdO6YknCK0A4CWYcYVfioszS16xcxYKtXOnNGWK9M47UkqKGQsPl+69Vxo1yuxyBQDwOgRX+C2nkyWvcAbLklasMO0Aixfn9ZHUqSPFx0tDh0rly9tbIwDgvLy6VWD8+PFyOBz5bg0aNLC7LK/mckkrV0r//a/5M6dVDwhYx49Lb74pNWwode4sffqpCa1dupiP//hDGjeO0AoAPsDrZ1wbN26sFStW5N4vUcLrS7ZNQoLZNerMBfijo83FSvR1IuBs3SpNnizNnGnCqySVKSMNHmzaAerXt7U8AMCl8/oUWKJECUWyuPcFJSSYK+nPXgIqKcmMc1ESAoLLJS1datoBvvgib7x+fRNWBw2SIiLsqw8AcEW8Prhu27ZN1apVU1hYmFq1aqWXXnpJNWrUOOfxGRkZysjIyL2flpYmScrKylJWzo43fsblkh5//Nxbozsc5sLo7t398+KknPPqr+cXhct33o8dU9CsWQqaNk2OnTslSZbDIat7d7nj42V16JC3Hho/Jz6Nv++BifPu/y723Dosq7Bl2r3D0qVLdeLECdWvX1/JycmaMGGCkpKStHnzZpUpU6bQ54wfP14TJkwoMD537lyFh4d7umQAxajMn3+qzmefKXrVKpX43y+smaVKaU/HjtrVrZvSebcGAHxCenq6BgwYoNTUVEWc550xrw6uZ0tJSVHNmjX12muvadiwYYUeU9iMa0xMjI4cOXLeb4Qvmz9fOse3I5933jFtA/4mKytLy5cvV6dOnRQcHGx3OfC07Gw5Pv1UjsmT5Vy9OnfYatJErvh4Wf36SaVK2VggPIm/74GJ8+7/0tLSVKlSpQsGV69vFThTuXLldPXVV2v79u3nPCY0NFShoaEFxoODg/32hz0qSjp16uKO89NvgST/PseQ2X717bfNdqx790qS3EFBUs+eChozRo42bVQipx0Afo+/74GJ8+6/Lva8+lRwPXHihHbs2KGBAwfaXYpXiY01qwckJRW8OEsyrX3R0eY4wOds2GCWs/rvf6Wcd1MqVZJr2DCtqFdP7QcPVhD/kQFAQPDqdVwfeeQRrVq1Srt379aaNWt05513yul0qn///naX5lWcTrPklZR3/UmOnPsTJ/rnhVnwU5mZJqi2bi21aGGWtMrIkJo3Nx/v3Sv388/rdOXKdlcKAChGXj3jum/fPvXv319Hjx5V5cqVdcstt+i7775TZf6zKiAuzvS6FraO68SJLIUFH3HggDR9ujRtmvlYMv0tfftKo0dLLVuyOgAABDCvDq4ffPCB3SX4lLg4qWdPKTFRSk42Pa2xscy0wstZlvTdd2bt1fnz8wJpZKQ0YoT04IPmYwBAwPPq4IpL53RKbdvaXQVwEU6flj780ATWDRvyxlu3NrOrcXFSSIh99QEAvA7BFUDx2rvXrAzw9ttmpQBJCg2V+vc3gfX66+2tDwDgtQiuADzPsqTVq83s6sKFZrs3SYqJkUaOlO6/X6pUydYSAQDej+AKwHNOnpTmzDHLWW3alDferp00apR0xx1SCf4ZAgBcHP7HAFD0du6Upkwx27WlpJix8HBp4EATWJs0sbU8AIBvIrgCKBqWJa1YYdoBFi/O2w2jTh0pPl4aOlQqX97eGgEAPo3gCuDKHD8uzZpl2gG2bs0b79LFzK5268aabACAIkFwBXB5tm6VJk82O1kdP27GypSRhgwxM6z169tZHQDADxFcAVw8t1tassS0A3zxRd54/fpmdnXwYBNeAQDwAIIrgAtLSZHefdfMsO7cacYcDun2283aqx075m3FCgCAhxBcAZzb5s2md3X2bCk93YyVKycNG2bWX61Tx9byAACBheAKIL/sbGnRItMOsHJl3njTpmZ29Z57zNJWAAAUM4IrAOPIEek//zHrr+7da8acTqlXLxNY27ShHQAAYCuCKxDofvzRzK7+979SRoYZq1RJGj5cGjHCbMsKAIAXILgCgSgzU0pIMIF1zZq88ebNzezq3XdLYWH21QcAQCEIrkAgOXBAmj7d3JKTzVhwsNS3rwmsLVvSDgAA8FoEV8DfWZa0bp2ZXZ03T8rKMuORkaYVYPhwKSrK3hoBALgIBFfAX50+LX34oVnOav36vPFWrczsau/eUkiIffUBAHCJCK6Av9m3T5o6VXrrLbNSgCSFhkr9+pnA2ry5vfUBAHCZCK6AP7AsafVqM7u6YIHkcpnxmBjpoYek+++XKle2t0YAAK4QwRXwZenp0pw5JrBu3Jg33ratmV294w6pBH/NAQD+gf/RAF+0a5c0ebL0zjtSSooZCw+X7r1XGjXK7HIFAICfIbgCvsKypBUrzOoAixeb+5JUp44UHy8NHSqVL29vjQAAeBDBFfB2x49Ls2aZdoCtW/PGO3c27QDdupmtWQEA8HMEV8Bbbd1q2gFmzjThVZLKlJGGDDEzrPXr21kdAADFjuAKeBO3W1qyxLQDfPFF3nj9+qZ3ddAgKSLCvvoAALARwRXwBikp0rvvmhnWnTvNmMMh3XabaQfo2FEKCrK1RAAA7EZwLUIul5SYaLaAj4qSYmNpPcQFbN5seldnzzZLW0lSuXLSsGHSyJHmwisAACCJ4FpkEhKkMWPMpkU5oqOlN96Q4uLsqwteKDtbWrTItAOsXJk33qSJmV295x6pVCnbygMAwFsRXItAQoLUp0/e6kQ5kpLM+Pz5hFfIbL/69ttmO9a9e82Y0yn16mUCa5s2pj0AAAAUiuB6hVwuM9N6dmiVzJjDIY0dK/XsSdtAwPrxRzO7+t//ShkZZqxSJemBB8x2rDEx9tYHAICPILheocTE/O0BZ7MsM7mWmGh24USAyMyUPv7Y9K+uWZM33ry5mV29+24pLMy++gAA8EEE1yuUnFy0x8HHHTggTZ9ubjknvUQJqW9fE1hvuol2AAAALhPB9QpFRRXtcfBBliV9951pB5g/X8rKMuORkdKIEdLw4fwAAABQBAiuVyg21qwekJRUeJ+rw2Eej40t/trgYadPSx9+aALrhg15461amdnV3r2lkBD76gMAwM8QXK+Q02mWvOrTx4TUM8NrzjvCEydyYZZf2bfPrAzw1ltmpQBJCg2V+vc3u1s1b25vfQAA+Cm24ikCcXHmHeLq1fOPR0ezFJbfsCxp1SrzG0qtWtKLL5rQGh1tPt67V5oxg9AKAIAHMeNaROLizJJX7JzlZ9LTpTlzTDvApk15423bmtnVnj3NxVcAAMDj+B+3CDmdLHnlN3btkiZPlt55R0pJMWMlS0oDB5rA2rSpreUBABCICK5ADsuSVqwws6uLF+c1LNeuLcXHS/fdJ5Uvb2+NAAAEMIIrcPy49N57ZrOALVvyxjt3NqsDdOtGzwcAAF6A4IrA9ccfJqzOnGnCqySVLi0NGWJmWBs0sLM6AABwFoIrAovbLS1datoBPv88b7x+fdO7OmiQFBFhX30AAOCcCK4IDCkp0rvvmguudu40Yw6HdNttph2gY0cpiNXhAADwZgRX+LfNm007wOzZZmkrSSpXzlxoNXKkVLeureUBAICLR3CF/8nOlhYtMu0AK1fmjTdpYmZX77lHKlXKtvIAAMDlIbjCfxw5Is2aZbZj3bPHjAUFSb16mcB66615+/ACAACfQ3CF7/vpJ107aZJKfPONlJFhxipWlIYPl0aMkGrUsLc+AABQJAiu8E1ZWdLHH0uTJil4zRrVzBm//nozu9qvnxQWZmeFAACgiBFc4VsOHJDeekuaNk1KTpYkWSVKKKlVK0X+4x8qccsttAMAAOCnCK7wfpYlrVtnLraaN8/MtkpSZKT04IPKvu8+bfjpJ3W/6SZCKwAAfozgCu91+rT00UcmsK5fnzfeqpVpB+jdWwoJMUH2p5/sqxMAABQLgiu8z759ZmWAt9+WDh82Y6Ghpm919GipeXN76wMAALYguMI7WJaUmGhmVxcskFwuMx4dbTYKuP9+qXJle2sEAAC2IrjCXunp0pw5ZnerjRvzxm+91cyu9uwpleDHFAAAEFxhl127pClTpHfekY4dM2MlS0oDB0qjRklNm9pbHwAA8DpBdhdwMSZPnqxatWopLCxMLVu21Pfff293SbgcliUtX25mUevWlV591YTW2rXNx0lJ0vTphFYAAFAorw+uH374ocaNG6dnn31WP/74o5o1a6YuXbro0KFDdpeGi3X8uDR5stSokdS5s7RokQmxnTtLn34qbdsm/d//SeXL210pAADwYl7fKvDaa6/pgQce0NChQyVJ06ZN02effaZ3331XTzzxRIHjMzIylJGz7aektLQ0SVJWVpayctb/RPH44w8FTZ2qoPfek+P4cUmSVbq03IMGyf3QQ1L9+uY4t9vcLlPOeeX8BhbOe2DivAcmzrv/u9hz67Asy/JwLZctMzNT4eHhmj9/vnr16pU7PnjwYKWkpOiTTz4p8Jzx48drwoQJBcbnzp2r8PBwT5YLSXK7VfXHH1X7s89U9Yy1VY9Xr65d3btrb7t2yuY8AACAM6Snp2vAgAFKTU1VRETEOY/z6hnXI0eOyOVyqWrVqvnGq1atqi1bthT6nCeffFLjxo3LvZ+WlqaYmBh17tz5vN8IXKGUFAXNnKmgadPk2LlTkmQ5HLK6dZM7Pl5hHTqoYVCQGnrgU2dlZWn58uXq1KmTgoODPfAZ4I0474GJ8x6YOO/+L+cd8gvx6uB6OUJDQxUaGlpgPDg4mB92T9i82SxlNXu2WdpKksqVk4YNk2PkSDnq1Cm2RmrOcWDivAcmzntg4rz7r4s9r14dXCtVqiSn06mDBw/mGz948KAiIyNtqgrKzjYXVU2aJH39dd54kyZm7dV77pFKlbKvPgAA4Je8elWBkJAQNW/eXF9++WXumNvt1pdffqlWrVrZWFmAOnJEevlls5RVXJwJrUFBeR9v3CgNH05oBQAAHuHVM66SNG7cOA0ePFgtWrTQjTfeqIkTJ+rkyZO5qwygGPz0k5ldnTtXylmxoVIl6YEHpBEjpBo17K0PAAAEBK8PrnfffbcOHz6sZ555RgcOHNC1116rZcuWFbhgC0UsK0v6+GMTWNesyRu//nrTDtCvnxQWZl99AAAg4Hh9cJWkUaNGadSoUXaXERgOHJDeekuaNk1KTjZjJUpIffuawHrTTZLDYW+NAAAgIPlEcIWHWZa0bp1ZHeCjj8xsqyRFRkoPPmhuUVH21ggAAAIewTWQZWRIH35o2gHWr88bv+kmM7vap48UEmJffQAAAGcguAaifftMK8Bbb0mHD5uxkBCpf39p1CipRQt76wMAACgEwTVQWJaUmGhmVxcskFwuMx4dLT30kFkhoHJle2sEAAA4D4Krv0tPN8tYvfmm9MsveeO33mraAXr2NBdfAQAAeDkSi7/atUuaMkV65x3p2DEzVrKkdO+9ph3gmmvsrQ8AAOASEVz9iWVJX35p2gE+/dTcl6RataT4eOm++6QKFWwtEQAA4HIRXP3B8ePSe++ZdoAtW/LGO3Uy7QDdu0tOp331AQAAFAGCqy/74w9p8mRp5kwpLc2MlS4tDR5sZlgbNrS1PAAAgKJEcPU1bre0bJlpB1i2LG/86qtN7+rgwVJEhH31AQAAeAjB1VekpEgzZpgZ1h07zJjDYdoARo82bQFBQbaWCAAA4EkEV2/366+md3X2bOnkSTNWtqy50Co+Xqpb1976AAAAignB1RtlZ5tVASZNkr7+Om+8cWMzu3rvvVKpUvbVBwAAYAOCqzc5elT6z3/M+qt79pixoCCpVy/Tv9q2rWkPAAAACEAEV2/w00+mHWDuXOn0aTNWsaLZhvWhh6QaNeytDwAAwAsQXO2SlSUlJJh2gG+/zRu/7jrTDtCvn9npCgAAAJIIrsXv4EFp+nRp2jQpOdmMlSgh9eljAmurVrQDAAAAFILgWlzWrTOzqx99ZGZbJalqVenBB82tWjV76wMAAPByBFdPysgwQXXSJOmHH/LGb7rJXGzVt68UEmJffQAAAD6E4OoJ+/aZVoC33pIOHzZjISGmb3X0aKlFC3vrAwAA8EEE16J08KAJpgkJkstlxqKjzcoA998vValib30AAAA+jOBalMqVk1atMqG1TRsTYnv1MhdfAQAA4IqQqIpSaKj09ttSzZpSs2Z2VwMAAOBXCK5F7Y477K4AAADALwXZXQAAAABwMQiuAAAA8AkEVwAAAPgEgisAAAB8AsEVAAAAPoHgCgAAAJ9AcAUAAIBPILgCAADAJxBcAQAA4BMIrgAAAPAJBFcAAAD4BIIrAAAAfALBFQAAAD6B4AoAAACfUMLuAjzNsixJUlpams2VwFOysrKUnp6utLQ0BQcH210OignnPTBx3gMT593/5eS0nNx2Ln4fXI8fPy5JiomJsbkSAAAAnM/x48dVtmzZcz7usC4UbX2c2+3W/v37VaZMGTkcDrvLgQekpaUpJiZGe/fuVUREhN3loJhw3gMT5z0wcd79n2VZOn78uKpVq6agoHN3svr9jGtQUJCio6PtLgPFICIign/QAhDnPTBx3gMT592/nW+mNQcXZwEAAMAnEFwBAADgEwiu8HmhoaF69tlnFRoaancpKEac98DEeQ9MnHfk8PuLswAAAOAfmHEFAACATyC4AgAAwCcQXAEAAOATCK4AAADwCQRX+KyXXnpJN9xwg8qUKaMqVaqoV69e2rp1q91loRi9/PLLcjgcGjt2rN2lwMOSkpJ07733qmLFiipZsqSaNm2q9evX210WPMjlcunpp59W7dq1VbJkSdWtW1fPP//8Bfeyh3/z+52z4L9WrVql+Ph43XDDDcrOztZTTz2lzp0767ffflOpUqXsLg8e9sMPP2j69Om65ppr7C4FHnbs2DHdfPPNateunZYuXarKlStr27ZtKl++vN2lwYNeeeUVTZ06VbNmzVLjxo21fv16DR06VGXLltXf/vY3u8uDTVgOC37j8OHDqlKlilatWqU2bdrYXQ486MSJE7r++us1ZcoUvfDCC7r22ms1ceJEu8uChzzxxBP69ttvlZiYaHcpKEa33367qlatqnfeeSd3rHfv3ipZsqTef/99GyuDnWgVgN9ITU2VJFWoUMHmSuBp8fHxuu2229SxY0e7S0ExWLRokVq0aKG+ffuqSpUquu666/T222/bXRY8rHXr1vryyy/1xx9/SJJ++eUXffPNN+rWrZvNlcFOtArAL7jdbo0dO1Y333yzmjRpYnc58KAPPvhAP/74o3744Qe7S0Ex2blzp6ZOnapx48bpqaee0g8//KC//e1vCgkJ0eDBg+0uDx7yxBNPKC0tTQ0aNJDT6ZTL5dI//vEP3XPPPXaXBhsRXOEX4uPjtXnzZn3zzTd2lwIP2rt3r8aMGaPly5crLCzM7nJQTNxut1q0aKEXX3xRknTddddp8+bNmjZtGsHVj3300UeaM2eO5s6dq8aNG+vnn3/W2LFjVa1aNc57ACO4wueNGjVKixcv1urVqxUdHW13OfCgDRs26NChQ7r++utzx1wul1avXq0333xTGRkZcjqdNlYIT4iKilKjRo3yjTVs2FAff/yxTRWhODz66KN64okn1K9fP0lS06ZN9eeff+qll14iuAYwgit8lmVZGj16tBYsWKCVK1eqdu3adpcED+vQoYM2bdqUb2zo0KFq0KCBHn/8cUKrn7r55psLLHX3xx9/qGbNmjZVhOKQnp6uoKD8l+I4nU653W6bKoI3ILjCZ8XHx2vu3Ln65JNPVKZMGR04cECSVLZsWZUsWdLm6uAJZcqUKdDDXKpUKVWsWJHeZj/28MMPq3Xr1nrxxRd111136fvvv9dbb72lt956y+7S4EE9evTQP/7xD9WoUUONGzfWTz/9pNdee0333Xef3aXBRiyHBZ/lcDgKHZ8xY4aGDBlSvMXANm3btmU5rACwePFiPfnkk9q2bZtq166tcePG6YEHHrC7LHjQ8ePH9fTTT2vBggU6dOiQqlWrpv79++uZZ55RSEiI3eXBJgRXAAAA+ATWcQUAAIBPILgCAADAJxBcAQAA4BMIrgAAAPAJBFcAAAD4BIIrAAAAfALBFQAAAD6B4AoAAACfQHAFAACATyC4AgAAwCcQXAEAAOATCK4A4AMOHz6syMhIvfjii7lja9asUUhIiL788ksbKwOA4uOwLMuyuwgAwIUtWbJEvXr10po1a1S/fn1de+216tmzp1577TW7SwOAYkFwBQAfEh8frxUrVqhFixbatGmTfvjhB4WGhtpdFgAUC4IrAPiQU6dOqUmTJtq7d682bNigpk2b2l0SABQbelwBwIfs2LFD+/fvl9vt1u7du+0uBwCKFTOuAOAjMjMzdeONN+raa69V/fr1NXHiRG3atElVqlSxuzQAKBYEVwDwEY8++qjmz5+vX375RaVLl9att96qsmXLavHixXaXBgDFglYBAPABK1eu1MSJEzV79mxFREQoKChIs2fPVmJioqZOnWp3eQBQLJhxBQAAgE9gxhUAAAA+geAKAAAAn0BwBQAAgE8guAIAAMAnEFwBAADgEwiuAAAA8AkEVwAAAPgEgisAAAB8AsEVAAAAPoHgCgAAAJ9AcAUAAIBP+P8d+gp+DMIijQAAAABJRU5ErkJggg==\n"
                },
                "metadata": {}
              },
              {
                "output_type": "display_data",
                "data": {
                  "text/plain": "0"
                },
                "metadata": {}
              }
            ]
          }
        },
        "5e4130f4e78f4131b80fefd7020e03e8": {
          "model_module": "@jupyter-widgets/base",
          "model_name": "LayoutModel",
          "model_module_version": "1.2.0",
          "state": {
            "_model_module": "@jupyter-widgets/base",
            "_model_module_version": "1.2.0",
            "_model_name": "LayoutModel",
            "_view_count": null,
            "_view_module": "@jupyter-widgets/base",
            "_view_module_version": "1.2.0",
            "_view_name": "LayoutView",
            "align_content": null,
            "align_items": null,
            "align_self": null,
            "border": null,
            "bottom": null,
            "display": null,
            "flex": null,
            "flex_flow": null,
            "grid_area": null,
            "grid_auto_columns": null,
            "grid_auto_flow": null,
            "grid_auto_rows": null,
            "grid_column": null,
            "grid_gap": null,
            "grid_row": null,
            "grid_template_areas": null,
            "grid_template_columns": null,
            "grid_template_rows": null,
            "height": null,
            "justify_content": null,
            "justify_items": null,
            "left": null,
            "margin": null,
            "max_height": null,
            "max_width": null,
            "min_height": null,
            "min_width": null,
            "object_fit": null,
            "object_position": null,
            "order": null,
            "overflow": null,
            "overflow_x": null,
            "overflow_y": null,
            "padding": null,
            "right": null,
            "top": null,
            "visibility": null,
            "width": null
          }
        },
        "f0423784d39b43f9ac04c5564a58f70c": {
          "model_module": "@jupyter-widgets/base",
          "model_name": "LayoutModel",
          "model_module_version": "1.2.0",
          "state": {
            "_model_module": "@jupyter-widgets/base",
            "_model_module_version": "1.2.0",
            "_model_name": "LayoutModel",
            "_view_count": null,
            "_view_module": "@jupyter-widgets/base",
            "_view_module_version": "1.2.0",
            "_view_name": "LayoutView",
            "align_content": null,
            "align_items": null,
            "align_self": null,
            "border": null,
            "bottom": null,
            "display": null,
            "flex": null,
            "flex_flow": null,
            "grid_area": null,
            "grid_auto_columns": null,
            "grid_auto_flow": null,
            "grid_auto_rows": null,
            "grid_column": null,
            "grid_gap": null,
            "grid_row": null,
            "grid_template_areas": null,
            "grid_template_columns": null,
            "grid_template_rows": null,
            "height": null,
            "justify_content": null,
            "justify_items": null,
            "left": null,
            "margin": null,
            "max_height": null,
            "max_width": null,
            "min_height": null,
            "min_width": null,
            "object_fit": null,
            "object_position": null,
            "order": null,
            "overflow": null,
            "overflow_x": null,
            "overflow_y": null,
            "padding": null,
            "right": null,
            "top": null,
            "visibility": null,
            "width": null
          }
        },
        "ad6ab01a9c40443396a98ce75adf6360": {
          "model_module": "@jupyter-widgets/controls",
          "model_name": "SliderStyleModel",
          "model_module_version": "1.5.0",
          "state": {
            "_model_module": "@jupyter-widgets/controls",
            "_model_module_version": "1.5.0",
            "_model_name": "SliderStyleModel",
            "_view_count": null,
            "_view_module": "@jupyter-widgets/base",
            "_view_module_version": "1.2.0",
            "_view_name": "StyleView",
            "description_width": "",
            "handle_color": null
          }
        },
        "8bb96bfccfd14d6c8c7a2109a8cc95ac": {
          "model_module": "@jupyter-widgets/base",
          "model_name": "LayoutModel",
          "model_module_version": "1.2.0",
          "state": {
            "_model_module": "@jupyter-widgets/base",
            "_model_module_version": "1.2.0",
            "_model_name": "LayoutModel",
            "_view_count": null,
            "_view_module": "@jupyter-widgets/base",
            "_view_module_version": "1.2.0",
            "_view_name": "LayoutView",
            "align_content": null,
            "align_items": null,
            "align_self": null,
            "border": null,
            "bottom": null,
            "display": null,
            "flex": null,
            "flex_flow": null,
            "grid_area": null,
            "grid_auto_columns": null,
            "grid_auto_flow": null,
            "grid_auto_rows": null,
            "grid_column": null,
            "grid_gap": null,
            "grid_row": null,
            "grid_template_areas": null,
            "grid_template_columns": null,
            "grid_template_rows": null,
            "height": null,
            "justify_content": null,
            "justify_items": null,
            "left": null,
            "margin": null,
            "max_height": null,
            "max_width": null,
            "min_height": null,
            "min_width": null,
            "object_fit": null,
            "object_position": null,
            "order": null,
            "overflow": null,
            "overflow_x": null,
            "overflow_y": null,
            "padding": null,
            "right": null,
            "top": null,
            "visibility": null,
            "width": null
          }
        },
        "a6ca41b3c4f2437da9a07c78c1b384eb": {
          "model_module": "@jupyter-widgets/controls",
          "model_name": "SliderStyleModel",
          "model_module_version": "1.5.0",
          "state": {
            "_model_module": "@jupyter-widgets/controls",
            "_model_module_version": "1.5.0",
            "_model_name": "SliderStyleModel",
            "_view_count": null,
            "_view_module": "@jupyter-widgets/base",
            "_view_module_version": "1.2.0",
            "_view_name": "StyleView",
            "description_width": "",
            "handle_color": null
          }
        },
        "98edae458b534ab8b58aa3de9816a586": {
          "model_module": "@jupyter-widgets/base",
          "model_name": "LayoutModel",
          "model_module_version": "1.2.0",
          "state": {
            "_model_module": "@jupyter-widgets/base",
            "_model_module_version": "1.2.0",
            "_model_name": "LayoutModel",
            "_view_count": null,
            "_view_module": "@jupyter-widgets/base",
            "_view_module_version": "1.2.0",
            "_view_name": "LayoutView",
            "align_content": null,
            "align_items": null,
            "align_self": null,
            "border": null,
            "bottom": null,
            "display": null,
            "flex": null,
            "flex_flow": null,
            "grid_area": null,
            "grid_auto_columns": null,
            "grid_auto_flow": null,
            "grid_auto_rows": null,
            "grid_column": null,
            "grid_gap": null,
            "grid_row": null,
            "grid_template_areas": null,
            "grid_template_columns": null,
            "grid_template_rows": null,
            "height": null,
            "justify_content": null,
            "justify_items": null,
            "left": null,
            "margin": null,
            "max_height": null,
            "max_width": null,
            "min_height": null,
            "min_width": null,
            "object_fit": null,
            "object_position": null,
            "order": null,
            "overflow": null,
            "overflow_x": null,
            "overflow_y": null,
            "padding": null,
            "right": null,
            "top": null,
            "visibility": null,
            "width": null
          }
        }
      }
    }
  },
  "nbformat": 4,
  "nbformat_minor": 5
}